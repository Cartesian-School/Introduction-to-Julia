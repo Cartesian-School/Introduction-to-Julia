{
 "cells": [
  {
   "cell_type": "markdown",
   "metadata": {},
   "source": [
    "# **🚀 Структуры данных (Data structures). Урок Третий.**\n",
    "\n",
    "Как только мы начнем работать с большим количеством фрагментов данных одновременно, нам будет удобно хранить данные в таких структурах, как массивы или словари (вместо того, чтобы полагаться только на переменные).\n",
    "\n",
    "## **📌 Темы:**\n",
    "\n",
    "1. **Кортежи (Tuples).**\n",
    "   \n",
    "2. **Словари (Dictionaries).**\n",
    "   \n",
    "3. **Массивы (Arrays).**\n",
    "\n",
    "<br>\n",
    "\n",
    "В общем, и кортежи, и массивы - это упорядоченные последовательности элементов (поэтому мы можем индексировать их). Словари и массивы могут изменяться.\n",
    "Ниже, мы рассмотрим это подробнее !\n",
    "\n",
    "<br>\n",
    "\n",
    "---\n",
    "\n",
    "<br>\n"
   ]
  },
  {
   "cell_type": "markdown",
   "metadata": {},
   "source": [
    "### **1️⃣ Кортежи (Tuples)**\n",
    "\n",
    "\n",
    "Мы можем создать **кортеж**, заключив упорядоченную коллекцию элементов в `( )`.\n",
    "\n",
    "**Синтаксис:** <br>\n",
    "```julia\n",
    "(item1, item2, ...)\n",
    "```\n"
   ]
  },
  {
   "cell_type": "code",
   "execution_count": null,
   "metadata": {},
   "outputs": [
    {
     "data": {
      "text/plain": [
       "(\"penguins\", \"cats\", \"sugargliders\")"
      ]
     },
     "metadata": {},
     "output_type": "display_data"
    }
   ],
   "source": [
    "myfavoriteanimals = (\"penguins\", \"cats\", \"sugargliders\") # Это кортеж (tuple)"
   ]
  },
  {
   "cell_type": "markdown",
   "metadata": {},
   "source": [
    "Мы можем проиндексировать этот **кортеж**,"
   ]
  },
  {
   "cell_type": "code",
   "execution_count": 2,
   "metadata": {},
   "outputs": [
    {
     "data": {
      "text/plain": [
       "\"penguins\""
      ]
     },
     "metadata": {},
     "output_type": "display_data"
    }
   ],
   "source": [
    "myfavoriteanimals[1]"
   ]
  },
  {
   "cell_type": "markdown",
   "metadata": {},
   "source": [
    "но поскольку **кортежи** неизменяемы, мы не можем их обновить !"
   ]
  },
  {
   "cell_type": "code",
   "execution_count": 3,
   "metadata": {},
   "outputs": [
    {
     "ename": "MethodError",
     "evalue": "MethodError: no method matching setindex!(::Tuple{String, String, String}, ::String, ::Int64)\nThe function `setindex!` exists, but no method is defined for this combination of argument types.",
     "output_type": "error",
     "traceback": [
      "MethodError: no method matching setindex!(::Tuple{String, String, String}, ::String, ::Int64)\n",
      "The function `setindex!` exists, but no method is defined for this combination of argument types.\n",
      "\n",
      "Stacktrace:\n",
      " [1] top-level scope\n",
      "   @ c:\\Users\\Siergej Sobolewski\\Kursy Cartesian School\\Julia\\Introduction-to-Julia-main\\Introduction-to-Julia-main\\jl_notebook_cell_df34fa98e69747e1a8f8a730347b8e2f_W6sZmlsZQ==.jl:1"
     ]
    }
   ],
   "source": [
    "myfavoriteanimals[1] = \"otters\""
   ]
  },
  {
   "cell_type": "markdown",
   "metadata": {},
   "source": [
    "<br>\n",
    "\n",
    "### **🔹 NamedTuples - \"Именованные кортежи\".**\n",
    "\n",
    "В Julia **NamedTuple** — это кортеж, где каждому элементу присваивается имя, такие кортежи принято называть - **\"Именованные кортежи\"**.\n",
    "\n",
    "Они доказывают свою полезность, когда нужно хранить структурированные данные с удобным доступом по именам.\n",
    "\n",
    "У них особый синтаксис, использующий `=` внутри кортежа:\n",
    "\n",
    "\n",
    "` (name1 = item1, name2 = item2, ...) `\n",
    "\n",
    "<br>\n",
    "\n",
    "Пример:"
   ]
  },
  {
   "cell_type": "code",
   "execution_count": 4,
   "metadata": {},
   "outputs": [
    {
     "data": {
      "text/plain": [
       "(bird = \"penguins\", mammal = \"cats\", marsupial = \"sugargliders\")"
      ]
     },
     "metadata": {},
     "output_type": "display_data"
    }
   ],
   "source": [
    "myfavoriteanimals = (bird = \"penguins\", mammal = \"cats\", marsupial = \"sugargliders\")"
   ]
  },
  {
   "cell_type": "markdown",
   "metadata": {},
   "source": [
    "📌 Как и обычные  кортежи `Tuples`, именованные кортежи `NamedTuples` упорядочены, поэтому мы можем извлекать их элементы с помощью индексации:"
   ]
  },
  {
   "cell_type": "code",
   "execution_count": 5,
   "metadata": {},
   "outputs": [
    {
     "data": {
      "text/plain": [
       "\"penguins\""
      ]
     },
     "execution_count": 5,
     "metadata": {},
     "output_type": "execute_result"
    }
   ],
   "source": [
    "myfavoriteanimals[1]"
   ]
  },
  {
   "cell_type": "markdown",
   "metadata": {},
   "source": [
    "📌 Они также добавляют специальную возможность доступа к значениям по их названию:"
   ]
  },
  {
   "cell_type": "code",
   "execution_count": 6,
   "metadata": {},
   "outputs": [
    {
     "data": {
      "text/plain": [
       "\"penguins\""
      ]
     },
     "execution_count": 6,
     "metadata": {},
     "output_type": "execute_result"
    }
   ],
   "source": [
    "myfavoriteanimals.bird"
   ]
  },
  {
   "cell_type": "markdown",
   "metadata": {},
   "source": [
    "**Пример синтаксиса NamedTuple:**"
   ]
  },
  {
   "cell_type": "code",
   "execution_count": 6,
   "metadata": {},
   "outputs": [
    {
     "name": "stdout",
     "output_type": "stream",
     "text": [
      "Alice\n",
      "30\n",
      "New York\n",
      "Alice\n",
      "Alice\n",
      "30\n",
      "New York\n"
     ]
    }
   ],
   "source": [
    "# Создание NamedTuple\n",
    "person = (name = \"Alice\", age = 30, city = \"New York\")\n",
    "\n",
    "# Доступ к элементам по имени\n",
    "println(person.name)  # Выведет: Alice\n",
    "println(person.age)   # Выведет: 30\n",
    "println(person.city)  # Выведет: New York\n",
    "\n",
    "# Можно обращаться как к обычному кортежу\n",
    "println(person[1])  # Выведет: Alice\n",
    "\n",
    "# Деструктуризация NamedTuple\n",
    "(name, age, city) = person\n",
    "println(name)  # Alice\n",
    "println(age)   # 30\n",
    "println(city)  # New York\n"
   ]
  },
  {
   "cell_type": "markdown",
   "metadata": {},
   "source": [
    "📌 **Создание NamedTuple с переменными:**"
   ]
  },
  {
   "cell_type": "code",
   "execution_count": 5,
   "metadata": {},
   "outputs": [
    {
     "name": "stdout",
     "output_type": "stream",
     "text": [
      "(name = \"Bob\", age = 25, city = \"Los Angeles\")\n"
     ]
    }
   ],
   "source": [
    "name = \"Bob\"\n",
    "age = 25\n",
    "city = \"Los Angeles\"\n",
    "\n",
    "person2 = (name = name, age = age, city = city)  # Автоматическая подстановка значений\n",
    "\n",
    "println(person2)  # (name = \"Bob\", age = 25, city = \"Los Angeles\")\n"
   ]
  },
  {
   "cell_type": "markdown",
   "metadata": {},
   "source": [
    "📌 **Изменение NamedTuple**\n",
    "\n",
    "NamedTuple — неизменяемая структура данных, но можно создать новую версию с изменёнными значениями:"
   ]
  },
  {
   "cell_type": "code",
   "execution_count": 7,
   "metadata": {},
   "outputs": [
    {
     "name": "stdout",
     "output_type": "stream",
     "text": [
      "(name = \"Alice\", age = 31, city = \"New York\")\n"
     ]
    }
   ],
   "source": [
    "person_updated = merge(person, (age = 31,))  # Изменение возраста\n",
    "println(person_updated)  # (name = \"Alice\", age = 31, city = \"New York\")\n"
   ]
  },
  {
   "cell_type": "markdown",
   "metadata": {},
   "source": [
    "📌 **Применение в функциях:**"
   ]
  },
  {
   "cell_type": "code",
   "execution_count": 8,
   "metadata": {},
   "outputs": [
    {
     "name": "stdout",
     "output_type": "stream",
     "text": [
      "Hello, Alice! You are 30 years old and live in New York.\n"
     ]
    }
   ],
   "source": [
    "function greet(person)\n",
    "    println(\"Hello, $(person.name)! You are $(person.age) years old and live in $(person.city).\")\n",
    "end\n",
    "\n",
    "greet(person)  # Выведет: Hello, Alice! You are 30 years old and live in New York.\n"
   ]
  },
  {
   "cell_type": "markdown",
   "metadata": {},
   "source": [
    "💡 **NamedTuple**  удобны, когда нужна структура данных без избыточности, но с возможностью удобного доступа по именам.\n",
    "\n",
    "---\n",
    "<br>"
   ]
  },
  {
   "cell_type": "markdown",
   "metadata": {},
   "source": [
    "### **2️⃣ Словари  (Dictionaries).**\n",
    "\n",
    "Если у нас есть наборы данных, связанные друг с другом, мы можем сохранить эти данные в словаре. Мы можем создать словарь, используя функцию `Dict()`, которую мы можем инициализировать как пустой словарь или как один, хранящий пары ключ-значение.\n",
    "\n",
    "**Синтаксис:**\n",
    "\n",
    "```julia\n",
    "Dict(key1 => value1, key2 => value2, ...)\n",
    "```\n",
    "\n",
    "Хорошим примером является список контактов, где мы связываем имена с телефонными номерами, как показано ниже:\n"
   ]
  },
  {
   "cell_type": "code",
   "execution_count": 1,
   "metadata": {},
   "outputs": [
    {
     "data": {
      "text/plain": [
       "Dict{String, String} with 2 entries:\n",
       "  \"Света\" => \"867-5309\"\n",
       "  \"Гена\"  => \"555-2368\""
      ]
     },
     "metadata": {},
     "output_type": "display_data"
    }
   ],
   "source": [
    "myphonebook = Dict(\"Света\" => \"867-5309\", \"Гена\" => \"555-2368\")"
   ]
  },
  {
   "cell_type": "markdown",
   "metadata": {},
   "source": [
    "В этом примере каждое имя и номер — это пара «ключ» и «значение». \n",
    "\n",
    "📌 Мы можем получить **номер** Светы (т.е. **значение**), используя связанный ключ:"
   ]
  },
  {
   "cell_type": "code",
   "execution_count": 2,
   "metadata": {},
   "outputs": [
    {
     "data": {
      "text/plain": [
       "\"867-5309\""
      ]
     },
     "metadata": {},
     "output_type": "display_data"
    }
   ],
   "source": [
    "myphonebook[\"Света\"]"
   ]
  },
  {
   "cell_type": "markdown",
   "metadata": {},
   "source": [
    "📌 Мы можем **добавить** еще одну запись в этот словарь следующим образом:"
   ]
  },
  {
   "cell_type": "code",
   "execution_count": 4,
   "metadata": {},
   "outputs": [
    {
     "data": {
      "text/plain": [
       "\"09-565-997\""
      ]
     },
     "metadata": {},
     "output_type": "display_data"
    }
   ],
   "source": [
    "myphonebook[\"Сергей\"] = \"09-565-997\""
   ]
  },
  {
   "cell_type": "markdown",
   "metadata": {},
   "source": [
    "Давайте проверим, как выглядит наша телефонная книга сейчас..."
   ]
  },
  {
   "cell_type": "code",
   "execution_count": 5,
   "metadata": {},
   "outputs": [
    {
     "data": {
      "text/plain": [
       "Dict{String, String} with 3 entries:\n",
       "  \"Света\"  => \"867-5309\"\n",
       "  \"Гена\"   => \"555-2368\"\n",
       "  \"Сергей\" => \"09-565-997\""
      ]
     },
     "metadata": {},
     "output_type": "display_data"
    }
   ],
   "source": [
    "myphonebook"
   ]
  },
  {
   "cell_type": "markdown",
   "metadata": {},
   "source": [
    "📌 Мы можем **удалить** Сергей из нашего списка контактов и одновременно получить его номер, используя `pop!` "
   ]
  },
  {
   "cell_type": "code",
   "execution_count": 7,
   "metadata": {},
   "outputs": [
    {
     "data": {
      "text/plain": [
       "\"09-565-997\""
      ]
     },
     "metadata": {},
     "output_type": "display_data"
    }
   ],
   "source": [
    "pop!(myphonebook, \"Сергей\")"
   ]
  },
  {
   "cell_type": "markdown",
   "metadata": {},
   "source": [
    "Проверим нашу записную книжку:"
   ]
  },
  {
   "cell_type": "code",
   "execution_count": 8,
   "metadata": {},
   "outputs": [
    {
     "data": {
      "text/plain": [
       "Dict{String, String} with 2 entries:\n",
       "  \"Света\" => \"867-5309\"\n",
       "  \"Гена\"  => \"555-2368\""
      ]
     },
     "metadata": {},
     "output_type": "display_data"
    }
   ],
   "source": [
    "myphonebook"
   ]
  },
  {
   "cell_type": "markdown",
   "metadata": {},
   "source": [
    "💡 В отличие от кортежей и массивов, ***словари не упорядочены.*** \n",
    "\n",
    "- ***Поэтому мы не можем индексировать их !!!***"
   ]
  },
  {
   "cell_type": "code",
   "execution_count": 9,
   "metadata": {},
   "outputs": [
    {
     "ename": "KeyError",
     "evalue": "KeyError: key 1 not found",
     "output_type": "error",
     "traceback": [
      "KeyError: key 1 not found\n",
      "\n",
      "Stacktrace:\n",
      " [1] getindex(h::Dict{String, String}, key::Int64)\n",
      "   @ Base .\\dict.jl:477\n",
      " [2] top-level scope\n",
      "   @ c:\\Users\\Siergej Sobolewski\\Kursy Cartesian School\\Julia\\Introduction-to-Julia-main\\Introduction-to-Julia-main\\jl_notebook_cell_df34fa98e69747e1a8f8a730347b8e2f_X46sZmlsZQ==.jl:1"
     ]
    }
   ],
   "source": [
    "myphonebook[1] # Ошибка"
   ]
  },
  {
   "cell_type": "markdown",
   "metadata": {},
   "source": [
    "В приведенном выше примере `julia` думает, что вы пытаетесь получить доступ к значению, связанному с ключом `1`.\n",
    "\n",
    "<br>\n",
    "\n",
    "---\n",
    "\n",
    "<br>"
   ]
  },
  {
   "cell_type": "markdown",
   "metadata": {},
   "source": [
    "### **3️⃣ Массивы (Arrays).**\n",
    "\n",
    "В отличие от кортежей, массивы изменяемы. В отличие от словарей, массивы содержат упорядоченные коллекции. <br>\n",
    "Мы можем создать массив, заключив эту коллекцию в `[ ]`.\n",
    "\n",
    "**Синтаксис:** <br>\n",
    "\n",
    "` [item1, item2, ...] `\n",
    "\n",
    "<br>\n",
    "\n",
    "**Рассмотрим на примерах:**\n",
    "\n",
    "#### 📌 Создадим одномерный простой массив c именами друзей :"
   ]
  },
  {
   "cell_type": "code",
   "execution_count": 13,
   "metadata": {},
   "outputs": [
    {
     "data": {
      "text/plain": [
       "5-element Vector{String}:\n",
       " \"Толя\"\n",
       " \"Роберт\"\n",
       " \"Борис\"\n",
       " \"Геннадий\"\n",
       " \"Михаил\""
      ]
     },
     "metadata": {},
     "output_type": "display_data"
    }
   ],
   "source": [
    "# одномерный массив\n",
    "\n",
    "myfriends_men = [\"Толя\", \"Роберт\", \"Борис\", \"Геннадий\", \"Михаил\"]\n",
    "\n"
   ]
  },
  {
   "cell_type": "markdown",
   "metadata": {},
   "source": [
    "💡 В Julia `5-element Vector{String}` означает, что переменная `myfriends_men` является **вектором** (одномерным массивом) длины **5**, состоящим из элементов типа `String` - из строк."
   ]
  },
  {
   "cell_type": "markdown",
   "metadata": {},
   "source": [
    "<br>\n",
    "\n",
    "#### 📌 Теперь создадим одномерный **вложенный массив**, по сути \"список списков\":"
   ]
  },
  {
   "cell_type": "code",
   "execution_count": 12,
   "metadata": {},
   "outputs": [
    {
     "data": {
      "text/plain": [
       "2-element Vector{Vector{String}}:\n",
       " [\"Толя\", \"Роберт\", \"Борис\", \"Геннадий\", \"Михаил\"]\n",
       " [\"Антонина\", \"Роксана\", \"Барбара\", \"Лилия\", \"Мария\"]"
      ]
     },
     "metadata": {},
     "output_type": "display_data"
    }
   ],
   "source": [
    "# вложенный массив\n",
    "\n",
    "myfriends = [[\"Толя\", \"Роберт\", \"Борис\", \"Геннадий\", \"Михаил\"],[\"Антонина\", \"Роксана\", \"Барбара\", \"Лилия\", \"Мария\"]]"
   ]
  },
  {
   "cell_type": "markdown",
   "metadata": {},
   "source": [
    "💡  `5` в `{String,1}` означает, что это одномерный вектор. `Array{String,2}` будет двумерной матрицей и т. д. `String` — это тип каждого элемента."
   ]
  },
  {
   "cell_type": "markdown",
   "metadata": {},
   "source": [
    "или массив для хранения последовательности чисел Фибоначчи:"
   ]
  },
  {
   "cell_type": "code",
   "execution_count": 14,
   "metadata": {},
   "outputs": [
    {
     "data": {
      "text/plain": [
       "7-element Vector{Int64}:\n",
       "  1\n",
       "  1\n",
       "  2\n",
       "  3\n",
       "  5\n",
       "  8\n",
       " 13"
      ]
     },
     "metadata": {},
     "output_type": "display_data"
    }
   ],
   "source": [
    "fibonacci = [1, 1, 2, 3, 5, 8, 13] # Массив чисел Фибоначчи"
   ]
  },
  {
   "cell_type": "code",
   "execution_count": 15,
   "metadata": {},
   "outputs": [
    {
     "name": "stdout",
     "output_type": "stream",
     "text": [
      "[1, 1, 2, 3, 5, 8, 13]"
     ]
    }
   ],
   "source": [
    "print(fibonacci) # Выведет: [1, 1, 2, 3, 5, 8, 13]"
   ]
  },
  {
   "cell_type": "markdown",
   "metadata": {},
   "source": [
    "\n",
    "#### 📌 Как создать **двумерный массив - Matrix** в Julia?\n",
    "\n",
    "Массивы в **Julia** могут быть как **одномерными**, так и **многомерными - Matrix**, рассмотрим это на примере двумерного массива. \n",
    "\n",
    "В Julia двумерный массив - **Matrix**, создаётся следующим образом:"
   ]
  },
  {
   "cell_type": "code",
   "execution_count": 16,
   "metadata": {},
   "outputs": [
    {
     "data": {
      "text/plain": [
       "2×5 Matrix{String}:\n",
       " \"Толя\"      \"Роберт\"   \"Борис\"    \"Геннадий\"  \"Михаил\"\n",
       " \"Антонина\"  \"Роксана\"  \"Барбара\"  \"Лилия\"     \"Мария\""
      ]
     },
     "metadata": {},
     "output_type": "display_data"
    }
   ],
   "source": [
    "myfriends_matrix = [\n",
    "    \"Толя\"      \"Роберт\"    \"Борис\"    \"Геннадий\"    \"Михаил\";\n",
    "    \"Антонина\"  \"Роксана\"   \"Барбара\"  \"Лилия\"       \"Мария\"\n",
    "]\n"
   ]
  },
  {
   "cell_type": "markdown",
   "metadata": {},
   "source": [
    "🔹 Теперь `myfriends_matrix` представляет собой настоящий `Matrix{String}` с размерностью 2х5 - две строки и пять столбцов!\n",
    "\n",
    "<br>\n",
    "\n",
    "📌 **Разница между вложенным одномерным массивом и двумерным массивом Matrix :**\n",
    "\n",
    "`Vector{Vector{String}}` → список списков (разная длина возможна, не обязательно прямоугольная структура).\n",
    "\n",
    "`Matrix{String}` → настоящий двумерный массив c фиксированным размером (в нашем случае 2х5).\n",
    "\n",
    "<br>"
   ]
  },
  {
   "cell_type": "markdown",
   "metadata": {},
   "source": [
    "#### 📌 **Смешанные (гетерогенные) массивы в Julia.**"
   ]
  },
  {
   "cell_type": "markdown",
   "metadata": {},
   "source": [
    "Как мы уже рассмотрели ранее В Julia массив **обычно создаётся с однородным типом**, например:  "
   ]
  },
  {
   "cell_type": "code",
   "execution_count": null,
   "metadata": {},
   "outputs": [],
   "source": [
    "arr = [1, 2, 3, 4]  # Это Vector{Int64}, потому что все элементы - числа"
   ]
  },
  {
   "cell_type": "markdown",
   "metadata": {},
   "source": [
    "Но если нам необходимо создать массив, в котором будут **разные типы данных**?\n",
    "\n",
    "В этом случае Julia **автоматически создаёт массив типа `Vector{Any}`**, который может содержать **любые типы элементов**, такие маасивы называются **ГЕТЕРОГЕННЫМИ**."
   ]
  },
  {
   "cell_type": "markdown",
   "metadata": {},
   "source": [
    "**Пример:**"
   ]
  },
  {
   "cell_type": "code",
   "execution_count": 27,
   "metadata": {},
   "outputs": [
    {
     "data": {
      "text/plain": [
       "6-element Vector{Any}:\n",
       " 1\n",
       " 1\n",
       " 2\n",
       " 3\n",
       "  \"Толя\"\n",
       "  \"Роберт\""
      ]
     },
     "metadata": {},
     "output_type": "display_data"
    }
   ],
   "source": [
    "mixture = [1, 1, 2, 3, \"Толя\", \"Роберт\"]  # Это Vector{Any}, потому что элементы разные"
   ]
  },
  {
   "cell_type": "markdown",
   "metadata": {},
   "source": [
    "Проверяем тип:"
   ]
  },
  {
   "cell_type": "code",
   "execution_count": 19,
   "metadata": {},
   "outputs": [
    {
     "data": {
      "text/plain": [
       "Vector{Any}\u001b[90m (alias for \u001b[39m\u001b[90mArray{Any, 1}\u001b[39m\u001b[90m)\u001b[39m"
      ]
     },
     "metadata": {},
     "output_type": "display_data"
    }
   ],
   "source": [
    "typeof(mixture)  # Выведет: Vector{Any}"
   ]
  },
  {
   "cell_type": "markdown",
   "metadata": {},
   "source": [
    "**🔹 Разбираем выражение**\n",
    "- **Числа `1, 1, 2, 3`** → имеют тип `Int64` (или `Int32` в 32-битной системе).\n",
    "- **Строки `\"Ted\", \"Robyn\"`** → имеют тип `String`.\n",
    "- **Julia автоматически выбирает тип `Vector{Any}`**, так как типы данных **смешаны**."
   ]
  },
  {
   "cell_type": "markdown",
   "metadata": {},
   "source": [
    "**Вывод структуры массива:**"
   ]
  },
  {
   "cell_type": "code",
   "execution_count": 29,
   "metadata": {},
   "outputs": [
    {
     "data": {
      "text/plain": [
       "Any"
      ]
     },
     "metadata": {},
     "output_type": "display_data"
    }
   ],
   "source": [
    "eltype(mixture)  # Any"
   ]
  },
  {
   "cell_type": "code",
   "execution_count": 22,
   "metadata": {},
   "outputs": [
    {
     "data": {
      "text/plain": [
       "6"
      ]
     },
     "metadata": {},
     "output_type": "display_data"
    }
   ],
   "source": [
    "length(mixture)  # 6"
   ]
  },
  {
   "cell_type": "markdown",
   "metadata": {},
   "source": [
    "- **`eltype(mixture) == Any`** → массив содержит **разные типы данных**.\n",
    "- **`length(mixture) == 6`** → в массиве **6 элементов**."
   ]
  },
  {
   "cell_type": "markdown",
   "metadata": {},
   "source": [
    "##### **🔹 Как Julia решает, какой тип использовать в массиве?**\n",
    "\n",
    "**1️⃣ Если все элементы одного типа**, Julia создаёт **однородный массив**:"
   ]
  },
  {
   "cell_type": "code",
   "execution_count": 23,
   "metadata": {},
   "outputs": [
    {
     "data": {
      "text/plain": [
       "Vector{Int64}\u001b[90m (alias for \u001b[39m\u001b[90mArray{Int64, 1}\u001b[39m\u001b[90m)\u001b[39m"
      ]
     },
     "metadata": {},
     "output_type": "display_data"
    }
   ],
   "source": [
    "nums = [1, 2, 3, 4]  \n",
    "typeof(nums)  # Vector{Int64}"
   ]
  },
  {
   "cell_type": "markdown",
   "metadata": {},
   "source": [
    "**2️⃣ Если элементы имеют разные типы**, Julia **автоматически создаёт `Vector{Any}`**:"
   ]
  },
  {
   "cell_type": "code",
   "execution_count": 24,
   "metadata": {},
   "outputs": [
    {
     "data": {
      "text/plain": [
       "Vector{Any}\u001b[90m (alias for \u001b[39m\u001b[90mArray{Any, 1}\u001b[39m\u001b[90m)\u001b[39m"
      ]
     },
     "metadata": {},
     "output_type": "display_data"
    }
   ],
   "source": [
    "mixed = [1, \"Hello\", 3.14, true]\n",
    "typeof(mixed)  # Vector{Any}"
   ]
  },
  {
   "cell_type": "markdown",
   "metadata": {},
   "source": [
    "\n",
    "**3️⃣ Если типы совместимы, Julia выбирает наибольший общий тип**:"
   ]
  },
  {
   "cell_type": "code",
   "execution_count": 25,
   "metadata": {},
   "outputs": [
    {
     "data": {
      "text/plain": [
       "Vector{Float64}\u001b[90m (alias for \u001b[39m\u001b[90mArray{Float64, 1}\u001b[39m\u001b[90m)\u001b[39m"
      ]
     },
     "metadata": {},
     "output_type": "display_data"
    }
   ],
   "source": [
    "mixed_numbers = [1, 2.5, 3]  \n",
    "typeof(mixed_numbers)  # Vector{Float64}, так как Int можно привести к Float"
   ]
  },
  {
   "cell_type": "markdown",
   "metadata": {},
   "source": [
    "##### **🔻 Недостатки `Vector{Any}`**\n",
    "\n",
    "- **Медленнее**: Julia теряет возможность **оптимизации**, так как элементы имеют **разные типы**.\n",
    "  \n",
    "- **Усложняет работу с массивом**: перед каждым вычислением Julia **проверяет тип каждого элемента**."
   ]
  },
  {
   "cell_type": "markdown",
   "metadata": {},
   "source": [
    "**✅ Как избежать `Vector{Any}`?**\n",
    "\n",
    "📌 **Если точно знаем тип, следует задать его явно:**\n",
    "```julia\n",
    "my_array = Vector{Union{Int, String}}([1, 2, 3, \"Ted\", \"Robyn\"])\n",
    "typeof(my_array)  # Vector{Union{Int, String}}\n",
    "```\n",
    "- Теперь массив поддерживает **только `Int` и `String`**, но **не `Float64` или `Bool`**.\n",
    "\n",
    "<br>\n",
    "\n",
    "📌 **Используем `Any[]` только при необходимости:**\n",
    "```julia\n",
    "safe_array = Any[1, 2, \"Фаина\", 3.14, true]  # Явное создание Vector{Any}\n",
    "```\n"
   ]
  },
  {
   "cell_type": "markdown",
   "metadata": {},
   "source": [
    "##### **😺 Выводы:**\n",
    "\n",
    "- **`Vector{Any}` создаётся, если массив содержит элементы разных типов.** \n",
    "\n",
    "- **Julia предпочитает создавать массивы с единым типом (`Vector{Int64}`, `Vector{Float64}` и т. д.).**  \n",
    "\n",
    "- **Использование `Vector{Any}` может замедлить код, поэтому лучше явно задавать `Union{T1, T2}` или `Any[]`.** \n",
    "\n",
    "<br> \n",
    "\n",
    "🔥 **Мы рассмотрели, как Julia работает с разными типами в массивах!** 🚀"
   ]
  },
  {
   "cell_type": "markdown",
   "metadata": {},
   "source": [
    "<br>\n",
    "\n",
    "---\n",
    "\n",
    "<br>\n",
    "\n",
    "### **🔹 Доступ к элементам массива в Julia**  \n",
    "\n",
    "В Julia доступ к элементам массива осуществляется с **индексацией, срезами (slicing) и фильтрацией**.  \n",
    "\n",
    "<br>\n",
    "\n",
    "📌 **Важно помнить!** \n",
    "\n",
    "В отличие от Python, где индексация начинается с `0`, в **Julia индексация начинается с `1`**!  \n",
    "\n",
    "<br>\n",
    "\n",
    "\n",
    "#### **1️⃣ Индексация элементов**  \n",
    "**Синтаксис:** `array[index]`  "
   ]
  },
  {
   "cell_type": "code",
   "execution_count": null,
   "metadata": {},
   "outputs": [],
   "source": [
    "arr = [\"Толя\", \"Роберт\", \"Борис\", \"Геннадий\", \"Михаил\"]     # Массив строк\n",
    "\n",
    "println(arr[1])  # \"Толя\" (первый элемент)\n",
    "println(arr[5])  # \"Михаил\" (пятый элемент)"
   ]
  },
  {
   "cell_type": "markdown",
   "metadata": {},
   "source": [
    "📌 **`arr[end]` возвращает последний элемент:**"
   ]
  },
  {
   "cell_type": "code",
   "execution_count": null,
   "metadata": {},
   "outputs": [],
   "source": [
    "println(arr[end])  # \"Михаил\" (последний элемент)"
   ]
  },
  {
   "cell_type": "markdown",
   "metadata": {},
   "source": [
    "\n",
    "#### **2️⃣ Доступ к элементам вложенного массива (`Vector{Vector{T}}`)**\n",
    "Если у нас **список списков** (`Vector{Vector{String}}`):"
   ]
  },
  {
   "cell_type": "code",
   "execution_count": null,
   "metadata": {},
   "outputs": [],
   "source": [
    "nested_arr = [[\"Толя\", \"Роберт\"], [\"Антонина\", \"Роксана\"]]\n",
    "println(nested_arr[1])  # [\"Толя\", \"Роберт\"]\n",
    "println(nested_arr[2][1])  # \"Антонина\" (1-й элемент 2-го подсписка)"
   ]
  },
  {
   "cell_type": "markdown",
   "metadata": {},
   "source": [
    "📌 **Если бы это была матрица (`Matrix{String}`), доступ был бы через `arr[row, col]` (arr[строка,столбец]).**"
   ]
  },
  {
   "cell_type": "markdown",
   "metadata": {},
   "source": [
    "#### **3️⃣ Срезы (slicing)**\n",
    "\n",
    "Срез (или подмассив) создаётся через `start:stop`:"
   ]
  },
  {
   "cell_type": "code",
   "execution_count": null,
   "metadata": {},
   "outputs": [],
   "source": [
    "println(arr[2:4])  # [\"Роберт\", \"Борис\", \"Геннадий\"] (2-й, 3-й и 4-й элементы)"
   ]
  },
  {
   "cell_type": "markdown",
   "metadata": {},
   "source": [
    "📌 **Диапазон `2:4` включает оба конца!**  \n",
    "<br>\n",
    "\n",
    "Другие варианты:"
   ]
  },
  {
   "cell_type": "code",
   "execution_count": null,
   "metadata": {},
   "outputs": [],
   "source": [
    "println(arr[1:end-1])  # Все элементы, кроме последнего\n",
    "println(arr[1:2:end])  # Каждый второй элемент (шаг 2)"
   ]
  },
  {
   "cell_type": "markdown",
   "metadata": {},
   "source": [
    "#### **4️⃣ Выбор элементов с условием (фильтрация)**\n",
    "\n",
    "Фильтрация элементов с `filter`:"
   ]
  },
  {
   "cell_type": "code",
   "execution_count": null,
   "metadata": {},
   "outputs": [],
   "source": [
    "println(filter(x -> length(x) > 5, arr))  # [\"Роберт\", \"Геннадий\", \"Михаил\"]"
   ]
  },
  {
   "cell_type": "markdown",
   "metadata": {},
   "source": [
    "📌 **Оставляем только имена длиной больше 5 символов.**"
   ]
  },
  {
   "cell_type": "markdown",
   "metadata": {},
   "source": [
    "#### **5️⃣ Изменение элементов массива**"
   ]
  },
  {
   "cell_type": "code",
   "execution_count": null,
   "metadata": {},
   "outputs": [],
   "source": [
    "arr[1] = \"Иван\"  # Теперь первый элемент \"Иван\"\n",
    "println(arr)"
   ]
  },
  {
   "cell_type": "markdown",
   "metadata": {},
   "source": [
    "📌 **В Julia можно изменять элементы массива, если его тип позволяет, т.е. для `Vector{Any}` или `Vector{String}`.**"
   ]
  },
  {
   "cell_type": "markdown",
   "metadata": {},
   "source": [
    "<br>\n",
    "\n",
    "##### **😺 Выводы:**\n",
    "\n",
    "- Julia использует индексацию с `1`, а не с `0`. \n",
    "\n",
    "- Доступ к вложенным массивам требует `[i][j]`.\n",
    "\n",
    "- Срезы работают через `start:stop`, включая оба конца.  \n",
    "\n",
    "- Можно фильтровать элементы с `filter` и изменять их напрямую.  \n",
    "\n"
   ]
  },
  {
   "cell_type": "markdown",
   "metadata": {},
   "source": [
    "<br>\n",
    "\n",
    "---\n",
    "\n",
    "<br>\n",
    "\n",
    "### **🔹 Преобразование в массив определенного типа**  \n",
    "\n",
    "Иногда в Julia необходимо преобразовать **гетерогенный массив (`Vector{Any}`)** в массив с **определённым типом** (`Vector{Int}`, `Vector{String}` и т. д.).  \n",
    "\n",
    "Если все числа должны быть **целыми (`Int`)**, а строки хранятся отдельно, можно создать два отдельных массива:"
   ]
  },
  {
   "cell_type": "code",
   "execution_count": null,
   "metadata": {},
   "outputs": [],
   "source": [
    "mixed_array = [1, 2, \"Привет\", 3.5, \"Julia\"]\n",
    "int_array = [x for x in mixed_array if x isa Int]  # Отбираем только Int\n",
    "string_array = [x for x in mixed_array if x isa String]  # Отбираем только String\n",
    "\n",
    "println(int_array)   # [1, 2]\n",
    "println(string_array) # [\"Привет\", \"Julia\"]"
   ]
  },
  {
   "cell_type": "markdown",
   "metadata": {},
   "source": [
    "\n",
    "📌 **Это оптимальнее, чем `Vector{Any}`**, так как Julia эффективнее работает с **однородными массивами** (`Vector{Int}` или `Vector{String}`).  "
   ]
  },
  {
   "cell_type": "markdown",
   "metadata": {},
   "source": [
    "#### **Лучшие альтернативы `Vector{Any}`**\n",
    "\n",
    "Вместо хранения разнородных данных в `Vector{Any}`, можно использовать:\n",
    "\n",
    "- **`NamedTuple`** (кортеж с именованными полями)\n",
    "  \n",
    "- **`Dict{Symbol, Any}`** (словарь)\n",
    "  \n",
    "- **`Struct`** (структура данных с определёнными типами)\n",
    "  \n",
    "  <br>\n",
    "\n",
    "1. Пример с **`NamedTuple`**:"
   ]
  },
  {
   "cell_type": "code",
   "execution_count": null,
   "metadata": {},
   "outputs": [],
   "source": [
    "person = (name = \"Антон\", age = 30, height = 1.7)\n",
    "println(person.name)  # \"Антон\"\n",
    "println(person.age)   # 30"
   ]
  },
  {
   "cell_type": "markdown",
   "metadata": {},
   "source": [
    "2. Пример с **`Dict`**:"
   ]
  },
  {
   "cell_type": "code",
   "execution_count": null,
   "metadata": {},
   "outputs": [],
   "source": [
    "data = Dict(:name => \"Рома\", :age => 25, :score => 95.7)\n",
    "println(data[:name])  # \"Рома\""
   ]
  },
  {
   "cell_type": "markdown",
   "metadata": {},
   "source": [
    "3. Пример со **`Struct`**:"
   ]
  },
  {
   "cell_type": "code",
   "execution_count": null,
   "metadata": {},
   "outputs": [],
   "source": [
    "struct Person\n",
    "    name::String\n",
    "    age::Int\n",
    "    height::Float64\n",
    "end\n",
    "\n",
    "p = Person(\"Карл\", 28, 1.75)\n",
    "println(p.name)  # \"Карл\""
   ]
  },
  {
   "cell_type": "markdown",
   "metadata": {},
   "source": [
    "📌 **Лучше хранить данные в `NamedTuple`, `Dict` или `Struct`, чем в `Vector{Any}`!**  "
   ]
  },
  {
   "cell_type": "markdown",
   "metadata": {},
   "source": [
    "<br>\n",
    "\n",
    "---\n",
    "\n",
    "<br>\n",
    "\n",
    "### **🔹 Многомерные массивы в Julia**\n",
    "\n",
    "До сих пор мы рассматривали **одномерные массивы** и только слегка затронули **многомерные массивы**, но Julia поддерживает **массивы произвольной размерности**.\n",
    "\n",
    "<br>\n",
    "\n",
    "#### **Примеры многомерных массивов**\n"
   ]
  },
  {
   "cell_type": "code",
   "execution_count": 31,
   "metadata": {},
   "outputs": [
    {
     "data": {
      "text/plain": [
       "4×3 Matrix{Float64}:\n",
       " 0.190791  0.549523  0.784683\n",
       " 0.569182  0.41995   0.936201\n",
       " 0.560271  0.65099   0.230338\n",
       " 0.688369  0.387926  0.868405"
      ]
     },
     "metadata": {},
     "output_type": "display_data"
    }
   ],
   "source": [
    "rand(4, 3)  # Двумерный массив 4x3 (случайные числа)\n"
   ]
  },
  {
   "cell_type": "code",
   "execution_count": 32,
   "metadata": {},
   "outputs": [
    {
     "data": {
      "text/plain": [
       "4×3×2 Array{Float64, 3}:\n",
       "[:, :, 1] =\n",
       " 0.760261  0.945007  0.465094\n",
       " 0.943341  0.465186  0.496256\n",
       " 0.521158  0.16092   0.890548\n",
       " 0.333538  0.820392  0.125066\n",
       "\n",
       "[:, :, 2] =\n",
       " 0.790208   0.0697328  0.244366\n",
       " 0.797271   0.0698279  0.00669167\n",
       " 0.0979507  0.341208   0.950214\n",
       " 0.72241    0.373865   0.0199334"
      ]
     },
     "metadata": {},
     "output_type": "display_data"
    }
   ],
   "source": [
    "rand(4, 3, 2)  # Трёхмерный массив 4x3x2 (случайные числа)"
   ]
  },
  {
   "cell_type": "markdown",
   "metadata": {},
   "source": [
    "📌 **Julia поддерживает `N`-мерные массивы (`Array{T, N}`), где `N` — количество измерений.**  \n",
    "\n",
    "**Пример 3D-массива (`Array{Float64, 3}`):**"
   ]
  },
  {
   "cell_type": "code",
   "execution_count": 33,
   "metadata": {},
   "outputs": [
    {
     "name": "stdout",
     "output_type": "stream",
     "text": [
      "(2, 2, 2)\n"
     ]
    }
   ],
   "source": [
    "A = rand(2, 2, 2)  # 3D-массив 2x2x2\n",
    "println(size(A))    # (2, 2, 2)"
   ]
  },
  {
   "cell_type": "markdown",
   "metadata": {},
   "source": [
    "- Первый индекс `i` — строка  \n",
    "  \n",
    "- Второй `j` — столбец  \n",
    "  \n",
    "- Третий `k` — глубина  \n",
    "\n",
    "📌 **В Julia индексация многомерных массивов — `[i, j, k]`, а не `[i][j][k]`, как в Python.**  "
   ]
  },
  {
   "cell_type": "markdown",
   "metadata": {},
   "source": [
    "<br>\n",
    "\n",
    "#### **🔹 Осторожно с копированием массивов!**\n",
    "\n",
    "В Julia **переменные — это ссылки на объекты в памяти**, а не сами данные.  \n",
    "\n",
    "Поэтому, если вы **присваиваете один массив другому**, то **оба указывают на одни и те же данные!**  \n",
    "\n",
    "##### **Пример: изменение массива через ссылку**"
   ]
  },
  {
   "cell_type": "code",
   "execution_count": 36,
   "metadata": {},
   "outputs": [
    {
     "name": "stdout",
     "output_type": "stream",
     "text": [
      "[404, 1, 2, 3, 5, 8]\n"
     ]
    }
   ],
   "source": [
    "fibonacci = [1, 1, 2, 3, 5, 8]\n",
    "mynumbers = fibonacci  # Не копия! Просто ссылка на тот же массив\n",
    "\n",
    "mynumbers[1] = 404  # Изменяем somenumbers\n",
    "println(fibonacci)  # [404, 1, 2, 3, 5, 8] - оригинальный массив тоже изменился!"
   ]
  },
  {
   "cell_type": "markdown",
   "metadata": {},
   "source": [
    "📌 **Это не копия, а просто другая ссылка на тот же массив!**  "
   ]
  },
  {
   "cell_type": "markdown",
   "metadata": {},
   "source": [
    "<br>\n",
    "\n",
    "#### **🔹 Как сделать настоящую копию массива?**\n",
    "\n",
    "Используйте **`copy()`**, чтобы создать новый массив:"
   ]
  },
  {
   "cell_type": "code",
   "execution_count": 37,
   "metadata": {},
   "outputs": [
    {
     "name": "stdout",
     "output_type": "stream",
     "text": [
      "[1, 1, 2, 3, 5, 8]\n"
     ]
    }
   ],
   "source": [
    "# Восстанавливаем массив Фибоначчи\n",
    "fibonacci[1] = 1\n",
    "\n",
    "# Создаём полную копию\n",
    "mymorenumbers = copy(fibonacci)\n",
    "\n",
    "# Изменяем копию\n",
    "mymorenumbers[1] = 404\n",
    "\n",
    "# Оригинальный массив не изменился!\n",
    "println(fibonacci)  # [1, 1, 2, 3, 5, 8]"
   ]
  },
  {
   "cell_type": "markdown",
   "metadata": {},
   "source": [
    "📌 **Теперь `somemorenumbers` и `fibonacci` — два разных массива, и изменения в одном не затрагивают другой.**  "
   ]
  },
  {
   "cell_type": "markdown",
   "metadata": {},
   "source": [
    "<br>\n",
    "\n",
    "##### **😺 Выводы:**\n",
    "\n",
    "- **`Vector{Any}` создаётся при смешанных типах, но его лучше избегать.** \n",
    "\n",
    "- **Однородные массивы (`Vector{Int}`, `Vector{String}`) работают быстрее.**\n",
    "\n",
    "- **Лучшие альтернативы: `NamedTuple`, `Dict`, `Struct`.** \n",
    "\n",
    "- **Julia поддерживает `N`-мерные массивы (`Array{T, N}`).** \n",
    "\n",
    "- **Присваивание массива создаёт ссылку, а `copy()` делает независимую копию.**  \n",
    "\n",
    "<br>\n",
    "\n",
    "🔥 **Поздравляю, теперь вы умеете работать с разнородными данными, многомерными массивами и копированием в Julia!** 🚀\n",
    "\n",
    "<br>\n",
    "\n",
    "---\n",
    "\n",
    "<br>"
   ]
  },
  {
   "cell_type": "markdown",
   "metadata": {},
   "source": [
    "### Упражнения 🚀\n",
    "\n",
    "#### ✅ Задание 3.1\n",
    "\n",
    "Создайте массив `a_ray` с помощью следующего кода:\n",
    "\n",
    "```julia\n",
    "a_ray = [1, 2, 3]\n",
    "```\n",
    "\n",
    "Добавьте число `4` в конец этого массива, а затем удалите его."
   ]
  },
  {
   "cell_type": "code",
   "execution_count": null,
   "metadata": {},
   "outputs": [],
   "source": [
    "# Ваше решение\n",
    "\n"
   ]
  },
  {
   "cell_type": "code",
   "execution_count": null,
   "metadata": {},
   "outputs": [
    {
     "data": {
      "text/plain": [
       "4"
      ]
     },
     "metadata": {},
     "output_type": "display_data"
    }
   ],
   "source": [
    "# Правильное решение:\n",
    "\n",
    "# Создание массива\n",
    "a_ray = [1, 2, 3]\n",
    "\n",
    "# Добавление числа 4 в конец массива\n",
    "push!(a_ray, 4)\n",
    "\n",
    "# Удаление последнего элемента массива\n",
    "pop!(a_ray)\n"
   ]
  },
  {
   "cell_type": "code",
   "execution_count": 53,
   "metadata": {
    "deletable": false,
    "editable": false,
    "hide_input": true,
    "nbgrader": {
     "checksum": "8dde7e020bc07c5762194abf5c72285c",
     "grade": true,
     "grade_id": "cell-a6b20b78fbfeb449",
     "locked": true,
     "points": 1,
     "schema_version": 1,
     "solution": false
    }
   },
   "outputs": [],
   "source": [
    "@assert a_ray == [1, 2, 3] # Проверка результата"
   ]
  },
  {
   "cell_type": "markdown",
   "metadata": {},
   "source": [
    "<br>\n",
    "\n",
    "#### ✅ Задание 3.2\n",
    "\n",
    "Создайте **новый словарь** под названием \"my_phonebook\", в котором номер Евгения сохранен в виде целого числа, а номер  Константина - в виде строки со следующим кодом:\n",
    "\n",
    "```julia\n",
    "my_phonebook = Dict(\"Евгений\" => 8675309, \"Константин\" => \"555-2368\")\n",
    "```"
   ]
  },
  {
   "cell_type": "code",
   "execution_count": null,
   "metadata": {},
   "outputs": [],
   "source": [
    "# Ваше решение\n",
    "\n"
   ]
  },
  {
   "cell_type": "code",
   "execution_count": null,
   "metadata": {},
   "outputs": [],
   "source": [
    "# Правильное решение:\n",
    "\n",
    "my_phonebook = Dict(\"Евгений\" => 8675309, \"Константин\" => \"555-2368\")"
   ]
  },
  {
   "cell_type": "code",
   "execution_count": null,
   "metadata": {
    "deletable": false,
    "editable": false,
    "hide_input": true,
    "nbgrader": {
     "checksum": "4a8e1e6d6c64cf1370e0fb60a233deb9",
     "grade": true,
     "grade_id": "cell-66f1d636c676c2f2",
     "locked": true,
     "points": 1,
     "schema_version": 1,
     "solution": false
    }
   },
   "outputs": [],
   "source": [
    "@assert my_phonebook == Dict(\"Евгений\" => 8675309, \"Константин\" => \"555-2368\")"
   ]
  },
  {
   "cell_type": "markdown",
   "metadata": {},
   "source": [
    "**Объяснение:**\n",
    "\n",
    "- Ключ \"Jenny\" связан со значением 8675309 (целое число).\n",
    "  \n",
    "- Ключ \"Ghostbusters\" связан со значением \"555-2368\" (строка).\n",
    "  \n",
    "- Из-за того, что значения имеют разные типы (целое число и строка), Julia автоматически создает словарь типа Dict{String, Any}, что позволяет хранить значения различных типов.\n",
    "  \n",
    "Таким образом, переменная flexible_phonebook содержит требуемую информацию."
   ]
  },
  {
   "cell_type": "markdown",
   "metadata": {},
   "source": [
    "<br>\n",
    "\n",
    "#### ✅ Задание 3.3\n",
    "\n",
    "\n",
    "Добавьте ключ `Emergency` со значением `911` (целое число) в `flexible_phonebook`."
   ]
  },
  {
   "cell_type": "code",
   "execution_count": null,
   "metadata": {},
   "outputs": [],
   "source": [
    "# Ваше решение\n",
    "\n"
   ]
  },
  {
   "cell_type": "markdown",
   "metadata": {},
   "source": [
    "✅ Правильное решение:\n",
    "\n",
    "<br>\n",
    "Если изначально flexible_phonebook был создан как Dict{String, String} или Dict{String, Int}, то добавление значения другого типа вызовет ошибку. Чтобы этого избежать, нужно изначально создать словарь с типом Dict{String, Any}, чтобы он мог хранить как строки, так и числа.\n",
    "\n"
   ]
  },
  {
   "cell_type": "code",
   "execution_count": null,
   "metadata": {},
   "outputs": [],
   "source": [
    "# Создание словаря, который может хранить значения разных типов\n",
    "flexible_phonebook = Dict{String, Any}(\n",
    "    \"Евгений\" => 8675309,\n",
    "    \"Константин\" => \"555-2368\"\n",
    ")\n",
    "\n",
    "# Добавление ключа \"Emergency\" со значением 911\n",
    "flexible_phonebook[\"Emergency\"] = 911\n",
    "\n",
    "\n",
    "# Проверка результата\n",
    "println(flexible_phonebook)  # Dict(\"Jenny\" => 8675309, \"Ghostbusters\" => \"555-2368\", \"Emergency\" => 911)"
   ]
  },
  {
   "cell_type": "markdown",
   "metadata": {},
   "source": [
    "**🔍 Разбор кода:**\n",
    "\n",
    "- `Dict{String, Any}` создаёт словарь, где ключи — строки, а значения могут быть любыми типами (`Int`, `String` и т. д.).\n",
    "- Теперь можно без ошибки добавить `\"Emergency\" => 911`, потому что `Any` позволяет использовать разные типы значений.\n",
    "Вывод будет:\n",
    "`Dict(\"Jenny\" => 8675309, \"Ghostbusters\" => \"555-2368\", \"Emergency\" => 911)`\n",
    "Теперь `flexible_phonebook` готов к расширению и может хранить любые данные! 🚀"
   ]
  },
  {
   "cell_type": "code",
   "execution_count": 67,
   "metadata": {
    "deletable": false,
    "editable": false,
    "hide_input": true,
    "nbgrader": {
     "checksum": "e790c96d2a64c04de1d9e01eaf5ba162",
     "grade": true,
     "grade_id": "cell-ee862ab938680259",
     "locked": true,
     "points": 1,
     "schema_version": 1,
     "solution": false
    }
   },
   "outputs": [],
   "source": [
    "@assert haskey(flexible_phonebook, \"Emergency\")"
   ]
  },
  {
   "cell_type": "code",
   "execution_count": 69,
   "metadata": {
    "deletable": false,
    "editable": false,
    "hide_input": true,
    "nbgrader": {
     "checksum": "356ba6c4ee4d106b41aec07039bd8495",
     "grade": true,
     "grade_id": "cell-c8c40ababe7cdfce",
     "locked": true,
     "points": 2,
     "schema_version": 1,
     "solution": false
    }
   },
   "outputs": [],
   "source": [
    "@assert flexible_phonebook[\"Emergency\"] == 911"
   ]
  },
  {
   "cell_type": "markdown",
   "metadata": {},
   "source": [
    "<br>\n",
    "\n",
    "### 🔥 Oператор **`@assert`** "
   ]
  },
  {
   "cell_type": "markdown",
   "metadata": {},
   "source": [
    "В Julia оператор **`@assert`** используется для проверки утверждений (**assertions**).  \n",
    "\n",
    "##### 🔍 **Разбор кода:**\n",
    "```julia\n",
    "@assert flexible_phonebook[\"Emergency\"] == 911\n",
    "```\n",
    "**Что делает этот код?**\n",
    "- Он проверяет, что значение, хранящееся в словаре `flexible_phonebook` по ключу `\"Emergency\"`, **равно** `911`.\n",
    "- Если выражение `flexible_phonebook[\"Emergency\"] == 911` **истинно**, программа **продолжает выполнение** без ошибок.\n",
    "- Если выражение **ложно**, Julia выдаст **ошибку AssertionError**, что указывает на проблему в коде.\n",
    "\n",
    "##### ✅ **Пример с корректными данными (не вызовет ошибку):**\n",
    "```julia\n",
    "# Создание словаря\n",
    "flexible_phonebook = Dict{String, Any}(\"Emergency\" => 911)\n",
    "\n",
    "# Проверка утверждения\n",
    "@assert flexible_phonebook[\"Emergency\"] == 911  # Всё верно, ошибок нет\n",
    "\n",
    "println(\"Проверка пройдена!\")  # Этот код выполнится, так как ошибки нет\n",
    "```\n",
    "\n",
    "##### ❌ **Пример с ошибкой:**\n",
    "```julia\n",
    "# Создание словаря с неверным значением\n",
    "flexible_phonebook = Dict{String, Any}(\"Emergency\" => 112)\n",
    "\n",
    "# Проверка утверждения\n",
    "@assert flexible_phonebook[\"Emergency\"] == 911  # Ошибка! Значение 112 ≠ 911\n",
    "```\n",
    "**Вывод ошибки:**\n",
    "```\n",
    "ERROR: AssertionError: flexible_phonebook[\"Emergency\"] == 911\n",
    "```\n",
    "Это означает, что в словаре `\"Emergency\"` хранит **не `911`**, а другое значение.\n",
    "\n",
    "##### 🔹 **Вывод:**\n",
    "- `@assert` помогает **отлавливать ошибки в коде** на ранних стадиях.\n",
    "- Если условие истинно ✅ → программа продолжает работу.\n",
    "- Если условие ложно ❌ → выбрасывается `AssertionError`, и выполнение останавливается.\n",
    "\n",
    "Этот механизм полезен для **отладки, тестирования и контроля корректности данных**. 🚀"
   ]
  },
  {
   "cell_type": "markdown",
   "metadata": {},
   "source": [
    "<br>\n",
    "\n",
    "#### ✅ Задание 3.4\n",
    "\n",
    "Почему мы можем добавить целое число в качестве значения в \"flexible_phonebook\", но не в \"myphonebook\"? Как мы могли инициализировать \"мою телефонную книгу\", чтобы она принимала целые числа в качестве значений? (подсказка: попробуйте воспользоваться [документацией Джулии по словарям](https://docs.julialang.org/en/v1/base/collections/#Dictionaries))"
   ]
  },
  {
   "cell_type": "markdown",
   "metadata": {},
   "source": [
    "##### 🔍 **Почему в `flexible_phonebook` можно добавить `Int`, а в `myphonebook` — нет?**\n",
    "\n",
    "В Julia **каждый словарь (`Dict`) имеет чётко определённые типы для ключей и значений**.  \n",
    "Когда мы создаём `myphonebook` **без явного указания типа**, Julia автоматически **выводит тип данных из переданных значений**.\n",
    "\n",
    "###### ⚠️ **Пример ошибки**:"
   ]
  },
  {
   "cell_type": "code",
   "execution_count": 49,
   "metadata": {},
   "outputs": [
    {
     "ename": "MethodError",
     "evalue": "MethodError: Cannot `convert` an object of type Int64 to an object of type String\nThe function `convert` exists, but no method is defined for this combination of argument types.\n\nClosest candidates are:\n  convert(::Type{String}, !Matched::Base.JuliaSyntax.Kind)\n   @ Base C:\\workdir\\base\\JuliaSyntax\\src\\kinds.jl:975\n  convert(::Type{String}, !Matched::String)\n   @ Base essentials.jl:461\n  convert(::Type{T}, !Matched::T) where T<:AbstractString\n   @ Base strings\\basic.jl:231\n  ...\n",
     "output_type": "error",
     "traceback": [
      "MethodError: Cannot `convert` an object of type Int64 to an object of type String\n",
      "The function `convert` exists, but no method is defined for this combination of argument types.\n",
      "\n",
      "Closest candidates are:\n",
      "  convert(::Type{String}, !Matched::Base.JuliaSyntax.Kind)\n",
      "   @ Base C:\\workdir\\base\\JuliaSyntax\\src\\kinds.jl:975\n",
      "  convert(::Type{String}, !Matched::String)\n",
      "   @ Base essentials.jl:461\n",
      "  convert(::Type{T}, !Matched::T) where T<:AbstractString\n",
      "   @ Base strings\\basic.jl:231\n",
      "  ...\n",
      "\n",
      "\n",
      "Stacktrace:\n",
      " [1] setindex!(h::Dict{String, String}, v0::Int64, key::String)\n",
      "   @ Base .\\dict.jl:355\n",
      " [2] top-level scope\n",
      "   @ c:\\Users\\Siergej Sobolewski\\Kursy Cartesian School\\Julia\\Introduction-to-Julia-main\\Introduction-to-Julia-main\\jl_notebook_cell_df34fa98e69747e1a8f8a730347b8e2f_Y222sZmlsZQ==.jl:5"
     ]
    }
   ],
   "source": [
    "# Создание словаря с строковыми значениями\n",
    "myphonebook = Dict(\"Анна\" => \"1234\", \"Борис\" => \"5678\")\n",
    "\n",
    "# Попытка добавить число вызовет ошибку\n",
    "myphonebook[\"Emergency\"] = 911  # ❌ Ошибка!"
   ]
  },
  {
   "cell_type": "markdown",
   "metadata": {},
   "source": [
    "##### ❌ **Почему возникает ошибка?**\n",
    "- При создании `myphonebook` Julia автоматически определяет его тип как:"
   ]
  },
  {
   "cell_type": "code",
   "execution_count": 50,
   "metadata": {},
   "outputs": [
    {
     "data": {
      "text/plain": [
       "Dict{String, String}"
      ]
     },
     "metadata": {},
     "output_type": "display_data"
    }
   ],
   "source": [
    "  Dict{String, String}  # Ключи — строки, значения — только строки"
   ]
  },
  {
   "cell_type": "markdown",
   "metadata": {},
   "source": [
    "- `911` — это `Int`, а словарь **не принимает значения другого типа**.\n",
    "- В Julia **нельзя менять типы элементов после создания словаря**."
   ]
  },
  {
   "cell_type": "markdown",
   "metadata": {},
   "source": [
    "✅ **Как создать `myphonebook`, чтобы он принимал `Int` и `String`?**\n",
    "Нужно **явно указать тип значений как `Any`** при создании:"
   ]
  },
  {
   "cell_type": "code",
   "execution_count": 51,
   "metadata": {},
   "outputs": [
    {
     "data": {
      "text/plain": [
       "Dict{String, Any}"
      ]
     },
     "metadata": {},
     "output_type": "display_data"
    }
   ],
   "source": [
    "# Разрешаем хранить любые типы значений (String, Int, и т. д.)\n",
    "myphonebook = Dict{String, Any}(\"Анна\" => \"1234\", \"Борис\" => \"5678\")\n",
    "\n",
    "# Теперь можно добавить целое число\n",
    "myphonebook[\"Emergency\"] = 911  # ✅ Работает!\n",
    "\n",
    "Dict{String, Any}  # Ключи — строки, значения — любые типы"
   ]
  },
  {
   "cell_type": "markdown",
   "metadata": {},
   "source": [
    "Теперь словарь принимает разные типы значений:"
   ]
  },
  {
   "cell_type": "code",
   "execution_count": 52,
   "metadata": {},
   "outputs": [
    {
     "name": "stdout",
     "output_type": "stream",
     "text": [
      "Dict{String, Any}(\"Emergency\" => 911, \"Борис\" => \"5678\", \"Анна\" => \"1234\")\n"
     ]
    }
   ],
   "source": [
    "println(myphonebook)  \n",
    "# Вывод: Dict{String, Any}(\"Emergency\" => 911, \"Борис\" => \"5678\", \"Анна\" => \"1234\")"
   ]
  },
  {
   "cell_type": "markdown",
   "metadata": {},
   "source": [
    "\n",
    "##### 💡 **Выводы**:\n",
    "\n",
    "- **Обычные словари (`Dict{String, String}`)** строго ограничены типами значений.\n",
    "  \n",
    "- **`Dict{String, Any}`** позволяет хранить **разные типы значений** (например, `Int` и `String`).\n",
    "  \n",
    "- Чтобы **избежать ошибок**, **явно указывайте `Dict{String, Any}`**, если вам нужно хранить разные типы данных.\n",
    "\n",
    "🚀 Теперь `myphonebook` может хранить **и строки, и числа**!"
   ]
  }
 ],
 "metadata": {
  "kernelspec": {
   "display_name": "Julia 1.11.3",
   "language": "julia",
   "name": "julia-1.11"
  },
  "language_info": {
   "file_extension": ".jl",
   "mimetype": "application/julia",
   "name": "julia",
   "version": "1.11.3"
  }
 },
 "nbformat": 4,
 "nbformat_minor": 4
}
