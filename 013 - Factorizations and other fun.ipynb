{
 "cells": [
  {
   "cell_type": "markdown",
   "metadata": {},
   "source": [
    "# **🚀 Факторизация и другие интересные операции в Julia**  \n",
    "# **Урок Тринадцатый.**\n",
    "\n",
    "По мотивам работы Андреаса Ноака Йенсена (MIT & JuliaComputing) [(Twitter)](https://twitter.com/anoackjensen?lang=en)  \n",
    "(с авторскими дополнениями Сергея Соболевского)\n",
    "\n",
    "<br>\n",
    "\n",
    "##  **📌 Темы:**  \n",
    "\n",
    "1. **Что такое факторизация матрицы**\n",
    "   \n",
    "2. **Основные виды факторизации матриц.**\n",
    "   \n",
    "   2.1 **LU-факторизация**\n",
    "\n",
    "   2.2 **QR-факторизация**\n",
    "\n",
    "   2.3 **Cholesky-факторизация**\n",
    "\n",
    "   2.4 **Сингулярное разложение (SVD)**\n",
    "\n",
    "   2.5 **Разложение по собственным значениям и собственным векторам (EVD)**\n",
    "\n",
    "   \n",
    "3. **Специальные матричные структуры.**\n",
    "   \n",
    "4. **Общая линейная алгебра.**\n",
    "\n",
    "\n",
    "\n",
    "<br>\n",
    "\n",
    "\n",
    "<br>\n"
   ]
  },
  {
   "cell_type": "markdown",
   "metadata": {},
   "source": [
    "<br>\n",
    "\n",
    "---\n",
    "\n",
    "<br>\n",
    "\n",
    "# 📚 **1. Что такое факторизация матрицы?**\n",
    "\n",
    "**Факторизация матрицы** (или разложение матрицы) — это представление исходной матрицы в виде произведения нескольких матриц определённого типа, обычно более простых по структуре. \n",
    "\n",
    "Суть метода — исходную задачу (например, решение системы линейных уравнений, нахождение определителя или обратной матрицы) привести к более простой и численно устойчивой форме.\n",
    "\n",
    "<br>\n"
   ]
  },
  {
   "cell_type": "markdown",
   "metadata": {},
   "source": [
    "### 🧮 Для чего нужна факторизация?\n",
    "\n",
    "Факторизация применяется в различных областях математики и вычислительной науки:\n",
    "\n",
    "- **Решение систем линейных уравнений**: упрощает решение, особенно при множестве задач с одинаковой матрицей, но разными правыми частями.\n",
    "- **Нахождение обратных матриц**: облегчает и ускоряет процесс вычисления.\n",
    "- **Определение ранга матрицы и её структуры** (например, собственных значений и векторов).\n",
    "- **Упрощение вычислений** в численных методах, повышая устойчивость и точность расчётов.\n",
    "\n",
    "<br>\n",
    "\n"
   ]
  },
  {
   "cell_type": "markdown",
   "metadata": {},
   "source": [
    "<br>\n",
    "\n",
    "<br>\n"
   ]
  },
  {
   "cell_type": "markdown",
   "metadata": {},
   "source": [
    "### ⚙️ Настройка нашей среды **Julia**.\n",
    "\n",
    "Прежде чем начать, давайте настроим нашу среду , а заодно повторим как подключить в **Julia** библиотеку `LinearAlgebra`, чтобы дальше мы могли применять факторизации и работать со специальными структурами матриц.  \n",
    "\n",
    "- **Подключаем пакет `LinearAlgebra` :**"
   ]
  },
  {
   "cell_type": "code",
   "execution_count": 4,
   "metadata": {},
   "outputs": [],
   "source": [
    "using LinearAlgebra # Подключаем пакет LinearAlgebra\n",
    "\n"
   ]
  },
  {
   "cell_type": "markdown",
   "metadata": {},
   "source": [
    "- **Создаем случайную матрицу $A$ (3x3) :**"
   ]
  },
  {
   "cell_type": "code",
   "execution_count": null,
   "metadata": {},
   "outputs": [],
   "source": [
    "A = rand(3, 3)  # Создаем случайную матрицу 3x3"
   ]
  },
  {
   "cell_type": "markdown",
   "metadata": {},
   "source": [
    "- **Создаем вектор $x$ из трех единиц :**"
   ]
  },
  {
   "cell_type": "code",
   "execution_count": null,
   "metadata": {},
   "outputs": [],
   "source": [
    "x = fill(1, (3,))  # Создаем вектор из трех 1-единиц"
   ]
  },
  {
   "cell_type": "markdown",
   "metadata": {},
   "source": [
    "- **Вычисляем для пробы результат умножения матрицы $A$ на вектор $x$ :**"
   ]
  },
  {
   "cell_type": "code",
   "execution_count": null,
   "metadata": {},
   "outputs": [],
   "source": [
    "b = A * x  # Вычисляем результат умножения матрицы A на вектор x"
   ]
  },
  {
   "cell_type": "markdown",
   "metadata": {},
   "source": [
    "**🚩 \"Бинго!\" Всё получилось, идём дальше!**\n",
    "\n",
    "<br>\n",
    "\n",
    "---\n",
    "\n",
    "<br>"
   ]
  },
  {
   "cell_type": "markdown",
   "metadata": {},
   "source": [
    "## **🔢 2. Основные виды факторизации матриц.**\n",
    "\n",
    "<br>\n",
    "Наиболее часто применяются следующие виды разложений:\n",
    "\n",
    "1. **LU-факторизация**\n",
    "   \n",
    "2. **QR-факторизация**\n",
    "   \n",
    "3. **Cholesky-факторизация**\n",
    "   \n",
    "4. **Сингулярное разложение (SVD)**\n",
    "   \n",
    "5. **Разложение по собственным значениям и собственным векторам (EVD)**\n",
    "\n",
    "<br>\n",
    "\n",
    "Давайте рассмотрим кратко каждый этот тип подробнее, но вначале настроим нашу среду **Julia** для работы.\n",
    "\n",
    "<br>\n",
    "\n",
    "---\n",
    "\n",
    "<br>"
   ]
  },
  {
   "cell_type": "markdown",
   "metadata": {},
   "source": [
    "### 🟢 **2.1 LU-факторизация**\n",
    "\n",
    "<br>\n",
    "\n",
    "**LU-факторизация** — это представление матрицы $A$ в виде произведения нижней треугольной матрицы $L$ (Lower triangular) и верхней треугольной матрицы $U$ (Upper triangular):\n",
    "\n",
    "$$\n",
    "A = L \\cdot U\n",
    "$$\n",
    "\n",
    "Чтобы повысить численную устойчивость вычислений, обычно используется матрица перестановок $P$:\n",
    "\n",
    "$$\n",
    "P \\cdot A = L \\cdot U\n",
    "$$\n",
    "\n",
    "Здесь:\n",
    "\n",
    "- $P$ — матрица перестановок (переставляет строки исходной матрицы $A$),\n",
    "- $L$ — нижняя треугольная матрица с единичными элементами на главной диагонали,\n",
    "- $U$ — верхняя треугольная матрица.\n",
    "\n",
    "<br>\n",
    "\n",
    "#### 🔹 **Применение LU-факторизации:**\n",
    "\n",
    "- Решение систем линейных уравнений.\n",
    "- Вычисление определителей матриц.\n",
    "- Нахождение обратной матрицы.\n"
   ]
  },
  {
   "cell_type": "markdown",
   "metadata": {},
   "source": [
    "В языке Julia LU-факторизация матрицы $A$ выполняется с помощью функции `lu()`:"
   ]
  },
  {
   "cell_type": "code",
   "execution_count": 5,
   "metadata": {},
   "outputs": [
    {
     "data": {
      "text/plain": [
       "LU{Float64, Matrix{Float64}, Vector{Int64}}\n",
       "L factor:\n",
       "2×2 Matrix{Float64}:\n",
       " 1.0  0.0\n",
       " 0.5  1.0\n",
       "U factor:\n",
       "2×2 Matrix{Float64}:\n",
       " 4.0  5.0\n",
       " 0.0  0.5"
      ]
     },
     "metadata": {},
     "output_type": "display_data"
    }
   ],
   "source": [
    "Alu = lu(A)  # Разложение матрицы A на L и U"
   ]
  },
  {
   "cell_type": "markdown",
   "metadata": {},
   "source": [
    "👉 Julia автоматически создаёт объект специального составного типа, который хранит компоненты факторизации.\n",
    "\n",
    "Извлечь компоненты факторизации можно с помощью специальных полей объекта:\n",
    "\n",
    "- **Матрица перестановок:**"
   ]
  },
  {
   "cell_type": "code",
   "execution_count": null,
   "metadata": {},
   "outputs": [],
   "source": [
    "P = Alu.P"
   ]
  },
  {
   "cell_type": "markdown",
   "metadata": {},
   "source": [
    "- **Нижняя треугольная матрица $L$ :**"
   ]
  },
  {
   "cell_type": "code",
   "execution_count": null,
   "metadata": {},
   "outputs": [],
   "source": [
    "L = Alu.L"
   ]
  },
  {
   "cell_type": "markdown",
   "metadata": {},
   "source": [
    "- **Верхняя треугольная матрица $U$ :**"
   ]
  },
  {
   "cell_type": "code",
   "execution_count": null,
   "metadata": {},
   "outputs": [],
   "source": [
    "U = Alu.U"
   ]
  },
  {
   "cell_type": "markdown",
   "metadata": {},
   "source": [
    "### 🗒 **Примеры использования LU-факторизации:**\n",
    "\n",
    "#### 🔹 **Пример 1: Решение системы линейных уравнений:**\n",
    "\n",
    "Пусть задана система линейных уравнений:\n",
    "\n",
    "$$\n",
    "\\begin{cases}\n",
    "2x + 3y = 5 \\\\\n",
    "4x + 5y = 11\n",
    "\\end{cases}\n",
    "$$"
   ]
  },
  {
   "cell_type": "markdown",
   "metadata": {},
   "source": [
    "Запишем в матричной форме:"
   ]
  },
  {
   "cell_type": "code",
   "execution_count": 6,
   "metadata": {},
   "outputs": [
    {
     "data": {
      "text/plain": [
       "2-element Vector{Int64}:\n",
       "  5\n",
       " 11"
      ]
     },
     "metadata": {},
     "output_type": "display_data"
    }
   ],
   "source": [
    "A = [2 3; 4 5]\n",
    "b = [5; 11]"
   ]
  },
  {
   "cell_type": "code",
   "execution_count": 7,
   "metadata": {},
   "outputs": [
    {
     "data": {
      "text/plain": [
       "LU{Float64, Matrix{Float64}, Vector{Int64}}\n",
       "L factor:\n",
       "2×2 Matrix{Float64}:\n",
       " 1.0  0.0\n",
       " 0.5  1.0\n",
       "U factor:\n",
       "2×2 Matrix{Float64}:\n",
       " 4.0  5.0\n",
       " 0.0  0.5"
      ]
     },
     "metadata": {},
     "output_type": "display_data"
    }
   ],
   "source": [
    "Alu = lu(A) # Разложение матрицы A на L и U"
   ]
  },
  {
   "cell_type": "markdown",
   "metadata": {},
   "source": [
    "- **Решение через исходную матрицу:**"
   ]
  },
  {
   "cell_type": "code",
   "execution_count": 8,
   "metadata": {},
   "outputs": [
    {
     "data": {
      "text/plain": [
       "2-element Vector{Float64}:\n",
       "  4.0\n",
       " -1.0"
      ]
     },
     "metadata": {},
     "output_type": "display_data"
    }
   ],
   "source": [
    "x_direct = A \\ b  # Решение системы уравнений Ax = b с помощью обратного хода"
   ]
  },
  {
   "cell_type": "markdown",
   "metadata": {},
   "source": [
    "- **Решение через факторизацию LU:**"
   ]
  },
  {
   "cell_type": "code",
   "execution_count": 9,
   "metadata": {},
   "outputs": [
    {
     "data": {
      "text/plain": [
       "2-element Vector{Float64}:\n",
       "  4.0\n",
       " -1.0"
      ]
     },
     "metadata": {},
     "output_type": "display_data"
    }
   ],
   "source": [
    "x_lu = Alu \\ b  # Решение системы уравнений Ax = b с помощью LU-разложения"
   ]
  },
  {
   "cell_type": "markdown",
   "metadata": {},
   "source": [
    "**Убеждаемся, что оба метода дают одинаковый результат.**"
   ]
  },
  {
   "cell_type": "markdown",
   "metadata": {},
   "source": [
    "\n",
    "#### 🔹 **Пример 2: Вычисление определителя:**\n",
    "\n",
    "Определитель матрицы можно вычислить напрямую или используя LU-факторизацию:"
   ]
  },
  {
   "cell_type": "code",
   "execution_count": 11,
   "metadata": {},
   "outputs": [
    {
     "data": {
      "text/plain": [
       "-2.0"
      ]
     },
     "metadata": {},
     "output_type": "display_data"
    }
   ],
   "source": [
    "det_A_direct = det(A) # Вычисление определителя матрицы A с помощью обратного хода"
   ]
  },
  {
   "cell_type": "code",
   "execution_count": null,
   "metadata": {},
   "outputs": [
    {
     "data": {
      "text/plain": [
       "-2.0"
      ]
     },
     "metadata": {},
     "output_type": "display_data"
    }
   ],
   "source": [
    "\n",
    "det_A_lu = det(Alu) # Вычисление определителя матрицы A с помощью LU-разложения"
   ]
  },
  {
   "cell_type": "markdown",
   "metadata": {},
   "source": [
    "Результаты будут близки до численной погрешности:"
   ]
  },
  {
   "cell_type": "code",
   "execution_count": 12,
   "metadata": {},
   "outputs": [
    {
     "data": {
      "text/plain": [
       "true"
      ]
     },
     "metadata": {},
     "output_type": "display_data"
    }
   ],
   "source": [
    "det(A) ≈ det(Alu) # Проверка равенства определителей"
   ]
  },
  {
   "cell_type": "markdown",
   "metadata": {},
   "source": [
    "#### 👉 **Преимущества LU-факторизации в Julia:**\n",
    "\n",
    "- **Численная стабильность**: Благодаря матрице перестановок факторизация становится устойчивой.\n",
    "  \n",
    "- **Эффективность**: LU-факторизацию можно использовать повторно для различных вычислений (решение систем, нахождение обратной матрицы, вычисление определителей).\n",
    "\n",
    "\n",
    "\n",
    "<br>\n",
    "\n",
    "---\n",
    "\n",
    "<br>\n"
   ]
  },
  {
   "cell_type": "markdown",
   "metadata": {},
   "source": [
    "<br>\n",
    "\n",
    "### 🟢 **2.2 QR-факторизация**\n",
    "\n",
    "**QR-факторизация** — это разложение матрицы $ A $ в виде произведения двух специальных матриц: ортогональной (унитарной) матрицы $ Q $ и верхней треугольной матрицы $ R $ :\n",
    "\n",
    "<br>\n",
    "\n",
    "$$\n",
    "A = Q \\cdot R\n",
    "$$\n",
    "\n",
    "**Характеристики матриц разложения:**\n",
    "\n",
    "- Матрица $ Q $ — ортогональная (унитарная), то есть выполняется:\n",
    "$$\n",
    "Q^T Q = I\n",
    "$$\n",
    "\n",
    "Это означает, что столбцы матрицы $ Q $ :\n",
    "\n",
    "- **ортогональны** друг другу (их скалярное произведение равно нулю);\n",
    "- имеют **единичную длину** (нормированы).\n",
    "\n",
    "- Матрица $ R $ — верхняя треугольная, то есть все её элементы ниже главной диагонали равны нулю.\n"
   ]
  },
  {
   "cell_type": "markdown",
   "metadata": {},
   "source": [
    "<br>\n",
    "\n",
    "#### 📌 **Применение QR-факторизации:**\n",
    "\n",
    "QR-факторизация широко используется в вычислительной математике, статистике и инженерии:\n",
    "\n",
    "- **Решение задач наименьших квадратов** (линейная регрессия).\n",
    "  \n",
    "- **Решение линейных систем уравнений** (особенно устойчивых к численным погрешностям).\n",
    "  \n",
    "- **Вычисление собственных значений и векторов** (QR-алгоритм).\n",
    "\n",
    "<br>"
   ]
  },
  {
   "cell_type": "markdown",
   "metadata": {},
   "source": [
    "### 🗒  **Примеры выполнения QR-факторизации в Julia:**\n",
    "\n",
    "#### 🔹 **Пример 1.**\n",
    "\n",
    "В языке Julia **QR-факторизацию** матрицы $ A $ можно выполнить с помощью функции `qr()`:\n"
   ]
  },
  {
   "cell_type": "code",
   "execution_count": 13,
   "metadata": {},
   "outputs": [
    {
     "data": {
      "text/plain": [
       "LinearAlgebra.QRCompactWY{Float64, Matrix{Float64}, Matrix{Float64}}\n",
       "Q factor: 2×2 LinearAlgebra.QRCompactWYQ{Float64, Matrix{Float64}, Matrix{Float64}}\n",
       "R factor:\n",
       "2×2 Matrix{Float64}:\n",
       " -4.47214  -5.81378\n",
       "  0.0      -0.447214"
      ]
     },
     "metadata": {},
     "output_type": "display_data"
    }
   ],
   "source": [
    "Aqr = qr(A) # Разложение матрицы A на Q и R"
   ]
  },
  {
   "cell_type": "markdown",
   "metadata": {},
   "source": [
    "\n",
    "После этого результат факторизации сохраняется в специальном объекте, из которого легко извлечь матрицы $ Q $ и $ R $ :\n",
    "\n",
    "- **Матрица $ Q $** (ортогональная матрица):"
   ]
  },
  {
   "cell_type": "code",
   "execution_count": 14,
   "metadata": {},
   "outputs": [
    {
     "data": {
      "text/plain": [
       "2×2 LinearAlgebra.QRCompactWYQ{Float64, Matrix{Float64}, Matrix{Float64}}"
      ]
     },
     "metadata": {},
     "output_type": "display_data"
    }
   ],
   "source": [
    "Q = Aqr.Q"
   ]
  },
  {
   "cell_type": "markdown",
   "metadata": {},
   "source": [
    "- **Матрица $ R $** (верхняя треугольная матрица):"
   ]
  },
  {
   "cell_type": "code",
   "execution_count": 15,
   "metadata": {},
   "outputs": [
    {
     "data": {
      "text/plain": [
       "2×2 Matrix{Float64}:\n",
       " -4.47214  -5.81378\n",
       "  0.0      -0.447214"
      ]
     },
     "metadata": {},
     "output_type": "display_data"
    }
   ],
   "source": [
    "R = Aqr.R"
   ]
  },
  {
   "cell_type": "markdown",
   "metadata": {},
   "source": [
    "👉 Таким образом, после выполнения **QR-факторизации** мы можем работать с её компонентами напрямую и эффективно."
   ]
  },
  {
   "cell_type": "markdown",
   "metadata": {},
   "source": [
    "#### 🔹 **Пример 2.**\n",
    "\n",
    "**Краткий пример использования, :) для закрепления темы:**\n",
    "\n",
    "Рассмотрим простую матрицу:\n",
    "\n",
    "```julia\n",
    "A = [1 2; \n",
    "     3 4; \n",
    "     5 6]\n",
    "```"
   ]
  },
  {
   "cell_type": "code",
   "execution_count": 16,
   "metadata": {},
   "outputs": [
    {
     "data": {
      "text/plain": [
       "3×2 Matrix{Int64}:\n",
       " 1  2\n",
       " 3  4\n",
       " 5  6"
      ]
     },
     "metadata": {},
     "output_type": "display_data"
    }
   ],
   "source": [
    "A = [1 2; 3 4; 5 6]"
   ]
  },
  {
   "cell_type": "code",
   "execution_count": 17,
   "metadata": {},
   "outputs": [
    {
     "data": {
      "text/plain": [
       "LinearAlgebra.QRCompactWY{Float64, Matrix{Float64}, Matrix{Float64}}\n",
       "Q factor: 3×3 LinearAlgebra.QRCompactWYQ{Float64, Matrix{Float64}, Matrix{Float64}}\n",
       "R factor:\n",
       "2×2 Matrix{Float64}:\n",
       " -5.91608  -7.43736\n",
       "  0.0       0.828079"
      ]
     },
     "metadata": {},
     "output_type": "display_data"
    }
   ],
   "source": [
    "Aqr = qr(A) # Разложение матрицы A на Q и R"
   ]
  },
  {
   "cell_type": "code",
   "execution_count": 18,
   "metadata": {},
   "outputs": [
    {
     "data": {
      "text/plain": [
       "3×3 LinearAlgebra.QRCompactWYQ{Float64, Matrix{Float64}, Matrix{Float64}}"
      ]
     },
     "metadata": {},
     "output_type": "display_data"
    }
   ],
   "source": [
    "Q = Aqr.Q   # ортогональная матрица"
   ]
  },
  {
   "cell_type": "code",
   "execution_count": 19,
   "metadata": {},
   "outputs": [
    {
     "data": {
      "text/plain": [
       "2×2 Matrix{Float64}:\n",
       " -5.91608  -7.43736\n",
       "  0.0       0.828079"
      ]
     },
     "metadata": {},
     "output_type": "display_data"
    }
   ],
   "source": [
    "R = Aqr.R   # верхняя треугольная матрица"
   ]
  },
  {
   "cell_type": "markdown",
   "metadata": {},
   "source": [
    "👉 **Теперь исходная матрица $ A $ может быть представлена в виде:**\n",
    "\n",
    "$$\n",
    "A = Q \\cdot R\n",
    "$$\n"
   ]
  },
  {
   "cell_type": "code",
   "execution_count": null,
   "metadata": {},
   "outputs": [],
   "source": [
    "A = Q * R  # Проверка разложения"
   ]
  },
  {
   "cell_type": "markdown",
   "metadata": {},
   "source": [
    "<br>\n",
    "\n",
    "#### 👉 **Преимущества использования QR-факторизации:**\n",
    "\n",
    "- **Численная устойчивость**: QR-факторизация обычно более стабильна и точна, чем другие методы (например, LU-факторизация), особенно при работе с плохо обусловленными матрицами.\n",
    "  \n",
    "- **Эффективность**: Позволяет быстро и устойчиво решать системы линейных уравнений и задачи регрессии.\n",
    "\n"
   ]
  },
  {
   "cell_type": "markdown",
   "metadata": {},
   "source": [
    "<br>\n",
    "\n",
    "---\n",
    "\n",
    "<br>"
   ]
  },
  {
   "cell_type": "markdown",
   "metadata": {},
   "source": [
    "<br>\n",
    "\n",
    "### 🟢 **2.3 Cholesky-факторизация**\n",
    "\n",
    "**Cholesky-факторизация** применяется исключительно для **симметричных и положительно определённых** матриц. Она представляется в виде произведения нижней треугольной матрицы $L$ и её транспонированной матрицы $L^T$:\n",
    "\n",
    "$$\n",
    "A = L \\cdot L^T\n",
    "$$\n",
    "\n",
    "где:\n",
    "\n",
    "- $L$ — нижняя треугольная матрица (все элементы выше диагонали равны нулю).\n",
    "- $L^T$ — верхняя треугольная матрица, транспонированная к $L$.\n",
    "\n",
    "<br>\n",
    "\n",
    "##### В Julia **Cholesky-факторизация** выполняется функцией `cholesky()` .\n",
    "\n",
    "<br>\n",
    "\n",
    "### 🔹 **Особенности Cholesky-факторизации:**\n",
    "\n",
    "- Используется только для симметричных и положительно определённых матриц.\n",
    "- Является более простым и численно стабильным методом по сравнению с LU-факторизацией.\n",
    "- Более эффективна с точки зрения производительности, так как требует примерно в два раза меньше вычислений, чем LU-факторизация.\n",
    "\n",
    "<br>\n"
   ]
  },
  {
   "cell_type": "markdown",
   "metadata": {},
   "source": [
    "#### 📌 **Применение Cholesky-факторизации:**\n",
    "\n",
    "- Решение систем линейных уравнений (особенно с симметричными матрицами).\n",
    "  \n",
    "- Вычисления в статистике (например, линейные регрессионные модели, многомерное нормальное распределение).\n",
    "  \n",
    "- Численные методы оптимизации и анализа данных.\n",
    "\n",
    "<br>\n",
    "\n",
    "\n",
    "### 🗒  **Примеры Cholesky-факторизации в Julia:**\n",
    "\n",
    "#### 🔹 **Пример 1.**\n",
    "\n",
    "1. **Определяем симметричную положительно определённую матрицу $A$:**\n",
    "\n",
    "```julia\n",
    "A = [\n",
    "    25.0  15.0  -5.0;\n",
    "    15.0  18.0   0.0;\n",
    "    -5.0   0.0  11.0\n",
    "]\n",
    "```\n"
   ]
  },
  {
   "cell_type": "code",
   "execution_count": 22,
   "metadata": {},
   "outputs": [
    {
     "data": {
      "text/plain": [
       "3×3 Matrix{Float64}:\n",
       " 25.0  15.0  -5.0\n",
       " 15.0  18.0   0.0\n",
       " -5.0   0.0  11.0"
      ]
     },
     "metadata": {},
     "output_type": "display_data"
    }
   ],
   "source": [
    "A = [\n",
    "    25.0  15.0  -5.0;\n",
    "    15.0  18.0   0.0;\n",
    "    -5.0   0.0  11.0\n",
    "]"
   ]
  },
  {
   "cell_type": "markdown",
   "metadata": {},
   "source": [
    "2. **Выполняем проверку симметричности :**"
   ]
  },
  {
   "cell_type": "code",
   "execution_count": 23,
   "metadata": {},
   "outputs": [
    {
     "name": "stdout",
     "output_type": "stream",
     "text": [
      "Is A symmetric? true\n"
     ]
    }
   ],
   "source": [
    "println(\"Is A symmetric? \", issymmetric(A)) # Проверка симметричности матрицы A"
   ]
  },
  {
   "cell_type": "markdown",
   "metadata": {},
   "source": [
    "3. **Выполнение Cholesky-факторизации :**"
   ]
  },
  {
   "cell_type": "code",
   "execution_count": 24,
   "metadata": {},
   "outputs": [
    {
     "data": {
      "text/plain": [
       "Cholesky{Float64, Matrix{Float64}}\n",
       "U factor:\n",
       "3×3 UpperTriangular{Float64, Matrix{Float64}}:\n",
       " 5.0  3.0  -1.0\n",
       "  ⋅   3.0   1.0\n",
       "  ⋅    ⋅    3.0"
      ]
     },
     "metadata": {},
     "output_type": "display_data"
    }
   ],
   "source": [
    "cholesky_factor = cholesky(A) # Разложение матрицы A на L и L^T"
   ]
  },
  {
   "cell_type": "markdown",
   "metadata": {},
   "source": [
    "4. **Выводим результат, т.е. извлекаем компоненты факторизации следующим образом:**\n",
    "\n",
    "- **Нижняя треугольная матрица $L$ :**"
   ]
  },
  {
   "cell_type": "code",
   "execution_count": 26,
   "metadata": {},
   "outputs": [
    {
     "data": {
      "text/plain": [
       "3×3 LowerTriangular{Float64, Matrix{Float64}}:\n",
       "  5.0   ⋅    ⋅ \n",
       "  3.0  3.0   ⋅ \n",
       " -1.0  1.0  3.0"
      ]
     },
     "metadata": {},
     "output_type": "display_data"
    }
   ],
   "source": [
    "L = cholesky_factor.L # нижняя треугольная матрица"
   ]
  },
  {
   "cell_type": "code",
   "execution_count": 25,
   "metadata": {},
   "outputs": [
    {
     "name": "stdout",
     "output_type": "stream",
     "text": [
      "Cholesky factor L:\n",
      "[5.0 0.0 0.0; 3.0 3.0 0.0; -1.0 1.0 3.0]\n"
     ]
    }
   ],
   "source": [
    "println(\"Cholesky factor L:\\n\", cholesky_factor.L) # Матрица L"
   ]
  },
  {
   "cell_type": "markdown",
   "metadata": {},
   "source": [
    "#### 🔹 **Пример 2. Использования Cholesky-факторизации, ещё один:** :*\n",
    "\n",
    "Рассмотрим симметричную и положительно определённую матрицу:"
   ]
  },
  {
   "cell_type": "code",
   "execution_count": 27,
   "metadata": {},
   "outputs": [
    {
     "data": {
      "text/plain": [
       "2×2 Matrix{Int64}:\n",
       " 4  2\n",
       " 2  3"
      ]
     },
     "metadata": {},
     "output_type": "display_data"
    }
   ],
   "source": [
    "A = [4 2; 2 3]"
   ]
  },
  {
   "cell_type": "markdown",
   "metadata": {},
   "source": [
    "- **Проверяем положительную определённость (собственные значения положительны):**"
   ]
  },
  {
   "cell_type": "code",
   "execution_count": 28,
   "metadata": {},
   "outputs": [
    {
     "data": {
      "text/plain": [
       "2-element Vector{Float64}:\n",
       " 1.43844718719117\n",
       " 5.561552812808831"
      ]
     },
     "metadata": {},
     "output_type": "display_data"
    }
   ],
   "source": [
    "eigvals(A) # Вычисление собственных значений матрицы A"
   ]
  },
  {
   "cell_type": "markdown",
   "metadata": {},
   "source": [
    "\n",
    "- **Выполняем Cholesky-факторизацию:**"
   ]
  },
  {
   "cell_type": "code",
   "execution_count": 32,
   "metadata": {},
   "outputs": [
    {
     "data": {
      "text/plain": [
       "Cholesky{Float64, Matrix{Float64}}\n",
       "U factor:\n",
       "2×2 UpperTriangular{Float64, Matrix{Float64}}:\n",
       " 2.0  1.0\n",
       "  ⋅   1.41421"
      ]
     },
     "metadata": {},
     "output_type": "display_data"
    }
   ],
   "source": [
    "A_chol = cholesky(A)"
   ]
  },
  {
   "cell_type": "markdown",
   "metadata": {},
   "source": [
    "- **Извлекаем нижнюю треугольную матрицу L :**"
   ]
  },
  {
   "cell_type": "code",
   "execution_count": 33,
   "metadata": {},
   "outputs": [
    {
     "data": {
      "text/plain": [
       "2×2 LowerTriangular{Float64, Matrix{Float64}}:\n",
       " 2.0   ⋅ \n",
       " 1.0  1.41421"
      ]
     },
     "metadata": {},
     "output_type": "display_data"
    }
   ],
   "source": [
    "L = A_chol.L"
   ]
  },
  {
   "cell_type": "markdown",
   "metadata": {},
   "source": [
    "- **Проверим правильность разложения :**"
   ]
  },
  {
   "cell_type": "code",
   "execution_count": 34,
   "metadata": {},
   "outputs": [
    {
     "data": {
      "text/plain": [
       "2×2 Matrix{Float64}:\n",
       " 4.0  2.0\n",
       " 2.0  3.0"
      ]
     },
     "metadata": {},
     "output_type": "display_data"
    }
   ],
   "source": [
    "A_reconstructed = L * L' # Восстановление матрицы A"
   ]
  },
  {
   "cell_type": "markdown",
   "metadata": {},
   "source": [
    "- **Проверка равенства определителей :**"
   ]
  },
  {
   "cell_type": "code",
   "execution_count": 35,
   "metadata": {},
   "outputs": [
    {
     "data": {
      "text/plain": [
       "true"
      ]
     },
     "metadata": {},
     "output_type": "display_data"
    }
   ],
   "source": [
    "det(A_reconstructed) ≈ det(A) # Проверка равенства определителей"
   ]
  },
  {
   "cell_type": "markdown",
   "metadata": {},
   "source": [
    "#### 👉 **Преимущества Cholesky-факторизации:**\n",
    "\n",
    "- Высокая численная устойчивость.\n",
    "  \n",
    "- Минимальные требования к памяти.\n",
    "  \n",
    "- Повышенная производительность для специальных типов матриц.\n",
    "\n",
    "<br>\n",
    "\n",
    "🚀 Используя **Cholesky-факторизацию** в Julia, можно эффективно и стабильно решать системы линейных уравнений, часто возникающие в прикладных задачах статистики и численного анализа.\n",
    "\n",
    "<br>"
   ]
  },
  {
   "cell_type": "markdown",
   "metadata": {},
   "source": [
    "---"
   ]
  },
  {
   "cell_type": "markdown",
   "metadata": {},
   "source": [
    "<br>\n",
    "\n",
    "### 🟢 **2.4 Сингулярное разложение (SVD, Singular Value Decomposition)**\n",
    "\n",
    "**Сингулярное разложение (SVD)** — это факторизация любой матрицы $A$ (включая неквадратные) в виде произведения трёх матриц:\n",
    "\n",
    "<br>\n",
    "\n",
    "$$\n",
    "A = U \\cdot \\Sigma \\cdot V^T\n",
    "$$\n",
    "\n",
    "**где:**\n",
    "\n",
    "- $U$ — ортогональная матрица размера $m \\times m$, содержащая левые сингулярные векторы.\n",
    "  \n",
    "- $V$ — ортогональная матрица размера $n \\times n$, содержащая правые сингулярные векторы.\n",
    "  \n",
    "- $\\Sigma$ — прямоугольная диагональная матрица размера $m \\times n$, содержащая сингулярные числа на диагонали (упорядочены по убыванию и всегда неотрицательные).\n",
    "  \n",
    "<br>\n",
    "\n",
    "##### **В Julia сингулярное разложение выполняется функцией `svd()`.**\n",
    "\n",
    "<br>\n",
    "\n",
    "#### 🔹 **Особенности сингулярного разложения (SVD):**\n",
    "\n",
    "- Работает для любой матрицы (квадратной и неквадратной).\n",
    "  \n",
    "- Диагональные элементы (сингулярные числа) матрицы $\\Sigma$ неотрицательны и расположены по убыванию.\n",
    "  \n",
    "- Позволяет оценивать ранг матрицы и её численную устойчивость.\n",
    "\n",
    "<br>\n",
    "\n",
    "#### 📌 **Применение SVD:**\n",
    "\n",
    "- **Сжатие и обработка изображений:** Уменьшение размерности данных, PCA (метод главных компонент).\n",
    "  \n",
    "- **Анализ данных и машинное обучение:** Рекомендательные системы, кластеризация, обработка естественного языка.\n",
    "  \n",
    "- **Определение ранга матрицы:** Оценка численной стабильности и качества аппроксимации данных.\n",
    "  \n",
    "  <br>"
   ]
  },
  {
   "cell_type": "markdown",
   "metadata": {},
   "source": [
    "### 🗒  **Примеры SVD-разложения в Julia:**\n",
    "\n",
    "#### 🔹 **Пример 1.**\n",
    "\n",
    "1. **Определяем симметричную положительно определённую матрицу $A$:**\n",
    "\n",
    "```julia\n",
    "A = [\n",
    "    25.0  15.0  -5.0;\n",
    "    15.0  18.0   0.0;\n",
    "    -5.0   0.0  11.0\n",
    "]\n",
    "```"
   ]
  },
  {
   "cell_type": "code",
   "execution_count": null,
   "metadata": {},
   "outputs": [],
   "source": [
    "A = [\n",
    "    25.0  15.0  -5.0;\n",
    "    15.0  18.0   0.0;\n",
    "    -5.0   0.0  11.0\n",
    "]"
   ]
  },
  {
   "cell_type": "markdown",
   "metadata": {},
   "source": []
  },
  {
   "cell_type": "markdown",
   "metadata": {},
   "source": [
    "2. **Выполним сингулярное разложение при помощи функцией `svd()`:**"
   ]
  },
  {
   "cell_type": "code",
   "execution_count": null,
   "metadata": {},
   "outputs": [],
   "source": [
    "Asvd = svd(A)"
   ]
  },
  {
   "cell_type": "markdown",
   "metadata": {},
   "source": [
    "3. **Полученные компоненты факторизации извлекаются следующим образом:**\n",
    "   \n"
   ]
  },
  {
   "cell_type": "markdown",
   "metadata": {},
   "source": [
    "- Матрица $U$ (левые сингулярные векторы):"
   ]
  },
  {
   "cell_type": "code",
   "execution_count": null,
   "metadata": {},
   "outputs": [],
   "source": [
    "U = Asvd.U"
   ]
  },
  {
   "cell_type": "markdown",
   "metadata": {},
   "source": [
    "- Диагональная матрица сингулярных чисел $\\Sigma$:"
   ]
  },
  {
   "cell_type": "code",
   "execution_count": null,
   "metadata": {},
   "outputs": [],
   "source": [
    "S = Asvd.S"
   ]
  },
  {
   "cell_type": "markdown",
   "metadata": {},
   "source": [
    "- Матрица $V$ (правые сингулярные векторы):"
   ]
  },
  {
   "cell_type": "code",
   "execution_count": null,
   "metadata": {},
   "outputs": [],
   "source": [
    "V = Asvd.V"
   ]
  },
  {
   "cell_type": "markdown",
   "metadata": {},
   "source": [
    "- **Восстановление исходной матрицы по её SVD-разложению :**"
   ]
  },
  {
   "cell_type": "markdown",
   "metadata": {},
   "source": [
    "A_reconstructed = U * Diagonal(S) * V'"
   ]
  },
  {
   "cell_type": "markdown",
   "metadata": {},
   "source": [
    "### 🔹 **Пример 2 использования SVD:**\n",
    "\n",
    "Рассмотрим новую матрицу:\n",
    "\n",
    "```julia\n",
    "A = [3 1; 1 3; 1 1]\n",
    "```\n",
    "\n"
   ]
  },
  {
   "cell_type": "code",
   "execution_count": null,
   "metadata": {},
   "outputs": [],
   "source": [
    "A = [3 1; 1 3; 1 1]"
   ]
  },
  {
   "cell_type": "markdown",
   "metadata": {},
   "source": [
    "- **Выполняем SVD-разложение :**"
   ]
  },
  {
   "cell_type": "code",
   "execution_count": null,
   "metadata": {},
   "outputs": [],
   "source": [
    "Asvd = svd(A) # Сингулярное разложение матрицы A"
   ]
  },
  {
   "cell_type": "markdown",
   "metadata": {},
   "source": [
    "- **Матрица $U$ (левые сингулярные векторы):**"
   ]
  },
  {
   "cell_type": "code",
   "execution_count": null,
   "metadata": {},
   "outputs": [],
   "source": [
    "U = Asvd.U # ортогональная матрица"
   ]
  },
  {
   "cell_type": "markdown",
   "metadata": {},
   "source": [
    "- **Диагональная матрица сингулярных чисел $\\Sigma$ :**"
   ]
  },
  {
   "cell_type": "code",
   "execution_count": null,
   "metadata": {},
   "outputs": [],
   "source": [
    "S = Asvd.S # диагональная матрица"
   ]
  },
  {
   "cell_type": "markdown",
   "metadata": {},
   "source": [
    "- **Матрица $V$ (правые сингулярные векторы):**"
   ]
  },
  {
   "cell_type": "code",
   "execution_count": null,
   "metadata": {},
   "outputs": [],
   "source": [
    "V = Asvd.V # ортогональная матрица"
   ]
  },
  {
   "cell_type": "markdown",
   "metadata": {},
   "source": [
    "- **Восстановление исходной матрицы по её SVD-разложению:**"
   ]
  },
  {
   "cell_type": "code",
   "execution_count": null,
   "metadata": {},
   "outputs": [],
   "source": [
    "A_reconstructed = U * Diagonal(S) * V' # Восстановление матрицы A"
   ]
  },
  {
   "cell_type": "markdown",
   "metadata": {},
   "source": [
    "#### 👉 **Преимущества в использовании SVD-разложения:**\n",
    "\n",
    "- Позволяет работать с любыми матрицами, включая неквадратные.\n",
    "  \n",
    "- Высокая численная устойчивость и надёжность.\n",
    "  \n",
    "- Эффективно решает задачи, связанные с обработкой больших объёмов данных, особенно при анализе данных и машинном обучении.\n",
    "\n",
    "<br>\n",
    "\n",
    "<br>"
   ]
  },
  {
   "cell_type": "markdown",
   "metadata": {},
   "source": [
    "---"
   ]
  },
  {
   "cell_type": "markdown",
   "metadata": {},
   "source": [
    "<br>\n",
    "\n",
    "### 🟢 **2.5 Собственные разложения (Eigendecompositions -EVD)**\n",
    "\n",
    "<br>\n",
    "\n",
    "**Собственное разложение (Eigendecomposition)** — это представление её в виде произведения трёх матриц:\n",
    "\n",
    "<br>\n",
    "\n",
    "$$\n",
    "A = V \\Lambda V^{-1},\n",
    "$$\n",
    "\n",
    "\n",
    "**где:**\n",
    "\n",
    "- $ V $ — матрица собственных векторов,\n",
    "- $ \\Lambda $ — диагональная матрица собственных значений.\n"
   ]
  },
  {
   "cell_type": "markdown",
   "metadata": {},
   "source": [
    "### 🗒  **Примеры EVD-разложения в Julia:**\n",
    "\n",
    "#### 🔹 **Пример 1.**\n",
    "\n",
    "1. **Предположим, что у нас есть симметричная матрица $A$, созданная следующим образом :**\n",
    "\n",
    "\n",
    "```julia\n",
    "A = [\n",
    "    25.0  15.0  -5.0;\n",
    "    15.0  18.0   0.0;\n",
    "    -5.0   0.0  11.0\n",
    "]\n",
    "```"
   ]
  },
  {
   "cell_type": "code",
   "execution_count": 8,
   "metadata": {},
   "outputs": [
    {
     "data": {
      "text/plain": [
       "3×3 Matrix{Float64}:\n",
       " 25.0  15.0  -5.0\n",
       " 15.0  18.0   0.0\n",
       " -5.0   0.0  11.0"
      ]
     },
     "metadata": {},
     "output_type": "display_data"
    }
   ],
   "source": [
    "A = [\n",
    "    25.0  15.0  -5.0;\n",
    "    15.0  18.0   0.0;\n",
    "    -5.0   0.0  11.0\n",
    "]"
   ]
  },
  {
   "cell_type": "markdown",
   "metadata": {},
   "source": [
    "- **Или мы можем создать симметричную матрицу:**"
   ]
  },
  {
   "cell_type": "code",
   "execution_count": null,
   "metadata": {},
   "outputs": [],
   "source": [
    "Asym = A + A'# Создание симметричной матрицы"
   ]
  },
  {
   "cell_type": "markdown",
   "metadata": {},
   "source": [
    "- **Чтобы вычислить собственное разложение, используем функцию `eigen`:**"
   ]
  },
  {
   "cell_type": "code",
   "execution_count": 11,
   "metadata": {},
   "outputs": [
    {
     "data": {
      "text/plain": [
       "Eigen{Float64, Float64, Matrix{Float64}, Vector{Float64}}\n",
       "values:\n",
       "3-element Vector{Float64}:\n",
       "  8.990924996526852\n",
       " 24.03136729085444\n",
       " 74.9777077126187\n",
       "vectors:\n",
       "3×3 Matrix{Float64}:\n",
       "  0.595003  -0.178127   0.783736\n",
       " -0.660893   0.446485   0.603219\n",
       "  0.457375   0.876882  -0.147937"
      ]
     },
     "metadata": {},
     "output_type": "display_data"
    }
   ],
   "source": [
    "AsymEig = eigen(Asym) # Вычисление собственных значений и векторов матрицы Asym"
   ]
  },
  {
   "cell_type": "markdown",
   "metadata": {},
   "source": [
    "👉 **Полученный нами результат вычисления представляет собой собственные значения и собственные векторы симметричной матрицы:**\n",
    "\n",
    "- **Собственные значения (eigenvalues)**:\n",
    "```julia\n",
    "[8.990924996526852, 24.03136729085444, 74.9777077126187]\n",
    "```\n",
    "Собственные значения отражают, как исходная матрица масштабирует (растягивает или сжимает) пространство вдоль направлений, заданных соответствующими собственными векторами. \n",
    "\n",
    "Чем больше собственное значение, тем сильнее растяжение в направлении его собственного вектора.\n",
    "\n",
    "<br>\n",
    "\n",
    "- **Собственные векторы (eigenvectors)**:\n",
    "\n",
    "Это столбцы (векторы) нашей матрицы –  направления (нормализованные векторы длины 1), по которым происходит масштабирование пространства. Каждый собственный вектор соответствует собственному значению с тем же индексом:\n",
    "\n",
    "- Вектор 1 `[0.595003, -0.660893, 0.457375]` соответствует собственному значению `8.9909`.\n",
    "  \n",
    "- Вектор 2`[-0.178127, 0.446485, 0.876882]` соответствует собственному значению `24.0314`.\n",
    "  \n",
    "- Вектор 3 `[0.783736, 0.603219, -0.147937]` соответствует собственному значению `74.9777`.\n",
    "\n",
    "<br>\n",
    "\n",
    ">**Говоря простыми словами наша исходная матрица при умножении на данные векторы просто меняет их длину, не меняя направления.**\n",
    ">**Эти три направления ортогональны (перпендикулярны друг другу), так как исходная матрица симметрична.**\n",
    ">**Таким образом, полученный нами результат — не что инное как полное разложение матрицы на ортогональные направления и коэффициенты масштабирования.**\n",
    "\n",
    "<br>"
   ]
  },
  {
   "cell_type": "markdown",
   "metadata": {},
   "source": [
    "#### 🔹 Рассмотрим доступ к собственным значениям и векторам матрицы:\n",
    "\n",
    "\n",
    "- **Задаем исходную матрицу A, которая будет использована для демонстрации собственных значений и векторов**\n",
    "\n",
    "```julia\n",
    "A = [\n",
    "    25.0  15.0  -5.0;\n",
    "    15.0  18.0   0.0;\n",
    "    -5.0   0.0  11.0\n",
    "]\n",
    "```"
   ]
  },
  {
   "cell_type": "markdown",
   "metadata": {},
   "source": [
    "A = [\n",
    "    25.0  15.0  -5.0;\n",
    "    15.0  18.0   0.0;\n",
    "    -5.0   0.0  11.0\n",
    "]"
   ]
  },
  {
   "cell_type": "markdown",
   "metadata": {},
   "source": [
    "- **Создаём симметричную матрицу.**\n",
    "\n",
    "Симметричная матрица важна для вычисления собственных значений и векторов, так как обеспечивает реальные значения и ортогональность собственных векторов."
   ]
  },
  {
   "cell_type": "code",
   "execution_count": null,
   "metadata": {},
   "outputs": [],
   "source": [
    "Asym = A + A'"
   ]
  },
  {
   "cell_type": "markdown",
   "metadata": {},
   "source": [
    "- **Выполняем EVD-разложение**\n",
    "\n",
    "Вычисляем собственные значения и собственные векторы, получая EVD-разложение матрицы."
   ]
  },
  {
   "cell_type": "code",
   "execution_count": null,
   "metadata": {},
   "outputs": [],
   "source": [
    "AsymEig = eigen(Asym)"
   ]
  },
  {
   "cell_type": "markdown",
   "metadata": {},
   "source": [
    "- **Получаем доступ к собственным значениям и векторам:**\n",
    "  \n",
    "  "
   ]
  },
  {
   "cell_type": "markdown",
   "metadata": {},
   "source": [
    "**Собственные значения** - показывают степень масштабирования пространства по соответствующим направлениям (собственным векторам):"
   ]
  },
  {
   "cell_type": "code",
   "execution_count": null,
   "metadata": {},
   "outputs": [],
   "source": [
    "λ = AsymEig.values                     # Собственные значения\n",
    "println(\"Собственные значения: \", λ)   # Вывод собственных значений"
   ]
  },
  {
   "cell_type": "markdown",
   "metadata": {},
   "source": [
    "**Собственные векторы** - задают направления, по которым происходит масштабирование:"
   ]
  },
  {
   "cell_type": "code",
   "execution_count": null,
   "metadata": {},
   "outputs": [],
   "source": [
    "V = AsymEig.vectors                    # Собственные векторы\n",
    "println(\"Собственные векторы: \\n\", V)  # Вывод собственных векторов"
   ]
  },
  {
   "cell_type": "markdown",
   "metadata": {},
   "source": [
    "- **Проверим корректность факторизации**\n",
    "  \n",
    "А именно, что произведение `Asym` на `V` дает то же самое, что и произведение `V` на диагональную матрицу собственных значений"
   ]
  },
  {
   "cell_type": "code",
   "execution_count": null,
   "metadata": {},
   "outputs": [],
   "source": [
    "println(\"Проверка разложения: \", norm(Asym * V - V * Diagonal(λ)))  # должно быть ≈ 0"
   ]
  },
  {
   "cell_type": "markdown",
   "metadata": {},
   "source": [
    "<br>\n",
    "\n",
    "<br>\n",
    "\n",
    "\n",
    "#### 🔹 Использование EVD-факторизации для оптимизации вычислений."
   ]
  },
  {
   "cell_type": "markdown",
   "metadata": {},
   "source": [
    "**Используя EVD-факторизацию, обратная матрица вычисляется намного эффективнее, особенно для больших матриц**"
   ]
  },
  {
   "cell_type": "code",
   "execution_count": 12,
   "metadata": {},
   "outputs": [
    {
     "data": {
      "text/plain": [
       "3×3 Matrix{Float64}:\n",
       "  0.0488889  -0.0407407   0.0222222\n",
       " -0.0407407   0.0617284  -0.0185185\n",
       "  0.0222222  -0.0185185   0.0555556"
      ]
     },
     "metadata": {},
     "output_type": "display_data"
    }
   ],
   "source": [
    "Asym_inv_eig = inv(AsymEig)"
   ]
  },
  {
   "cell_type": "markdown",
   "metadata": {},
   "source": [
    "**Проверим точность вычисления обратной матрицы :**"
   ]
  },
  {
   "cell_type": "code",
   "execution_count": 13,
   "metadata": {},
   "outputs": [
    {
     "name": "stdout",
     "output_type": "stream",
     "text": [
      "Эффективно вычисленная обратная матрица через EVD:\n",
      "[0.048888888888888864 -0.04074074074074075 0.022222222222222202; -0.04074074074074074 0.06172839506172842 -0.01851851851851851; 0.022222222222222185 -0.0185185185185185 0.055555555555555594]\n"
     ]
    }
   ],
   "source": [
    "println(\"Эффективно вычисленная обратная матрица через EVD:\\n\", Asym_inv_eig)"
   ]
  },
  {
   "cell_type": "markdown",
   "metadata": {},
   "source": [
    "**Убедимся в корректности (должна получиться единичная матрица)**\n",
    "\n",
    "Этим шагом мы проверяем, что при умножении исходной матрицы на обратную, получается единичная матрица (I):"
   ]
  },
  {
   "cell_type": "code",
   "execution_count": 14,
   "metadata": {},
   "outputs": [
    {
     "name": "stdout",
     "output_type": "stream",
     "text": [
      "Проверка корректности вычисления обратной матрицы:\n",
      "[0.9999999999999988 -1.1102230246251565e-15 -2.220446049250313e-16; 8.881784197001252e-16 1.000000000000001 1.6653345369377348e-16; -1.7763568394002505e-15 -4.440892098500626e-16 1.000000000000001]\n"
     ]
    }
   ],
   "source": [
    "println(\"Проверка корректности вычисления обратной матрицы:\\n\", Asym_inv_eig * Asym)"
   ]
  },
  {
   "cell_type": "markdown",
   "metadata": {},
   "source": [
    "**Сравним со стандартным способом вычисления обратной матрицы, что менее эффективно. Но так ли это?**\n",
    "\n",
    "Проверим, насколько сильно отличается результат, полученный через стандартный подход"
   ]
  },
  {
   "cell_type": "code",
   "execution_count": 15,
   "metadata": {},
   "outputs": [
    {
     "name": "stdout",
     "output_type": "stream",
     "text": [
      "Разница между двумя способами вычисления обратной матрицы: 7.28583859910259e-17\n"
     ]
    }
   ],
   "source": [
    "Asym_inv_standard = inv(Asym)\n",
    "println(\"Разница между двумя способами вычисления обратной матрицы: \", norm(Asym_inv_eig - Asym_inv_standard))"
   ]
  },
  {
   "cell_type": "markdown",
   "metadata": {},
   "source": [
    "#### 🔹 **Выводы:**\n",
    "\n",
    "Использование специальных типов факторизаций в Julia позволяет:\n",
    "\n",
    "👉 Хранить результаты вычислений компактно и логично.\n",
    "  \n",
    "👉 Быстро извлекать значения и векторы для дальнейших вычислений.\n",
    "  \n",
    "👉 Автоматически использовать оптимизированные методы, учитывающие структуру факторизации.\n",
    "\n",
    "\n",
    "<br>"
   ]
  },
  {
   "cell_type": "markdown",
   "metadata": {},
   "source": [
    "<br>\n",
    "\n",
    "---\n",
    "\n",
    "<br>"
   ]
  },
  {
   "cell_type": "markdown",
   "metadata": {},
   "source": [
    "### 🟢 **2.6 Другие менее распространённые факторизации**\n",
    "\n",
    "Помимо наиболее распространённых факторизаций, уже рассмотренных нами выше, существуют также менее известные, но важные методы разложения матриц, которые применяются в специфических и продвинутых задачах линейной алгебры и численного анализа."
   ]
  },
  {
   "cell_type": "markdown",
   "metadata": {},
   "source": [
    "<br>\n",
    "\n",
    "### 📌 **Разложение Шура (Schur Decomposition)**\n",
    "\n",
    "<br>\n",
    "\n",
    "**Разложение Шура** представляет собой представление квадратной матрицы $A$ в виде произведения:\n",
    "\n",
    "<br>\n",
    "\n",
    "$$\n",
    "A = Q \\cdot T \\cdot Q^*\n",
    "$$\n",
    "\n",
    "**где:**\n",
    "\n",
    "- $Q$ — унитарная (ортогональная) матрица, то есть выполняется условие $Q^* Q = I$;\n",
    "  \n",
    "- $T$ — верхняя треугольная (для комплексной матрицы) или верхняя квазитреугольная матрица (для вещественной матрицы, известная как **Real Schur form**).\n",
    "\n",
    "<br>\n",
    "\n",
    "\n",
    "**Важно:**\n",
    ">Однако, разработчики языка **Julia** приняли решение называть при разложении Шура унитарную матрицу в объекте не $Q$, а $Z$, чтобы избежать путаницы с другими разложениями, например **QR-разложением**, где уже используется буква $Q$. Таким образом, для ясности, это чисто техническое решение, сделанное разработчиками **Julia**.\n",
    "\n",
    "<br>\n",
    "\n",
    "#### 🔹 **Использование разложения Шура:**\n",
    "\n",
    "- Удобно для вычисления собственных значений (на диагонали матрицы $T$).\n",
    "  \n",
    "- Применяется в теории управления и численном анализе.\n",
    "  \n",
    "- Эффективно используется при реализации QR-алгоритма нахождения собственных значений.\n",
    "\n",
    "<br>"
   ]
  },
  {
   "cell_type": "markdown",
   "metadata": {},
   "source": [
    "### 🗒  **Пример использования разложения Шура в Julia:**\n",
    "\n",
    "#### 🔹 **Пример 1.**\n",
    "\n",
    "- **Определяем матрицу $A$:**\n",
    "\n",
    "```julia \n",
    "A = [\n",
    "     4  3; \n",
    "    -5 -2\n",
    "    ]\n",
    "```"
   ]
  },
  {
   "cell_type": "code",
   "execution_count": 16,
   "metadata": {},
   "outputs": [
    {
     "data": {
      "text/plain": [
       "2×2 Matrix{Int64}:\n",
       "  4   3\n",
       " -5  -2"
      ]
     },
     "metadata": {},
     "output_type": "display_data"
    }
   ],
   "source": [
    "A = [4 3; -5 -2] # Создание матрицы A"
   ]
  },
  {
   "cell_type": "markdown",
   "metadata": {},
   "source": [
    "- **Выполняем разложение Шура (Schur decomposition) матрицы**:"
   ]
  },
  {
   "cell_type": "code",
   "execution_count": 17,
   "metadata": {},
   "outputs": [
    {
     "data": {
      "text/plain": [
       "Schur{Float64, Matrix{Float64}, Vector{ComplexF64}}\n",
       "T factor:\n",
       "2×2 Matrix{Float64}:\n",
       "  1.0      0.837722\n",
       " -7.16228  1.0\n",
       "Z factor:\n",
       "2×2 Matrix{Float64}:\n",
       " 0.811242  -0.58471\n",
       " 0.58471    0.811242\n",
       "eigenvalues:\n",
       "2-element Vector{ComplexF64}:\n",
       " 0.9999999999999999 + 2.449489742783178im\n",
       " 0.9999999999999999 - 2.449489742783178im"
      ]
     },
     "metadata": {},
     "output_type": "display_data"
    }
   ],
   "source": [
    "SchurF = schur(A) # Получение матрицы Шура"
   ]
  },
  {
   "cell_type": "markdown",
   "metadata": {},
   "source": [
    "**Получаем компоненты факторизации**\n",
    "\n",
    "Мы помним, что разработчики языка Julia приняли решение называть унитарную матрицу в этом объекте не $Q$, а $Z$, чтобы избежать путаницы с другими разложениями.\n",
    "\n",
    "- $Q$ – унитарная (ортогональная для вещественных матриц) матрица:"
   ]
  },
  {
   "cell_type": "code",
   "execution_count": 19,
   "metadata": {},
   "outputs": [
    {
     "data": {
      "text/plain": [
       "2×2 Matrix{Float64}:\n",
       " 0.811242  -0.58471\n",
       " 0.58471    0.811242"
      ]
     },
     "metadata": {},
     "output_type": "display_data"
    }
   ],
   "source": [
    "Q = SchurF.Z # Получение матрицы Q"
   ]
  },
  {
   "cell_type": "markdown",
   "metadata": {},
   "source": [
    "- $𝑇$ – верхняя квазитреугольная матрица Шура (для вещественных матриц блоками 1x1 или 2x2)"
   ]
  },
  {
   "cell_type": "code",
   "execution_count": 20,
   "metadata": {},
   "outputs": [
    {
     "data": {
      "text/plain": [
       "2×2 Matrix{Float64}:\n",
       "  1.0      0.837722\n",
       " -7.16228  1.0"
      ]
     },
     "metadata": {},
     "output_type": "display_data"
    }
   ],
   "source": [
    "T = SchurF.T # Получение верхнетреугольной матрицы T"
   ]
  },
  {
   "cell_type": "markdown",
   "metadata": {},
   "source": [
    "👉 **Матрица $T$ имеет верхнетреугольную форму, что облегчает чтение собственных значений непосредственно с диагонали.**"
   ]
  },
  {
   "cell_type": "markdown",
   "metadata": {},
   "source": [
    "<br>\n",
    "\n",
    "---\n",
    "\n",
    "<br>"
   ]
  },
  {
   "cell_type": "markdown",
   "metadata": {},
   "source": [
    "### 📌 **Разложение Жордана (Jordan Normal Form)**\n",
    "\n",
    "<br>\n",
    "\n",
    "**Разложение Жордана** представляет собой представление квадратной матрицы $A$ в виде подобия с блочно-диагональной матрицей:\n",
    "\n",
    "<br>\n",
    "\n",
    "$$\n",
    "A = P \\cdot J \\cdot P^{-1}\n",
    "$$\n",
    "**где:**\n",
    "\n",
    "- $P$ - **Матрица перехода** - содержит в качестве столбцов собственные и обобщенные (присоединенные) векторы. Используется для перехода в новый базис, в котором исходная матрица имеет максимально простой вид (Жорданова форма).\n",
    "  \n",
    "- $J$ -**Матрица Жордана** - это верхнетреугольная матрица, содержащая собственные значения на диагонали и единицы над диагональю, если собственных векторов недостаточно для диагонализации.\n",
    "\n",
    "<br>\n",
    "\n",
    ">**Разложение применяется, когда матрица не диагонализируема, то есть ей не хватает полного набора собственных векторов.**\n",
    "\n",
    "<br>\n",
    "\n",
    "#### 🔹 **Использование разложения Жордана:**\n",
    "\n",
    "- Теоретический анализ свойств матриц и операторов.\n",
    "  \n",
    "- Решение дифференциальных и разностных уравнений.\n",
    "  \n",
    "- Изучение структуры линейных операторов.\n",
    "\n",
    "<br> \n",
    "\n",
    "📚 В Julia нет встроенной функции для прямого вычисления **разложения Жордана (Jordan decomposition)**, поскольку это разложение неустойчиво при численных вычислениях (чувствительно к погрешностям).\n",
    "\n",
    "**Поэтому используют дополнительные пакеты:**\n",
    "- Для численных расчетов лучше всего использовать:\n",
    "   - `JordanForm.jl`\n",
    "   - `LinearAlgebraX.jl`\n",
    "- Для символьных расчетов рекомендуется:\n",
    "   - `Symbolics.jl`\n",
    "  \n",
    "<br>"
   ]
  },
  {
   "cell_type": "markdown",
   "metadata": {},
   "source": [
    "### 🗒  **Пример численного вычисления с помощью пакета `JordanForm.jl`**\n",
    "\n",
    "#### 🔹 **Пример 1.**\n",
    "\n",
    "\n",
    "**Установим пакет `JordanForm.jl`:**"
   ]
  },
  {
   "cell_type": "code",
   "execution_count": null,
   "metadata": {},
   "outputs": [
    {
     "name": "stderr",
     "output_type": "stream",
     "text": [
      "\u001b[32m\u001b[1m   Resolving\u001b[22m\u001b[39m package versions...\n",
      "\u001b[32m\u001b[1m   Installed\u001b[22m\u001b[39m HypergeometricFunctions ─── v0.3.27\n",
      "\u001b[32m\u001b[1m   Installed\u001b[22m\u001b[39m PDMats ──────────────────── v0.11.32\n",
      "\u001b[32m\u001b[1m   Installed\u001b[22m\u001b[39m StatsFuns ───────────────── v1.3.2\n",
      "\u001b[32m\u001b[1m   Installed\u001b[22m\u001b[39m TimerOutputs ────────────── v0.5.28\n",
      "\u001b[32m\u001b[1m   Installed\u001b[22m\u001b[39m JordanForm ──────────────── v0.1.0\n",
      "\u001b[32m\u001b[1m   Installed\u001b[22m\u001b[39m Accessors ───────────────── v0.1.42\n",
      "\u001b[32m\u001b[1m   Installed\u001b[22m\u001b[39m MutableArithmetics ──────── v1.6.4\n",
      "\u001b[32m\u001b[1m   Installed\u001b[22m\u001b[39m DomainSets ──────────────── v0.7.15\n",
      "\u001b[32m\u001b[1m   Installed\u001b[22m\u001b[39m LabelledArrays ──────────── v1.16.0\n",
      "\u001b[32m\u001b[1m   Installed\u001b[22m\u001b[39m EnumX ───────────────────── v1.0.4\n",
      "\u001b[32m\u001b[1m   Installed\u001b[22m\u001b[39m FunctionWrappers ────────── v1.1.3\n",
      "\u001b[32m\u001b[1m   Installed\u001b[22m\u001b[39m MultivariatePolynomials ─── v0.5.7\n",
      "\u001b[32m\u001b[1m   Installed\u001b[22m\u001b[39m ArnoldiMethod ───────────── v0.4.0\n",
      "\u001b[32m\u001b[1m   Installed\u001b[22m\u001b[39m RecursiveArrayTools ─────── v3.31.0\n",
      "\u001b[32m\u001b[1m   Installed\u001b[22m\u001b[39m Bijections ──────────────── v0.1.9\n",
      "\u001b[32m\u001b[1m   Installed\u001b[22m\u001b[39m SciMLBase ───────────────── v2.75.1\n",
      "\u001b[32m\u001b[1m   Installed\u001b[22m\u001b[39m IfElse ──────────────────── v0.1.1\n",
      "\u001b[32m\u001b[1m   Installed\u001b[22m\u001b[39m CompositeTypes ──────────── v0.1.4\n",
      "\u001b[32m\u001b[1m   Installed\u001b[22m\u001b[39m ADTypes ─────────────────── v1.14.0\n",
      "\u001b[32m\u001b[1m   Installed\u001b[22m\u001b[39m Rmath_jll ───────────────── v0.5.1+0\n",
      "\u001b[32m\u001b[1m   Installed\u001b[22m\u001b[39m SpecialFunctions ────────── v2.5.0\n",
      "\u001b[32m\u001b[1m   Installed\u001b[22m\u001b[39m CommonSubexpressions ────── v0.3.1\n",
      "\u001b[32m\u001b[1m   Installed\u001b[22m\u001b[39m Symbolics ───────────────── v5.28.0\n",
      "\u001b[32m\u001b[1m   Installed\u001b[22m\u001b[39m ExprTools ───────────────── v0.1.10\n",
      "\u001b[32m\u001b[1m   Installed\u001b[22m\u001b[39m DynamicPolynomials ──────── v0.5.7\n",
      "\u001b[32m\u001b[1m   Installed\u001b[22m\u001b[39m DiffResults ─────────────── v1.1.0\n",
      "\u001b[32m\u001b[1m   Installed\u001b[22m\u001b[39m DiffRules ───────────────── v1.15.1\n",
      "\u001b[32m\u001b[1m   Installed\u001b[22m\u001b[39m FunctionWrappersWrappers ── v0.1.3\n",
      "\u001b[32m\u001b[1m   Installed\u001b[22m\u001b[39m SciMLStructures ─────────── v1.7.0\n",
      "\u001b[32m\u001b[1m   Installed\u001b[22m\u001b[39m Inflate ─────────────────── v0.1.5\n",
      "\u001b[32m\u001b[1m   Installed\u001b[22m\u001b[39m Graphs ──────────────────── v1.12.0\n",
      "\u001b[32m\u001b[1m   Installed\u001b[22m\u001b[39m SciMLOperators ──────────── v0.3.12\n",
      "\u001b[32m\u001b[1m   Installed\u001b[22m\u001b[39m SymbolicLimits ──────────── v0.2.1\n",
      "\u001b[32m\u001b[1m   Installed\u001b[22m\u001b[39m ConstructionBase ────────── v1.5.6\n",
      "\u001b[32m\u001b[1m   Installed\u001b[22m\u001b[39m Setfield ────────────────── v1.1.2\n",
      "\u001b[32m\u001b[1m   Installed\u001b[22m\u001b[39m LambertW ────────────────── v0.4.6\n",
      "\u001b[32m\u001b[1m   Installed\u001b[22m\u001b[39m AbstractTrees ───────────── v0.4.5\n",
      "\u001b[32m\u001b[1m   Installed\u001b[22m\u001b[39m ChainRulesCore ──────────── v1.25.1\n",
      "\u001b[32m\u001b[1m   Installed\u001b[22m\u001b[39m Combinatorics ───────────── v1.0.2\n",
      "\u001b[32m\u001b[1m   Installed\u001b[22m\u001b[39m ArrayInterface ──────────── v7.18.0\n",
      "\u001b[32m\u001b[1m   Installed\u001b[22m\u001b[39m OpenSpecFun_jll ─────────── v0.5.6+0\n",
      "\u001b[32m\u001b[1m   Installed\u001b[22m\u001b[39m CompositionsBase ────────── v0.1.2\n",
      "\u001b[32m\u001b[1m   Installed\u001b[22m\u001b[39m PreallocationTools ──────── v0.4.25\n",
      "\u001b[32m\u001b[1m   Installed\u001b[22m\u001b[39m CommonSolve ─────────────── v0.2.4\n",
      "\u001b[32m\u001b[1m   Installed\u001b[22m\u001b[39m GPUArraysCore ───────────── v0.2.0\n",
      "\u001b[32m\u001b[1m   Installed\u001b[22m\u001b[39m InverseFunctions ────────── v0.1.17\n",
      "\u001b[32m\u001b[1m   Installed\u001b[22m\u001b[39m SimpleTraits ────────────── v0.9.4\n",
      "\u001b[32m\u001b[1m   Installed\u001b[22m\u001b[39m Rmath ───────────────────── v0.8.0\n",
      "\u001b[32m\u001b[1m   Installed\u001b[22m\u001b[39m Adapt ───────────────────── v4.2.0\n",
      "\u001b[32m\u001b[1m   Installed\u001b[22m\u001b[39m RowEchelon ──────────────── v0.2.1\n",
      "\u001b[32m\u001b[1m   Installed\u001b[22m\u001b[39m IntervalSets ────────────── v0.7.10\n",
      "\u001b[32m\u001b[1m   Installed\u001b[22m\u001b[39m Moshi ───────────────────── v0.3.5\n",
      "\u001b[32m\u001b[1m   Installed\u001b[22m\u001b[39m Unityper ────────────────── v0.1.6\n",
      "\u001b[32m\u001b[1m   Installed\u001b[22m\u001b[39m RuntimeGeneratedFunctions ─ v0.5.13\n",
      "\u001b[32m\u001b[1m   Installed\u001b[22m\u001b[39m Jieko ───────────────────── v0.2.1\n",
      "\u001b[32m\u001b[1m   Installed\u001b[22m\u001b[39m ForwardDiff ─────────────── v0.10.38\n",
      "\u001b[32m\u001b[1m   Installed\u001b[22m\u001b[39m SymbolicIndexingInterface ─ v0.3.38\n",
      "\u001b[32m\u001b[1m   Installed\u001b[22m\u001b[39m SymbolicUtils ───────────── v1.7.1\n",
      "\u001b[32m\u001b[1m   Installed\u001b[22m\u001b[39m FillArrays ──────────────── v1.13.0\n",
      "\u001b[32m\u001b[1m   Installed\u001b[22m\u001b[39m QuadGK ──────────────────── v2.11.2\n",
      "\u001b[32m\u001b[1m   Installed\u001b[22m\u001b[39m Distributions ───────────── v0.25.117\n",
      "\u001b[32m\u001b[1m    Updating\u001b[22m\u001b[39m `C:\\Users\\Siergej Sobolewski\\Kursy Cartesian School\\Julia\\Introduction-to-Julia-main\\Introduction-to-Julia-main\\Project.toml`\n",
      "  \u001b[90m[3e0f3a26] \u001b[39m\u001b[92m+ JordanForm v0.1.0\u001b[39m\n",
      "\u001b[32m\u001b[1m    Updating\u001b[22m\u001b[39m `C:\\Users\\Siergej Sobolewski\\Kursy Cartesian School\\Julia\\Introduction-to-Julia-main\\Introduction-to-Julia-main\\Manifest.toml`\n",
      "  \u001b[90m[47edcb42] \u001b[39m\u001b[92m+ ADTypes v1.14.0\u001b[39m\n",
      "  \u001b[90m[1520ce14] \u001b[39m\u001b[92m+ AbstractTrees v0.4.5\u001b[39m\n",
      "  \u001b[90m[7d9f7c33] \u001b[39m\u001b[92m+ Accessors v0.1.42\u001b[39m\n",
      "  \u001b[90m[79e6a3ab] \u001b[39m\u001b[92m+ Adapt v4.2.0\u001b[39m\n",
      "  \u001b[90m[ec485272] \u001b[39m\u001b[92m+ ArnoldiMethod v0.4.0\u001b[39m\n",
      "  \u001b[90m[4fba245c] \u001b[39m\u001b[92m+ ArrayInterface v7.18.0\u001b[39m\n",
      "  \u001b[90m[e2ed5e7c] \u001b[39m\u001b[92m+ Bijections v0.1.9\u001b[39m\n",
      "  \u001b[90m[d360d2e6] \u001b[39m\u001b[92m+ ChainRulesCore v1.25.1\u001b[39m\n",
      "  \u001b[90m[861a8166] \u001b[39m\u001b[92m+ Combinatorics v1.0.2\u001b[39m\n",
      "  \u001b[90m[38540f10] \u001b[39m\u001b[92m+ CommonSolve v0.2.4\u001b[39m\n",
      "  \u001b[90m[bbf7d656] \u001b[39m\u001b[92m+ CommonSubexpressions v0.3.1\u001b[39m\n",
      "  \u001b[90m[b152e2b5] \u001b[39m\u001b[92m+ CompositeTypes v0.1.4\u001b[39m\n",
      "  \u001b[90m[a33af91c] \u001b[39m\u001b[92m+ CompositionsBase v0.1.2\u001b[39m\n",
      "\u001b[33m⌅\u001b[39m \u001b[90m[187b0558] \u001b[39m\u001b[92m+ ConstructionBase v1.5.6\u001b[39m\n",
      "  \u001b[90m[163ba53b] \u001b[39m\u001b[92m+ DiffResults v1.1.0\u001b[39m\n",
      "  \u001b[90m[b552c78f] \u001b[39m\u001b[92m+ DiffRules v1.15.1\u001b[39m\n",
      "  \u001b[90m[31c24e10] \u001b[39m\u001b[92m+ Distributions v0.25.117\u001b[39m\n",
      "  \u001b[90m[5b8099bc] \u001b[39m\u001b[92m+ DomainSets v0.7.15\u001b[39m\n",
      "\u001b[33m⌅\u001b[39m \u001b[90m[7c1d4256] \u001b[39m\u001b[92m+ DynamicPolynomials v0.5.7\u001b[39m\n",
      "  \u001b[90m[4e289a0a] \u001b[39m\u001b[92m+ EnumX v1.0.4\u001b[39m\n",
      "  \u001b[90m[e2ba6199] \u001b[39m\u001b[92m+ ExprTools v0.1.10\u001b[39m\n",
      "  \u001b[90m[55351af7] \u001b[39m\u001b[92m+ ExproniconLite v0.10.14\u001b[39m\n",
      "  \u001b[90m[1a297f60] \u001b[39m\u001b[92m+ FillArrays v1.13.0\u001b[39m\n",
      "  \u001b[90m[f6369f11] \u001b[39m\u001b[92m+ ForwardDiff v0.10.38\u001b[39m\n",
      "  \u001b[90m[069b7b12] \u001b[39m\u001b[92m+ FunctionWrappers v1.1.3\u001b[39m\n",
      "  \u001b[90m[77dc65aa] \u001b[39m\u001b[92m+ FunctionWrappersWrappers v0.1.3\u001b[39m\n",
      "  \u001b[90m[46192b85] \u001b[39m\u001b[92m+ GPUArraysCore v0.2.0\u001b[39m\n",
      "  \u001b[90m[86223c79] \u001b[39m\u001b[92m+ Graphs v1.12.0\u001b[39m\n",
      "  \u001b[90m[34004b35] \u001b[39m\u001b[92m+ HypergeometricFunctions v0.3.27\u001b[39m\n",
      "  \u001b[90m[615f187c] \u001b[39m\u001b[92m+ IfElse v0.1.1\u001b[39m\n",
      "  \u001b[90m[d25df0c9] \u001b[39m\u001b[92m+ Inflate v0.1.5\u001b[39m\n",
      "  \u001b[90m[8197267c] \u001b[39m\u001b[92m+ IntervalSets v0.7.10\u001b[39m\n",
      "  \u001b[90m[3587e190] \u001b[39m\u001b[92m+ InverseFunctions v0.1.17\u001b[39m\n",
      "  \u001b[90m[ae98c720] \u001b[39m\u001b[92m+ Jieko v0.2.1\u001b[39m\n",
      "  \u001b[90m[3e0f3a26] \u001b[39m\u001b[92m+ JordanForm v0.1.0\u001b[39m\n",
      "  \u001b[90m[2ee39098] \u001b[39m\u001b[92m+ LabelledArrays v1.16.0\u001b[39m\n",
      "\u001b[33m⌅\u001b[39m \u001b[90m[984bce1d] \u001b[39m\u001b[92m+ LambertW v0.4.6\u001b[39m\n",
      "  \u001b[90m[2e0e35c7] \u001b[39m\u001b[92m+ Moshi v0.3.5\u001b[39m\n",
      "  \u001b[90m[102ac46a] \u001b[39m\u001b[92m+ MultivariatePolynomials v0.5.7\u001b[39m\n",
      "  \u001b[90m[d8a4904e] \u001b[39m\u001b[92m+ MutableArithmetics v1.6.4\u001b[39m\n",
      "  \u001b[90m[90014a1f] \u001b[39m\u001b[92m+ PDMats v0.11.32\u001b[39m\n",
      "  \u001b[90m[d236fae5] \u001b[39m\u001b[92m+ PreallocationTools v0.4.25\u001b[39m\n",
      "  \u001b[90m[1fd47b50] \u001b[39m\u001b[92m+ QuadGK v2.11.2\u001b[39m\n",
      "  \u001b[90m[731186ca] \u001b[39m\u001b[92m+ RecursiveArrayTools v3.31.0\u001b[39m\n",
      "  \u001b[90m[79098fc4] \u001b[39m\u001b[92m+ Rmath v0.8.0\u001b[39m\n",
      "  \u001b[90m[af85af4c] \u001b[39m\u001b[92m+ RowEchelon v0.2.1\u001b[39m\n",
      "  \u001b[90m[7e49a35a] \u001b[39m\u001b[92m+ RuntimeGeneratedFunctions v0.5.13\u001b[39m\n",
      "  \u001b[90m[0bca4576] \u001b[39m\u001b[92m+ SciMLBase v2.75.1\u001b[39m\n",
      "  \u001b[90m[c0aeaf25] \u001b[39m\u001b[92m+ SciMLOperators v0.3.12\u001b[39m\n",
      "  \u001b[90m[53ae85a6] \u001b[39m\u001b[92m+ SciMLStructures v1.7.0\u001b[39m\n",
      "  \u001b[90m[efcf1570] \u001b[39m\u001b[92m+ Setfield v1.1.2\u001b[39m\n",
      "  \u001b[90m[699a6c99] \u001b[39m\u001b[92m+ SimpleTraits v0.9.4\u001b[39m\n",
      "  \u001b[90m[276daf66] \u001b[39m\u001b[92m+ SpecialFunctions v2.5.0\u001b[39m\n",
      "  \u001b[90m[90137ffa] \u001b[39m\u001b[92m+ StaticArrays v1.9.13\u001b[39m\n",
      "  \u001b[90m[1e83bf80] \u001b[39m\u001b[92m+ StaticArraysCore v1.4.3\u001b[39m\n",
      "  \u001b[90m[4c63d2b9] \u001b[39m\u001b[92m+ StatsFuns v1.3.2\u001b[39m\n",
      "  \u001b[90m[2efcf032] \u001b[39m\u001b[92m+ SymbolicIndexingInterface v0.3.38\u001b[39m\n",
      "\u001b[32m⌃\u001b[39m \u001b[90m[19f23fe9] \u001b[39m\u001b[92m+ SymbolicLimits v0.2.1\u001b[39m\n",
      "\u001b[33m⌅\u001b[39m \u001b[90m[d1185830] \u001b[39m\u001b[92m+ SymbolicUtils v1.7.1\u001b[39m\n",
      "\u001b[33m⌅\u001b[39m \u001b[90m[0c5d862f] \u001b[39m\u001b[92m+ Symbolics v5.28.0\u001b[39m\n",
      "  \u001b[90m[a759f4b9] \u001b[39m\u001b[92m+ TimerOutputs v0.5.28\u001b[39m\n",
      "  \u001b[90m[a7c27f48] \u001b[39m\u001b[92m+ Unityper v0.1.6\u001b[39m\n",
      "  \u001b[90m[efe28fd5] \u001b[39m\u001b[92m+ OpenSpecFun_jll v0.5.6+0\u001b[39m\n",
      "  \u001b[90m[f50d1b31] \u001b[39m\u001b[92m+ Rmath_jll v0.5.1+0\u001b[39m\n",
      "  \u001b[90m[9fa8497b] \u001b[39m\u001b[92m+ Future v1.11.0\u001b[39m\n",
      "  \u001b[90m[1a1011a3] \u001b[39m\u001b[92m+ SharedArrays v1.11.0\u001b[39m\n",
      "  \u001b[90m[4607b0f0] \u001b[39m\u001b[92m+ SuiteSparse\u001b[39m\n",
      "\u001b[36m\u001b[1m        Info\u001b[22m\u001b[39m Packages marked with \u001b[32m⌃\u001b[39m and \u001b[33m⌅\u001b[39m have new versions available. Those with \u001b[32m⌃\u001b[39m may be upgradable, but those with \u001b[33m⌅\u001b[39m are restricted by compatibility constraints from upgrading. To see why use `status --outdated -m`\n",
      "\u001b[92m\u001b[1mPrecompiling\u001b[22m\u001b[39m project...\n",
      "   8284.2 ms\u001b[32m  ✓ \u001b[39m\u001b[90mCombinatorics\u001b[39m\n",
      "   4622.1 ms\u001b[32m  ✓ \u001b[39m\u001b[90mFunctionWrappers\u001b[39m\n",
      "   4615.3 ms\u001b[32m  ✓ \u001b[39m\u001b[90mExprTools\u001b[39m\n",
      "   1216.6 ms\u001b[32m  ✓ \u001b[39m\u001b[90mADTypes\u001b[39m\n",
      "   1405.8 ms\u001b[32m  ✓ \u001b[39m\u001b[90mLambertW\u001b[39m\n",
      "   1702.6 ms\u001b[32m  ✓ \u001b[39m\u001b[90mFillArrays\u001b[39m\n",
      "    669.9 ms\u001b[32m  ✓ \u001b[39m\u001b[90mCommonSolve\u001b[39m\n",
      "    942.9 ms\u001b[32m  ✓ \u001b[39m\u001b[90mInverseFunctions\u001b[39m\n",
      "    815.9 ms\u001b[32m  ✓ \u001b[39m\u001b[90mCompositeTypes\u001b[39m\n",
      "    722.2 ms\u001b[32m  ✓ \u001b[39m\u001b[90mEnumX\u001b[39m\n",
      "    979.7 ms\u001b[32m  ✓ \u001b[39m\u001b[90mAbstractTrees\u001b[39m\n",
      "    907.6 ms\u001b[32m  ✓ \u001b[39m\u001b[90mIntervalSets\u001b[39m\n",
      "    782.1 ms\u001b[32m  ✓ \u001b[39m\u001b[90mRowEchelon\u001b[39m\n",
      "    726.9 ms\u001b[32m  ✓ \u001b[39m\u001b[90mCompositionsBase\u001b[39m\n",
      "    803.7 ms\u001b[32m  ✓ \u001b[39m\u001b[90mIfElse\u001b[39m\n",
      "   1013.7 ms\u001b[32m  ✓ \u001b[39m\u001b[90mInflate\u001b[39m\n",
      "   1092.6 ms\u001b[32m  ✓ \u001b[39m\u001b[90mConstructionBase\u001b[39m\n",
      "    855.5 ms\u001b[32m  ✓ \u001b[39m\u001b[90mAdapt\u001b[39m\n",
      "    733.1 ms\u001b[32m  ✓ \u001b[39m\u001b[90mBijections\u001b[39m\n",
      "    972.6 ms\u001b[32m  ✓ \u001b[39m\u001b[90mCommonSubexpressions\u001b[39m\n",
      "   1708.6 ms\u001b[32m  ✓ \u001b[39m\u001b[90mSuiteSparse\u001b[39m\n",
      "   1047.2 ms\u001b[32m  ✓ \u001b[39m\u001b[90mDiffResults\u001b[39m\n",
      "   3860.2 ms\u001b[32m  ✓ \u001b[39m\u001b[90mJieko\u001b[39m\n",
      "   1673.3 ms\u001b[32m  ✓ \u001b[39m\u001b[90mSimpleTraits\u001b[39m\n",
      "   1084.4 ms\u001b[32m  ✓ \u001b[39m\u001b[90mRmath_jll\u001b[39m\n",
      "   2588.0 ms\u001b[32m  ✓ \u001b[39m\u001b[90mChainRulesCore\u001b[39m\n",
      "   1268.9 ms\u001b[32m  ✓ \u001b[39m\u001b[90mOpenSpecFun_jll\u001b[39m\n",
      "   2281.4 ms\u001b[32m  ✓ \u001b[39m\u001b[90mArnoldiMethod\u001b[39m\n",
      "   1797.7 ms\u001b[32m  ✓ \u001b[39m\u001b[90mQuadGK\u001b[39m\n",
      "    880.9 ms\u001b[32m  ✓ \u001b[39m\u001b[90mFunctionWrappersWrappers\u001b[39m\n",
      "    945.7 ms\u001b[32m  ✓ \u001b[39m\u001b[90mRuntimeGeneratedFunctions\u001b[39m\n",
      "   1204.8 ms\u001b[32m  ✓ \u001b[39m\u001b[90mFillArrays → FillArraysStatisticsExt\u001b[39m\n",
      "   1730.7 ms\u001b[32m  ✓ \u001b[39m\u001b[90mFillArrays → FillArraysSparseArraysExt\u001b[39m\n",
      "  10932.4 ms\u001b[32m  ✓ \u001b[39m\u001b[90mMutableArithmetics\u001b[39m\n",
      "   2473.9 ms\u001b[32m  ✓ \u001b[39m\u001b[90mInverseFunctions → InverseFunctionsTestExt\u001b[39m\n",
      "   6688.6 ms\u001b[32m  ✓ \u001b[39m\u001b[90mTimerOutputs\u001b[39m\n",
      "   1336.2 ms\u001b[32m  ✓ \u001b[39m\u001b[90mInverseFunctions → InverseFunctionsDatesExt\u001b[39m\n",
      "    891.4 ms\u001b[32m  ✓ \u001b[39m\u001b[90mLogExpFunctions → LogExpFunctionsInverseFunctionsExt\u001b[39m\n",
      "   1517.5 ms\u001b[32m  ✓ \u001b[39m\u001b[90mUnitful → InverseFunctionsUnitfulExt\u001b[39m\n",
      "    816.4 ms\u001b[32m  ✓ \u001b[39m\u001b[90mIntervalSets → IntervalSetsRandomExt\u001b[39m\n",
      "    744.8 ms\u001b[32m  ✓ \u001b[39m\u001b[90mIntervalSets → IntervalSetsStatisticsExt\u001b[39m\n",
      "    799.5 ms\u001b[32m  ✓ \u001b[39m\u001b[90mCompositionsBase → CompositionsBaseInverseFunctionsExt\u001b[39m\n",
      "   1209.6 ms\u001b[32m  ✓ \u001b[39m\u001b[90mIntervalSets → IntervalSetsRecipesBaseExt\u001b[39m\n",
      "    823.9 ms\u001b[32m  ✓ \u001b[39m\u001b[90mConstructionBase → ConstructionBaseIntervalSetsExt\u001b[39m\n",
      "   1132.7 ms\u001b[32m  ✓ \u001b[39m\u001b[90mUnityper\u001b[39m\n",
      "   1455.2 ms\u001b[32m  ✓ \u001b[39m\u001b[90mConstructionBase → ConstructionBaseStaticArraysExt\u001b[39m\n",
      "   1301.3 ms\u001b[32m  ✓ \u001b[39m\u001b[90mUnitful → ConstructionBaseUnitfulExt\u001b[39m\n",
      "    854.1 ms\u001b[32m  ✓ \u001b[39m\u001b[90mADTypes → ADTypesConstructionBaseExt\u001b[39m\n",
      "   2010.9 ms\u001b[32m  ✓ \u001b[39m\u001b[90mSetfield\u001b[39m\n",
      "   1035.1 ms\u001b[32m  ✓ \u001b[39m\u001b[90mAdapt → AdaptSparseArraysExt\u001b[39m\n",
      "   1423.4 ms\u001b[32m  ✓ \u001b[39m\u001b[90mAdapt → AdaptStaticArraysExt\u001b[39m\n",
      "    979.4 ms\u001b[32m  ✓ \u001b[39m\u001b[90mArrayInterface\u001b[39m\n",
      "    871.1 ms\u001b[32m  ✓ \u001b[39m\u001b[90mGPUArraysCore\u001b[39m\n",
      "   1406.7 ms\u001b[32m  ✓ \u001b[39m\u001b[90mPDMats\u001b[39m\n",
      "   1739.3 ms\u001b[32m  ✓ \u001b[39m\u001b[90mRmath\u001b[39m\n",
      "   1622.6 ms\u001b[32m  ✓ \u001b[39m\u001b[90mChainRulesCore → ChainRulesCoreSparseArraysExt\u001b[39m\n",
      "   1488.7 ms\u001b[32m  ✓ \u001b[39m\u001b[90mStaticArrays → StaticArraysChainRulesCoreExt\u001b[39m\n",
      "   2590.4 ms\u001b[32m  ✓ \u001b[39m\u001b[90mLogExpFunctions → LogExpFunctionsChainRulesCoreExt\u001b[39m\n",
      "   1146.3 ms\u001b[32m  ✓ \u001b[39m\u001b[90mADTypes → ADTypesChainRulesCoreExt\u001b[39m\n",
      "   4227.1 ms\u001b[32m  ✓ \u001b[39m\u001b[90mSpecialFunctions\u001b[39m\n",
      "   6868.4 ms\u001b[32m  ✓ \u001b[39m\u001b[90mGraphs\u001b[39m\n",
      "   4040.6 ms\u001b[32m  ✓ \u001b[39m\u001b[90mDomainSets\u001b[39m\n",
      "   1157.2 ms\u001b[32m  ✓ \u001b[39m\u001b[90mArrayInterface → ArrayInterfaceSparseArraysExt\u001b[39m\n",
      "  15348.3 ms\u001b[32m  ✓ \u001b[39m\u001b[90mMoshi\u001b[39m\n",
      "   1089.5 ms\u001b[32m  ✓ \u001b[39m\u001b[90mArrayInterface → ArrayInterfaceChainRulesCoreExt\u001b[39m\n",
      "    826.0 ms\u001b[32m  ✓ \u001b[39m\u001b[90mArrayInterface → ArrayInterfaceStaticArraysCoreExt\u001b[39m\n",
      "   3860.8 ms\u001b[32m  ✓ \u001b[39m\u001b[90mAccessors\u001b[39m\n",
      "    847.5 ms\u001b[32m  ✓ \u001b[39m\u001b[90mSciMLStructures\u001b[39m\n",
      "    796.6 ms\u001b[32m  ✓ \u001b[39m\u001b[90mArrayInterface → ArrayInterfaceGPUArraysCoreExt\u001b[39m\n",
      "   1170.7 ms\u001b[32m  ✓ \u001b[39m\u001b[90mFillArrays → FillArraysPDMatsExt\u001b[39m\n",
      "   1874.7 ms\u001b[32m  ✓ \u001b[39m\u001b[90mHypergeometricFunctions\u001b[39m\n",
      "   3509.3 ms\u001b[32m  ✓ \u001b[39m\u001b[90mSpecialFunctions → SpecialFunctionsChainRulesCoreExt\u001b[39m\n",
      "   1542.8 ms\u001b[32m  ✓ \u001b[39m\u001b[90mColorVectorSpace → SpecialFunctionsExt\u001b[39m\n",
      "   4973.4 ms\u001b[32m  ✓ \u001b[39m\u001b[90mMultivariatePolynomials\u001b[39m\n",
      "   1133.5 ms\u001b[32m  ✓ \u001b[39m\u001b[90mDiffRules\u001b[39m\n",
      "   1253.7 ms\u001b[32m  ✓ \u001b[39m\u001b[90mAccessors → LinearAlgebraExt\u001b[39m\n",
      "   1518.7 ms\u001b[32m  ✓ \u001b[39m\u001b[90mAccessors → TestExt\u001b[39m\n",
      "   1325.2 ms\u001b[32m  ✓ \u001b[39m\u001b[90mAccessors → IntervalSetsExt\u001b[39m\n",
      "   1697.7 ms\u001b[32m  ✓ \u001b[39m\u001b[90mAccessors → UnitfulExt\u001b[39m\n",
      "   1777.3 ms\u001b[32m  ✓ \u001b[39m\u001b[90mAccessors → StaticArraysExt\u001b[39m\n",
      "   3380.5 ms\u001b[32m  ✓ \u001b[39m\u001b[90mStatsFuns\u001b[39m\n",
      "   3192.8 ms\u001b[32m  ✓ \u001b[39m\u001b[90mDynamicPolynomials\u001b[39m\n",
      "   2827.5 ms\u001b[32m  ✓ \u001b[39m\u001b[90mSciMLOperators\u001b[39m\n",
      "   2366.4 ms\u001b[32m  ✓ \u001b[39m\u001b[90mSymbolicIndexingInterface\u001b[39m\n",
      "   1140.1 ms\u001b[32m  ✓ \u001b[39m\u001b[90mStatsFuns → StatsFunsInverseFunctionsExt\u001b[39m\n",
      "   6166.9 ms\u001b[32m  ✓ \u001b[39m\u001b[90mForwardDiff\u001b[39m\n",
      "   1341.3 ms\u001b[32m  ✓ \u001b[39m\u001b[90mSciMLOperators → SciMLOperatorsStaticArraysCoreExt\u001b[39m\n",
      "   3007.8 ms\u001b[32m  ✓ \u001b[39m\u001b[90mStatsFuns → StatsFunsChainRulesCoreExt\u001b[39m\n",
      "   1656.0 ms\u001b[32m  ✓ \u001b[39m\u001b[90mSciMLOperators → SciMLOperatorsSparseArraysExt\u001b[39m\n",
      "   1993.1 ms\u001b[32m  ✓ \u001b[39m\u001b[90mForwardDiff → ForwardDiffStaticArraysExt\u001b[39m\n",
      "   4164.6 ms\u001b[32m  ✓ \u001b[39m\u001b[90mRecursiveArrayTools\u001b[39m\n",
      "   1432.5 ms\u001b[32m  ✓ \u001b[39m\u001b[90mPreallocationTools\u001b[39m\n",
      "   1810.4 ms\u001b[32m  ✓ \u001b[39m\u001b[90mRecursiveArrayTools → RecursiveArrayToolsSparseArraysExt\u001b[39m\n",
      "   9010.5 ms\u001b[32m  ✓ \u001b[39m\u001b[90mDistributions\u001b[39m\n",
      "   1992.9 ms\u001b[32m  ✓ \u001b[39m\u001b[90mRecursiveArrayTools → RecursiveArrayToolsForwardDiffExt\u001b[39m\n",
      "   2511.7 ms\u001b[32m  ✓ \u001b[39m\u001b[90mDistributions → DistributionsChainRulesCoreExt\u001b[39m\n",
      "   2607.2 ms\u001b[32m  ✓ \u001b[39m\u001b[90mDistributions → DistributionsTestExt\u001b[39m\n",
      "   3065.5 ms\u001b[32m  ✓ \u001b[39m\u001b[90mLabelledArrays\u001b[39m\n",
      "   4777.2 ms\u001b[32m  ✓ \u001b[39m\u001b[90mPlotlyBase → DistributionsExt\u001b[39m\n",
      "  13583.7 ms\u001b[32m  ✓ \u001b[39m\u001b[90mSciMLBase\u001b[39m\n",
      "   1981.3 ms\u001b[32m  ✓ \u001b[39m\u001b[90mSciMLBase → SciMLBaseChainRulesCoreExt\u001b[39m\n",
      "  32326.8 ms\u001b[32m  ✓ \u001b[39m\u001b[90mSymbolicUtils\u001b[39m\n",
      "   3412.6 ms\u001b[32m  ✓ \u001b[39m\u001b[90mSymbolicLimits\u001b[39m\n",
      "  42155.7 ms\u001b[32m  ✓ \u001b[39m\u001b[90mSymbolics\u001b[39m\n",
      "   5216.6 ms\u001b[32m  ✓ \u001b[39m\u001b[90mSymbolics → SymbolicsPreallocationToolsExt\u001b[39m\n",
      "   5359.2 ms\u001b[32m  ✓ \u001b[39mJordanForm\n",
      "  106 dependencies successfully precompiled in 184 seconds. 219 already precompiled.\n"
     ]
    }
   ],
   "source": [
    "using Pkg\n",
    "Pkg.add(\"JordanForm\")"
   ]
  },
  {
   "cell_type": "markdown",
   "metadata": {},
   "source": [
    "- **Производим подключение пакета JordanForm для вычисления разложения Жордана**"
   ]
  },
  {
   "cell_type": "code",
   "execution_count": null,
   "metadata": {},
   "outputs": [],
   "source": [
    "using JordanForm"
   ]
  },
  {
   "cell_type": "markdown",
   "metadata": {},
   "source": [
    "- **Задаем исходную матрицу $A$, для которой хотим найти Жорданову форму:**\n",
    "\n",
    "```julia\n",
    "A = [6 2 1; \n",
    "     0 3 0; \n",
    "     0 0 3]\n",
    "```\n"
   ]
  },
  {
   "cell_type": "code",
   "execution_count": null,
   "metadata": {},
   "outputs": [
    {
     "data": {
      "text/plain": [
       "3×3 Matrix{Int64}:\n",
       " 6  2  1\n",
       " 0  3  0\n",
       " 0  0  3"
      ]
     },
     "metadata": {},
     "output_type": "display_data"
    }
   ],
   "source": [
    "A = [6 2 1; 0 3 0; 0 0 3] # Создание матрицы A"
   ]
  },
  {
   "cell_type": "markdown",
   "metadata": {},
   "source": [
    "- **Вычисляем Жорданову нормальную форму $J$ и матрицу перехода $P$:**"
   ]
  },
  {
   "cell_type": "code",
   "execution_count": null,
   "metadata": {},
   "outputs": [
    {
     "data": {
      "text/plain": [
       "JordanFactorization{ComplexF64, ComplexF64}(ComplexF64[-0.6666666666666666 + 0.0im -0.3333333333333333 + 0.0im 1.0 + 0.0im; 1.0 + 0.0im 0.0 + 0.0im -0.0 - 0.0im; 0.0 + 0.0im 1.0 + 0.0im -0.0 - 0.0im], ComplexF64[3.0 + 0.0im 0.0 + 0.0im 0.0 + 0.0im; 0.0 + 0.0im 3.0 + 0.0im 0.0 + 0.0im; 0.0 + 0.0im 0.0 + 0.0im 6.0 + 0.0im])"
      ]
     },
     "metadata": {},
     "output_type": "display_data"
    }
   ],
   "source": [
    "J, P = jordan_form(A) # Получение жордановой формы матрицы A"
   ]
  },
  {
   "cell_type": "markdown",
   "metadata": {},
   "source": [
    "- **Выводим полученную Жорданову форму матрицы $A$ :**"
   ]
  },
  {
   "cell_type": "code",
   "execution_count": 29,
   "metadata": {},
   "outputs": [
    {
     "name": "stdout",
     "output_type": "stream",
     "text": [
      "Жорданова форма J:\n",
      "ComplexF64[-0.6666666666666666 + 0.0im -0.3333333333333333 + 0.0im 1.0 + 0.0im; 1.0 + 0.0im 0.0 + 0.0im -0.0 - 0.0im; 0.0 + 0.0im 1.0 + 0.0im -0.0 - 0.0im]\n"
     ]
    }
   ],
   "source": [
    "println(\"Жорданова форма J:\\n\", J) # Вывод жордановой формы"
   ]
  },
  {
   "cell_type": "markdown",
   "metadata": {},
   "source": [
    "- **Выводим матрицу перехода (базиса), состоящую из собственных и присоединенных векторов :**"
   ]
  },
  {
   "cell_type": "code",
   "execution_count": 30,
   "metadata": {},
   "outputs": [
    {
     "name": "stdout",
     "output_type": "stream",
     "text": [
      "Матрица перехода P:\n",
      "ComplexF64[3.0 + 0.0im 0.0 + 0.0im 0.0 + 0.0im; 0.0 + 0.0im 3.0 + 0.0im 0.0 + 0.0im; 0.0 + 0.0im 0.0 + 0.0im 6.0 + 0.0im]\n"
     ]
    }
   ],
   "source": [
    "println(\"Матрица перехода P:\\n\", P) # Вывод матрицы перехода"
   ]
  },
  {
   "cell_type": "markdown",
   "metadata": {},
   "source": [
    "- **Проверяем корректность полученного разложения, вычисляя разницу между исходной матрицей и произведением матриц разложения (должна быть очень близка к 0) :**"
   ]
  },
  {
   "cell_type": "code",
   "execution_count": 31,
   "metadata": {},
   "outputs": [
    {
     "name": "stdout",
     "output_type": "stream",
     "text": [
      "Проверка корректности разложения: 8.552127740444998\n"
     ]
    }
   ],
   "source": [
    "println(\"Проверка корректности разложения: \", norm(A - P*J*inv(P))) # должно быть ≈ 0"
   ]
  },
  {
   "cell_type": "markdown",
   "metadata": {},
   "source": [
    "❌ **Полученный результат означает, что разложение некорректно, так как оно должно быть очень близким к нулю (например, порядка 1e-12 или меньше).**\n",
    "\n",
    "Это связано с тем, что алгоритмы численного вычисления Жордановой формы являются неустойчивыми и могут давать существенные ошибки из-за погрешностей округления. Именно поэтому вычисление Жордановой формы практически всегда рекомендуют выполнять:\n",
    "\n",
    "- либо аналитически (символьно),\n",
    "  \n",
    "- либо для матриц, которые специально подобраны и не дают ошибок округления.\n",
    "\n",
    "<br>\n",
    "\n",
    "**Как же исправить эту проблему?**\n",
    "\n",
    ":) Используйте символьное вычисление !!!"
   ]
  },
  {
   "cell_type": "markdown",
   "metadata": {},
   "source": [
    "<br>\n",
    "\n",
    "### ✅ **Символьное вычисление с пакетом `Symbolics.jl`**\n",
    "\n",
    "\n",
    "\n",
    "**Использование символьных вычислений**\n",
    "\n",
    "- Позволяет нам получить аналитические формулы.\n",
    "  \n",
    "- Удобно для теоретических и исследовательских задач, когда числовых значений элементов нет или они неизвестны заранее.\n",
    "  \n",
    "- Упрощает решение общих задач линейной алгебры и матричного анализа.\n",
    "\n",
    "<br>\n",
    "\n",
    "**Установка:**\n",
    "\n",
    "```julia\n",
    "Pkg.add(\"Symbolics\")\n",
    "Pkg.add(\"SymbolicUtils\")\n",
    "```\n",
    "\n",
    "#### 🔹 **Пример 2.**\n",
    "\n",
    "Корректный пример с символикой:"
   ]
  },
  {
   "cell_type": "markdown",
   "metadata": {},
   "source": [
    "**Выполним установку пакета `Symbolics.js` в Julia:**"
   ]
  },
  {
   "cell_type": "code",
   "execution_count": 45,
   "metadata": {},
   "outputs": [
    {
     "name": "stderr",
     "output_type": "stream",
     "text": [
      "\u001b[32m\u001b[1m   Resolving\u001b[22m\u001b[39m package versions...\n",
      "\u001b[32m\u001b[1m  No Changes\u001b[22m\u001b[39m to `C:\\Users\\Siergej Sobolewski\\Kursy Cartesian School\\Julia\\Introduction-to-Julia-main\\Introduction-to-Julia-main\\Project.toml`\n",
      "\u001b[32m\u001b[1m  No Changes\u001b[22m\u001b[39m to `C:\\Users\\Siergej Sobolewski\\Kursy Cartesian School\\Julia\\Introduction-to-Julia-main\\Introduction-to-Julia-main\\Manifest.toml`\n",
      "\u001b[32m\u001b[1m   Resolving\u001b[22m\u001b[39m package versions...\n",
      "\u001b[32m\u001b[1m    Updating\u001b[22m\u001b[39m `C:\\Users\\Siergej Sobolewski\\Kursy Cartesian School\\Julia\\Introduction-to-Julia-main\\Introduction-to-Julia-main\\Project.toml`\n",
      "\u001b[33m⌅\u001b[39m \u001b[90m[d1185830] \u001b[39m\u001b[92m+ SymbolicUtils v1.7.1\u001b[39m\n",
      "\u001b[32m\u001b[1m  No Changes\u001b[22m\u001b[39m to `C:\\Users\\Siergej Sobolewski\\Kursy Cartesian School\\Julia\\Introduction-to-Julia-main\\Introduction-to-Julia-main\\Manifest.toml`\n"
     ]
    }
   ],
   "source": [
    "using Pkg\n",
    "Pkg.add(\"Symbolics\")\n",
    "Pkg.add(\"SymbolicUtils\")"
   ]
  },
  {
   "cell_type": "code",
   "execution_count": 35,
   "metadata": {},
   "outputs": [],
   "source": [
    "using Symbolics, LinearAlgebra"
   ]
  },
  {
   "cell_type": "markdown",
   "metadata": {},
   "source": [
    "**Определяем матрицу $A$:**"
   ]
  },
  {
   "cell_type": "code",
   "execution_count": 36,
   "metadata": {},
   "outputs": [
    {
     "data": {
      "text/plain": [
       "3×3 Matrix{Int64}:\n",
       " 6  2  1\n",
       " 0  3  0\n",
       " 0  0  3"
      ]
     },
     "metadata": {},
     "output_type": "display_data"
    }
   ],
   "source": [
    "A = [6 2 1; 0 3 0; 0 0 3] # Создание матрицы A"
   ]
  },
  {
   "cell_type": "markdown",
   "metadata": {},
   "source": [
    "**Производим символьное вычисление собственных значений:**\n",
    "\n",
    "Используем функцию `eigvals(A)`"
   ]
  },
  {
   "cell_type": "code",
   "execution_count": 38,
   "metadata": {},
   "outputs": [
    {
     "data": {
      "text/plain": [
       "3-element Vector{Float64}:\n",
       " 3.0\n",
       " 3.0\n",
       " 6.0"
      ]
     },
     "metadata": {},
     "output_type": "display_data"
    }
   ],
   "source": [
    "eigvals_A = eigvals(A) # Вычисление собственных значений матрицы A"
   ]
  },
  {
   "cell_type": "code",
   "execution_count": 39,
   "metadata": {},
   "outputs": [
    {
     "name": "stdout",
     "output_type": "stream",
     "text": [
      "Собственные значения:\n",
      "[3.0, 3.0, 6.0]\n"
     ]
    }
   ],
   "source": [
    "println(\"Собственные значения:\\n\", eigvals_A) # Вывод собственных значений"
   ]
  },
  {
   "cell_type": "markdown",
   "metadata": {},
   "source": [
    "<br>\n",
    "\n",
    "#### 🔹 **Пример 3.**\n",
    "\n",
    "На этом примере продемонстрируем использование символьных вычислений в Julia с помощью пакета Symbolics.jl. Убедимся, что символьные вычисления помогают аналитически исследовать матрицы, позволяя работать не только с числовыми, но и с переменными элементами матриц.\n",
    "\n",
    "**Мы зададим символьные переменные, которые затем можно использовать в символьной матрице. Это означает, что матрица может содержать не числа, а переменные, полезные при аналитических расчётах.**"
   ]
  },
  {
   "cell_type": "markdown",
   "metadata": {},
   "source": [
    "1. Задаём **символьные переменные** (элементы матрицы):"
   ]
  },
  {
   "cell_type": "code",
   "execution_count": 56,
   "metadata": {},
   "outputs": [
    {
     "data": {
      "text/latex": [
       "$$ \\begin{equation}\n",
       "\\left[\n",
       "\\begin{array}{c}\n",
       "a11 \\\\\n",
       "a12 \\\\\n",
       "a13 \\\\\n",
       "a21 \\\\\n",
       "a22 \\\\\n",
       "a23 \\\\\n",
       "a31 \\\\\n",
       "a32 \\\\\n",
       "a33 \\\\\n",
       "\\end{array}\n",
       "\\right]\n",
       "\\end{equation}\n",
       " $$"
      ],
      "text/plain": [
       "9-element Vector{Num}:\n",
       " a11\n",
       " a12\n",
       " a13\n",
       " a21\n",
       " a22\n",
       " a23\n",
       " a31\n",
       " a32\n",
       " a33"
      ]
     },
     "metadata": {},
     "output_type": "display_data"
    }
   ],
   "source": [
    "@variables a11 a12 a13 a21 a22 a23 a31 a32 a33 # Создание символьных переменных"
   ]
  },
  {
   "cell_type": "markdown",
   "metadata": {},
   "source": [
    " 2. Определение **символьной матрицы**, которая состоит полностью из символьных элементов. Её можно использовать для вывода общих формул и аналитического исследования свойств матриц, таких как собственные значения и векторы в общем виде."
   ]
  },
  {
   "cell_type": "code",
   "execution_count": 64,
   "metadata": {},
   "outputs": [
    {
     "data": {
      "text/latex": [
       "$$ \\begin{equation}\n",
       "\\left[\n",
       "\\begin{array}{ccc}\n",
       "a11 & a12 & a13 \\\\\n",
       "a21 & a22 & a23 \\\\\n",
       "a31 & a32 & a33 \\\\\n",
       "\\end{array}\n",
       "\\right]\n",
       "\\end{equation}\n",
       " $$"
      ],
      "text/plain": [
       "3×3 Matrix{Num}:\n",
       " a11  a12  a13\n",
       " a21  a22  a23\n",
       " a31  a32  a33"
      ]
     },
     "metadata": {},
     "output_type": "display_data"
    }
   ],
   "source": [
    "A = [a11 a12 a13; \n",
    "     a21 a22 a23; \n",
    "     a31 a32 a33]"
   ]
  },
  {
   "cell_type": "markdown",
   "metadata": {},
   "source": [
    "3. Получаем **характеристический полином** (аналитически!):"
   ]
  },
  {
   "cell_type": "code",
   "execution_count": 65,
   "metadata": {},
   "outputs": [
    {
     "data": {
      "text/latex": [
       "$$ \\begin{equation}\n",
       "\\left( a11 - \\lambda \\right) \\left( \\left( a22 - \\lambda \\right) \\left( a33 - \\lambda \\right) - a23 a32 \\right) - a12 \\left( a21 \\left( a33 - \\lambda \\right) - a23 a31 \\right) + a13 \\left( a21 a32 - \\left( a22 - \\lambda \\right) a31 \\right)\n",
       "\\end{equation}\n",
       " $$"
      ],
      "text/plain": [
       "(a11 - λ)*((a22 - λ)*(a33 - λ) - a23*a32) - a12*(a21*(a33 - λ) - a23*a31) + a13*(a21*a32 - (a22 - λ)*a31)"
      ]
     },
     "metadata": {},
     "output_type": "display_data"
    }
   ],
   "source": [
    "λ = Symbolics.scalarize(@variables λ)[1] # Создание символьной переменной λ\n",
    "char_poly = det(A - λ * I(3)) # Вычисление характеристического полинома"
   ]
  },
  {
   "cell_type": "code",
   "execution_count": 66,
   "metadata": {},
   "outputs": [
    {
     "name": "stdout",
     "output_type": "stream",
     "text": [
      "Характеристический полином матрицы A:\n",
      "(a11 - λ)*((a22 - λ)*(a33 - λ) - a23*a32) - a12*(a21*(a33 - λ) - a23*a31) + a13*(a21*a32 - (a22 - λ)*a31)\n"
     ]
    }
   ],
   "source": [
    "println(\"Характеристический полином матрицы A:\\n\", char_poly) # Вывод характеристического полинома"
   ]
  },
  {
   "cell_type": "markdown",
   "metadata": {},
   "source": [
    "4. Затем приводится конкретная числовая матрица, для которой будут вычислены собственные значения. Из этого видно, как можно использовать символьные методы и подходы и для конкретных числовых матриц."
   ]
  },
  {
   "cell_type": "code",
   "execution_count": 67,
   "metadata": {},
   "outputs": [
    {
     "data": {
      "text/plain": [
       "3×3 Matrix{Int64}:\n",
       " 6  2  1\n",
       " 0  3  0\n",
       " 0  0  3"
      ]
     },
     "metadata": {},
     "output_type": "display_data"
    }
   ],
   "source": [
    "B = [6 2 1; \n",
    "     0 3 0; \n",
    "     0 0 3] # Создание матрицы B"
   ]
  },
  {
   "cell_type": "markdown",
   "metadata": {},
   "source": [
    "5. Вычисляем **характеристический полином** конкретной матрицы $B$:"
   ]
  },
  {
   "cell_type": "code",
   "execution_count": 68,
   "metadata": {},
   "outputs": [
    {
     "data": {
      "text/latex": [
       "$$ \\begin{equation}\n",
       "\\left( 3 - \\lambda \\right)^{2} \\left( 6 - \\lambda \\right)\n",
       "\\end{equation}\n",
       " $$"
      ],
      "text/plain": [
       "(6 - λ)*((3 - λ)^2)"
      ]
     },
     "metadata": {},
     "output_type": "display_data"
    }
   ],
   "source": [
    "char_poly_B = det(B - λ * I(3)) # Вычисление характеристического полинома матрицы B"
   ]
  },
  {
   "cell_type": "code",
   "execution_count": null,
   "metadata": {},
   "outputs": [
    {
     "name": "stdout",
     "output_type": "stream",
     "text": [
      "Характеристический полином матрицы B:\n",
      "(6 - λ)*((3 - λ)^2)\n"
     ]
    }
   ],
   "source": [
    "println(\"Характеристический полином матрицы B:\\n\", char_poly_B) # Вывод характеристического полинома"
   ]
  },
  {
   "cell_type": "markdown",
   "metadata": {},
   "source": [
    "**Это даст вам точный символьный вид характеристического полинома:**\n",
    "\n",
    "$$\n",
    "\\det(B - λ I) = (6 - λ)(3 - λ)^2\n",
    "$$\n"
   ]
  },
  {
   "cell_type": "markdown",
   "metadata": {},
   "source": [
    "Мы можем вывести также собственные значния матрицы $B$:"
   ]
  },
  {
   "cell_type": "code",
   "execution_count": 70,
   "metadata": {},
   "outputs": [
    {
     "name": "stdout",
     "output_type": "stream",
     "text": [
      "Собственные значения матрицы B:\n",
      "[3.0, 3.0, 6.0]\n"
     ]
    }
   ],
   "source": [
    "println(\"Собственные значения матрицы B:\\n\", eigvals_B) # Вывод собственных значений матрицы B"
   ]
  },
  {
   "cell_type": "markdown",
   "metadata": {},
   "source": [
    "👉 **На этом примере мы изучили:**\n",
    "\n",
    "- Как использовать символьную матрицу и зачем её задавать.\n",
    "  \n",
    "- Как получить аналитические формулы (например, характеристический полином).\n",
    "  \n",
    "- Как комбинировать символьный и численный подходы для более глубокого анализа матриц.\n",
    "\n",
    "<br>\n",
    "\n",
    "<br>"
   ]
  },
  {
   "cell_type": "markdown",
   "metadata": {},
   "source": [
    "\n",
    "### 📚 **Дополнительные возможности с `LinearAlgebraX.jl`**\n",
    "\n",
    "`LinearAlgebraX.jl` - это другой мощный пакет для расширенных матричных вычислений.\n",
    "\n",
    "\n",
    "#### 🔹 **Пример 4.**\n",
    "\n",
    "**Выполним установку пакета `LinearAlgebraX.jl`**:"
   ]
  },
  {
   "cell_type": "code",
   "execution_count": 40,
   "metadata": {},
   "outputs": [
    {
     "name": "stderr",
     "output_type": "stream",
     "text": [
      "\u001b[32m\u001b[1m   Resolving\u001b[22m\u001b[39m package versions...\n",
      "\u001b[32m\u001b[1m   Installed\u001b[22m\u001b[39m IntegerMathUtils ── v0.1.2\n",
      "\u001b[32m\u001b[1m   Installed\u001b[22m\u001b[39m Primes ──────────── v0.5.6\n",
      "\u001b[32m\u001b[1m   Installed\u001b[22m\u001b[39m Mods ────────────── v2.2.6\n",
      "\u001b[32m\u001b[1m   Installed\u001b[22m\u001b[39m Polynomials ─────── v4.0.19\n",
      "\u001b[32m\u001b[1m   Installed\u001b[22m\u001b[39m LinearAlgebraX ──── v0.2.10\n",
      "\u001b[32m\u001b[1m   Installed\u001b[22m\u001b[39m Multisets ───────── v0.4.5\n",
      "\u001b[32m\u001b[1m   Installed\u001b[22m\u001b[39m SimplePolynomials ─ v0.2.18\n",
      "\u001b[32m\u001b[1m    Updating\u001b[22m\u001b[39m `C:\\Users\\Siergej Sobolewski\\Kursy Cartesian School\\Julia\\Introduction-to-Julia-main\\Introduction-to-Julia-main\\Project.toml`\n",
      "  \u001b[90m[9b3f67b0] \u001b[39m\u001b[92m+ LinearAlgebraX v0.2.10\u001b[39m\n",
      "\u001b[32m\u001b[1m    Updating\u001b[22m\u001b[39m `C:\\Users\\Siergej Sobolewski\\Kursy Cartesian School\\Julia\\Introduction-to-Julia-main\\Introduction-to-Julia-main\\Manifest.toml`\n",
      "  \u001b[90m[18e54dd8] \u001b[39m\u001b[92m+ IntegerMathUtils v0.1.2\u001b[39m\n",
      "  \u001b[90m[9b3f67b0] \u001b[39m\u001b[92m+ LinearAlgebraX v0.2.10\u001b[39m\n",
      "  \u001b[90m[7475f97c] \u001b[39m\u001b[92m+ Mods v2.2.6\u001b[39m\n",
      "  \u001b[90m[3b2b4ff1] \u001b[39m\u001b[92m+ Multisets v0.4.5\u001b[39m\n",
      "  \u001b[90m[f27b6e38] \u001b[39m\u001b[92m+ Polynomials v4.0.19\u001b[39m\n",
      "  \u001b[90m[27ebfcd6] \u001b[39m\u001b[92m+ Primes v0.5.6\u001b[39m\n",
      "  \u001b[90m[cc47b68c] \u001b[39m\u001b[92m+ SimplePolynomials v0.2.18\u001b[39m\n",
      "\u001b[92m\u001b[1mPrecompiling\u001b[22m\u001b[39m project...\n",
      "   1300.8 ms\u001b[32m  ✓ \u001b[39m\u001b[90mIntegerMathUtils\u001b[39m\n",
      "   1093.3 ms\u001b[32m  ✓ \u001b[39m\u001b[90mMods\u001b[39m\n",
      "   1125.5 ms\u001b[32m  ✓ \u001b[39m\u001b[90mMultisets\u001b[39m\n",
      "   1033.0 ms\u001b[32m  ✓ \u001b[39m\u001b[90mPrimes\u001b[39m\n",
      "  36503.8 ms\u001b[32m  ✓ \u001b[39m\u001b[90mPolynomials\u001b[39m\n",
      "   2394.0 ms\u001b[32m  ✓ \u001b[39m\u001b[90mPolynomials → PolynomialsChainRulesCoreExt\u001b[39m\n",
      "   2542.9 ms\u001b[32m  ✓ \u001b[39m\u001b[90mSimplePolynomials\u001b[39m\n",
      "   2724.4 ms\u001b[32m  ✓ \u001b[39m\u001b[90mPolynomials → PolynomialsMutableArithmeticsExt\u001b[39m\n",
      "   2015.7 ms\u001b[32m  ✓ \u001b[39mLinearAlgebraX\n",
      "  9 dependencies successfully precompiled in 44 seconds. 325 already precompiled.\n"
     ]
    }
   ],
   "source": [
    "using Pkg\n",
    "Pkg.add(\"LinearAlgebraX\")"
   ]
  },
  {
   "cell_type": "code",
   "execution_count": 41,
   "metadata": {},
   "outputs": [],
   "source": [
    "using LinearAlgebraX # Подключаем пакет LinearAlgebraX"
   ]
  },
  {
   "cell_type": "markdown",
   "metadata": {},
   "source": [
    "**Определяем матрицу $A$:**"
   ]
  },
  {
   "cell_type": "code",
   "execution_count": 42,
   "metadata": {},
   "outputs": [
    {
     "data": {
      "text/plain": [
       "3×3 Matrix{Int64}:\n",
       " 6  2  1\n",
       " 0  3  0\n",
       " 0  0  3"
      ]
     },
     "metadata": {},
     "output_type": "display_data"
    }
   ],
   "source": [
    "A = [6 2 1; 0 3 0; 0 0 3] # Создание матрицы A"
   ]
  },
  {
   "cell_type": "markdown",
   "metadata": {},
   "source": [
    "**Произведём вычисление Жордановой формы:**"
   ]
  },
  {
   "cell_type": "code",
   "execution_count": 43,
   "metadata": {},
   "outputs": [
    {
     "data": {
      "text/plain": [
       "JordanFactorization{ComplexF64, ComplexF64}(ComplexF64[-0.6666666666666666 + 0.0im -0.3333333333333333 + 0.0im 1.0 + 0.0im; 1.0 + 0.0im 0.0 + 0.0im -0.0 - 0.0im; 0.0 + 0.0im 1.0 + 0.0im -0.0 - 0.0im], ComplexF64[3.0 + 0.0im 0.0 + 0.0im 0.0 + 0.0im; 0.0 + 0.0im 3.0 + 0.0im 0.0 + 0.0im; 0.0 + 0.0im 0.0 + 0.0im 6.0 + 0.0im])"
      ]
     },
     "metadata": {},
     "output_type": "display_data"
    }
   ],
   "source": [
    "J = jordan_form(A) # Получение жордановой формы матрицы A"
   ]
  },
  {
   "cell_type": "code",
   "execution_count": 44,
   "metadata": {},
   "outputs": [
    {
     "name": "stdout",
     "output_type": "stream",
     "text": [
      "Жорданова форма (J):\n",
      "JordanFactorization{ComplexF64, ComplexF64}(ComplexF64[-0.6666666666666666 + 0.0im -0.3333333333333333 + 0.0im 1.0 + 0.0im; 1.0 + 0.0im 0.0 + 0.0im -0.0 - 0.0im; 0.0 + 0.0im 1.0 + 0.0im -0.0 - 0.0im], ComplexF64[3.0 + 0.0im 0.0 + 0.0im 0.0 + 0.0im; 0.0 + 0.0im 3.0 + 0.0im 0.0 + 0.0im; 0.0 + 0.0im 0.0 + 0.0im 6.0 + 0.0im])\n"
     ]
    }
   ],
   "source": [
    "println(\"Жорданова форма (J):\\n\", J) # Вывод жордановой формы"
   ]
  },
  {
   "cell_type": "markdown",
   "metadata": {},
   "source": [
    "---\n",
    "\n",
    "<br>"
   ]
  },
  {
   "cell_type": "markdown",
   "metadata": {},
   "source": [
    "#### 📝 **Заключительные выводы:**\n",
    "\n",
    "**Факторизация** это мощный инструмент в вычислительной линейной алгебре, делающий сложные вычислительные задачи более простыми и точными. Разные типы факторизаций решают разные задачи, и выбор конкретного подхода зависит от типа исходной матрицы и задачи, которую нужно решить.\n",
    "\n",
    "\n",
    "⚙️ **Как выбрать нужный тип факторизации?**\n",
    "\n",
    "Выбор зависит от конкретной задачи и свойств матрицы:\n",
    "\n",
    "| Свойство матрицы       | Подходящая факторизация        |\n",
    "|------------------------|--------------------------------|\n",
    "| Общая матрица          | LU, QR, SVD                    |\n",
    "| Симметричная положительно определённая | Cholesky, LU, SVD, EVD |\n",
    "| Неквадратная           | QR, SVD                        |\n",
    "| Диагонализируемая      | EVD                            |\n",
    "\n",
    "**Быстрые алгоритмы по сложности** (от простого к сложному):\n",
    "\n",
    "- **Cholesky** (~$n^3/3$)\n",
    "  \n",
    "- **LU** (~$2n^3/3$)\n",
    "  \n",
    "- **QR** (~$2n^3$)\n",
    "  \n",
    "- **SVD** (~$4n^3$) — наиболее затратный, но универсальный и устойчивый.\n",
    "  \n",
    "\n",
    "**Другие менее распространённые факторизации:**\n",
    "\n",
    "- **Разложение Шура** (Schur Decomposition).\n",
    "  \n",
    "- **Разложение Йордана** (Jordan Normal Form).\n",
    "\n",
    "Эти менее распространённые факторизации широко используются в теоретических исследованиях, а также при решении специфических задач в математике, физике, теории управления и других областях, где необходимы глубокие структурные свойства матриц.\n",
    "\n",
    "<br>"
   ]
  },
  {
   "cell_type": "markdown",
   "metadata": {},
   "source": [
    "<br>\n",
    "\n",
    "---\n",
    "\n",
    "<br>"
   ]
  },
  {
   "cell_type": "markdown",
   "metadata": {},
   "source": [
    "<br>\n",
    "\n",
    "## 🧑‍💻 **3. Специальные матричные структуры.**\n",
    "\n",
    "<br>\n",
    "\n",
    "Традиционно считается, что **структура матриц** играет ключевую роль в линейной алгебре.\n",
    "\n",
    "👉 Чтобы наглядно понять, насколько это важно, рассмотрим систему линейных уравнений с большой матрицей (например, размером 1000×1000):"
   ]
  },
  {
   "cell_type": "code",
   "execution_count": 71,
   "metadata": {},
   "outputs": [
    {
     "data": {
      "text/plain": [
       "1000×1000 Matrix{Float64}:\n",
       "  0.540699    0.379416     0.0874677  …   1.34572     0.852871   -0.231937\n",
       " -0.167392   -0.623696    -0.401732       1.03834     0.889972    0.36893\n",
       "  0.639121   -0.480105     0.126008      -0.0946948   2.54246     0.497324\n",
       "  0.0565943   0.513932     0.0510034      0.373774    1.28021    -1.34804\n",
       " -0.857251    1.05315     -1.75765       -0.494217    0.145465    0.28542\n",
       "  1.0764      2.18774      1.28577    …  -0.497476    0.437052    0.316271\n",
       " -0.407738    0.504432     0.589993      -2.24159     0.76333     1.75607\n",
       " -0.573221   -0.0423707    1.02805       -0.15838     1.18968     1.01841\n",
       "  0.684799   -0.723471     1.92364       -0.280486   -0.175991    0.147235\n",
       " -1.45075     0.663699     0.0526692      1.5899      1.32033     0.367508\n",
       "  ⋮                                   ⋱                          \n",
       " -0.456161    0.713392    -0.0141657      0.61561    -0.363424   -0.0342958\n",
       "  0.0514155   0.00721383   0.998235      -0.631646   -1.12074     1.32078\n",
       "  1.16875    -0.500849     1.20664       -0.827921    0.518978   -0.391362\n",
       "  0.434828    1.72967     -1.61748        2.32487     0.555389    0.683399\n",
       " -1.61418     0.867681    -0.872671   …   1.80842     0.873842    2.75505\n",
       "  0.304881    0.127151     1.50544       -2.29556     1.96209     0.835969\n",
       "  1.09979     0.50073     -0.65289        0.349096   -0.745259   -0.119757\n",
       " -1.73608    -0.796248     1.26029       -0.017435   -2.39315    -1.0152\n",
       " -0.689387    1.56644     -0.807612       1.65206     0.0446183  -0.226735"
      ]
     },
     "metadata": {},
     "output_type": "display_data"
    }
   ],
   "source": [
    "n = 1000         # Размер матрицы\n",
    "A = randn(n, n)  # Создание случайной матрицы"
   ]
  },
  {
   "cell_type": "markdown",
   "metadata": {},
   "source": [
    "**Julia позволяет проверять свойства матриц, автоматически используя их структуры.**\n",
    "\n",
    "Например, проверим симметричность матрицы:"
   ]
  },
  {
   "cell_type": "code",
   "execution_count": null,
   "metadata": {},
   "outputs": [
    {
     "data": {
      "text/plain": [
       "true"
      ]
     },
     "metadata": {},
     "output_type": "display_data"
    }
   ],
   "source": [
    "A_sym = A + A'  # Создание симметричной матрицы\n",
    "\n",
    "issymmetric(A_sym)  # true"
   ]
  },
  {
   "cell_type": "markdown",
   "metadata": {},
   "source": [
    "**Однако иногда численные погрешности могут мешать корректному определению структуры матрицы:**"
   ]
  },
  {
   "cell_type": "code",
   "execution_count": null,
   "metadata": {},
   "outputs": [
    {
     "data": {
      "text/plain": [
       "false"
      ]
     },
     "metadata": {},
     "output_type": "display_data"
    }
   ],
   "source": [
    "A_sym_noisy = copy(A_sym)   # Создаем копию матрицы A_sym\n",
    "A_sym_noisy[1, 2] += 5eps() # Добавляем шум к элементу матрицы\n",
    "\n",
    "issymmetric(A_sym_noisy)    # false из-за численной погрешности"
   ]
  },
  {
   "cell_type": "markdown",
   "metadata": {},
   "source": [
    "**К счастью, мы можем явно указать структуру матрицы, используя встроенные типы Julia, такие как:**\n",
    "\n",
    "- `Diagonal` (диагональная),\n",
    "  \n",
    "- `Triangular` (треугольная),\n",
    "  \n",
    "- `Symmetric` (симметричная),\n",
    "  \n",
    "- `Hermitian` (эрмитова),\n",
    "  \n",
    "- `Tridiagonal` (трёхдиагональная),\n",
    "  \n",
    "- `SymTridiagonal` (симметричная трёхдиагональная)."
   ]
  },
  {
   "cell_type": "markdown",
   "metadata": {},
   "source": [
    "Например:"
   ]
  },
  {
   "cell_type": "code",
   "execution_count": null,
   "metadata": {},
   "outputs": [
    {
     "data": {
      "text/plain": [
       "1000×1000 Symmetric{Float64, Matrix{Float64}}:\n",
       "  1.0814      0.212024    0.726589  …   2.4455     -0.883214  -0.921324\n",
       "  0.212024   -1.24739    -0.881837      1.53908     0.093724   1.93537\n",
       "  0.726589   -0.881837    0.252015     -0.747585    3.80274   -0.310288\n",
       "  1.99513     0.0576464   0.850285     -0.0404701   1.25987   -1.8227\n",
       " -1.4628      1.53087    -0.960305     -2.86425     1.40123   -0.261048\n",
       "  0.754237    2.1755      1.44541   …  -1.84052     0.477406   1.27989\n",
       "  0.005961    0.104977    0.579375     -2.66291    -1.063      0.736079\n",
       " -0.453016    1.19606     0.852504      0.130594    1.38034    0.192011\n",
       "  0.87909    -2.6697      0.888791     -0.294102   -0.631524   0.948341\n",
       " -3.01418     0.13447     0.587238      1.64934     0.135734   1.4377\n",
       "  ⋮                                 ⋱                         \n",
       " -0.481482   -0.0124577  -0.901459      0.728234   -0.359166   1.96608\n",
       " -0.355685    1.61145     1.87063      -0.680755   -3.21712    0.565884\n",
       "  0.0132855  -0.759303    1.39975      -2.52241     1.30546    0.142377\n",
       "  0.543419    2.74772    -1.53013       3.20906    -0.868149   1.01264\n",
       " -1.72344     1.12908    -0.892474  …   1.6171      1.43602    2.1437\n",
       " -0.977254   -0.22743     1.73589      -2.69793     2.52748    2.95608\n",
       "  2.4455      1.53908    -0.747585      0.698192   -0.762694   1.5323\n",
       " -0.883214    0.093724    3.80274      -0.762694   -4.78631   -0.970581\n",
       " -0.921324    1.93537    -0.310288      1.5323     -0.970581  -0.45347"
      ]
     },
     "metadata": {},
     "output_type": "display_data"
    }
   ],
   "source": [
    "A_sym_explicit = Symmetric(A_sym_noisy) # Явное приведение к симметричной матрице"
   ]
  },
  {
   "cell_type": "markdown",
   "metadata": {},
   "source": [
    "**Сравним скорость вычисления собственных значений для разных случаев:**\n",
    "\n",
    "Использование типа `Symmetric` сделает вычисления примерно в 5 раз быстрее!"
   ]
  },
  {
   "cell_type": "code",
   "execution_count": 77,
   "metadata": {},
   "outputs": [
    {
     "name": "stdout",
     "output_type": "stream",
     "text": [
      "  0.099842 seconds (21 allocations: 7.988 MiB, 3.69% gc time)\n",
      "  0.833271 seconds (27 allocations: 7.928 MiB)\n",
      "  0.096508 seconds (21 allocations: 7.988 MiB, 3.41% gc time)\n"
     ]
    }
   ],
   "source": [
    "@time eigvals(A_sym);             # без явного указания структуры\n",
    "@time eigvals(A_sym_noisy);       # численная погрешность\n",
    "@time eigvals(A_sym_explicit);    # с явно указанной структурой"
   ]
  },
  {
   "cell_type": "markdown",
   "metadata": {},
   "source": [
    "<br>\n",
    "\n",
    "#### 🚩 **Большая проблема и её решение**\n",
    "\n",
    "Использование специальных типов, таких как `Tridiagonal` и `SymTridiagonal`, позволяет работать с очень большими трёхдиагональными матрицами, которые было бы невозможно хранить и вычислять как обычные (плотные) матрицы.\n",
    "\n",
    "<br>\n",
    "\n",
    "**Например, следующую задачу невозможно было бы решить на обычном ноутбуке с плотной матрицей:**"
   ]
  },
  {
   "cell_type": "code",
   "execution_count": 78,
   "metadata": {},
   "outputs": [
    {
     "data": {
      "text/plain": [
       "1000000×1000000 SymTridiagonal{Float64, Vector{Float64}}:\n",
       " -0.726677   1.45317     ⋅        …   ⋅          ⋅          ⋅ \n",
       "  1.45317    0.450956  -1.5558        ⋅          ⋅          ⋅ \n",
       "   ⋅        -1.5558     0.451917      ⋅          ⋅          ⋅ \n",
       "   ⋅          ⋅        -1.85731       ⋅          ⋅          ⋅ \n",
       "   ⋅          ⋅          ⋅            ⋅          ⋅          ⋅ \n",
       "   ⋅          ⋅          ⋅        …   ⋅          ⋅          ⋅ \n",
       "   ⋅          ⋅          ⋅            ⋅          ⋅          ⋅ \n",
       "   ⋅          ⋅          ⋅            ⋅          ⋅          ⋅ \n",
       "   ⋅          ⋅          ⋅            ⋅          ⋅          ⋅ \n",
       "   ⋅          ⋅          ⋅            ⋅          ⋅          ⋅ \n",
       "  ⋮                               ⋱                       \n",
       "   ⋅          ⋅          ⋅            ⋅          ⋅          ⋅ \n",
       "   ⋅          ⋅          ⋅            ⋅          ⋅          ⋅ \n",
       "   ⋅          ⋅          ⋅            ⋅          ⋅          ⋅ \n",
       "   ⋅          ⋅          ⋅            ⋅          ⋅          ⋅ \n",
       "   ⋅          ⋅          ⋅        …   ⋅          ⋅          ⋅ \n",
       "   ⋅          ⋅          ⋅           0.0705975   ⋅          ⋅ \n",
       "   ⋅          ⋅          ⋅           0.104533   1.03863     ⋅ \n",
       "   ⋅          ⋅          ⋅           1.03863    0.437776   0.599539\n",
       "   ⋅          ⋅          ⋅            ⋅         0.599539  -2.35556"
      ]
     },
     "metadata": {},
     "output_type": "display_data"
    }
   ],
   "source": [
    "n = 1_000_000    # Размер матрицы\n",
    "A_large = SymTridiagonal(randn(n), randn(n - 1)) # Создание большой трехдиагональной матрицы"
   ]
  },
  {
   "cell_type": "code",
   "execution_count": 79,
   "metadata": {},
   "outputs": [
    {
     "name": "stdout",
     "output_type": "stream",
     "text": [
      "  1.085284 seconds (620.75 k allocations: 216.017 MiB, 2.69% gc time, 27.10% compilation time)\n"
     ]
    },
    {
     "data": {
      "text/plain": [
       "6.493355010557146"
      ]
     },
     "metadata": {},
     "output_type": "display_data"
    }
   ],
   "source": [
    "@time eigmax(A_large) # Вычисление максимального собственного значения"
   ]
  },
  {
   "cell_type": "markdown",
   "metadata": {},
   "source": [
    "👉 **Благодаря специальным структурам матриц можно эффективно решать масштабные численные задачи, которые иначе были бы слишком ресурсоёмкими для обычных компьютеров.**"
   ]
  },
  {
   "cell_type": "markdown",
   "metadata": {},
   "source": [
    "<br>\n",
    "\n",
    "---\n",
    "\n",
    "<br>"
   ]
  },
  {
   "cell_type": "markdown",
   "metadata": {},
   "source": [
    "<br>\n",
    "\n",
    "## ✨ **4. Общая линейная алгебра (Generic linear algebra)**\n",
    "\n",
    "<br>\n",
    "\n",
    "Стандартный подход к реализации численной линейной алгебры заключается в использовании подпрограмм из библиотек BLAS и LAPACK. Julia также придерживается этого подхода для матриц с элементами типов `Float32`, `Float64`, `Complex{Float32}` или `Complex{Float64}`.\n",
    "\n",
    "Однако Julia дополнительно поддерживает **обобщённую (generic)** линейную алгебру. Это позволяет работать с матрицами и векторами, элементами которых являются, например, рациональные числа, комплексные числа произвольной точности и другие типы данных, не обязательно числовые.\n",
    "\n",
    "<br>\n",
    "\n",
    "### 🔢 **Рациональные числа (Rational numbers)**\n",
    "\n",
    "Julia поддерживает рациональные числа из коробки. Рациональные числа можно создавать с помощью двойного слэша `//`:\n"
   ]
  },
  {
   "cell_type": "code",
   "execution_count": 80,
   "metadata": {},
   "outputs": [
    {
     "data": {
      "text/plain": [
       "1//2"
      ]
     },
     "metadata": {},
     "output_type": "display_data"
    }
   ],
   "source": [
    "r = 1//2 # Рациональное число"
   ]
  },
  {
   "cell_type": "markdown",
   "metadata": {},
   "source": [
    "**Рациональные числа представляются в виде дроби, что позволяет сохранять точность вычислений, избегая ошибок округления, характерных для чисел с плавающей точкой.**"
   ]
  },
  {
   "cell_type": "markdown",
   "metadata": {},
   "source": [
    "#### 🔹 **Пример: решение рациональной системы линейных уравнений**\n",
    "\n",
    "Рассмотрим пример решения системы линейных уравнений, элементы которой — рациональные числа. Чтобы избежать проблем переполнения, характерных при работе с рациональными числами, будем использовать типы большой точности `BigInt`:\n",
    "\n",
    "- **Создадим матрицу с рациональными элементами типа `BigInt` :**\n",
    "  \n",
    "  Генерация случайной рациональной матрицы 3x3"
   ]
  },
  {
   "cell_type": "code",
   "execution_count": 85,
   "metadata": {},
   "outputs": [
    {
     "data": {
      "text/plain": [
       "3×3 Matrix{Rational{BigInt}}:\n",
       " 1//5  9//10  4//5\n",
       " 3//5  4//5   3//10\n",
       " 3//5  3//10  4//5"
      ]
     },
     "metadata": {},
     "output_type": "display_data"
    }
   ],
   "source": [
    "Arational = Matrix{Rational{BigInt}}(rand(1:10, 3, 3)) // 10"
   ]
  },
  {
   "cell_type": "markdown",
   "metadata": {},
   "source": [
    "- **Создаём вектор $x$, заполненный единицами :**"
   ]
  },
  {
   "cell_type": "code",
   "execution_count": 89,
   "metadata": {},
   "outputs": [
    {
     "data": {
      "text/plain": [
       "3-element Vector{Int64}:\n",
       " 1\n",
       " 1\n",
       " 1"
      ]
     },
     "metadata": {},
     "output_type": "display_data"
    }
   ],
   "source": [
    "x = fill(1, 3)"
   ]
  },
  {
   "cell_type": "markdown",
   "metadata": {},
   "source": [
    "- **Вычисляем вектор правой части системы :**"
   ]
  },
  {
   "cell_type": "code",
   "execution_count": 90,
   "metadata": {},
   "outputs": [
    {
     "data": {
      "text/plain": [
       "3-element Vector{Rational{BigInt}}:\n",
       " 19//10\n",
       " 17//10\n",
       " 17//10"
      ]
     },
     "metadata": {},
     "output_type": "display_data"
    }
   ],
   "source": [
    "b = Arational * x"
   ]
  },
  {
   "cell_type": "markdown",
   "metadata": {},
   "source": [
    "- **Решаем систему A * solution = b :**"
   ]
  },
  {
   "cell_type": "code",
   "execution_count": 91,
   "metadata": {},
   "outputs": [
    {
     "data": {
      "text/plain": [
       "3-element Vector{Rational{BigInt}}:\n",
       " 1\n",
       " 1\n",
       " 1"
      ]
     },
     "metadata": {},
     "output_type": "display_data"
    }
   ],
   "source": [
    "solution = Arational \\ b"
   ]
  },
  {
   "cell_type": "markdown",
   "metadata": {},
   "source": [
    "- **Выводим результаты :**"
   ]
  },
  {
   "cell_type": "code",
   "execution_count": 92,
   "metadata": {},
   "outputs": [
    {
     "name": "stdout",
     "output_type": "stream",
     "text": [
      "Матрица A:\n",
      "Rational{BigInt}[1//5 9//10 4//5; 3//5 4//5 3//10; 3//5 3//10 4//5]\n",
      "\n",
      "Вектор b:\n",
      "Rational{BigInt}[19//10, 17//10, 17//10]\n",
      "\n",
      "Решение системы Ax = b:\n",
      "Rational{BigInt}[1, 1, 1]\n"
     ]
    }
   ],
   "source": [
    "println(\"Матрица A:\\n\", Arational)\n",
    "println(\"\\nВектор b:\\n\", b)\n",
    "println(\"\\nРешение системы Ax = b:\\n\", solution)"
   ]
  },
  {
   "cell_type": "markdown",
   "metadata": {},
   "source": [
    "- **Проверка корректности :**"
   ]
  },
  {
   "cell_type": "code",
   "execution_count": 93,
   "metadata": {},
   "outputs": [
    {
     "name": "stdout",
     "output_type": "stream",
     "text": [
      "\n",
      "Проверка: A * solution == b? true\n"
     ]
    }
   ],
   "source": [
    "println(\"\\nПроверка: A * solution == b? \", Arational * solution == b) # true"
   ]
  },
  {
   "cell_type": "markdown",
   "metadata": {},
   "source": [
    "🔴 **Мы можем также явно использовать LU-факторизацию, что полезно при многократном решении системы с одной и той же матрицей :**\n",
    "\n",
    "Наша **LU-факторизация** матрицы с рациональными элементами будет выглядеть так:"
   ]
  },
  {
   "cell_type": "code",
   "execution_count": 94,
   "metadata": {},
   "outputs": [
    {
     "data": {
      "text/plain": [
       "LU{Rational{BigInt}, Matrix{Rational{BigInt}}, Vector{Int64}}\n",
       "L factor:\n",
       "3×3 Matrix{Rational{BigInt}}:\n",
       "  1       0     0\n",
       " 1//3     1     0\n",
       "  1    -15//19  1\n",
       "U factor:\n",
       "3×3 Matrix{Rational{BigInt}}:\n",
       " 3//5   4//5    3//10\n",
       "  0    19//30   7//10\n",
       "  0      0     20//19"
      ]
     },
     "metadata": {},
     "output_type": "display_data"
    }
   ],
   "source": [
    "Arational_lu = lu(Arational)"
   ]
  },
  {
   "cell_type": "markdown",
   "metadata": {},
   "source": [
    "- **Решение с использованием факторизации :**"
   ]
  },
  {
   "cell_type": "code",
   "execution_count": 95,
   "metadata": {},
   "outputs": [
    {
     "data": {
      "text/plain": [
       "3-element Vector{Rational{BigInt}}:\n",
       " 1\n",
       " 1\n",
       " 1"
      ]
     },
     "metadata": {},
     "output_type": "display_data"
    }
   ],
   "source": [
    "solution_lu = Arational_lu \\ b"
   ]
  },
  {
   "cell_type": "markdown",
   "metadata": {},
   "source": [
    "✅ **Оба способа сохраняют точность без перехода к типам с плавающей точкой.**"
   ]
  },
  {
   "cell_type": "markdown",
   "metadata": {},
   "source": [
    "<br>\n",
    "\n",
    "#### 🚩 **Преимущества обобщённой линейной алгебры:**\n",
    "\n",
    "- Возможность работать с широким классом числовых типов, включая точные рациональные и комплексные числа произвольной точности.\n",
    "  \n",
    "- Исключение ошибок округления и повышение точности вычислений в теоретических и аналитических задачах.\n",
    "  \n",
    "- Удобство и гибкость при работе с математическими и численными задачами различной сложности.\n",
    "\n",
    "<br>"
   ]
  },
  {
   "cell_type": "markdown",
   "metadata": {},
   "source": [
    "<br>\n",
    "\n",
    "---\n",
    "\n",
    "<br>\n",
    "\n",
    "### **Упражнения** 🚀 \n",
    "\n",
    "<br>\n",
    "\n",
    "#### ✅ Здание 13.1 \n",
    "\n",
    "Найдите собственные значения матрицы `𝐴`\n",
    "\n",
    "```julia\n",
    "A =\n",
    "[\n",
    " 140   97   74  168  131\n",
    "  97  106   89  131   36\n",
    "  74   89  152  144   71\n",
    " 168  131  144   54  142\n",
    " 131   36   71  142   36\n",
    "]\n",
    "```\n",
    "\n",
    "Присвойте результат переменной `A_eigv`."
   ]
  },
  {
   "cell_type": "code",
   "execution_count": null,
   "metadata": {},
   "outputs": [],
   "source": [
    "using LinearAlgebra"
   ]
  },
  {
   "cell_type": "code",
   "execution_count": null,
   "metadata": {},
   "outputs": [],
   "source": [
    "# Ваше решение:\n"
   ]
  },
  {
   "cell_type": "code",
   "execution_count": null,
   "metadata": {
    "deletable": false,
    "editable": false,
    "hide_input": true,
    "nbgrader": {
     "checksum": "f9f16fdef201ed372323a291f1dd1346",
     "grade": true,
     "grade_id": "cell-4d5f60c8a814c789",
     "locked": true,
     "points": 0,
     "schema_version": 1,
     "solution": false
    }
   },
   "outputs": [],
   "source": [
    "@assert A_eigv ==  [-128.49322764802145, -55.887784553056875, 42.7521672793189, 87.16111477514521, 542.4677301466143]"
   ]
  },
  {
   "cell_type": "markdown",
   "metadata": {},
   "source": [
    "<br>\n",
    "\n",
    "#### ✅ Здание 13.2 \n",
    "\n",
    "Создайте диагональную матрицу, состоящую из собственных значений матрицы `A`.\n",
    "\n",
    "Присвойте результат переменной `A_diag`."
   ]
  },
  {
   "cell_type": "code",
   "execution_count": null,
   "metadata": {},
   "outputs": [],
   "source": [
    "# Ваше решение:\n"
   ]
  },
  {
   "cell_type": "code",
   "execution_count": null,
   "metadata": {
    "deletable": false,
    "editable": false,
    "hide_input": true,
    "nbgrader": {
     "checksum": "3ca676f6282c1a7c214ab2cb9f9b322d",
     "grade": true,
     "grade_id": "cell-3b000a3710c9c263",
     "locked": true,
     "points": 1,
     "schema_version": 1,
     "solution": false
    }
   },
   "outputs": [],
   "source": [
    "@assert A_diag ==  [-128.493    0.0      0.0      0.0       0.0;\n",
    "    0.0    -55.8878   0.0      0.0       0.0;\n",
    "    0.0      0.0     42.7522   0.0       0.0;\n",
    "    0.0      0.0      0.0     87.1611    0.0;\n",
    "    0.0 0.0      0.0      0.0     542.468]"
   ]
  },
  {
   "cell_type": "markdown",
   "metadata": {},
   "source": [
    "<br>\n",
    "\n",
    "#### ✅ Здание 13.3\n",
    "\n",
    "Создайте нижнюю треугольную матрицу (матрицу, в которой все элементы выше главной диагонали равны нулю) на основе матрицы `A` и сохраните результат в переменной `A_lowertri`."
   ]
  },
  {
   "cell_type": "code",
   "execution_count": null,
   "metadata": {},
   "outputs": [],
   "source": [
    "# Ваше решение:\n"
   ]
  },
  {
   "cell_type": "code",
   "execution_count": null,
   "metadata": {
    "deletable": false,
    "editable": false,
    "hide_input": true,
    "nbgrader": {
     "checksum": "b3b1a272343a05082f378a5e1aa3426d",
     "grade": true,
     "grade_id": "cell-b76cee2b4a8777da",
     "locked": true,
     "points": 0,
     "schema_version": 1,
     "solution": false
    }
   },
   "outputs": [],
   "source": [
    "@assert A_lowertri ==  [140    0    0    0   0;\n",
    "  97  106    0    0   0;\n",
    "  74   89  152    0   0;\n",
    " 168  131  144   54   0;\n",
    " 131   36   71  142  36]"
   ]
  }
 ],
 "metadata": {
  "kernelspec": {
   "display_name": "Julia 1.11.3",
   "language": "julia",
   "name": "julia-1.11"
  },
  "language": "Julia",
  "language_info": {
   "file_extension": ".jl",
   "mimetype": "application/julia",
   "name": "julia",
   "version": "1.11.3"
  }
 },
 "nbformat": 4,
 "nbformat_minor": 4
}
