{
 "cells": [
  {
   "cell_type": "markdown",
   "metadata": {},
   "source": [
    "# **🚀 Базовая линейная алгебра в Julia**  \n",
    "# **Урок Двенадцатый.**\n",
    "\n",
    "**Автор**: Андреас Ноак Йенсен (MIT & JuliaComputing) [(Twitter)](https://twitter.com/anoackjensen?lang=en)  \n",
    "(с правками от Джейн Херриман и Сергея Соболевского)\n",
    "\n",
    "<br>\n",
    "\n",
    "##  **📌 Темы:**  \n",
    "\n",
    "1. **Основные понятия линейной алгебры**\n",
    "2. **Создание матрицы и вектора в Julia.**  \n",
    "3. **Стандартные матричные операции в Julia.**\n",
    "4. **Решение линейных систем (Solving Linear Systems).** \n",
    "5. **Библиотека `LinearAlgebra`.**\n",
    "\n",
    "\n",
    "\n",
    "<br>\n",
    "\n",
    "---\n",
    "\n",
    " <br>\n"
   ]
  },
  {
   "cell_type": "markdown",
   "metadata": {},
   "source": [
    "# **Базовая линейная алгебра в Julia.**\n",
    "\n",
    "**Линейная алгебра** — это раздел математики, изучающий векторы, матрицы, линейные уравнения и линейные преобразования. Она является основой для многих областей, включая компьютерные науки, машинное обучение, обработку сигналов и физику.\n",
    "\n",
    "<br>\n",
    "\n",
    "В **Julia** для вычисления определителя матриц больших размерностей ($ n>3 $) используется функция `LinearAlgebra.det` из стандартной библиотеки `LinearAlgebra`,\n",
    "**Julia** использует LU-разложение (аналогично методу Гаусса), что обеспечивает высокую эффективность даже для очень больших матриц ($n≥1000$). Для работы с символьными матрицами в Julia\n",
    "можно подключить пакет `Symbolics.jl`, для численных вычислений используется тип данных матрицы (например, `Float64` или `BigFloat` для повышенной точности)."
   ]
  },
  {
   "cell_type": "markdown",
   "metadata": {},
   "source": [
    "<br>\n",
    "\n",
    "---\n",
    "\n",
    "<br>\n",
    "\n",
    "### **1️⃣ Создание матрицы и вектора в Julia.**  \n",
    "\n",
    "В Julia векторы и матрицы представляют собой массивы `(Array)`, но они имеют разную размерность. \n",
    "\n",
    "**Вектор** — это одномерный массив, а **Матрица** — двумерный.\n",
    "\n",
    "#### **🔹 Определение заданной матрицы** \n",
    "\n",
    "Сначала создадим простую иатрицу А размером 3х3:\n",
    "\n",
    "```julia\n",
    "A = [1 2 3; \n",
    "     4 5 6; \n",
    "     7 8 9]  # Задаем матрицу A (3×3)\n",
    "```"
   ]
  },
  {
   "cell_type": "code",
   "execution_count": 16,
   "metadata": {},
   "outputs": [
    {
     "data": {
      "text/plain": [
       "3×3 Matrix{Int64}:\n",
       " 1  2  3\n",
       " 4  5  6\n",
       " 7  8  9"
      ]
     },
     "metadata": {},
     "output_type": "display_data"
    }
   ],
   "source": [
    "A = [1 2 3; 4 5 6; 7 8 9]"
   ]
  },
  {
   "cell_type": "markdown",
   "metadata": {},
   "source": [
    "\n",
    "#### **🔹 Определение случайной матрицы**  \n",
    "\n",
    "Теперь создадим **случайную матрицу** `A` размером **3×3**, содержащую целые числа от 1 до 10:  \n"
   ]
  },
  {
   "cell_type": "code",
   "execution_count": 31,
   "metadata": {},
   "outputs": [
    {
     "data": {
      "text/plain": [
       "3×3 Matrix{Int64}:\n",
       " 3  3  7\n",
       " 4  5  7\n",
       " 7  8  1"
      ]
     },
     "metadata": {},
     "output_type": "display_data"
    }
   ],
   "source": [
    "A = rand(1:10, 3, 3) # Определяем матрицу 3x3, заполненную случайными числами от 1 до 10\n"
   ]
  },
  {
   "cell_type": "markdown",
   "metadata": {},
   "source": [
    "#### **🔹 Определение вектора из единиц.** \n",
    " \n",
    "Теперь создадим **вектор**, содержащий только целые числа - единицы `1`, размером **3 элемента**:  "
   ]
  },
  {
   "cell_type": "code",
   "execution_count": 23,
   "metadata": {},
   "outputs": [
    {
     "data": {
      "text/plain": [
       "3-element Vector{Int64}:\n",
       " 1\n",
       " 1\n",
       " 1"
      ]
     },
     "metadata": {},
     "output_type": "display_data"
    }
   ],
   "source": [
    "x = fill(1,3)  # Определяем вектор x = [1, 1, 1]"
   ]
  },
  {
   "cell_type": "markdown",
   "metadata": {},
   "source": [
    "#### **🔹 Определение вектора случайных чисел.** \n",
    "\n",
    "С помощью функциии `rand()` определяем вектор `b`, заполненный случайными числами от 1 до 10 и размерностью 5 элементов:"
   ]
  },
  {
   "cell_type": "code",
   "execution_count": null,
   "metadata": {},
   "outputs": [
    {
     "data": {
      "text/plain": [
       "5-element Vector{Int64}:\n",
       " 2\n",
       " 9\n",
       " 3\n",
       " 6\n",
       " 8"
      ]
     },
     "metadata": {},
     "output_type": "display_data"
    }
   ],
   "source": [
    "b = rand(1:10, 5)    # Определяем вектор b длины 5, заполненный случайными числами от 1 до 10"
   ]
  },
  {
   "cell_type": "markdown",
   "metadata": {},
   "source": [
    "#### **🔹 Определение вектора случайных чисел от 0 до 1.**\n",
    "\n",
    "Функция `rand(n)` в Julia по умолчанию генерирует **n** случайных чисел из равномерного распределения на интервале **[0, 1]**."
   ]
  },
  {
   "cell_type": "code",
   "execution_count": 28,
   "metadata": {},
   "outputs": [
    {
     "data": {
      "text/plain": [
       "3-element Vector{Float64}:\n",
       " 0.09639256229404969\n",
       " 0.5434733985340262\n",
       " 0.027005953640411584"
      ]
     },
     "metadata": {},
     "output_type": "display_data"
    }
   ],
   "source": [
    "z = rand(3) # вектор x длины 3, заполненный случайными числами от 0 до 1"
   ]
  },
  {
   "cell_type": "markdown",
   "metadata": {},
   "source": [
    "#### **🔹 Функция collect() в Julia.**\n",
    "\n",
    "Основное использование `collect()` это преобразование диапазона `(Range)` в массив `(Vector)`.\n",
    "\n",
    "В Julia диапазон `(1:5)` — это ленивый объект, который хранит только начальное и конечное значение, но не создает массив.\n",
    "Если вам нужен массив значений диапазона, используйте `collect()`:"
   ]
  },
  {
   "cell_type": "code",
   "execution_count": 29,
   "metadata": {},
   "outputs": [
    {
     "data": {
      "text/plain": [
       "5-element Vector{Int64}:\n",
       " 1\n",
       " 2\n",
       " 3\n",
       " 4\n",
       " 5"
      ]
     },
     "metadata": {},
     "output_type": "display_data"
    }
   ],
   "source": [
    "x = 1:5       # Диапазон от 1 до 5\n",
    "v = collect(x)  # Преобразование в массив (вектор)\n"
   ]
  },
  {
   "cell_type": "code",
   "execution_count": 30,
   "metadata": {},
   "outputs": [
    {
     "data": {
      "text/plain": [
       "3-element Vector{Int64}:\n",
       " 1\n",
       " 2\n",
       " 3"
      ]
     },
     "metadata": {},
     "output_type": "display_data"
    }
   ],
   "source": [
    "k = collect(1:3)   # Вектор из диапазона от 1 до 3"
   ]
  },
  {
   "cell_type": "markdown",
   "metadata": {},
   "source": [
    "#### **🔹 Определение вектора из чисел с плавающей запятой.**\n",
    "\n",
    "\n",
    "Для примера создадим вектор с длинной `3` и заполненный `1.55` - числами с плавающей точкой (тип Float64):"
   ]
  },
  {
   "cell_type": "code",
   "execution_count": 24,
   "metadata": {},
   "outputs": [
    {
     "data": {
      "text/plain": [
       "3-element Vector{Float64}:\n",
       " 1.55\n",
       " 1.55\n",
       " 1.55"
      ]
     },
     "metadata": {},
     "output_type": "display_data"
    }
   ],
   "source": [
    "y = fill(1.55, 3) # вектор x длины 3, заполненный 1.55 - числами с плавающей точкой"
   ]
  },
  {
   "cell_type": "markdown",
   "metadata": {},
   "source": [
    "#### **🔹 Подведём итог по полученным типам данных в Julia.**  \n",
    "\n",
    "В Julia **векторы и матрицы** представляют собой **разные структуры данных**, имеющие разные размеры и типы:  \n",
    "\n",
    "- **Матрица** `A` имеет тип **`Matrix{Int64}`** (`Array{Int64,2}`) – это **двумерный массив**.  \n",
    "  \n",
    "- **Вектор** `x` имеет тип **`Vector{Int64}`** (`Array{Int64,1}`) – это **одномерный массив** с целыми числами. \n",
    "   \n",
    "- **Вектор** `y` имеет тип **`Vector{Float64}`** (`Array{Float64,1}`) – это **одномерный массив** с числами с плавающей запятой.  \n",
    "\n",
    "<br>\n",
    "\n",
    "##### **📌 Важные псевдонимы в Julia.**\n",
    "\n",
    "Для удобства в Julia используются **псевдонимы типов массивов**: \n",
    "\n",
    "- **`Vector{Type} ≡ Array{Type,1}`** → одномерный массив (вектор).\n",
    "    \n",
    "- **`Matrix{Type} ≡ Array{Type,2}`** → двумерный массив (матрица).  \n",
    "\n",
    "Это делает код **более читаемым и удобным**, особенно при работе с линейной алгеброй.  \n",
    "\n",
    "<br>\n",
    "\n",
    "##### **📌 Основные выводы:**\n",
    "\n",
    "✅ Векторы (`Vector{T}`) – **одномерные** массивы, матрицы (`Matrix{T}`) – **двумерные**.\n",
    "\n",
    "✅ **Операции с матрицами и векторами** в Julia работают **так же, как в других языках**, но более **оптимизированы**. \n",
    "\n",
    "✅ **Julia автоматически выбирает подходящий тип данных**, обеспечивая **высокую производительность**.  \n",
    "\n"
   ]
  },
  {
   "cell_type": "markdown",
   "metadata": {},
   "source": [
    "<br>\n",
    "\n",
    "---\n",
    "\n",
    "<br>\n",
    "\n",
    "### **2️⃣ Стандартные матричные операции в Julia.**\n",
    "\n",
    "<br>"
   ]
  },
  {
   "cell_type": "markdown",
   "metadata": {},
   "source": [
    "### **🔹 1. Умножение (Multiplication)**  \n",
    "Julia поддерживает стандартные **матричные операции**, такие как умножение матрицы на вектор.  "
   ]
  },
  {
   "cell_type": "code",
   "execution_count": 6,
   "metadata": {},
   "outputs": [
    {
     "data": {
      "text/plain": [
       "3-element Vector{Float64}:\n",
       " 9.0\n",
       " 8.0\n",
       " 6.0"
      ]
     },
     "metadata": {},
     "output_type": "display_data"
    }
   ],
   "source": [
    "b = A * x"
   ]
  },
  {
   "cell_type": "markdown",
   "metadata": {},
   "source": [
    "📌 Оператор `*` используется для **матричного умножения** (`A` на `x`).  \n",
    "\n",
    "🔹 **Результат** будет вектором `Vector{Float64}`, так как `A` — целочисленная (`Int64`), а `x` содержит числа с плавающей запятой (`Float64`)."
   ]
  },
  {
   "cell_type": "markdown",
   "metadata": {},
   "source": [
    "<br>\n",
    "\n",
    "### **🔹 2. Транспонирование и сопряженное транспонирование (адъюнгирование) матрицы**  \n",
    "\n",
    "В Julia, как и в математике, различают два вида транспонирования:  \n",
    "\n",
    "1. **Обычное транспонирование** – перестановка строк и столбцов.  \n",
    "   \n",
    "2. **Сопряженное транспонирование (адъюнгирование)** – транспонирование с одновременным комплексным сопряжением элементов.  \n"
   ]
  },
  {
   "cell_type": "markdown",
   "metadata": {},
   "source": [
    "#####  Транспонирование — это операция в линейной алгебре, при которой строки матрицы преобразуются в столбцы, и наоборот. Результатом транспонирования матрицы $ A $ является новая матрица $ A^T $ (или $ A'$), где строки исходной матрицы становятся столбцами, а столбцы — строками.\n",
    "\n",
    "<br>\n",
    "\n",
    "### Пример:\n",
    "\n",
    "Рассмотрим матрицу $ A $ размером $ 2 \\times 3 $:\n",
    "\n",
    "$$ A = \\begin{pmatrix}\n",
    "1 & 2 & 3 \\\\\n",
    "4 & 5 & 6\n",
    "\\end{pmatrix} $$\n",
    "\n",
    "Транспонированная матрица $ A^T $ будет иметь размер $ 3 \\times 2 $:\n",
    "\n",
    "$$ A^T = \\begin{pmatrix}\n",
    "1 & 4 \\\\\n",
    "2 & 5 \\\\\n",
    "3 & 6\n",
    "\\end{pmatrix} $$\n",
    "\n",
    "### Свойства транспонирования:\n",
    "\n",
    "1. **Двойное транспонирование**: Транспонирование транспонированной матрицы возвращает исходную матрицу:\n",
    "   $ (A^T)^T = A $\n",
    "\n",
    "2. **Сумма матриц**: Транспонирование суммы матриц равно сумме транспонированных матриц:\n",
    "   $ (A + B)^T = A^T + B^T $\n",
    "\n",
    "3. **Произведение матриц**: Транспонирование произведения матриц равно произведению транспонированных матриц в обратном порядке:\n",
    "   $ (AB)^T = B^T A^T $\n",
    "\n",
    "4. **Скалярное произведение**: Транспонирование произведения матрицы на скаляр равно произведению транспонированной матрицы на тот же скаляр:\n",
    "   $ (cA)^T = cA^T $\n",
    "\n",
    "Транспонирование широко используется в различных областях математики, физики, инженерии и компьютерных наук для упрощения вычислений и решения задач, связанных с матрицами.\n",
    "\n",
    "<br>\n",
    "\n",
    "#### **2.1 Обычное транспонирование**\n",
    "\n",
    "Обычное транспонирование просто меняет строки и столбцы местами.\n",
    "\n",
    "**Например:**\n",
    "\n",
    "Создадим матрицу `А`:\n",
    "\n",
    "```julia\n",
    "A = [1 2 3; \n",
    "     4 5 6; \n",
    "     7 8 9]  # Задаем матрицу A (3×3)\n",
    "```"
   ]
  },
  {
   "cell_type": "code",
   "execution_count": 7,
   "metadata": {},
   "outputs": [
    {
     "data": {
      "text/plain": [
       "3×3 Matrix{Int64}:\n",
       " 1  2  3\n",
       " 4  5  6\n",
       " 7  8  9"
      ]
     },
     "metadata": {},
     "output_type": "display_data"
    }
   ],
   "source": [
    "A = [1 2 3; 4 5 6; 7 8 9]"
   ]
  },
  {
   "cell_type": "markdown",
   "metadata": {},
   "source": [
    "Теперь её транспонируем:"
   ]
  },
  {
   "cell_type": "code",
   "execution_count": 8,
   "metadata": {},
   "outputs": [
    {
     "data": {
      "text/plain": [
       "3×3 transpose(::Matrix{Int64}) with eltype Int64:\n",
       " 1  4  7\n",
       " 2  5  8\n",
       " 3  6  9"
      ]
     },
     "metadata": {},
     "output_type": "display_data"
    }
   ],
   "source": [
    "transpose(A)"
   ]
  },
  {
   "cell_type": "markdown",
   "metadata": {},
   "source": [
    "🔹 **Результат**:\n",
    "\n",
    "Строки и столбцы поменялись местами\n",
    "\n",
    "```julia\n",
    "3×3 Matrix{Int64}:\n",
    " 1  4  7\n",
    " 2  5  8\n",
    " 3  6  9\n",
    " \n",
    "```\n",
    "📌 **Обычное транспонирование используется для любых матриц и не затрагивает значения элементов.**  "
   ]
  },
  {
   "cell_type": "markdown",
   "metadata": {},
   "source": [
    "<br>\n",
    "\n",
    "#### **2.2 Сопряженное транспонирование (адъюнгирование)**  \n",
    "\n",
    "Если матрица содержит **комплексные числа**, то операция `A'` выполняет **сопряженное транспонирование**.\n",
    "\n",
    "Наша матрица `А` с комплексными числами:"
   ]
  },
  {
   "cell_type": "code",
   "execution_count": 9,
   "metadata": {},
   "outputs": [
    {
     "data": {
      "text/plain": [
       "2×2 Matrix{Complex{Int64}}:\n",
       " 1+2im  3-1im\n",
       " 4+0im  5+3im"
      ]
     },
     "metadata": {},
     "output_type": "display_data"
    }
   ],
   "source": [
    "A = [1+2im 3-im; 4 5+3im]"
   ]
  },
  {
   "cell_type": "markdown",
   "metadata": {},
   "source": [
    "### **🔹 2.\n",
    "Теперь выполним сопряженное транспонирование:"
   ]
  },
  {
   "cell_type": "code",
   "execution_count": 10,
   "metadata": {},
   "outputs": [
    {
     "data": {
      "text/plain": [
       "2×2 adjoint(::Matrix{Complex{Int64}}) with eltype Complex{Int64}:\n",
       " 1-2im  4+0im\n",
       " 3+1im  5-3im"
      ]
     },
     "metadata": {},
     "output_type": "display_data"
    }
   ],
   "source": [
    "A'"
   ]
  },
  {
   "cell_type": "markdown",
   "metadata": {},
   "source": [
    "🔹 **Результат**:\n",
    " \n",
    "```julia\n",
    "2×2 Matrix{Complex{Int64}}:\n",
    " 1 - 2im   4\n",
    " 3 + 1im   5 - 3im\n",
    " \n",
    "```\n",
    "📌 **Что мы видим?** \n",
    "\n",
    "- Что матрица **Транспонируется** , т.е. поменялись местами строки и столбцы.  \n",
    "  \n",
    "- Что произошло **Комплексное сопряжение**, т.е. у элементов матрицы `А` изменился знак мнимой части \\( i \\) на противоположный.  \n",
    "\n",
    "\n",
    "👉 **Если матрица содержит только вещественные числа, `A'` работает так же, как `transpose(A)`.**  \n"
   ]
  },
  {
   "cell_type": "markdown",
   "metadata": {},
   "source": [
    "<br>\n",
    "\n",
    "#### **🔹 3. Транспонированное умножение**  \n",
    "\n",
    "В Julia можно записывать **умножение транспонированной матрицы на саму себя** без оператора `*` как `A'A`:  \n",
    "\n"
   ]
  },
  {
   "cell_type": "code",
   "execution_count": null,
   "metadata": {},
   "outputs": [
    {
     "data": {
      "text/plain": [
       "3×3 Matrix{Int64}:\n",
       " 66   78   90\n",
       " 78   93  108\n",
       " 90  108  126"
      ]
     },
     "metadata": {},
     "output_type": "display_data"
    }
   ],
   "source": [
    "A = [1 2 3; 4 5 6; 7 8 9] # задаем матрицу А\n",
    "\n",
    "A'A # умножаем матрицу на транспонированную матрицу"
   ]
  },
  {
   "cell_type": "markdown",
   "metadata": {},
   "source": [
    "`A'A` - это сокращенная запись для `transpose(A) * A`, проверим:"
   ]
  },
  {
   "cell_type": "code",
   "execution_count": 14,
   "metadata": {},
   "outputs": [
    {
     "data": {
      "text/plain": [
       "3×3 Matrix{Int64}:\n",
       " 66   78   90\n",
       " 78   93  108\n",
       " 90  108  126"
      ]
     },
     "metadata": {},
     "output_type": "display_data"
    }
   ],
   "source": [
    "A = [1 2 3; 4 5 6; 7 8 9]\n",
    "\n",
    "transpose(A) * A"
   ]
  },
  {
   "cell_type": "markdown",
   "metadata": {},
   "source": [
    "📌 **Это используется в линейной алгебре**, например, для вычисления **граммианов** и **норм уравнений в методе наименьших квадратов**.  "
   ]
  },
  {
   "cell_type": "markdown",
   "metadata": {},
   "source": [
    "<br>\n",
    "\n",
    "---\n",
    "\n",
    "<br>\n",
    "\n",
    "### **3️⃣ Решение линейных систем (Solving Linear Systems)**  \n",
    "\n",
    "<br>"
   ]
  },
  {
   "cell_type": "markdown",
   "metadata": {},
   "source": [
    "Оператор **обратного деления `\\`** - решает линейные уравнения вида **$Ax = b$**. В зависимости от формы матрицы $ A $ **Julia** автоматически выбирает подходящий метод решения.\n",
    "<br>"
   ]
  },
  {
   "cell_type": "markdown",
   "metadata": {},
   "source": [
    "#### **⬜ 1. Квадратная система (Square System)**  \n",
    "\n",
    "Если \\( A \\) – **квадратная матрица** (число строк = числу столбцов), оператор `\\` находит **точное решение**:  "
   ]
  },
  {
   "cell_type": "code",
   "execution_count": 33,
   "metadata": {},
   "outputs": [
    {
     "data": {
      "text/plain": [
       "3-element Vector{Float64}:\n",
       "  0.027035062177010568\n",
       "  1.5815023677620113\n",
       " -0.5161651032603933"
      ]
     },
     "metadata": {},
     "output_type": "display_data"
    }
   ],
   "source": [
    "A = rand(3, 3)\n",
    "b = rand(3)\n",
    "\n",
    "x = A \\ b  # Решает Ax = b"
   ]
  },
  {
   "cell_type": "markdown",
   "metadata": {},
   "source": [
    "📌 **Если матрица невырождена**, Julia использует метод **LU-разложения** для быстрого решения."
   ]
  },
  {
   "cell_type": "markdown",
   "metadata": {},
   "source": [
    "<br>\n",
    "\n",
    "#### **⬜ 2. Переопределенная система (Overdetermined, \"высокая\" матрица)**  \n",
    "\n",
    "Если уравнение имеет **больше уравнений, чем переменных** (**\"высокая\" матрица**), Julia находит **наилучшее среднеквадратичное решение** (метод наименьших квадратов):  \n"
   ]
  },
  {
   "cell_type": "code",
   "execution_count": 32,
   "metadata": {},
   "outputs": [
    {
     "data": {
      "text/plain": [
       "2-element Vector{Float64}:\n",
       "  1.106749415030229\n",
       " -0.279873599951611"
      ]
     },
     "metadata": {},
     "output_type": "display_data"
    }
   ],
   "source": [
    "Atall = rand(3, 2)  # 3 строки, 2 столбца (больше уравнений, чем переменных)\n",
    "b = rand(3)\n",
    "\n",
    "x = Atall \\ b  # Решает Ax = b"
   ]
  },
  {
   "cell_type": "markdown",
   "metadata": {},
   "source": [
    "📌 **Julia автоматически использует метод QR-разложения**."
   ]
  },
  {
   "cell_type": "markdown",
   "metadata": {},
   "source": [
    "<br>\n",
    "\n",
    "#### **⬜ 3. Недоопределенная система (Underdetermined, \"короткая\" матрица)**  \n",
    "\n",
    "Если уравнение имеет **меньше уравнений, чем переменных** (**\"короткая\" матрица**), Julia вычисляет **минимальное нормированное решение**:\n"
   ]
  },
  {
   "cell_type": "code",
   "execution_count": 34,
   "metadata": {},
   "outputs": [
    {
     "data": {
      "text/plain": [
       "3-element Vector{Float64}:\n",
       " 0.4419893495217756\n",
       " 0.4105939591388945\n",
       " 0.6770233980348624"
      ]
     },
     "metadata": {},
     "output_type": "display_data"
    }
   ],
   "source": [
    "Ashort = rand(2, 3)  # 2 строки, 3 столбца (меньше уравнений, чем переменных)\n",
    "bshort = rand(2)\n",
    "\n",
    "x = Ashort \\ bshort  # Решает Ax = b"
   ]
  },
  {
   "cell_type": "markdown",
   "metadata": {},
   "source": [
    "📌 **Julia использует SVD-разложение**, гарантируя **минимальную норму** решения."
   ]
  },
  {
   "cell_type": "markdown",
   "metadata": {},
   "source": [
    "<br>\n",
    "\n",
    "#### **⬜ 4. Неполный ранг (Rank-Deficient System)**  \n",
    "\n",
    "Если \\( A \\) содержит **зависимые столбцы** (линейно зависимые строки), то Julia решает уравнение с **минимальной нормой**:  "
   ]
  },
  {
   "cell_type": "code",
   "execution_count": 35,
   "metadata": {},
   "outputs": [
    {
     "data": {
      "text/plain": [
       "2-element Vector{Float64}:\n",
       " 0.506204980481362\n",
       " 0.5062049804813621"
      ]
     },
     "metadata": {},
     "output_type": "display_data"
    }
   ],
   "source": [
    "v = rand(3)\n",
    "rankdef = hcat(v, v)  # Создаем матрицу с зависимыми столбцами\n",
    "\n",
    "x = rankdef \\ b  # Найдет минимальное нормированное решение"
   ]
  },
  {
   "cell_type": "markdown",
   "metadata": {},
   "source": [
    "📌 **Julia использует псевдообратную матрицу (Moore-Penrose inverse) через SVD.**"
   ]
  },
  {
   "cell_type": "markdown",
   "metadata": {},
   "source": [
    "#### **😺 Важно запомнить:** \n",
    "\n",
    "✅ **`transpose(A)`** – обычное транспонирование.\n",
    "\n",
    "✅ **`A'`** – транспонирование + комплексное сопряжение. \n",
    "\n",
    "✅ **`A'A`** – транспонированное умножение.\n",
    "\n",
    "✅ **`A \\ b`** – оператор решения линейных систем, автоматически выбирает оптимальный метод.  \n",
    "\n",
    "**💡 Julia делает линейную алгебру интуитивной и мощной, автоматизируя сложные вычисления!** 🚀"
   ]
  },
  {
   "cell_type": "markdown",
   "metadata": {},
   "source": [
    "<br>\n",
    "\n",
    "---\n",
    "\n",
    "<br>\n",
    "\n",
    "### **4️⃣  Библиотека `LinearAlgebra` в Julia.**\n",
    "\n",
    "Хотя **основные функции линейной алгебры** доступны в Julia **по умолчанию**, стандартная библиотека **`LinearAlgebra`** предоставляет **дополнительные инструменты** для работы с матрицами и векторами.  \n",
    "\n",
    "📌 **Что добавляет `LinearAlgebra`?**  \n",
    "- **Факторизации** (LU, QR, Cholesky, SVD и др.).  \n",
    "- **Структурированные матрицы** (диагональные, разреженные, симметричные и др.).  \n",
    "- **Вычисления норм, определителей, ранга, следа и др.**  \n",
    "- **Операции с векторами** (скалярное, векторное, смешанное произведение).  \n",
    "\n",
    "📌 **Как подключить библиотеку?**  "
   ]
  },
  {
   "cell_type": "code",
   "execution_count": null,
   "metadata": {},
   "outputs": [],
   "source": [
    "using LinearAlgebra  # Подключаем библиотеку LinearAlgebra"
   ]
  },
  {
   "cell_type": "markdown",
   "metadata": {},
   "source": [
    "После этого **новые функции** становятся доступными в текущем сеансе. "
   ]
  },
  {
   "cell_type": "markdown",
   "metadata": {},
   "source": [
    "<br>\n",
    "\n",
    "### **🔹 Основные возможности `LinearAlgebra`**\n",
    "\n",
    "##### ✅ **1. Нормы и ортогональность**  \n",
    "Функция `norm()` вычисляет **разные нормы** векторов и матриц:  "
   ]
  },
  {
   "cell_type": "code",
   "execution_count": null,
   "metadata": {},
   "outputs": [],
   "source": [
    "using LinearAlgebra\n",
    "\n",
    "x = [3, 4]\n",
    "println(norm(x))       # Евклидова норма (по умолчанию)\n",
    "println(norm(x, 1))    # 1-норма (сумма модулей элементов)\n",
    "println(norm(x, Inf))  # Бесконечная норма (максимальный элемент)"
   ]
  },
  {
   "cell_type": "markdown",
   "metadata": {},
   "source": [
    "##### ✅ **2. Определитель матрицы**  "
   ]
  },
  {
   "cell_type": "code",
   "execution_count": null,
   "metadata": {},
   "outputs": [],
   "source": [
    "A = [1 2; 3 4]\n",
    "det(A)  # -2.0"
   ]
  },
  {
   "cell_type": "markdown",
   "metadata": {},
   "source": [
    "##### ✅ **3. Ранг и след матрицы**  "
   ]
  },
  {
   "cell_type": "code",
   "execution_count": null,
   "metadata": {},
   "outputs": [],
   "source": [
    "rank(A)   # 2 (ранг матрицы)\n",
    "tr(A)     # 5 (след матрицы, сумма диагональных элементов)"
   ]
  },
  {
   "cell_type": "markdown",
   "metadata": {},
   "source": [
    "##### ✅ **4. Факторизации (разложения матриц)**  "
   ]
  },
  {
   "cell_type": "code",
   "execution_count": null,
   "metadata": {},
   "outputs": [],
   "source": [
    "A = [4 3; 6 3]\n",
    "F = lu(A)    # LU-разложение\n",
    "println(F.L) # Нижняя треугольная матрица\n",
    "println(F.U) # Верхняя треугольная матрица"
   ]
  },
  {
   "cell_type": "markdown",
   "metadata": {},
   "source": [
    "Также доступны `qr(A)`, `svd(A)`, `cholesky(A)`, `eigen(A)`."
   ]
  },
  {
   "cell_type": "markdown",
   "metadata": {},
   "source": [
    "##### ✅ **5. Работа с особыми матрицами**  "
   ]
  },
  {
   "cell_type": "code",
   "execution_count": null,
   "metadata": {},
   "outputs": [],
   "source": [
    "D = Diagonal([1, 2, 3])   # Диагональная матрица\n",
    "S = Symmetric(A)          # Симметричная матрица"
   ]
  },
  {
   "cell_type": "markdown",
   "metadata": {},
   "source": [
    "##### **🔹 Подводим итог по `LinearAlgebra`:**\n",
    "\n",
    "✅ **`LinearAlgebra` расширяет стандартные функции Julia для работы с матрицами и векторами**.\n",
    "\n",
    "✅ Включает **факторизации, вычисление норм, работу с особыми матрицами**.  \n",
    "\n",
    "✅ Подключается командой **`using LinearAlgebra`**.  \n",
    "\n",
    "**💡 Важно!** \n",
    "\n",
    "**Если вы работаете с линейной алгеброй в Julia, то этот пакет для вас - незаменимый инструмент!**\n",
    "\n",
    "<br>\n",
    "\n",
    "---\n",
    "\n",
    "<br>"
   ]
  },
  {
   "cell_type": "markdown",
   "metadata": {},
   "source": [
    "### **Упражнения** 🚀 \n",
    "\n",
    "<br>\n",
    "\n",
    "#### ✅ Здание 11.1  \n",
    "\n",
    "Возьмите скалярное произведение (или «скалярное» произведение) вектора `v` на самого себя и присвойте его переменной `dot_v`.\n",
    "\n"
   ]
  },
  {
   "cell_type": "code",
   "execution_count": 14,
   "metadata": {},
   "outputs": [
    {
     "data": {
      "text/plain": [
       "3-element Vector{Int64}:\n",
       " 1\n",
       " 2\n",
       " 3"
      ]
     },
     "execution_count": 14,
     "metadata": {},
     "output_type": "execute_result"
    }
   ],
   "source": [
    "v = [1,2,3]"
   ]
  },
  {
   "cell_type": "code",
   "execution_count": null,
   "metadata": {},
   "outputs": [],
   "source": [
    "# Ваше решение:\n"
   ]
  },
  {
   "cell_type": "code",
   "execution_count": 16,
   "metadata": {
    "deletable": false,
    "editable": false,
    "hide_input": true,
    "nbgrader": {
     "checksum": "b93dad361f66498eb2460d708f674220",
     "grade": true,
     "grade_id": "cell-913fef9b0d19cd52",
     "locked": true,
     "points": 1,
     "schema_version": 1,
     "solution": false
    }
   },
   "outputs": [],
   "source": [
    "@assert dot_v == 14"
   ]
  },
  {
   "cell_type": "markdown",
   "metadata": {},
   "source": [
    "<br>\n",
    "\n",
    "#### ✅ Здание 11.2 \n",
    "\n",
    "Возьмите внешнее произведение вектора v на себя и присвойте его переменной `outer_v`"
   ]
  },
  {
   "cell_type": "code",
   "execution_count": null,
   "metadata": {},
   "outputs": [],
   "source": [
    "# Ваше решение:\n"
   ]
  },
  {
   "cell_type": "code",
   "execution_count": 18,
   "metadata": {},
   "outputs": [],
   "source": [
    "@assert outer_v == [1 2 3\n",
    "                    2 4 6\n",
    "                    3 6 9]"
   ]
  },
  {
   "cell_type": "markdown",
   "metadata": {},
   "source": [
    "<br>\n",
    "\n",
    "#### ✅ Здание 11.3 \n",
    "\n",
    "Используйте [Linear Algebra.cross](https://docs.julialang.org/en/v1/stdlib/LinearAlgebra/#LinearAlgebra.cross), чтобы вычислить взаимное произведение вектора v с самим собой и присвоить его переменной `cross_v`"
   ]
  },
  {
   "cell_type": "code",
   "execution_count": null,
   "metadata": {},
   "outputs": [],
   "source": [
    "# Ваше решение:"
   ]
  },
  {
   "cell_type": "code",
   "execution_count": 21,
   "metadata": {
    "deletable": false,
    "editable": false,
    "hide_input": true,
    "nbgrader": {
     "checksum": "01642581e27c0ac19752cd90d11ac2ae",
     "grade": true,
     "grade_id": "cell-e6b6970ffe104df5",
     "locked": true,
     "points": 1,
     "schema_version": 1,
     "solution": false
    }
   },
   "outputs": [],
   "source": [
    "@assert cross_v == [0, 0, 0]"
   ]
  }
 ],
 "metadata": {
  "kernelspec": {
   "display_name": "Julia 1.11.3",
   "language": "julia",
   "name": "julia-1.11"
  },
  "language": "Julia",
  "language_info": {
   "file_extension": ".jl",
   "mimetype": "application/julia",
   "name": "julia",
   "version": "1.11.3"
  }
 },
 "nbformat": 4,
 "nbformat_minor": 4
}
