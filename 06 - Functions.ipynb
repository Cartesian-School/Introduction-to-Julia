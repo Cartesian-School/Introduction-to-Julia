{
 "cells": [
  {
   "cell_type": "markdown",
   "metadata": {},
   "source": [
    "# **🚀 Функции в Julia. Урок Шестой.**\n",
    "\n",
    "<br>\n",
    "\n",
    "## **📌 Темы:**\n",
    "\n",
    "1. **Как объявить функцию.**\n",
    "   \n",
    "2. **Утиная типизация (Duck-typing) в Julia.**\n",
    "   \n",
    "3. **Изменяющие (Mutating) и неизменяющие (Non-mutating) функции.**\n",
    "   \n",
    "4. **Некоторые функции высшего порядка.**\n",
    "\n",
    "<br>\n",
    "\n",
    "---\n",
    "\n",
    " <br>"
   ]
  },
  {
   "cell_type": "markdown",
   "metadata": {},
   "source": [
    "### **1️⃣ Как объявить функцию**\n",
    "\n",
    "В Julia можно объявлять функции несколькими способами:"
   ]
  },
  {
   "cell_type": "markdown",
   "metadata": {},
   "source": [
    "#### **1.1. Использование ключевого слова `function`**"
   ]
  },
  {
   "cell_type": "code",
   "execution_count": 1,
   "metadata": {},
   "outputs": [
    {
     "data": {
      "text/plain": [
       "add (generic function with 1 method)"
      ]
     },
     "metadata": {},
     "output_type": "display_data"
    }
   ],
   "source": [
    "function add(x, y)\n",
    "    return x + y\n",
    "end"
   ]
  },
  {
   "cell_type": "markdown",
   "metadata": {},
   "source": [
    "**Вызываем функцию:**"
   ]
  },
  {
   "cell_type": "code",
   "execution_count": 7,
   "metadata": {},
   "outputs": [
    {
     "data": {
      "text/plain": [
       "8"
      ]
     },
     "metadata": {},
     "output_type": "display_data"
    }
   ],
   "source": [
    "add(3, 5)  # Вызываем функцию add с аргументами 3 и 5\n",
    "\n",
    "# Вернет 8"
   ]
  },
  {
   "cell_type": "markdown",
   "metadata": {},
   "source": [
    "\n",
    "\n",
    "#### **1.2. Однострочное объявление (синтаксис \"assignment\")**\n",
    "\n",
    "Здесь `return` можно опустить, так как в Julia результатом функции становится последняя вычисленная строка:"
   ]
  },
  {
   "cell_type": "code",
   "execution_count": 3,
   "metadata": {},
   "outputs": [
    {
     "data": {
      "text/plain": [
       "add (generic function with 1 method)"
      ]
     },
     "metadata": {},
     "output_type": "display_data"
    }
   ],
   "source": [
    "add(x, y) = x + y # Тоже самое, что и выше"
   ]
  },
  {
   "cell_type": "code",
   "execution_count": 4,
   "metadata": {},
   "outputs": [
    {
     "data": {
      "text/plain": [
       "8"
      ]
     },
     "metadata": {},
     "output_type": "display_data"
    }
   ],
   "source": [
    "add(3, 5) # Вернет 8"
   ]
  },
  {
   "cell_type": "markdown",
   "metadata": {},
   "source": [
    "\n",
    "\n",
    "#### **1.3. Анонимные функции (Lambda-выражения)**"
   ]
  },
  {
   "cell_type": "code",
   "execution_count": null,
   "metadata": {},
   "outputs": [],
   "source": [
    "square = x -> x^2 # Создаем анонимную функцию, которая возводит число в квадрате\n",
    "square(4)  # Вернет 16"
   ]
  },
  {
   "cell_type": "markdown",
   "metadata": {},
   "source": [
    "<br>\n",
    "\n",
    "---\n",
    "\n",
    "<br>"
   ]
  },
  {
   "cell_type": "markdown",
   "metadata": {},
   "source": [
    "### **2️⃣ Утиная типизация (Duck-typing) в Julia**  \n",
    "<br>\n",
    "\n",
    "#### 📌 Что такое утиная типизация?\n",
    "\n",
    "Утиная типизация (Duck-typing) — это концепция в языках программирования, в которых тип объекта определяется его поведением, а не явным указанием типа.  \n",
    "\n",
    "🦆 Принцип объясняется поговоркой:  \n",
    "> *\"Если что-то выглядит как утка, плавает как утка и крякает как утка, значит, это утка.\"*  \n",
    "\n",
    "В контексте Julia это означает, что если объект поддерживает нужные операции (например, его можно сложить, вызвать метод `push!` и т. д.), то он будет корректно работать в данной функции, независимо от его типа.\n",
    "\n",
    "<br>\n",
    "\n",
    "#### 📌 Почему в Julia используется утиная типизация?\n",
    "\n",
    "- Julia — язык с динамической типизацией по умолчанию. Это значит, что переменные не обязаны иметь строго заданный тип, но могут. \n",
    "- Это делает код более гибким и удобным для использования с различными типами данных.\n",
    "- Улучшает поддержку обобщённого программирования (Generic Programming).\n",
    "  \n",
    "  <br>\n"
   ]
  },
  {
   "cell_type": "markdown",
   "metadata": {},
   "source": [
    "### **📌 Синтаксис утиных типов в Julia**\n",
    "\n",
    "#### **1️. Функции без ограничений типов (чистый Duck-typing)**  \n",
    "В Julia по умолчанию функции принимают параметры любого типа, если они поддерживают нужные операции."
   ]
  },
  {
   "cell_type": "code",
   "execution_count": null,
   "metadata": {},
   "outputs": [],
   "source": [
    "function add(x, y)\n",
    "    return x + y  # Оператор `+` работает с числами, строками, векторами\n",
    "end"
   ]
  },
  {
   "cell_type": "code",
   "execution_count": null,
   "metadata": {},
   "outputs": [],
   "source": [
    "println(add(3, 5))                 # Выведет 8\n",
    "println(add(\"Hello, \", \"World!\"))  # Выведет \"Hello, World!\"\n",
    "println(add([1, 2], [3, 4]))       # Выведет  [1, 2, 3, 4]"
   ]
  },
  {
   "cell_type": "markdown",
   "metadata": {},
   "source": [
    "✅ Функция работает с разными типами (`Int`, `String`, `Vector{Int}`), потому что оператор `+` определён для них.\n",
    "\n",
    "<br>"
   ]
  },
  {
   "cell_type": "markdown",
   "metadata": {},
   "source": [
    "\n",
    "#### **2️. Использование аннотаций типов (Type Annotations)**  \n",
    "\n",
    "Если мы хотим ограничить типы передаваемых значений Аргументов, можно использовать `::Тип`."
   ]
  },
  {
   "cell_type": "code",
   "execution_count": 9,
   "metadata": {},
   "outputs": [
    {
     "name": "stdout",
     "output_type": "stream",
     "text": [
      "5\n",
      "5.6\n",
      "5.1\n"
     ]
    }
   ],
   "source": [
    "function add_numbers(x::Number, y::Number) # Типы аргументов\n",
    "    return x + y # Оператор `+` работает только с числами (Number) в этом случае\n",
    "end\n",
    "\n",
    "println(add_numbers(2, 3))       # Выведет 5\n",
    "println(add_numbers(3.5, 2.1))   # Выведет 5.6\n",
    "println(add_numbers(3, 2.1))     # Выведет 5.1"
   ]
  },
  {
   "cell_type": "markdown",
   "metadata": {},
   "source": [
    "✅ Разрешены любые подтипы `Number` (целые, дробные).  \n",
    "\n",
    "<br>\n",
    "\n",
    "🔴 Но если передадим строки как Аргументы в нашу функцию, то получим ошибку:"
   ]
  },
  {
   "cell_type": "code",
   "execution_count": 10,
   "metadata": {},
   "outputs": [
    {
     "ename": "MethodError",
     "evalue": "MethodError: no method matching add_numbers(::String, ::String)\nThe function `add_numbers` exists, but no method is defined for this combination of argument types.\n\nClosest candidates are:\n  add_numbers(!Matched::Number, !Matched::Number)\n   @ Main c:\\Users\\Siergej Sobolewski\\Kursy Cartesian School\\Julia\\Introduction-to-Julia-main\\Introduction-to-Julia-main\\jl_notebook_cell_df34fa98e69747e1a8f8a730347b8e2f_Y163sZmlsZQ==.jl:1\n",
     "output_type": "error",
     "traceback": [
      "MethodError: no method matching add_numbers(::String, ::String)\n",
      "The function `add_numbers` exists, but no method is defined for this combination of argument types.\n",
      "\n",
      "Closest candidates are:\n",
      "  add_numbers(!Matched::Number, !Matched::Number)\n",
      "   @ Main c:\\Users\\Siergej Sobolewski\\Kursy Cartesian School\\Julia\\Introduction-to-Julia-main\\Introduction-to-Julia-main\\jl_notebook_cell_df34fa98e69747e1a8f8a730347b8e2f_Y163sZmlsZQ==.jl:1\n",
      "\n",
      "\n",
      "Stacktrace:\n",
      " [1] top-level scope\n",
      "   @ c:\\Users\\Siergej Sobolewski\\Kursy Cartesian School\\Julia\\Introduction-to-Julia-main\\Introduction-to-Julia-main\\jl_notebook_cell_df34fa98e69747e1a8f8a730347b8e2f_Y164sZmlsZQ==.jl:1"
     ]
    }
   ],
   "source": [
    "println(add_numbers(\"Hello\", \"World\"))  # Ошибка!"
   ]
  },
  {
   "cell_type": "markdown",
   "metadata": {},
   "source": [
    "**Пример:**\n",
    "\n",
    "Ограничим значения принимаемых аргументов,  только целым типом чисел `::Int`"
   ]
  },
  {
   "cell_type": "code",
   "execution_count": 16,
   "metadata": {},
   "outputs": [
    {
     "data": {
      "text/plain": [
       "add_numbers_Int (generic function with 1 method)"
      ]
     },
     "metadata": {},
     "output_type": "display_data"
    }
   ],
   "source": [
    "function add_numbers_Int(x::Int, y::Int)\n",
    "    return x + y\n",
    "end"
   ]
  },
  {
   "cell_type": "markdown",
   "metadata": {},
   "source": [
    "🔴 Попытка передать `Float64` приведет к ошибке:"
   ]
  },
  {
   "cell_type": "code",
   "execution_count": 17,
   "metadata": {},
   "outputs": [
    {
     "ename": "MethodError",
     "evalue": "MethodError: no method matching add_numbers_Int(::Float64, ::Float64)\nThe function `add_numbers_Int` exists, but no method is defined for this combination of argument types.\n\nClosest candidates are:\n  add_numbers_Int(!Matched::Int64, !Matched::Int64)\n   @ Main c:\\Users\\Siergej Sobolewski\\Kursy Cartesian School\\Julia\\Introduction-to-Julia-main\\Introduction-to-Julia-main\\jl_notebook_cell_df34fa98e69747e1a8f8a730347b8e2f_Y210sZmlsZQ==.jl:1\n",
     "output_type": "error",
     "traceback": [
      "MethodError: no method matching add_numbers_Int(::Float64, ::Float64)\n",
      "The function `add_numbers_Int` exists, but no method is defined for this combination of argument types.\n",
      "\n",
      "Closest candidates are:\n",
      "  add_numbers_Int(!Matched::Int64, !Matched::Int64)\n",
      "   @ Main c:\\Users\\Siergej Sobolewski\\Kursy Cartesian School\\Julia\\Introduction-to-Julia-main\\Introduction-to-Julia-main\\jl_notebook_cell_df34fa98e69747e1a8f8a730347b8e2f_Y210sZmlsZQ==.jl:1\n",
      "\n",
      "\n",
      "Stacktrace:\n",
      " [1] top-level scope\n",
      "   @ c:\\Users\\Siergej Sobolewski\\Kursy Cartesian School\\Julia\\Introduction-to-Julia-main\\Introduction-to-Julia-main\\jl_notebook_cell_df34fa98e69747e1a8f8a730347b8e2f_Y213sZmlsZQ==.jl:1"
     ]
    }
   ],
   "source": [
    "add_numbers_Int(3.5, 2.1)  # Ошибка!"
   ]
  },
  {
   "cell_type": "markdown",
   "metadata": {},
   "source": [
    "✅ **Но можно разрешить несколько типов:**"
   ]
  },
  {
   "cell_type": "code",
   "execution_count": 24,
   "metadata": {},
   "outputs": [
    {
     "data": {
      "text/plain": [
       "add_numbers_mix (generic function with 3 methods)"
      ]
     },
     "metadata": {},
     "output_type": "display_data"
    }
   ],
   "source": [
    "function add_numbers_mix(x::Int64, y::Float64)\n",
    "    return x + y\n",
    "end"
   ]
  },
  {
   "cell_type": "code",
   "execution_count": 25,
   "metadata": {},
   "outputs": [
    {
     "data": {
      "text/plain": [
       "9.120000000000001"
      ]
     },
     "metadata": {},
     "output_type": "display_data"
    }
   ],
   "source": [
    "add_numbers_mix(7, 2.12)"
   ]
  },
  {
   "cell_type": "markdown",
   "metadata": {},
   "source": [
    "<br>\n",
    "\n",
    "💡💡💡 **ВНИМАНИЕ !**\n",
    "\n",
    "**В Julia нет автоматического преобразования типов в сигнатуре функции**\n",
    "\n",
    "Это означает, что Julia не будет автоматически приводить `Int64` к `Int32`, если в сигнатуре указано `Int32`\n",
    "\n",
    "**Пример:**"
   ]
  },
  {
   "cell_type": "code",
   "execution_count": 29,
   "metadata": {},
   "outputs": [
    {
     "data": {
      "text/plain": [
       "add_numbers_mix2 (generic function with 1 method)"
      ]
     },
     "metadata": {},
     "output_type": "display_data"
    }
   ],
   "source": [
    "function add_numbers_mix2(x::Int32, y::Float64)\n",
    "    return x + y\n",
    "end"
   ]
  },
  {
   "cell_type": "code",
   "execution_count": null,
   "metadata": {},
   "outputs": [
    {
     "ename": "MethodError",
     "evalue": "MethodError: no method matching add_numbers_mix2(::Int64, ::Float64)\nThe function `add_numbers_mix2` exists, but no method is defined for this combination of argument types.\n\nClosest candidates are:\n  add_numbers_mix2(!Matched::Int32, ::Float64)\n   @ Main c:\\Users\\Siergej Sobolewski\\Kursy Cartesian School\\Julia\\Introduction-to-Julia-main\\Introduction-to-Julia-main\\jl_notebook_cell_df34fa98e69747e1a8f8a730347b8e2f_Y222sZmlsZQ==.jl:1\n",
     "output_type": "error",
     "traceback": [
      "MethodError: no method matching add_numbers_mix2(::Int64, ::Float64)\n",
      "The function `add_numbers_mix2` exists, but no method is defined for this combination of argument types.\n",
      "\n",
      "Closest candidates are:\n",
      "  add_numbers_mix2(!Matched::Int32, ::Float64)\n",
      "   @ Main c:\\Users\\Siergej Sobolewski\\Kursy Cartesian School\\Julia\\Introduction-to-Julia-main\\Introduction-to-Julia-main\\jl_notebook_cell_df34fa98e69747e1a8f8a730347b8e2f_Y222sZmlsZQ==.jl:1\n",
      "\n",
      "\n",
      "Stacktrace:\n",
      " [1] top-level scope\n",
      "   @ c:\\Users\\Siergej Sobolewski\\Kursy Cartesian School\\Julia\\Introduction-to-Julia-main\\Introduction-to-Julia-main\\jl_notebook_cell_df34fa98e69747e1a8f8a730347b8e2f_Y223sZmlsZQ==.jl:1"
     ]
    }
   ],
   "source": [
    "add_numbers_mix2(7, 2.12) # Ошибка! "
   ]
  },
  {
   "cell_type": "markdown",
   "metadata": {},
   "source": [
    "<br>\n",
    "\n",
    "**📌 Как же это мы можем это исправить?**"
   ]
  },
  {
   "cell_type": "markdown",
   "metadata": {},
   "source": [
    "Если мы не хотим ослабить ограничения типов, что означало бы позволение использовать любые числа, указав `::Number` вместо `::Int32`, и хотим, чтобы аргументы были именно `Int32`, то необходимо явно приводить `7` к `Int32` при вызове функции `add_numbers_mix2()`:"
   ]
  },
  {
   "cell_type": "code",
   "execution_count": 32,
   "metadata": {},
   "outputs": [
    {
     "data": {
      "text/plain": [
       "9.120000000000001"
      ]
     },
     "metadata": {},
     "output_type": "display_data"
    }
   ],
   "source": [
    "add_numbers_mix2(Int32(7), 2.12) # Вернет 9.12"
   ]
  },
  {
   "cell_type": "markdown",
   "metadata": {},
   "source": [
    "##### **😺 Выводы:**\n",
    "\n",
    "- Ошибка происходит, потому что `7` — это `Int64`, а не `Int32`, и Julia не делает автоматическое приведение типов в сигнатуре функции.\n",
    "   \n",
    "- Можно ослабить ограничения типов (`Number`), явно приводить аргументы (`Int32(7)`) или использовать `where` (этот способ рассмотрен в этом уроке ниже).\n",
    "   \n",
    "- В Julia функции **не перегружаются автоматически для совместимых типов** — необходимо либо указывать универсальные типы, либо явно приводить их. "
   ]
  },
  {
   "cell_type": "markdown",
   "metadata": {},
   "source": [
    "**💡 В Julia можно явно ограничивать типы, но часто это не требуется из-за утиных типов.**\n",
    "\n",
    "<br>"
   ]
  },
  {
   "cell_type": "markdown",
   "metadata": {},
   "source": [
    "\n",
    "\n",
    "#### **3. Полиморфизм с `Any`**  \n",
    "Если хотим разрешить *любой* тип данных, можно использовать `::Any`.\n"
   ]
  },
  {
   "cell_type": "code",
   "execution_count": null,
   "metadata": {},
   "outputs": [
    {
     "name": "stdout",
     "output_type": "stream",
     "text": [
      "Type of x: Int64\n",
      "Type of x: String\n",
      "Type of x: Vector{Int64}\n"
     ]
    }
   ],
   "source": [
    "function print_type(x::Any)\n",
    "    println(\"Type of x: \", typeof(x)) # typeof(x) возвращает тип переменной x\n",
    "end\n",
    "\n",
    "print_type(42)          # Type of x: Int64\n",
    "print_type(\"Julia\")     # Type of x: String\n",
    "print_type([1, 2, 3])   # Type of x: Vector{Int64}"
   ]
  },
  {
   "cell_type": "markdown",
   "metadata": {},
   "source": [
    "✅ `Any` позволяет передавать абсолютно любой объект."
   ]
  },
  {
   "cell_type": "markdown",
   "metadata": {},
   "source": [
    "<br>\n",
    "\n",
    "#### **4. Использование `where` (рус.\"Где\") для параметрического полиморфизма**  \n",
    "\n",
    "Можно объявлять функции, принимающие параметры определённых семейств типов.\n"
   ]
  },
  {
   "cell_type": "code",
   "execution_count": 13,
   "metadata": {},
   "outputs": [
    {
     "name": "stdout",
     "output_type": "stream",
     "text": [
      "8\n",
      "5.0\n"
     ]
    },
    {
     "ename": "MethodError",
     "evalue": "MethodError: no method matching multiply_by_two(::String)\nThe function `multiply_by_two` exists, but no method is defined for this combination of argument types.\n\nClosest candidates are:\n  multiply_by_two(!Matched::T) where T<:Number\n   @ Main c:\\Users\\Siergej Sobolewski\\Kursy Cartesian School\\Julia\\Introduction-to-Julia-main\\Introduction-to-Julia-main\\jl_notebook_cell_df34fa98e69747e1a8f8a730347b8e2f_Y204sZmlsZQ==.jl:1\n",
     "output_type": "error",
     "traceback": [
      "MethodError: no method matching multiply_by_two(::String)\n",
      "The function `multiply_by_two` exists, but no method is defined for this combination of argument types.\n",
      "\n",
      "Closest candidates are:\n",
      "  multiply_by_two(!Matched::T) where T<:Number\n",
      "   @ Main c:\\Users\\Siergej Sobolewski\\Kursy Cartesian School\\Julia\\Introduction-to-Julia-main\\Introduction-to-Julia-main\\jl_notebook_cell_df34fa98e69747e1a8f8a730347b8e2f_Y204sZmlsZQ==.jl:1\n",
      "\n",
      "\n",
      "Stacktrace:\n",
      " [1] top-level scope\n",
      "   @ c:\\Users\\Siergej Sobolewski\\Kursy Cartesian School\\Julia\\Introduction-to-Julia-main\\Introduction-to-Julia-main\\jl_notebook_cell_df34fa98e69747e1a8f8a730347b8e2f_Y204sZmlsZQ==.jl:8"
     ]
    }
   ],
   "source": [
    "function multiply_by_two(x::T) where T <: Number # Где T - это подтип Number\n",
    "    return x * 2\n",
    "end\n",
    "\n",
    "println(multiply_by_two(4))    # 8\n",
    "println(multiply_by_two(2.5))  # 5.0\n",
    "\n",
    "println(multiply_by_two(\"Hi Boy!\")) # Ошибка, строка не является Number"
   ]
  },
  {
   "cell_type": "markdown",
   "metadata": {},
   "source": [
    "✅ `T <: Number` означает, что `T` должен быть числом.\n",
    "\n",
    "\n",
    "<br>\n",
    "\n",
    "---\n",
    "\n",
    "<br>"
   ]
  },
  {
   "cell_type": "markdown",
   "metadata": {},
   "source": []
  },
  {
   "cell_type": "markdown",
   "metadata": {},
   "source": [
    "### **3️⃣ Изменяющие (Mutating) и неизменяющие (Non-mutating) функции**\n",
    "\n",
    "В Julia принято соглашение:  \n",
    "\n",
    "- **Неизменяющие функции** - это функции, которые ***не изменяют*** переданные им аргументы и обычно записываются без `!` в названии.\n",
    "  \n",
    "- **Изменяющие функции** - это функции, которые ***изменяют*** переданный им объект и обычно обозначаются `!` в конце имени.\n",
    "\n",
    "<br>\n"
   ]
  },
  {
   "cell_type": "markdown",
   "metadata": {},
   "source": [
    "##### **1️. Неизменяющая функция `имя()`(создает новый массив):**"
   ]
  },
  {
   "cell_type": "code",
   "execution_count": null,
   "metadata": {},
   "outputs": [],
   "source": [
    "function double_values(arr)\n",
    "    return arr .* 2\n",
    "end\n",
    "\n",
    "a = [1, 2, 3]\n",
    "b = double_values(a)\n",
    "println(a)  # [1, 2, 3] (исходный массив не изменился)\n",
    "println(b)  # [2, 4, 6] (новый массив)"
   ]
  },
  {
   "cell_type": "markdown",
   "metadata": {},
   "source": [
    "##### **2. Изменяющая функция `имя!()` (модифицирует объект на месте  и обычно обозначаются `!` в конце имени):**"
   ]
  },
  {
   "cell_type": "code",
   "execution_count": null,
   "metadata": {},
   "outputs": [],
   "source": [
    "function double_values!(arr)\n",
    "    for i in eachindex(arr)\n",
    "        arr[i] *= 2\n",
    "    end\n",
    "end\n",
    "\n",
    "a = [1, 2, 3]\n",
    "double_values!(a)\n",
    "println(a)  # [2, 4, 6] (исходный массив изменился)"
   ]
  },
  {
   "cell_type": "markdown",
   "metadata": {},
   "source": [
    "\n",
    "✅ Изменяющие функции полезны для работы с большими массивами, так как они избегают создания новых копий данных.\n",
    "\n",
    "<br>\n",
    "\n",
    "---\n",
    "\n",
    "<br>"
   ]
  },
  {
   "cell_type": "markdown",
   "metadata": {},
   "source": [
    "### **4️⃣ Функции высшего порядка (Higher Order Functions)**\n",
    "\n",
    "Функции высшего порядка принимают другие функции в качестве аргументов или возвращают их."
   ]
  },
  {
   "cell_type": "markdown",
   "metadata": {},
   "source": [
    "#### **1. Функция `map`.**\n",
    "\n",
    "Применяет функцию к каждому элементу коллекции:"
   ]
  },
  {
   "cell_type": "code",
   "execution_count": null,
   "metadata": {},
   "outputs": [],
   "source": [
    "squares = map(x -> x^2, [1, 2, 3, 4])\n",
    "println(squares)  # [1, 4, 9, 16]"
   ]
  },
  {
   "cell_type": "markdown",
   "metadata": {},
   "source": [
    "#### **2. Функция `filter`.**\n",
    "\n",
    "Фильтрует элементы, оставляя только те, для которых функция возвращает `true`:"
   ]
  },
  {
   "cell_type": "code",
   "execution_count": null,
   "metadata": {},
   "outputs": [],
   "source": [
    "evens = filter(x -> x % 2 == 0, [1, 2, 3, 4, 5])\n",
    "println(evens)  # [2, 4]"
   ]
  },
  {
   "cell_type": "markdown",
   "metadata": {},
   "source": [
    "### **3. Функция `reduce`.**\n",
    "\n",
    "Сворачивает коллекцию с использованием бинарной функции:"
   ]
  },
  {
   "cell_type": "code",
   "execution_count": null,
   "metadata": {},
   "outputs": [],
   "source": [
    "sum_all = reduce(+, [1, 2, 3, 4, 5])\n",
    "println(sum_all)  # 15"
   ]
  },
  {
   "cell_type": "markdown",
   "metadata": {},
   "source": [
    "### **4. Функции как аргументы.**\n",
    "\n"
   ]
  },
  {
   "cell_type": "code",
   "execution_count": null,
   "metadata": {},
   "outputs": [],
   "source": [
    "function apply_twice(f, x)\n",
    "    return f(f(x))\n",
    "end\n",
    "\n",
    "println(apply_twice(x -> x + 1, 5))  # 7\n"
   ]
  },
  {
   "cell_type": "markdown",
   "metadata": {},
   "source": [
    "<br>\n",
    "\n",
    "#### **😺 Выводы:**\n",
    "\n",
    "- В Julia можно объявлять функции разными способами.\n",
    "  \n",
    "- Поддерживается утиная типизация, но можно явно указывать типы.\n",
    "  \n",
    "- Изменяющие функции помечаются `!`, неизменяющие — нет.\n",
    "  \n",
    "- Функции высшего порядка позволяют передавать другие функции как аргументы.\n",
    "  \n",
    "  <br>\n",
    "\n",
    "**Это делает Julia мощным инструментом для функционального программирования и численных вычислений. 🚀**\n",
    "\n",
    "<br>"
   ]
  },
  {
   "cell_type": "markdown",
   "metadata": {},
   "source": [
    "---\n",
    "\n",
    "\n",
    "<br>\n"
   ]
  },
  {
   "cell_type": "markdown",
   "metadata": {},
   "source": [
    "## 🔹 **Упражнения:**\n",
    "\n",
    "#### ✅ Задание 5.1\n",
    "\n",
    "Напишите свою функцию `add_one`, которая добавляет 1 к своим входным данным."
   ]
  },
  {
   "cell_type": "code",
   "execution_count": null,
   "metadata": {},
   "outputs": [],
   "source": [
    "# Ваше решение:\n",
    "\n"
   ]
  },
  {
   "cell_type": "code",
   "execution_count": null,
   "metadata": {
    "deletable": false,
    "editable": false,
    "hide_input": true,
    "nbgrader": {
     "checksum": "253b17dc2f3d3a58042fbc36042a0fd5",
     "grade": true,
     "grade_id": "cell-5119b9e9623c1cb7",
     "locked": true,
     "points": 1,
     "schema_version": 1,
     "solution": false
    }
   },
   "outputs": [],
   "source": [
    "@assert add_one(1) == 2 # Проверка на равенство"
   ]
  },
  {
   "cell_type": "code",
   "execution_count": null,
   "metadata": {
    "deletable": false,
    "editable": false,
    "hide_input": true,
    "nbgrader": {
     "checksum": "4e05440e19cd3606df11186d41d562bf",
     "grade": true,
     "grade_id": "cell-50f83d27187a2064",
     "locked": true,
     "points": 1,
     "schema_version": 1,
     "solution": false
    }
   },
   "outputs": [],
   "source": [
    "@assert add_one(11) == 12 # Проверка на равенство"
   ]
  },
  {
   "cell_type": "markdown",
   "metadata": {},
   "source": [
    "**Пример (правильного решения):**"
   ]
  },
  {
   "cell_type": "code",
   "execution_count": 35,
   "metadata": {},
   "outputs": [
    {
     "name": "stdout",
     "output_type": "stream",
     "text": [
      "All tests passed!\n"
     ]
    }
   ],
   "source": [
    "function add_one(x)\n",
    "    return x + 1\n",
    "end\n",
    "\n",
    "# Проверки\n",
    "@assert add_one(1) == 2  # Проверка на равенство\n",
    "@assert add_one(11) == 12 # Проверка на равенство\n",
    "\n",
    "println(\"All tests passed!\")  # Если нет ошибок, значит, тесты пройдены\n"
   ]
  },
  {
   "cell_type": "markdown",
   "metadata": {},
   "source": [
    "<br>\n",
    "\n",
    "#### ✅ Задание 5.2 \n",
    "\n",
    "Используйте `map` или `broadcast`, чтобы увеличить каждый элемент матрицы `A` на `1` и присвоить его переменной `A1`."
   ]
  },
  {
   "cell_type": "code",
   "execution_count": null,
   "metadata": {},
   "outputs": [],
   "source": [
    "# Ваше решение:\n",
    "\n"
   ]
  },
  {
   "cell_type": "code",
   "execution_count": null,
   "metadata": {},
   "outputs": [],
   "source": [
    "@assert A1 == [2 3 4; 5 6 7; 8 9 10] # Проверка на равенство"
   ]
  },
  {
   "cell_type": "markdown",
   "metadata": {},
   "source": [
    "**Примеры (правильного решения):**\n",
    "\n",
    "1. Вот реализация в Julia, используя `broadcast` и  `.` -  точечный оператор:"
   ]
  },
  {
   "cell_type": "code",
   "execution_count": 36,
   "metadata": {},
   "outputs": [
    {
     "name": "stdout",
     "output_type": "stream",
     "text": [
      "All tests passed!\n"
     ]
    }
   ],
   "source": [
    "# Создадим матрицу A\n",
    "A = [1 2 3; 4 5 6; 7 8 9]\n",
    "\n",
    "# Вариант 1: Использование broadcast (.) \n",
    "A1 = A .+ 1  # Каждый элемент матрицы A увеличивается на 1\n",
    "\n",
    "# Проверка условия\n",
    "@assert A1 == [2 3 4; 5 6 7; 8 9 10]\n",
    "\n",
    "println(\"All tests passed!\")  # Если ошибок нет, значит, всё работает"
   ]
  },
  {
   "cell_type": "markdown",
   "metadata": {},
   "source": [
    "📌 Разбор этого кода:\n",
    "\n",
    "  Использование `broadcast (A .+ 1)`\n",
    "\n",
    "   -  Оператор `.+` добавляет `1` ко всем элементам матрицы `A`.\n",
    "  \n",
    "   - `broadcast` позволяет применять операции поэлементно, работая с массивами любого размера."
   ]
  },
  {
   "cell_type": "markdown",
   "metadata": {},
   "source": [
    "2. Альтернативный вариант это использование `map`:"
   ]
  },
  {
   "cell_type": "code",
   "execution_count": 37,
   "metadata": {},
   "outputs": [
    {
     "name": "stdout",
     "output_type": "stream",
     "text": [
      "All tests passed!\n"
     ]
    }
   ],
   "source": [
    "A1 = map(x -> x + 1, A)  # Применяем функцию ко всем элементам\n",
    "\n",
    "@assert A1 == [2 3 4; 5 6 7; 8 9 10]\n",
    "println(\"All tests passed!\")"
   ]
  },
  {
   "cell_type": "markdown",
   "metadata": {},
   "source": [
    "📌 Разбор этого кода\n",
    "\n",
    "Использование `map` - `(map(x -> x + 1, A))`\n",
    "\n",
    "- map применяет анонимную функцию `x -> x + 1` ко всем элементам матрицы `A`.\n",
    "\n",
    "- Возвращает новый массив с результатами.\n",
    "\n",
    "<br>\n"
   ]
  },
  {
   "cell_type": "markdown",
   "metadata": {},
   "source": [
    "#### ✅ Задание 5.3 \n",
    "\n",
    "Используйте точечный синтаксис `broadcast` для увеличения каждого элемента матрицы `A1` на 1 и сохраните результат в переменной `A2`.\n",
    "\n",
    "Затем убедитесь, что `A2 == [3 4 5; 6 7 8; 9 10 11]` с помощью `@assert`."
   ]
  },
  {
   "cell_type": "markdown",
   "metadata": {},
   "source": [
    "Ваше решение:"
   ]
  },
  {
   "cell_type": "code",
   "execution_count": null,
   "metadata": {
    "deletable": false,
    "editable": false,
    "hide_input": true,
    "nbgrader": {
     "checksum": "3e3d797962df904deed0e7ee7782b69a",
     "grade": true,
     "grade_id": "cell-f3bd5479679a8fe1",
     "locked": true,
     "points": 0,
     "schema_version": 1,
     "solution": false
    }
   },
   "outputs": [],
   "source": [
    "# Ваше решение:\n",
    "\n"
   ]
  },
  {
   "cell_type": "markdown",
   "metadata": {},
   "source": [
    "**Пример (правильного решения):**"
   ]
  },
  {
   "cell_type": "code",
   "execution_count": 38,
   "metadata": {},
   "outputs": [
    {
     "name": "stdout",
     "output_type": "stream",
     "text": [
      "All tests passed!\n"
     ]
    }
   ],
   "source": [
    "# Исходная матрица A1\n",
    "A1 = [2 3 4; 5 6 7; 8 9 10]\n",
    "\n",
    "# Используем broadcast (точечный оператор .+) для увеличения каждого элемента на 1\n",
    "A2 = A1 .+ 1\n",
    "\n",
    "# Проверка условия\n",
    "@assert A2 == [3 4 5; 6 7 8; 9 10 11]\n",
    "\n",
    "println(\"All tests passed!\")  # Если ошибок нет, значит всё работает правильно"
   ]
  },
  {
   "cell_type": "markdown",
   "metadata": {},
   "source": [
    "✅ Решение использует эффективный и idiomatic (естественный для Julia) способ обработки массивов. 🚀"
   ]
  }
 ],
 "metadata": {
  "kernelspec": {
   "display_name": "Julia 1.11.3",
   "language": "julia",
   "name": "julia-1.11"
  },
  "language_info": {
   "file_extension": ".jl",
   "mimetype": "application/julia",
   "name": "julia",
   "version": "1.11.3"
  }
 },
 "nbformat": 4,
 "nbformat_minor": 4
}
