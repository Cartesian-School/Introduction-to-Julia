{
 "cells": [
  {
   "cell_type": "markdown",
   "metadata": {},
   "source": [
    "#  \n",
    "# **🚀 Циклы (Loops) в Julia. Урок Четвёртый.**\n",
    "\n",
    "<br>\n",
    "\n",
    "## **📌 Темы:**\n",
    "\n",
    "1. **Циклы `while`**  \n",
    "   \n",
    "2. **Циклы `for`** \n",
    "\n",
    "<br>\n",
    "\n",
    "---\n",
    "\n",
    "<br>\n",
    "\n",
    "\n",
    "### **1️⃣ Цикл `while` .**  \n",
    "<br>\n",
    "\n",
    "Синтаксис цикла `while` в Julia:  \n",
    "\n",
    "```julia\n",
    "while *условие*\n",
    "    *тело цикла*\n",
    "end\n",
    "```\n",
    "<br>\n",
    "\n",
    "Например, с помощью `while` можно выполнять **подсчёт** или **перебирать элементы массива**."
   ]
  },
  {
   "cell_type": "code",
   "execution_count": null,
   "metadata": {},
   "outputs": [],
   "source": [
    "n = 0  # Инициализация переменной n\n",
    "\n",
    "while n < 10  # Пока n меньше 10, выполняем цикл\n",
    "    n += 1    # Увеличиваем n на 1 (n = n + 1)\n",
    "    println(n)  # Выводим текущее значение n\n",
    "\n",
    "end\n",
    "\n",
    "n  # После завершения цикла значение n"
   ]
  },
  {
   "cell_type": "markdown",
   "metadata": {},
   "source": [
    "**🔍 Разбор нашего кода:**\n",
    "\n",
    "1. **Инициализация:** `n = 0`\n",
    "2. **Условие `while n < 10`** проверяет, меньше ли `n` 10.\n",
    "3. **Каждая итерация:**\n",
    "   - `n += 1` (увеличиваем `n` на 1)\n",
    "   - `println(n)` (выводим `n`)\n",
    "4. **Когда `n == 10`, условие становится `false`, и цикл завершается**.\n",
    "5. **После цикла `n` сохраняет последнее значение, то есть `10`**.\n",
    "\n",
    " ✅ **Вывод программы:**\n",
    "```\n",
    "1\n",
    "2\n",
    "3\n",
    "4\n",
    "5\n",
    "6\n",
    "7\n",
    "8\n",
    "9\n",
    "10\n",
    "```\n",
    "А если после цикла выполнить просто `n`, то Julia вернёт:\n",
    "```\n",
    "10\n",
    "```\n",
    "Так как `n` после завершения цикла равно `10`.\n",
    "\n",
    "\n",
    "\n",
    "##### 🔥 **Что же делает этот цикл?**\n",
    "- Это **обычный счётчик** (`counter loop`), который **увеличивает `n` от 1 до 10**.\n",
    "- Используется **цикл `while`**, потому что **количество итераций заранее не фиксировано**, а зависит от условия `n < 10`.\n",
    "\n",
    "Этот цикл **эквивалентен** следующему коду с `for` сравним их:\n",
    "```julia\n",
    "n = 0\n",
    "while n < 10\n",
    "    n += 1\n",
    "    println(n)\n",
    "end\n",
    "```\n",
    "и\n",
    "```julia\n",
    "for n in 1:10\n",
    "    println(n)\n",
    "end\n",
    "```\n",
    "📌 **Вывод тот же, но `for` короче и удобнее для заданного диапазона.**\n",
    "\n"
   ]
  },
  {
   "cell_type": "code",
   "execution_count": null,
   "metadata": {},
   "outputs": [],
   "source": [
    "# Пример 2: Цикл while с массивом\n",
    "\n",
    "\n",
    "myfriends = [\"Ted\", \"Robyn\", \"Barney\", \"Lily\", \"Marshall\"] # Создаем массив друзей\n",
    "\n",
    "i = 1 # Инициализация переменной i\n",
    "while i <= length(myfriends) # Пока i меньше или равно количеству элементов в массиве myfriends\n",
    "    friend = myfriends[i] # Присваиваем переменной friend i-й элемент массива myfriends\n",
    "    println(\"Hi $friend, it's great to see you!\") # Выводим приветствие другу\n",
    "    i += 1 # Увеличиваем i на 1\n",
    "end # Конец цикла"
   ]
  },
  {
   "cell_type": "markdown",
   "metadata": {},
   "source": [
    "<br>\n",
    "\n",
    "---\n",
    "\n",
    "<br>\n",
    "\n",
    "### **2️⃣ Цикл `for` .**\n",
    "\n",
    "Синтаксис для цикла `for`:\n",
    "\n",
    "```julia\n",
    "for *var* in *loop iterable*\n",
    "*loop body*\n",
    "end\n",
    "```\n",
    "Как было отмечено ранее, что в цикле `for` вывод тот же, но применение `for` предпочтительнее из-зи того , что он короче и удобнее для заданного диапазона.\n",
    "Мы могли бы использовать цикл `for` для получения тех же результатов, что и в любом из приведенных выше примеров:"
   ]
  },
  {
   "cell_type": "code",
   "execution_count": null,
   "metadata": {},
   "outputs": [],
   "source": [
    "# Пример 1:\n",
    "\n",
    "for n in 1:10 # Цикл от 1 до 10\n",
    "    println(n) # Выводим текущее значение n\n",
    "end # Конец цикла"
   ]
  },
  {
   "cell_type": "code",
   "execution_count": null,
   "metadata": {},
   "outputs": [],
   "source": [
    "# Пример 2: \n",
    "\n",
    "myfriends = [\"Ted\", \"Robyn\", \"Barney\", \"Lily\", \"Marshall\"] # Создаем массив\n",
    "\n",
    "for friend in myfriends # Для каждого элемента массива\n",
    "    println(\"Hi $friend, it's great to see you!\") # Выводим сообщение\n",
    "end # Конец цикла"
   ]
  },
  {
   "cell_type": "markdown",
   "metadata": {},
   "source": [
    "\n",
    "<br>"
   ]
  },
  {
   "cell_type": "markdown",
   "metadata": {},
   "source": [
    "#### 🔹 **Циклы `for` и многомерные массивы**"
   ]
  },
  {
   "cell_type": "markdown",
   "metadata": {},
   "source": [
    "Теперь давайте используем циклы `for`, чтобы создать **таблицы сложения**, где значение каждой ячейки является суммой индексов строки и столбца.  \n",
    "\n",
    "Обратите внимание, что мы выполняем обход массива **по столбцам (column-major order)**, чтобы достичь **максимальной производительности**.  \n",
    "Подробнее о **быстром доступе к многомерным массивам** внутри вложенных циклов можно узнать здесь:  \n",
    "🔗 [Документация Julia: Оптимизация работы с массивами](https://docs.julialang.org/en/v1/manual/performance-tips/#Access-arrays-in-memory-order,-along-columns-1)  \n",
    "\n",
    "<br>\n",
    "\n",
    "📌 **Для начала инициализируем наш массив нулями:**"
   ]
  },
  {
   "cell_type": "code",
   "execution_count": 1,
   "metadata": {},
   "outputs": [
    {
     "data": {
      "text/plain": [
       "5×5 Matrix{Int64}:\n",
       " 0  0  0  0  0\n",
       " 0  0  0  0  0\n",
       " 0  0  0  0  0\n",
       " 0  0  0  0  0\n",
       " 0  0  0  0  0"
      ]
     },
     "metadata": {},
     "output_type": "display_data"
    }
   ],
   "source": [
    "m, n = 5, 5 # Размеры матрицы\n",
    "A = fill(0, (m, n)) # Создаем матрицу размером m x n, заполненную нулями"
   ]
  },
  {
   "cell_type": "code",
   "execution_count": 2,
   "metadata": {},
   "outputs": [
    {
     "data": {
      "text/plain": [
       "5×5 Matrix{Int64}:\n",
       " 2  3  4  5   6\n",
       " 3  4  5  6   7\n",
       " 4  5  6  7   8\n",
       " 5  6  7  8   9\n",
       " 6  7  8  9  10"
      ]
     },
     "metadata": {},
     "output_type": "display_data"
    }
   ],
   "source": [
    "for j in 1:n # Для каждого столбца j от 1 до n\n",
    "    for i in 1:m # Для каждой строки i от 1 до m\n",
    "        A[i, j] = i + j # Присваиваем элементу A[i, j] сумму i и j\n",
    "    end\n",
    "end\n",
    "A # Выводим матрицу A"
   ]
  },
  {
   "cell_type": "markdown",
   "metadata": {},
   "source": [
    "📌 **Добавляем *синтаксический сахар* для того же вложенного цикла `for`**"
   ]
  },
  {
   "cell_type": "code",
   "execution_count": 3,
   "metadata": {},
   "outputs": [
    {
     "data": {
      "text/plain": [
       "5×5 Matrix{Int64}:\n",
       " 0  0  0  0  0\n",
       " 0  0  0  0  0\n",
       " 0  0  0  0  0\n",
       " 0  0  0  0  0\n",
       " 0  0  0  0  0"
      ]
     },
     "metadata": {},
     "output_type": "display_data"
    }
   ],
   "source": [
    "B = fill(0, (m, n))"
   ]
  },
  {
   "cell_type": "code",
   "execution_count": 4,
   "metadata": {},
   "outputs": [
    {
     "data": {
      "text/plain": [
       "5×5 Matrix{Int64}:\n",
       " 2  3  4  5   6\n",
       " 3  4  5  6   7\n",
       " 4  5  6  7   8\n",
       " 5  6  7  8   9\n",
       " 6  7  8  9  10"
      ]
     },
     "metadata": {},
     "output_type": "display_data"
    }
   ],
   "source": [
    "for j in 1:n, i in 1:m\n",
    "    B[i, j] = i + j\n",
    "end\n",
    "B"
   ]
  },
  {
   "cell_type": "markdown",
   "metadata": {},
   "source": [
    "📌 **Более идоматичным - «джулийский» способом создания этой таблицы сложения в Julia было бы использование генератора массива (array comprehension):**"
   ]
  },
  {
   "cell_type": "code",
   "execution_count": 5,
   "metadata": {},
   "outputs": [
    {
     "data": {
      "text/plain": [
       "5×5 Matrix{Int64}:\n",
       " 2  3  4  5   6\n",
       " 3  4  5  6   7\n",
       " 4  5  6  7   8\n",
       " 5  6  7  8   9\n",
       " 6  7  8  9  10"
      ]
     },
     "metadata": {},
     "output_type": "display_data"
    }
   ],
   "source": [
    "C = [i + j for i in 1:m, j in 1:n]"
   ]
  },
  {
   "cell_type": "markdown",
   "metadata": {},
   "source": [
    "##### **Разбор кода:**  \n",
    "\n",
    "Этот код **создаёт двумерный массив размером `m × n`**, где **каждый элемент** определяется выражением `i + j`.  \n",
    "\n",
    "- `i in 1:m` — перебирает строки от `1` до `m`.  \n",
    "- `j in 1:n` — перебирает столбцы от `1` до `n`.  \n",
    "- `[i + j for i in 1:m, j in 1:n]` — создаёт **матрицу**, в которой значение в позиции `(i, j)` равно `i + j`.  \n",
    "\n",
    "##### **Пример работы:**\n",
    "Если `m = 3`, `n = 4`, то:\n",
    "```julia\n",
    "C = [i + j for i in 1:3, j in 1:4]\n",
    "```\n",
    "Выведет:\n",
    "```\n",
    "3  4  5  6\n",
    "4  5  6  7\n",
    "5  6  7  8\n",
    "```\n",
    "Каждый элемент равен **сумме индексов строки и столбца**.\n",
    "\n",
    "\n",
    "##### 📌 **Преимущества этого метода:**\n",
    "\n",
    "✅ **Краткость** — запись компактная и читаемая. \n",
    "\n",
    "✅ **Эффективность** — Julia оптимизирует генераторы массивов, делая их быстрее, чем аналогичные циклы.\n",
    "\n",
    "✅ **Простота масштабирования** — легко изменять размеры матрицы, просто задавая `m` и `n`.  \n",
    "\n",
    "Этот вариант работает так же, как и предыдущие  но **короче в записи** и **более удобен**.\n",
    "\n",
    "💡 Использование **генераторов массивов** — **рекомендуемый способ** для создания таких структур в Julia. 🚀"
   ]
  },
  {
   "cell_type": "markdown",
   "metadata": {},
   "source": [
    "---\n",
    "\n",
    "<br><br>\n"
   ]
  },
  {
   "cell_type": "markdown",
   "metadata": {},
   "source": [
    "### Упражнения 🚀\n",
    "\n",
    "#### ✅ Задание 4.1\n",
    "Выполните цикл по целым числам от 1 до 100 и выведите их квадраты."
   ]
  },
  {
   "cell_type": "code",
   "execution_count": null,
   "metadata": {},
   "outputs": [],
   "source": [
    "# Ваше решение:\n",
    "\n"
   ]
  },
  {
   "cell_type": "markdown",
   "metadata": {},
   "source": [
    "✅ **Правильные решения:**"
   ]
  },
  {
   "cell_type": "markdown",
   "metadata": {},
   "source": [
    "1. **Решение с `for`-циклом**\n",
    "В Julia можно выполнить цикл по числам от `1` до `100` и вывести их квадраты так:"
   ]
  },
  {
   "cell_type": "code",
   "execution_count": null,
   "metadata": {},
   "outputs": [],
   "source": [
    "for i in 1:100\n",
    "    println(i^2)  # Возводим i в квадрат и выводим\n",
    "end"
   ]
  },
  {
   "cell_type": "markdown",
   "metadata": {},
   "source": [
    "2. **Решение с генератором массива**\n",
    "Если нам нужно сохранить квадраты в массиве:\n",
    "\n",
    "Здесь `squares` будет массивом квадратов чисел от `1` до `100`."
   ]
  },
  {
   "cell_type": "code",
   "execution_count": null,
   "metadata": {},
   "outputs": [],
   "source": [
    "squares = [i^2 for i in 1:100]\n",
    "println(squares)"
   ]
  },
  {
   "cell_type": "markdown",
   "metadata": {},
   "source": [
    "3. **Решение с `map`**\n",
    "   \n",
    "Можно также использовать `map`, который применяет функцию ко всем элементам диапазона:"
   ]
  },
  {
   "cell_type": "code",
   "execution_count": null,
   "metadata": {},
   "outputs": [],
   "source": [
    "map(x -> println(x^2), 1:100)"
   ]
  },
  {
   "cell_type": "markdown",
   "metadata": {},
   "source": [
    "**Какой вариант выбрать?**\n",
    "- **`for`** — если просто нужно вывести числа.\n",
    "  \n",
    "- **Генератор массива (`[...]`)** — если хотим сохранить квадраты в переменной.\n",
    "  \n",
    "- **`map`** — для функционального подхода.\n",
    "\n",
    "🚀 Julia позволяет писать **гибкий и лаконичный код**!\n",
    "\n",
    "<br> <br>"
   ]
  },
  {
   "cell_type": "markdown",
   "metadata": {},
   "source": [
    "#### ✅ Задание 4.2  \n",
    "\n",
    "Добавьте к приведённому выше коду небольшое изменение, чтобы создать **словарь** `squares`, в котором **ключами** будут целые числа, а **значениями** — их квадраты, так чтобы выполнялось условие:  \n",
    "\n",
    "```julia\n",
    "squares[10] == 100\n",
    "```"
   ]
  },
  {
   "cell_type": "code",
   "execution_count": null,
   "metadata": {},
   "outputs": [],
   "source": [
    "# Ваше решение:\n",
    "\n"
   ]
  },
  {
   "cell_type": "markdown",
   "metadata": {},
   "source": [
    "✅ **Правильные решения:**"
   ]
  },
  {
   "cell_type": "markdown",
   "metadata": {},
   "source": [
    "1. **Решение с использованием `Dict`**\n",
    "   \n",
    "В Julia можно создать словарь, где **ключами будут числа от `1` до `100`**, а **значениями — их квадраты**:"
   ]
  },
  {
   "cell_type": "code",
   "execution_count": null,
   "metadata": {},
   "outputs": [],
   "source": [
    "# Создаём пустой словарь\n",
    "squares = Dict()\n",
    "\n",
    "# Заполняем словарь с помощью цикла\n",
    "for i in 1:100\n",
    "    squares[i] = i^2\n",
    "end\n",
    "\n",
    "# Проверяем условие\n",
    "@assert squares[10] == 100\n",
    "\n",
    "# Выводим результат\n",
    "println(squares)"
   ]
  },
  {
   "cell_type": "markdown",
   "metadata": {},
   "source": [
    "2. **Решение с `Dict`-comprehension (генератор словаря)**\n",
    "   \n",
    "Можно создать тот же словарь **одной строкой**:\n",
    "\n",
    "Этот код **автоматически** создаст словарь `{1 => 1, 2 => 4, ..., 10 => 100, ..., 100 => 10000}`."
   ]
  },
  {
   "cell_type": "code",
   "execution_count": null,
   "metadata": {},
   "outputs": [],
   "source": [
    "squares = Dict(i => i^2 for i in 1:100)"
   ]
  },
  {
   "cell_type": "markdown",
   "metadata": {},
   "source": [
    "🔍 **Проверка работы**"
   ]
  },
  {
   "cell_type": "code",
   "execution_count": null,
   "metadata": {},
   "outputs": [],
   "source": [
    "println(squares[10])  # Выведет: 100\n",
    "\n",
    "@assert squares[10] == 100 # Проверяем условие\n",
    "@assert squares[11] == 121 # Проверяем условие"
   ]
  },
  {
   "cell_type": "markdown",
   "metadata": {},
   "source": [
    "📌 **Вывод:**  \n",
    "\n",
    "Оба варианта кода создают словарь, где `squares[10] == 100`, а также позволяют легко получать квадраты любых чисел в диапазоне. 🚀\n",
    "\n",
    "<br><br>"
   ]
  },
  {
   "cell_type": "markdown",
   "metadata": {},
   "source": [
    "#### ✅ Задание 4.3 \n",
    "\n",
    "Получите сумму всех квадратов 1 до 100"
   ]
  },
  {
   "cell_type": "code",
   "execution_count": null,
   "metadata": {},
   "outputs": [],
   "source": [
    "# Ваше решение\n"
   ]
  },
  {
   "cell_type": "markdown",
   "metadata": {},
   "source": [
    "✅ **Правильное решение**\n",
    "\n",
    "В Julia можно посчитать сумму используя в цикле оператор присваивания `+=` к переменной, содержащей сумму:"
   ]
  },
  {
   "cell_type": "code",
   "execution_count": 1,
   "metadata": {},
   "outputs": [
    {
     "name": "stdout",
     "output_type": "stream",
     "text": [
      "338350\n"
     ]
    }
   ],
   "source": [
    "# Создаём переменную для хранения суммы\n",
    "s_sum = 0\n",
    "\n",
    "# Суммируем с помощью цикла\n",
    "for i in 1:100\n",
    "    s_sum += i^2\n",
    "end\n",
    "\n",
    "# Проверяем условие\n",
    "@assert s_sum == 338350\n",
    "\n",
    "# Выводим результат\n",
    "println(s_sum)"
   ]
  },
  {
   "cell_type": "markdown",
   "metadata": {},
   "source": [
    "<br>\n",
    "\n",
    "#### ✅ Задание 4.4 \n",
    "\n",
    "Используйте генератор массива (array comprehension), чтобы создать массив squares_arr, в котором будут храниться квадраты всех целых чисел от 1 до 100."
   ]
  },
  {
   "cell_type": "code",
   "execution_count": null,
   "metadata": {},
   "outputs": [],
   "source": [
    "# Ваше решение:\n",
    "\n"
   ]
  },
  {
   "cell_type": "markdown",
   "metadata": {},
   "source": [
    "✅ **Правильное решение с использованием генератора массива**\n",
    "\n",
    "В Julia можно создать массив квадратов чисел от `1` до `100` с помощью **array comprehension**:"
   ]
  },
  {
   "cell_type": "code",
   "execution_count": null,
   "metadata": {},
   "outputs": [],
   "source": [
    "# Создаём массив квадратов чисел от 1 до 100\n",
    "squares_arr = [i^2 for i in 1:100]\n",
    "\n",
    "# Проверка условий\n",
    "@assert length(squares_arr) == 100  # Длина массива должна быть 100\n",
    "@assert sum(squares_arr) == 338350  # Сумма всех элементов должна быть 338350\n",
    "\n",
    "# Выводим результат\n",
    "println(squares_arr)"
   ]
  },
  {
   "cell_type": "markdown",
   "metadata": {},
   "source": [
    "🔍 **Разбор кода решения:**\n",
    "\n",
    "- **`[i^2 for i in 1:100]`** — создаёт массив, где каждый элемент равен квадрату числа `i`.\n",
    "   \n",
    "- **`@assert length(squares_arr) == 100`** — проверяет, что массив содержит 100 элементов.\n",
    "   \n",
    "- **`@assert sum(squares_arr) == 338350`** — проверяет, что сумма всех элементов равна `338350`.\n",
    "   \n",
    "- **Если `@assert` не выдаёт ошибку**, значит массив создан правильно.\n",
    "\n",
    "🚀 **Julia делает генерацию массивов простой и удобной!**"
   ]
  }
 ],
 "metadata": {
  "kernelspec": {
   "display_name": "Julia 1.11.3",
   "language": "julia",
   "name": "julia-1.11"
  },
  "language_info": {
   "file_extension": ".jl",
   "mimetype": "application/julia",
   "name": "julia",
   "version": "1.11.3"
  }
 },
 "nbformat": 4,
 "nbformat_minor": 4
}
