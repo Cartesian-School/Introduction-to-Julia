{
 "cells": [
  {
   "cell_type": "markdown",
   "metadata": {},
   "source": [
    "# **🚀 Множественная диспетчеризация (Multiple dispatch) и**\n",
    "# **Мультиметоды (Multimethods) в Julia.  Урок Девятый.**\n",
    "\n",
    "<br>\n",
    "\n",
    "## **📌 Темы:**\n",
    "\n",
    "1. **Что такое множественная диспетчеризация (Multiple Dispatch)?**\n",
    "   \n",
    "2. **Что такое Multimethods?**\n",
    "   \n",
    "\n",
    "<br>\n",
    "\n",
    "---\n",
    "\n",
    "<br>"
   ]
  },
  {
   "cell_type": "markdown",
   "metadata": {},
   "source": [
    "### **1️⃣ Что такое множественная диспетчеризация (Multiple Dispatch)?** \n",
    "\n",
    "**Множественная диспетчеризация (Multiple Dispatch)** — это механизм, позволяющий языку программирования **выбирать конкретную версию функции** в зависимости от **типа всех аргументов**, переданных в вызове.  \n",
    "\n",
    "В отличие от традиционного **динамического полиморфизма (single dispatch)**, который основывается только на **первом аргументе (например, объекте класса в ООП)**, **множественная диспетчеризация учитывает все аргументы функции**, что делает код более гибким, расширяемым и производительным.\n",
    "\n",
    "🔥 **Julia** — один из немногих языков, в которых **множественная диспетчеризация является основным механизмом работы с функциями**."
   ]
  },
  {
   "cell_type": "markdown",
   "metadata": {},
   "source": [
    "<br>\n",
    "\n",
    "#### **Чем Multiple Dispatch отличается от Multimethods?**  \n",
    "\n",
    "Хотя эти понятия связаны, они не полностью идентичны:  \n",
    "\n",
    "| **Термин**             | **Определение** |\n",
    "|------------------------|----------------|\n",
    "| **Multiple Dispatch**  | Механизм выбора **правильного метода** функции **на основе всех аргументов**. Это ключевая особенность Julia. |\n",
    "| **Multimethods**       | Организация кода с несколькими реализациями одной и той же функции, которые выбираются с помощью **множественной диспетчеризации**. |\n",
    "\n",
    "💡 **Можно сказать, что мультиметоды — это практическое применение множественной диспетчеризации.**  "
   ]
  },
  {
   "cell_type": "markdown",
   "metadata": {},
   "source": [
    "#### **🔹 Начинаем со знакомого.**\n",
    "\n",
    "Чтобы понять множественную диспетчеризацию в Julia, начнем с того, что мы уже видели.\n",
    "\n",
    "Мы можем объявлять функции в Julia, не предоставляя Julia никакой информации о типах входных аргументов, которые получит функция:"
   ]
  },
  {
   "cell_type": "code",
   "execution_count": 6,
   "metadata": {},
   "outputs": [
    {
     "data": {
      "text/plain": [
       "f (generic function with 1 method)"
      ]
     },
     "metadata": {},
     "output_type": "display_data"
    }
   ],
   "source": [
    "f(x) = x.^2"
   ]
  },
  {
   "cell_type": "markdown",
   "metadata": {},
   "source": [
    "и тогда Julia самостоятельно определит, какие типы входных аргументов имеют смысл, а какие нет:"
   ]
  },
  {
   "cell_type": "code",
   "execution_count": 7,
   "metadata": {},
   "outputs": [
    {
     "data": {
      "text/plain": [
       "100"
      ]
     },
     "metadata": {},
     "output_type": "display_data"
    }
   ],
   "source": [
    "f(10)"
   ]
  },
  {
   "cell_type": "code",
   "execution_count": 8,
   "metadata": {},
   "outputs": [
    {
     "data": {
      "text/plain": [
       "3-element Vector{Int64}:\n",
       " 1\n",
       " 4\n",
       " 9"
      ]
     },
     "metadata": {},
     "output_type": "display_data"
    }
   ],
   "source": [
    "f([1, 2, 3])"
   ]
  },
  {
   "cell_type": "markdown",
   "metadata": {},
   "source": [
    "#### **🔹 Указание типов наших входных аргументов.**\n",
    "\n",
    "Однако у нас также есть *возможность* явно указать Julia, какие типы могут иметь наши входные аргументы.\n",
    "\n",
    "Например, давайте напишем функцию `foo`, которая принимает только строки в качестве входных данных."
   ]
  },
  {
   "cell_type": "code",
   "execution_count": 11,
   "metadata": {},
   "outputs": [
    {
     "data": {
      "text/plain": [
       "foo (generic function with 1 method)"
      ]
     },
     "metadata": {},
     "output_type": "display_data"
    }
   ],
   "source": [
    "foo(x::String, y::String) = println(\"Мои входные данные x и y — оба строки!\")"
   ]
  },
  {
   "cell_type": "markdown",
   "metadata": {},
   "source": [
    "Здесь, для того, чтобы ограничить тип `x` и `y` до `String`, мы просто добавляем после имени входного аргумента двойное двоеточие `::` и ключевое слово `String`.\n",
    "\n",
    "Мы знаем, что `foo` ,будет работать со `String` и не будет работать с другими типами входных аргументов."
   ]
  },
  {
   "cell_type": "code",
   "execution_count": 14,
   "metadata": {},
   "outputs": [
    {
     "name": "stdout",
     "output_type": "stream",
     "text": [
      "Мои входные данные x и y — оба строки!\n"
     ]
    }
   ],
   "source": [
    "foo(\"Привет!\", \"Hello!\")"
   ]
  },
  {
   "cell_type": "code",
   "execution_count": 15,
   "metadata": {},
   "outputs": [
    {
     "ename": "MethodError",
     "evalue": "MethodError: no method matching foo(::Int64, ::Int64)\nThe function `foo` exists, but no method is defined for this combination of argument types.\n\nClosest candidates are:\n  foo(!Matched::String, !Matched::String)\n   @ Main c:\\Users\\Siergej Sobolewski\\Kursy Cartesian School\\Julia\\Introduction-to-Julia-main\\Introduction-to-Julia-main\\jl_notebook_cell_df34fa98e69747e1a8f8a730347b8e2f_Y135sZmlsZQ==.jl:1\n",
     "output_type": "error",
     "traceback": [
      "MethodError: no method matching foo(::Int64, ::Int64)\n",
      "The function `foo` exists, but no method is defined for this combination of argument types.\n",
      "\n",
      "Closest candidates are:\n",
      "  foo(!Matched::String, !Matched::String)\n",
      "   @ Main c:\\Users\\Siergej Sobolewski\\Kursy Cartesian School\\Julia\\Introduction-to-Julia-main\\Introduction-to-Julia-main\\jl_notebook_cell_df34fa98e69747e1a8f8a730347b8e2f_Y135sZmlsZQ==.jl:1\n",
      "\n",
      "\n",
      "Stacktrace:\n",
      " [1] top-level scope\n",
      "   @ c:\\Users\\Siergej Sobolewski\\Kursy Cartesian School\\Julia\\Introduction-to-Julia-main\\Introduction-to-Julia-main\\jl_notebook_cell_df34fa98e69747e1a8f8a730347b8e2f_Y141sZmlsZQ==.jl:1"
     ]
    }
   ],
   "source": [
    "foo(3, 4)  # ошибка"
   ]
  },
  {
   "cell_type": "markdown",
   "metadata": {},
   "source": [
    "**Давайте изменим тип аргументов так, чтобы `foo` работал с целочисленными входными данными `Int`, т.е. добавим `::Int` к нашим входным аргументам при объявлении `foo`.**"
   ]
  },
  {
   "cell_type": "code",
   "execution_count": 16,
   "metadata": {},
   "outputs": [
    {
     "name": "stdout",
     "output_type": "stream",
     "text": [
      "Мои входные данные x и y — оба целые числа!\n"
     ]
    }
   ],
   "source": [
    "foo(x::Int, y::Int) = println(\"Мои входные данные x и y — оба целые числа!\")\n",
    "foo(3, 4)  # теперь работает"
   ]
  },
  {
   "cell_type": "markdown",
   "metadata": {},
   "source": [
    "**Теперь `foo` работает с целыми числами! Но смотрите, `foo` также работает, когда `x` и `y` являются строками!**"
   ]
  },
  {
   "cell_type": "code",
   "execution_count": 18,
   "metadata": {},
   "outputs": [
    {
     "name": "stdout",
     "output_type": "stream",
     "text": [
      "Мои входные данные x и y — оба строки!\n"
     ]
    }
   ],
   "source": [
    "foo(\"<Большой Привет\", \"Hello!\")"
   ]
  },
  {
   "cell_type": "markdown",
   "metadata": {},
   "source": [
    "\n",
    "#### 🔹 **Начинаем добираться до сути множественной диспетчеризации.**\n",
    "\n",
    "**Когда мы первый раз объявили:**\n",
    "\n",
    "```julia\n",
    "foo(x::Int, y::Int) = println(\"My inputs x and y are both integers!\")\n",
    "\n",
    "```\n",
    "**А во второй раз мы объявили:**\n",
    "\n",
    "```julia\n",
    "foo(x::String, y::String)\n",
    "\n",
    "```\n",
    "\n",
    "**Мы не перезаписали и не заменили функцию `foo` !!!**\n",
    "\n",
    "Вместо этого мы просто добавили дополнительный ***метод*** к ***универсальной функции*** под названием `foo`.\n",
    "\n",
    "<br>\n",
    "\n",
    "- ***Универсальная функция*** — это абстрактное понятие, связанное с определенной операцией.\n",
    "\n",
    "Например, универсальная функция `+` представляет собой понятие сложения.\n",
    "\n",
    "\n",
    "- ***метод*** — это конкретная реализация универсальной функции для *определенных типов аргументов*.\n",
    "\n",
    "Например, `+` имеет методы, которые принимают числа с плавающей точкой, целые числа, матрицы и т. д.\n",
    "\n",
    "<br>\n",
    "\n",
    "Мы можем использовать `methods`, чтобы увидеть, сколько методов существует для `foo`:"
   ]
  },
  {
   "cell_type": "code",
   "execution_count": 19,
   "metadata": {},
   "outputs": [
    {
     "data": {
      "text/html": [
       "# 2 methods for generic function <b>foo</b> from \u001b[35mMain\u001b[39m:<ul><li> foo(x::<b>Int64</b>, y::<b>Int64</b>) in Main at <a href=\"file://c:/Users/Siergej Sobolewski/Kursy Cartesian School/Julia/Introduction-to-Julia-main/Introduction-to-Julia-main/jl_notebook_cell_df34fa98e69747e1a8f8a730347b8e2f_Y143sZmlsZQ==.jl\" target=\"_blank\">c:\\Users\\Siergej Sobolewski\\Kursy Cartesian School\\Julia\\Introduction-to-Julia-main\\Introduction-to-Julia-main\\jl_notebook_cell_df34fa98e69747e1a8f8a730347b8e2f_Y143sZmlsZQ==.jl:1</a></li> <li> foo(x::<b>String</b>, y::<b>String</b>) in Main at <a href=\"file://c:/Users/Siergej Sobolewski/Kursy Cartesian School/Julia/Introduction-to-Julia-main/Introduction-to-Julia-main/jl_notebook_cell_df34fa98e69747e1a8f8a730347b8e2f_Y135sZmlsZQ==.jl\" target=\"_blank\">c:\\Users\\Siergej Sobolewski\\Kursy Cartesian School\\Julia\\Introduction-to-Julia-main\\Introduction-to-Julia-main\\jl_notebook_cell_df34fa98e69747e1a8f8a730347b8e2f_Y135sZmlsZQ==.jl:1</a></li> </ul>"
      ],
      "text/plain": [
       "# 2 methods for generic function \"foo\" from \u001b[35mMain\u001b[39m:\n",
       " [1] foo(\u001b[90mx\u001b[39m::\u001b[1mInt64\u001b[22m, \u001b[90my\u001b[39m::\u001b[1mInt64\u001b[22m)\n",
       "\u001b[90m     @\u001b[39m \u001b[90mc:\\Users\\Siergej Sobolewski\\Kursy Cartesian School\\Julia\\Introduction-to-Julia-main\\Introduction-to-Julia-main\\\u001b[39m\u001b[90m\u001b[4mjl_notebook_cell_df34fa98e69747e1a8f8a730347b8e2f_Y143sZmlsZQ==.jl:1\u001b[24m\u001b[39m\n",
       " [2] foo(\u001b[90mx\u001b[39m::\u001b[1mString\u001b[22m, \u001b[90my\u001b[39m::\u001b[1mString\u001b[22m)\n",
       "\u001b[90m     @\u001b[39m \u001b[90mc:\\Users\\Siergej Sobolewski\\Kursy Cartesian School\\Julia\\Introduction-to-Julia-main\\Introduction-to-Julia-main\\\u001b[39m\u001b[90m\u001b[4mjl_notebook_cell_df34fa98e69747e1a8f8a730347b8e2f_Y135sZmlsZQ==.jl:1\u001b[24m\u001b[39m"
      ]
     },
     "metadata": {},
     "output_type": "display_data"
    }
   ],
   "source": [
    "methods(foo)"
   ]
  },
  {
   "cell_type": "markdown",
   "metadata": {},
   "source": [
    "**В данном сообщении мы видим информацию о том, что функция `foo` имеет два различных метода. Это означает, что при передаче разных аргументов Julia автоматически выбирает соответствующую версию функции с тем же именем, используя механизм множественной диспетчеризации (Multiple Dispatch).**\n",
    "\n",
    "<br>"
   ]
  },
  {
   "cell_type": "markdown",
   "metadata": {},
   "source": [
    "Итак, теперь мы можем вызывать `foo` для целых чисел или строк. Когда вы вызываете `foo` для определенного набора аргументов, Julia выведет типы входных данных и отправит соответствующий метод. *Это* и есть множественная  диспетчеризация.\n",
    "\n",
    "Множественная  диспетчеризация делает наш код универсальным и быстрым. Наш код может быть универсальным и гибким, потому что мы можем писать код в терминах абстрактных операций, таких как сложение и умножение, а не в терминах конкретных реализаций. В то же время наш код выполняется быстро, потому что Julia может вызывать эффективные методы для соответствующих типов.\n",
    "\n",
    "<br>\n",
    "\n",
    "#### **🔹 Макрос `@which` поможет определить, какой же метод отправляется при вызове универсальной функции.**\n",
    "\n",
    "Чтобы увидеть, какой метод отправляется при вызове универсальной функции, мы можем использовать макрос `@which` следующим образом:"
   ]
  },
  {
   "cell_type": "code",
   "execution_count": 20,
   "metadata": {},
   "outputs": [
    {
     "data": {
      "text/html": [
       "foo(x::<b>Int64</b>, y::<b>Int64</b>) in Main at <a href=\"file://c:/Users/Siergej Sobolewski/Kursy Cartesian School/Julia/Introduction-to-Julia-main/Introduction-to-Julia-main/jl_notebook_cell_df34fa98e69747e1a8f8a730347b8e2f_Y143sZmlsZQ==.jl\" target=\"_blank\">c:\\Users\\Siergej Sobolewski\\Kursy Cartesian School\\Julia\\Introduction-to-Julia-main\\Introduction-to-Julia-main\\jl_notebook_cell_df34fa98e69747e1a8f8a730347b8e2f_Y143sZmlsZQ==.jl:1</a>"
      ],
      "text/plain": [
       "foo(\u001b[90mx\u001b[39m::\u001b[1mInt64\u001b[22m, \u001b[90my\u001b[39m::\u001b[1mInt64\u001b[22m)\n",
       "\u001b[90m     @\u001b[39m \u001b[90mMain\u001b[39m \u001b[90mc:\\Users\\Siergej Sobolewski\\Kursy Cartesian School\\Julia\\Introduction-to-Julia-main\\Introduction-to-Julia-main\\\u001b[39m\u001b[90m\u001b[4mjl_notebook_cell_df34fa98e69747e1a8f8a730347b8e2f_Y143sZmlsZQ==.jl:1\u001b[24m\u001b[39m"
      ]
     },
     "metadata": {},
     "output_type": "display_data"
    }
   ],
   "source": [
    "@which foo(3, 4)"
   ]
  },
  {
   "cell_type": "markdown",
   "metadata": {},
   "source": [
    "Мы также можем добавить резервный метод с типом duck для `foo`, который принимает входные данные любого типа:"
   ]
  },
  {
   "cell_type": "code",
   "execution_count": null,
   "metadata": {},
   "outputs": [],
   "source": [
    "foo(x, y) = println(\"Я принимаю любые предложения! :) \")"
   ]
  },
  {
   "cell_type": "markdown",
   "metadata": {},
   "source": [
    "**Учитывая методы, которые мы уже написали для `foo`, этот метод будет вызываться всякий раз, когда мы передаем в `foo` нечисловые данные:**"
   ]
  },
  {
   "cell_type": "code",
   "execution_count": 24,
   "metadata": {},
   "outputs": [
    {
     "name": "stdout",
     "output_type": "stream",
     "text": [
      "Я принимаю любые предложения! :) \n"
     ]
    }
   ],
   "source": [
    "v = rand(3)\n",
    "foo(v, v)"
   ]
  },
  {
   "cell_type": "markdown",
   "metadata": {},
   "source": [
    "\n",
    "📌 **Вот ещё один пример мультиметодов в Julia**:"
   ]
  },
  {
   "cell_type": "code",
   "execution_count": 21,
   "metadata": {},
   "outputs": [
    {
     "name": "stdout",
     "output_type": "stream",
     "text": [
      "5\n",
      "8.75\n",
      "process(\u001b[90mx\u001b[39m::\u001b[1mString\u001b[22m, \u001b[90my\u001b[39m::\u001b[1mString\u001b[22m)\u001b[90m @\u001b[39m \u001b[90mMain\u001b[39m \u001b[90mc:\\Users\\Siergej Sobolewski\\Kursy Cartesian School\\Julia\\Introduction-to-Julia-main\\Introduction-to-Julia-main\\\u001b[39m\u001b[90m\u001b[4mjl_notebook_cell_df34fa98e69747e1a8f8a730347b8e2f_Y100sZmlsZQ==.jl:4\u001b[24m\u001b[39m\n"
     ]
    }
   ],
   "source": [
    "# Определяем несколько версий функции process для разных типов аргументов\n",
    "process(x::Int, y::Int) = x + y\n",
    "process(x::Float64, y::Float64) = x * y\n",
    "process(x::String, y::String) = x * \" and \" * y\n",
    "\n",
    "# Вызовы функций\n",
    "println(process(2, 3))           # 5 (Int)\n",
    "println(process(2.5, 3.5))       # 8.75 (Float64)\n",
    "\n",
    "println(process(\"Hello\", \"World\"))  # \"Hello and World\" (String)\n",
    "println(@which(process(\"Hello\", \"World\")))  # process(x::String, y::String)"
   ]
  },
  {
   "cell_type": "markdown",
   "metadata": {},
   "source": [
    "👉 **Что произошло?**\n",
    "\n",
    "В коде выше мы видим, что Julia использует Multiple Dispatch, чтобы выбрать правильную версию функции `process()` в зависимости от типов аргументов.  "
   ]
  },
  {
   "cell_type": "markdown",
   "metadata": {},
   "source": [
    "<br>\n",
    "\n",
    "#### **🔹 Как Julia выбирает метод?**  \n",
    "\n",
    "Когда мы вызываем функцию, Julia выполняет следующие шаги:  \n",
    "\n",
    "**1️⃣ Определяет типы всех аргументов** в момент вызова.  \n",
    "\n",
    "**2️⃣ Выбирает наиболее специфичный метод**, соответствующий данным типам.\n",
    "  \n",
    "**3️⃣ Компилирует оптимизированный код** для этого метода (при первом вызове).  \n",
    "\n",
    "**Пример:**"
   ]
  },
  {
   "cell_type": "code",
   "execution_count": 2,
   "metadata": {},
   "outputs": [
    {
     "name": "stdout",
     "output_type": "stream",
     "text": [
      "12\n",
      "12.1\n",
      "12.2\n"
     ]
    }
   ],
   "source": [
    "multiply(a::Int, b::Int) = a * b \n",
    "multiply(a::Int, b::Float64) = a * b + 0.1\n",
    "multiply(a::Float64, b::Float64) = a * b + 0.2\n",
    "\n",
    "println(multiply(3, 4))       # 12 (Int)\n",
    "println(multiply(3, 4.0))     # 12.1 (Int * Float64)\n",
    "println(multiply(3.0, 4.0))   # 12.2 (Float64 * Float64)"
   ]
  },
  {
   "cell_type": "markdown",
   "metadata": {},
   "source": [
    "🎯 **Julia автоматически выбирает наиболее подходящий метод на основе типов аргументов!**  "
   ]
  },
  {
   "cell_type": "markdown",
   "metadata": {},
   "source": [
    "<br>\n",
    "\n",
    "#### **🔹 Как Julia использует множественную диспетчеризацию в ООП?**  \n",
    "\n",
    "Julia позволяет использовать **абстрактные типы** и **структуры**, что делает код еще более универсальным."
   ]
  },
  {
   "cell_type": "code",
   "execution_count": 3,
   "metadata": {},
   "outputs": [
    {
     "name": "stdout",
     "output_type": "stream",
     "text": [
      "Woof! I'm Buddy!\n",
      "Meow! I'm Whiskers!\n"
     ]
    }
   ],
   "source": [
    "abstract type Animal end  # Абстрактный тип\n",
    "\n",
    "struct Dog <: Animal\n",
    "    name::String\n",
    "end\n",
    "\n",
    "struct Cat <: Animal\n",
    "    name::String\n",
    "end\n",
    "\n",
    "speak(a::Dog) = println(\"Woof! I'm $(a.name)!\")\n",
    "speak(a::Cat) = println(\"Meow! I'm $(a.name)!\")\n",
    "\n",
    "dog = Dog(\"Buddy\")\n",
    "cat = Cat(\"Whiskers\")\n",
    "\n",
    "speak(dog)  # Woof! I'm Buddy!\n",
    "speak(cat)  # Meow! I'm Whiskers!"
   ]
  },
  {
   "cell_type": "markdown",
   "metadata": {},
   "source": [
    "✅ Julia диспетчеризирует вызов `speak()` в зависимости от конкретного типа (`Dog` или `Cat`).\n",
    "\n",
    "👉 **В отличие от ООП-языков (Java, Python, C#), где используется **single dispatch (по первому аргументу)**, Julia **учитывает все аргументы**.**"
   ]
  },
  {
   "cell_type": "markdown",
   "metadata": {},
   "source": [
    "<br>\n",
    "\n",
    "### **🔹 Использование `Union` для обобщенных методов**  \n",
    "\n",
    "Если нужно объединить несколько типов в одном методе, можно использовать `Union`:\n"
   ]
  },
  {
   "cell_type": "code",
   "execution_count": 4,
   "metadata": {},
   "outputs": [
    {
     "name": "stdout",
     "output_type": "stream",
     "text": [
      "9\n",
      "6.25\n"
     ]
    }
   ],
   "source": [
    "squared(x::Union{Int, Float64}) = x^2\n",
    "\n",
    "println(squared(3))     # 9\n",
    "println(squared(2.5))   # 6.25"
   ]
  },
  {
   "cell_type": "markdown",
   "metadata": {},
   "source": [
    "✅ **Этот подход удобен, если разные типы данных должны обрабатываться одинаково.**"
   ]
  },
  {
   "cell_type": "markdown",
   "metadata": {},
   "source": [
    "<br>\n",
    "\n",
    "\n",
    "### **🔹 Метод `where` и параметрический полиморфизм**  \n",
    "\n",
    "Julia поддерживает **параметрические методы**, позволяя писать код для **широкого класса типов**.\n"
   ]
  },
  {
   "cell_type": "code",
   "execution_count": 5,
   "metadata": {},
   "outputs": [
    {
     "name": "stdout",
     "output_type": "stream",
     "text": [
      "30\n",
      "6.0\n"
     ]
    }
   ],
   "source": [
    "generic_add(a::T, b::T) where T = a + b\n",
    "\n",
    "println(generic_add(10, 20))      # 30 (Int)\n",
    "println(generic_add(2.5, 3.5))    # 6.0 (Float64)"
   ]
  },
  {
   "cell_type": "markdown",
   "metadata": {},
   "source": [
    "✅ **Этот метод работает для любого типа `T`, если оба аргумента имеют один и тот же тип.**"
   ]
  },
  {
   "cell_type": "markdown",
   "metadata": {},
   "source": [
    "<br>\n",
    "\n",
    "#### **📌 Почему множественная диспетчеризация так важна? Что она нам даёт?**\n",
    "\n",
    "- **Гибкость** — позволяет писать **универсальные функции**, работающие с разными комбинациями типов.\n",
    "\n",
    "- **Производительность** — Julia компилирует код под **конкретные типы**, устраняя накладные расходы динамической типизации.  \n",
    "\n",
    "- **Читаемость** — код остается **чистым и выразительным**, без сложных `if-else` и проверок типов.  \n",
    "\n",
    "- **Модульность** — можно легко **расширять функциональность** без изменения исходного кода.  "
   ]
  },
  {
   "cell_type": "markdown",
   "metadata": {},
   "source": [
    "\n",
    "#### **📌 Сравнение с другими языками** \n",
    "\n",
    "| **Язык**      | **Тип диспетчеризации** |\n",
    "|--------------|----------------------|\n",
    "| **Python**   | Single Dispatch (метод определяется по первому аргументу `self`) |\n",
    "| **C++**      | Static Dispatch (решается во время компиляции) |\n",
    "| **Java**     | Single Dispatch (выбор метода по типу объекта) |\n",
    "| **C#**       | Single Dispatch + Dynamic Dispatch через `dynamic` |\n",
    "| **Julia**    | **Multiple Dispatch (использует все аргументы)** |\n",
    "\n",
    "🔥 **Julia выигрывает в гибкости и скорости, так как диспетчеризация выполняется на этапе компиляции, а не во время выполнения!** 🚀  \n",
    "\n",
    "\n",
    "<br>\n",
    "\n",
    "#### **📌 Где еще используется Multiple Dispatch?**  \n",
    "\n",
    "✅ **Научные вычисления** – например, в линейной алгебре, где функции должны работать с разными типами чисел (Int, Float64, Complex).\n",
    "\n",
    "✅ **Машинное обучение** – обработка данных, где алгоритмы применяются к различным типам входных данных.\n",
    "\n",
    "✅ **Физическое моделирование** – выбор оптимального метода для расчета в зависимости от типов данных.  \n"
   ]
  },
  {
   "cell_type": "markdown",
   "metadata": {},
   "source": [
    "<br>\n",
    "\n",
    "---\n",
    "\n",
    "<br>\n",
    "\n",
    "### **2️⃣ Что такое Multimethods?**\n",
    "\n",
    "Термин **\"Multimethods\"** в программировании можно перевести на русский язык как **\"мультиметоды\"** или **\"многометодность\"**.  \n",
    "\n",
    "🔹 **Варианты перевода в зависимости от контекста:**  \n",
    "- **\"Мультиметоды\"** – если речь идет о конкретной концепции в языке программирования.  \n",
    "- **\"Многометодность\"** – если рассматривается как общая парадигма программирования.  \n",
    "- **\"Множественная диспетчеризация\"** – если акцент на механизме выбора метода на основе нескольких аргументов.  \n",
    "\n",
    "\n",
    "**Мультиметоды** – это механизм, позволяющий определять поведение функций (методов) в зависимости от **типа нескольких аргументов**. В отличие от традиционного **полиморфизма на основе одного аргумента** (как в ООП), мультиметоды позволяют **выбирать реализацию функции в зависимости от нескольких аргументов одновременно**.  "
   ]
  },
  {
   "cell_type": "markdown",
   "metadata": {},
   "source": [
    "🔹 **Пример в Julia (язык с поддержкой мультиметодов):**  "
   ]
  },
  {
   "cell_type": "code",
   "execution_count": 2,
   "metadata": {},
   "outputs": [
    {
     "name": "stdout",
     "output_type": "stream",
     "text": [
      "Оба аргумента целые числа: 5\n",
      "Оба аргумента строки: Hi!\n"
     ]
    },
    {
     "ename": "MethodError",
     "evalue": "MethodError: no method matching action(::String, ::Int64)\nThe function `action` exists, but no method is defined for this combination of argument types.\n\nClosest candidates are:\n  action(::String, !Matched::String)\n   @ Main c:\\Users\\Siergej Sobolewski\\Kursy Cartesian School\\Julia\\Introduction-to-Julia-main\\Introduction-to-Julia-main\\jl_notebook_cell_df34fa98e69747e1a8f8a730347b8e2f_Y100sZmlsZQ==.jl:5\n  action(!Matched::Int64, ::Int64)\n   @ Main c:\\Users\\Siergej Sobolewski\\Kursy Cartesian School\\Julia\\Introduction-to-Julia-main\\Introduction-to-Julia-main\\jl_notebook_cell_df34fa98e69747e1a8f8a730347b8e2f_Y100sZmlsZQ==.jl:1\n",
     "output_type": "error",
     "traceback": [
      "MethodError: no method matching action(::String, ::Int64)\n",
      "The function `action` exists, but no method is defined for this combination of argument types.\n",
      "\n",
      "Closest candidates are:\n",
      "  action(::String, !Matched::String)\n",
      "   @ Main c:\\Users\\Siergej Sobolewski\\Kursy Cartesian School\\Julia\\Introduction-to-Julia-main\\Introduction-to-Julia-main\\jl_notebook_cell_df34fa98e69747e1a8f8a730347b8e2f_Y100sZmlsZQ==.jl:5\n",
      "  action(!Matched::Int64, ::Int64)\n",
      "   @ Main c:\\Users\\Siergej Sobolewski\\Kursy Cartesian School\\Julia\\Introduction-to-Julia-main\\Introduction-to-Julia-main\\jl_notebook_cell_df34fa98e69747e1a8f8a730347b8e2f_Y100sZmlsZQ==.jl:1\n",
      "\n",
      "\n",
      "Stacktrace:\n",
      " [1] top-level scope\n",
      "   @ c:\\Users\\Siergej Sobolewski\\Kursy Cartesian School\\Julia\\Introduction-to-Julia-main\\Introduction-to-Julia-main\\jl_notebook_cell_df34fa98e69747e1a8f8a730347b8e2f_Y100sZmlsZQ==.jl:11"
     ]
    }
   ],
   "source": [
    "function action(x::Int, y::Int)\n",
    "    println(\"Оба аргумента целые числа: \", x + y)\n",
    "end\n",
    "\n",
    "function action(x::String, y::String)\n",
    "    println(\"Оба аргумента строки: \", x * y)\n",
    "end\n",
    "\n",
    "action(2, 3)        # Оба аргумента целые числа: 5\n",
    "action(\"Hi\", \"!\")   # Оба аргумента строки: Hi!\n",
    "action(\"Hello\", 3)  # Ошибка, подходящего метода нет\n"
   ]
  },
  {
   "cell_type": "markdown",
   "metadata": {},
   "source": [
    "🔹 **Где применяются мультиметоды?**\n",
    "\n",
    "- Языки с динамической типизацией (**Julia, Clojure, Common Lisp**).  \n",
    "  \n",
    "- Программирование на основе диспетчеризации типов. \n",
    "  \n",
    "- Оптимизация кода для работы с разными типами данных.  \n",
    "\n",
    "💡 **Вывод**: \n",
    "\n",
    "Мультиметоды позволяют создавать более **гибкие и адаптивные** программы, особенно в языках с динамической типизацией, таких как **Julia**."
   ]
  },
  {
   "cell_type": "markdown",
   "metadata": {},
   "source": [
    "<br>\n",
    "\n",
    "---\n",
    "\n",
    "<br>\n",
    "\n",
    "## 🔹 **Упражнения:**\n",
    "\n",
    "#### ✅ Задание 9.1\n",
    "\n",
    "Кстати: как вы думаете, сколько существует методов сложения в Julia?"
   ]
  },
  {
   "cell_type": "code",
   "execution_count": 4,
   "metadata": {},
   "outputs": [],
   "source": [
    "# Ваш ответ:\n"
   ]
  },
  {
   "cell_type": "markdown",
   "metadata": {},
   "source": [
    "Подсказка:\n",
    "\n",
    "Впишите  - ` methods(+) `"
   ]
  }
 ],
 "metadata": {
  "anaconda-cloud": {},
  "kernelspec": {
   "display_name": "Julia 1.11.3",
   "language": "julia",
   "name": "julia-1.11"
  },
  "language": "Julia",
  "language_info": {
   "file_extension": ".jl",
   "mimetype": "application/julia",
   "name": "julia",
   "version": "1.11.3"
  },
  "toc": {
   "nav_menu": {
    "height": "119px",
    "width": "251px"
   },
   "navigate_menu": true,
   "number_sections": true,
   "sideBar": true,
   "threshold": "2",
   "toc_cell": false,
   "toc_section_display": "block",
   "toc_window_display": false
  }
 },
 "nbformat": 4,
 "nbformat_minor": 4
}
