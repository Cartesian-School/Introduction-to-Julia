{
 "cells": [
  {
   "cell_type": "markdown",
   "metadata": {},
   "source": [
    "# **🚀 Julia — один из самых быстрых языков программирования.**\n",
    "# **Урок Десятый.**\n",
    "\n",
    "<br>\n",
    "\n",
    "##  **📌 Темы:**  \n",
    "\n",
    "1. **Определение функции суммы.**  \n",
    "   \n",
    "2. **Реализация и бенчмаркинг функции суммы.** \n",
    "    \n",
    "   - **C** (ручная реализация) \n",
    "   \n",
    "   - **C** (ручная реализация с `-ffast-math`)\n",
    "  \n",
    "   - **Python** (встроенная функция)  \n",
    "  \n",
    "   - **Python** (с использованием NumPy) \n",
    "   \n",
    "   - **Python** (ручная реализация)  \n",
    "  \n",
    "   - **Julia** (встроенная функция) \n",
    "   \n",
    "   - **Julia** (ручная реализация)  \n",
    "  \n",
    "   - **Julia** (ручная реализация с SIMD)\n",
    "    \n",
    "3. **Подведение итогов бенчмарков.**  \n",
    "\n",
    "<br>\n",
    "\n",
    "---\n",
    "\n",
    " <br>"
   ]
  },
  {
   "cell_type": "markdown",
   "metadata": {},
   "source": [
    "### **1️⃣ Определение функции суммы.**"
   ]
  },
  {
   "cell_type": "markdown",
   "metadata": {},
   "source": [
    "<br>\n",
    "\n",
    "#### **🔷 `sum` - Достаточно простая и всем понятная функция**"
   ]
  },
  {
   "cell_type": "markdown",
   "metadata": {},
   "source": [
    "Рассмотрим функцию **`sum(a)`**, которая вычисляет сумму элементов массива:  \n",
    "\n",
    "$$  \n",
    "\\mathrm{sum}(a) = \\sum_{i=1}^n a_i,  \n",
    "$$  \n",
    "\n",
    "где `n` — количество элементов в `a`.\n",
    "\n",
    "<br>"
   ]
  },
  {
   "cell_type": "markdown",
   "metadata": {},
   "source": [
    "Теперь создадим массив `a`, который будет содержать случайные числа, равномерно распределённые в диапазоне **[0, 1)**:  "
   ]
  },
  {
   "cell_type": "code",
   "execution_count": 30,
   "metadata": {},
   "outputs": [
    {
     "data": {
      "text/plain": [
       "10000000-element Vector{Float64}:\n",
       " 0.2682984794399095\n",
       " 0.9515690159946528\n",
       " 0.16491638751344184\n",
       " 0.9554995855780662\n",
       " 0.47273235586809037\n",
       " 0.3306906679684414\n",
       " 0.9444955333683726\n",
       " 0.9125150481972504\n",
       " 0.26096314141482735\n",
       " 0.21176223794173388\n",
       " ⋮\n",
       " 0.05074307270513356\n",
       " 0.2882560456243459\n",
       " 0.18314615184495087\n",
       " 0.6974994289236754\n",
       " 0.7566998881935195\n",
       " 0.15970927887408604\n",
       " 0.41515989400791586\n",
       " 0.2634455752157633\n",
       " 0.19172265676799793"
      ]
     },
     "metadata": {},
     "output_type": "display_data"
    }
   ],
   "source": [
    "\n",
    "a = rand(10^7)  # Одномерный вектор из 10 миллионов случайных чисел\n",
    " \n"
   ]
  },
  {
   "cell_type": "markdown",
   "metadata": {},
   "source": [
    "Этот массив послужит входными данными для функции суммы, которую мы будем анализировать."
   ]
  },
  {
   "cell_type": "markdown",
   "metadata": {},
   "source": [
    "Вызовем функцию суммы:  \n",
    "\n",
    "Ожидаемый результат — **\\( 0.5 \\times 10^7 \\)**, так как математическое ожидание каждого элемента равно **0.5**."
   ]
  },
  {
   "cell_type": "code",
   "execution_count": 31,
   "metadata": {},
   "outputs": [
    {
     "data": {
      "text/plain": [
       "5.0000932423075065e6"
      ]
     },
     "metadata": {},
     "output_type": "display_data"
    }
   ],
   "source": [
    "sum(a)  # Сумма всех элементов вектора a  = 5.000925873796715e6"
   ]
  },
  {
   "cell_type": "code",
   "execution_count": 32,
   "metadata": {},
   "outputs": [
    {
     "data": {
      "text/plain": [
       "5.0000932423075065e6"
      ]
     },
     "metadata": {},
     "output_type": "display_data"
    }
   ],
   "source": [
    "sum(a)  # Сумма всех элементов вектора a  = 5.000..............................."
   ]
  },
  {
   "cell_type": "code",
   "execution_count": 33,
   "metadata": {},
   "outputs": [
    {
     "data": {
      "text/plain": [
       "5.0000932423075065e6"
      ]
     },
     "metadata": {},
     "output_type": "display_data"
    }
   ],
   "source": [
    "sum(a)  # Сумма всех элементов вектора "
   ]
  },
  {
   "cell_type": "markdown",
   "metadata": {},
   "source": [
    "Фактический результат:  \n",
    "\n",
    "Этот результат близок к **\\( 0.5 \\times 10^7 \\)**, что соответствует ожидаемому значению. Небольшое отклонение обусловлено случайной природой чисел и статистическими флуктуациями. При увеличении количества элементов сумма будет всё точнее приближаться к **\\( 5 \\times 10^6 \\)** благодаря закону больших чисел."
   ]
  },
  {
   "cell_type": "markdown",
   "metadata": {},
   "source": [
    "<br>\n",
    "\n",
    "---\n",
    "\n",
    "<br>\n",
    "\n",
    "### **2️⃣ Реализация и бенчмаркинг функции суммы.** "
   ]
  },
  {
   "cell_type": "markdown",
   "metadata": {},
   "source": [
    "<br>\n",
    "\n",
    "#### **🔷 Benchmarking  - Сравнение скорости вычислений в разных языках**"
   ]
  },
  {
   "cell_type": "markdown",
   "metadata": {},
   "source": [
    "Теперь мы сравним производительность вычисления суммы в нескольких языках программирования. Для этого рассмотрим различные реализации, начиная от встроенных функций до ручных оптимизаций, включая использование SIMD-инструкций.  \n",
    "\n",
    "Мы запустим бенчмарки для следующих реализаций:  \n",
    "- **C** (ручная реализация с разными настройками компиляции)  \n",
    "- **Python** (встроенная функция, NumPy и собственная реализация)  \n",
    "- **Julia** (встроенная функция, ручная реализация и версия с SIMD)  \n",
    "\n",
    "Цель этого раздела — не только измерить скорость, но и понять, какие факторы влияют на производительность вычислений в разных языках."
   ]
  },
  {
   "cell_type": "markdown",
   "metadata": {},
   "source": [
    "<br>\n",
    "\n",
    "##### 📌 Макрос `@time` в Julia\n",
    "\n",
    "**В Julia можно использовать макрос `@time`, чтобы измерить время выполнения функции:**"
   ]
  },
  {
   "cell_type": "code",
   "execution_count": 34,
   "metadata": {},
   "outputs": [
    {
     "name": "stdout",
     "output_type": "stream",
     "text": [
      "  0.005073 seconds (1 allocation: 16 bytes)\n"
     ]
    },
    {
     "data": {
      "text/plain": [
       "5.0000932423075065e6"
      ]
     },
     "metadata": {},
     "output_type": "display_data"
    }
   ],
   "source": [
    "@time sum(a)"
   ]
  },
  {
   "cell_type": "code",
   "execution_count": 35,
   "metadata": {},
   "outputs": [
    {
     "name": "stdout",
     "output_type": "stream",
     "text": [
      "  0.005914 seconds (1 allocation: 16 bytes)\n"
     ]
    },
    {
     "data": {
      "text/plain": [
       "5.0000932423075065e6"
      ]
     },
     "metadata": {},
     "output_type": "display_data"
    }
   ],
   "source": [
    "@time sum(a)"
   ]
  },
  {
   "cell_type": "code",
   "execution_count": 36,
   "metadata": {},
   "outputs": [
    {
     "name": "stdout",
     "output_type": "stream",
     "text": [
      "  0.005018 seconds (1 allocation: 16 bytes)\n"
     ]
    },
    {
     "data": {
      "text/plain": [
       "5.0000932423075065e6"
      ]
     },
     "metadata": {},
     "output_type": "display_data"
    }
   ],
   "source": [
    "@time sum(a)"
   ]
  },
  {
   "cell_type": "markdown",
   "metadata": {},
   "source": [
    "Однако `@time` может давать не совсем корректные шумные результаты, так как включает накладные расходы, связанные с компиляцией и сборщиком мусора. Поэтому этот способ не самый точный для бенчмаркинга!\n",
    "\n",
    "<br>\n",
    "\n",
    "##### 📌 Пакет `BenchmarkTools.jl`\n",
    "\n",
    "К счастью, в **Julia** есть пакет `BenchmarkTools.jl`, который позволяет более точно и надежно измерять производительность кода.\n",
    "\n",
    "Установим его:"
   ]
  },
  {
   "cell_type": "code",
   "execution_count": 37,
   "metadata": {},
   "outputs": [
    {
     "name": "stderr",
     "output_type": "stream",
     "text": [
      "\u001b[32m\u001b[1m   Resolving\u001b[22m\u001b[39m package versions...\n",
      "\u001b[32m\u001b[1m  No Changes\u001b[22m\u001b[39m to `C:\\Users\\Siergej Sobolewski\\Kursy Cartesian School\\Julia\\Introduction-to-Julia-main\\Introduction-to-Julia-main\\Project.toml`\n",
      "\u001b[32m\u001b[1m  No Changes\u001b[22m\u001b[39m to `C:\\Users\\Siergej Sobolewski\\Kursy Cartesian School\\Julia\\Introduction-to-Julia-main\\Introduction-to-Julia-main\\Manifest.toml`\n"
     ]
    }
   ],
   "source": [
    "using Pkg\n",
    "Pkg.add(\"BenchmarkTools\")"
   ]
  },
  {
   "cell_type": "code",
   "execution_count": 38,
   "metadata": {},
   "outputs": [],
   "source": [
    "using BenchmarkTools  "
   ]
  },
  {
   "cell_type": "markdown",
   "metadata": {},
   "source": [
    "<br>\n",
    "\n",
    "#### **1. Язык C**  \n",
    "\n",
    "Язык **C** часто называют **золотым стандартом** производительности в программировании. Он может быть **сложен для человека** из-за низкоуровневого управления памятью и необходимости писать код вручную без автоматических оптимизаций. Однако для компьютера он **идеален**, поскольку компилируется в высокоэффективный машинный код и позволяет разрабатывать быстрые программы.  \n",
    "\n",
    "Обычно, если код на другом языке выполняется **не более чем в 2 раза медленнее**, чем аналогичный код на **C** (то есть его производительность составляет **не менее 50% от C**), это считается **очень хорошим результатом**. Такой разрыв называют **фактором 2**:  \n",
    "- **Фактор 1** означает, что код работает с той же скоростью, что и C.  \n",
    "- **Фактор 2** означает, что он работает **в 2 раза медленнее**, но всё ещё довольно быстро.  \n",
    "- **Фактор 10** означал бы, что код выполняется в **10 раз медленнее**, что уже считается значительной потерей производительности.  \n",
    "\n",
    "Тем не менее, даже **внутри самого C** есть **разные уровни оптимизации**. Разработчик, который просто пишет \"наивный\" код без учёта тонкостей компиляции и процессорных оптимизаций, может получить результаты хуже, чем тот, кто использует **SIMD-инструкции**, **раскрутку циклов**, **автовекторизацию**, **оптимизированные флаги компиляции**, и другие техники.  \n",
    "\n",
    "#### **C-код в Julia**  \n",
    "\n",
    "Автор этого ноутбука **не является специалистом по C**, поэтому он **не анализирует код ниже**. Однако **интересный факт**: в Julia можно **вставлять C-код**, **компилировать его** и **запускать прямо внутри Julia**.  \n",
    "\n",
    "Обратите внимание, что в Julia **многострочные строки** оборачиваются в тройные кавычки `\"\"\"`, что позволяет удобно записывать **блоки кода на C** внутри Julia-сессии.\n",
    "\n",
    "**👉 Примечание:** Если у вас Windows и ещё не установлен компилятор языка C, то я рекомендую воспользоваться ссылкой и скачать инсталятор TDM-gcc [здесь](https://jmeubank.github.io/tdm-gcc/download/)."
   ]
  },
  {
   "cell_type": "code",
   "execution_count": 39,
   "metadata": {},
   "outputs": [
    {
     "name": "stderr",
     "output_type": "stream",
     "text": [
      "WARNING: redefinition of constant Main.Clib. This may fail, cause incorrect answers, or produce other errors.\n"
     ]
    },
    {
     "data": {
      "text/plain": [
       "c_sum (generic function with 1 method)"
      ]
     },
     "metadata": {},
     "output_type": "display_data"
    }
   ],
   "source": [
    "using Libdl  # Подключаем библиотеку для работы с динамическими библиотеками\n",
    "\n",
    "# Определяем C-код в виде строки\n",
    "C_code = \"\"\"\n",
    "#include <stddef.h>  // Подключаем библиотеку для работы с size_t\n",
    "\n",
    "// Функция, вычисляющая сумму элементов массива\n",
    "double c_sum(size_t n, double *X) {\n",
    "    double s = 0.0;  // Инициализируем сумму\n",
    "    for (size_t i = 0; i < n; ++i) {  // Проходим по всем элементам массива\n",
    "        s += X[i];  // Добавляем текущий элемент к сумме\n",
    "    }\n",
    "    return s;  // Возвращаем итоговую сумму\n",
    "}\n",
    "\"\"\"\n",
    "\n",
    "const Clib = tempname()  # Создаём временное имя файла для библиотеки\n",
    "\n",
    "# Компилируем C-код в динамическую библиотеку, передавая его компилятору gcc\n",
    "# (работает только если установлен gcc)\n",
    "open(`gcc -fPIC -O3 -msse3 -xc -shared -o $(Clib * \".\" * Libdl.dlext) -`, \"w\") do f\n",
    "    print(f, C_code)  # Записываем C-код в поток компиляции\n",
    "end\n",
    "\n",
    "# Определяем функцию в Julia, которая вызывает C-функцию из скомпилированной библиотеки\n",
    "c_sum(X::Array{Float64}) = ccall(\n",
    "    (\"c_sum\", Clib),   # Имя C-функции и имя библиотеки\n",
    "    Float64,           # Возвращаемый тип (double в C)\n",
    "    (Csize_t, Ptr{Float64}),  # Типы аргументов (size_t и double *)\n",
    "    length(X), X       # Передаём длину массива и сам массив\n",
    ")\n"
   ]
  },
  {
   "cell_type": "markdown",
   "metadata": {},
   "source": [
    "##### 🔹 **Что мы сделали в этом коде?**\n",
    "\n",
    "1. **Определяем функцию `c_sum` на C**, которая принимает массив чисел с плавающей запятой (`double *X`) и его длину (`size_t n`), а затем вычисляем сумму элементов.  \n",
    "   \n",
    "2. **Создаём временный файл** для хранения динамической библиотеки.  \n",
    "   \n",
    "3. **Компилируем C-код в библиотеку (`.so` или `.dll`)** с помощью `gcc`, используя оптимизации:  \n",
    "   \n",
    "   - `-O3` (максимальная оптимизация)  \n",
    "  \n",
    "   - `-msse3` (использование SIMD-инструкций)  \n",
    "  \n",
    "   - `-shared` (создание динамической библиотеки)  \n",
    "  \n",
    "4. **Определяем функцию `c_sum` в Julia**, которая вызывает `c_sum` из C с помощью `ccall`.  \n",
    "\n",
    "\n",
    "Теперь `c_sum(X)` в Julia будет **использовать высокопроизводительный C-код** для вычисления суммы массива. 🚀"
   ]
  },
  {
   "cell_type": "markdown",
   "metadata": {},
   "source": [
    "\n",
    "\n",
    "#### 📌 **Вызов функции `c_sum` и сравнение результатов.**\n",
    "\n",
    "После компиляции C-кода и определения функции `c_sum` в Julia мы можем её вызвать и проверить корректность вычислений."
   ]
  },
  {
   "cell_type": "code",
   "execution_count": 40,
   "metadata": {},
   "outputs": [
    {
     "data": {
      "text/plain": [
       "5.000093242308221e6"
      ]
     },
     "metadata": {},
     "output_type": "display_data"
    }
   ],
   "source": [
    "c_sum(a)"
   ]
  },
  {
   "cell_type": "markdown",
   "metadata": {},
   "source": [
    " <br>\n",
    " \n",
    " **Сравнивать сами результаты суммирования бессмысленно**, так как и `sum(a)`, и `c_sum(a)` вычисляют **одно и то же**. Разница в значении будет лишь в пределах машинного эпсилона (ошибки округления).  \n",
    "\n",
    " #### 🔹 **Что действительно стоит сравнивать?**\n",
    "Нужно измерить **время выполнения** этих операций, чтобы понять, насколько C-версия быстрее встроенной реализации в Julia.  \n",
    "\n",
    "<br>\n",
    "\n",
    "#### **📌 Сравниваем скорость выполнения**\n",
    "\n",
    "##### **1️⃣ Используем `BenchmarkTools.jl` для точного измерения**"
   ]
  },
  {
   "cell_type": "markdown",
   "metadata": {},
   "source": [
    "В Julia есть пакет **`BenchmarkTools.jl`**, который позволяет проводить точные бенчмарки.\n",
    "\n",
    "Сначала нужно установить его, если ещё не установлен. Но мы его уже установили ранее поэтому не будем повторять ,а только напомним себе ещё раз как это происходит:  \n",
    "\n",
    "```julia\n",
    "import Pkg\n",
    "Pkg.add(\"BenchmarkTools\")  # Установка пакета\n",
    "```\n",
    "<br>\n",
    "\n",
    "Теперь можно **сравнить скорость**:"
   ]
  },
  {
   "cell_type": "code",
   "execution_count": 51,
   "metadata": {},
   "outputs": [
    {
     "name": "stdout",
     "output_type": "stream",
     "text": [
      "Бенчмарк встроенной julia функции sum:\n",
      "  4.894 ms (0 allocations: 0 bytes)\n",
      "Бенчмарк C-функции c_sum:\n",
      "  18.188 ms (0 allocations: 0 bytes)\n"
     ]
    },
    {
     "data": {
      "text/plain": [
       "5.000093242308221e6"
      ]
     },
     "metadata": {},
     "output_type": "display_data"
    }
   ],
   "source": [
    "using BenchmarkTools  # Подключаем пакет для бенчмаркинга\n",
    "\n",
    "println(\"Бенчмарк встроенной julia функции sum:\")\n",
    "@btime sum($a)  # Измеряем время выполнения встроенной Julia-функции\n",
    "\n",
    "println(\"Бенчмарк C-функции c_sum:\")\n",
    "@btime c_sum($a)  # Измеряем время выполнения C-версии"
   ]
  },
  {
   "cell_type": "markdown",
   "metadata": {},
   "source": [
    "**👉 Примечание:**\n",
    "\n",
    "В конце полученного результата тестов мы видим число `5.00000...` - это результат последнего вычисления который печатается автоматически.\n",
    "\n",
    " `@btime` в **BenchmarkTools.jl** выполняет функцию и возвращает её результат.\n",
    "\n",
    "При этом результат последнего `@btime` автоматически печатается, поэтому мы его видим.\n",
    "\n",
    "🔹 **Но что же делает `@btime`?**  \n",
    "\n",
    "- **Запускает код много раз** и находит **самое быстрое выполнение**.  \n",
    "  \n",
    "- **`$a`** используется для **передачи переменной внутрь макроса** (иначе компилятор может оптимизировать вызов).  \n",
    "  <br>"
   ]
  },
  {
   "cell_type": "markdown",
   "metadata": {},
   "source": [
    "##### **2️⃣ Альтернативный замер через `@time`**\n",
    "\n",
    "Если **`BenchmarkTools.jl`** не установлен, можно использовать `@time`, но он даёт **менее точные** результаты:  "
   ]
  },
  {
   "cell_type": "code",
   "execution_count": 52,
   "metadata": {},
   "outputs": [
    {
     "name": "stdout",
     "output_type": "stream",
     "text": [
      "Время выполнения встроенной sum:\n",
      "  0.012389 seconds (1 allocation: 16 bytes)\n",
      "Время выполнения C-функции c_sum:\n",
      "  0.021826 seconds (1 allocation: 16 bytes)\n"
     ]
    },
    {
     "data": {
      "text/plain": [
       "5.000093242308221e6"
      ]
     },
     "metadata": {},
     "output_type": "display_data"
    }
   ],
   "source": [
    "println(\"Время выполнения встроенной sum:\")\n",
    "@time sum(a)\n",
    "\n",
    "println(\"Время выполнения C-функции c_sum:\")\n",
    "@time c_sum(a)"
   ]
  },
  {
   "cell_type": "markdown",
   "metadata": {},
   "source": [
    "**👉 Примечание:** \n",
    "\n",
    "Используя `@time` мы должны быть готовы к получению **зашумлённых результатов** не совсем корректных, потому что полученный результат включает в себя *дополнительные расходы* (например на компиляцию)."
   ]
  },
  {
   "cell_type": "markdown",
   "metadata": {},
   "source": [
    "##### **🔹 Ожидаемые результаты**\n",
    "\n",
    "- **C-версия (`c_sum(a)`) должна работать быстрее**, так как это низкоуровневый код, оптимизированный `gcc -O3`.\n",
    "  \n",
    "- **Julia (`sum(a)`) тоже оптимизирована**, но зависит от внутренней реализации.\n",
    "\n",
    "Если разница небольшая, значит, встроенная `sum(a)` уже **очень хорошо оптимизирована в Julia**! 🚀\n",
    "\n",
    "Теперь можно реально понять, **насколько Julia выигрывает по скорости, а не просто совпадает по значению!**"
   ]
  },
  {
   "cell_type": "markdown",
   "metadata": {},
   "source": [
    "<br>\n",
    "\n",
    "#### 📌 **Теперь можно  визуализировать результаты бенчмарка?** \n",
    "\n",
    "Для этого необходимо провести бенчмаркинг C-кода и встроенной функции `sum(a)` в **Julia** напрямую с помощью **BenchmarkTools.jl**:"
   ]
  },
  {
   "cell_type": "code",
   "execution_count": null,
   "metadata": {},
   "outputs": [
    {
     "data": {
      "text/plain": [
       "BenchmarkTools.Trial: 264 samples with 1 evaluation per sample.\n",
       " Range \u001b[90m(\u001b[39m\u001b[36m\u001b[1mmin\u001b[22m\u001b[39m … \u001b[35mmax\u001b[39m\u001b[90m):  \u001b[39m\u001b[36m\u001b[1m17.916 ms\u001b[22m\u001b[39m … \u001b[35m104.224 ms\u001b[39m  \u001b[90m┊\u001b[39m GC \u001b[90m(\u001b[39mmin … max\u001b[90m): \u001b[39m0.00% … 0.00%\n",
       " Time  \u001b[90m(\u001b[39m\u001b[34m\u001b[1mmedian\u001b[22m\u001b[39m\u001b[90m):     \u001b[39m\u001b[34m\u001b[1m18.250 ms               \u001b[22m\u001b[39m\u001b[90m┊\u001b[39m GC \u001b[90m(\u001b[39mmedian\u001b[90m):    \u001b[39m0.00%\n",
       " Time  \u001b[90m(\u001b[39m\u001b[32m\u001b[1mmean\u001b[22m\u001b[39m ± \u001b[32mσ\u001b[39m\u001b[90m):   \u001b[39m\u001b[32m\u001b[1m18.964 ms\u001b[22m\u001b[39m ± \u001b[32m  5.416 ms\u001b[39m  \u001b[90m┊\u001b[39m GC \u001b[90m(\u001b[39mmean ± σ\u001b[90m):  \u001b[39m0.00% ± 0.00%\n",
       "\n",
       "  \u001b[39m▆\u001b[39m█\u001b[39m▆\u001b[34m▆\u001b[39m\u001b[39m▄\u001b[39m▃\u001b[39m▃\u001b[39m \u001b[39m▁\u001b[32m \u001b[39m\u001b[39m \u001b[39m \u001b[39m \u001b[39m \u001b[39m \u001b[39m \u001b[39m \u001b[39m \u001b[39m \u001b[39m \u001b[39m \u001b[39m \u001b[39m \u001b[39m \u001b[39m \u001b[39m \u001b[39m \u001b[39m \u001b[39m \u001b[39m \u001b[39m \u001b[39m \u001b[39m \u001b[39m \u001b[39m \u001b[39m \u001b[39m \u001b[39m \u001b[39m \u001b[39m \u001b[39m \u001b[39m \u001b[39m \u001b[39m \u001b[39m \u001b[39m \u001b[39m \u001b[39m \u001b[39m \u001b[39m \u001b[39m \u001b[39m \u001b[39m \u001b[39m \u001b[39m \u001b[39m \u001b[39m \u001b[39m \u001b[39m \u001b[39m \u001b[39m \u001b[39m \n",
       "  \u001b[39m█\u001b[39m█\u001b[39m█\u001b[34m█\u001b[39m\u001b[39m█\u001b[39m█\u001b[39m█\u001b[39m▇\u001b[39m█\u001b[32m▇\u001b[39m\u001b[39m▇\u001b[39m▇\u001b[39m▄\u001b[39m█\u001b[39m▇\u001b[39m▄\u001b[39m▇\u001b[39m▄\u001b[39m▄\u001b[39m▆\u001b[39m▄\u001b[39m▁\u001b[39m▁\u001b[39m▄\u001b[39m▁\u001b[39m▄\u001b[39m▆\u001b[39m▄\u001b[39m▁\u001b[39m▆\u001b[39m▁\u001b[39m▄\u001b[39m▁\u001b[39m▁\u001b[39m▄\u001b[39m▁\u001b[39m▁\u001b[39m▄\u001b[39m▁\u001b[39m▁\u001b[39m▁\u001b[39m▁\u001b[39m▁\u001b[39m▁\u001b[39m▁\u001b[39m▁\u001b[39m▁\u001b[39m▁\u001b[39m▄\u001b[39m▁\u001b[39m▁\u001b[39m▁\u001b[39m▄\u001b[39m▁\u001b[39m▁\u001b[39m▁\u001b[39m▁\u001b[39m▁\u001b[39m▁\u001b[39m▄\u001b[39m \u001b[39m▆\n",
       "  17.9 ms\u001b[90m       \u001b[39m\u001b[90mHistogram: \u001b[39m\u001b[90m\u001b[1mlog(\u001b[22m\u001b[39m\u001b[90mfrequency\u001b[39m\u001b[90m\u001b[1m)\u001b[22m\u001b[39m\u001b[90m by time\u001b[39m      24.7 ms \u001b[0m\u001b[1m<\u001b[22m\n",
       "\n",
       " Memory estimate\u001b[90m: \u001b[39m\u001b[33m0 bytes\u001b[39m, allocs estimate\u001b[90m: \u001b[39m\u001b[33m0\u001b[39m."
      ]
     },
     "metadata": {},
     "output_type": "display_data"
    }
   ],
   "source": [
    "# Бенчмарк для C-функции\n",
    "c_bench = @benchmark c_sum($a)\n",
    "println(\"C: Fastest time was $(minimum(c_bench.times) / 1e6) msec\")"
   ]
  },
  {
   "cell_type": "code",
   "execution_count": 60,
   "metadata": {},
   "outputs": [
    {
     "data": {
      "text/plain": [
       "BenchmarkTools.Trial: 924 samples with 1 evaluation per sample.\n",
       " Range \u001b[90m(\u001b[39m\u001b[36m\u001b[1mmin\u001b[22m\u001b[39m … \u001b[35mmax\u001b[39m\u001b[90m):  \u001b[39m\u001b[36m\u001b[1m4.816 ms\u001b[22m\u001b[39m … \u001b[35m39.036 ms\u001b[39m  \u001b[90m┊\u001b[39m GC \u001b[90m(\u001b[39mmin … max\u001b[90m): \u001b[39m0.00% … 0.00%\n",
       " Time  \u001b[90m(\u001b[39m\u001b[34m\u001b[1mmedian\u001b[22m\u001b[39m\u001b[90m):     \u001b[39m\u001b[34m\u001b[1m5.126 ms              \u001b[22m\u001b[39m\u001b[90m┊\u001b[39m GC \u001b[90m(\u001b[39mmedian\u001b[90m):    \u001b[39m0.00%\n",
       " Time  \u001b[90m(\u001b[39m\u001b[32m\u001b[1mmean\u001b[22m\u001b[39m ± \u001b[32mσ\u001b[39m\u001b[90m):   \u001b[39m\u001b[32m\u001b[1m5.397 ms\u001b[22m\u001b[39m ± \u001b[32m 1.575 ms\u001b[39m  \u001b[90m┊\u001b[39m GC \u001b[90m(\u001b[39mmean ± σ\u001b[90m):  \u001b[39m0.00% ± 0.00%\n",
       "\n",
       "  \u001b[39m \u001b[39m \u001b[39m \u001b[39m█\u001b[39m▇\u001b[39m▁\u001b[39m \u001b[39m \u001b[39m \u001b[34m \u001b[39m\u001b[39m \u001b[39m \u001b[39m \u001b[39m \u001b[39m \u001b[39m \u001b[39m \u001b[32m \u001b[39m\u001b[39m \u001b[39m \u001b[39m \u001b[39m \u001b[39m \u001b[39m \u001b[39m \u001b[39m \u001b[39m \u001b[39m \u001b[39m \u001b[39m \u001b[39m \u001b[39m \u001b[39m \u001b[39m \u001b[39m \u001b[39m \u001b[39m \u001b[39m \u001b[39m \u001b[39m \u001b[39m \u001b[39m \u001b[39m \u001b[39m \u001b[39m \u001b[39m \u001b[39m \u001b[39m \u001b[39m \u001b[39m \u001b[39m \u001b[39m \u001b[39m \u001b[39m \u001b[39m \u001b[39m \u001b[39m \u001b[39m \u001b[39m \u001b[39m \n",
       "  \u001b[39m▂\u001b[39m▁\u001b[39m▃\u001b[39m█\u001b[39m█\u001b[39m█\u001b[39m▄\u001b[39m▄\u001b[39m▃\u001b[34m▃\u001b[39m\u001b[39m▄\u001b[39m▄\u001b[39m▃\u001b[39m▄\u001b[39m▃\u001b[39m▃\u001b[39m▃\u001b[32m▃\u001b[39m\u001b[39m▃\u001b[39m▃\u001b[39m▄\u001b[39m▄\u001b[39m▃\u001b[39m▄\u001b[39m▄\u001b[39m▄\u001b[39m▃\u001b[39m▃\u001b[39m▃\u001b[39m▃\u001b[39m▃\u001b[39m▃\u001b[39m▃\u001b[39m▃\u001b[39m▂\u001b[39m▂\u001b[39m▃\u001b[39m▃\u001b[39m▃\u001b[39m▂\u001b[39m▃\u001b[39m▂\u001b[39m▂\u001b[39m▂\u001b[39m▂\u001b[39m▂\u001b[39m▂\u001b[39m▂\u001b[39m▁\u001b[39m▂\u001b[39m▂\u001b[39m▁\u001b[39m▂\u001b[39m▂\u001b[39m▂\u001b[39m▂\u001b[39m▂\u001b[39m▂\u001b[39m \u001b[39m▃\n",
       "  4.82 ms\u001b[90m        Histogram: frequency by time\u001b[39m        6.82 ms \u001b[0m\u001b[1m<\u001b[22m\n",
       "\n",
       " Memory estimate\u001b[90m: \u001b[39m\u001b[33m0 bytes\u001b[39m, allocs estimate\u001b[90m: \u001b[39m\u001b[33m0\u001b[39m."
      ]
     },
     "metadata": {},
     "output_type": "display_data"
    }
   ],
   "source": [
    "# Бенчмарк для встроенной функции Julia\n",
    "j_bench = @benchmark sum($a)"
   ]
  },
  {
   "cell_type": "markdown",
   "metadata": {},
   "source": [
    "📌 **Как ещё можем посмотреть результаты бенчмарка?**\n",
    "\n",
    "После выполнения кода можно вывести их в удобном виде:"
   ]
  },
  {
   "cell_type": "code",
   "execution_count": 58,
   "metadata": {},
   "outputs": [
    {
     "data": {
      "text/plain": [
       "BenchmarkTools.Trial: 264 samples with 1 evaluation per sample.\n",
       " Range \u001b[90m(\u001b[39m\u001b[36m\u001b[1mmin\u001b[22m\u001b[39m … \u001b[35mmax\u001b[39m\u001b[90m):  \u001b[39m\u001b[36m\u001b[1m17.916 ms\u001b[22m\u001b[39m … \u001b[35m104.224 ms\u001b[39m  \u001b[90m┊\u001b[39m GC \u001b[90m(\u001b[39mmin … max\u001b[90m): \u001b[39m0.00% … 0.00%\n",
       " Time  \u001b[90m(\u001b[39m\u001b[34m\u001b[1mmedian\u001b[22m\u001b[39m\u001b[90m):     \u001b[39m\u001b[34m\u001b[1m18.250 ms               \u001b[22m\u001b[39m\u001b[90m┊\u001b[39m GC \u001b[90m(\u001b[39mmedian\u001b[90m):    \u001b[39m0.00%\n",
       " Time  \u001b[90m(\u001b[39m\u001b[32m\u001b[1mmean\u001b[22m\u001b[39m ± \u001b[32mσ\u001b[39m\u001b[90m):   \u001b[39m\u001b[32m\u001b[1m18.964 ms\u001b[22m\u001b[39m ± \u001b[32m  5.416 ms\u001b[39m  \u001b[90m┊\u001b[39m GC \u001b[90m(\u001b[39mmean ± σ\u001b[90m):  \u001b[39m0.00% ± 0.00%\n",
       "\n",
       "  \u001b[39m▆\u001b[39m█\u001b[39m▆\u001b[34m▆\u001b[39m\u001b[39m▄\u001b[39m▃\u001b[39m▃\u001b[39m \u001b[39m▁\u001b[32m \u001b[39m\u001b[39m \u001b[39m \u001b[39m \u001b[39m \u001b[39m \u001b[39m \u001b[39m \u001b[39m \u001b[39m \u001b[39m \u001b[39m \u001b[39m \u001b[39m \u001b[39m \u001b[39m \u001b[39m \u001b[39m \u001b[39m \u001b[39m \u001b[39m \u001b[39m \u001b[39m \u001b[39m \u001b[39m \u001b[39m \u001b[39m \u001b[39m \u001b[39m \u001b[39m \u001b[39m \u001b[39m \u001b[39m \u001b[39m \u001b[39m \u001b[39m \u001b[39m \u001b[39m \u001b[39m \u001b[39m \u001b[39m \u001b[39m \u001b[39m \u001b[39m \u001b[39m \u001b[39m \u001b[39m \u001b[39m \u001b[39m \u001b[39m \u001b[39m \u001b[39m \u001b[39m \n",
       "  \u001b[39m█\u001b[39m█\u001b[39m█\u001b[34m█\u001b[39m\u001b[39m█\u001b[39m█\u001b[39m█\u001b[39m▇\u001b[39m█\u001b[32m▇\u001b[39m\u001b[39m▇\u001b[39m▇\u001b[39m▄\u001b[39m█\u001b[39m▇\u001b[39m▄\u001b[39m▇\u001b[39m▄\u001b[39m▄\u001b[39m▆\u001b[39m▄\u001b[39m▁\u001b[39m▁\u001b[39m▄\u001b[39m▁\u001b[39m▄\u001b[39m▆\u001b[39m▄\u001b[39m▁\u001b[39m▆\u001b[39m▁\u001b[39m▄\u001b[39m▁\u001b[39m▁\u001b[39m▄\u001b[39m▁\u001b[39m▁\u001b[39m▄\u001b[39m▁\u001b[39m▁\u001b[39m▁\u001b[39m▁\u001b[39m▁\u001b[39m▁\u001b[39m▁\u001b[39m▁\u001b[39m▁\u001b[39m▁\u001b[39m▄\u001b[39m▁\u001b[39m▁\u001b[39m▁\u001b[39m▄\u001b[39m▁\u001b[39m▁\u001b[39m▁\u001b[39m▁\u001b[39m▁\u001b[39m▁\u001b[39m▄\u001b[39m \u001b[39m▆\n",
       "  17.9 ms\u001b[90m       \u001b[39m\u001b[90mHistogram: \u001b[39m\u001b[90m\u001b[1mlog(\u001b[22m\u001b[39m\u001b[90mfrequency\u001b[39m\u001b[90m\u001b[1m)\u001b[22m\u001b[39m\u001b[90m by time\u001b[39m      24.7 ms \u001b[0m\u001b[1m<\u001b[22m\n",
       "\n",
       " Memory estimate\u001b[90m: \u001b[39m\u001b[33m0 bytes\u001b[39m, allocs estimate\u001b[90m: \u001b[39m\u001b[33m0\u001b[39m."
      ]
     },
     "metadata": {},
     "output_type": "display_data"
    },
    {
     "name": "stdout",
     "output_type": "stream",
     "text": [
      "Это C-функция\n"
     ]
    }
   ],
   "source": [
    "println(\"Это C-функция\")\n",
    "display(c_bench)  # Печатает подробный бенчмарк C-версии"
   ]
  },
  {
   "cell_type": "markdown",
   "metadata": {},
   "source": [
    "#### 📌 **Анализируем результаты бенчмарка: сравнение C и Julia.**\n",
    "\n",
    "Теперь, когда мы провели бенчмаркинг, можно вывести лучшее время выполнения для обеих реализаций:"
   ]
  },
  {
   "cell_type": "code",
   "execution_count": 83,
   "metadata": {},
   "outputs": [
    {
     "name": "stdout",
     "output_type": "stream",
     "text": [
      "C: Лучшее время составило 17.9162 мсек\n",
      "Julia 🔥: Лучшее время составило 4.8162 мсек \n"
     ]
    }
   ],
   "source": [
    "println(\"C: Лучшее время составило $(minimum(c_bench.times) / 1e6) мсек\")\n",
    "println(\"Julia 🔥: Лучшее время составило $(minimum(j_bench.times) / 1e6) мсек \")"
   ]
  },
  {
   "cell_type": "markdown",
   "metadata": {},
   "source": [
    "##### **🔹 Что мы делаем в этом коде?**\n",
    "\n",
    "1. **`minimum(c_bench.times)`**  \n",
    "   - Получаем **лучшее (наименьшее) время выполнения** среди всех запусков `c_sum(a)`.  \n",
    "   - Значение хранится в **наносекундах** (нс).  \n",
    "\n",
    "2. **Делим на `1e6`**, чтобы перевести **из наносекунд в миллисекунды (мс)**:\n",
    "   - `1e6` (или `10^6`) — это **количество наносекунд в одной миллисекунде**.  \n",
    "   - Например, если `minimum(c_bench.times) = 5_000_000`, то после деления на `1e6` получаем `5 мс`.  \n",
    "\n",
    "3. **Выводим результата в удобном нам виде**:\n",
    "   ```julia\n",
    "   println(\"C: Лучшее время составило 5.12 мсек\")\n",
    "   println(\"Julia: Лучшее время составило 4.89 мсек\")\n",
    "   ```\n",
    "   Теперь можно **сравнить, какой вариант быстрее** 🔥.\n"
   ]
  },
  {
   "cell_type": "markdown",
   "metadata": {},
   "source": [
    "<br>\n",
    "\n",
    "#### **📊 Визуализация результатов бенчмарка в Julia**  \n",
    "\n",
    "Теперь мы построим **гистограмму времени выполнения C-функции `c_sum(a)`**, чтобы лучше понять **разброс значений и стабильность вычислений**.  \n",
    "\n",
    "##### **🔹 Подключаем нужные библиотеки**  "
   ]
  },
  {
   "cell_type": "code",
   "execution_count": 84,
   "metadata": {},
   "outputs": [],
   "source": [
    "using Plots  # Подключаем библиотеку для построения графиков\n",
    "gr()         # Активируем бэкенд `GR` для графиков\n",
    "\n",
    "using Statistics  # Подключаем поддержку статистических вычислений"
   ]
  },
  {
   "cell_type": "markdown",
   "metadata": {},
   "source": [
    "- **`Plots.jl`** — библиотека для визуализации.\n",
    "    \n",
    "- **`gr()`** — выбираем `GR` как бэкенд для построения графиков (он быстрый и универсальный).  \n",
    "  \n",
    "- **`Statistics.jl`** — стандартная библиотека для вычисления статистик (например, стандартного отклонения).  "
   ]
  },
  {
   "cell_type": "markdown",
   "metadata": {},
   "source": [
    "##### **📌 Извлекаем данные для анализа**"
   ]
  },
  {
   "cell_type": "code",
   "execution_count": null,
   "metadata": {},
   "outputs": [],
   "source": [
    "t = c_bench.times / 1e6  # Переводим времена в миллисекунды\n",
    "m, σ = minimum(t), std(t)  # Находим минимальное время и стандартное отклонение"
   ]
  },
  {
   "cell_type": "markdown",
   "metadata": {},
   "source": [
    "- `c_bench.times` хранит **все измеренные времена выполнения в наносекундах**.  \n",
    "  \n",
    "- `t = c_bench.times / 1e6` — переводим времена из **наносекунд в миллисекунды** (`1e6 = 10^6`).  \n",
    "  \n",
    "- `minimum(t)` (`m`) — **самое быстрое время** выполнения C-функции.  \n",
    "  \n",
    "- `std(t)` (`σ`) — **стандартное отклонение**, показывающее, насколько результаты изменяются от среднего.\n",
    "    "
   ]
  },
  {
   "cell_type": "markdown",
   "metadata": {},
   "source": [
    "##### **📊 Строим гистограмму**"
   ]
  },
  {
   "cell_type": "code",
   "execution_count": 85,
   "metadata": {},
   "outputs": [
    {
     "data": {
      "image/png": "[encoded data removed]",
      "image/svg+xml": [
       "<?xml version=\"1.0\" encoding=\"utf-8\"?>\n",
       "<svg xmlns=\"http://www.w3.org/2000/svg\" xmlns:xlink=\"http://www.w3.org/1999/xlink\" width=\"600\" height=\"400\" viewBox=\"0 0 2400 1600\">\n",
       "<defs>\n",
       "  <clipPath id=\"clip570\">\n",
       "    <rect x=\"0\" y=\"0\" width=\"2400\" height=\"1600\"/>\n",
       "  </clipPath>\n",
       "</defs>\n",
       "<path clip-path=\"url(#clip570)\" d=\"M0 1600 L2400 1600 L2400 0 L0 0  Z\" fill=\"#ffffff\" fill-rule=\"evenodd\" fill-opacity=\"1\"/>\n",
       "<defs>\n",
       "  <clipPath id=\"clip571\">\n",
       "    <rect x=\"480\" y=\"0\" width=\"1681\" height=\"1600\"/>\n",
       "  </clipPath>\n",
       "</defs>\n",
       "<path clip-path=\"url(#clip570)\" d=\"M205.121 1423.18 L2352.76 1423.18 L2352.76 47.2441 L205.121 47.2441  Z\" fill=\"#ffffff\" fill-rule=\"evenodd\" fill-opacity=\"1\"/>\n",
       "<defs>\n",
       "  <clipPath id=\"clip572\">\n",
       "    <rect x=\"205\" y=\"47\" width=\"2149\" height=\"1377\"/>\n",
       "  </clipPath>\n",
       "</defs>\n",
       "<polyline clip-path=\"url(#clip572)\" style=\"stroke:#000000; stroke-linecap:round; stroke-linejoin:round; stroke-width:2; stroke-opacity:0.1; fill:none\" points=\"242.245,1423.18 242.245,47.2441 \"/>\n",
       "<polyline clip-path=\"url(#clip572)\" style=\"stroke:#000000; stroke-linecap:round; stroke-linejoin:round; stroke-width:2; stroke-opacity:0.1; fill:none\" points=\"638.022,1423.18 638.022,47.2441 \"/>\n",
       "<polyline clip-path=\"url(#clip572)\" style=\"stroke:#000000; stroke-linecap:round; stroke-linejoin:round; stroke-width:2; stroke-opacity:0.1; fill:none\" points=\"1033.8,1423.18 1033.8,47.2441 \"/>\n",
       "<polyline clip-path=\"url(#clip572)\" style=\"stroke:#000000; stroke-linecap:round; stroke-linejoin:round; stroke-width:2; stroke-opacity:0.1; fill:none\" points=\"1429.58,1423.18 1429.58,47.2441 \"/>\n",
       "<polyline clip-path=\"url(#clip572)\" style=\"stroke:#000000; stroke-linecap:round; stroke-linejoin:round; stroke-width:2; stroke-opacity:0.1; fill:none\" points=\"1825.35,1423.18 1825.35,47.2441 \"/>\n",
       "<polyline clip-path=\"url(#clip572)\" style=\"stroke:#000000; stroke-linecap:round; stroke-linejoin:round; stroke-width:2; stroke-opacity:0.1; fill:none\" points=\"2221.13,1423.18 2221.13,47.2441 \"/>\n",
       "<polyline clip-path=\"url(#clip572)\" style=\"stroke:#000000; stroke-linecap:round; stroke-linejoin:round; stroke-width:2; stroke-opacity:0.1; fill:none\" points=\"205.121,1423.18 2352.76,1423.18 \"/>\n",
       "<polyline clip-path=\"url(#clip572)\" style=\"stroke:#000000; stroke-linecap:round; stroke-linejoin:round; stroke-width:2; stroke-opacity:0.1; fill:none\" points=\"205.121,1145.21 2352.76,1145.21 \"/>\n",
       "<polyline clip-path=\"url(#clip572)\" style=\"stroke:#000000; stroke-linecap:round; stroke-linejoin:round; stroke-width:2; stroke-opacity:0.1; fill:none\" points=\"205.121,867.246 2352.76,867.246 \"/>\n",
       "<polyline clip-path=\"url(#clip572)\" style=\"stroke:#000000; stroke-linecap:round; stroke-linejoin:round; stroke-width:2; stroke-opacity:0.1; fill:none\" points=\"205.121,589.279 2352.76,589.279 \"/>\n",
       "<polyline clip-path=\"url(#clip572)\" style=\"stroke:#000000; stroke-linecap:round; stroke-linejoin:round; stroke-width:2; stroke-opacity:0.1; fill:none\" points=\"205.121,311.313 2352.76,311.313 \"/>\n",
       "<polyline clip-path=\"url(#clip570)\" style=\"stroke:#000000; stroke-linecap:round; stroke-linejoin:round; stroke-width:4; stroke-opacity:1; fill:none\" points=\"205.121,1423.18 2352.76,1423.18 \"/>\n",
       "<polyline clip-path=\"url(#clip570)\" style=\"stroke:#000000; stroke-linecap:round; stroke-linejoin:round; stroke-width:4; stroke-opacity:1; fill:none\" points=\"242.245,1423.18 242.245,1404.28 \"/>\n",
       "<polyline clip-path=\"url(#clip570)\" style=\"stroke:#000000; stroke-linecap:round; stroke-linejoin:round; stroke-width:4; stroke-opacity:1; fill:none\" points=\"638.022,1423.18 638.022,1404.28 \"/>\n",
       "<polyline clip-path=\"url(#clip570)\" style=\"stroke:#000000; stroke-linecap:round; stroke-linejoin:round; stroke-width:4; stroke-opacity:1; fill:none\" points=\"1033.8,1423.18 1033.8,1404.28 \"/>\n",
       "<polyline clip-path=\"url(#clip570)\" style=\"stroke:#000000; stroke-linecap:round; stroke-linejoin:round; stroke-width:4; stroke-opacity:1; fill:none\" points=\"1429.58,1423.18 1429.58,1404.28 \"/>\n",
       "<polyline clip-path=\"url(#clip570)\" style=\"stroke:#000000; stroke-linecap:round; stroke-linejoin:round; stroke-width:4; stroke-opacity:1; fill:none\" points=\"1825.35,1423.18 1825.35,1404.28 \"/>\n",
       "<polyline clip-path=\"url(#clip570)\" style=\"stroke:#000000; stroke-linecap:round; stroke-linejoin:round; stroke-width:4; stroke-opacity:1; fill:none\" points=\"2221.13,1423.18 2221.13,1404.28 \"/>\n",
       "<path clip-path=\"url(#clip570)\" d=\"M216.979 1481.64 L224.618 1481.64 L224.618 1455.28 L216.308 1456.95 L216.308 1452.69 L224.571 1451.02 L229.247 1451.02 L229.247 1481.64 L236.886 1481.64 L236.886 1485.58 L216.979 1485.58 L216.979 1481.64 Z\" fill=\"#000000\" fill-rule=\"nonzero\" fill-opacity=\"1\" /><path clip-path=\"url(#clip570)\" d=\"M256.33 1469.17 Q252.997 1469.17 251.076 1470.95 Q249.178 1472.73 249.178 1475.86 Q249.178 1478.98 251.076 1480.77 Q252.997 1482.55 256.33 1482.55 Q259.664 1482.55 261.585 1480.77 Q263.506 1478.96 263.506 1475.86 Q263.506 1472.73 261.585 1470.95 Q259.687 1469.17 256.33 1469.17 M251.655 1467.18 Q248.645 1466.44 246.955 1464.38 Q245.289 1462.32 245.289 1459.35 Q245.289 1455.21 248.229 1452.8 Q251.192 1450.39 256.33 1450.39 Q261.492 1450.39 264.432 1452.8 Q267.372 1455.21 267.372 1459.35 Q267.372 1462.32 265.682 1464.38 Q264.016 1466.44 261.029 1467.18 Q264.409 1467.96 266.284 1470.26 Q268.182 1472.55 268.182 1475.86 Q268.182 1480.88 265.104 1483.57 Q262.048 1486.25 256.33 1486.25 Q250.613 1486.25 247.534 1483.57 Q244.479 1480.88 244.479 1475.86 Q244.479 1472.55 246.377 1470.26 Q248.275 1467.96 251.655 1467.18 M249.942 1459.79 Q249.942 1462.48 251.608 1463.98 Q253.298 1465.49 256.33 1465.49 Q259.34 1465.49 261.029 1463.98 Q262.742 1462.48 262.742 1459.79 Q262.742 1457.11 261.029 1455.6 Q259.34 1454.1 256.33 1454.1 Q253.298 1454.1 251.608 1455.6 Q249.942 1457.11 249.942 1459.79 Z\" fill=\"#000000\" fill-rule=\"nonzero\" fill-opacity=\"1\" /><path clip-path=\"url(#clip570)\" d=\"M612.802 1481.64 L620.441 1481.64 L620.441 1455.28 L612.131 1456.95 L612.131 1452.69 L620.395 1451.02 L625.071 1451.02 L625.071 1481.64 L632.71 1481.64 L632.71 1485.58 L612.802 1485.58 L612.802 1481.64 Z\" fill=\"#000000\" fill-rule=\"nonzero\" fill-opacity=\"1\" /><path clip-path=\"url(#clip570)\" d=\"M642.293 1484.86 L642.293 1480.6 Q644.052 1481.44 645.858 1481.88 Q647.663 1482.32 649.399 1482.32 Q654.029 1482.32 656.459 1479.21 Q658.913 1476.09 659.26 1469.75 Q657.918 1471.74 655.858 1472.8 Q653.797 1473.87 651.297 1473.87 Q646.112 1473.87 643.08 1470.74 Q640.071 1467.59 640.071 1462.15 Q640.071 1456.83 643.219 1453.61 Q646.367 1450.39 651.598 1450.39 Q657.594 1450.39 660.742 1455 Q663.913 1459.58 663.913 1468.33 Q663.913 1476.51 660.024 1481.39 Q656.159 1486.25 649.608 1486.25 Q647.848 1486.25 646.043 1485.9 Q644.237 1485.56 642.293 1484.86 M651.598 1470.21 Q654.747 1470.21 656.575 1468.06 Q658.427 1465.9 658.427 1462.15 Q658.427 1458.43 656.575 1456.27 Q654.747 1454.1 651.598 1454.1 Q648.45 1454.1 646.598 1456.27 Q644.77 1458.43 644.77 1462.15 Q644.77 1465.9 646.598 1468.06 Q648.45 1470.21 651.598 1470.21 Z\" fill=\"#000000\" fill-rule=\"nonzero\" fill-opacity=\"1\" /><path clip-path=\"url(#clip570)\" d=\"M1012.57 1481.64 L1028.89 1481.64 L1028.89 1485.58 L1006.95 1485.58 L1006.95 1481.64 Q1009.61 1478.89 1014.19 1474.26 Q1018.8 1469.61 1019.98 1468.27 Q1022.23 1465.74 1023.1 1464.01 Q1024.01 1462.25 1024.01 1460.56 Q1024.01 1457.8 1022.06 1456.07 Q1020.14 1454.33 1017.04 1454.33 Q1014.84 1454.33 1012.39 1455.09 Q1009.96 1455.86 1007.18 1457.41 L1007.18 1452.69 Q1010 1451.55 1012.46 1450.97 Q1014.91 1450.39 1016.95 1450.39 Q1022.32 1450.39 1025.51 1453.08 Q1028.71 1455.77 1028.71 1460.26 Q1028.71 1462.39 1027.9 1464.31 Q1027.11 1466.2 1025 1468.8 Q1024.42 1469.47 1021.32 1472.69 Q1018.22 1475.88 1012.57 1481.64 Z\" fill=\"#000000\" fill-rule=\"nonzero\" fill-opacity=\"1\" /><path clip-path=\"url(#clip570)\" d=\"M1048.71 1454.1 Q1045.1 1454.1 1043.27 1457.66 Q1041.46 1461.2 1041.46 1468.33 Q1041.46 1475.44 1043.27 1479.01 Q1045.1 1482.55 1048.71 1482.55 Q1052.34 1482.55 1054.15 1479.01 Q1055.98 1475.44 1055.98 1468.33 Q1055.98 1461.2 1054.15 1457.66 Q1052.34 1454.1 1048.71 1454.1 M1048.71 1450.39 Q1054.52 1450.39 1057.57 1455 Q1060.65 1459.58 1060.65 1468.33 Q1060.65 1477.06 1057.57 1481.67 Q1054.52 1486.25 1048.71 1486.25 Q1042.9 1486.25 1039.82 1481.67 Q1036.76 1477.06 1036.76 1468.33 Q1036.76 1459.58 1039.82 1455 Q1042.9 1450.39 1048.71 1450.39 Z\" fill=\"#000000\" fill-rule=\"nonzero\" fill-opacity=\"1\" /><path clip-path=\"url(#clip570)\" d=\"M1408.96 1481.64 L1425.28 1481.64 L1425.28 1485.58 L1403.34 1485.58 L1403.34 1481.64 Q1406 1478.89 1410.58 1474.26 Q1415.19 1469.61 1416.37 1468.27 Q1418.62 1465.74 1419.5 1464.01 Q1420.4 1462.25 1420.4 1460.56 Q1420.4 1457.8 1418.45 1456.07 Q1416.53 1454.33 1413.43 1454.33 Q1411.23 1454.33 1408.78 1455.09 Q1406.35 1455.86 1403.57 1457.41 L1403.57 1452.69 Q1406.39 1451.55 1408.85 1450.97 Q1411.3 1450.39 1413.34 1450.39 Q1418.71 1450.39 1421.9 1453.08 Q1425.1 1455.77 1425.1 1460.26 Q1425.1 1462.39 1424.29 1464.31 Q1423.5 1466.2 1421.39 1468.8 Q1420.81 1469.47 1417.71 1472.69 Q1414.61 1475.88 1408.96 1481.64 Z\" fill=\"#000000\" fill-rule=\"nonzero\" fill-opacity=\"1\" /><path clip-path=\"url(#clip570)\" d=\"M1435.91 1481.64 L1443.55 1481.64 L1443.55 1455.28 L1435.24 1456.95 L1435.24 1452.69 L1443.5 1451.02 L1448.18 1451.02 L1448.18 1481.64 L1455.81 1481.64 L1455.81 1485.58 L1435.91 1485.58 L1435.91 1481.64 Z\" fill=\"#000000\" fill-rule=\"nonzero\" fill-opacity=\"1\" /><path clip-path=\"url(#clip570)\" d=\"M1804.93 1481.64 L1821.24 1481.64 L1821.24 1485.58 L1799.3 1485.58 L1799.3 1481.64 Q1801.96 1478.89 1806.55 1474.26 Q1811.15 1469.61 1812.33 1468.27 Q1814.58 1465.74 1815.46 1464.01 Q1816.36 1462.25 1816.36 1460.56 Q1816.36 1457.8 1814.42 1456.07 Q1812.49 1454.33 1809.39 1454.33 Q1807.19 1454.33 1804.74 1455.09 Q1802.31 1455.86 1799.53 1457.41 L1799.53 1452.69 Q1802.36 1451.55 1804.81 1450.97 Q1807.26 1450.39 1809.3 1450.39 Q1814.67 1450.39 1817.87 1453.08 Q1821.06 1455.77 1821.06 1460.26 Q1821.06 1462.39 1820.25 1464.31 Q1819.46 1466.2 1817.36 1468.8 Q1816.78 1469.47 1813.68 1472.69 Q1810.57 1475.88 1804.93 1481.64 Z\" fill=\"#000000\" fill-rule=\"nonzero\" fill-opacity=\"1\" /><path clip-path=\"url(#clip570)\" d=\"M1835.09 1481.64 L1851.41 1481.64 L1851.41 1485.58 L1829.46 1485.58 L1829.46 1481.64 Q1832.12 1478.89 1836.71 1474.26 Q1841.31 1469.61 1842.49 1468.27 Q1844.74 1465.74 1845.62 1464.01 Q1846.52 1462.25 1846.52 1460.56 Q1846.52 1457.8 1844.58 1456.07 Q1842.66 1454.33 1839.55 1454.33 Q1837.36 1454.33 1834.9 1455.09 Q1832.47 1455.86 1829.69 1457.41 L1829.69 1452.69 Q1832.52 1451.55 1834.97 1450.97 Q1837.43 1450.39 1839.46 1450.39 Q1844.83 1450.39 1848.03 1453.08 Q1851.22 1455.77 1851.22 1460.26 Q1851.22 1462.39 1850.41 1464.31 Q1849.62 1466.2 1847.52 1468.8 Q1846.94 1469.47 1843.84 1472.69 Q1840.74 1475.88 1835.09 1481.64 Z\" fill=\"#000000\" fill-rule=\"nonzero\" fill-opacity=\"1\" /><path clip-path=\"url(#clip570)\" d=\"M2200.23 1481.64 L2216.55 1481.64 L2216.55 1485.58 L2194.6 1485.58 L2194.6 1481.64 Q2197.27 1478.89 2201.85 1474.26 Q2206.45 1469.61 2207.64 1468.27 Q2209.88 1465.74 2210.76 1464.01 Q2211.66 1462.25 2211.66 1460.56 Q2211.66 1457.8 2209.72 1456.07 Q2207.8 1454.33 2204.7 1454.33 Q2202.5 1454.33 2200.04 1455.09 Q2197.61 1455.86 2194.83 1457.41 L2194.83 1452.69 Q2197.66 1451.55 2200.11 1450.97 Q2202.57 1450.39 2204.6 1450.39 Q2209.97 1450.39 2213.17 1453.08 Q2216.36 1455.77 2216.36 1460.26 Q2216.36 1462.39 2215.55 1464.31 Q2214.77 1466.2 2212.66 1468.8 Q2212.08 1469.47 2208.98 1472.69 Q2205.88 1475.88 2200.23 1481.64 Z\" fill=\"#000000\" fill-rule=\"nonzero\" fill-opacity=\"1\" /><path clip-path=\"url(#clip570)\" d=\"M2240.53 1466.95 Q2243.89 1467.66 2245.76 1469.93 Q2247.66 1472.2 2247.66 1475.53 Q2247.66 1480.65 2244.14 1483.45 Q2240.62 1486.25 2234.14 1486.25 Q2231.96 1486.25 2229.65 1485.81 Q2227.36 1485.39 2224.9 1484.54 L2224.9 1480.02 Q2226.85 1481.16 2229.16 1481.74 Q2231.48 1482.32 2234 1482.32 Q2238.4 1482.32 2240.69 1480.58 Q2243.01 1478.84 2243.01 1475.53 Q2243.01 1472.48 2240.85 1470.77 Q2238.72 1469.03 2234.9 1469.03 L2230.88 1469.03 L2230.88 1465.19 L2235.09 1465.19 Q2238.54 1465.19 2240.37 1463.82 Q2242.2 1462.43 2242.2 1459.84 Q2242.2 1457.18 2240.3 1455.77 Q2238.42 1454.33 2234.9 1454.33 Q2232.98 1454.33 2230.78 1454.75 Q2228.58 1455.16 2225.95 1456.04 L2225.95 1451.88 Q2228.61 1451.14 2230.92 1450.77 Q2233.26 1450.39 2235.32 1450.39 Q2240.64 1450.39 2243.75 1452.83 Q2246.85 1455.23 2246.85 1459.35 Q2246.85 1462.22 2245.2 1464.21 Q2243.56 1466.18 2240.53 1466.95 Z\" fill=\"#000000\" fill-rule=\"nonzero\" fill-opacity=\"1\" /><path clip-path=\"url(#clip570)\" d=\"M1110.28 1539.24 Q1112.48 1535.29 1115.53 1533.41 Q1118.59 1531.54 1122.72 1531.54 Q1128.29 1531.54 1131.32 1535.45 Q1134.34 1539.33 1134.34 1546.53 L1134.34 1568.04 L1128.45 1568.04 L1128.45 1546.72 Q1128.45 1541.59 1126.64 1539.11 Q1124.82 1536.63 1121.1 1536.63 Q1116.55 1536.63 1113.91 1539.65 Q1111.27 1542.68 1111.27 1547.9 L1111.27 1568.04 L1105.38 1568.04 L1105.38 1546.72 Q1105.38 1541.56 1103.56 1539.11 Q1101.75 1536.63 1097.96 1536.63 Q1093.47 1536.63 1090.83 1539.68 Q1088.19 1542.71 1088.19 1547.9 L1088.19 1568.04 L1082.3 1568.04 L1082.3 1532.4 L1088.19 1532.4 L1088.19 1537.93 Q1090.2 1534.66 1093 1533.1 Q1095.8 1531.54 1099.65 1531.54 Q1103.53 1531.54 1106.24 1533.51 Q1108.97 1535.48 1110.28 1539.24 Z\" fill=\"#000000\" fill-rule=\"nonzero\" fill-opacity=\"1\" /><path clip-path=\"url(#clip570)\" d=\"M1146.02 1532.4 L1151.88 1532.4 L1151.88 1568.04 L1146.02 1568.04 L1146.02 1532.4 M1146.02 1518.52 L1151.88 1518.52 L1151.88 1525.93 L1146.02 1525.93 L1146.02 1518.52 Z\" fill=\"#000000\" fill-rule=\"nonzero\" fill-opacity=\"1\" /><path clip-path=\"url(#clip570)\" d=\"M1164.13 1518.52 L1169.99 1518.52 L1169.99 1568.04 L1164.13 1568.04 L1164.13 1518.52 Z\" fill=\"#000000\" fill-rule=\"nonzero\" fill-opacity=\"1\" /><path clip-path=\"url(#clip570)\" d=\"M1182.24 1518.52 L1188.1 1518.52 L1188.1 1568.04 L1182.24 1568.04 L1182.24 1518.52 Z\" fill=\"#000000\" fill-rule=\"nonzero\" fill-opacity=\"1\" /><path clip-path=\"url(#clip570)\" d=\"M1200.35 1532.4 L1206.21 1532.4 L1206.21 1568.04 L1200.35 1568.04 L1200.35 1532.4 M1200.35 1518.52 L1206.21 1518.52 L1206.21 1525.93 L1200.35 1525.93 L1200.35 1518.52 Z\" fill=\"#000000\" fill-rule=\"nonzero\" fill-opacity=\"1\" /><path clip-path=\"url(#clip570)\" d=\"M1241.19 1533.45 L1241.19 1538.98 Q1238.71 1537.71 1236.03 1537.07 Q1233.36 1536.44 1230.5 1536.44 Q1226.13 1536.44 1223.94 1537.77 Q1221.77 1539.11 1221.77 1541.79 Q1221.77 1543.82 1223.33 1545 Q1224.89 1546.15 1229.6 1547.2 L1231.61 1547.64 Q1237.85 1548.98 1240.46 1551.43 Q1243.1 1553.85 1243.1 1558.21 Q1243.1 1563.17 1239.15 1566.07 Q1235.24 1568.97 1228.36 1568.97 Q1225.5 1568.97 1222.38 1568.39 Q1219.29 1567.85 1215.85 1566.74 L1215.85 1560.69 Q1219.1 1562.38 1222.25 1563.24 Q1225.4 1564.07 1228.49 1564.07 Q1232.63 1564.07 1234.86 1562.66 Q1237.08 1561.23 1237.08 1558.65 Q1237.08 1556.27 1235.46 1554.99 Q1233.87 1553.72 1228.43 1552.54 L1226.39 1552.07 Q1220.95 1550.92 1218.53 1548.56 Q1216.11 1546.18 1216.11 1542.04 Q1216.11 1537.01 1219.67 1534.27 Q1223.24 1531.54 1229.8 1531.54 Q1233.04 1531.54 1235.91 1532.01 Q1238.77 1532.49 1241.19 1533.45 Z\" fill=\"#000000\" fill-rule=\"nonzero\" fill-opacity=\"1\" /><path clip-path=\"url(#clip570)\" d=\"M1282.92 1548.76 L1282.92 1551.62 L1255.99 1551.62 Q1256.37 1557.67 1259.62 1560.85 Q1262.9 1564 1268.72 1564 Q1272.1 1564 1275.25 1563.17 Q1278.43 1562.35 1281.55 1560.69 L1281.55 1566.23 Q1278.4 1567.57 1275.09 1568.27 Q1271.78 1568.97 1268.37 1568.97 Q1259.84 1568.97 1254.84 1564 Q1249.88 1559.04 1249.88 1550.57 Q1249.88 1541.82 1254.59 1536.69 Q1259.33 1531.54 1267.35 1531.54 Q1274.55 1531.54 1278.72 1536.18 Q1282.92 1540.8 1282.92 1548.76 M1277.06 1547.04 Q1277 1542.23 1274.36 1539.37 Q1271.75 1536.5 1267.42 1536.5 Q1262.51 1536.5 1259.55 1539.27 Q1256.63 1542.04 1256.18 1547.07 L1277.06 1547.04 Z\" fill=\"#000000\" fill-rule=\"nonzero\" fill-opacity=\"1\" /><path clip-path=\"url(#clip570)\" d=\"M1318.18 1533.76 L1318.18 1539.24 Q1315.7 1537.87 1313.19 1537.2 Q1310.7 1536.5 1308.16 1536.5 Q1302.46 1536.5 1299.31 1540.13 Q1296.16 1543.73 1296.16 1550.25 Q1296.16 1556.78 1299.31 1560.4 Q1302.46 1564 1308.16 1564 Q1310.7 1564 1313.19 1563.33 Q1315.7 1562.63 1318.18 1561.26 L1318.18 1566.68 Q1315.73 1567.82 1313.09 1568.39 Q1310.48 1568.97 1307.52 1568.97 Q1299.47 1568.97 1294.73 1563.91 Q1289.98 1558.85 1289.98 1550.25 Q1289.98 1541.53 1294.76 1536.53 Q1299.56 1531.54 1307.9 1531.54 Q1310.61 1531.54 1313.19 1532.11 Q1315.76 1532.65 1318.18 1533.76 Z\" fill=\"#000000\" fill-rule=\"nonzero\" fill-opacity=\"1\" /><path clip-path=\"url(#clip570)\" d=\"M1342.18 1536.5 Q1337.47 1536.5 1334.73 1540.19 Q1332 1543.85 1332 1550.25 Q1332 1556.65 1334.7 1560.34 Q1337.44 1564 1342.18 1564 Q1346.86 1564 1349.6 1560.31 Q1352.34 1556.62 1352.34 1550.25 Q1352.34 1543.92 1349.6 1540.23 Q1346.86 1536.5 1342.18 1536.5 M1342.18 1531.54 Q1349.82 1531.54 1354.18 1536.5 Q1358.54 1541.47 1358.54 1550.25 Q1358.54 1559 1354.18 1564 Q1349.82 1568.97 1342.18 1568.97 Q1334.51 1568.97 1330.15 1564 Q1325.82 1559 1325.82 1550.25 Q1325.82 1541.47 1330.15 1536.5 Q1334.51 1531.54 1342.18 1531.54 Z\" fill=\"#000000\" fill-rule=\"nonzero\" fill-opacity=\"1\" /><path clip-path=\"url(#clip570)\" d=\"M1397.88 1546.53 L1397.88 1568.04 L1392.03 1568.04 L1392.03 1546.72 Q1392.03 1541.66 1390.05 1539.14 Q1388.08 1536.63 1384.13 1536.63 Q1379.39 1536.63 1376.65 1539.65 Q1373.91 1542.68 1373.91 1547.9 L1373.91 1568.04 L1368.03 1568.04 L1368.03 1532.4 L1373.91 1532.4 L1373.91 1537.93 Q1376.02 1534.72 1378.85 1533.13 Q1381.71 1531.54 1385.44 1531.54 Q1391.58 1531.54 1394.73 1535.36 Q1397.88 1539.14 1397.88 1546.53 Z\" fill=\"#000000\" fill-rule=\"nonzero\" fill-opacity=\"1\" /><path clip-path=\"url(#clip570)\" d=\"M1433.02 1537.81 L1433.02 1518.52 L1438.88 1518.52 L1438.88 1568.04 L1433.02 1568.04 L1433.02 1562.7 Q1431.17 1565.88 1428.34 1567.44 Q1425.54 1568.97 1421.59 1568.97 Q1415.13 1568.97 1411.06 1563.81 Q1407.02 1558.65 1407.02 1550.25 Q1407.02 1541.85 1411.06 1536.69 Q1415.13 1531.54 1421.59 1531.54 Q1425.54 1531.54 1428.34 1533.1 Q1431.17 1534.62 1433.02 1537.81 M1413.06 1550.25 Q1413.06 1556.71 1415.71 1560.4 Q1418.38 1564.07 1423.03 1564.07 Q1427.67 1564.07 1430.35 1560.4 Q1433.02 1556.71 1433.02 1550.25 Q1433.02 1543.79 1430.35 1540.13 Q1427.67 1536.44 1423.03 1536.44 Q1418.38 1536.44 1415.71 1540.13 Q1413.06 1543.79 1413.06 1550.25 Z\" fill=\"#000000\" fill-rule=\"nonzero\" fill-opacity=\"1\" /><path clip-path=\"url(#clip570)\" d=\"M1473.67 1533.45 L1473.67 1538.98 Q1471.18 1537.71 1468.51 1537.07 Q1465.84 1536.44 1462.97 1536.44 Q1458.61 1536.44 1456.41 1537.77 Q1454.25 1539.11 1454.25 1541.79 Q1454.25 1543.82 1455.81 1545 Q1457.37 1546.15 1462.08 1547.2 L1464.09 1547.64 Q1470.32 1548.98 1472.93 1551.43 Q1475.58 1553.85 1475.58 1558.21 Q1475.58 1563.17 1471.63 1566.07 Q1467.71 1568.97 1460.84 1568.97 Q1457.97 1568.97 1454.85 1568.39 Q1451.77 1567.85 1448.33 1566.74 L1448.33 1560.69 Q1451.58 1562.38 1454.73 1563.24 Q1457.88 1564.07 1460.97 1564.07 Q1465.1 1564.07 1467.33 1562.66 Q1469.56 1561.23 1469.56 1558.65 Q1469.56 1556.27 1467.94 1554.99 Q1466.34 1553.72 1460.9 1552.54 L1458.87 1552.07 Q1453.42 1550.92 1451 1548.56 Q1448.58 1546.18 1448.58 1542.04 Q1448.58 1537.01 1452.15 1534.27 Q1455.71 1531.54 1462.27 1531.54 Q1465.52 1531.54 1468.38 1532.01 Q1471.25 1532.49 1473.67 1533.45 Z\" fill=\"#000000\" fill-rule=\"nonzero\" fill-opacity=\"1\" /><polyline clip-path=\"url(#clip570)\" style=\"stroke:#000000; stroke-linecap:round; stroke-linejoin:round; stroke-width:4; stroke-opacity:1; fill:none\" points=\"205.121,1423.18 205.121,47.2441 \"/>\n",
       "<polyline clip-path=\"url(#clip570)\" style=\"stroke:#000000; stroke-linecap:round; stroke-linejoin:round; stroke-width:4; stroke-opacity:1; fill:none\" points=\"205.121,1423.18 224.019,1423.18 \"/>\n",
       "<polyline clip-path=\"url(#clip570)\" style=\"stroke:#000000; stroke-linecap:round; stroke-linejoin:round; stroke-width:4; stroke-opacity:1; fill:none\" points=\"205.121,1145.21 224.019,1145.21 \"/>\n",
       "<polyline clip-path=\"url(#clip570)\" style=\"stroke:#000000; stroke-linecap:round; stroke-linejoin:round; stroke-width:4; stroke-opacity:1; fill:none\" points=\"205.121,867.246 224.019,867.246 \"/>\n",
       "<polyline clip-path=\"url(#clip570)\" style=\"stroke:#000000; stroke-linecap:round; stroke-linejoin:round; stroke-width:4; stroke-opacity:1; fill:none\" points=\"205.121,589.279 224.019,589.279 \"/>\n",
       "<polyline clip-path=\"url(#clip570)\" style=\"stroke:#000000; stroke-linecap:round; stroke-linejoin:round; stroke-width:4; stroke-opacity:1; fill:none\" points=\"205.121,311.313 224.019,311.313 \"/>\n",
       "<path clip-path=\"url(#clip570)\" d=\"M157.177 1408.98 Q153.566 1408.98 151.737 1412.54 Q149.931 1416.08 149.931 1423.21 Q149.931 1430.32 151.737 1433.89 Q153.566 1437.43 157.177 1437.43 Q160.811 1437.43 162.616 1433.89 Q164.445 1430.32 164.445 1423.21 Q164.445 1416.08 162.616 1412.54 Q160.811 1408.98 157.177 1408.98 M157.177 1405.27 Q162.987 1405.27 166.042 1409.88 Q169.121 1414.46 169.121 1423.21 Q169.121 1431.94 166.042 1436.55 Q162.987 1441.13 157.177 1441.13 Q151.366 1441.13 148.288 1436.55 Q145.232 1431.94 145.232 1423.21 Q145.232 1414.46 148.288 1409.88 Q151.366 1405.27 157.177 1405.27 Z\" fill=\"#000000\" fill-rule=\"nonzero\" fill-opacity=\"1\" /><path clip-path=\"url(#clip570)\" d=\"M121.043 1158.56 L137.362 1158.56 L137.362 1162.49 L115.418 1162.49 L115.418 1158.56 Q118.08 1155.8 122.663 1151.17 Q127.269 1146.52 128.45 1145.18 Q130.695 1142.66 131.575 1140.92 Q132.478 1139.16 132.478 1137.47 Q132.478 1134.72 130.533 1132.98 Q128.612 1131.24 125.51 1131.24 Q123.311 1131.24 120.857 1132.01 Q118.427 1132.77 115.649 1134.32 L115.649 1129.6 Q118.473 1128.47 120.927 1127.89 Q123.38 1127.31 125.418 1127.31 Q130.788 1127.31 133.982 1129.99 Q137.177 1132.68 137.177 1137.17 Q137.177 1139.3 136.367 1141.22 Q135.579 1143.12 133.473 1145.71 Q132.894 1146.38 129.792 1149.6 Q126.691 1152.79 121.043 1158.56 Z\" fill=\"#000000\" fill-rule=\"nonzero\" fill-opacity=\"1\" /><path clip-path=\"url(#clip570)\" d=\"M157.177 1131.01 Q153.566 1131.01 151.737 1134.58 Q149.931 1138.12 149.931 1145.25 Q149.931 1152.35 151.737 1155.92 Q153.566 1159.46 157.177 1159.46 Q160.811 1159.46 162.616 1155.92 Q164.445 1152.35 164.445 1145.25 Q164.445 1138.12 162.616 1134.58 Q160.811 1131.01 157.177 1131.01 M157.177 1127.31 Q162.987 1127.31 166.042 1131.91 Q169.121 1136.5 169.121 1145.25 Q169.121 1153.97 166.042 1158.58 Q162.987 1163.16 157.177 1163.16 Q151.366 1163.16 148.288 1158.58 Q145.232 1153.97 145.232 1145.25 Q145.232 1136.5 148.288 1131.91 Q151.366 1127.31 157.177 1127.31 Z\" fill=\"#000000\" fill-rule=\"nonzero\" fill-opacity=\"1\" /><path clip-path=\"url(#clip570)\" d=\"M129.862 854.04 L118.056 872.489 L129.862 872.489 L129.862 854.04 M128.635 849.966 L134.515 849.966 L134.515 872.489 L139.445 872.489 L139.445 876.378 L134.515 876.378 L134.515 884.526 L129.862 884.526 L129.862 876.378 L114.26 876.378 L114.26 871.864 L128.635 849.966 Z\" fill=\"#000000\" fill-rule=\"nonzero\" fill-opacity=\"1\" /><path clip-path=\"url(#clip570)\" d=\"M157.177 853.045 Q153.566 853.045 151.737 856.61 Q149.931 860.151 149.931 867.281 Q149.931 874.387 151.737 877.952 Q153.566 881.494 157.177 881.494 Q160.811 881.494 162.616 877.952 Q164.445 874.387 164.445 867.281 Q164.445 860.151 162.616 856.61 Q160.811 853.045 157.177 853.045 M157.177 849.341 Q162.987 849.341 166.042 853.948 Q169.121 858.531 169.121 867.281 Q169.121 876.008 166.042 880.614 Q162.987 885.197 157.177 885.197 Q151.366 885.197 148.288 880.614 Q145.232 876.008 145.232 867.281 Q145.232 858.531 148.288 853.948 Q151.366 849.341 157.177 849.341 Z\" fill=\"#000000\" fill-rule=\"nonzero\" fill-opacity=\"1\" /><path clip-path=\"url(#clip570)\" d=\"M127.593 587.416 Q124.445 587.416 122.593 589.569 Q120.765 591.722 120.765 595.471 Q120.765 599.198 122.593 601.374 Q124.445 603.527 127.593 603.527 Q130.742 603.527 132.57 601.374 Q134.422 599.198 134.422 595.471 Q134.422 591.722 132.57 589.569 Q130.742 587.416 127.593 587.416 M136.876 572.763 L136.876 577.023 Q135.117 576.189 133.311 575.749 Q131.529 575.31 129.769 575.31 Q125.14 575.31 122.686 578.435 Q120.255 581.56 119.908 587.879 Q121.274 585.865 123.334 584.8 Q125.394 583.712 127.871 583.712 Q133.08 583.712 136.089 586.884 Q139.121 590.032 139.121 595.471 Q139.121 600.796 135.973 604.013 Q132.825 607.231 127.593 607.231 Q121.598 607.231 118.427 602.647 Q115.256 598.041 115.256 589.314 Q115.256 581.12 119.144 576.259 Q123.033 571.374 129.584 571.374 Q131.343 571.374 133.126 571.722 Q134.931 572.069 136.876 572.763 Z\" fill=\"#000000\" fill-rule=\"nonzero\" fill-opacity=\"1\" /><path clip-path=\"url(#clip570)\" d=\"M157.177 575.078 Q153.566 575.078 151.737 578.643 Q149.931 582.185 149.931 589.314 Q149.931 596.421 151.737 599.985 Q153.566 603.527 157.177 603.527 Q160.811 603.527 162.616 599.985 Q164.445 596.421 164.445 589.314 Q164.445 582.185 162.616 578.643 Q160.811 575.078 157.177 575.078 M157.177 571.374 Q162.987 571.374 166.042 575.981 Q169.121 580.564 169.121 589.314 Q169.121 598.041 166.042 602.647 Q162.987 607.231 157.177 607.231 Q151.366 607.231 148.288 602.647 Q145.232 598.041 145.232 589.314 Q145.232 580.564 148.288 575.981 Q151.366 571.374 157.177 571.374 Z\" fill=\"#000000\" fill-rule=\"nonzero\" fill-opacity=\"1\" /><path clip-path=\"url(#clip570)\" d=\"M127.015 312.181 Q123.681 312.181 121.76 313.963 Q119.862 315.745 119.862 318.87 Q119.862 321.995 121.76 323.778 Q123.681 325.56 127.015 325.56 Q130.348 325.56 132.269 323.778 Q134.191 321.972 134.191 318.87 Q134.191 315.745 132.269 313.963 Q130.371 312.181 127.015 312.181 M122.339 310.19 Q119.33 309.449 117.64 307.389 Q115.973 305.329 115.973 302.366 Q115.973 298.222 118.913 295.815 Q121.876 293.408 127.015 293.408 Q132.177 293.408 135.117 295.815 Q138.056 298.222 138.056 302.366 Q138.056 305.329 136.367 307.389 Q134.7 309.449 131.714 310.19 Q135.093 310.977 136.968 313.269 Q138.867 315.56 138.867 318.87 Q138.867 323.894 135.788 326.579 Q132.732 329.264 127.015 329.264 Q121.297 329.264 118.218 326.579 Q115.163 323.894 115.163 318.87 Q115.163 315.56 117.061 313.269 Q118.959 310.977 122.339 310.19 M120.626 302.806 Q120.626 305.491 122.293 306.995 Q123.982 308.5 127.015 308.5 Q130.024 308.5 131.714 306.995 Q133.427 305.491 133.427 302.806 Q133.427 300.121 131.714 298.616 Q130.024 297.111 127.015 297.111 Q123.982 297.111 122.293 298.616 Q120.626 300.121 120.626 302.806 Z\" fill=\"#000000\" fill-rule=\"nonzero\" fill-opacity=\"1\" /><path clip-path=\"url(#clip570)\" d=\"M157.177 297.111 Q153.566 297.111 151.737 300.676 Q149.931 304.218 149.931 311.347 Q149.931 318.454 151.737 322.019 Q153.566 325.56 157.177 325.56 Q160.811 325.56 162.616 322.019 Q164.445 318.454 164.445 311.347 Q164.445 304.218 162.616 300.676 Q160.811 297.111 157.177 297.111 M157.177 293.408 Q162.987 293.408 166.042 298.014 Q169.121 302.597 169.121 311.347 Q169.121 320.074 166.042 324.681 Q162.987 329.264 157.177 329.264 Q151.366 329.264 148.288 324.681 Q145.232 320.074 145.232 311.347 Q145.232 302.597 148.288 298.014 Q151.366 293.408 157.177 293.408 Z\" fill=\"#000000\" fill-rule=\"nonzero\" fill-opacity=\"1\" /><path clip-path=\"url(#clip570)\" d=\"M29.7248 796.386 L35.1993 796.386 Q33.8307 798.869 33.1623 801.383 Q32.4621 803.866 32.4621 806.412 Q32.4621 812.11 36.0905 815.261 Q39.6872 818.412 46.212 818.412 Q52.7369 818.412 56.3653 815.261 Q59.9619 812.11 59.9619 806.412 Q59.9619 803.866 59.2935 801.383 Q58.5933 798.869 57.2247 796.386 L62.6355 796.386 Q63.7814 798.837 64.3543 801.479 Q64.9272 804.089 64.9272 807.049 Q64.9272 815.102 59.8664 819.844 Q54.8057 824.586 46.212 824.586 Q37.491 824.586 32.4939 819.812 Q27.4968 815.006 27.4968 806.667 Q27.4968 803.962 28.0697 801.383 Q28.6108 798.805 29.7248 796.386 Z\" fill=\"#000000\" fill-rule=\"nonzero\" fill-opacity=\"1\" /><path clip-path=\"url(#clip570)\" d=\"M32.4621 772.388 Q32.4621 777.098 36.1542 779.836 Q39.8145 782.573 46.212 782.573 Q52.6095 782.573 56.3017 779.867 Q59.9619 777.13 59.9619 772.388 Q59.9619 767.709 56.2698 764.972 Q52.5777 762.234 46.212 762.234 Q39.8781 762.234 36.186 764.972 Q32.4621 767.709 32.4621 772.388 M27.4968 772.388 Q27.4968 764.749 32.4621 760.388 Q37.4273 756.028 46.212 756.028 Q54.9649 756.028 59.9619 760.388 Q64.9272 764.749 64.9272 772.388 Q64.9272 780.058 59.9619 784.419 Q54.9649 788.748 46.212 788.748 Q37.4273 788.748 32.4621 784.419 Q27.4968 780.058 27.4968 772.388 Z\" fill=\"#000000\" fill-rule=\"nonzero\" fill-opacity=\"1\" /><path clip-path=\"url(#clip570)\" d=\"M49.9359 746.925 L28.3562 746.925 L28.3562 741.068 L49.7131 741.068 Q54.7739 741.068 57.3202 739.095 Q59.8346 737.122 59.8346 733.175 Q59.8346 728.432 56.8109 725.695 Q53.7872 722.926 48.5673 722.926 L28.3562 722.926 L28.3562 717.07 L64.0042 717.07 L64.0042 722.926 L58.5296 722.926 Q61.7762 725.059 63.3676 727.891 Q64.9272 730.692 64.9272 734.416 Q64.9272 740.559 61.1078 743.742 Q57.2883 746.925 49.9359 746.925 M27.4968 732.188 L27.4968 732.188 Z\" fill=\"#000000\" fill-rule=\"nonzero\" fill-opacity=\"1\" /><path clip-path=\"url(#clip570)\" d=\"M42.4881 675.374 L64.0042 675.374 L64.0042 681.231 L42.679 681.231 Q37.6183 681.231 35.1038 683.204 Q32.5894 685.178 32.5894 689.124 Q32.5894 693.867 35.6131 696.604 Q38.6368 699.341 43.8567 699.341 L64.0042 699.341 L64.0042 705.229 L28.3562 705.229 L28.3562 699.341 L33.8944 699.341 Q30.6797 697.241 29.0883 694.408 Q27.4968 691.543 27.4968 687.819 Q27.4968 681.676 31.3163 678.525 Q35.1038 675.374 42.4881 675.374 Z\" fill=\"#000000\" fill-rule=\"nonzero\" fill-opacity=\"1\" /><path clip-path=\"url(#clip570)\" d=\"M18.2347 657.9 L28.3562 657.9 L28.3562 645.837 L32.9077 645.837 L32.9077 657.9 L52.2594 657.9 Q56.6199 657.9 57.8613 656.723 Q59.1026 655.513 59.1026 651.853 L59.1026 645.837 L64.0042 645.837 L64.0042 651.853 Q64.0042 658.633 61.4897 661.211 Q58.9434 663.789 52.2594 663.789 L32.9077 663.789 L32.9077 668.086 L28.3562 668.086 L28.3562 663.789 L18.2347 663.789 L18.2347 657.9 Z\" fill=\"#000000\" fill-rule=\"nonzero\" fill-opacity=\"1\" /><path clip-path=\"url(#clip572)\" d=\"M163.089 1200.81 L163.089 1423.18 L242.245 1423.18 L242.245 1200.81 L163.089 1200.81 L163.089 1200.81  Z\" fill=\"#009af9\" fill-rule=\"evenodd\" fill-opacity=\"1\"/>\n",
       "<polyline clip-path=\"url(#clip572)\" style=\"stroke:#000000; stroke-linecap:round; stroke-linejoin:round; stroke-width:4; stroke-opacity:1; fill:none\" points=\"163.089,1200.81 163.089,1423.18 242.245,1423.18 242.245,1200.81 163.089,1200.81 \"/>\n",
       "<path clip-path=\"url(#clip572)\" d=\"M242.245 47.2441 L242.245 1423.18 L321.4 1423.18 L321.4 47.2441 L242.245 47.2441 L242.245 47.2441  Z\" fill=\"#009af9\" fill-rule=\"evenodd\" fill-opacity=\"1\"/>\n",
       "<polyline clip-path=\"url(#clip572)\" style=\"stroke:#000000; stroke-linecap:round; stroke-linejoin:round; stroke-width:4; stroke-opacity:1; fill:none\" points=\"242.245,47.2441 242.245,1423.18 321.4,1423.18 321.4,47.2441 242.245,47.2441 \"/>\n",
       "<path clip-path=\"url(#clip572)\" d=\"M321.4 700.466 L321.4 1423.18 L400.556 1423.18 L400.556 700.466 L321.4 700.466 L321.4 700.466  Z\" fill=\"#009af9\" fill-rule=\"evenodd\" fill-opacity=\"1\"/>\n",
       "<polyline clip-path=\"url(#clip572)\" style=\"stroke:#000000; stroke-linecap:round; stroke-linejoin:round; stroke-width:4; stroke-opacity:1; fill:none\" points=\"321.4,700.466 321.4,1423.18 400.556,1423.18 400.556,700.466 321.4,700.466 \"/>\n",
       "<path clip-path=\"url(#clip572)\" d=\"M400.556 1047.92 L400.556 1423.18 L479.711 1423.18 L479.711 1047.92 L400.556 1047.92 L400.556 1047.92  Z\" fill=\"#009af9\" fill-rule=\"evenodd\" fill-opacity=\"1\"/>\n",
       "<polyline clip-path=\"url(#clip572)\" style=\"stroke:#000000; stroke-linecap:round; stroke-linejoin:round; stroke-width:4; stroke-opacity:1; fill:none\" points=\"400.556,1047.92 400.556,1423.18 479.711,1423.18 479.711,1047.92 400.556,1047.92 \"/>\n",
       "<path clip-path=\"url(#clip572)\" d=\"M479.711 1200.81 L479.711 1423.18 L558.867 1423.18 L558.867 1200.81 L479.711 1200.81 L479.711 1200.81  Z\" fill=\"#009af9\" fill-rule=\"evenodd\" fill-opacity=\"1\"/>\n",
       "<polyline clip-path=\"url(#clip572)\" style=\"stroke:#000000; stroke-linecap:round; stroke-linejoin:round; stroke-width:4; stroke-opacity:1; fill:none\" points=\"479.711,1200.81 479.711,1423.18 558.867,1423.18 558.867,1200.81 479.711,1200.81 \"/>\n",
       "<path clip-path=\"url(#clip572)\" d=\"M558.867 1284.2 L558.867 1423.18 L638.022 1423.18 L638.022 1284.2 L558.867 1284.2 L558.867 1284.2  Z\" fill=\"#009af9\" fill-rule=\"evenodd\" fill-opacity=\"1\"/>\n",
       "<polyline clip-path=\"url(#clip572)\" style=\"stroke:#000000; stroke-linecap:round; stroke-linejoin:round; stroke-width:4; stroke-opacity:1; fill:none\" points=\"558.867,1284.2 558.867,1423.18 638.022,1423.18 638.022,1284.2 558.867,1284.2 \"/>\n",
       "<path clip-path=\"url(#clip572)\" d=\"M638.022 1311.99 L638.022 1423.18 L717.178 1423.18 L717.178 1311.99 L638.022 1311.99 L638.022 1311.99  Z\" fill=\"#009af9\" fill-rule=\"evenodd\" fill-opacity=\"1\"/>\n",
       "<polyline clip-path=\"url(#clip572)\" style=\"stroke:#000000; stroke-linecap:round; stroke-linejoin:round; stroke-width:4; stroke-opacity:1; fill:none\" points=\"638.022,1311.99 638.022,1423.18 717.178,1423.18 717.178,1311.99 638.022,1311.99 \"/>\n",
       "<path clip-path=\"url(#clip572)\" d=\"M717.178 1395.38 L717.178 1423.18 L796.333 1423.18 L796.333 1395.38 L717.178 1395.38 L717.178 1395.38  Z\" fill=\"#009af9\" fill-rule=\"evenodd\" fill-opacity=\"1\"/>\n",
       "<polyline clip-path=\"url(#clip572)\" style=\"stroke:#000000; stroke-linecap:round; stroke-linejoin:round; stroke-width:4; stroke-opacity:1; fill:none\" points=\"717.178,1395.38 717.178,1423.18 796.333,1423.18 796.333,1395.38 717.178,1395.38 \"/>\n",
       "<path clip-path=\"url(#clip572)\" d=\"M796.333 1325.89 L796.333 1423.18 L875.488 1423.18 L875.488 1325.89 L796.333 1325.89 L796.333 1325.89  Z\" fill=\"#009af9\" fill-rule=\"evenodd\" fill-opacity=\"1\"/>\n",
       "<polyline clip-path=\"url(#clip572)\" style=\"stroke:#000000; stroke-linecap:round; stroke-linejoin:round; stroke-width:4; stroke-opacity:1; fill:none\" points=\"796.333,1325.89 796.333,1423.18 875.488,1423.18 875.488,1325.89 796.333,1325.89 \"/>\n",
       "<path clip-path=\"url(#clip572)\" d=\"M875.488 1367.59 L875.488 1423.18 L954.644 1423.18 L954.644 1367.59 L875.488 1367.59 L875.488 1367.59  Z\" fill=\"#009af9\" fill-rule=\"evenodd\" fill-opacity=\"1\"/>\n",
       "<polyline clip-path=\"url(#clip572)\" style=\"stroke:#000000; stroke-linecap:round; stroke-linejoin:round; stroke-width:4; stroke-opacity:1; fill:none\" points=\"875.488,1367.59 875.488,1423.18 954.644,1423.18 954.644,1367.59 875.488,1367.59 \"/>\n",
       "<path clip-path=\"url(#clip572)\" d=\"M954.644 1381.48 L954.644 1423.18 L1033.8 1423.18 L1033.8 1381.48 L954.644 1381.48 L954.644 1381.48  Z\" fill=\"#009af9\" fill-rule=\"evenodd\" fill-opacity=\"1\"/>\n",
       "<polyline clip-path=\"url(#clip572)\" style=\"stroke:#000000; stroke-linecap:round; stroke-linejoin:round; stroke-width:4; stroke-opacity:1; fill:none\" points=\"954.644,1381.48 954.644,1423.18 1033.8,1423.18 1033.8,1381.48 954.644,1381.48 \"/>\n",
       "<path clip-path=\"url(#clip572)\" d=\"M1033.8 1381.48 L1033.8 1423.18 L1112.95 1423.18 L1112.95 1381.48 L1033.8 1381.48 L1033.8 1381.48  Z\" fill=\"#009af9\" fill-rule=\"evenodd\" fill-opacity=\"1\"/>\n",
       "<polyline clip-path=\"url(#clip572)\" style=\"stroke:#000000; stroke-linecap:round; stroke-linejoin:round; stroke-width:4; stroke-opacity:1; fill:none\" points=\"1033.8,1381.48 1033.8,1423.18 1112.95,1423.18 1112.95,1381.48 1033.8,1381.48 \"/>\n",
       "<path clip-path=\"url(#clip572)\" d=\"M1112.95 1409.28 L1112.95 1423.18 L1192.11 1423.18 L1192.11 1409.28 L1112.95 1409.28 L1112.95 1409.28  Z\" fill=\"#009af9\" fill-rule=\"evenodd\" fill-opacity=\"1\"/>\n",
       "<polyline clip-path=\"url(#clip572)\" style=\"stroke:#000000; stroke-linecap:round; stroke-linejoin:round; stroke-width:4; stroke-opacity:1; fill:none\" points=\"1112.95,1409.28 1112.95,1423.18 1192.11,1423.18 1192.11,1409.28 1112.95,1409.28 \"/>\n",
       "<path clip-path=\"url(#clip572)\" d=\"M1192.11 1409.28 L1192.11 1423.18 L1271.27 1423.18 L1271.27 1409.28 L1192.11 1409.28 L1192.11 1409.28  Z\" fill=\"#009af9\" fill-rule=\"evenodd\" fill-opacity=\"1\"/>\n",
       "<polyline clip-path=\"url(#clip572)\" style=\"stroke:#000000; stroke-linecap:round; stroke-linejoin:round; stroke-width:4; stroke-opacity:1; fill:none\" points=\"1192.11,1409.28 1192.11,1423.18 1271.27,1423.18 1271.27,1409.28 1192.11,1409.28 \"/>\n",
       "<path clip-path=\"url(#clip572)\" d=\"M1271.27 1409.28 L1271.27 1423.18 L1350.42 1423.18 L1350.42 1409.28 L1271.27 1409.28 L1271.27 1409.28  Z\" fill=\"#009af9\" fill-rule=\"evenodd\" fill-opacity=\"1\"/>\n",
       "<polyline clip-path=\"url(#clip572)\" style=\"stroke:#000000; stroke-linecap:round; stroke-linejoin:round; stroke-width:4; stroke-opacity:1; fill:none\" points=\"1271.27,1409.28 1271.27,1423.18 1350.42,1423.18 1350.42,1409.28 1271.27,1409.28 \"/>\n",
       "<path clip-path=\"url(#clip572)\" d=\"M1350.42 1381.48 L1350.42 1423.18 L1429.58 1423.18 L1429.58 1381.48 L1350.42 1381.48 L1350.42 1381.48  Z\" fill=\"#009af9\" fill-rule=\"evenodd\" fill-opacity=\"1\"/>\n",
       "<polyline clip-path=\"url(#clip572)\" style=\"stroke:#000000; stroke-linecap:round; stroke-linejoin:round; stroke-width:4; stroke-opacity:1; fill:none\" points=\"1350.42,1381.48 1350.42,1423.18 1429.58,1423.18 1429.58,1381.48 1350.42,1381.48 \"/>\n",
       "<path clip-path=\"url(#clip572)\" d=\"M1429.58 1423.18 L1429.58 1423.18 L1508.73 1423.18 L1508.73 1423.18 L1429.58 1423.18 L1429.58 1423.18  Z\" fill=\"#009af9\" fill-rule=\"evenodd\" fill-opacity=\"1\"/>\n",
       "<polyline clip-path=\"url(#clip572)\" style=\"stroke:#000000; stroke-linecap:round; stroke-linejoin:round; stroke-width:4; stroke-opacity:1; fill:none\" points=\"1429.58,1423.18 1429.58,1423.18 1508.73,1423.18 1429.58,1423.18 \"/>\n",
       "<path clip-path=\"url(#clip572)\" d=\"M1508.73 1395.38 L1508.73 1423.18 L1587.89 1423.18 L1587.89 1395.38 L1508.73 1395.38 L1508.73 1395.38  Z\" fill=\"#009af9\" fill-rule=\"evenodd\" fill-opacity=\"1\"/>\n",
       "<polyline clip-path=\"url(#clip572)\" style=\"stroke:#000000; stroke-linecap:round; stroke-linejoin:round; stroke-width:4; stroke-opacity:1; fill:none\" points=\"1508.73,1395.38 1508.73,1423.18 1587.89,1423.18 1587.89,1395.38 1508.73,1395.38 \"/>\n",
       "<path clip-path=\"url(#clip572)\" d=\"M1587.89 1409.28 L1587.89 1423.18 L1667.04 1423.18 L1667.04 1409.28 L1587.89 1409.28 L1587.89 1409.28  Z\" fill=\"#009af9\" fill-rule=\"evenodd\" fill-opacity=\"1\"/>\n",
       "<polyline clip-path=\"url(#clip572)\" style=\"stroke:#000000; stroke-linecap:round; stroke-linejoin:round; stroke-width:4; stroke-opacity:1; fill:none\" points=\"1587.89,1409.28 1587.89,1423.18 1667.04,1423.18 1667.04,1409.28 1587.89,1409.28 \"/>\n",
       "<path clip-path=\"url(#clip572)\" d=\"M1667.04 1423.18 L1667.04 1423.18 L1746.2 1423.18 L1746.2 1423.18 L1667.04 1423.18 L1667.04 1423.18  Z\" fill=\"#009af9\" fill-rule=\"evenodd\" fill-opacity=\"1\"/>\n",
       "<polyline clip-path=\"url(#clip572)\" style=\"stroke:#000000; stroke-linecap:round; stroke-linejoin:round; stroke-width:4; stroke-opacity:1; fill:none\" points=\"1667.04,1423.18 1667.04,1423.18 1746.2,1423.18 1667.04,1423.18 \"/>\n",
       "<path clip-path=\"url(#clip572)\" d=\"M1746.2 1409.28 L1746.2 1423.18 L1825.35 1423.18 L1825.35 1409.28 L1746.2 1409.28 L1746.2 1409.28  Z\" fill=\"#009af9\" fill-rule=\"evenodd\" fill-opacity=\"1\"/>\n",
       "<polyline clip-path=\"url(#clip572)\" style=\"stroke:#000000; stroke-linecap:round; stroke-linejoin:round; stroke-width:4; stroke-opacity:1; fill:none\" points=\"1746.2,1409.28 1746.2,1423.18 1825.35,1423.18 1825.35,1409.28 1746.2,1409.28 \"/>\n",
       "<path clip-path=\"url(#clip572)\" d=\"M1825.35 1409.28 L1825.35 1423.18 L1904.51 1423.18 L1904.51 1409.28 L1825.35 1409.28 L1825.35 1409.28  Z\" fill=\"#009af9\" fill-rule=\"evenodd\" fill-opacity=\"1\"/>\n",
       "<polyline clip-path=\"url(#clip572)\" style=\"stroke:#000000; stroke-linecap:round; stroke-linejoin:round; stroke-width:4; stroke-opacity:1; fill:none\" points=\"1825.35,1409.28 1825.35,1423.18 1904.51,1423.18 1904.51,1409.28 1825.35,1409.28 \"/>\n",
       "<path clip-path=\"url(#clip572)\" d=\"M1904.51 1423.18 L1904.51 1423.18 L1983.66 1423.18 L1983.66 1423.18 L1904.51 1423.18 L1904.51 1423.18  Z\" fill=\"#009af9\" fill-rule=\"evenodd\" fill-opacity=\"1\"/>\n",
       "<polyline clip-path=\"url(#clip572)\" style=\"stroke:#000000; stroke-linecap:round; stroke-linejoin:round; stroke-width:4; stroke-opacity:1; fill:none\" points=\"1904.51,1423.18 1904.51,1423.18 1983.66,1423.18 1904.51,1423.18 \"/>\n",
       "<path clip-path=\"url(#clip572)\" d=\"M1983.66 1423.18 L1983.66 1423.18 L2062.82 1423.18 L2062.82 1423.18 L1983.66 1423.18 L1983.66 1423.18  Z\" fill=\"#009af9\" fill-rule=\"evenodd\" fill-opacity=\"1\"/>\n",
       "<polyline clip-path=\"url(#clip572)\" style=\"stroke:#000000; stroke-linecap:round; stroke-linejoin:round; stroke-width:4; stroke-opacity:1; fill:none\" points=\"1983.66,1423.18 1983.66,1423.18 2062.82,1423.18 1983.66,1423.18 \"/>\n",
       "<path clip-path=\"url(#clip572)\" d=\"M2062.82 1423.18 L2062.82 1423.18 L2141.98 1423.18 L2141.98 1423.18 L2062.82 1423.18 L2062.82 1423.18  Z\" fill=\"#009af9\" fill-rule=\"evenodd\" fill-opacity=\"1\"/>\n",
       "<polyline clip-path=\"url(#clip572)\" style=\"stroke:#000000; stroke-linecap:round; stroke-linejoin:round; stroke-width:4; stroke-opacity:1; fill:none\" points=\"2062.82,1423.18 2062.82,1423.18 2141.98,1423.18 2062.82,1423.18 \"/>\n",
       "<path clip-path=\"url(#clip572)\" d=\"M2141.98 1423.18 L2141.98 1423.18 L2221.13 1423.18 L2221.13 1423.18 L2141.98 1423.18 L2141.98 1423.18  Z\" fill=\"#009af9\" fill-rule=\"evenodd\" fill-opacity=\"1\"/>\n",
       "<polyline clip-path=\"url(#clip572)\" style=\"stroke:#000000; stroke-linecap:round; stroke-linejoin:round; stroke-width:4; stroke-opacity:1; fill:none\" points=\"2141.98,1423.18 2141.98,1423.18 2221.13,1423.18 2141.98,1423.18 \"/>\n",
       "<path clip-path=\"url(#clip572)\" d=\"M2221.13 1423.18 L2221.13 1423.18 L2300.29 1423.18 L2300.29 1423.18 L2221.13 1423.18 L2221.13 1423.18  Z\" fill=\"#009af9\" fill-rule=\"evenodd\" fill-opacity=\"1\"/>\n",
       "<polyline clip-path=\"url(#clip572)\" style=\"stroke:#000000; stroke-linecap:round; stroke-linejoin:round; stroke-width:4; stroke-opacity:1; fill:none\" points=\"2221.13,1423.18 2221.13,1423.18 2300.29,1423.18 2221.13,1423.18 \"/>\n",
       "<path clip-path=\"url(#clip572)\" d=\"M2300.29 1423.18 L2300.29 1423.18 L2379.44 1423.18 L2379.44 1423.18 L2300.29 1423.18 L2300.29 1423.18  Z\" fill=\"#009af9\" fill-rule=\"evenodd\" fill-opacity=\"1\"/>\n",
       "<polyline clip-path=\"url(#clip572)\" style=\"stroke:#000000; stroke-linecap:round; stroke-linejoin:round; stroke-width:4; stroke-opacity:1; fill:none\" points=\"2300.29,1423.18 2300.29,1423.18 2379.44,1423.18 2300.29,1423.18 \"/>\n",
       "<path clip-path=\"url(#clip572)\" d=\"M2379.44 1409.28 L2379.44 1423.18 L2458.6 1423.18 L2458.6 1409.28 L2379.44 1409.28 L2379.44 1409.28  Z\" fill=\"#009af9\" fill-rule=\"evenodd\" fill-opacity=\"1\"/>\n",
       "<polyline clip-path=\"url(#clip572)\" style=\"stroke:#000000; stroke-linecap:round; stroke-linejoin:round; stroke-width:4; stroke-opacity:1; fill:none\" points=\"2379.44,1409.28 2379.44,1423.18 2458.6,1423.18 2458.6,1409.28 2379.44,1409.28 \"/>\n",
       "<path clip-path=\"url(#clip572)\" d=\"M2458.6 1423.18 L2458.6 1423.18 L2537.75 1423.18 L2537.75 1423.18 L2458.6 1423.18 L2458.6 1423.18  Z\" fill=\"#009af9\" fill-rule=\"evenodd\" fill-opacity=\"1\"/>\n",
       "<polyline clip-path=\"url(#clip572)\" style=\"stroke:#000000; stroke-linecap:round; stroke-linejoin:round; stroke-width:4; stroke-opacity:1; fill:none\" points=\"2458.6,1423.18 2458.6,1423.18 2537.75,1423.18 2458.6,1423.18 \"/>\n",
       "<path clip-path=\"url(#clip572)\" d=\"M2537.75 1409.28 L2537.75 1423.18 L2616.91 1423.18 L2616.91 1409.28 L2537.75 1409.28 L2537.75 1409.28  Z\" fill=\"#009af9\" fill-rule=\"evenodd\" fill-opacity=\"1\"/>\n",
       "<polyline clip-path=\"url(#clip572)\" style=\"stroke:#000000; stroke-linecap:round; stroke-linejoin:round; stroke-width:4; stroke-opacity:1; fill:none\" points=\"2537.75,1409.28 2537.75,1423.18 2616.91,1423.18 2616.91,1409.28 2537.75,1409.28 \"/>\n",
       "<path clip-path=\"url(#clip572)\" d=\"M2616.91 1423.18 L2616.91 1423.18 L2696.06 1423.18 L2696.06 1423.18 L2616.91 1423.18 L2616.91 1423.18  Z\" fill=\"#009af9\" fill-rule=\"evenodd\" fill-opacity=\"1\"/>\n",
       "<polyline clip-path=\"url(#clip572)\" style=\"stroke:#000000; stroke-linecap:round; stroke-linejoin:round; stroke-width:4; stroke-opacity:1; fill:none\" points=\"2616.91,1423.18 2616.91,1423.18 2696.06,1423.18 2616.91,1423.18 \"/>\n",
       "<path clip-path=\"url(#clip572)\" d=\"M2696.06 1423.18 L2696.06 1423.18 L2775.22 1423.18 L2775.22 1423.18 L2696.06 1423.18 L2696.06 1423.18  Z\" fill=\"#009af9\" fill-rule=\"evenodd\" fill-opacity=\"1\"/>\n",
       "<polyline clip-path=\"url(#clip572)\" style=\"stroke:#000000; stroke-linecap:round; stroke-linejoin:round; stroke-width:4; stroke-opacity:1; fill:none\" points=\"2696.06,1423.18 2696.06,1423.18 2775.22,1423.18 2696.06,1423.18 \"/>\n",
       "<path clip-path=\"url(#clip572)\" d=\"M2775.22 1423.18 L2775.22 1423.18 L2854.37 1423.18 L2854.37 1423.18 L2775.22 1423.18 L2775.22 1423.18  Z\" fill=\"#009af9\" fill-rule=\"evenodd\" fill-opacity=\"1\"/>\n",
       "<polyline clip-path=\"url(#clip572)\" style=\"stroke:#000000; stroke-linecap:round; stroke-linejoin:round; stroke-width:4; stroke-opacity:1; fill:none\" points=\"2775.22,1423.18 2775.22,1423.18 2854.37,1423.18 2775.22,1423.18 \"/>\n",
       "<path clip-path=\"url(#clip572)\" d=\"M2854.37 1409.28 L2854.37 1423.18 L2933.53 1423.18 L2933.53 1409.28 L2854.37 1409.28 L2854.37 1409.28  Z\" fill=\"#009af9\" fill-rule=\"evenodd\" fill-opacity=\"1\"/>\n",
       "<polyline clip-path=\"url(#clip572)\" style=\"stroke:#000000; stroke-linecap:round; stroke-linejoin:round; stroke-width:4; stroke-opacity:1; fill:none\" points=\"2854.37,1409.28 2854.37,1423.18 2933.53,1423.18 2933.53,1409.28 2854.37,1409.28 \"/>\n",
       "<path clip-path=\"url(#clip572)\" d=\"M2933.53 1423.18 L2933.53 1423.18 L3012.69 1423.18 L3012.69 1423.18 L2933.53 1423.18 L2933.53 1423.18  Z\" fill=\"#009af9\" fill-rule=\"evenodd\" fill-opacity=\"1\"/>\n",
       "<polyline clip-path=\"url(#clip572)\" style=\"stroke:#000000; stroke-linecap:round; stroke-linejoin:round; stroke-width:4; stroke-opacity:1; fill:none\" points=\"2933.53,1423.18 2933.53,1423.18 3012.69,1423.18 2933.53,1423.18 \"/>\n",
       "<path clip-path=\"url(#clip572)\" d=\"M3012.69 1423.18 L3012.69 1423.18 L3091.84 1423.18 L3091.84 1423.18 L3012.69 1423.18 L3012.69 1423.18  Z\" fill=\"#009af9\" fill-rule=\"evenodd\" fill-opacity=\"1\"/>\n",
       "<polyline clip-path=\"url(#clip572)\" style=\"stroke:#000000; stroke-linecap:round; stroke-linejoin:round; stroke-width:4; stroke-opacity:1; fill:none\" points=\"3012.69,1423.18 3012.69,1423.18 3091.84,1423.18 3012.69,1423.18 \"/>\n",
       "<path clip-path=\"url(#clip572)\" d=\"M3091.84 1423.18 L3091.84 1423.18 L3171 1423.18 L3171 1423.18 L3091.84 1423.18 L3091.84 1423.18  Z\" fill=\"#009af9\" fill-rule=\"evenodd\" fill-opacity=\"1\"/>\n",
       "<polyline clip-path=\"url(#clip572)\" style=\"stroke:#000000; stroke-linecap:round; stroke-linejoin:round; stroke-width:4; stroke-opacity:1; fill:none\" points=\"3091.84,1423.18 3091.84,1423.18 3171,1423.18 3091.84,1423.18 \"/>\n",
       "<path clip-path=\"url(#clip572)\" d=\"M3171 1423.18 L3171 1423.18 L3250.15 1423.18 L3250.15 1423.18 L3171 1423.18 L3171 1423.18  Z\" fill=\"#009af9\" fill-rule=\"evenodd\" fill-opacity=\"1\"/>\n",
       "<polyline clip-path=\"url(#clip572)\" style=\"stroke:#000000; stroke-linecap:round; stroke-linejoin:round; stroke-width:4; stroke-opacity:1; fill:none\" points=\"3171,1423.18 3171,1423.18 3250.15,1423.18 3171,1423.18 \"/>\n",
       "<path clip-path=\"url(#clip572)\" d=\"M3250.15 1423.18 L3250.15 1423.18 L3329.31 1423.18 L3329.31 1423.18 L3250.15 1423.18 L3250.15 1423.18  Z\" fill=\"#009af9\" fill-rule=\"evenodd\" fill-opacity=\"1\"/>\n",
       "<polyline clip-path=\"url(#clip572)\" style=\"stroke:#000000; stroke-linecap:round; stroke-linejoin:round; stroke-width:4; stroke-opacity:1; fill:none\" points=\"3250.15,1423.18 3250.15,1423.18 3329.31,1423.18 3250.15,1423.18 \"/>\n",
       "<path clip-path=\"url(#clip572)\" d=\"M3329.31 1423.18 L3329.31 1423.18 L3408.46 1423.18 L3408.46 1423.18 L3329.31 1423.18 L3329.31 1423.18  Z\" fill=\"#009af9\" fill-rule=\"evenodd\" fill-opacity=\"1\"/>\n",
       "<polyline clip-path=\"url(#clip572)\" style=\"stroke:#000000; stroke-linecap:round; stroke-linejoin:round; stroke-width:4; stroke-opacity:1; fill:none\" points=\"3329.31,1423.18 3329.31,1423.18 3408.46,1423.18 3329.31,1423.18 \"/>\n",
       "<path clip-path=\"url(#clip572)\" d=\"M3408.46 1423.18 L3408.46 1423.18 L3487.62 1423.18 L3487.62 1423.18 L3408.46 1423.18 L3408.46 1423.18  Z\" fill=\"#009af9\" fill-rule=\"evenodd\" fill-opacity=\"1\"/>\n",
       "<polyline clip-path=\"url(#clip572)\" style=\"stroke:#000000; stroke-linecap:round; stroke-linejoin:round; stroke-width:4; stroke-opacity:1; fill:none\" points=\"3408.46,1423.18 3408.46,1423.18 3487.62,1423.18 3408.46,1423.18 \"/>\n",
       "<path clip-path=\"url(#clip572)\" d=\"M3487.62 1423.18 L3487.62 1423.18 L3566.77 1423.18 L3566.77 1423.18 L3487.62 1423.18 L3487.62 1423.18  Z\" fill=\"#009af9\" fill-rule=\"evenodd\" fill-opacity=\"1\"/>\n",
       "<polyline clip-path=\"url(#clip572)\" style=\"stroke:#000000; stroke-linecap:round; stroke-linejoin:round; stroke-width:4; stroke-opacity:1; fill:none\" points=\"3487.62,1423.18 3487.62,1423.18 3566.77,1423.18 3487.62,1423.18 \"/>\n",
       "<path clip-path=\"url(#clip572)\" d=\"M3566.77 1423.18 L3566.77 1423.18 L3645.93 1423.18 L3645.93 1423.18 L3566.77 1423.18 L3566.77 1423.18  Z\" fill=\"#009af9\" fill-rule=\"evenodd\" fill-opacity=\"1\"/>\n",
       "<polyline clip-path=\"url(#clip572)\" style=\"stroke:#000000; stroke-linecap:round; stroke-linejoin:round; stroke-width:4; stroke-opacity:1; fill:none\" points=\"3566.77,1423.18 3566.77,1423.18 3645.93,1423.18 3566.77,1423.18 \"/>\n",
       "<path clip-path=\"url(#clip572)\" d=\"M3645.93 1409.28 L3645.93 1423.18 L3725.08 1423.18 L3725.08 1409.28 L3645.93 1409.28 L3645.93 1409.28  Z\" fill=\"#009af9\" fill-rule=\"evenodd\" fill-opacity=\"1\"/>\n",
       "<polyline clip-path=\"url(#clip572)\" style=\"stroke:#000000; stroke-linecap:round; stroke-linejoin:round; stroke-width:4; stroke-opacity:1; fill:none\" points=\"3645.93,1409.28 3645.93,1423.18 3725.08,1423.18 3725.08,1409.28 3645.93,1409.28 \"/>\n",
       "<path clip-path=\"url(#clip572)\" d=\"M3725.08 1423.18 L3725.08 1423.18 L3804.24 1423.18 L3804.24 1423.18 L3725.08 1423.18 L3725.08 1423.18  Z\" fill=\"#009af9\" fill-rule=\"evenodd\" fill-opacity=\"1\"/>\n",
       "<polyline clip-path=\"url(#clip572)\" style=\"stroke:#000000; stroke-linecap:round; stroke-linejoin:round; stroke-width:4; stroke-opacity:1; fill:none\" points=\"3725.08,1423.18 3725.08,1423.18 3804.24,1423.18 3725.08,1423.18 \"/>\n",
       "<path clip-path=\"url(#clip572)\" d=\"M3804.24 1423.18 L3804.24 1423.18 L3883.4 1423.18 L3883.4 1423.18 L3804.24 1423.18 L3804.24 1423.18  Z\" fill=\"#009af9\" fill-rule=\"evenodd\" fill-opacity=\"1\"/>\n",
       "<polyline clip-path=\"url(#clip572)\" style=\"stroke:#000000; stroke-linecap:round; stroke-linejoin:round; stroke-width:4; stroke-opacity:1; fill:none\" points=\"3804.24,1423.18 3804.24,1423.18 3883.4,1423.18 3804.24,1423.18 \"/>\n",
       "<path clip-path=\"url(#clip572)\" d=\"M3883.4 1423.18 L3883.4 1423.18 L3962.55 1423.18 L3962.55 1423.18 L3883.4 1423.18 L3883.4 1423.18  Z\" fill=\"#009af9\" fill-rule=\"evenodd\" fill-opacity=\"1\"/>\n",
       "<polyline clip-path=\"url(#clip572)\" style=\"stroke:#000000; stroke-linecap:round; stroke-linejoin:round; stroke-width:4; stroke-opacity:1; fill:none\" points=\"3883.4,1423.18 3883.4,1423.18 3962.55,1423.18 3883.4,1423.18 \"/>\n",
       "<path clip-path=\"url(#clip572)\" d=\"M3962.55 1423.18 L3962.55 1423.18 L4041.71 1423.18 L4041.71 1423.18 L3962.55 1423.18 L3962.55 1423.18  Z\" fill=\"#009af9\" fill-rule=\"evenodd\" fill-opacity=\"1\"/>\n",
       "<polyline clip-path=\"url(#clip572)\" style=\"stroke:#000000; stroke-linecap:round; stroke-linejoin:round; stroke-width:4; stroke-opacity:1; fill:none\" points=\"3962.55,1423.18 3962.55,1423.18 4041.71,1423.18 3962.55,1423.18 \"/>\n",
       "<path clip-path=\"url(#clip572)\" d=\"M4041.71 1423.18 L4041.71 1423.18 L4120.86 1423.18 L4120.86 1423.18 L4041.71 1423.18 L4041.71 1423.18  Z\" fill=\"#009af9\" fill-rule=\"evenodd\" fill-opacity=\"1\"/>\n",
       "<polyline clip-path=\"url(#clip572)\" style=\"stroke:#000000; stroke-linecap:round; stroke-linejoin:round; stroke-width:4; stroke-opacity:1; fill:none\" points=\"4041.71,1423.18 4041.71,1423.18 4120.86,1423.18 4041.71,1423.18 \"/>\n",
       "<path clip-path=\"url(#clip572)\" d=\"M4120.86 1423.18 L4120.86 1423.18 L4200.02 1423.18 L4200.02 1423.18 L4120.86 1423.18 L4120.86 1423.18  Z\" fill=\"#009af9\" fill-rule=\"evenodd\" fill-opacity=\"1\"/>\n",
       "<polyline clip-path=\"url(#clip572)\" style=\"stroke:#000000; stroke-linecap:round; stroke-linejoin:round; stroke-width:4; stroke-opacity:1; fill:none\" points=\"4120.86,1423.18 4120.86,1423.18 4200.02,1423.18 4120.86,1423.18 \"/>\n",
       "<path clip-path=\"url(#clip572)\" d=\"M4200.02 1423.18 L4200.02 1423.18 L4279.17 1423.18 L4279.17 1423.18 L4200.02 1423.18 L4200.02 1423.18  Z\" fill=\"#009af9\" fill-rule=\"evenodd\" fill-opacity=\"1\"/>\n",
       "<polyline clip-path=\"url(#clip572)\" style=\"stroke:#000000; stroke-linecap:round; stroke-linejoin:round; stroke-width:4; stroke-opacity:1; fill:none\" points=\"4200.02,1423.18 4200.02,1423.18 4279.17,1423.18 4200.02,1423.18 \"/>\n",
       "<path clip-path=\"url(#clip572)\" d=\"M4279.17 1423.18 L4279.17 1423.18 L4358.33 1423.18 L4358.33 1423.18 L4279.17 1423.18 L4279.17 1423.18  Z\" fill=\"#009af9\" fill-rule=\"evenodd\" fill-opacity=\"1\"/>\n",
       "<polyline clip-path=\"url(#clip572)\" style=\"stroke:#000000; stroke-linecap:round; stroke-linejoin:round; stroke-width:4; stroke-opacity:1; fill:none\" points=\"4279.17,1423.18 4279.17,1423.18 4358.33,1423.18 4279.17,1423.18 \"/>\n",
       "<path clip-path=\"url(#clip572)\" d=\"M4358.33 1423.18 L4358.33 1423.18 L4437.48 1423.18 L4437.48 1423.18 L4358.33 1423.18 L4358.33 1423.18  Z\" fill=\"#009af9\" fill-rule=\"evenodd\" fill-opacity=\"1\"/>\n",
       "<polyline clip-path=\"url(#clip572)\" style=\"stroke:#000000; stroke-linecap:round; stroke-linejoin:round; stroke-width:4; stroke-opacity:1; fill:none\" points=\"4358.33,1423.18 4358.33,1423.18 4437.48,1423.18 4358.33,1423.18 \"/>\n",
       "<path clip-path=\"url(#clip572)\" d=\"M4437.48 1423.18 L4437.48 1423.18 L4516.64 1423.18 L4516.64 1423.18 L4437.48 1423.18 L4437.48 1423.18  Z\" fill=\"#009af9\" fill-rule=\"evenodd\" fill-opacity=\"1\"/>\n",
       "<polyline clip-path=\"url(#clip572)\" style=\"stroke:#000000; stroke-linecap:round; stroke-linejoin:round; stroke-width:4; stroke-opacity:1; fill:none\" points=\"4437.48,1423.18 4437.48,1423.18 4516.64,1423.18 4437.48,1423.18 \"/>\n",
       "<path clip-path=\"url(#clip572)\" d=\"M4516.64 1423.18 L4516.64 1423.18 L4595.79 1423.18 L4595.79 1423.18 L4516.64 1423.18 L4516.64 1423.18  Z\" fill=\"#009af9\" fill-rule=\"evenodd\" fill-opacity=\"1\"/>\n",
       "<polyline clip-path=\"url(#clip572)\" style=\"stroke:#000000; stroke-linecap:round; stroke-linejoin:round; stroke-width:4; stroke-opacity:1; fill:none\" points=\"4516.64,1423.18 4516.64,1423.18 4595.79,1423.18 4516.64,1423.18 \"/>\n",
       "<path clip-path=\"url(#clip572)\" d=\"M4595.79 1423.18 L4595.79 1423.18 L4674.95 1423.18 L4674.95 1423.18 L4595.79 1423.18 L4595.79 1423.18  Z\" fill=\"#009af9\" fill-rule=\"evenodd\" fill-opacity=\"1\"/>\n",
       "<polyline clip-path=\"url(#clip572)\" style=\"stroke:#000000; stroke-linecap:round; stroke-linejoin:round; stroke-width:4; stroke-opacity:1; fill:none\" points=\"4595.79,1423.18 4595.79,1423.18 4674.95,1423.18 4595.79,1423.18 \"/>\n",
       "<path clip-path=\"url(#clip572)\" d=\"M4674.95 1423.18 L4674.95 1423.18 L4754.1 1423.18 L4754.1 1423.18 L4674.95 1423.18 L4674.95 1423.18  Z\" fill=\"#009af9\" fill-rule=\"evenodd\" fill-opacity=\"1\"/>\n",
       "<polyline clip-path=\"url(#clip572)\" style=\"stroke:#000000; stroke-linecap:round; stroke-linejoin:round; stroke-width:4; stroke-opacity:1; fill:none\" points=\"4674.95,1423.18 4674.95,1423.18 4754.1,1423.18 4674.95,1423.18 \"/>\n",
       "<path clip-path=\"url(#clip572)\" d=\"M4754.1 1423.18 L4754.1 1423.18 L4833.26 1423.18 L4833.26 1423.18 L4754.1 1423.18 L4754.1 1423.18  Z\" fill=\"#009af9\" fill-rule=\"evenodd\" fill-opacity=\"1\"/>\n",
       "<polyline clip-path=\"url(#clip572)\" style=\"stroke:#000000; stroke-linecap:round; stroke-linejoin:round; stroke-width:4; stroke-opacity:1; fill:none\" points=\"4754.1,1423.18 4754.1,1423.18 4833.26,1423.18 4754.1,1423.18 \"/>\n",
       "<path clip-path=\"url(#clip572)\" d=\"M4833.26 1423.18 L4833.26 1423.18 L4912.42 1423.18 L4912.42 1423.18 L4833.26 1423.18 L4833.26 1423.18  Z\" fill=\"#009af9\" fill-rule=\"evenodd\" fill-opacity=\"1\"/>\n",
       "<polyline clip-path=\"url(#clip572)\" style=\"stroke:#000000; stroke-linecap:round; stroke-linejoin:round; stroke-width:4; stroke-opacity:1; fill:none\" points=\"4833.26,1423.18 4833.26,1423.18 4912.42,1423.18 4833.26,1423.18 \"/>\n",
       "<path clip-path=\"url(#clip572)\" d=\"M4912.42 1409.28 L4912.42 1423.18 L4991.57 1423.18 L4991.57 1409.28 L4912.42 1409.28 L4912.42 1409.28  Z\" fill=\"#009af9\" fill-rule=\"evenodd\" fill-opacity=\"1\"/>\n",
       "<polyline clip-path=\"url(#clip572)\" style=\"stroke:#000000; stroke-linecap:round; stroke-linejoin:round; stroke-width:4; stroke-opacity:1; fill:none\" points=\"4912.42,1409.28 4912.42,1423.18 4991.57,1423.18 4991.57,1409.28 4912.42,1409.28 \"/>\n",
       "<path clip-path=\"url(#clip572)\" d=\"M4991.57 1423.18 L4991.57 1423.18 L5070.73 1423.18 L5070.73 1423.18 L4991.57 1423.18 L4991.57 1423.18  Z\" fill=\"#009af9\" fill-rule=\"evenodd\" fill-opacity=\"1\"/>\n",
       "<polyline clip-path=\"url(#clip572)\" style=\"stroke:#000000; stroke-linecap:round; stroke-linejoin:round; stroke-width:4; stroke-opacity:1; fill:none\" points=\"4991.57,1423.18 4991.57,1423.18 5070.73,1423.18 4991.57,1423.18 \"/>\n",
       "<path clip-path=\"url(#clip572)\" d=\"M5070.73 1423.18 L5070.73 1423.18 L5149.88 1423.18 L5149.88 1423.18 L5070.73 1423.18 L5070.73 1423.18  Z\" fill=\"#009af9\" fill-rule=\"evenodd\" fill-opacity=\"1\"/>\n",
       "<polyline clip-path=\"url(#clip572)\" style=\"stroke:#000000; stroke-linecap:round; stroke-linejoin:round; stroke-width:4; stroke-opacity:1; fill:none\" points=\"5070.73,1423.18 5070.73,1423.18 5149.88,1423.18 5070.73,1423.18 \"/>\n",
       "<path clip-path=\"url(#clip572)\" d=\"M5149.88 1423.18 L5149.88 1423.18 L5229.04 1423.18 L5229.04 1423.18 L5149.88 1423.18 L5149.88 1423.18  Z\" fill=\"#009af9\" fill-rule=\"evenodd\" fill-opacity=\"1\"/>\n",
       "<polyline clip-path=\"url(#clip572)\" style=\"stroke:#000000; stroke-linecap:round; stroke-linejoin:round; stroke-width:4; stroke-opacity:1; fill:none\" points=\"5149.88,1423.18 5149.88,1423.18 5229.04,1423.18 5149.88,1423.18 \"/>\n",
       "<path clip-path=\"url(#clip572)\" d=\"M5229.04 1423.18 L5229.04 1423.18 L5308.19 1423.18 L5308.19 1423.18 L5229.04 1423.18 L5229.04 1423.18  Z\" fill=\"#009af9\" fill-rule=\"evenodd\" fill-opacity=\"1\"/>\n",
       "<polyline clip-path=\"url(#clip572)\" style=\"stroke:#000000; stroke-linecap:round; stroke-linejoin:round; stroke-width:4; stroke-opacity:1; fill:none\" points=\"5229.04,1423.18 5229.04,1423.18 5308.19,1423.18 5229.04,1423.18 \"/>\n",
       "<path clip-path=\"url(#clip572)\" d=\"M5308.19 1423.18 L5308.19 1423.18 L5387.35 1423.18 L5387.35 1423.18 L5308.19 1423.18 L5308.19 1423.18  Z\" fill=\"#009af9\" fill-rule=\"evenodd\" fill-opacity=\"1\"/>\n",
       "<polyline clip-path=\"url(#clip572)\" style=\"stroke:#000000; stroke-linecap:round; stroke-linejoin:round; stroke-width:4; stroke-opacity:1; fill:none\" points=\"5308.19,1423.18 5308.19,1423.18 5387.35,1423.18 5308.19,1423.18 \"/>\n",
       "<path clip-path=\"url(#clip572)\" d=\"M5387.35 1423.18 L5387.35 1423.18 L5466.5 1423.18 L5466.5 1423.18 L5387.35 1423.18 L5387.35 1423.18  Z\" fill=\"#009af9\" fill-rule=\"evenodd\" fill-opacity=\"1\"/>\n",
       "<polyline clip-path=\"url(#clip572)\" style=\"stroke:#000000; stroke-linecap:round; stroke-linejoin:round; stroke-width:4; stroke-opacity:1; fill:none\" points=\"5387.35,1423.18 5387.35,1423.18 5466.5,1423.18 5387.35,1423.18 \"/>\n",
       "<path clip-path=\"url(#clip572)\" d=\"M5466.5 1423.18 L5466.5 1423.18 L5545.66 1423.18 L5545.66 1423.18 L5466.5 1423.18 L5466.5 1423.18  Z\" fill=\"#009af9\" fill-rule=\"evenodd\" fill-opacity=\"1\"/>\n",
       "<polyline clip-path=\"url(#clip572)\" style=\"stroke:#000000; stroke-linecap:round; stroke-linejoin:round; stroke-width:4; stroke-opacity:1; fill:none\" points=\"5466.5,1423.18 5466.5,1423.18 5545.66,1423.18 5466.5,1423.18 \"/>\n",
       "<path clip-path=\"url(#clip572)\" d=\"M5545.66 1423.18 L5545.66 1423.18 L5624.81 1423.18 L5624.81 1423.18 L5545.66 1423.18 L5545.66 1423.18  Z\" fill=\"#009af9\" fill-rule=\"evenodd\" fill-opacity=\"1\"/>\n",
       "<polyline clip-path=\"url(#clip572)\" style=\"stroke:#000000; stroke-linecap:round; stroke-linejoin:round; stroke-width:4; stroke-opacity:1; fill:none\" points=\"5545.66,1423.18 5545.66,1423.18 5624.81,1423.18 5545.66,1423.18 \"/>\n",
       "<path clip-path=\"url(#clip572)\" d=\"M5624.81 1423.18 L5624.81 1423.18 L5703.97 1423.18 L5703.97 1423.18 L5624.81 1423.18 L5624.81 1423.18  Z\" fill=\"#009af9\" fill-rule=\"evenodd\" fill-opacity=\"1\"/>\n",
       "<polyline clip-path=\"url(#clip572)\" style=\"stroke:#000000; stroke-linecap:round; stroke-linejoin:round; stroke-width:4; stroke-opacity:1; fill:none\" points=\"5624.81,1423.18 5624.81,1423.18 5703.97,1423.18 5624.81,1423.18 \"/>\n",
       "<path clip-path=\"url(#clip572)\" d=\"M5703.97 1423.18 L5703.97 1423.18 L5783.13 1423.18 L5783.13 1423.18 L5703.97 1423.18 L5703.97 1423.18  Z\" fill=\"#009af9\" fill-rule=\"evenodd\" fill-opacity=\"1\"/>\n",
       "<polyline clip-path=\"url(#clip572)\" style=\"stroke:#000000; stroke-linecap:round; stroke-linejoin:round; stroke-width:4; stroke-opacity:1; fill:none\" points=\"5703.97,1423.18 5703.97,1423.18 5783.13,1423.18 5703.97,1423.18 \"/>\n",
       "<path clip-path=\"url(#clip572)\" d=\"M5783.13 1423.18 L5783.13 1423.18 L5862.28 1423.18 L5862.28 1423.18 L5783.13 1423.18 L5783.13 1423.18  Z\" fill=\"#009af9\" fill-rule=\"evenodd\" fill-opacity=\"1\"/>\n",
       "<polyline clip-path=\"url(#clip572)\" style=\"stroke:#000000; stroke-linecap:round; stroke-linejoin:round; stroke-width:4; stroke-opacity:1; fill:none\" points=\"5783.13,1423.18 5783.13,1423.18 5862.28,1423.18 5783.13,1423.18 \"/>\n",
       "<path clip-path=\"url(#clip572)\" d=\"M5862.28 1423.18 L5862.28 1423.18 L5941.44 1423.18 L5941.44 1423.18 L5862.28 1423.18 L5862.28 1423.18  Z\" fill=\"#009af9\" fill-rule=\"evenodd\" fill-opacity=\"1\"/>\n",
       "<polyline clip-path=\"url(#clip572)\" style=\"stroke:#000000; stroke-linecap:round; stroke-linejoin:round; stroke-width:4; stroke-opacity:1; fill:none\" points=\"5862.28,1423.18 5862.28,1423.18 5941.44,1423.18 5862.28,1423.18 \"/>\n",
       "<path clip-path=\"url(#clip572)\" d=\"M5941.44 1423.18 L5941.44 1423.18 L6020.59 1423.18 L6020.59 1423.18 L5941.44 1423.18 L5941.44 1423.18  Z\" fill=\"#009af9\" fill-rule=\"evenodd\" fill-opacity=\"1\"/>\n",
       "<polyline clip-path=\"url(#clip572)\" style=\"stroke:#000000; stroke-linecap:round; stroke-linejoin:round; stroke-width:4; stroke-opacity:1; fill:none\" points=\"5941.44,1423.18 5941.44,1423.18 6020.59,1423.18 5941.44,1423.18 \"/>\n",
       "<path clip-path=\"url(#clip572)\" d=\"M6020.59 1423.18 L6020.59 1423.18 L6099.75 1423.18 L6099.75 1423.18 L6020.59 1423.18 L6020.59 1423.18  Z\" fill=\"#009af9\" fill-rule=\"evenodd\" fill-opacity=\"1\"/>\n",
       "<polyline clip-path=\"url(#clip572)\" style=\"stroke:#000000; stroke-linecap:round; stroke-linejoin:round; stroke-width:4; stroke-opacity:1; fill:none\" points=\"6020.59,1423.18 6020.59,1423.18 6099.75,1423.18 6020.59,1423.18 \"/>\n",
       "<path clip-path=\"url(#clip572)\" d=\"M6099.75 1423.18 L6099.75 1423.18 L6178.9 1423.18 L6178.9 1423.18 L6099.75 1423.18 L6099.75 1423.18  Z\" fill=\"#009af9\" fill-rule=\"evenodd\" fill-opacity=\"1\"/>\n",
       "<polyline clip-path=\"url(#clip572)\" style=\"stroke:#000000; stroke-linecap:round; stroke-linejoin:round; stroke-width:4; stroke-opacity:1; fill:none\" points=\"6099.75,1423.18 6099.75,1423.18 6178.9,1423.18 6099.75,1423.18 \"/>\n",
       "<path clip-path=\"url(#clip572)\" d=\"M6178.9 1423.18 L6178.9 1423.18 L6258.06 1423.18 L6258.06 1423.18 L6178.9 1423.18 L6178.9 1423.18  Z\" fill=\"#009af9\" fill-rule=\"evenodd\" fill-opacity=\"1\"/>\n",
       "<polyline clip-path=\"url(#clip572)\" style=\"stroke:#000000; stroke-linecap:round; stroke-linejoin:round; stroke-width:4; stroke-opacity:1; fill:none\" points=\"6178.9,1423.18 6178.9,1423.18 6258.06,1423.18 6178.9,1423.18 \"/>\n",
       "<path clip-path=\"url(#clip572)\" d=\"M6258.06 1423.18 L6258.06 1423.18 L6337.21 1423.18 L6337.21 1423.18 L6258.06 1423.18 L6258.06 1423.18  Z\" fill=\"#009af9\" fill-rule=\"evenodd\" fill-opacity=\"1\"/>\n",
       "<polyline clip-path=\"url(#clip572)\" style=\"stroke:#000000; stroke-linecap:round; stroke-linejoin:round; stroke-width:4; stroke-opacity:1; fill:none\" points=\"6258.06,1423.18 6258.06,1423.18 6337.21,1423.18 6258.06,1423.18 \"/>\n",
       "<path clip-path=\"url(#clip572)\" d=\"M6337.21 1423.18 L6337.21 1423.18 L6416.37 1423.18 L6416.37 1423.18 L6337.21 1423.18 L6337.21 1423.18  Z\" fill=\"#009af9\" fill-rule=\"evenodd\" fill-opacity=\"1\"/>\n",
       "<polyline clip-path=\"url(#clip572)\" style=\"stroke:#000000; stroke-linecap:round; stroke-linejoin:round; stroke-width:4; stroke-opacity:1; fill:none\" points=\"6337.21,1423.18 6337.21,1423.18 6416.37,1423.18 6337.21,1423.18 \"/>\n",
       "<path clip-path=\"url(#clip572)\" d=\"M6416.37 1423.18 L6416.37 1423.18 L6495.52 1423.18 L6495.52 1423.18 L6416.37 1423.18 L6416.37 1423.18  Z\" fill=\"#009af9\" fill-rule=\"evenodd\" fill-opacity=\"1\"/>\n",
       "<polyline clip-path=\"url(#clip572)\" style=\"stroke:#000000; stroke-linecap:round; stroke-linejoin:round; stroke-width:4; stroke-opacity:1; fill:none\" points=\"6416.37,1423.18 6416.37,1423.18 6495.52,1423.18 6416.37,1423.18 \"/>\n",
       "<path clip-path=\"url(#clip572)\" d=\"M6495.52 1423.18 L6495.52 1423.18 L6574.68 1423.18 L6574.68 1423.18 L6495.52 1423.18 L6495.52 1423.18  Z\" fill=\"#009af9\" fill-rule=\"evenodd\" fill-opacity=\"1\"/>\n",
       "<polyline clip-path=\"url(#clip572)\" style=\"stroke:#000000; stroke-linecap:round; stroke-linejoin:round; stroke-width:4; stroke-opacity:1; fill:none\" points=\"6495.52,1423.18 6495.52,1423.18 6574.68,1423.18 6495.52,1423.18 \"/>\n",
       "<path clip-path=\"url(#clip572)\" d=\"M6574.68 1423.18 L6574.68 1423.18 L6653.84 1423.18 L6653.84 1423.18 L6574.68 1423.18 L6574.68 1423.18  Z\" fill=\"#009af9\" fill-rule=\"evenodd\" fill-opacity=\"1\"/>\n",
       "<polyline clip-path=\"url(#clip572)\" style=\"stroke:#000000; stroke-linecap:round; stroke-linejoin:round; stroke-width:4; stroke-opacity:1; fill:none\" points=\"6574.68,1423.18 6574.68,1423.18 6653.84,1423.18 6574.68,1423.18 \"/>\n",
       "<path clip-path=\"url(#clip572)\" d=\"M6653.84 1423.18 L6653.84 1423.18 L6732.99 1423.18 L6732.99 1423.18 L6653.84 1423.18 L6653.84 1423.18  Z\" fill=\"#009af9\" fill-rule=\"evenodd\" fill-opacity=\"1\"/>\n",
       "<polyline clip-path=\"url(#clip572)\" style=\"stroke:#000000; stroke-linecap:round; stroke-linejoin:round; stroke-width:4; stroke-opacity:1; fill:none\" points=\"6653.84,1423.18 6653.84,1423.18 6732.99,1423.18 6653.84,1423.18 \"/>\n",
       "<path clip-path=\"url(#clip572)\" d=\"M6732.99 1423.18 L6732.99 1423.18 L6812.15 1423.18 L6812.15 1423.18 L6732.99 1423.18 L6732.99 1423.18  Z\" fill=\"#009af9\" fill-rule=\"evenodd\" fill-opacity=\"1\"/>\n",
       "<polyline clip-path=\"url(#clip572)\" style=\"stroke:#000000; stroke-linecap:round; stroke-linejoin:round; stroke-width:4; stroke-opacity:1; fill:none\" points=\"6732.99,1423.18 6732.99,1423.18 6812.15,1423.18 6732.99,1423.18 \"/>\n",
       "<path clip-path=\"url(#clip572)\" d=\"M6812.15 1423.18 L6812.15 1423.18 L6891.3 1423.18 L6891.3 1423.18 L6812.15 1423.18 L6812.15 1423.18  Z\" fill=\"#009af9\" fill-rule=\"evenodd\" fill-opacity=\"1\"/>\n",
       "<polyline clip-path=\"url(#clip572)\" style=\"stroke:#000000; stroke-linecap:round; stroke-linejoin:round; stroke-width:4; stroke-opacity:1; fill:none\" points=\"6812.15,1423.18 6812.15,1423.18 6891.3,1423.18 6812.15,1423.18 \"/>\n",
       "<path clip-path=\"url(#clip572)\" d=\"M6891.3 1423.18 L6891.3 1423.18 L6970.46 1423.18 L6970.46 1423.18 L6891.3 1423.18 L6891.3 1423.18  Z\" fill=\"#009af9\" fill-rule=\"evenodd\" fill-opacity=\"1\"/>\n",
       "<polyline clip-path=\"url(#clip572)\" style=\"stroke:#000000; stroke-linecap:round; stroke-linejoin:round; stroke-width:4; stroke-opacity:1; fill:none\" points=\"6891.3,1423.18 6891.3,1423.18 6970.46,1423.18 6891.3,1423.18 \"/>\n",
       "<path clip-path=\"url(#clip572)\" d=\"M6970.46 1423.18 L6970.46 1423.18 L7049.61 1423.18 L7049.61 1423.18 L6970.46 1423.18 L6970.46 1423.18  Z\" fill=\"#009af9\" fill-rule=\"evenodd\" fill-opacity=\"1\"/>\n",
       "<polyline clip-path=\"url(#clip572)\" style=\"stroke:#000000; stroke-linecap:round; stroke-linejoin:round; stroke-width:4; stroke-opacity:1; fill:none\" points=\"6970.46,1423.18 6970.46,1423.18 7049.61,1423.18 6970.46,1423.18 \"/>\n",
       "<path clip-path=\"url(#clip572)\" d=\"M7049.61 1423.18 L7049.61 1423.18 L7128.77 1423.18 L7128.77 1423.18 L7049.61 1423.18 L7049.61 1423.18  Z\" fill=\"#009af9\" fill-rule=\"evenodd\" fill-opacity=\"1\"/>\n",
       "<polyline clip-path=\"url(#clip572)\" style=\"stroke:#000000; stroke-linecap:round; stroke-linejoin:round; stroke-width:4; stroke-opacity:1; fill:none\" points=\"7049.61,1423.18 7049.61,1423.18 7128.77,1423.18 7049.61,1423.18 \"/>\n",
       "<path clip-path=\"url(#clip572)\" d=\"M7128.77 1423.18 L7128.77 1423.18 L7207.92 1423.18 L7207.92 1423.18 L7128.77 1423.18 L7128.77 1423.18  Z\" fill=\"#009af9\" fill-rule=\"evenodd\" fill-opacity=\"1\"/>\n",
       "<polyline clip-path=\"url(#clip572)\" style=\"stroke:#000000; stroke-linecap:round; stroke-linejoin:round; stroke-width:4; stroke-opacity:1; fill:none\" points=\"7128.77,1423.18 7128.77,1423.18 7207.92,1423.18 7128.77,1423.18 \"/>\n",
       "<path clip-path=\"url(#clip572)\" d=\"M7207.92 1423.18 L7207.92 1423.18 L7287.08 1423.18 L7287.08 1423.18 L7207.92 1423.18 L7207.92 1423.18  Z\" fill=\"#009af9\" fill-rule=\"evenodd\" fill-opacity=\"1\"/>\n",
       "<polyline clip-path=\"url(#clip572)\" style=\"stroke:#000000; stroke-linecap:round; stroke-linejoin:round; stroke-width:4; stroke-opacity:1; fill:none\" points=\"7207.92,1423.18 7207.92,1423.18 7287.08,1423.18 7207.92,1423.18 \"/>\n",
       "<path clip-path=\"url(#clip572)\" d=\"M7287.08 1423.18 L7287.08 1423.18 L7366.23 1423.18 L7366.23 1423.18 L7287.08 1423.18 L7287.08 1423.18  Z\" fill=\"#009af9\" fill-rule=\"evenodd\" fill-opacity=\"1\"/>\n",
       "<polyline clip-path=\"url(#clip572)\" style=\"stroke:#000000; stroke-linecap:round; stroke-linejoin:round; stroke-width:4; stroke-opacity:1; fill:none\" points=\"7287.08,1423.18 7287.08,1423.18 7366.23,1423.18 7287.08,1423.18 \"/>\n",
       "<path clip-path=\"url(#clip572)\" d=\"M7366.23 1423.18 L7366.23 1423.18 L7445.39 1423.18 L7445.39 1423.18 L7366.23 1423.18 L7366.23 1423.18  Z\" fill=\"#009af9\" fill-rule=\"evenodd\" fill-opacity=\"1\"/>\n",
       "<polyline clip-path=\"url(#clip572)\" style=\"stroke:#000000; stroke-linecap:round; stroke-linejoin:round; stroke-width:4; stroke-opacity:1; fill:none\" points=\"7366.23,1423.18 7366.23,1423.18 7445.39,1423.18 7366.23,1423.18 \"/>\n",
       "<path clip-path=\"url(#clip572)\" d=\"M7445.39 1423.18 L7445.39 1423.18 L7524.55 1423.18 L7524.55 1423.18 L7445.39 1423.18 L7445.39 1423.18  Z\" fill=\"#009af9\" fill-rule=\"evenodd\" fill-opacity=\"1\"/>\n",
       "<polyline clip-path=\"url(#clip572)\" style=\"stroke:#000000; stroke-linecap:round; stroke-linejoin:round; stroke-width:4; stroke-opacity:1; fill:none\" points=\"7445.39,1423.18 7445.39,1423.18 7524.55,1423.18 7445.39,1423.18 \"/>\n",
       "<path clip-path=\"url(#clip572)\" d=\"M7524.55 1423.18 L7524.55 1423.18 L7603.7 1423.18 L7603.7 1423.18 L7524.55 1423.18 L7524.55 1423.18  Z\" fill=\"#009af9\" fill-rule=\"evenodd\" fill-opacity=\"1\"/>\n",
       "<polyline clip-path=\"url(#clip572)\" style=\"stroke:#000000; stroke-linecap:round; stroke-linejoin:round; stroke-width:4; stroke-opacity:1; fill:none\" points=\"7524.55,1423.18 7524.55,1423.18 7603.7,1423.18 7524.55,1423.18 \"/>\n",
       "<path clip-path=\"url(#clip572)\" d=\"M7603.7 1423.18 L7603.7 1423.18 L7682.86 1423.18 L7682.86 1423.18 L7603.7 1423.18 L7603.7 1423.18  Z\" fill=\"#009af9\" fill-rule=\"evenodd\" fill-opacity=\"1\"/>\n",
       "<polyline clip-path=\"url(#clip572)\" style=\"stroke:#000000; stroke-linecap:round; stroke-linejoin:round; stroke-width:4; stroke-opacity:1; fill:none\" points=\"7603.7,1423.18 7603.7,1423.18 7682.86,1423.18 7603.7,1423.18 \"/>\n",
       "<path clip-path=\"url(#clip572)\" d=\"M7682.86 1423.18 L7682.86 1423.18 L7762.01 1423.18 L7762.01 1423.18 L7682.86 1423.18 L7682.86 1423.18  Z\" fill=\"#009af9\" fill-rule=\"evenodd\" fill-opacity=\"1\"/>\n",
       "<polyline clip-path=\"url(#clip572)\" style=\"stroke:#000000; stroke-linecap:round; stroke-linejoin:round; stroke-width:4; stroke-opacity:1; fill:none\" points=\"7682.86,1423.18 7682.86,1423.18 7762.01,1423.18 7682.86,1423.18 \"/>\n",
       "<path clip-path=\"url(#clip572)\" d=\"M7762.01 1423.18 L7762.01 1423.18 L7841.17 1423.18 L7841.17 1423.18 L7762.01 1423.18 L7762.01 1423.18  Z\" fill=\"#009af9\" fill-rule=\"evenodd\" fill-opacity=\"1\"/>\n",
       "<polyline clip-path=\"url(#clip572)\" style=\"stroke:#000000; stroke-linecap:round; stroke-linejoin:round; stroke-width:4; stroke-opacity:1; fill:none\" points=\"7762.01,1423.18 7762.01,1423.18 7841.17,1423.18 7762.01,1423.18 \"/>\n",
       "<path clip-path=\"url(#clip572)\" d=\"M7841.17 1423.18 L7841.17 1423.18 L7920.32 1423.18 L7920.32 1423.18 L7841.17 1423.18 L7841.17 1423.18  Z\" fill=\"#009af9\" fill-rule=\"evenodd\" fill-opacity=\"1\"/>\n",
       "<polyline clip-path=\"url(#clip572)\" style=\"stroke:#000000; stroke-linecap:round; stroke-linejoin:round; stroke-width:4; stroke-opacity:1; fill:none\" points=\"7841.17,1423.18 7841.17,1423.18 7920.32,1423.18 7841.17,1423.18 \"/>\n",
       "<path clip-path=\"url(#clip572)\" d=\"M7920.32 1423.18 L7920.32 1423.18 L7999.48 1423.18 L7999.48 1423.18 L7920.32 1423.18 L7920.32 1423.18  Z\" fill=\"#009af9\" fill-rule=\"evenodd\" fill-opacity=\"1\"/>\n",
       "<polyline clip-path=\"url(#clip572)\" style=\"stroke:#000000; stroke-linecap:round; stroke-linejoin:round; stroke-width:4; stroke-opacity:1; fill:none\" points=\"7920.32,1423.18 7920.32,1423.18 7999.48,1423.18 7920.32,1423.18 \"/>\n",
       "<path clip-path=\"url(#clip572)\" d=\"M7999.48 1423.18 L7999.48 1423.18 L8078.63 1423.18 L8078.63 1423.18 L7999.48 1423.18 L7999.48 1423.18  Z\" fill=\"#009af9\" fill-rule=\"evenodd\" fill-opacity=\"1\"/>\n",
       "<polyline clip-path=\"url(#clip572)\" style=\"stroke:#000000; stroke-linecap:round; stroke-linejoin:round; stroke-width:4; stroke-opacity:1; fill:none\" points=\"7999.48,1423.18 7999.48,1423.18 8078.63,1423.18 7999.48,1423.18 \"/>\n",
       "<path clip-path=\"url(#clip572)\" d=\"M8078.63 1423.18 L8078.63 1423.18 L8157.79 1423.18 L8157.79 1423.18 L8078.63 1423.18 L8078.63 1423.18  Z\" fill=\"#009af9\" fill-rule=\"evenodd\" fill-opacity=\"1\"/>\n",
       "<polyline clip-path=\"url(#clip572)\" style=\"stroke:#000000; stroke-linecap:round; stroke-linejoin:round; stroke-width:4; stroke-opacity:1; fill:none\" points=\"8078.63,1423.18 8078.63,1423.18 8157.79,1423.18 8078.63,1423.18 \"/>\n",
       "<path clip-path=\"url(#clip572)\" d=\"M8157.79 1423.18 L8157.79 1423.18 L8236.94 1423.18 L8236.94 1423.18 L8157.79 1423.18 L8157.79 1423.18  Z\" fill=\"#009af9\" fill-rule=\"evenodd\" fill-opacity=\"1\"/>\n",
       "<polyline clip-path=\"url(#clip572)\" style=\"stroke:#000000; stroke-linecap:round; stroke-linejoin:round; stroke-width:4; stroke-opacity:1; fill:none\" points=\"8157.79,1423.18 8157.79,1423.18 8236.94,1423.18 8157.79,1423.18 \"/>\n",
       "<path clip-path=\"url(#clip572)\" d=\"M8236.94 1423.18 L8236.94 1423.18 L8316.1 1423.18 L8316.1 1423.18 L8236.94 1423.18 L8236.94 1423.18  Z\" fill=\"#009af9\" fill-rule=\"evenodd\" fill-opacity=\"1\"/>\n",
       "<polyline clip-path=\"url(#clip572)\" style=\"stroke:#000000; stroke-linecap:round; stroke-linejoin:round; stroke-width:4; stroke-opacity:1; fill:none\" points=\"8236.94,1423.18 8236.94,1423.18 8316.1,1423.18 8236.94,1423.18 \"/>\n",
       "<path clip-path=\"url(#clip572)\" d=\"M8316.1 1423.18 L8316.1 1423.18 L8395.26 1423.18 L8395.26 1423.18 L8316.1 1423.18 L8316.1 1423.18  Z\" fill=\"#009af9\" fill-rule=\"evenodd\" fill-opacity=\"1\"/>\n",
       "<polyline clip-path=\"url(#clip572)\" style=\"stroke:#000000; stroke-linecap:round; stroke-linejoin:round; stroke-width:4; stroke-opacity:1; fill:none\" points=\"8316.1,1423.18 8316.1,1423.18 8395.26,1423.18 8316.1,1423.18 \"/>\n",
       "<path clip-path=\"url(#clip572)\" d=\"M8395.26 1423.18 L8395.26 1423.18 L8474.41 1423.18 L8474.41 1423.18 L8395.26 1423.18 L8395.26 1423.18  Z\" fill=\"#009af9\" fill-rule=\"evenodd\" fill-opacity=\"1\"/>\n",
       "<polyline clip-path=\"url(#clip572)\" style=\"stroke:#000000; stroke-linecap:round; stroke-linejoin:round; stroke-width:4; stroke-opacity:1; fill:none\" points=\"8395.26,1423.18 8395.26,1423.18 8474.41,1423.18 8395.26,1423.18 \"/>\n",
       "<path clip-path=\"url(#clip572)\" d=\"M8474.41 1423.18 L8474.41 1423.18 L8553.57 1423.18 L8553.57 1423.18 L8474.41 1423.18 L8474.41 1423.18  Z\" fill=\"#009af9\" fill-rule=\"evenodd\" fill-opacity=\"1\"/>\n",
       "<polyline clip-path=\"url(#clip572)\" style=\"stroke:#000000; stroke-linecap:round; stroke-linejoin:round; stroke-width:4; stroke-opacity:1; fill:none\" points=\"8474.41,1423.18 8474.41,1423.18 8553.57,1423.18 8474.41,1423.18 \"/>\n",
       "<path clip-path=\"url(#clip572)\" d=\"M8553.57 1423.18 L8553.57 1423.18 L8632.72 1423.18 L8632.72 1423.18 L8553.57 1423.18 L8553.57 1423.18  Z\" fill=\"#009af9\" fill-rule=\"evenodd\" fill-opacity=\"1\"/>\n",
       "<polyline clip-path=\"url(#clip572)\" style=\"stroke:#000000; stroke-linecap:round; stroke-linejoin:round; stroke-width:4; stroke-opacity:1; fill:none\" points=\"8553.57,1423.18 8553.57,1423.18 8632.72,1423.18 8553.57,1423.18 \"/>\n",
       "<path clip-path=\"url(#clip572)\" d=\"M8632.72 1423.18 L8632.72 1423.18 L8711.88 1423.18 L8711.88 1423.18 L8632.72 1423.18 L8632.72 1423.18  Z\" fill=\"#009af9\" fill-rule=\"evenodd\" fill-opacity=\"1\"/>\n",
       "<polyline clip-path=\"url(#clip572)\" style=\"stroke:#000000; stroke-linecap:round; stroke-linejoin:round; stroke-width:4; stroke-opacity:1; fill:none\" points=\"8632.72,1423.18 8632.72,1423.18 8711.88,1423.18 8632.72,1423.18 \"/>\n",
       "<path clip-path=\"url(#clip572)\" d=\"M8711.88 1423.18 L8711.88 1423.18 L8791.03 1423.18 L8791.03 1423.18 L8711.88 1423.18 L8711.88 1423.18  Z\" fill=\"#009af9\" fill-rule=\"evenodd\" fill-opacity=\"1\"/>\n",
       "<polyline clip-path=\"url(#clip572)\" style=\"stroke:#000000; stroke-linecap:round; stroke-linejoin:round; stroke-width:4; stroke-opacity:1; fill:none\" points=\"8711.88,1423.18 8711.88,1423.18 8791.03,1423.18 8711.88,1423.18 \"/>\n",
       "<path clip-path=\"url(#clip572)\" d=\"M8791.03 1423.18 L8791.03 1423.18 L8870.19 1423.18 L8870.19 1423.18 L8791.03 1423.18 L8791.03 1423.18  Z\" fill=\"#009af9\" fill-rule=\"evenodd\" fill-opacity=\"1\"/>\n",
       "<polyline clip-path=\"url(#clip572)\" style=\"stroke:#000000; stroke-linecap:round; stroke-linejoin:round; stroke-width:4; stroke-opacity:1; fill:none\" points=\"8791.03,1423.18 8791.03,1423.18 8870.19,1423.18 8791.03,1423.18 \"/>\n",
       "<path clip-path=\"url(#clip572)\" d=\"M8870.19 1423.18 L8870.19 1423.18 L8949.34 1423.18 L8949.34 1423.18 L8870.19 1423.18 L8870.19 1423.18  Z\" fill=\"#009af9\" fill-rule=\"evenodd\" fill-opacity=\"1\"/>\n",
       "<polyline clip-path=\"url(#clip572)\" style=\"stroke:#000000; stroke-linecap:round; stroke-linejoin:round; stroke-width:4; stroke-opacity:1; fill:none\" points=\"8870.19,1423.18 8870.19,1423.18 8949.34,1423.18 8870.19,1423.18 \"/>\n",
       "<path clip-path=\"url(#clip572)\" d=\"M8949.34 1423.18 L8949.34 1423.18 L9028.5 1423.18 L9028.5 1423.18 L8949.34 1423.18 L8949.34 1423.18  Z\" fill=\"#009af9\" fill-rule=\"evenodd\" fill-opacity=\"1\"/>\n",
       "<polyline clip-path=\"url(#clip572)\" style=\"stroke:#000000; stroke-linecap:round; stroke-linejoin:round; stroke-width:4; stroke-opacity:1; fill:none\" points=\"8949.34,1423.18 8949.34,1423.18 9028.5,1423.18 8949.34,1423.18 \"/>\n",
       "<path clip-path=\"url(#clip572)\" d=\"M9028.5 1423.18 L9028.5 1423.18 L9107.65 1423.18 L9107.65 1423.18 L9028.5 1423.18 L9028.5 1423.18  Z\" fill=\"#009af9\" fill-rule=\"evenodd\" fill-opacity=\"1\"/>\n",
       "<polyline clip-path=\"url(#clip572)\" style=\"stroke:#000000; stroke-linecap:round; stroke-linejoin:round; stroke-width:4; stroke-opacity:1; fill:none\" points=\"9028.5,1423.18 9028.5,1423.18 9107.65,1423.18 9028.5,1423.18 \"/>\n",
       "<path clip-path=\"url(#clip572)\" d=\"M9107.65 1423.18 L9107.65 1423.18 L9186.81 1423.18 L9186.81 1423.18 L9107.65 1423.18 L9107.65 1423.18  Z\" fill=\"#009af9\" fill-rule=\"evenodd\" fill-opacity=\"1\"/>\n",
       "<polyline clip-path=\"url(#clip572)\" style=\"stroke:#000000; stroke-linecap:round; stroke-linejoin:round; stroke-width:4; stroke-opacity:1; fill:none\" points=\"9107.65,1423.18 9107.65,1423.18 9186.81,1423.18 9107.65,1423.18 \"/>\n",
       "<path clip-path=\"url(#clip572)\" d=\"M9186.81 1423.18 L9186.81 1423.18 L9265.96 1423.18 L9265.96 1423.18 L9186.81 1423.18 L9186.81 1423.18  Z\" fill=\"#009af9\" fill-rule=\"evenodd\" fill-opacity=\"1\"/>\n",
       "<polyline clip-path=\"url(#clip572)\" style=\"stroke:#000000; stroke-linecap:round; stroke-linejoin:round; stroke-width:4; stroke-opacity:1; fill:none\" points=\"9186.81,1423.18 9186.81,1423.18 9265.96,1423.18 9186.81,1423.18 \"/>\n",
       "<path clip-path=\"url(#clip572)\" d=\"M9265.96 1423.18 L9265.96 1423.18 L9345.12 1423.18 L9345.12 1423.18 L9265.96 1423.18 L9265.96 1423.18  Z\" fill=\"#009af9\" fill-rule=\"evenodd\" fill-opacity=\"1\"/>\n",
       "<polyline clip-path=\"url(#clip572)\" style=\"stroke:#000000; stroke-linecap:round; stroke-linejoin:round; stroke-width:4; stroke-opacity:1; fill:none\" points=\"9265.96,1423.18 9265.96,1423.18 9345.12,1423.18 9265.96,1423.18 \"/>\n",
       "<path clip-path=\"url(#clip572)\" d=\"M9345.12 1423.18 L9345.12 1423.18 L9424.28 1423.18 L9424.28 1423.18 L9345.12 1423.18 L9345.12 1423.18  Z\" fill=\"#009af9\" fill-rule=\"evenodd\" fill-opacity=\"1\"/>\n",
       "<polyline clip-path=\"url(#clip572)\" style=\"stroke:#000000; stroke-linecap:round; stroke-linejoin:round; stroke-width:4; stroke-opacity:1; fill:none\" points=\"9345.12,1423.18 9345.12,1423.18 9424.28,1423.18 9345.12,1423.18 \"/>\n",
       "<path clip-path=\"url(#clip572)\" d=\"M9424.28 1423.18 L9424.28 1423.18 L9503.43 1423.18 L9503.43 1423.18 L9424.28 1423.18 L9424.28 1423.18  Z\" fill=\"#009af9\" fill-rule=\"evenodd\" fill-opacity=\"1\"/>\n",
       "<polyline clip-path=\"url(#clip572)\" style=\"stroke:#000000; stroke-linecap:round; stroke-linejoin:round; stroke-width:4; stroke-opacity:1; fill:none\" points=\"9424.28,1423.18 9424.28,1423.18 9503.43,1423.18 9424.28,1423.18 \"/>\n",
       "<path clip-path=\"url(#clip572)\" d=\"M9503.43 1423.18 L9503.43 1423.18 L9582.59 1423.18 L9582.59 1423.18 L9503.43 1423.18 L9503.43 1423.18  Z\" fill=\"#009af9\" fill-rule=\"evenodd\" fill-opacity=\"1\"/>\n",
       "<polyline clip-path=\"url(#clip572)\" style=\"stroke:#000000; stroke-linecap:round; stroke-linejoin:round; stroke-width:4; stroke-opacity:1; fill:none\" points=\"9503.43,1423.18 9503.43,1423.18 9582.59,1423.18 9503.43,1423.18 \"/>\n",
       "<path clip-path=\"url(#clip572)\" d=\"M9582.59 1423.18 L9582.59 1423.18 L9661.74 1423.18 L9661.74 1423.18 L9582.59 1423.18 L9582.59 1423.18  Z\" fill=\"#009af9\" fill-rule=\"evenodd\" fill-opacity=\"1\"/>\n",
       "<polyline clip-path=\"url(#clip572)\" style=\"stroke:#000000; stroke-linecap:round; stroke-linejoin:round; stroke-width:4; stroke-opacity:1; fill:none\" points=\"9582.59,1423.18 9582.59,1423.18 9661.74,1423.18 9582.59,1423.18 \"/>\n",
       "<path clip-path=\"url(#clip572)\" d=\"M9661.74 1423.18 L9661.74 1423.18 L9740.9 1423.18 L9740.9 1423.18 L9661.74 1423.18 L9661.74 1423.18  Z\" fill=\"#009af9\" fill-rule=\"evenodd\" fill-opacity=\"1\"/>\n",
       "<polyline clip-path=\"url(#clip572)\" style=\"stroke:#000000; stroke-linecap:round; stroke-linejoin:round; stroke-width:4; stroke-opacity:1; fill:none\" points=\"9661.74,1423.18 9661.74,1423.18 9740.9,1423.18 9661.74,1423.18 \"/>\n",
       "<path clip-path=\"url(#clip572)\" d=\"M9740.9 1423.18 L9740.9 1423.18 L9820.05 1423.18 L9820.05 1423.18 L9740.9 1423.18 L9740.9 1423.18  Z\" fill=\"#009af9\" fill-rule=\"evenodd\" fill-opacity=\"1\"/>\n",
       "<polyline clip-path=\"url(#clip572)\" style=\"stroke:#000000; stroke-linecap:round; stroke-linejoin:round; stroke-width:4; stroke-opacity:1; fill:none\" points=\"9740.9,1423.18 9740.9,1423.18 9820.05,1423.18 9740.9,1423.18 \"/>\n",
       "<path clip-path=\"url(#clip572)\" d=\"M9820.05 1423.18 L9820.05 1423.18 L9899.21 1423.18 L9899.21 1423.18 L9820.05 1423.18 L9820.05 1423.18  Z\" fill=\"#009af9\" fill-rule=\"evenodd\" fill-opacity=\"1\"/>\n",
       "<polyline clip-path=\"url(#clip572)\" style=\"stroke:#000000; stroke-linecap:round; stroke-linejoin:round; stroke-width:4; stroke-opacity:1; fill:none\" points=\"9820.05,1423.18 9820.05,1423.18 9899.21,1423.18 9820.05,1423.18 \"/>\n",
       "<path clip-path=\"url(#clip572)\" d=\"M9899.21 1423.18 L9899.21 1423.18 L9978.36 1423.18 L9978.36 1423.18 L9899.21 1423.18 L9899.21 1423.18  Z\" fill=\"#009af9\" fill-rule=\"evenodd\" fill-opacity=\"1\"/>\n",
       "<polyline clip-path=\"url(#clip572)\" style=\"stroke:#000000; stroke-linecap:round; stroke-linejoin:round; stroke-width:4; stroke-opacity:1; fill:none\" points=\"9899.21,1423.18 9899.21,1423.18 9978.36,1423.18 9899.21,1423.18 \"/>\n",
       "<path clip-path=\"url(#clip572)\" d=\"M9978.36 1423.18 L9978.36 1423.18 L10057.5 1423.18 L10057.5 1423.18 L9978.36 1423.18 L9978.36 1423.18  Z\" fill=\"#009af9\" fill-rule=\"evenodd\" fill-opacity=\"1\"/>\n",
       "<polyline clip-path=\"url(#clip572)\" style=\"stroke:#000000; stroke-linecap:round; stroke-linejoin:round; stroke-width:4; stroke-opacity:1; fill:none\" points=\"9978.36,1423.18 9978.36,1423.18 10057.5,1423.18 9978.36,1423.18 \"/>\n",
       "<path clip-path=\"url(#clip572)\" d=\"M10057.5 1423.18 L10057.5 1423.18 L10136.7 1423.18 L10136.7 1423.18 L10057.5 1423.18 L10057.5 1423.18  Z\" fill=\"#009af9\" fill-rule=\"evenodd\" fill-opacity=\"1\"/>\n",
       "<polyline clip-path=\"url(#clip572)\" style=\"stroke:#000000; stroke-linecap:round; stroke-linejoin:round; stroke-width:4; stroke-opacity:1; fill:none\" points=\"10057.5,1423.18 10057.5,1423.18 10136.7,1423.18 10057.5,1423.18 \"/>\n",
       "<path clip-path=\"url(#clip572)\" d=\"M10136.7 1423.18 L10136.7 1423.18 L10215.8 1423.18 L10215.8 1423.18 L10136.7 1423.18 L10136.7 1423.18  Z\" fill=\"#009af9\" fill-rule=\"evenodd\" fill-opacity=\"1\"/>\n",
       "<polyline clip-path=\"url(#clip572)\" style=\"stroke:#000000; stroke-linecap:round; stroke-linejoin:round; stroke-width:4; stroke-opacity:1; fill:none\" points=\"10136.7,1423.18 10136.7,1423.18 10215.8,1423.18 10136.7,1423.18 \"/>\n",
       "<path clip-path=\"url(#clip572)\" d=\"M10215.8 1423.18 L10215.8 1423.18 L10295 1423.18 L10295 1423.18 L10215.8 1423.18 L10215.8 1423.18  Z\" fill=\"#009af9\" fill-rule=\"evenodd\" fill-opacity=\"1\"/>\n",
       "<polyline clip-path=\"url(#clip572)\" style=\"stroke:#000000; stroke-linecap:round; stroke-linejoin:round; stroke-width:4; stroke-opacity:1; fill:none\" points=\"10215.8,1423.18 10215.8,1423.18 10295,1423.18 10215.8,1423.18 \"/>\n",
       "<path clip-path=\"url(#clip572)\" d=\"M10295 1423.18 L10295 1423.18 L10374.1 1423.18 L10374.1 1423.18 L10295 1423.18 L10295 1423.18  Z\" fill=\"#009af9\" fill-rule=\"evenodd\" fill-opacity=\"1\"/>\n",
       "<polyline clip-path=\"url(#clip572)\" style=\"stroke:#000000; stroke-linecap:round; stroke-linejoin:round; stroke-width:4; stroke-opacity:1; fill:none\" points=\"10295,1423.18 10295,1423.18 10374.1,1423.18 10295,1423.18 \"/>\n",
       "<path clip-path=\"url(#clip572)\" d=\"M10374.1 1423.18 L10374.1 1423.18 L10453.3 1423.18 L10453.3 1423.18 L10374.1 1423.18 L10374.1 1423.18  Z\" fill=\"#009af9\" fill-rule=\"evenodd\" fill-opacity=\"1\"/>\n",
       "<polyline clip-path=\"url(#clip572)\" style=\"stroke:#000000; stroke-linecap:round; stroke-linejoin:round; stroke-width:4; stroke-opacity:1; fill:none\" points=\"10374.1,1423.18 10374.1,1423.18 10453.3,1423.18 10374.1,1423.18 \"/>\n",
       "<path clip-path=\"url(#clip572)\" d=\"M10453.3 1423.18 L10453.3 1423.18 L10532.5 1423.18 L10532.5 1423.18 L10453.3 1423.18 L10453.3 1423.18  Z\" fill=\"#009af9\" fill-rule=\"evenodd\" fill-opacity=\"1\"/>\n",
       "<polyline clip-path=\"url(#clip572)\" style=\"stroke:#000000; stroke-linecap:round; stroke-linejoin:round; stroke-width:4; stroke-opacity:1; fill:none\" points=\"10453.3,1423.18 10453.3,1423.18 10532.5,1423.18 10453.3,1423.18 \"/>\n",
       "<path clip-path=\"url(#clip572)\" d=\"M10532.5 1423.18 L10532.5 1423.18 L10611.6 1423.18 L10611.6 1423.18 L10532.5 1423.18 L10532.5 1423.18  Z\" fill=\"#009af9\" fill-rule=\"evenodd\" fill-opacity=\"1\"/>\n",
       "<polyline clip-path=\"url(#clip572)\" style=\"stroke:#000000; stroke-linecap:round; stroke-linejoin:round; stroke-width:4; stroke-opacity:1; fill:none\" points=\"10532.5,1423.18 10532.5,1423.18 10611.6,1423.18 10532.5,1423.18 \"/>\n",
       "<path clip-path=\"url(#clip572)\" d=\"M10611.6 1423.18 L10611.6 1423.18 L10690.8 1423.18 L10690.8 1423.18 L10611.6 1423.18 L10611.6 1423.18  Z\" fill=\"#009af9\" fill-rule=\"evenodd\" fill-opacity=\"1\"/>\n",
       "<polyline clip-path=\"url(#clip572)\" style=\"stroke:#000000; stroke-linecap:round; stroke-linejoin:round; stroke-width:4; stroke-opacity:1; fill:none\" points=\"10611.6,1423.18 10611.6,1423.18 10690.8,1423.18 10611.6,1423.18 \"/>\n",
       "<path clip-path=\"url(#clip572)\" d=\"M10690.8 1423.18 L10690.8 1423.18 L10769.9 1423.18 L10769.9 1423.18 L10690.8 1423.18 L10690.8 1423.18  Z\" fill=\"#009af9\" fill-rule=\"evenodd\" fill-opacity=\"1\"/>\n",
       "<polyline clip-path=\"url(#clip572)\" style=\"stroke:#000000; stroke-linecap:round; stroke-linejoin:round; stroke-width:4; stroke-opacity:1; fill:none\" points=\"10690.8,1423.18 10690.8,1423.18 10769.9,1423.18 10690.8,1423.18 \"/>\n",
       "<path clip-path=\"url(#clip572)\" d=\"M10769.9 1423.18 L10769.9 1423.18 L10849.1 1423.18 L10849.1 1423.18 L10769.9 1423.18 L10769.9 1423.18  Z\" fill=\"#009af9\" fill-rule=\"evenodd\" fill-opacity=\"1\"/>\n",
       "<polyline clip-path=\"url(#clip572)\" style=\"stroke:#000000; stroke-linecap:round; stroke-linejoin:round; stroke-width:4; stroke-opacity:1; fill:none\" points=\"10769.9,1423.18 10769.9,1423.18 10849.1,1423.18 10769.9,1423.18 \"/>\n",
       "<path clip-path=\"url(#clip572)\" d=\"M10849.1 1423.18 L10849.1 1423.18 L10928.2 1423.18 L10928.2 1423.18 L10849.1 1423.18 L10849.1 1423.18  Z\" fill=\"#009af9\" fill-rule=\"evenodd\" fill-opacity=\"1\"/>\n",
       "<polyline clip-path=\"url(#clip572)\" style=\"stroke:#000000; stroke-linecap:round; stroke-linejoin:round; stroke-width:4; stroke-opacity:1; fill:none\" points=\"10849.1,1423.18 10849.1,1423.18 10928.2,1423.18 10849.1,1423.18 \"/>\n",
       "<path clip-path=\"url(#clip572)\" d=\"M10928.2 1423.18 L10928.2 1423.18 L11007.4 1423.18 L11007.4 1423.18 L10928.2 1423.18 L10928.2 1423.18  Z\" fill=\"#009af9\" fill-rule=\"evenodd\" fill-opacity=\"1\"/>\n",
       "<polyline clip-path=\"url(#clip572)\" style=\"stroke:#000000; stroke-linecap:round; stroke-linejoin:round; stroke-width:4; stroke-opacity:1; fill:none\" points=\"10928.2,1423.18 10928.2,1423.18 11007.4,1423.18 10928.2,1423.18 \"/>\n",
       "<path clip-path=\"url(#clip572)\" d=\"M11007.4 1423.18 L11007.4 1423.18 L11086.5 1423.18 L11086.5 1423.18 L11007.4 1423.18 L11007.4 1423.18  Z\" fill=\"#009af9\" fill-rule=\"evenodd\" fill-opacity=\"1\"/>\n",
       "<polyline clip-path=\"url(#clip572)\" style=\"stroke:#000000; stroke-linecap:round; stroke-linejoin:round; stroke-width:4; stroke-opacity:1; fill:none\" points=\"11007.4,1423.18 11007.4,1423.18 11086.5,1423.18 11007.4,1423.18 \"/>\n",
       "<path clip-path=\"url(#clip572)\" d=\"M11086.5 1423.18 L11086.5 1423.18 L11165.7 1423.18 L11165.7 1423.18 L11086.5 1423.18 L11086.5 1423.18  Z\" fill=\"#009af9\" fill-rule=\"evenodd\" fill-opacity=\"1\"/>\n",
       "<polyline clip-path=\"url(#clip572)\" style=\"stroke:#000000; stroke-linecap:round; stroke-linejoin:round; stroke-width:4; stroke-opacity:1; fill:none\" points=\"11086.5,1423.18 11086.5,1423.18 11165.7,1423.18 11086.5,1423.18 \"/>\n",
       "<path clip-path=\"url(#clip572)\" d=\"M11165.7 1423.18 L11165.7 1423.18 L11244.9 1423.18 L11244.9 1423.18 L11165.7 1423.18 L11165.7 1423.18  Z\" fill=\"#009af9\" fill-rule=\"evenodd\" fill-opacity=\"1\"/>\n",
       "<polyline clip-path=\"url(#clip572)\" style=\"stroke:#000000; stroke-linecap:round; stroke-linejoin:round; stroke-width:4; stroke-opacity:1; fill:none\" points=\"11165.7,1423.18 11165.7,1423.18 11244.9,1423.18 11165.7,1423.18 \"/>\n",
       "<path clip-path=\"url(#clip572)\" d=\"M11244.9 1423.18 L11244.9 1423.18 L11324 1423.18 L11324 1423.18 L11244.9 1423.18 L11244.9 1423.18  Z\" fill=\"#009af9\" fill-rule=\"evenodd\" fill-opacity=\"1\"/>\n",
       "<polyline clip-path=\"url(#clip572)\" style=\"stroke:#000000; stroke-linecap:round; stroke-linejoin:round; stroke-width:4; stroke-opacity:1; fill:none\" points=\"11244.9,1423.18 11244.9,1423.18 11324,1423.18 11244.9,1423.18 \"/>\n",
       "<path clip-path=\"url(#clip572)\" d=\"M11324 1423.18 L11324 1423.18 L11403.2 1423.18 L11403.2 1423.18 L11324 1423.18 L11324 1423.18  Z\" fill=\"#009af9\" fill-rule=\"evenodd\" fill-opacity=\"1\"/>\n",
       "<polyline clip-path=\"url(#clip572)\" style=\"stroke:#000000; stroke-linecap:round; stroke-linejoin:round; stroke-width:4; stroke-opacity:1; fill:none\" points=\"11324,1423.18 11324,1423.18 11403.2,1423.18 11324,1423.18 \"/>\n",
       "<path clip-path=\"url(#clip572)\" d=\"M11403.2 1423.18 L11403.2 1423.18 L11482.3 1423.18 L11482.3 1423.18 L11403.2 1423.18 L11403.2 1423.18  Z\" fill=\"#009af9\" fill-rule=\"evenodd\" fill-opacity=\"1\"/>\n",
       "<polyline clip-path=\"url(#clip572)\" style=\"stroke:#000000; stroke-linecap:round; stroke-linejoin:round; stroke-width:4; stroke-opacity:1; fill:none\" points=\"11403.2,1423.18 11403.2,1423.18 11482.3,1423.18 11403.2,1423.18 \"/>\n",
       "<path clip-path=\"url(#clip572)\" d=\"M11482.3 1423.18 L11482.3 1423.18 L11561.5 1423.18 L11561.5 1423.18 L11482.3 1423.18 L11482.3 1423.18  Z\" fill=\"#009af9\" fill-rule=\"evenodd\" fill-opacity=\"1\"/>\n",
       "<polyline clip-path=\"url(#clip572)\" style=\"stroke:#000000; stroke-linecap:round; stroke-linejoin:round; stroke-width:4; stroke-opacity:1; fill:none\" points=\"11482.3,1423.18 11482.3,1423.18 11561.5,1423.18 11482.3,1423.18 \"/>\n",
       "<path clip-path=\"url(#clip572)\" d=\"M11561.5 1423.18 L11561.5 1423.18 L11640.6 1423.18 L11640.6 1423.18 L11561.5 1423.18 L11561.5 1423.18  Z\" fill=\"#009af9\" fill-rule=\"evenodd\" fill-opacity=\"1\"/>\n",
       "<polyline clip-path=\"url(#clip572)\" style=\"stroke:#000000; stroke-linecap:round; stroke-linejoin:round; stroke-width:4; stroke-opacity:1; fill:none\" points=\"11561.5,1423.18 11561.5,1423.18 11640.6,1423.18 11561.5,1423.18 \"/>\n",
       "<path clip-path=\"url(#clip572)\" d=\"M11640.6 1423.18 L11640.6 1423.18 L11719.8 1423.18 L11719.8 1423.18 L11640.6 1423.18 L11640.6 1423.18  Z\" fill=\"#009af9\" fill-rule=\"evenodd\" fill-opacity=\"1\"/>\n",
       "<polyline clip-path=\"url(#clip572)\" style=\"stroke:#000000; stroke-linecap:round; stroke-linejoin:round; stroke-width:4; stroke-opacity:1; fill:none\" points=\"11640.6,1423.18 11640.6,1423.18 11719.8,1423.18 11640.6,1423.18 \"/>\n",
       "<path clip-path=\"url(#clip572)\" d=\"M11719.8 1423.18 L11719.8 1423.18 L11798.9 1423.18 L11798.9 1423.18 L11719.8 1423.18 L11719.8 1423.18  Z\" fill=\"#009af9\" fill-rule=\"evenodd\" fill-opacity=\"1\"/>\n",
       "<polyline clip-path=\"url(#clip572)\" style=\"stroke:#000000; stroke-linecap:round; stroke-linejoin:round; stroke-width:4; stroke-opacity:1; fill:none\" points=\"11719.8,1423.18 11719.8,1423.18 11798.9,1423.18 11719.8,1423.18 \"/>\n",
       "<path clip-path=\"url(#clip572)\" d=\"M11798.9 1423.18 L11798.9 1423.18 L11878.1 1423.18 L11878.1 1423.18 L11798.9 1423.18 L11798.9 1423.18  Z\" fill=\"#009af9\" fill-rule=\"evenodd\" fill-opacity=\"1\"/>\n",
       "<polyline clip-path=\"url(#clip572)\" style=\"stroke:#000000; stroke-linecap:round; stroke-linejoin:round; stroke-width:4; stroke-opacity:1; fill:none\" points=\"11798.9,1423.18 11798.9,1423.18 11878.1,1423.18 11798.9,1423.18 \"/>\n",
       "<path clip-path=\"url(#clip572)\" d=\"M11878.1 1423.18 L11878.1 1423.18 L11957.2 1423.18 L11957.2 1423.18 L11878.1 1423.18 L11878.1 1423.18  Z\" fill=\"#009af9\" fill-rule=\"evenodd\" fill-opacity=\"1\"/>\n",
       "<polyline clip-path=\"url(#clip572)\" style=\"stroke:#000000; stroke-linecap:round; stroke-linejoin:round; stroke-width:4; stroke-opacity:1; fill:none\" points=\"11878.1,1423.18 11878.1,1423.18 11957.2,1423.18 11878.1,1423.18 \"/>\n",
       "<path clip-path=\"url(#clip572)\" d=\"M11957.2 1423.18 L11957.2 1423.18 L12036.4 1423.18 L12036.4 1423.18 L11957.2 1423.18 L11957.2 1423.18  Z\" fill=\"#009af9\" fill-rule=\"evenodd\" fill-opacity=\"1\"/>\n",
       "<polyline clip-path=\"url(#clip572)\" style=\"stroke:#000000; stroke-linecap:round; stroke-linejoin:round; stroke-width:4; stroke-opacity:1; fill:none\" points=\"11957.2,1423.18 11957.2,1423.18 12036.4,1423.18 11957.2,1423.18 \"/>\n",
       "<path clip-path=\"url(#clip572)\" d=\"M12036.4 1423.18 L12036.4 1423.18 L12115.6 1423.18 L12115.6 1423.18 L12036.4 1423.18 L12036.4 1423.18  Z\" fill=\"#009af9\" fill-rule=\"evenodd\" fill-opacity=\"1\"/>\n",
       "<polyline clip-path=\"url(#clip572)\" style=\"stroke:#000000; stroke-linecap:round; stroke-linejoin:round; stroke-width:4; stroke-opacity:1; fill:none\" points=\"12036.4,1423.18 12036.4,1423.18 12115.6,1423.18 12036.4,1423.18 \"/>\n",
       "<path clip-path=\"url(#clip572)\" d=\"M12115.6 1423.18 L12115.6 1423.18 L12194.7 1423.18 L12194.7 1423.18 L12115.6 1423.18 L12115.6 1423.18  Z\" fill=\"#009af9\" fill-rule=\"evenodd\" fill-opacity=\"1\"/>\n",
       "<polyline clip-path=\"url(#clip572)\" style=\"stroke:#000000; stroke-linecap:round; stroke-linejoin:round; stroke-width:4; stroke-opacity:1; fill:none\" points=\"12115.6,1423.18 12115.6,1423.18 12194.7,1423.18 12115.6,1423.18 \"/>\n",
       "<path clip-path=\"url(#clip572)\" d=\"M12194.7 1423.18 L12194.7 1423.18 L12273.9 1423.18 L12273.9 1423.18 L12194.7 1423.18 L12194.7 1423.18  Z\" fill=\"#009af9\" fill-rule=\"evenodd\" fill-opacity=\"1\"/>\n",
       "<polyline clip-path=\"url(#clip572)\" style=\"stroke:#000000; stroke-linecap:round; stroke-linejoin:round; stroke-width:4; stroke-opacity:1; fill:none\" points=\"12194.7,1423.18 12194.7,1423.18 12273.9,1423.18 12194.7,1423.18 \"/>\n",
       "<path clip-path=\"url(#clip572)\" d=\"M12273.9 1423.18 L12273.9 1423.18 L12353 1423.18 L12353 1423.18 L12273.9 1423.18 L12273.9 1423.18  Z\" fill=\"#009af9\" fill-rule=\"evenodd\" fill-opacity=\"1\"/>\n",
       "<polyline clip-path=\"url(#clip572)\" style=\"stroke:#000000; stroke-linecap:round; stroke-linejoin:round; stroke-width:4; stroke-opacity:1; fill:none\" points=\"12273.9,1423.18 12273.9,1423.18 12353,1423.18 12273.9,1423.18 \"/>\n",
       "<path clip-path=\"url(#clip572)\" d=\"M12353 1423.18 L12353 1423.18 L12432.2 1423.18 L12432.2 1423.18 L12353 1423.18 L12353 1423.18  Z\" fill=\"#009af9\" fill-rule=\"evenodd\" fill-opacity=\"1\"/>\n",
       "<polyline clip-path=\"url(#clip572)\" style=\"stroke:#000000; stroke-linecap:round; stroke-linejoin:round; stroke-width:4; stroke-opacity:1; fill:none\" points=\"12353,1423.18 12353,1423.18 12432.2,1423.18 12353,1423.18 \"/>\n",
       "<path clip-path=\"url(#clip572)\" d=\"M12432.2 1423.18 L12432.2 1423.18 L12511.3 1423.18 L12511.3 1423.18 L12432.2 1423.18 L12432.2 1423.18  Z\" fill=\"#009af9\" fill-rule=\"evenodd\" fill-opacity=\"1\"/>\n",
       "<polyline clip-path=\"url(#clip572)\" style=\"stroke:#000000; stroke-linecap:round; stroke-linejoin:round; stroke-width:4; stroke-opacity:1; fill:none\" points=\"12432.2,1423.18 12432.2,1423.18 12511.3,1423.18 12432.2,1423.18 \"/>\n",
       "<path clip-path=\"url(#clip572)\" d=\"M12511.3 1423.18 L12511.3 1423.18 L12590.5 1423.18 L12590.5 1423.18 L12511.3 1423.18 L12511.3 1423.18  Z\" fill=\"#009af9\" fill-rule=\"evenodd\" fill-opacity=\"1\"/>\n",
       "<polyline clip-path=\"url(#clip572)\" style=\"stroke:#000000; stroke-linecap:round; stroke-linejoin:round; stroke-width:4; stroke-opacity:1; fill:none\" points=\"12511.3,1423.18 12511.3,1423.18 12590.5,1423.18 12511.3,1423.18 \"/>\n",
       "<path clip-path=\"url(#clip572)\" d=\"M12590.5 1423.18 L12590.5 1423.18 L12669.6 1423.18 L12669.6 1423.18 L12590.5 1423.18 L12590.5 1423.18  Z\" fill=\"#009af9\" fill-rule=\"evenodd\" fill-opacity=\"1\"/>\n",
       "<polyline clip-path=\"url(#clip572)\" style=\"stroke:#000000; stroke-linecap:round; stroke-linejoin:round; stroke-width:4; stroke-opacity:1; fill:none\" points=\"12590.5,1423.18 12590.5,1423.18 12669.6,1423.18 12590.5,1423.18 \"/>\n",
       "<path clip-path=\"url(#clip572)\" d=\"M12669.6 1423.18 L12669.6 1423.18 L12748.8 1423.18 L12748.8 1423.18 L12669.6 1423.18 L12669.6 1423.18  Z\" fill=\"#009af9\" fill-rule=\"evenodd\" fill-opacity=\"1\"/>\n",
       "<polyline clip-path=\"url(#clip572)\" style=\"stroke:#000000; stroke-linecap:round; stroke-linejoin:round; stroke-width:4; stroke-opacity:1; fill:none\" points=\"12669.6,1423.18 12669.6,1423.18 12748.8,1423.18 12669.6,1423.18 \"/>\n",
       "<path clip-path=\"url(#clip572)\" d=\"M12748.8 1423.18 L12748.8 1423.18 L12828 1423.18 L12828 1423.18 L12748.8 1423.18 L12748.8 1423.18  Z\" fill=\"#009af9\" fill-rule=\"evenodd\" fill-opacity=\"1\"/>\n",
       "<polyline clip-path=\"url(#clip572)\" style=\"stroke:#000000; stroke-linecap:round; stroke-linejoin:round; stroke-width:4; stroke-opacity:1; fill:none\" points=\"12748.8,1423.18 12748.8,1423.18 12828,1423.18 12748.8,1423.18 \"/>\n",
       "<path clip-path=\"url(#clip572)\" d=\"M12828 1423.18 L12828 1423.18 L12907.1 1423.18 L12907.1 1423.18 L12828 1423.18 L12828 1423.18  Z\" fill=\"#009af9\" fill-rule=\"evenodd\" fill-opacity=\"1\"/>\n",
       "<polyline clip-path=\"url(#clip572)\" style=\"stroke:#000000; stroke-linecap:round; stroke-linejoin:round; stroke-width:4; stroke-opacity:1; fill:none\" points=\"12828,1423.18 12828,1423.18 12907.1,1423.18 12828,1423.18 \"/>\n",
       "<path clip-path=\"url(#clip572)\" d=\"M12907.1 1423.18 L12907.1 1423.18 L12986.3 1423.18 L12986.3 1423.18 L12907.1 1423.18 L12907.1 1423.18  Z\" fill=\"#009af9\" fill-rule=\"evenodd\" fill-opacity=\"1\"/>\n",
       "<polyline clip-path=\"url(#clip572)\" style=\"stroke:#000000; stroke-linecap:round; stroke-linejoin:round; stroke-width:4; stroke-opacity:1; fill:none\" points=\"12907.1,1423.18 12907.1,1423.18 12986.3,1423.18 12907.1,1423.18 \"/>\n",
       "<path clip-path=\"url(#clip572)\" d=\"M12986.3 1423.18 L12986.3 1423.18 L13065.4 1423.18 L13065.4 1423.18 L12986.3 1423.18 L12986.3 1423.18  Z\" fill=\"#009af9\" fill-rule=\"evenodd\" fill-opacity=\"1\"/>\n",
       "<polyline clip-path=\"url(#clip572)\" style=\"stroke:#000000; stroke-linecap:round; stroke-linejoin:round; stroke-width:4; stroke-opacity:1; fill:none\" points=\"12986.3,1423.18 12986.3,1423.18 13065.4,1423.18 12986.3,1423.18 \"/>\n",
       "<path clip-path=\"url(#clip572)\" d=\"M13065.4 1423.18 L13065.4 1423.18 L13144.6 1423.18 L13144.6 1423.18 L13065.4 1423.18 L13065.4 1423.18  Z\" fill=\"#009af9\" fill-rule=\"evenodd\" fill-opacity=\"1\"/>\n",
       "<polyline clip-path=\"url(#clip572)\" style=\"stroke:#000000; stroke-linecap:round; stroke-linejoin:round; stroke-width:4; stroke-opacity:1; fill:none\" points=\"13065.4,1423.18 13065.4,1423.18 13144.6,1423.18 13065.4,1423.18 \"/>\n",
       "<path clip-path=\"url(#clip572)\" d=\"M13144.6 1423.18 L13144.6 1423.18 L13223.7 1423.18 L13223.7 1423.18 L13144.6 1423.18 L13144.6 1423.18  Z\" fill=\"#009af9\" fill-rule=\"evenodd\" fill-opacity=\"1\"/>\n",
       "<polyline clip-path=\"url(#clip572)\" style=\"stroke:#000000; stroke-linecap:round; stroke-linejoin:round; stroke-width:4; stroke-opacity:1; fill:none\" points=\"13144.6,1423.18 13144.6,1423.18 13223.7,1423.18 13144.6,1423.18 \"/>\n",
       "<path clip-path=\"url(#clip572)\" d=\"M13223.7 1423.18 L13223.7 1423.18 L13302.9 1423.18 L13302.9 1423.18 L13223.7 1423.18 L13223.7 1423.18  Z\" fill=\"#009af9\" fill-rule=\"evenodd\" fill-opacity=\"1\"/>\n",
       "<polyline clip-path=\"url(#clip572)\" style=\"stroke:#000000; stroke-linecap:round; stroke-linejoin:round; stroke-width:4; stroke-opacity:1; fill:none\" points=\"13223.7,1423.18 13223.7,1423.18 13302.9,1423.18 13223.7,1423.18 \"/>\n",
       "<path clip-path=\"url(#clip572)\" d=\"M13302.9 1423.18 L13302.9 1423.18 L13382 1423.18 L13382 1423.18 L13302.9 1423.18 L13302.9 1423.18  Z\" fill=\"#009af9\" fill-rule=\"evenodd\" fill-opacity=\"1\"/>\n",
       "<polyline clip-path=\"url(#clip572)\" style=\"stroke:#000000; stroke-linecap:round; stroke-linejoin:round; stroke-width:4; stroke-opacity:1; fill:none\" points=\"13302.9,1423.18 13302.9,1423.18 13382,1423.18 13302.9,1423.18 \"/>\n",
       "<path clip-path=\"url(#clip572)\" d=\"M13382 1423.18 L13382 1423.18 L13461.2 1423.18 L13461.2 1423.18 L13382 1423.18 L13382 1423.18  Z\" fill=\"#009af9\" fill-rule=\"evenodd\" fill-opacity=\"1\"/>\n",
       "<polyline clip-path=\"url(#clip572)\" style=\"stroke:#000000; stroke-linecap:round; stroke-linejoin:round; stroke-width:4; stroke-opacity:1; fill:none\" points=\"13382,1423.18 13382,1423.18 13461.2,1423.18 13382,1423.18 \"/>\n",
       "<path clip-path=\"url(#clip572)\" d=\"M13461.2 1423.18 L13461.2 1423.18 L13540.4 1423.18 L13540.4 1423.18 L13461.2 1423.18 L13461.2 1423.18  Z\" fill=\"#009af9\" fill-rule=\"evenodd\" fill-opacity=\"1\"/>\n",
       "<polyline clip-path=\"url(#clip572)\" style=\"stroke:#000000; stroke-linecap:round; stroke-linejoin:round; stroke-width:4; stroke-opacity:1; fill:none\" points=\"13461.2,1423.18 13461.2,1423.18 13540.4,1423.18 13461.2,1423.18 \"/>\n",
       "<path clip-path=\"url(#clip572)\" d=\"M13540.4 1423.18 L13540.4 1423.18 L13619.5 1423.18 L13619.5 1423.18 L13540.4 1423.18 L13540.4 1423.18  Z\" fill=\"#009af9\" fill-rule=\"evenodd\" fill-opacity=\"1\"/>\n",
       "<polyline clip-path=\"url(#clip572)\" style=\"stroke:#000000; stroke-linecap:round; stroke-linejoin:round; stroke-width:4; stroke-opacity:1; fill:none\" points=\"13540.4,1423.18 13540.4,1423.18 13619.5,1423.18 13540.4,1423.18 \"/>\n",
       "<path clip-path=\"url(#clip572)\" d=\"M13619.5 1423.18 L13619.5 1423.18 L13698.7 1423.18 L13698.7 1423.18 L13619.5 1423.18 L13619.5 1423.18  Z\" fill=\"#009af9\" fill-rule=\"evenodd\" fill-opacity=\"1\"/>\n",
       "<polyline clip-path=\"url(#clip572)\" style=\"stroke:#000000; stroke-linecap:round; stroke-linejoin:round; stroke-width:4; stroke-opacity:1; fill:none\" points=\"13619.5,1423.18 13619.5,1423.18 13698.7,1423.18 13619.5,1423.18 \"/>\n",
       "<path clip-path=\"url(#clip572)\" d=\"M13698.7 1423.18 L13698.7 1423.18 L13777.8 1423.18 L13777.8 1423.18 L13698.7 1423.18 L13698.7 1423.18  Z\" fill=\"#009af9\" fill-rule=\"evenodd\" fill-opacity=\"1\"/>\n",
       "<polyline clip-path=\"url(#clip572)\" style=\"stroke:#000000; stroke-linecap:round; stroke-linejoin:round; stroke-width:4; stroke-opacity:1; fill:none\" points=\"13698.7,1423.18 13698.7,1423.18 13777.8,1423.18 13698.7,1423.18 \"/>\n",
       "<path clip-path=\"url(#clip572)\" d=\"M13777.8 1423.18 L13777.8 1423.18 L13857 1423.18 L13857 1423.18 L13777.8 1423.18 L13777.8 1423.18  Z\" fill=\"#009af9\" fill-rule=\"evenodd\" fill-opacity=\"1\"/>\n",
       "<polyline clip-path=\"url(#clip572)\" style=\"stroke:#000000; stroke-linecap:round; stroke-linejoin:round; stroke-width:4; stroke-opacity:1; fill:none\" points=\"13777.8,1423.18 13777.8,1423.18 13857,1423.18 13777.8,1423.18 \"/>\n",
       "<path clip-path=\"url(#clip572)\" d=\"M13857 1423.18 L13857 1423.18 L13936.1 1423.18 L13936.1 1423.18 L13857 1423.18 L13857 1423.18  Z\" fill=\"#009af9\" fill-rule=\"evenodd\" fill-opacity=\"1\"/>\n",
       "<polyline clip-path=\"url(#clip572)\" style=\"stroke:#000000; stroke-linecap:round; stroke-linejoin:round; stroke-width:4; stroke-opacity:1; fill:none\" points=\"13857,1423.18 13857,1423.18 13936.1,1423.18 13857,1423.18 \"/>\n",
       "<path clip-path=\"url(#clip572)\" d=\"M13936.1 1423.18 L13936.1 1423.18 L14015.3 1423.18 L14015.3 1423.18 L13936.1 1423.18 L13936.1 1423.18  Z\" fill=\"#009af9\" fill-rule=\"evenodd\" fill-opacity=\"1\"/>\n",
       "<polyline clip-path=\"url(#clip572)\" style=\"stroke:#000000; stroke-linecap:round; stroke-linejoin:round; stroke-width:4; stroke-opacity:1; fill:none\" points=\"13936.1,1423.18 13936.1,1423.18 14015.3,1423.18 13936.1,1423.18 \"/>\n",
       "<path clip-path=\"url(#clip572)\" d=\"M14015.3 1423.18 L14015.3 1423.18 L14094.4 1423.18 L14094.4 1423.18 L14015.3 1423.18 L14015.3 1423.18  Z\" fill=\"#009af9\" fill-rule=\"evenodd\" fill-opacity=\"1\"/>\n",
       "<polyline clip-path=\"url(#clip572)\" style=\"stroke:#000000; stroke-linecap:round; stroke-linejoin:round; stroke-width:4; stroke-opacity:1; fill:none\" points=\"14015.3,1423.18 14015.3,1423.18 14094.4,1423.18 14015.3,1423.18 \"/>\n",
       "<path clip-path=\"url(#clip572)\" d=\"M14094.4 1423.18 L14094.4 1423.18 L14173.6 1423.18 L14173.6 1423.18 L14094.4 1423.18 L14094.4 1423.18  Z\" fill=\"#009af9\" fill-rule=\"evenodd\" fill-opacity=\"1\"/>\n",
       "<polyline clip-path=\"url(#clip572)\" style=\"stroke:#000000; stroke-linecap:round; stroke-linejoin:round; stroke-width:4; stroke-opacity:1; fill:none\" points=\"14094.4,1423.18 14094.4,1423.18 14173.6,1423.18 14094.4,1423.18 \"/>\n",
       "<path clip-path=\"url(#clip572)\" d=\"M14173.6 1423.18 L14173.6 1423.18 L14252.8 1423.18 L14252.8 1423.18 L14173.6 1423.18 L14173.6 1423.18  Z\" fill=\"#009af9\" fill-rule=\"evenodd\" fill-opacity=\"1\"/>\n",
       "<polyline clip-path=\"url(#clip572)\" style=\"stroke:#000000; stroke-linecap:round; stroke-linejoin:round; stroke-width:4; stroke-opacity:1; fill:none\" points=\"14173.6,1423.18 14173.6,1423.18 14252.8,1423.18 14173.6,1423.18 \"/>\n",
       "<path clip-path=\"url(#clip572)\" d=\"M14252.8 1423.18 L14252.8 1423.18 L14331.9 1423.18 L14331.9 1423.18 L14252.8 1423.18 L14252.8 1423.18  Z\" fill=\"#009af9\" fill-rule=\"evenodd\" fill-opacity=\"1\"/>\n",
       "<polyline clip-path=\"url(#clip572)\" style=\"stroke:#000000; stroke-linecap:round; stroke-linejoin:round; stroke-width:4; stroke-opacity:1; fill:none\" points=\"14252.8,1423.18 14252.8,1423.18 14331.9,1423.18 14252.8,1423.18 \"/>\n",
       "<path clip-path=\"url(#clip572)\" d=\"M14331.9 1423.18 L14331.9 1423.18 L14411.1 1423.18 L14411.1 1423.18 L14331.9 1423.18 L14331.9 1423.18  Z\" fill=\"#009af9\" fill-rule=\"evenodd\" fill-opacity=\"1\"/>\n",
       "<polyline clip-path=\"url(#clip572)\" style=\"stroke:#000000; stroke-linecap:round; stroke-linejoin:round; stroke-width:4; stroke-opacity:1; fill:none\" points=\"14331.9,1423.18 14331.9,1423.18 14411.1,1423.18 14331.9,1423.18 \"/>\n",
       "<path clip-path=\"url(#clip572)\" d=\"M14411.1 1423.18 L14411.1 1423.18 L14490.2 1423.18 L14490.2 1423.18 L14411.1 1423.18 L14411.1 1423.18  Z\" fill=\"#009af9\" fill-rule=\"evenodd\" fill-opacity=\"1\"/>\n",
       "<polyline clip-path=\"url(#clip572)\" style=\"stroke:#000000; stroke-linecap:round; stroke-linejoin:round; stroke-width:4; stroke-opacity:1; fill:none\" points=\"14411.1,1423.18 14411.1,1423.18 14490.2,1423.18 14411.1,1423.18 \"/>\n",
       "<path clip-path=\"url(#clip572)\" d=\"M14490.2 1423.18 L14490.2 1423.18 L14569.4 1423.18 L14569.4 1423.18 L14490.2 1423.18 L14490.2 1423.18  Z\" fill=\"#009af9\" fill-rule=\"evenodd\" fill-opacity=\"1\"/>\n",
       "<polyline clip-path=\"url(#clip572)\" style=\"stroke:#000000; stroke-linecap:round; stroke-linejoin:round; stroke-width:4; stroke-opacity:1; fill:none\" points=\"14490.2,1423.18 14490.2,1423.18 14569.4,1423.18 14490.2,1423.18 \"/>\n",
       "<path clip-path=\"url(#clip572)\" d=\"M14569.4 1423.18 L14569.4 1423.18 L14648.5 1423.18 L14648.5 1423.18 L14569.4 1423.18 L14569.4 1423.18  Z\" fill=\"#009af9\" fill-rule=\"evenodd\" fill-opacity=\"1\"/>\n",
       "<polyline clip-path=\"url(#clip572)\" style=\"stroke:#000000; stroke-linecap:round; stroke-linejoin:round; stroke-width:4; stroke-opacity:1; fill:none\" points=\"14569.4,1423.18 14569.4,1423.18 14648.5,1423.18 14569.4,1423.18 \"/>\n",
       "<path clip-path=\"url(#clip572)\" d=\"M14648.5 1423.18 L14648.5 1423.18 L14727.7 1423.18 L14727.7 1423.18 L14648.5 1423.18 L14648.5 1423.18  Z\" fill=\"#009af9\" fill-rule=\"evenodd\" fill-opacity=\"1\"/>\n",
       "<polyline clip-path=\"url(#clip572)\" style=\"stroke:#000000; stroke-linecap:round; stroke-linejoin:round; stroke-width:4; stroke-opacity:1; fill:none\" points=\"14648.5,1423.18 14648.5,1423.18 14727.7,1423.18 14648.5,1423.18 \"/>\n",
       "<path clip-path=\"url(#clip572)\" d=\"M14727.7 1423.18 L14727.7 1423.18 L14806.8 1423.18 L14806.8 1423.18 L14727.7 1423.18 L14727.7 1423.18  Z\" fill=\"#009af9\" fill-rule=\"evenodd\" fill-opacity=\"1\"/>\n",
       "<polyline clip-path=\"url(#clip572)\" style=\"stroke:#000000; stroke-linecap:round; stroke-linejoin:round; stroke-width:4; stroke-opacity:1; fill:none\" points=\"14727.7,1423.18 14727.7,1423.18 14806.8,1423.18 14727.7,1423.18 \"/>\n",
       "<path clip-path=\"url(#clip572)\" d=\"M14806.8 1423.18 L14806.8 1423.18 L14886 1423.18 L14886 1423.18 L14806.8 1423.18 L14806.8 1423.18  Z\" fill=\"#009af9\" fill-rule=\"evenodd\" fill-opacity=\"1\"/>\n",
       "<polyline clip-path=\"url(#clip572)\" style=\"stroke:#000000; stroke-linecap:round; stroke-linejoin:round; stroke-width:4; stroke-opacity:1; fill:none\" points=\"14806.8,1423.18 14806.8,1423.18 14886,1423.18 14806.8,1423.18 \"/>\n",
       "<path clip-path=\"url(#clip572)\" d=\"M14886 1423.18 L14886 1423.18 L14965.2 1423.18 L14965.2 1423.18 L14886 1423.18 L14886 1423.18  Z\" fill=\"#009af9\" fill-rule=\"evenodd\" fill-opacity=\"1\"/>\n",
       "<polyline clip-path=\"url(#clip572)\" style=\"stroke:#000000; stroke-linecap:round; stroke-linejoin:round; stroke-width:4; stroke-opacity:1; fill:none\" points=\"14886,1423.18 14886,1423.18 14965.2,1423.18 14886,1423.18 \"/>\n",
       "<path clip-path=\"url(#clip572)\" d=\"M14965.2 1423.18 L14965.2 1423.18 L15044.3 1423.18 L15044.3 1423.18 L14965.2 1423.18 L14965.2 1423.18  Z\" fill=\"#009af9\" fill-rule=\"evenodd\" fill-opacity=\"1\"/>\n",
       "<polyline clip-path=\"url(#clip572)\" style=\"stroke:#000000; stroke-linecap:round; stroke-linejoin:round; stroke-width:4; stroke-opacity:1; fill:none\" points=\"14965.2,1423.18 14965.2,1423.18 15044.3,1423.18 14965.2,1423.18 \"/>\n",
       "<path clip-path=\"url(#clip572)\" d=\"M15044.3 1423.18 L15044.3 1423.18 L15123.5 1423.18 L15123.5 1423.18 L15044.3 1423.18 L15044.3 1423.18  Z\" fill=\"#009af9\" fill-rule=\"evenodd\" fill-opacity=\"1\"/>\n",
       "<polyline clip-path=\"url(#clip572)\" style=\"stroke:#000000; stroke-linecap:round; stroke-linejoin:round; stroke-width:4; stroke-opacity:1; fill:none\" points=\"15044.3,1423.18 15044.3,1423.18 15123.5,1423.18 15044.3,1423.18 \"/>\n",
       "<path clip-path=\"url(#clip572)\" d=\"M15123.5 1423.18 L15123.5 1423.18 L15202.6 1423.18 L15202.6 1423.18 L15123.5 1423.18 L15123.5 1423.18  Z\" fill=\"#009af9\" fill-rule=\"evenodd\" fill-opacity=\"1\"/>\n",
       "<polyline clip-path=\"url(#clip572)\" style=\"stroke:#000000; stroke-linecap:round; stroke-linejoin:round; stroke-width:4; stroke-opacity:1; fill:none\" points=\"15123.5,1423.18 15123.5,1423.18 15202.6,1423.18 15123.5,1423.18 \"/>\n",
       "<path clip-path=\"url(#clip572)\" d=\"M15202.6 1423.18 L15202.6 1423.18 L15281.8 1423.18 L15281.8 1423.18 L15202.6 1423.18 L15202.6 1423.18  Z\" fill=\"#009af9\" fill-rule=\"evenodd\" fill-opacity=\"1\"/>\n",
       "<polyline clip-path=\"url(#clip572)\" style=\"stroke:#000000; stroke-linecap:round; stroke-linejoin:round; stroke-width:4; stroke-opacity:1; fill:none\" points=\"15202.6,1423.18 15202.6,1423.18 15281.8,1423.18 15202.6,1423.18 \"/>\n",
       "<path clip-path=\"url(#clip572)\" d=\"M15281.8 1423.18 L15281.8 1423.18 L15360.9 1423.18 L15360.9 1423.18 L15281.8 1423.18 L15281.8 1423.18  Z\" fill=\"#009af9\" fill-rule=\"evenodd\" fill-opacity=\"1\"/>\n",
       "<polyline clip-path=\"url(#clip572)\" style=\"stroke:#000000; stroke-linecap:round; stroke-linejoin:round; stroke-width:4; stroke-opacity:1; fill:none\" points=\"15281.8,1423.18 15281.8,1423.18 15360.9,1423.18 15281.8,1423.18 \"/>\n",
       "<path clip-path=\"url(#clip572)\" d=\"M15360.9 1423.18 L15360.9 1423.18 L15440.1 1423.18 L15440.1 1423.18 L15360.9 1423.18 L15360.9 1423.18  Z\" fill=\"#009af9\" fill-rule=\"evenodd\" fill-opacity=\"1\"/>\n",
       "<polyline clip-path=\"url(#clip572)\" style=\"stroke:#000000; stroke-linecap:round; stroke-linejoin:round; stroke-width:4; stroke-opacity:1; fill:none\" points=\"15360.9,1423.18 15360.9,1423.18 15440.1,1423.18 15360.9,1423.18 \"/>\n",
       "<path clip-path=\"url(#clip572)\" d=\"M15440.1 1423.18 L15440.1 1423.18 L15519.2 1423.18 L15519.2 1423.18 L15440.1 1423.18 L15440.1 1423.18  Z\" fill=\"#009af9\" fill-rule=\"evenodd\" fill-opacity=\"1\"/>\n",
       "<polyline clip-path=\"url(#clip572)\" style=\"stroke:#000000; stroke-linecap:round; stroke-linejoin:round; stroke-width:4; stroke-opacity:1; fill:none\" points=\"15440.1,1423.18 15440.1,1423.18 15519.2,1423.18 15440.1,1423.18 \"/>\n",
       "<path clip-path=\"url(#clip572)\" d=\"M15519.2 1423.18 L15519.2 1423.18 L15598.4 1423.18 L15598.4 1423.18 L15519.2 1423.18 L15519.2 1423.18  Z\" fill=\"#009af9\" fill-rule=\"evenodd\" fill-opacity=\"1\"/>\n",
       "<polyline clip-path=\"url(#clip572)\" style=\"stroke:#000000; stroke-linecap:round; stroke-linejoin:round; stroke-width:4; stroke-opacity:1; fill:none\" points=\"15519.2,1423.18 15519.2,1423.18 15598.4,1423.18 15519.2,1423.18 \"/>\n",
       "<path clip-path=\"url(#clip572)\" d=\"M15598.4 1423.18 L15598.4 1423.18 L15677.6 1423.18 L15677.6 1423.18 L15598.4 1423.18 L15598.4 1423.18  Z\" fill=\"#009af9\" fill-rule=\"evenodd\" fill-opacity=\"1\"/>\n",
       "<polyline clip-path=\"url(#clip572)\" style=\"stroke:#000000; stroke-linecap:round; stroke-linejoin:round; stroke-width:4; stroke-opacity:1; fill:none\" points=\"15598.4,1423.18 15598.4,1423.18 15677.6,1423.18 15598.4,1423.18 \"/>\n",
       "<path clip-path=\"url(#clip572)\" d=\"M15677.6 1423.18 L15677.6 1423.18 L15756.7 1423.18 L15756.7 1423.18 L15677.6 1423.18 L15677.6 1423.18  Z\" fill=\"#009af9\" fill-rule=\"evenodd\" fill-opacity=\"1\"/>\n",
       "<polyline clip-path=\"url(#clip572)\" style=\"stroke:#000000; stroke-linecap:round; stroke-linejoin:round; stroke-width:4; stroke-opacity:1; fill:none\" points=\"15677.6,1423.18 15677.6,1423.18 15756.7,1423.18 15677.6,1423.18 \"/>\n",
       "<path clip-path=\"url(#clip572)\" d=\"M15756.7 1423.18 L15756.7 1423.18 L15835.9 1423.18 L15835.9 1423.18 L15756.7 1423.18 L15756.7 1423.18  Z\" fill=\"#009af9\" fill-rule=\"evenodd\" fill-opacity=\"1\"/>\n",
       "<polyline clip-path=\"url(#clip572)\" style=\"stroke:#000000; stroke-linecap:round; stroke-linejoin:round; stroke-width:4; stroke-opacity:1; fill:none\" points=\"15756.7,1423.18 15756.7,1423.18 15835.9,1423.18 15756.7,1423.18 \"/>\n",
       "<path clip-path=\"url(#clip572)\" d=\"M15835.9 1423.18 L15835.9 1423.18 L15915 1423.18 L15915 1423.18 L15835.9 1423.18 L15835.9 1423.18  Z\" fill=\"#009af9\" fill-rule=\"evenodd\" fill-opacity=\"1\"/>\n",
       "<polyline clip-path=\"url(#clip572)\" style=\"stroke:#000000; stroke-linecap:round; stroke-linejoin:round; stroke-width:4; stroke-opacity:1; fill:none\" points=\"15835.9,1423.18 15835.9,1423.18 15915,1423.18 15835.9,1423.18 \"/>\n",
       "<path clip-path=\"url(#clip572)\" d=\"M15915 1423.18 L15915 1423.18 L15994.2 1423.18 L15994.2 1423.18 L15915 1423.18 L15915 1423.18  Z\" fill=\"#009af9\" fill-rule=\"evenodd\" fill-opacity=\"1\"/>\n",
       "<polyline clip-path=\"url(#clip572)\" style=\"stroke:#000000; stroke-linecap:round; stroke-linejoin:round; stroke-width:4; stroke-opacity:1; fill:none\" points=\"15915,1423.18 15915,1423.18 15994.2,1423.18 15915,1423.18 \"/>\n",
       "<path clip-path=\"url(#clip572)\" d=\"M15994.2 1423.18 L15994.2 1423.18 L16073.3 1423.18 L16073.3 1423.18 L15994.2 1423.18 L15994.2 1423.18  Z\" fill=\"#009af9\" fill-rule=\"evenodd\" fill-opacity=\"1\"/>\n",
       "<polyline clip-path=\"url(#clip572)\" style=\"stroke:#000000; stroke-linecap:round; stroke-linejoin:round; stroke-width:4; stroke-opacity:1; fill:none\" points=\"15994.2,1423.18 15994.2,1423.18 16073.3,1423.18 15994.2,1423.18 \"/>\n",
       "<path clip-path=\"url(#clip572)\" d=\"M16073.3 1423.18 L16073.3 1423.18 L16152.5 1423.18 L16152.5 1423.18 L16073.3 1423.18 L16073.3 1423.18  Z\" fill=\"#009af9\" fill-rule=\"evenodd\" fill-opacity=\"1\"/>\n",
       "<polyline clip-path=\"url(#clip572)\" style=\"stroke:#000000; stroke-linecap:round; stroke-linejoin:round; stroke-width:4; stroke-opacity:1; fill:none\" points=\"16073.3,1423.18 16073.3,1423.18 16152.5,1423.18 16073.3,1423.18 \"/>\n",
       "<path clip-path=\"url(#clip572)\" d=\"M16152.5 1423.18 L16152.5 1423.18 L16231.6 1423.18 L16231.6 1423.18 L16152.5 1423.18 L16152.5 1423.18  Z\" fill=\"#009af9\" fill-rule=\"evenodd\" fill-opacity=\"1\"/>\n",
       "<polyline clip-path=\"url(#clip572)\" style=\"stroke:#000000; stroke-linecap:round; stroke-linejoin:round; stroke-width:4; stroke-opacity:1; fill:none\" points=\"16152.5,1423.18 16152.5,1423.18 16231.6,1423.18 16152.5,1423.18 \"/>\n",
       "<path clip-path=\"url(#clip572)\" d=\"M16231.6 1423.18 L16231.6 1423.18 L16310.8 1423.18 L16310.8 1423.18 L16231.6 1423.18 L16231.6 1423.18  Z\" fill=\"#009af9\" fill-rule=\"evenodd\" fill-opacity=\"1\"/>\n",
       "<polyline clip-path=\"url(#clip572)\" style=\"stroke:#000000; stroke-linecap:round; stroke-linejoin:round; stroke-width:4; stroke-opacity:1; fill:none\" points=\"16231.6,1423.18 16231.6,1423.18 16310.8,1423.18 16231.6,1423.18 \"/>\n",
       "<path clip-path=\"url(#clip572)\" d=\"M16310.8 1423.18 L16310.8 1423.18 L16390 1423.18 L16390 1423.18 L16310.8 1423.18 L16310.8 1423.18  Z\" fill=\"#009af9\" fill-rule=\"evenodd\" fill-opacity=\"1\"/>\n",
       "<polyline clip-path=\"url(#clip572)\" style=\"stroke:#000000; stroke-linecap:round; stroke-linejoin:round; stroke-width:4; stroke-opacity:1; fill:none\" points=\"16310.8,1423.18 16310.8,1423.18 16390,1423.18 16310.8,1423.18 \"/>\n",
       "<path clip-path=\"url(#clip572)\" d=\"M16390 1423.18 L16390 1423.18 L16469.1 1423.18 L16469.1 1423.18 L16390 1423.18 L16390 1423.18  Z\" fill=\"#009af9\" fill-rule=\"evenodd\" fill-opacity=\"1\"/>\n",
       "<polyline clip-path=\"url(#clip572)\" style=\"stroke:#000000; stroke-linecap:round; stroke-linejoin:round; stroke-width:4; stroke-opacity:1; fill:none\" points=\"16390,1423.18 16390,1423.18 16469.1,1423.18 16390,1423.18 \"/>\n",
       "<path clip-path=\"url(#clip572)\" d=\"M16469.1 1423.18 L16469.1 1423.18 L16548.3 1423.18 L16548.3 1423.18 L16469.1 1423.18 L16469.1 1423.18  Z\" fill=\"#009af9\" fill-rule=\"evenodd\" fill-opacity=\"1\"/>\n",
       "<polyline clip-path=\"url(#clip572)\" style=\"stroke:#000000; stroke-linecap:round; stroke-linejoin:round; stroke-width:4; stroke-opacity:1; fill:none\" points=\"16469.1,1423.18 16469.1,1423.18 16548.3,1423.18 16469.1,1423.18 \"/>\n",
       "<path clip-path=\"url(#clip572)\" d=\"M16548.3 1423.18 L16548.3 1423.18 L16627.4 1423.18 L16627.4 1423.18 L16548.3 1423.18 L16548.3 1423.18  Z\" fill=\"#009af9\" fill-rule=\"evenodd\" fill-opacity=\"1\"/>\n",
       "<polyline clip-path=\"url(#clip572)\" style=\"stroke:#000000; stroke-linecap:round; stroke-linejoin:round; stroke-width:4; stroke-opacity:1; fill:none\" points=\"16548.3,1423.18 16548.3,1423.18 16627.4,1423.18 16548.3,1423.18 \"/>\n",
       "<path clip-path=\"url(#clip572)\" d=\"M16627.4 1423.18 L16627.4 1423.18 L16706.6 1423.18 L16706.6 1423.18 L16627.4 1423.18 L16627.4 1423.18  Z\" fill=\"#009af9\" fill-rule=\"evenodd\" fill-opacity=\"1\"/>\n",
       "<polyline clip-path=\"url(#clip572)\" style=\"stroke:#000000; stroke-linecap:round; stroke-linejoin:round; stroke-width:4; stroke-opacity:1; fill:none\" points=\"16627.4,1423.18 16627.4,1423.18 16706.6,1423.18 16627.4,1423.18 \"/>\n",
       "<path clip-path=\"url(#clip572)\" d=\"M16706.6 1423.18 L16706.6 1423.18 L16785.7 1423.18 L16785.7 1423.18 L16706.6 1423.18 L16706.6 1423.18  Z\" fill=\"#009af9\" fill-rule=\"evenodd\" fill-opacity=\"1\"/>\n",
       "<polyline clip-path=\"url(#clip572)\" style=\"stroke:#000000; stroke-linecap:round; stroke-linejoin:round; stroke-width:4; stroke-opacity:1; fill:none\" points=\"16706.6,1423.18 16706.6,1423.18 16785.7,1423.18 16706.6,1423.18 \"/>\n",
       "<path clip-path=\"url(#clip572)\" d=\"M16785.7 1423.18 L16785.7 1423.18 L16864.9 1423.18 L16864.9 1423.18 L16785.7 1423.18 L16785.7 1423.18  Z\" fill=\"#009af9\" fill-rule=\"evenodd\" fill-opacity=\"1\"/>\n",
       "<polyline clip-path=\"url(#clip572)\" style=\"stroke:#000000; stroke-linecap:round; stroke-linejoin:round; stroke-width:4; stroke-opacity:1; fill:none\" points=\"16785.7,1423.18 16785.7,1423.18 16864.9,1423.18 16785.7,1423.18 \"/>\n",
       "<path clip-path=\"url(#clip572)\" d=\"M16864.9 1423.18 L16864.9 1423.18 L16944 1423.18 L16944 1423.18 L16864.9 1423.18 L16864.9 1423.18  Z\" fill=\"#009af9\" fill-rule=\"evenodd\" fill-opacity=\"1\"/>\n",
       "<polyline clip-path=\"url(#clip572)\" style=\"stroke:#000000; stroke-linecap:round; stroke-linejoin:round; stroke-width:4; stroke-opacity:1; fill:none\" points=\"16864.9,1423.18 16864.9,1423.18 16944,1423.18 16864.9,1423.18 \"/>\n",
       "<path clip-path=\"url(#clip572)\" d=\"M16944 1423.18 L16944 1423.18 L17023.2 1423.18 L17023.2 1423.18 L16944 1423.18 L16944 1423.18  Z\" fill=\"#009af9\" fill-rule=\"evenodd\" fill-opacity=\"1\"/>\n",
       "<polyline clip-path=\"url(#clip572)\" style=\"stroke:#000000; stroke-linecap:round; stroke-linejoin:round; stroke-width:4; stroke-opacity:1; fill:none\" points=\"16944,1423.18 16944,1423.18 17023.2,1423.18 16944,1423.18 \"/>\n",
       "<path clip-path=\"url(#clip572)\" d=\"M17023.2 1423.18 L17023.2 1423.18 L17102.4 1423.18 L17102.4 1423.18 L17023.2 1423.18 L17023.2 1423.18  Z\" fill=\"#009af9\" fill-rule=\"evenodd\" fill-opacity=\"1\"/>\n",
       "<polyline clip-path=\"url(#clip572)\" style=\"stroke:#000000; stroke-linecap:round; stroke-linejoin:round; stroke-width:4; stroke-opacity:1; fill:none\" points=\"17023.2,1423.18 17023.2,1423.18 17102.4,1423.18 17023.2,1423.18 \"/>\n",
       "<path clip-path=\"url(#clip572)\" d=\"M17102.4 1423.18 L17102.4 1423.18 L17181.5 1423.18 L17181.5 1423.18 L17102.4 1423.18 L17102.4 1423.18  Z\" fill=\"#009af9\" fill-rule=\"evenodd\" fill-opacity=\"1\"/>\n",
       "<polyline clip-path=\"url(#clip572)\" style=\"stroke:#000000; stroke-linecap:round; stroke-linejoin:round; stroke-width:4; stroke-opacity:1; fill:none\" points=\"17102.4,1423.18 17102.4,1423.18 17181.5,1423.18 17102.4,1423.18 \"/>\n",
       "<path clip-path=\"url(#clip572)\" d=\"M17181.5 1423.18 L17181.5 1423.18 L17260.7 1423.18 L17260.7 1423.18 L17181.5 1423.18 L17181.5 1423.18  Z\" fill=\"#009af9\" fill-rule=\"evenodd\" fill-opacity=\"1\"/>\n",
       "<polyline clip-path=\"url(#clip572)\" style=\"stroke:#000000; stroke-linecap:round; stroke-linejoin:round; stroke-width:4; stroke-opacity:1; fill:none\" points=\"17181.5,1423.18 17181.5,1423.18 17260.7,1423.18 17181.5,1423.18 \"/>\n",
       "<path clip-path=\"url(#clip572)\" d=\"M17260.7 1423.18 L17260.7 1423.18 L17339.8 1423.18 L17339.8 1423.18 L17260.7 1423.18 L17260.7 1423.18  Z\" fill=\"#009af9\" fill-rule=\"evenodd\" fill-opacity=\"1\"/>\n",
       "<polyline clip-path=\"url(#clip572)\" style=\"stroke:#000000; stroke-linecap:round; stroke-linejoin:round; stroke-width:4; stroke-opacity:1; fill:none\" points=\"17260.7,1423.18 17260.7,1423.18 17339.8,1423.18 17260.7,1423.18 \"/>\n",
       "<path clip-path=\"url(#clip572)\" d=\"M17339.8 1423.18 L17339.8 1423.18 L17419 1423.18 L17419 1423.18 L17339.8 1423.18 L17339.8 1423.18  Z\" fill=\"#009af9\" fill-rule=\"evenodd\" fill-opacity=\"1\"/>\n",
       "<polyline clip-path=\"url(#clip572)\" style=\"stroke:#000000; stroke-linecap:round; stroke-linejoin:round; stroke-width:4; stroke-opacity:1; fill:none\" points=\"17339.8,1423.18 17339.8,1423.18 17419,1423.18 17339.8,1423.18 \"/>\n",
       "<path clip-path=\"url(#clip572)\" d=\"M17419 1423.18 L17419 1423.18 L17498.1 1423.18 L17498.1 1423.18 L17419 1423.18 L17419 1423.18  Z\" fill=\"#009af9\" fill-rule=\"evenodd\" fill-opacity=\"1\"/>\n",
       "<polyline clip-path=\"url(#clip572)\" style=\"stroke:#000000; stroke-linecap:round; stroke-linejoin:round; stroke-width:4; stroke-opacity:1; fill:none\" points=\"17419,1423.18 17419,1423.18 17498.1,1423.18 17419,1423.18 \"/>\n",
       "<path clip-path=\"url(#clip572)\" d=\"M17498.1 1423.18 L17498.1 1423.18 L17577.3 1423.18 L17577.3 1423.18 L17498.1 1423.18 L17498.1 1423.18  Z\" fill=\"#009af9\" fill-rule=\"evenodd\" fill-opacity=\"1\"/>\n",
       "<polyline clip-path=\"url(#clip572)\" style=\"stroke:#000000; stroke-linecap:round; stroke-linejoin:round; stroke-width:4; stroke-opacity:1; fill:none\" points=\"17498.1,1423.18 17498.1,1423.18 17577.3,1423.18 17498.1,1423.18 \"/>\n",
       "<path clip-path=\"url(#clip572)\" d=\"M17577.3 1423.18 L17577.3 1423.18 L17656.4 1423.18 L17656.4 1423.18 L17577.3 1423.18 L17577.3 1423.18  Z\" fill=\"#009af9\" fill-rule=\"evenodd\" fill-opacity=\"1\"/>\n",
       "<polyline clip-path=\"url(#clip572)\" style=\"stroke:#000000; stroke-linecap:round; stroke-linejoin:round; stroke-width:4; stroke-opacity:1; fill:none\" points=\"17577.3,1423.18 17577.3,1423.18 17656.4,1423.18 17577.3,1423.18 \"/>\n",
       "<path clip-path=\"url(#clip572)\" d=\"M17656.4 1423.18 L17656.4 1423.18 L17735.6 1423.18 L17735.6 1423.18 L17656.4 1423.18 L17656.4 1423.18  Z\" fill=\"#009af9\" fill-rule=\"evenodd\" fill-opacity=\"1\"/>\n",
       "<polyline clip-path=\"url(#clip572)\" style=\"stroke:#000000; stroke-linecap:round; stroke-linejoin:round; stroke-width:4; stroke-opacity:1; fill:none\" points=\"17656.4,1423.18 17656.4,1423.18 17735.6,1423.18 17656.4,1423.18 \"/>\n",
       "<path clip-path=\"url(#clip572)\" d=\"M17735.6 1423.18 L17735.6 1423.18 L17814.8 1423.18 L17814.8 1423.18 L17735.6 1423.18 L17735.6 1423.18  Z\" fill=\"#009af9\" fill-rule=\"evenodd\" fill-opacity=\"1\"/>\n",
       "<polyline clip-path=\"url(#clip572)\" style=\"stroke:#000000; stroke-linecap:round; stroke-linejoin:round; stroke-width:4; stroke-opacity:1; fill:none\" points=\"17735.6,1423.18 17735.6,1423.18 17814.8,1423.18 17735.6,1423.18 \"/>\n",
       "<path clip-path=\"url(#clip572)\" d=\"M17814.8 1423.18 L17814.8 1423.18 L17893.9 1423.18 L17893.9 1423.18 L17814.8 1423.18 L17814.8 1423.18  Z\" fill=\"#009af9\" fill-rule=\"evenodd\" fill-opacity=\"1\"/>\n",
       "<polyline clip-path=\"url(#clip572)\" style=\"stroke:#000000; stroke-linecap:round; stroke-linejoin:round; stroke-width:4; stroke-opacity:1; fill:none\" points=\"17814.8,1423.18 17814.8,1423.18 17893.9,1423.18 17814.8,1423.18 \"/>\n",
       "<path clip-path=\"url(#clip572)\" d=\"M17893.9 1423.18 L17893.9 1423.18 L17973.1 1423.18 L17973.1 1423.18 L17893.9 1423.18 L17893.9 1423.18  Z\" fill=\"#009af9\" fill-rule=\"evenodd\" fill-opacity=\"1\"/>\n",
       "<polyline clip-path=\"url(#clip572)\" style=\"stroke:#000000; stroke-linecap:round; stroke-linejoin:round; stroke-width:4; stroke-opacity:1; fill:none\" points=\"17893.9,1423.18 17893.9,1423.18 17973.1,1423.18 17893.9,1423.18 \"/>\n",
       "<path clip-path=\"url(#clip572)\" d=\"M17973.1 1423.18 L17973.1 1423.18 L18052.2 1423.18 L18052.2 1423.18 L17973.1 1423.18 L17973.1 1423.18  Z\" fill=\"#009af9\" fill-rule=\"evenodd\" fill-opacity=\"1\"/>\n",
       "<polyline clip-path=\"url(#clip572)\" style=\"stroke:#000000; stroke-linecap:round; stroke-linejoin:round; stroke-width:4; stroke-opacity:1; fill:none\" points=\"17973.1,1423.18 17973.1,1423.18 18052.2,1423.18 17973.1,1423.18 \"/>\n",
       "<path clip-path=\"url(#clip572)\" d=\"M18052.2 1423.18 L18052.2 1423.18 L18131.4 1423.18 L18131.4 1423.18 L18052.2 1423.18 L18052.2 1423.18  Z\" fill=\"#009af9\" fill-rule=\"evenodd\" fill-opacity=\"1\"/>\n",
       "<polyline clip-path=\"url(#clip572)\" style=\"stroke:#000000; stroke-linecap:round; stroke-linejoin:round; stroke-width:4; stroke-opacity:1; fill:none\" points=\"18052.2,1423.18 18052.2,1423.18 18131.4,1423.18 18052.2,1423.18 \"/>\n",
       "<path clip-path=\"url(#clip572)\" d=\"M18131.4 1423.18 L18131.4 1423.18 L18210.5 1423.18 L18210.5 1423.18 L18131.4 1423.18 L18131.4 1423.18  Z\" fill=\"#009af9\" fill-rule=\"evenodd\" fill-opacity=\"1\"/>\n",
       "<polyline clip-path=\"url(#clip572)\" style=\"stroke:#000000; stroke-linecap:round; stroke-linejoin:round; stroke-width:4; stroke-opacity:1; fill:none\" points=\"18131.4,1423.18 18131.4,1423.18 18210.5,1423.18 18131.4,1423.18 \"/>\n",
       "<path clip-path=\"url(#clip572)\" d=\"M18210.5 1423.18 L18210.5 1423.18 L18289.7 1423.18 L18289.7 1423.18 L18210.5 1423.18 L18210.5 1423.18  Z\" fill=\"#009af9\" fill-rule=\"evenodd\" fill-opacity=\"1\"/>\n",
       "<polyline clip-path=\"url(#clip572)\" style=\"stroke:#000000; stroke-linecap:round; stroke-linejoin:round; stroke-width:4; stroke-opacity:1; fill:none\" points=\"18210.5,1423.18 18210.5,1423.18 18289.7,1423.18 18210.5,1423.18 \"/>\n",
       "<path clip-path=\"url(#clip572)\" d=\"M18289.7 1423.18 L18289.7 1423.18 L18368.8 1423.18 L18368.8 1423.18 L18289.7 1423.18 L18289.7 1423.18  Z\" fill=\"#009af9\" fill-rule=\"evenodd\" fill-opacity=\"1\"/>\n",
       "<polyline clip-path=\"url(#clip572)\" style=\"stroke:#000000; stroke-linecap:round; stroke-linejoin:round; stroke-width:4; stroke-opacity:1; fill:none\" points=\"18289.7,1423.18 18289.7,1423.18 18368.8,1423.18 18289.7,1423.18 \"/>\n",
       "<path clip-path=\"url(#clip572)\" d=\"M18368.8 1423.18 L18368.8 1423.18 L18448 1423.18 L18448 1423.18 L18368.8 1423.18 L18368.8 1423.18  Z\" fill=\"#009af9\" fill-rule=\"evenodd\" fill-opacity=\"1\"/>\n",
       "<polyline clip-path=\"url(#clip572)\" style=\"stroke:#000000; stroke-linecap:round; stroke-linejoin:round; stroke-width:4; stroke-opacity:1; fill:none\" points=\"18368.8,1423.18 18368.8,1423.18 18448,1423.18 18368.8,1423.18 \"/>\n",
       "<path clip-path=\"url(#clip572)\" d=\"M18448 1423.18 L18448 1423.18 L18527.2 1423.18 L18527.2 1423.18 L18448 1423.18 L18448 1423.18  Z\" fill=\"#009af9\" fill-rule=\"evenodd\" fill-opacity=\"1\"/>\n",
       "<polyline clip-path=\"url(#clip572)\" style=\"stroke:#000000; stroke-linecap:round; stroke-linejoin:round; stroke-width:4; stroke-opacity:1; fill:none\" points=\"18448,1423.18 18448,1423.18 18527.2,1423.18 18448,1423.18 \"/>\n",
       "<path clip-path=\"url(#clip572)\" d=\"M18527.2 1423.18 L18527.2 1423.18 L18606.3 1423.18 L18606.3 1423.18 L18527.2 1423.18 L18527.2 1423.18  Z\" fill=\"#009af9\" fill-rule=\"evenodd\" fill-opacity=\"1\"/>\n",
       "<polyline clip-path=\"url(#clip572)\" style=\"stroke:#000000; stroke-linecap:round; stroke-linejoin:round; stroke-width:4; stroke-opacity:1; fill:none\" points=\"18527.2,1423.18 18527.2,1423.18 18606.3,1423.18 18527.2,1423.18 \"/>\n",
       "<path clip-path=\"url(#clip572)\" d=\"M18606.3 1423.18 L18606.3 1423.18 L18685.5 1423.18 L18685.5 1423.18 L18606.3 1423.18 L18606.3 1423.18  Z\" fill=\"#009af9\" fill-rule=\"evenodd\" fill-opacity=\"1\"/>\n",
       "<polyline clip-path=\"url(#clip572)\" style=\"stroke:#000000; stroke-linecap:round; stroke-linejoin:round; stroke-width:4; stroke-opacity:1; fill:none\" points=\"18606.3,1423.18 18606.3,1423.18 18685.5,1423.18 18606.3,1423.18 \"/>\n",
       "<path clip-path=\"url(#clip572)\" d=\"M18685.5 1423.18 L18685.5 1423.18 L18764.6 1423.18 L18764.6 1423.18 L18685.5 1423.18 L18685.5 1423.18  Z\" fill=\"#009af9\" fill-rule=\"evenodd\" fill-opacity=\"1\"/>\n",
       "<polyline clip-path=\"url(#clip572)\" style=\"stroke:#000000; stroke-linecap:round; stroke-linejoin:round; stroke-width:4; stroke-opacity:1; fill:none\" points=\"18685.5,1423.18 18685.5,1423.18 18764.6,1423.18 18685.5,1423.18 \"/>\n",
       "<path clip-path=\"url(#clip572)\" d=\"M18764.6 1423.18 L18764.6 1423.18 L18843.8 1423.18 L18843.8 1423.18 L18764.6 1423.18 L18764.6 1423.18  Z\" fill=\"#009af9\" fill-rule=\"evenodd\" fill-opacity=\"1\"/>\n",
       "<polyline clip-path=\"url(#clip572)\" style=\"stroke:#000000; stroke-linecap:round; stroke-linejoin:round; stroke-width:4; stroke-opacity:1; fill:none\" points=\"18764.6,1423.18 18764.6,1423.18 18843.8,1423.18 18764.6,1423.18 \"/>\n",
       "<path clip-path=\"url(#clip572)\" d=\"M18843.8 1423.18 L18843.8 1423.18 L18922.9 1423.18 L18922.9 1423.18 L18843.8 1423.18 L18843.8 1423.18  Z\" fill=\"#009af9\" fill-rule=\"evenodd\" fill-opacity=\"1\"/>\n",
       "<polyline clip-path=\"url(#clip572)\" style=\"stroke:#000000; stroke-linecap:round; stroke-linejoin:round; stroke-width:4; stroke-opacity:1; fill:none\" points=\"18843.8,1423.18 18843.8,1423.18 18922.9,1423.18 18843.8,1423.18 \"/>\n",
       "<path clip-path=\"url(#clip572)\" d=\"M18922.9 1423.18 L18922.9 1423.18 L19002.1 1423.18 L19002.1 1423.18 L18922.9 1423.18 L18922.9 1423.18  Z\" fill=\"#009af9\" fill-rule=\"evenodd\" fill-opacity=\"1\"/>\n",
       "<polyline clip-path=\"url(#clip572)\" style=\"stroke:#000000; stroke-linecap:round; stroke-linejoin:round; stroke-width:4; stroke-opacity:1; fill:none\" points=\"18922.9,1423.18 18922.9,1423.18 19002.1,1423.18 18922.9,1423.18 \"/>\n",
       "<path clip-path=\"url(#clip572)\" d=\"M19002.1 1423.18 L19002.1 1423.18 L19081.2 1423.18 L19081.2 1423.18 L19002.1 1423.18 L19002.1 1423.18  Z\" fill=\"#009af9\" fill-rule=\"evenodd\" fill-opacity=\"1\"/>\n",
       "<polyline clip-path=\"url(#clip572)\" style=\"stroke:#000000; stroke-linecap:round; stroke-linejoin:round; stroke-width:4; stroke-opacity:1; fill:none\" points=\"19002.1,1423.18 19002.1,1423.18 19081.2,1423.18 19002.1,1423.18 \"/>\n",
       "<path clip-path=\"url(#clip572)\" d=\"M19081.2 1423.18 L19081.2 1423.18 L19160.4 1423.18 L19160.4 1423.18 L19081.2 1423.18 L19081.2 1423.18  Z\" fill=\"#009af9\" fill-rule=\"evenodd\" fill-opacity=\"1\"/>\n",
       "<polyline clip-path=\"url(#clip572)\" style=\"stroke:#000000; stroke-linecap:round; stroke-linejoin:round; stroke-width:4; stroke-opacity:1; fill:none\" points=\"19081.2,1423.18 19081.2,1423.18 19160.4,1423.18 19081.2,1423.18 \"/>\n",
       "<path clip-path=\"url(#clip572)\" d=\"M19160.4 1423.18 L19160.4 1423.18 L19239.6 1423.18 L19239.6 1423.18 L19160.4 1423.18 L19160.4 1423.18  Z\" fill=\"#009af9\" fill-rule=\"evenodd\" fill-opacity=\"1\"/>\n",
       "<polyline clip-path=\"url(#clip572)\" style=\"stroke:#000000; stroke-linecap:round; stroke-linejoin:round; stroke-width:4; stroke-opacity:1; fill:none\" points=\"19160.4,1423.18 19160.4,1423.18 19239.6,1423.18 19160.4,1423.18 \"/>\n",
       "<path clip-path=\"url(#clip572)\" d=\"M19239.6 1423.18 L19239.6 1423.18 L19318.7 1423.18 L19318.7 1423.18 L19239.6 1423.18 L19239.6 1423.18  Z\" fill=\"#009af9\" fill-rule=\"evenodd\" fill-opacity=\"1\"/>\n",
       "<polyline clip-path=\"url(#clip572)\" style=\"stroke:#000000; stroke-linecap:round; stroke-linejoin:round; stroke-width:4; stroke-opacity:1; fill:none\" points=\"19239.6,1423.18 19239.6,1423.18 19318.7,1423.18 19239.6,1423.18 \"/>\n",
       "<path clip-path=\"url(#clip572)\" d=\"M19318.7 1423.18 L19318.7 1423.18 L19397.9 1423.18 L19397.9 1423.18 L19318.7 1423.18 L19318.7 1423.18  Z\" fill=\"#009af9\" fill-rule=\"evenodd\" fill-opacity=\"1\"/>\n",
       "<polyline clip-path=\"url(#clip572)\" style=\"stroke:#000000; stroke-linecap:round; stroke-linejoin:round; stroke-width:4; stroke-opacity:1; fill:none\" points=\"19318.7,1423.18 19318.7,1423.18 19397.9,1423.18 19318.7,1423.18 \"/>\n",
       "<path clip-path=\"url(#clip572)\" d=\"M19397.9 1423.18 L19397.9 1423.18 L19477 1423.18 L19477 1423.18 L19397.9 1423.18 L19397.9 1423.18  Z\" fill=\"#009af9\" fill-rule=\"evenodd\" fill-opacity=\"1\"/>\n",
       "<polyline clip-path=\"url(#clip572)\" style=\"stroke:#000000; stroke-linecap:round; stroke-linejoin:round; stroke-width:4; stroke-opacity:1; fill:none\" points=\"19397.9,1423.18 19397.9,1423.18 19477,1423.18 19397.9,1423.18 \"/>\n",
       "<path clip-path=\"url(#clip572)\" d=\"M19477 1423.18 L19477 1423.18 L19556.2 1423.18 L19556.2 1423.18 L19477 1423.18 L19477 1423.18  Z\" fill=\"#009af9\" fill-rule=\"evenodd\" fill-opacity=\"1\"/>\n",
       "<polyline clip-path=\"url(#clip572)\" style=\"stroke:#000000; stroke-linecap:round; stroke-linejoin:round; stroke-width:4; stroke-opacity:1; fill:none\" points=\"19477,1423.18 19477,1423.18 19556.2,1423.18 19477,1423.18 \"/>\n",
       "<path clip-path=\"url(#clip572)\" d=\"M19556.2 1423.18 L19556.2 1423.18 L19635.3 1423.18 L19635.3 1423.18 L19556.2 1423.18 L19556.2 1423.18  Z\" fill=\"#009af9\" fill-rule=\"evenodd\" fill-opacity=\"1\"/>\n",
       "<polyline clip-path=\"url(#clip572)\" style=\"stroke:#000000; stroke-linecap:round; stroke-linejoin:round; stroke-width:4; stroke-opacity:1; fill:none\" points=\"19556.2,1423.18 19556.2,1423.18 19635.3,1423.18 19556.2,1423.18 \"/>\n",
       "<path clip-path=\"url(#clip572)\" d=\"M19635.3 1423.18 L19635.3 1423.18 L19714.5 1423.18 L19714.5 1423.18 L19635.3 1423.18 L19635.3 1423.18  Z\" fill=\"#009af9\" fill-rule=\"evenodd\" fill-opacity=\"1\"/>\n",
       "<polyline clip-path=\"url(#clip572)\" style=\"stroke:#000000; stroke-linecap:round; stroke-linejoin:round; stroke-width:4; stroke-opacity:1; fill:none\" points=\"19635.3,1423.18 19635.3,1423.18 19714.5,1423.18 19635.3,1423.18 \"/>\n",
       "<path clip-path=\"url(#clip572)\" d=\"M19714.5 1423.18 L19714.5 1423.18 L19793.6 1423.18 L19793.6 1423.18 L19714.5 1423.18 L19714.5 1423.18  Z\" fill=\"#009af9\" fill-rule=\"evenodd\" fill-opacity=\"1\"/>\n",
       "<polyline clip-path=\"url(#clip572)\" style=\"stroke:#000000; stroke-linecap:round; stroke-linejoin:round; stroke-width:4; stroke-opacity:1; fill:none\" points=\"19714.5,1423.18 19714.5,1423.18 19793.6,1423.18 19714.5,1423.18 \"/>\n",
       "<path clip-path=\"url(#clip572)\" d=\"M19793.6 1423.18 L19793.6 1423.18 L19872.8 1423.18 L19872.8 1423.18 L19793.6 1423.18 L19793.6 1423.18  Z\" fill=\"#009af9\" fill-rule=\"evenodd\" fill-opacity=\"1\"/>\n",
       "<polyline clip-path=\"url(#clip572)\" style=\"stroke:#000000; stroke-linecap:round; stroke-linejoin:round; stroke-width:4; stroke-opacity:1; fill:none\" points=\"19793.6,1423.18 19793.6,1423.18 19872.8,1423.18 19793.6,1423.18 \"/>\n",
       "<path clip-path=\"url(#clip572)\" d=\"M19872.8 1423.18 L19872.8 1423.18 L19951.9 1423.18 L19951.9 1423.18 L19872.8 1423.18 L19872.8 1423.18  Z\" fill=\"#009af9\" fill-rule=\"evenodd\" fill-opacity=\"1\"/>\n",
       "<polyline clip-path=\"url(#clip572)\" style=\"stroke:#000000; stroke-linecap:round; stroke-linejoin:round; stroke-width:4; stroke-opacity:1; fill:none\" points=\"19872.8,1423.18 19872.8,1423.18 19951.9,1423.18 19872.8,1423.18 \"/>\n",
       "<path clip-path=\"url(#clip572)\" d=\"M19951.9 1423.18 L19951.9 1423.18 L20031.1 1423.18 L20031.1 1423.18 L19951.9 1423.18 L19951.9 1423.18  Z\" fill=\"#009af9\" fill-rule=\"evenodd\" fill-opacity=\"1\"/>\n",
       "<polyline clip-path=\"url(#clip572)\" style=\"stroke:#000000; stroke-linecap:round; stroke-linejoin:round; stroke-width:4; stroke-opacity:1; fill:none\" points=\"19951.9,1423.18 19951.9,1423.18 20031.1,1423.18 19951.9,1423.18 \"/>\n",
       "<path clip-path=\"url(#clip572)\" d=\"M20031.1 1423.18 L20031.1 1423.18 L20110.3 1423.18 L20110.3 1423.18 L20031.1 1423.18 L20031.1 1423.18  Z\" fill=\"#009af9\" fill-rule=\"evenodd\" fill-opacity=\"1\"/>\n",
       "<polyline clip-path=\"url(#clip572)\" style=\"stroke:#000000; stroke-linecap:round; stroke-linejoin:round; stroke-width:4; stroke-opacity:1; fill:none\" points=\"20031.1,1423.18 20031.1,1423.18 20110.3,1423.18 20031.1,1423.18 \"/>\n",
       "<path clip-path=\"url(#clip572)\" d=\"M20110.3 1423.18 L20110.3 1423.18 L20189.4 1423.18 L20189.4 1423.18 L20110.3 1423.18 L20110.3 1423.18  Z\" fill=\"#009af9\" fill-rule=\"evenodd\" fill-opacity=\"1\"/>\n",
       "<polyline clip-path=\"url(#clip572)\" style=\"stroke:#000000; stroke-linecap:round; stroke-linejoin:round; stroke-width:4; stroke-opacity:1; fill:none\" points=\"20110.3,1423.18 20110.3,1423.18 20189.4,1423.18 20110.3,1423.18 \"/>\n",
       "<path clip-path=\"url(#clip572)\" d=\"M20189.4 1423.18 L20189.4 1423.18 L20268.6 1423.18 L20268.6 1423.18 L20189.4 1423.18 L20189.4 1423.18  Z\" fill=\"#009af9\" fill-rule=\"evenodd\" fill-opacity=\"1\"/>\n",
       "<polyline clip-path=\"url(#clip572)\" style=\"stroke:#000000; stroke-linecap:round; stroke-linejoin:round; stroke-width:4; stroke-opacity:1; fill:none\" points=\"20189.4,1423.18 20189.4,1423.18 20268.6,1423.18 20189.4,1423.18 \"/>\n",
       "<path clip-path=\"url(#clip572)\" d=\"M20268.6 1423.18 L20268.6 1423.18 L20347.7 1423.18 L20347.7 1423.18 L20268.6 1423.18 L20268.6 1423.18  Z\" fill=\"#009af9\" fill-rule=\"evenodd\" fill-opacity=\"1\"/>\n",
       "<polyline clip-path=\"url(#clip572)\" style=\"stroke:#000000; stroke-linecap:round; stroke-linejoin:round; stroke-width:4; stroke-opacity:1; fill:none\" points=\"20268.6,1423.18 20268.6,1423.18 20347.7,1423.18 20268.6,1423.18 \"/>\n",
       "<path clip-path=\"url(#clip572)\" d=\"M20347.7 1423.18 L20347.7 1423.18 L20426.9 1423.18 L20426.9 1423.18 L20347.7 1423.18 L20347.7 1423.18  Z\" fill=\"#009af9\" fill-rule=\"evenodd\" fill-opacity=\"1\"/>\n",
       "<polyline clip-path=\"url(#clip572)\" style=\"stroke:#000000; stroke-linecap:round; stroke-linejoin:round; stroke-width:4; stroke-opacity:1; fill:none\" points=\"20347.7,1423.18 20347.7,1423.18 20426.9,1423.18 20347.7,1423.18 \"/>\n",
       "<path clip-path=\"url(#clip572)\" d=\"M20426.9 1423.18 L20426.9 1423.18 L20506 1423.18 L20506 1423.18 L20426.9 1423.18 L20426.9 1423.18  Z\" fill=\"#009af9\" fill-rule=\"evenodd\" fill-opacity=\"1\"/>\n",
       "<polyline clip-path=\"url(#clip572)\" style=\"stroke:#000000; stroke-linecap:round; stroke-linejoin:round; stroke-width:4; stroke-opacity:1; fill:none\" points=\"20426.9,1423.18 20426.9,1423.18 20506,1423.18 20426.9,1423.18 \"/>\n",
       "<path clip-path=\"url(#clip572)\" d=\"M20506 1423.18 L20506 1423.18 L20585.2 1423.18 L20585.2 1423.18 L20506 1423.18 L20506 1423.18  Z\" fill=\"#009af9\" fill-rule=\"evenodd\" fill-opacity=\"1\"/>\n",
       "<polyline clip-path=\"url(#clip572)\" style=\"stroke:#000000; stroke-linecap:round; stroke-linejoin:round; stroke-width:4; stroke-opacity:1; fill:none\" points=\"20506,1423.18 20506,1423.18 20585.2,1423.18 20506,1423.18 \"/>\n",
       "<path clip-path=\"url(#clip572)\" d=\"M20585.2 1423.18 L20585.2 1423.18 L20664.3 1423.18 L20664.3 1423.18 L20585.2 1423.18 L20585.2 1423.18  Z\" fill=\"#009af9\" fill-rule=\"evenodd\" fill-opacity=\"1\"/>\n",
       "<polyline clip-path=\"url(#clip572)\" style=\"stroke:#000000; stroke-linecap:round; stroke-linejoin:round; stroke-width:4; stroke-opacity:1; fill:none\" points=\"20585.2,1423.18 20585.2,1423.18 20664.3,1423.18 20585.2,1423.18 \"/>\n",
       "<path clip-path=\"url(#clip572)\" d=\"M20664.3 1423.18 L20664.3 1423.18 L20743.5 1423.18 L20743.5 1423.18 L20664.3 1423.18 L20664.3 1423.18  Z\" fill=\"#009af9\" fill-rule=\"evenodd\" fill-opacity=\"1\"/>\n",
       "<polyline clip-path=\"url(#clip572)\" style=\"stroke:#000000; stroke-linecap:round; stroke-linejoin:round; stroke-width:4; stroke-opacity:1; fill:none\" points=\"20664.3,1423.18 20664.3,1423.18 20743.5,1423.18 20664.3,1423.18 \"/>\n",
       "<path clip-path=\"url(#clip572)\" d=\"M20743.5 1423.18 L20743.5 1423.18 L20822.7 1423.18 L20822.7 1423.18 L20743.5 1423.18 L20743.5 1423.18  Z\" fill=\"#009af9\" fill-rule=\"evenodd\" fill-opacity=\"1\"/>\n",
       "<polyline clip-path=\"url(#clip572)\" style=\"stroke:#000000; stroke-linecap:round; stroke-linejoin:round; stroke-width:4; stroke-opacity:1; fill:none\" points=\"20743.5,1423.18 20743.5,1423.18 20822.7,1423.18 20743.5,1423.18 \"/>\n",
       "<path clip-path=\"url(#clip572)\" d=\"M20822.7 1423.18 L20822.7 1423.18 L20901.8 1423.18 L20901.8 1423.18 L20822.7 1423.18 L20822.7 1423.18  Z\" fill=\"#009af9\" fill-rule=\"evenodd\" fill-opacity=\"1\"/>\n",
       "<polyline clip-path=\"url(#clip572)\" style=\"stroke:#000000; stroke-linecap:round; stroke-linejoin:round; stroke-width:4; stroke-opacity:1; fill:none\" points=\"20822.7,1423.18 20822.7,1423.18 20901.8,1423.18 20822.7,1423.18 \"/>\n",
       "<path clip-path=\"url(#clip572)\" d=\"M20901.8 1423.18 L20901.8 1423.18 L20981 1423.18 L20981 1423.18 L20901.8 1423.18 L20901.8 1423.18  Z\" fill=\"#009af9\" fill-rule=\"evenodd\" fill-opacity=\"1\"/>\n",
       "<polyline clip-path=\"url(#clip572)\" style=\"stroke:#000000; stroke-linecap:round; stroke-linejoin:round; stroke-width:4; stroke-opacity:1; fill:none\" points=\"20901.8,1423.18 20901.8,1423.18 20981,1423.18 20901.8,1423.18 \"/>\n",
       "<path clip-path=\"url(#clip572)\" d=\"M20981 1423.18 L20981 1423.18 L21060.1 1423.18 L21060.1 1423.18 L20981 1423.18 L20981 1423.18  Z\" fill=\"#009af9\" fill-rule=\"evenodd\" fill-opacity=\"1\"/>\n",
       "<polyline clip-path=\"url(#clip572)\" style=\"stroke:#000000; stroke-linecap:round; stroke-linejoin:round; stroke-width:4; stroke-opacity:1; fill:none\" points=\"20981,1423.18 20981,1423.18 21060.1,1423.18 20981,1423.18 \"/>\n",
       "<path clip-path=\"url(#clip572)\" d=\"M21060.1 1423.18 L21060.1 1423.18 L21139.3 1423.18 L21139.3 1423.18 L21060.1 1423.18 L21060.1 1423.18  Z\" fill=\"#009af9\" fill-rule=\"evenodd\" fill-opacity=\"1\"/>\n",
       "<polyline clip-path=\"url(#clip572)\" style=\"stroke:#000000; stroke-linecap:round; stroke-linejoin:round; stroke-width:4; stroke-opacity:1; fill:none\" points=\"21060.1,1423.18 21060.1,1423.18 21139.3,1423.18 21060.1,1423.18 \"/>\n",
       "<path clip-path=\"url(#clip572)\" d=\"M21139.3 1423.18 L21139.3 1423.18 L21218.4 1423.18 L21218.4 1423.18 L21139.3 1423.18 L21139.3 1423.18  Z\" fill=\"#009af9\" fill-rule=\"evenodd\" fill-opacity=\"1\"/>\n",
       "<polyline clip-path=\"url(#clip572)\" style=\"stroke:#000000; stroke-linecap:round; stroke-linejoin:round; stroke-width:4; stroke-opacity:1; fill:none\" points=\"21139.3,1423.18 21139.3,1423.18 21218.4,1423.18 21139.3,1423.18 \"/>\n",
       "<path clip-path=\"url(#clip572)\" d=\"M21218.4 1423.18 L21218.4 1423.18 L21297.6 1423.18 L21297.6 1423.18 L21218.4 1423.18 L21218.4 1423.18  Z\" fill=\"#009af9\" fill-rule=\"evenodd\" fill-opacity=\"1\"/>\n",
       "<polyline clip-path=\"url(#clip572)\" style=\"stroke:#000000; stroke-linecap:round; stroke-linejoin:round; stroke-width:4; stroke-opacity:1; fill:none\" points=\"21218.4,1423.18 21218.4,1423.18 21297.6,1423.18 21218.4,1423.18 \"/>\n",
       "<path clip-path=\"url(#clip572)\" d=\"M21297.6 1423.18 L21297.6 1423.18 L21376.7 1423.18 L21376.7 1423.18 L21297.6 1423.18 L21297.6 1423.18  Z\" fill=\"#009af9\" fill-rule=\"evenodd\" fill-opacity=\"1\"/>\n",
       "<polyline clip-path=\"url(#clip572)\" style=\"stroke:#000000; stroke-linecap:round; stroke-linejoin:round; stroke-width:4; stroke-opacity:1; fill:none\" points=\"21297.6,1423.18 21297.6,1423.18 21376.7,1423.18 21297.6,1423.18 \"/>\n",
       "<path clip-path=\"url(#clip572)\" d=\"M21376.7 1423.18 L21376.7 1423.18 L21455.9 1423.18 L21455.9 1423.18 L21376.7 1423.18 L21376.7 1423.18  Z\" fill=\"#009af9\" fill-rule=\"evenodd\" fill-opacity=\"1\"/>\n",
       "<polyline clip-path=\"url(#clip572)\" style=\"stroke:#000000; stroke-linecap:round; stroke-linejoin:round; stroke-width:4; stroke-opacity:1; fill:none\" points=\"21376.7,1423.18 21376.7,1423.18 21455.9,1423.18 21376.7,1423.18 \"/>\n",
       "<path clip-path=\"url(#clip572)\" d=\"M21455.9 1423.18 L21455.9 1423.18 L21535.1 1423.18 L21535.1 1423.18 L21455.9 1423.18 L21455.9 1423.18  Z\" fill=\"#009af9\" fill-rule=\"evenodd\" fill-opacity=\"1\"/>\n",
       "<polyline clip-path=\"url(#clip572)\" style=\"stroke:#000000; stroke-linecap:round; stroke-linejoin:round; stroke-width:4; stroke-opacity:1; fill:none\" points=\"21455.9,1423.18 21455.9,1423.18 21535.1,1423.18 21455.9,1423.18 \"/>\n",
       "<path clip-path=\"url(#clip572)\" d=\"M21535.1 1423.18 L21535.1 1423.18 L21614.2 1423.18 L21614.2 1423.18 L21535.1 1423.18 L21535.1 1423.18  Z\" fill=\"#009af9\" fill-rule=\"evenodd\" fill-opacity=\"1\"/>\n",
       "<polyline clip-path=\"url(#clip572)\" style=\"stroke:#000000; stroke-linecap:round; stroke-linejoin:round; stroke-width:4; stroke-opacity:1; fill:none\" points=\"21535.1,1423.18 21535.1,1423.18 21614.2,1423.18 21535.1,1423.18 \"/>\n",
       "<path clip-path=\"url(#clip572)\" d=\"M21614.2 1423.18 L21614.2 1423.18 L21693.4 1423.18 L21693.4 1423.18 L21614.2 1423.18 L21614.2 1423.18  Z\" fill=\"#009af9\" fill-rule=\"evenodd\" fill-opacity=\"1\"/>\n",
       "<polyline clip-path=\"url(#clip572)\" style=\"stroke:#000000; stroke-linecap:round; stroke-linejoin:round; stroke-width:4; stroke-opacity:1; fill:none\" points=\"21614.2,1423.18 21614.2,1423.18 21693.4,1423.18 21614.2,1423.18 \"/>\n",
       "<path clip-path=\"url(#clip572)\" d=\"M21693.4 1423.18 L21693.4 1423.18 L21772.5 1423.18 L21772.5 1423.18 L21693.4 1423.18 L21693.4 1423.18  Z\" fill=\"#009af9\" fill-rule=\"evenodd\" fill-opacity=\"1\"/>\n",
       "<polyline clip-path=\"url(#clip572)\" style=\"stroke:#000000; stroke-linecap:round; stroke-linejoin:round; stroke-width:4; stroke-opacity:1; fill:none\" points=\"21693.4,1423.18 21693.4,1423.18 21772.5,1423.18 21693.4,1423.18 \"/>\n",
       "<path clip-path=\"url(#clip572)\" d=\"M21772.5 1423.18 L21772.5 1423.18 L21851.7 1423.18 L21851.7 1423.18 L21772.5 1423.18 L21772.5 1423.18  Z\" fill=\"#009af9\" fill-rule=\"evenodd\" fill-opacity=\"1\"/>\n",
       "<polyline clip-path=\"url(#clip572)\" style=\"stroke:#000000; stroke-linecap:round; stroke-linejoin:round; stroke-width:4; stroke-opacity:1; fill:none\" points=\"21772.5,1423.18 21772.5,1423.18 21851.7,1423.18 21772.5,1423.18 \"/>\n",
       "<path clip-path=\"url(#clip572)\" d=\"M21851.7 1423.18 L21851.7 1423.18 L21930.8 1423.18 L21930.8 1423.18 L21851.7 1423.18 L21851.7 1423.18  Z\" fill=\"#009af9\" fill-rule=\"evenodd\" fill-opacity=\"1\"/>\n",
       "<polyline clip-path=\"url(#clip572)\" style=\"stroke:#000000; stroke-linecap:round; stroke-linejoin:round; stroke-width:4; stroke-opacity:1; fill:none\" points=\"21851.7,1423.18 21851.7,1423.18 21930.8,1423.18 21851.7,1423.18 \"/>\n",
       "<path clip-path=\"url(#clip572)\" d=\"M21930.8 1423.18 L21930.8 1423.18 L22010 1423.18 L22010 1423.18 L21930.8 1423.18 L21930.8 1423.18  Z\" fill=\"#009af9\" fill-rule=\"evenodd\" fill-opacity=\"1\"/>\n",
       "<polyline clip-path=\"url(#clip572)\" style=\"stroke:#000000; stroke-linecap:round; stroke-linejoin:round; stroke-width:4; stroke-opacity:1; fill:none\" points=\"21930.8,1423.18 21930.8,1423.18 22010,1423.18 21930.8,1423.18 \"/>\n",
       "<path clip-path=\"url(#clip572)\" d=\"M22010 1423.18 L22010 1423.18 L22089.1 1423.18 L22089.1 1423.18 L22010 1423.18 L22010 1423.18  Z\" fill=\"#009af9\" fill-rule=\"evenodd\" fill-opacity=\"1\"/>\n",
       "<polyline clip-path=\"url(#clip572)\" style=\"stroke:#000000; stroke-linecap:round; stroke-linejoin:round; stroke-width:4; stroke-opacity:1; fill:none\" points=\"22010,1423.18 22010,1423.18 22089.1,1423.18 22010,1423.18 \"/>\n",
       "<path clip-path=\"url(#clip572)\" d=\"M22089.1 1423.18 L22089.1 1423.18 L22168.3 1423.18 L22168.3 1423.18 L22089.1 1423.18 L22089.1 1423.18  Z\" fill=\"#009af9\" fill-rule=\"evenodd\" fill-opacity=\"1\"/>\n",
       "<polyline clip-path=\"url(#clip572)\" style=\"stroke:#000000; stroke-linecap:round; stroke-linejoin:round; stroke-width:4; stroke-opacity:1; fill:none\" points=\"22089.1,1423.18 22089.1,1423.18 22168.3,1423.18 22089.1,1423.18 \"/>\n",
       "<path clip-path=\"url(#clip572)\" d=\"M22168.3 1423.18 L22168.3 1423.18 L22247.5 1423.18 L22247.5 1423.18 L22168.3 1423.18 L22168.3 1423.18  Z\" fill=\"#009af9\" fill-rule=\"evenodd\" fill-opacity=\"1\"/>\n",
       "<polyline clip-path=\"url(#clip572)\" style=\"stroke:#000000; stroke-linecap:round; stroke-linejoin:round; stroke-width:4; stroke-opacity:1; fill:none\" points=\"22168.3,1423.18 22168.3,1423.18 22247.5,1423.18 22168.3,1423.18 \"/>\n",
       "<path clip-path=\"url(#clip572)\" d=\"M22247.5 1423.18 L22247.5 1423.18 L22326.6 1423.18 L22326.6 1423.18 L22247.5 1423.18 L22247.5 1423.18  Z\" fill=\"#009af9\" fill-rule=\"evenodd\" fill-opacity=\"1\"/>\n",
       "<polyline clip-path=\"url(#clip572)\" style=\"stroke:#000000; stroke-linecap:round; stroke-linejoin:round; stroke-width:4; stroke-opacity:1; fill:none\" points=\"22247.5,1423.18 22247.5,1423.18 22326.6,1423.18 22247.5,1423.18 \"/>\n",
       "<path clip-path=\"url(#clip572)\" d=\"M22326.6 1423.18 L22326.6 1423.18 L22405.8 1423.18 L22405.8 1423.18 L22326.6 1423.18 L22326.6 1423.18  Z\" fill=\"#009af9\" fill-rule=\"evenodd\" fill-opacity=\"1\"/>\n",
       "<polyline clip-path=\"url(#clip572)\" style=\"stroke:#000000; stroke-linecap:round; stroke-linejoin:round; stroke-width:4; stroke-opacity:1; fill:none\" points=\"22326.6,1423.18 22326.6,1423.18 22405.8,1423.18 22326.6,1423.18 \"/>\n",
       "<path clip-path=\"url(#clip572)\" d=\"M22405.8 1423.18 L22405.8 1423.18 L22484.9 1423.18 L22484.9 1423.18 L22405.8 1423.18 L22405.8 1423.18  Z\" fill=\"#009af9\" fill-rule=\"evenodd\" fill-opacity=\"1\"/>\n",
       "<polyline clip-path=\"url(#clip572)\" style=\"stroke:#000000; stroke-linecap:round; stroke-linejoin:round; stroke-width:4; stroke-opacity:1; fill:none\" points=\"22405.8,1423.18 22405.8,1423.18 22484.9,1423.18 22405.8,1423.18 \"/>\n",
       "<path clip-path=\"url(#clip572)\" d=\"M22484.9 1423.18 L22484.9 1423.18 L22564.1 1423.18 L22564.1 1423.18 L22484.9 1423.18 L22484.9 1423.18  Z\" fill=\"#009af9\" fill-rule=\"evenodd\" fill-opacity=\"1\"/>\n",
       "<polyline clip-path=\"url(#clip572)\" style=\"stroke:#000000; stroke-linecap:round; stroke-linejoin:round; stroke-width:4; stroke-opacity:1; fill:none\" points=\"22484.9,1423.18 22484.9,1423.18 22564.1,1423.18 22484.9,1423.18 \"/>\n",
       "<path clip-path=\"url(#clip572)\" d=\"M22564.1 1423.18 L22564.1 1423.18 L22643.2 1423.18 L22643.2 1423.18 L22564.1 1423.18 L22564.1 1423.18  Z\" fill=\"#009af9\" fill-rule=\"evenodd\" fill-opacity=\"1\"/>\n",
       "<polyline clip-path=\"url(#clip572)\" style=\"stroke:#000000; stroke-linecap:round; stroke-linejoin:round; stroke-width:4; stroke-opacity:1; fill:none\" points=\"22564.1,1423.18 22564.1,1423.18 22643.2,1423.18 22564.1,1423.18 \"/>\n",
       "<path clip-path=\"url(#clip572)\" d=\"M22643.2 1423.18 L22643.2 1423.18 L22722.4 1423.18 L22722.4 1423.18 L22643.2 1423.18 L22643.2 1423.18  Z\" fill=\"#009af9\" fill-rule=\"evenodd\" fill-opacity=\"1\"/>\n",
       "<polyline clip-path=\"url(#clip572)\" style=\"stroke:#000000; stroke-linecap:round; stroke-linejoin:round; stroke-width:4; stroke-opacity:1; fill:none\" points=\"22643.2,1423.18 22643.2,1423.18 22722.4,1423.18 22643.2,1423.18 \"/>\n",
       "<path clip-path=\"url(#clip572)\" d=\"M22722.4 1423.18 L22722.4 1423.18 L22801.5 1423.18 L22801.5 1423.18 L22722.4 1423.18 L22722.4 1423.18  Z\" fill=\"#009af9\" fill-rule=\"evenodd\" fill-opacity=\"1\"/>\n",
       "<polyline clip-path=\"url(#clip572)\" style=\"stroke:#000000; stroke-linecap:round; stroke-linejoin:round; stroke-width:4; stroke-opacity:1; fill:none\" points=\"22722.4,1423.18 22722.4,1423.18 22801.5,1423.18 22722.4,1423.18 \"/>\n",
       "<path clip-path=\"url(#clip572)\" d=\"M22801.5 1423.18 L22801.5 1423.18 L22880.7 1423.18 L22880.7 1423.18 L22801.5 1423.18 L22801.5 1423.18  Z\" fill=\"#009af9\" fill-rule=\"evenodd\" fill-opacity=\"1\"/>\n",
       "<polyline clip-path=\"url(#clip572)\" style=\"stroke:#000000; stroke-linecap:round; stroke-linejoin:round; stroke-width:4; stroke-opacity:1; fill:none\" points=\"22801.5,1423.18 22801.5,1423.18 22880.7,1423.18 22801.5,1423.18 \"/>\n",
       "<path clip-path=\"url(#clip572)\" d=\"M22880.7 1423.18 L22880.7 1423.18 L22959.9 1423.18 L22959.9 1423.18 L22880.7 1423.18 L22880.7 1423.18  Z\" fill=\"#009af9\" fill-rule=\"evenodd\" fill-opacity=\"1\"/>\n",
       "<polyline clip-path=\"url(#clip572)\" style=\"stroke:#000000; stroke-linecap:round; stroke-linejoin:round; stroke-width:4; stroke-opacity:1; fill:none\" points=\"22880.7,1423.18 22880.7,1423.18 22959.9,1423.18 22880.7,1423.18 \"/>\n",
       "<path clip-path=\"url(#clip572)\" d=\"M22959.9 1423.18 L22959.9 1423.18 L23039 1423.18 L23039 1423.18 L22959.9 1423.18 L22959.9 1423.18  Z\" fill=\"#009af9\" fill-rule=\"evenodd\" fill-opacity=\"1\"/>\n",
       "<polyline clip-path=\"url(#clip572)\" style=\"stroke:#000000; stroke-linecap:round; stroke-linejoin:round; stroke-width:4; stroke-opacity:1; fill:none\" points=\"22959.9,1423.18 22959.9,1423.18 23039,1423.18 22959.9,1423.18 \"/>\n",
       "<path clip-path=\"url(#clip572)\" d=\"M23039 1423.18 L23039 1423.18 L23118.2 1423.18 L23118.2 1423.18 L23039 1423.18 L23039 1423.18  Z\" fill=\"#009af9\" fill-rule=\"evenodd\" fill-opacity=\"1\"/>\n",
       "<polyline clip-path=\"url(#clip572)\" style=\"stroke:#000000; stroke-linecap:round; stroke-linejoin:round; stroke-width:4; stroke-opacity:1; fill:none\" points=\"23039,1423.18 23039,1423.18 23118.2,1423.18 23039,1423.18 \"/>\n",
       "<path clip-path=\"url(#clip572)\" d=\"M23118.2 1423.18 L23118.2 1423.18 L23197.3 1423.18 L23197.3 1423.18 L23118.2 1423.18 L23118.2 1423.18  Z\" fill=\"#009af9\" fill-rule=\"evenodd\" fill-opacity=\"1\"/>\n",
       "<polyline clip-path=\"url(#clip572)\" style=\"stroke:#000000; stroke-linecap:round; stroke-linejoin:round; stroke-width:4; stroke-opacity:1; fill:none\" points=\"23118.2,1423.18 23118.2,1423.18 23197.3,1423.18 23118.2,1423.18 \"/>\n",
       "<path clip-path=\"url(#clip572)\" d=\"M23197.3 1423.18 L23197.3 1423.18 L23276.5 1423.18 L23276.5 1423.18 L23197.3 1423.18 L23197.3 1423.18  Z\" fill=\"#009af9\" fill-rule=\"evenodd\" fill-opacity=\"1\"/>\n",
       "<polyline clip-path=\"url(#clip572)\" style=\"stroke:#000000; stroke-linecap:round; stroke-linejoin:round; stroke-width:4; stroke-opacity:1; fill:none\" points=\"23197.3,1423.18 23197.3,1423.18 23276.5,1423.18 23197.3,1423.18 \"/>\n",
       "<path clip-path=\"url(#clip572)\" d=\"M23276.5 1423.18 L23276.5 1423.18 L23355.6 1423.18 L23355.6 1423.18 L23276.5 1423.18 L23276.5 1423.18  Z\" fill=\"#009af9\" fill-rule=\"evenodd\" fill-opacity=\"1\"/>\n",
       "<polyline clip-path=\"url(#clip572)\" style=\"stroke:#000000; stroke-linecap:round; stroke-linejoin:round; stroke-width:4; stroke-opacity:1; fill:none\" points=\"23276.5,1423.18 23276.5,1423.18 23355.6,1423.18 23276.5,1423.18 \"/>\n",
       "<path clip-path=\"url(#clip572)\" d=\"M23355.6 1423.18 L23355.6 1423.18 L23434.8 1423.18 L23434.8 1423.18 L23355.6 1423.18 L23355.6 1423.18  Z\" fill=\"#009af9\" fill-rule=\"evenodd\" fill-opacity=\"1\"/>\n",
       "<polyline clip-path=\"url(#clip572)\" style=\"stroke:#000000; stroke-linecap:round; stroke-linejoin:round; stroke-width:4; stroke-opacity:1; fill:none\" points=\"23355.6,1423.18 23355.6,1423.18 23434.8,1423.18 23355.6,1423.18 \"/>\n",
       "<path clip-path=\"url(#clip572)\" d=\"M23434.8 1423.18 L23434.8 1423.18 L23513.9 1423.18 L23513.9 1423.18 L23434.8 1423.18 L23434.8 1423.18  Z\" fill=\"#009af9\" fill-rule=\"evenodd\" fill-opacity=\"1\"/>\n",
       "<polyline clip-path=\"url(#clip572)\" style=\"stroke:#000000; stroke-linecap:round; stroke-linejoin:round; stroke-width:4; stroke-opacity:1; fill:none\" points=\"23434.8,1423.18 23434.8,1423.18 23513.9,1423.18 23434.8,1423.18 \"/>\n",
       "<path clip-path=\"url(#clip572)\" d=\"M23513.9 1423.18 L23513.9 1423.18 L23593.1 1423.18 L23593.1 1423.18 L23513.9 1423.18 L23513.9 1423.18  Z\" fill=\"#009af9\" fill-rule=\"evenodd\" fill-opacity=\"1\"/>\n",
       "<polyline clip-path=\"url(#clip572)\" style=\"stroke:#000000; stroke-linecap:round; stroke-linejoin:round; stroke-width:4; stroke-opacity:1; fill:none\" points=\"23513.9,1423.18 23513.9,1423.18 23593.1,1423.18 23513.9,1423.18 \"/>\n",
       "<path clip-path=\"url(#clip572)\" d=\"M23593.1 1423.18 L23593.1 1423.18 L23672.3 1423.18 L23672.3 1423.18 L23593.1 1423.18 L23593.1 1423.18  Z\" fill=\"#009af9\" fill-rule=\"evenodd\" fill-opacity=\"1\"/>\n",
       "<polyline clip-path=\"url(#clip572)\" style=\"stroke:#000000; stroke-linecap:round; stroke-linejoin:round; stroke-width:4; stroke-opacity:1; fill:none\" points=\"23593.1,1423.18 23593.1,1423.18 23672.3,1423.18 23593.1,1423.18 \"/>\n",
       "<path clip-path=\"url(#clip572)\" d=\"M23672.3 1423.18 L23672.3 1423.18 L23751.4 1423.18 L23751.4 1423.18 L23672.3 1423.18 L23672.3 1423.18  Z\" fill=\"#009af9\" fill-rule=\"evenodd\" fill-opacity=\"1\"/>\n",
       "<polyline clip-path=\"url(#clip572)\" style=\"stroke:#000000; stroke-linecap:round; stroke-linejoin:round; stroke-width:4; stroke-opacity:1; fill:none\" points=\"23672.3,1423.18 23672.3,1423.18 23751.4,1423.18 23672.3,1423.18 \"/>\n",
       "<path clip-path=\"url(#clip572)\" d=\"M23751.4 1423.18 L23751.4 1423.18 L23830.6 1423.18 L23830.6 1423.18 L23751.4 1423.18 L23751.4 1423.18  Z\" fill=\"#009af9\" fill-rule=\"evenodd\" fill-opacity=\"1\"/>\n",
       "<polyline clip-path=\"url(#clip572)\" style=\"stroke:#000000; stroke-linecap:round; stroke-linejoin:round; stroke-width:4; stroke-opacity:1; fill:none\" points=\"23751.4,1423.18 23751.4,1423.18 23830.6,1423.18 23751.4,1423.18 \"/>\n",
       "<path clip-path=\"url(#clip572)\" d=\"M23830.6 1423.18 L23830.6 1423.18 L23909.7 1423.18 L23909.7 1423.18 L23830.6 1423.18 L23830.6 1423.18  Z\" fill=\"#009af9\" fill-rule=\"evenodd\" fill-opacity=\"1\"/>\n",
       "<polyline clip-path=\"url(#clip572)\" style=\"stroke:#000000; stroke-linecap:round; stroke-linejoin:round; stroke-width:4; stroke-opacity:1; fill:none\" points=\"23830.6,1423.18 23830.6,1423.18 23909.7,1423.18 23830.6,1423.18 \"/>\n",
       "<path clip-path=\"url(#clip572)\" d=\"M23909.7 1423.18 L23909.7 1423.18 L23988.9 1423.18 L23988.9 1423.18 L23909.7 1423.18 L23909.7 1423.18  Z\" fill=\"#009af9\" fill-rule=\"evenodd\" fill-opacity=\"1\"/>\n",
       "<polyline clip-path=\"url(#clip572)\" style=\"stroke:#000000; stroke-linecap:round; stroke-linejoin:round; stroke-width:4; stroke-opacity:1; fill:none\" points=\"23909.7,1423.18 23909.7,1423.18 23988.9,1423.18 23909.7,1423.18 \"/>\n",
       "<path clip-path=\"url(#clip572)\" d=\"M23988.9 1423.18 L23988.9 1423.18 L24068 1423.18 L24068 1423.18 L23988.9 1423.18 L23988.9 1423.18  Z\" fill=\"#009af9\" fill-rule=\"evenodd\" fill-opacity=\"1\"/>\n",
       "<polyline clip-path=\"url(#clip572)\" style=\"stroke:#000000; stroke-linecap:round; stroke-linejoin:round; stroke-width:4; stroke-opacity:1; fill:none\" points=\"23988.9,1423.18 23988.9,1423.18 24068,1423.18 23988.9,1423.18 \"/>\n",
       "<path clip-path=\"url(#clip572)\" d=\"M24068 1423.18 L24068 1423.18 L24147.2 1423.18 L24147.2 1423.18 L24068 1423.18 L24068 1423.18  Z\" fill=\"#009af9\" fill-rule=\"evenodd\" fill-opacity=\"1\"/>\n",
       "<polyline clip-path=\"url(#clip572)\" style=\"stroke:#000000; stroke-linecap:round; stroke-linejoin:round; stroke-width:4; stroke-opacity:1; fill:none\" points=\"24068,1423.18 24068,1423.18 24147.2,1423.18 24068,1423.18 \"/>\n",
       "<path clip-path=\"url(#clip572)\" d=\"M24147.2 1423.18 L24147.2 1423.18 L24226.3 1423.18 L24226.3 1423.18 L24147.2 1423.18 L24147.2 1423.18  Z\" fill=\"#009af9\" fill-rule=\"evenodd\" fill-opacity=\"1\"/>\n",
       "<polyline clip-path=\"url(#clip572)\" style=\"stroke:#000000; stroke-linecap:round; stroke-linejoin:round; stroke-width:4; stroke-opacity:1; fill:none\" points=\"24147.2,1423.18 24147.2,1423.18 24226.3,1423.18 24147.2,1423.18 \"/>\n",
       "<path clip-path=\"url(#clip572)\" d=\"M24226.3 1423.18 L24226.3 1423.18 L24305.5 1423.18 L24305.5 1423.18 L24226.3 1423.18 L24226.3 1423.18  Z\" fill=\"#009af9\" fill-rule=\"evenodd\" fill-opacity=\"1\"/>\n",
       "<polyline clip-path=\"url(#clip572)\" style=\"stroke:#000000; stroke-linecap:round; stroke-linejoin:round; stroke-width:4; stroke-opacity:1; fill:none\" points=\"24226.3,1423.18 24226.3,1423.18 24305.5,1423.18 24226.3,1423.18 \"/>\n",
       "<path clip-path=\"url(#clip572)\" d=\"M24305.5 1423.18 L24305.5 1423.18 L24384.7 1423.18 L24384.7 1423.18 L24305.5 1423.18 L24305.5 1423.18  Z\" fill=\"#009af9\" fill-rule=\"evenodd\" fill-opacity=\"1\"/>\n",
       "<polyline clip-path=\"url(#clip572)\" style=\"stroke:#000000; stroke-linecap:round; stroke-linejoin:round; stroke-width:4; stroke-opacity:1; fill:none\" points=\"24305.5,1423.18 24305.5,1423.18 24384.7,1423.18 24305.5,1423.18 \"/>\n",
       "<path clip-path=\"url(#clip572)\" d=\"M24384.7 1423.18 L24384.7 1423.18 L24463.8 1423.18 L24463.8 1423.18 L24384.7 1423.18 L24384.7 1423.18  Z\" fill=\"#009af9\" fill-rule=\"evenodd\" fill-opacity=\"1\"/>\n",
       "<polyline clip-path=\"url(#clip572)\" style=\"stroke:#000000; stroke-linecap:round; stroke-linejoin:round; stroke-width:4; stroke-opacity:1; fill:none\" points=\"24384.7,1423.18 24384.7,1423.18 24463.8,1423.18 24384.7,1423.18 \"/>\n",
       "<path clip-path=\"url(#clip572)\" d=\"M24463.8 1423.18 L24463.8 1423.18 L24543 1423.18 L24543 1423.18 L24463.8 1423.18 L24463.8 1423.18  Z\" fill=\"#009af9\" fill-rule=\"evenodd\" fill-opacity=\"1\"/>\n",
       "<polyline clip-path=\"url(#clip572)\" style=\"stroke:#000000; stroke-linecap:round; stroke-linejoin:round; stroke-width:4; stroke-opacity:1; fill:none\" points=\"24463.8,1423.18 24463.8,1423.18 24543,1423.18 24463.8,1423.18 \"/>\n",
       "<path clip-path=\"url(#clip572)\" d=\"M24543 1423.18 L24543 1423.18 L24622.1 1423.18 L24622.1 1423.18 L24543 1423.18 L24543 1423.18  Z\" fill=\"#009af9\" fill-rule=\"evenodd\" fill-opacity=\"1\"/>\n",
       "<polyline clip-path=\"url(#clip572)\" style=\"stroke:#000000; stroke-linecap:round; stroke-linejoin:round; stroke-width:4; stroke-opacity:1; fill:none\" points=\"24543,1423.18 24543,1423.18 24622.1,1423.18 24543,1423.18 \"/>\n",
       "<path clip-path=\"url(#clip572)\" d=\"M24622.1 1423.18 L24622.1 1423.18 L24701.3 1423.18 L24701.3 1423.18 L24622.1 1423.18 L24622.1 1423.18  Z\" fill=\"#009af9\" fill-rule=\"evenodd\" fill-opacity=\"1\"/>\n",
       "<polyline clip-path=\"url(#clip572)\" style=\"stroke:#000000; stroke-linecap:round; stroke-linejoin:round; stroke-width:4; stroke-opacity:1; fill:none\" points=\"24622.1,1423.18 24622.1,1423.18 24701.3,1423.18 24622.1,1423.18 \"/>\n",
       "<path clip-path=\"url(#clip572)\" d=\"M24701.3 1423.18 L24701.3 1423.18 L24780.4 1423.18 L24780.4 1423.18 L24701.3 1423.18 L24701.3 1423.18  Z\" fill=\"#009af9\" fill-rule=\"evenodd\" fill-opacity=\"1\"/>\n",
       "<polyline clip-path=\"url(#clip572)\" style=\"stroke:#000000; stroke-linecap:round; stroke-linejoin:round; stroke-width:4; stroke-opacity:1; fill:none\" points=\"24701.3,1423.18 24701.3,1423.18 24780.4,1423.18 24701.3,1423.18 \"/>\n",
       "<path clip-path=\"url(#clip572)\" d=\"M24780.4 1423.18 L24780.4 1423.18 L24859.6 1423.18 L24859.6 1423.18 L24780.4 1423.18 L24780.4 1423.18  Z\" fill=\"#009af9\" fill-rule=\"evenodd\" fill-opacity=\"1\"/>\n",
       "<polyline clip-path=\"url(#clip572)\" style=\"stroke:#000000; stroke-linecap:round; stroke-linejoin:round; stroke-width:4; stroke-opacity:1; fill:none\" points=\"24780.4,1423.18 24780.4,1423.18 24859.6,1423.18 24780.4,1423.18 \"/>\n",
       "<path clip-path=\"url(#clip572)\" d=\"M24859.6 1423.18 L24859.6 1423.18 L24938.7 1423.18 L24938.7 1423.18 L24859.6 1423.18 L24859.6 1423.18  Z\" fill=\"#009af9\" fill-rule=\"evenodd\" fill-opacity=\"1\"/>\n",
       "<polyline clip-path=\"url(#clip572)\" style=\"stroke:#000000; stroke-linecap:round; stroke-linejoin:round; stroke-width:4; stroke-opacity:1; fill:none\" points=\"24859.6,1423.18 24859.6,1423.18 24938.7,1423.18 24859.6,1423.18 \"/>\n",
       "<path clip-path=\"url(#clip572)\" d=\"M24938.7 1423.18 L24938.7 1423.18 L25017.9 1423.18 L25017.9 1423.18 L24938.7 1423.18 L24938.7 1423.18  Z\" fill=\"#009af9\" fill-rule=\"evenodd\" fill-opacity=\"1\"/>\n",
       "<polyline clip-path=\"url(#clip572)\" style=\"stroke:#000000; stroke-linecap:round; stroke-linejoin:round; stroke-width:4; stroke-opacity:1; fill:none\" points=\"24938.7,1423.18 24938.7,1423.18 25017.9,1423.18 24938.7,1423.18 \"/>\n",
       "<path clip-path=\"url(#clip572)\" d=\"M25017.9 1423.18 L25017.9 1423.18 L25097.1 1423.18 L25097.1 1423.18 L25017.9 1423.18 L25017.9 1423.18  Z\" fill=\"#009af9\" fill-rule=\"evenodd\" fill-opacity=\"1\"/>\n",
       "<polyline clip-path=\"url(#clip572)\" style=\"stroke:#000000; stroke-linecap:round; stroke-linejoin:round; stroke-width:4; stroke-opacity:1; fill:none\" points=\"25017.9,1423.18 25017.9,1423.18 25097.1,1423.18 25017.9,1423.18 \"/>\n",
       "<path clip-path=\"url(#clip572)\" d=\"M25097.1 1423.18 L25097.1 1423.18 L25176.2 1423.18 L25176.2 1423.18 L25097.1 1423.18 L25097.1 1423.18  Z\" fill=\"#009af9\" fill-rule=\"evenodd\" fill-opacity=\"1\"/>\n",
       "<polyline clip-path=\"url(#clip572)\" style=\"stroke:#000000; stroke-linecap:round; stroke-linejoin:round; stroke-width:4; stroke-opacity:1; fill:none\" points=\"25097.1,1423.18 25097.1,1423.18 25176.2,1423.18 25097.1,1423.18 \"/>\n",
       "<path clip-path=\"url(#clip572)\" d=\"M25176.2 1423.18 L25176.2 1423.18 L25255.4 1423.18 L25255.4 1423.18 L25176.2 1423.18 L25176.2 1423.18  Z\" fill=\"#009af9\" fill-rule=\"evenodd\" fill-opacity=\"1\"/>\n",
       "<polyline clip-path=\"url(#clip572)\" style=\"stroke:#000000; stroke-linecap:round; stroke-linejoin:round; stroke-width:4; stroke-opacity:1; fill:none\" points=\"25176.2,1423.18 25176.2,1423.18 25255.4,1423.18 25176.2,1423.18 \"/>\n",
       "<path clip-path=\"url(#clip572)\" d=\"M25255.4 1423.18 L25255.4 1423.18 L25334.5 1423.18 L25334.5 1423.18 L25255.4 1423.18 L25255.4 1423.18  Z\" fill=\"#009af9\" fill-rule=\"evenodd\" fill-opacity=\"1\"/>\n",
       "<polyline clip-path=\"url(#clip572)\" style=\"stroke:#000000; stroke-linecap:round; stroke-linejoin:round; stroke-width:4; stroke-opacity:1; fill:none\" points=\"25255.4,1423.18 25255.4,1423.18 25334.5,1423.18 25255.4,1423.18 \"/>\n",
       "<path clip-path=\"url(#clip572)\" d=\"M25334.5 1423.18 L25334.5 1423.18 L25413.7 1423.18 L25413.7 1423.18 L25334.5 1423.18 L25334.5 1423.18  Z\" fill=\"#009af9\" fill-rule=\"evenodd\" fill-opacity=\"1\"/>\n",
       "<polyline clip-path=\"url(#clip572)\" style=\"stroke:#000000; stroke-linecap:round; stroke-linejoin:round; stroke-width:4; stroke-opacity:1; fill:none\" points=\"25334.5,1423.18 25334.5,1423.18 25413.7,1423.18 25334.5,1423.18 \"/>\n",
       "<path clip-path=\"url(#clip572)\" d=\"M25413.7 1423.18 L25413.7 1423.18 L25492.8 1423.18 L25492.8 1423.18 L25413.7 1423.18 L25413.7 1423.18  Z\" fill=\"#009af9\" fill-rule=\"evenodd\" fill-opacity=\"1\"/>\n",
       "<polyline clip-path=\"url(#clip572)\" style=\"stroke:#000000; stroke-linecap:round; stroke-linejoin:round; stroke-width:4; stroke-opacity:1; fill:none\" points=\"25413.7,1423.18 25413.7,1423.18 25492.8,1423.18 25413.7,1423.18 \"/>\n",
       "<path clip-path=\"url(#clip572)\" d=\"M25492.8 1423.18 L25492.8 1423.18 L25572 1423.18 L25572 1423.18 L25492.8 1423.18 L25492.8 1423.18  Z\" fill=\"#009af9\" fill-rule=\"evenodd\" fill-opacity=\"1\"/>\n",
       "<polyline clip-path=\"url(#clip572)\" style=\"stroke:#000000; stroke-linecap:round; stroke-linejoin:round; stroke-width:4; stroke-opacity:1; fill:none\" points=\"25492.8,1423.18 25492.8,1423.18 25572,1423.18 25492.8,1423.18 \"/>\n",
       "<path clip-path=\"url(#clip572)\" d=\"M25572 1423.18 L25572 1423.18 L25651.1 1423.18 L25651.1 1423.18 L25572 1423.18 L25572 1423.18  Z\" fill=\"#009af9\" fill-rule=\"evenodd\" fill-opacity=\"1\"/>\n",
       "<polyline clip-path=\"url(#clip572)\" style=\"stroke:#000000; stroke-linecap:round; stroke-linejoin:round; stroke-width:4; stroke-opacity:1; fill:none\" points=\"25572,1423.18 25572,1423.18 25651.1,1423.18 25572,1423.18 \"/>\n",
       "<path clip-path=\"url(#clip572)\" d=\"M25651.1 1423.18 L25651.1 1423.18 L25730.3 1423.18 L25730.3 1423.18 L25651.1 1423.18 L25651.1 1423.18  Z\" fill=\"#009af9\" fill-rule=\"evenodd\" fill-opacity=\"1\"/>\n",
       "<polyline clip-path=\"url(#clip572)\" style=\"stroke:#000000; stroke-linecap:round; stroke-linejoin:round; stroke-width:4; stroke-opacity:1; fill:none\" points=\"25651.1,1423.18 25651.1,1423.18 25730.3,1423.18 25651.1,1423.18 \"/>\n",
       "<path clip-path=\"url(#clip572)\" d=\"M25730.3 1423.18 L25730.3 1423.18 L25809.5 1423.18 L25809.5 1423.18 L25730.3 1423.18 L25730.3 1423.18  Z\" fill=\"#009af9\" fill-rule=\"evenodd\" fill-opacity=\"1\"/>\n",
       "<polyline clip-path=\"url(#clip572)\" style=\"stroke:#000000; stroke-linecap:round; stroke-linejoin:round; stroke-width:4; stroke-opacity:1; fill:none\" points=\"25730.3,1423.18 25730.3,1423.18 25809.5,1423.18 25730.3,1423.18 \"/>\n",
       "<path clip-path=\"url(#clip572)\" d=\"M25809.5 1423.18 L25809.5 1423.18 L25888.6 1423.18 L25888.6 1423.18 L25809.5 1423.18 L25809.5 1423.18  Z\" fill=\"#009af9\" fill-rule=\"evenodd\" fill-opacity=\"1\"/>\n",
       "<polyline clip-path=\"url(#clip572)\" style=\"stroke:#000000; stroke-linecap:round; stroke-linejoin:round; stroke-width:4; stroke-opacity:1; fill:none\" points=\"25809.5,1423.18 25809.5,1423.18 25888.6,1423.18 25809.5,1423.18 \"/>\n",
       "<path clip-path=\"url(#clip572)\" d=\"M25888.6 1423.18 L25888.6 1423.18 L25967.8 1423.18 L25967.8 1423.18 L25888.6 1423.18 L25888.6 1423.18  Z\" fill=\"#009af9\" fill-rule=\"evenodd\" fill-opacity=\"1\"/>\n",
       "<polyline clip-path=\"url(#clip572)\" style=\"stroke:#000000; stroke-linecap:round; stroke-linejoin:round; stroke-width:4; stroke-opacity:1; fill:none\" points=\"25888.6,1423.18 25888.6,1423.18 25967.8,1423.18 25888.6,1423.18 \"/>\n",
       "<path clip-path=\"url(#clip572)\" d=\"M25967.8 1423.18 L25967.8 1423.18 L26046.9 1423.18 L26046.9 1423.18 L25967.8 1423.18 L25967.8 1423.18  Z\" fill=\"#009af9\" fill-rule=\"evenodd\" fill-opacity=\"1\"/>\n",
       "<polyline clip-path=\"url(#clip572)\" style=\"stroke:#000000; stroke-linecap:round; stroke-linejoin:round; stroke-width:4; stroke-opacity:1; fill:none\" points=\"25967.8,1423.18 25967.8,1423.18 26046.9,1423.18 25967.8,1423.18 \"/>\n",
       "<path clip-path=\"url(#clip572)\" d=\"M26046.9 1423.18 L26046.9 1423.18 L26126.1 1423.18 L26126.1 1423.18 L26046.9 1423.18 L26046.9 1423.18  Z\" fill=\"#009af9\" fill-rule=\"evenodd\" fill-opacity=\"1\"/>\n",
       "<polyline clip-path=\"url(#clip572)\" style=\"stroke:#000000; stroke-linecap:round; stroke-linejoin:round; stroke-width:4; stroke-opacity:1; fill:none\" points=\"26046.9,1423.18 26046.9,1423.18 26126.1,1423.18 26046.9,1423.18 \"/>\n",
       "<path clip-path=\"url(#clip572)\" d=\"M26126.1 1423.18 L26126.1 1423.18 L26205.2 1423.18 L26205.2 1423.18 L26126.1 1423.18 L26126.1 1423.18  Z\" fill=\"#009af9\" fill-rule=\"evenodd\" fill-opacity=\"1\"/>\n",
       "<polyline clip-path=\"url(#clip572)\" style=\"stroke:#000000; stroke-linecap:round; stroke-linejoin:round; stroke-width:4; stroke-opacity:1; fill:none\" points=\"26126.1,1423.18 26126.1,1423.18 26205.2,1423.18 26126.1,1423.18 \"/>\n",
       "<path clip-path=\"url(#clip572)\" d=\"M26205.2 1423.18 L26205.2 1423.18 L26284.4 1423.18 L26284.4 1423.18 L26205.2 1423.18 L26205.2 1423.18  Z\" fill=\"#009af9\" fill-rule=\"evenodd\" fill-opacity=\"1\"/>\n",
       "<polyline clip-path=\"url(#clip572)\" style=\"stroke:#000000; stroke-linecap:round; stroke-linejoin:round; stroke-width:4; stroke-opacity:1; fill:none\" points=\"26205.2,1423.18 26205.2,1423.18 26284.4,1423.18 26205.2,1423.18 \"/>\n",
       "<path clip-path=\"url(#clip572)\" d=\"M26284.4 1423.18 L26284.4 1423.18 L26363.5 1423.18 L26363.5 1423.18 L26284.4 1423.18 L26284.4 1423.18  Z\" fill=\"#009af9\" fill-rule=\"evenodd\" fill-opacity=\"1\"/>\n",
       "<polyline clip-path=\"url(#clip572)\" style=\"stroke:#000000; stroke-linecap:round; stroke-linejoin:round; stroke-width:4; stroke-opacity:1; fill:none\" points=\"26284.4,1423.18 26284.4,1423.18 26363.5,1423.18 26284.4,1423.18 \"/>\n",
       "<path clip-path=\"url(#clip572)\" d=\"M26363.5 1423.18 L26363.5 1423.18 L26442.7 1423.18 L26442.7 1423.18 L26363.5 1423.18 L26363.5 1423.18  Z\" fill=\"#009af9\" fill-rule=\"evenodd\" fill-opacity=\"1\"/>\n",
       "<polyline clip-path=\"url(#clip572)\" style=\"stroke:#000000; stroke-linecap:round; stroke-linejoin:round; stroke-width:4; stroke-opacity:1; fill:none\" points=\"26363.5,1423.18 26363.5,1423.18 26442.7,1423.18 26363.5,1423.18 \"/>\n",
       "<path clip-path=\"url(#clip572)\" d=\"M26442.7 1423.18 L26442.7 1423.18 L26521.9 1423.18 L26521.9 1423.18 L26442.7 1423.18 L26442.7 1423.18  Z\" fill=\"#009af9\" fill-rule=\"evenodd\" fill-opacity=\"1\"/>\n",
       "<polyline clip-path=\"url(#clip572)\" style=\"stroke:#000000; stroke-linecap:round; stroke-linejoin:round; stroke-width:4; stroke-opacity:1; fill:none\" points=\"26442.7,1423.18 26442.7,1423.18 26521.9,1423.18 26442.7,1423.18 \"/>\n",
       "<path clip-path=\"url(#clip572)\" d=\"M26521.9 1423.18 L26521.9 1423.18 L26601 1423.18 L26601 1423.18 L26521.9 1423.18 L26521.9 1423.18  Z\" fill=\"#009af9\" fill-rule=\"evenodd\" fill-opacity=\"1\"/>\n",
       "<polyline clip-path=\"url(#clip572)\" style=\"stroke:#000000; stroke-linecap:round; stroke-linejoin:round; stroke-width:4; stroke-opacity:1; fill:none\" points=\"26521.9,1423.18 26521.9,1423.18 26601,1423.18 26521.9,1423.18 \"/>\n",
       "<path clip-path=\"url(#clip572)\" d=\"M26601 1423.18 L26601 1423.18 L26680.2 1423.18 L26680.2 1423.18 L26601 1423.18 L26601 1423.18  Z\" fill=\"#009af9\" fill-rule=\"evenodd\" fill-opacity=\"1\"/>\n",
       "<polyline clip-path=\"url(#clip572)\" style=\"stroke:#000000; stroke-linecap:round; stroke-linejoin:round; stroke-width:4; stroke-opacity:1; fill:none\" points=\"26601,1423.18 26601,1423.18 26680.2,1423.18 26601,1423.18 \"/>\n",
       "<path clip-path=\"url(#clip572)\" d=\"M26680.2 1423.18 L26680.2 1423.18 L26759.3 1423.18 L26759.3 1423.18 L26680.2 1423.18 L26680.2 1423.18  Z\" fill=\"#009af9\" fill-rule=\"evenodd\" fill-opacity=\"1\"/>\n",
       "<polyline clip-path=\"url(#clip572)\" style=\"stroke:#000000; stroke-linecap:round; stroke-linejoin:round; stroke-width:4; stroke-opacity:1; fill:none\" points=\"26680.2,1423.18 26680.2,1423.18 26759.3,1423.18 26680.2,1423.18 \"/>\n",
       "<path clip-path=\"url(#clip572)\" d=\"M26759.3 1423.18 L26759.3 1423.18 L26838.5 1423.18 L26838.5 1423.18 L26759.3 1423.18 L26759.3 1423.18  Z\" fill=\"#009af9\" fill-rule=\"evenodd\" fill-opacity=\"1\"/>\n",
       "<polyline clip-path=\"url(#clip572)\" style=\"stroke:#000000; stroke-linecap:round; stroke-linejoin:round; stroke-width:4; stroke-opacity:1; fill:none\" points=\"26759.3,1423.18 26759.3,1423.18 26838.5,1423.18 26759.3,1423.18 \"/>\n",
       "<path clip-path=\"url(#clip572)\" d=\"M26838.5 1423.18 L26838.5 1423.18 L26917.6 1423.18 L26917.6 1423.18 L26838.5 1423.18 L26838.5 1423.18  Z\" fill=\"#009af9\" fill-rule=\"evenodd\" fill-opacity=\"1\"/>\n",
       "<polyline clip-path=\"url(#clip572)\" style=\"stroke:#000000; stroke-linecap:round; stroke-linejoin:round; stroke-width:4; stroke-opacity:1; fill:none\" points=\"26838.5,1423.18 26838.5,1423.18 26917.6,1423.18 26838.5,1423.18 \"/>\n",
       "<path clip-path=\"url(#clip572)\" d=\"M26917.6 1423.18 L26917.6 1423.18 L26996.8 1423.18 L26996.8 1423.18 L26917.6 1423.18 L26917.6 1423.18  Z\" fill=\"#009af9\" fill-rule=\"evenodd\" fill-opacity=\"1\"/>\n",
       "<polyline clip-path=\"url(#clip572)\" style=\"stroke:#000000; stroke-linecap:round; stroke-linejoin:round; stroke-width:4; stroke-opacity:1; fill:none\" points=\"26917.6,1423.18 26917.6,1423.18 26996.8,1423.18 26917.6,1423.18 \"/>\n",
       "<path clip-path=\"url(#clip572)\" d=\"M26996.8 1423.18 L26996.8 1423.18 L27075.9 1423.18 L27075.9 1423.18 L26996.8 1423.18 L26996.8 1423.18  Z\" fill=\"#009af9\" fill-rule=\"evenodd\" fill-opacity=\"1\"/>\n",
       "<polyline clip-path=\"url(#clip572)\" style=\"stroke:#000000; stroke-linecap:round; stroke-linejoin:round; stroke-width:4; stroke-opacity:1; fill:none\" points=\"26996.8,1423.18 26996.8,1423.18 27075.9,1423.18 26996.8,1423.18 \"/>\n",
       "<path clip-path=\"url(#clip572)\" d=\"M27075.9 1423.18 L27075.9 1423.18 L27155.1 1423.18 L27155.1 1423.18 L27075.9 1423.18 L27075.9 1423.18  Z\" fill=\"#009af9\" fill-rule=\"evenodd\" fill-opacity=\"1\"/>\n",
       "<polyline clip-path=\"url(#clip572)\" style=\"stroke:#000000; stroke-linecap:round; stroke-linejoin:round; stroke-width:4; stroke-opacity:1; fill:none\" points=\"27075.9,1423.18 27075.9,1423.18 27155.1,1423.18 27075.9,1423.18 \"/>\n",
       "<path clip-path=\"url(#clip572)\" d=\"M27155.1 1423.18 L27155.1 1423.18 L27234.2 1423.18 L27234.2 1423.18 L27155.1 1423.18 L27155.1 1423.18  Z\" fill=\"#009af9\" fill-rule=\"evenodd\" fill-opacity=\"1\"/>\n",
       "<polyline clip-path=\"url(#clip572)\" style=\"stroke:#000000; stroke-linecap:round; stroke-linejoin:round; stroke-width:4; stroke-opacity:1; fill:none\" points=\"27155.1,1423.18 27155.1,1423.18 27234.2,1423.18 27155.1,1423.18 \"/>\n",
       "<path clip-path=\"url(#clip572)\" d=\"M27234.2 1423.18 L27234.2 1423.18 L27313.4 1423.18 L27313.4 1423.18 L27234.2 1423.18 L27234.2 1423.18  Z\" fill=\"#009af9\" fill-rule=\"evenodd\" fill-opacity=\"1\"/>\n",
       "<polyline clip-path=\"url(#clip572)\" style=\"stroke:#000000; stroke-linecap:round; stroke-linejoin:round; stroke-width:4; stroke-opacity:1; fill:none\" points=\"27234.2,1423.18 27234.2,1423.18 27313.4,1423.18 27234.2,1423.18 \"/>\n",
       "<path clip-path=\"url(#clip572)\" d=\"M27313.4 1423.18 L27313.4 1423.18 L27392.6 1423.18 L27392.6 1423.18 L27313.4 1423.18 L27313.4 1423.18  Z\" fill=\"#009af9\" fill-rule=\"evenodd\" fill-opacity=\"1\"/>\n",
       "<polyline clip-path=\"url(#clip572)\" style=\"stroke:#000000; stroke-linecap:round; stroke-linejoin:round; stroke-width:4; stroke-opacity:1; fill:none\" points=\"27313.4,1423.18 27313.4,1423.18 27392.6,1423.18 27313.4,1423.18 \"/>\n",
       "<path clip-path=\"url(#clip572)\" d=\"M27392.6 1423.18 L27392.6 1423.18 L27471.7 1423.18 L27471.7 1423.18 L27392.6 1423.18 L27392.6 1423.18  Z\" fill=\"#009af9\" fill-rule=\"evenodd\" fill-opacity=\"1\"/>\n",
       "<polyline clip-path=\"url(#clip572)\" style=\"stroke:#000000; stroke-linecap:round; stroke-linejoin:round; stroke-width:4; stroke-opacity:1; fill:none\" points=\"27392.6,1423.18 27392.6,1423.18 27471.7,1423.18 27392.6,1423.18 \"/>\n",
       "<path clip-path=\"url(#clip572)\" d=\"M27471.7 1423.18 L27471.7 1423.18 L27550.9 1423.18 L27550.9 1423.18 L27471.7 1423.18 L27471.7 1423.18  Z\" fill=\"#009af9\" fill-rule=\"evenodd\" fill-opacity=\"1\"/>\n",
       "<polyline clip-path=\"url(#clip572)\" style=\"stroke:#000000; stroke-linecap:round; stroke-linejoin:round; stroke-width:4; stroke-opacity:1; fill:none\" points=\"27471.7,1423.18 27471.7,1423.18 27550.9,1423.18 27471.7,1423.18 \"/>\n",
       "<path clip-path=\"url(#clip572)\" d=\"M27550.9 1423.18 L27550.9 1423.18 L27630 1423.18 L27630 1423.18 L27550.9 1423.18 L27550.9 1423.18  Z\" fill=\"#009af9\" fill-rule=\"evenodd\" fill-opacity=\"1\"/>\n",
       "<polyline clip-path=\"url(#clip572)\" style=\"stroke:#000000; stroke-linecap:round; stroke-linejoin:round; stroke-width:4; stroke-opacity:1; fill:none\" points=\"27550.9,1423.18 27550.9,1423.18 27630,1423.18 27550.9,1423.18 \"/>\n",
       "<path clip-path=\"url(#clip572)\" d=\"M27630 1423.18 L27630 1423.18 L27709.2 1423.18 L27709.2 1423.18 L27630 1423.18 L27630 1423.18  Z\" fill=\"#009af9\" fill-rule=\"evenodd\" fill-opacity=\"1\"/>\n",
       "<polyline clip-path=\"url(#clip572)\" style=\"stroke:#000000; stroke-linecap:round; stroke-linejoin:round; stroke-width:4; stroke-opacity:1; fill:none\" points=\"27630,1423.18 27630,1423.18 27709.2,1423.18 27630,1423.18 \"/>\n",
       "<path clip-path=\"url(#clip572)\" d=\"M27709.2 1423.18 L27709.2 1423.18 L27788.3 1423.18 L27788.3 1423.18 L27709.2 1423.18 L27709.2 1423.18  Z\" fill=\"#009af9\" fill-rule=\"evenodd\" fill-opacity=\"1\"/>\n",
       "<polyline clip-path=\"url(#clip572)\" style=\"stroke:#000000; stroke-linecap:round; stroke-linejoin:round; stroke-width:4; stroke-opacity:1; fill:none\" points=\"27709.2,1423.18 27709.2,1423.18 27788.3,1423.18 27709.2,1423.18 \"/>\n",
       "<path clip-path=\"url(#clip572)\" d=\"M27788.3 1423.18 L27788.3 1423.18 L27867.5 1423.18 L27867.5 1423.18 L27788.3 1423.18 L27788.3 1423.18  Z\" fill=\"#009af9\" fill-rule=\"evenodd\" fill-opacity=\"1\"/>\n",
       "<polyline clip-path=\"url(#clip572)\" style=\"stroke:#000000; stroke-linecap:round; stroke-linejoin:round; stroke-width:4; stroke-opacity:1; fill:none\" points=\"27788.3,1423.18 27788.3,1423.18 27867.5,1423.18 27788.3,1423.18 \"/>\n",
       "<path clip-path=\"url(#clip572)\" d=\"M27867.5 1423.18 L27867.5 1423.18 L27946.6 1423.18 L27946.6 1423.18 L27867.5 1423.18 L27867.5 1423.18  Z\" fill=\"#009af9\" fill-rule=\"evenodd\" fill-opacity=\"1\"/>\n",
       "<polyline clip-path=\"url(#clip572)\" style=\"stroke:#000000; stroke-linecap:round; stroke-linejoin:round; stroke-width:4; stroke-opacity:1; fill:none\" points=\"27867.5,1423.18 27867.5,1423.18 27946.6,1423.18 27867.5,1423.18 \"/>\n",
       "<path clip-path=\"url(#clip572)\" d=\"M27946.6 1423.18 L27946.6 1423.18 L28025.8 1423.18 L28025.8 1423.18 L27946.6 1423.18 L27946.6 1423.18  Z\" fill=\"#009af9\" fill-rule=\"evenodd\" fill-opacity=\"1\"/>\n",
       "<polyline clip-path=\"url(#clip572)\" style=\"stroke:#000000; stroke-linecap:round; stroke-linejoin:round; stroke-width:4; stroke-opacity:1; fill:none\" points=\"27946.6,1423.18 27946.6,1423.18 28025.8,1423.18 27946.6,1423.18 \"/>\n",
       "<path clip-path=\"url(#clip572)\" d=\"M28025.8 1423.18 L28025.8 1423.18 L28105 1423.18 L28105 1423.18 L28025.8 1423.18 L28025.8 1423.18  Z\" fill=\"#009af9\" fill-rule=\"evenodd\" fill-opacity=\"1\"/>\n",
       "<polyline clip-path=\"url(#clip572)\" style=\"stroke:#000000; stroke-linecap:round; stroke-linejoin:round; stroke-width:4; stroke-opacity:1; fill:none\" points=\"28025.8,1423.18 28025.8,1423.18 28105,1423.18 28025.8,1423.18 \"/>\n",
       "<path clip-path=\"url(#clip572)\" d=\"M28105 1423.18 L28105 1423.18 L28184.1 1423.18 L28184.1 1423.18 L28105 1423.18 L28105 1423.18  Z\" fill=\"#009af9\" fill-rule=\"evenodd\" fill-opacity=\"1\"/>\n",
       "<polyline clip-path=\"url(#clip572)\" style=\"stroke:#000000; stroke-linecap:round; stroke-linejoin:round; stroke-width:4; stroke-opacity:1; fill:none\" points=\"28105,1423.18 28105,1423.18 28184.1,1423.18 28105,1423.18 \"/>\n",
       "<path clip-path=\"url(#clip572)\" d=\"M28184.1 1423.18 L28184.1 1423.18 L28263.3 1423.18 L28263.3 1423.18 L28184.1 1423.18 L28184.1 1423.18  Z\" fill=\"#009af9\" fill-rule=\"evenodd\" fill-opacity=\"1\"/>\n",
       "<polyline clip-path=\"url(#clip572)\" style=\"stroke:#000000; stroke-linecap:round; stroke-linejoin:round; stroke-width:4; stroke-opacity:1; fill:none\" points=\"28184.1,1423.18 28184.1,1423.18 28263.3,1423.18 28184.1,1423.18 \"/>\n",
       "<path clip-path=\"url(#clip572)\" d=\"M28263.3 1423.18 L28263.3 1423.18 L28342.4 1423.18 L28342.4 1423.18 L28263.3 1423.18 L28263.3 1423.18  Z\" fill=\"#009af9\" fill-rule=\"evenodd\" fill-opacity=\"1\"/>\n",
       "<polyline clip-path=\"url(#clip572)\" style=\"stroke:#000000; stroke-linecap:round; stroke-linejoin:round; stroke-width:4; stroke-opacity:1; fill:none\" points=\"28263.3,1423.18 28263.3,1423.18 28342.4,1423.18 28263.3,1423.18 \"/>\n",
       "<path clip-path=\"url(#clip572)\" d=\"M28342.4 1423.18 L28342.4 1423.18 L28421.6 1423.18 L28421.6 1423.18 L28342.4 1423.18 L28342.4 1423.18  Z\" fill=\"#009af9\" fill-rule=\"evenodd\" fill-opacity=\"1\"/>\n",
       "<polyline clip-path=\"url(#clip572)\" style=\"stroke:#000000; stroke-linecap:round; stroke-linejoin:round; stroke-width:4; stroke-opacity:1; fill:none\" points=\"28342.4,1423.18 28342.4,1423.18 28421.6,1423.18 28342.4,1423.18 \"/>\n",
       "<path clip-path=\"url(#clip572)\" d=\"M28421.6 1423.18 L28421.6 1423.18 L28500.7 1423.18 L28500.7 1423.18 L28421.6 1423.18 L28421.6 1423.18  Z\" fill=\"#009af9\" fill-rule=\"evenodd\" fill-opacity=\"1\"/>\n",
       "<polyline clip-path=\"url(#clip572)\" style=\"stroke:#000000; stroke-linecap:round; stroke-linejoin:round; stroke-width:4; stroke-opacity:1; fill:none\" points=\"28421.6,1423.18 28421.6,1423.18 28500.7,1423.18 28421.6,1423.18 \"/>\n",
       "<path clip-path=\"url(#clip572)\" d=\"M28500.7 1423.18 L28500.7 1423.18 L28579.9 1423.18 L28579.9 1423.18 L28500.7 1423.18 L28500.7 1423.18  Z\" fill=\"#009af9\" fill-rule=\"evenodd\" fill-opacity=\"1\"/>\n",
       "<polyline clip-path=\"url(#clip572)\" style=\"stroke:#000000; stroke-linecap:round; stroke-linejoin:round; stroke-width:4; stroke-opacity:1; fill:none\" points=\"28500.7,1423.18 28500.7,1423.18 28579.9,1423.18 28500.7,1423.18 \"/>\n",
       "<path clip-path=\"url(#clip572)\" d=\"M28579.9 1423.18 L28579.9 1423.18 L28659 1423.18 L28659 1423.18 L28579.9 1423.18 L28579.9 1423.18  Z\" fill=\"#009af9\" fill-rule=\"evenodd\" fill-opacity=\"1\"/>\n",
       "<polyline clip-path=\"url(#clip572)\" style=\"stroke:#000000; stroke-linecap:round; stroke-linejoin:round; stroke-width:4; stroke-opacity:1; fill:none\" points=\"28579.9,1423.18 28579.9,1423.18 28659,1423.18 28579.9,1423.18 \"/>\n",
       "<path clip-path=\"url(#clip572)\" d=\"M28659 1423.18 L28659 1423.18 L28738.2 1423.18 L28738.2 1423.18 L28659 1423.18 L28659 1423.18  Z\" fill=\"#009af9\" fill-rule=\"evenodd\" fill-opacity=\"1\"/>\n",
       "<polyline clip-path=\"url(#clip572)\" style=\"stroke:#000000; stroke-linecap:round; stroke-linejoin:round; stroke-width:4; stroke-opacity:1; fill:none\" points=\"28659,1423.18 28659,1423.18 28738.2,1423.18 28659,1423.18 \"/>\n",
       "<path clip-path=\"url(#clip572)\" d=\"M28738.2 1423.18 L28738.2 1423.18 L28817.4 1423.18 L28817.4 1423.18 L28738.2 1423.18 L28738.2 1423.18  Z\" fill=\"#009af9\" fill-rule=\"evenodd\" fill-opacity=\"1\"/>\n",
       "<polyline clip-path=\"url(#clip572)\" style=\"stroke:#000000; stroke-linecap:round; stroke-linejoin:round; stroke-width:4; stroke-opacity:1; fill:none\" points=\"28738.2,1423.18 28738.2,1423.18 28817.4,1423.18 28738.2,1423.18 \"/>\n",
       "<path clip-path=\"url(#clip572)\" d=\"M28817.4 1423.18 L28817.4 1423.18 L28896.5 1423.18 L28896.5 1423.18 L28817.4 1423.18 L28817.4 1423.18  Z\" fill=\"#009af9\" fill-rule=\"evenodd\" fill-opacity=\"1\"/>\n",
       "<polyline clip-path=\"url(#clip572)\" style=\"stroke:#000000; stroke-linecap:round; stroke-linejoin:round; stroke-width:4; stroke-opacity:1; fill:none\" points=\"28817.4,1423.18 28817.4,1423.18 28896.5,1423.18 28817.4,1423.18 \"/>\n",
       "<path clip-path=\"url(#clip572)\" d=\"M28896.5 1423.18 L28896.5 1423.18 L28975.7 1423.18 L28975.7 1423.18 L28896.5 1423.18 L28896.5 1423.18  Z\" fill=\"#009af9\" fill-rule=\"evenodd\" fill-opacity=\"1\"/>\n",
       "<polyline clip-path=\"url(#clip572)\" style=\"stroke:#000000; stroke-linecap:round; stroke-linejoin:round; stroke-width:4; stroke-opacity:1; fill:none\" points=\"28896.5,1423.18 28896.5,1423.18 28975.7,1423.18 28896.5,1423.18 \"/>\n",
       "<path clip-path=\"url(#clip572)\" d=\"M28975.7 1423.18 L28975.7 1423.18 L29054.8 1423.18 L29054.8 1423.18 L28975.7 1423.18 L28975.7 1423.18  Z\" fill=\"#009af9\" fill-rule=\"evenodd\" fill-opacity=\"1\"/>\n",
       "<polyline clip-path=\"url(#clip572)\" style=\"stroke:#000000; stroke-linecap:round; stroke-linejoin:round; stroke-width:4; stroke-opacity:1; fill:none\" points=\"28975.7,1423.18 28975.7,1423.18 29054.8,1423.18 28975.7,1423.18 \"/>\n",
       "<path clip-path=\"url(#clip572)\" d=\"M29054.8 1423.18 L29054.8 1423.18 L29134 1423.18 L29134 1423.18 L29054.8 1423.18 L29054.8 1423.18  Z\" fill=\"#009af9\" fill-rule=\"evenodd\" fill-opacity=\"1\"/>\n",
       "<polyline clip-path=\"url(#clip572)\" style=\"stroke:#000000; stroke-linecap:round; stroke-linejoin:round; stroke-width:4; stroke-opacity:1; fill:none\" points=\"29054.8,1423.18 29054.8,1423.18 29134,1423.18 29054.8,1423.18 \"/>\n",
       "<path clip-path=\"url(#clip572)\" d=\"M29134 1423.18 L29134 1423.18 L29213.1 1423.18 L29213.1 1423.18 L29134 1423.18 L29134 1423.18  Z\" fill=\"#009af9\" fill-rule=\"evenodd\" fill-opacity=\"1\"/>\n",
       "<polyline clip-path=\"url(#clip572)\" style=\"stroke:#000000; stroke-linecap:round; stroke-linejoin:round; stroke-width:4; stroke-opacity:1; fill:none\" points=\"29134,1423.18 29134,1423.18 29213.1,1423.18 29134,1423.18 \"/>\n",
       "<path clip-path=\"url(#clip572)\" d=\"M29213.1 1423.18 L29213.1 1423.18 L29292.3 1423.18 L29292.3 1423.18 L29213.1 1423.18 L29213.1 1423.18  Z\" fill=\"#009af9\" fill-rule=\"evenodd\" fill-opacity=\"1\"/>\n",
       "<polyline clip-path=\"url(#clip572)\" style=\"stroke:#000000; stroke-linecap:round; stroke-linejoin:round; stroke-width:4; stroke-opacity:1; fill:none\" points=\"29213.1,1423.18 29213.1,1423.18 29292.3,1423.18 29213.1,1423.18 \"/>\n",
       "<path clip-path=\"url(#clip572)\" d=\"M29292.3 1423.18 L29292.3 1423.18 L29371.4 1423.18 L29371.4 1423.18 L29292.3 1423.18 L29292.3 1423.18  Z\" fill=\"#009af9\" fill-rule=\"evenodd\" fill-opacity=\"1\"/>\n",
       "<polyline clip-path=\"url(#clip572)\" style=\"stroke:#000000; stroke-linecap:round; stroke-linejoin:round; stroke-width:4; stroke-opacity:1; fill:none\" points=\"29292.3,1423.18 29292.3,1423.18 29371.4,1423.18 29292.3,1423.18 \"/>\n",
       "<path clip-path=\"url(#clip572)\" d=\"M29371.4 1423.18 L29371.4 1423.18 L29450.6 1423.18 L29450.6 1423.18 L29371.4 1423.18 L29371.4 1423.18  Z\" fill=\"#009af9\" fill-rule=\"evenodd\" fill-opacity=\"1\"/>\n",
       "<polyline clip-path=\"url(#clip572)\" style=\"stroke:#000000; stroke-linecap:round; stroke-linejoin:round; stroke-width:4; stroke-opacity:1; fill:none\" points=\"29371.4,1423.18 29371.4,1423.18 29450.6,1423.18 29371.4,1423.18 \"/>\n",
       "<path clip-path=\"url(#clip572)\" d=\"M29450.6 1423.18 L29450.6 1423.18 L29529.8 1423.18 L29529.8 1423.18 L29450.6 1423.18 L29450.6 1423.18  Z\" fill=\"#009af9\" fill-rule=\"evenodd\" fill-opacity=\"1\"/>\n",
       "<polyline clip-path=\"url(#clip572)\" style=\"stroke:#000000; stroke-linecap:round; stroke-linejoin:round; stroke-width:4; stroke-opacity:1; fill:none\" points=\"29450.6,1423.18 29450.6,1423.18 29529.8,1423.18 29450.6,1423.18 \"/>\n",
       "<path clip-path=\"url(#clip572)\" d=\"M29529.8 1423.18 L29529.8 1423.18 L29608.9 1423.18 L29608.9 1423.18 L29529.8 1423.18 L29529.8 1423.18  Z\" fill=\"#009af9\" fill-rule=\"evenodd\" fill-opacity=\"1\"/>\n",
       "<polyline clip-path=\"url(#clip572)\" style=\"stroke:#000000; stroke-linecap:round; stroke-linejoin:round; stroke-width:4; stroke-opacity:1; fill:none\" points=\"29529.8,1423.18 29529.8,1423.18 29608.9,1423.18 29529.8,1423.18 \"/>\n",
       "<path clip-path=\"url(#clip572)\" d=\"M29608.9 1423.18 L29608.9 1423.18 L29688.1 1423.18 L29688.1 1423.18 L29608.9 1423.18 L29608.9 1423.18  Z\" fill=\"#009af9\" fill-rule=\"evenodd\" fill-opacity=\"1\"/>\n",
       "<polyline clip-path=\"url(#clip572)\" style=\"stroke:#000000; stroke-linecap:round; stroke-linejoin:round; stroke-width:4; stroke-opacity:1; fill:none\" points=\"29608.9,1423.18 29608.9,1423.18 29688.1,1423.18 29608.9,1423.18 \"/>\n",
       "<path clip-path=\"url(#clip572)\" d=\"M29688.1 1423.18 L29688.1 1423.18 L29767.2 1423.18 L29767.2 1423.18 L29688.1 1423.18 L29688.1 1423.18  Z\" fill=\"#009af9\" fill-rule=\"evenodd\" fill-opacity=\"1\"/>\n",
       "<polyline clip-path=\"url(#clip572)\" style=\"stroke:#000000; stroke-linecap:round; stroke-linejoin:round; stroke-width:4; stroke-opacity:1; fill:none\" points=\"29688.1,1423.18 29688.1,1423.18 29767.2,1423.18 29688.1,1423.18 \"/>\n",
       "<path clip-path=\"url(#clip572)\" d=\"M29767.2 1423.18 L29767.2 1423.18 L29846.4 1423.18 L29846.4 1423.18 L29767.2 1423.18 L29767.2 1423.18  Z\" fill=\"#009af9\" fill-rule=\"evenodd\" fill-opacity=\"1\"/>\n",
       "<polyline clip-path=\"url(#clip572)\" style=\"stroke:#000000; stroke-linecap:round; stroke-linejoin:round; stroke-width:4; stroke-opacity:1; fill:none\" points=\"29767.2,1423.18 29767.2,1423.18 29846.4,1423.18 29767.2,1423.18 \"/>\n",
       "<path clip-path=\"url(#clip572)\" d=\"M29846.4 1423.18 L29846.4 1423.18 L29925.5 1423.18 L29925.5 1423.18 L29846.4 1423.18 L29846.4 1423.18  Z\" fill=\"#009af9\" fill-rule=\"evenodd\" fill-opacity=\"1\"/>\n",
       "<polyline clip-path=\"url(#clip572)\" style=\"stroke:#000000; stroke-linecap:round; stroke-linejoin:round; stroke-width:4; stroke-opacity:1; fill:none\" points=\"29846.4,1423.18 29846.4,1423.18 29925.5,1423.18 29846.4,1423.18 \"/>\n",
       "<path clip-path=\"url(#clip572)\" d=\"M29925.5 1423.18 L29925.5 1423.18 L30004.7 1423.18 L30004.7 1423.18 L29925.5 1423.18 L29925.5 1423.18  Z\" fill=\"#009af9\" fill-rule=\"evenodd\" fill-opacity=\"1\"/>\n",
       "<polyline clip-path=\"url(#clip572)\" style=\"stroke:#000000; stroke-linecap:round; stroke-linejoin:round; stroke-width:4; stroke-opacity:1; fill:none\" points=\"29925.5,1423.18 29925.5,1423.18 30004.7,1423.18 29925.5,1423.18 \"/>\n",
       "<path clip-path=\"url(#clip572)\" d=\"M30004.7 1423.18 L30004.7 1423.18 L30083.8 1423.18 L30083.8 1423.18 L30004.7 1423.18 L30004.7 1423.18  Z\" fill=\"#009af9\" fill-rule=\"evenodd\" fill-opacity=\"1\"/>\n",
       "<polyline clip-path=\"url(#clip572)\" style=\"stroke:#000000; stroke-linecap:round; stroke-linejoin:round; stroke-width:4; stroke-opacity:1; fill:none\" points=\"30004.7,1423.18 30004.7,1423.18 30083.8,1423.18 30004.7,1423.18 \"/>\n",
       "<path clip-path=\"url(#clip572)\" d=\"M30083.8 1423.18 L30083.8 1423.18 L30163 1423.18 L30163 1423.18 L30083.8 1423.18 L30083.8 1423.18  Z\" fill=\"#009af9\" fill-rule=\"evenodd\" fill-opacity=\"1\"/>\n",
       "<polyline clip-path=\"url(#clip572)\" style=\"stroke:#000000; stroke-linecap:round; stroke-linejoin:round; stroke-width:4; stroke-opacity:1; fill:none\" points=\"30083.8,1423.18 30083.8,1423.18 30163,1423.18 30083.8,1423.18 \"/>\n",
       "<path clip-path=\"url(#clip572)\" d=\"M30163 1423.18 L30163 1423.18 L30242.2 1423.18 L30242.2 1423.18 L30163 1423.18 L30163 1423.18  Z\" fill=\"#009af9\" fill-rule=\"evenodd\" fill-opacity=\"1\"/>\n",
       "<polyline clip-path=\"url(#clip572)\" style=\"stroke:#000000; stroke-linecap:round; stroke-linejoin:round; stroke-width:4; stroke-opacity:1; fill:none\" points=\"30163,1423.18 30163,1423.18 30242.2,1423.18 30163,1423.18 \"/>\n",
       "<path clip-path=\"url(#clip572)\" d=\"M30242.2 1423.18 L30242.2 1423.18 L30321.3 1423.18 L30321.3 1423.18 L30242.2 1423.18 L30242.2 1423.18  Z\" fill=\"#009af9\" fill-rule=\"evenodd\" fill-opacity=\"1\"/>\n",
       "<polyline clip-path=\"url(#clip572)\" style=\"stroke:#000000; stroke-linecap:round; stroke-linejoin:round; stroke-width:4; stroke-opacity:1; fill:none\" points=\"30242.2,1423.18 30242.2,1423.18 30321.3,1423.18 30242.2,1423.18 \"/>\n",
       "<path clip-path=\"url(#clip572)\" d=\"M30321.3 1423.18 L30321.3 1423.18 L30400.5 1423.18 L30400.5 1423.18 L30321.3 1423.18 L30321.3 1423.18  Z\" fill=\"#009af9\" fill-rule=\"evenodd\" fill-opacity=\"1\"/>\n",
       "<polyline clip-path=\"url(#clip572)\" style=\"stroke:#000000; stroke-linecap:round; stroke-linejoin:round; stroke-width:4; stroke-opacity:1; fill:none\" points=\"30321.3,1423.18 30321.3,1423.18 30400.5,1423.18 30321.3,1423.18 \"/>\n",
       "<path clip-path=\"url(#clip572)\" d=\"M30400.5 1423.18 L30400.5 1423.18 L30479.6 1423.18 L30479.6 1423.18 L30400.5 1423.18 L30400.5 1423.18  Z\" fill=\"#009af9\" fill-rule=\"evenodd\" fill-opacity=\"1\"/>\n",
       "<polyline clip-path=\"url(#clip572)\" style=\"stroke:#000000; stroke-linecap:round; stroke-linejoin:round; stroke-width:4; stroke-opacity:1; fill:none\" points=\"30400.5,1423.18 30400.5,1423.18 30479.6,1423.18 30400.5,1423.18 \"/>\n",
       "<path clip-path=\"url(#clip572)\" d=\"M30479.6 1423.18 L30479.6 1423.18 L30558.8 1423.18 L30558.8 1423.18 L30479.6 1423.18 L30479.6 1423.18  Z\" fill=\"#009af9\" fill-rule=\"evenodd\" fill-opacity=\"1\"/>\n",
       "<polyline clip-path=\"url(#clip572)\" style=\"stroke:#000000; stroke-linecap:round; stroke-linejoin:round; stroke-width:4; stroke-opacity:1; fill:none\" points=\"30479.6,1423.18 30479.6,1423.18 30558.8,1423.18 30479.6,1423.18 \"/>\n",
       "<path clip-path=\"url(#clip572)\" d=\"M30558.8 1423.18 L30558.8 1423.18 L30637.9 1423.18 L30637.9 1423.18 L30558.8 1423.18 L30558.8 1423.18  Z\" fill=\"#009af9\" fill-rule=\"evenodd\" fill-opacity=\"1\"/>\n",
       "<polyline clip-path=\"url(#clip572)\" style=\"stroke:#000000; stroke-linecap:round; stroke-linejoin:round; stroke-width:4; stroke-opacity:1; fill:none\" points=\"30558.8,1423.18 30558.8,1423.18 30637.9,1423.18 30558.8,1423.18 \"/>\n",
       "<path clip-path=\"url(#clip572)\" d=\"M30637.9 1423.18 L30637.9 1423.18 L30717.1 1423.18 L30717.1 1423.18 L30637.9 1423.18 L30637.9 1423.18  Z\" fill=\"#009af9\" fill-rule=\"evenodd\" fill-opacity=\"1\"/>\n",
       "<polyline clip-path=\"url(#clip572)\" style=\"stroke:#000000; stroke-linecap:round; stroke-linejoin:round; stroke-width:4; stroke-opacity:1; fill:none\" points=\"30637.9,1423.18 30637.9,1423.18 30717.1,1423.18 30637.9,1423.18 \"/>\n",
       "<path clip-path=\"url(#clip572)\" d=\"M30717.1 1423.18 L30717.1 1423.18 L30796.2 1423.18 L30796.2 1423.18 L30717.1 1423.18 L30717.1 1423.18  Z\" fill=\"#009af9\" fill-rule=\"evenodd\" fill-opacity=\"1\"/>\n",
       "<polyline clip-path=\"url(#clip572)\" style=\"stroke:#000000; stroke-linecap:round; stroke-linejoin:round; stroke-width:4; stroke-opacity:1; fill:none\" points=\"30717.1,1423.18 30717.1,1423.18 30796.2,1423.18 30717.1,1423.18 \"/>\n",
       "<path clip-path=\"url(#clip572)\" d=\"M30796.2 1423.18 L30796.2 1423.18 L30875.4 1423.18 L30875.4 1423.18 L30796.2 1423.18 L30796.2 1423.18  Z\" fill=\"#009af9\" fill-rule=\"evenodd\" fill-opacity=\"1\"/>\n",
       "<polyline clip-path=\"url(#clip572)\" style=\"stroke:#000000; stroke-linecap:round; stroke-linejoin:round; stroke-width:4; stroke-opacity:1; fill:none\" points=\"30796.2,1423.18 30796.2,1423.18 30875.4,1423.18 30796.2,1423.18 \"/>\n",
       "<path clip-path=\"url(#clip572)\" d=\"M30875.4 1423.18 L30875.4 1423.18 L30954.6 1423.18 L30954.6 1423.18 L30875.4 1423.18 L30875.4 1423.18  Z\" fill=\"#009af9\" fill-rule=\"evenodd\" fill-opacity=\"1\"/>\n",
       "<polyline clip-path=\"url(#clip572)\" style=\"stroke:#000000; stroke-linecap:round; stroke-linejoin:round; stroke-width:4; stroke-opacity:1; fill:none\" points=\"30875.4,1423.18 30875.4,1423.18 30954.6,1423.18 30875.4,1423.18 \"/>\n",
       "<path clip-path=\"url(#clip572)\" d=\"M30954.6 1423.18 L30954.6 1423.18 L31033.7 1423.18 L31033.7 1423.18 L30954.6 1423.18 L30954.6 1423.18  Z\" fill=\"#009af9\" fill-rule=\"evenodd\" fill-opacity=\"1\"/>\n",
       "<polyline clip-path=\"url(#clip572)\" style=\"stroke:#000000; stroke-linecap:round; stroke-linejoin:round; stroke-width:4; stroke-opacity:1; fill:none\" points=\"30954.6,1423.18 30954.6,1423.18 31033.7,1423.18 30954.6,1423.18 \"/>\n",
       "<path clip-path=\"url(#clip572)\" d=\"M31033.7 1423.18 L31033.7 1423.18 L31112.9 1423.18 L31112.9 1423.18 L31033.7 1423.18 L31033.7 1423.18  Z\" fill=\"#009af9\" fill-rule=\"evenodd\" fill-opacity=\"1\"/>\n",
       "<polyline clip-path=\"url(#clip572)\" style=\"stroke:#000000; stroke-linecap:round; stroke-linejoin:round; stroke-width:4; stroke-opacity:1; fill:none\" points=\"31033.7,1423.18 31033.7,1423.18 31112.9,1423.18 31033.7,1423.18 \"/>\n",
       "<path clip-path=\"url(#clip572)\" d=\"M31112.9 1423.18 L31112.9 1423.18 L31192 1423.18 L31192 1423.18 L31112.9 1423.18 L31112.9 1423.18  Z\" fill=\"#009af9\" fill-rule=\"evenodd\" fill-opacity=\"1\"/>\n",
       "<polyline clip-path=\"url(#clip572)\" style=\"stroke:#000000; stroke-linecap:round; stroke-linejoin:round; stroke-width:4; stroke-opacity:1; fill:none\" points=\"31112.9,1423.18 31112.9,1423.18 31192,1423.18 31112.9,1423.18 \"/>\n",
       "<path clip-path=\"url(#clip572)\" d=\"M31192 1423.18 L31192 1423.18 L31271.2 1423.18 L31271.2 1423.18 L31192 1423.18 L31192 1423.18  Z\" fill=\"#009af9\" fill-rule=\"evenodd\" fill-opacity=\"1\"/>\n",
       "<polyline clip-path=\"url(#clip572)\" style=\"stroke:#000000; stroke-linecap:round; stroke-linejoin:round; stroke-width:4; stroke-opacity:1; fill:none\" points=\"31192,1423.18 31192,1423.18 31271.2,1423.18 31192,1423.18 \"/>\n",
       "<path clip-path=\"url(#clip572)\" d=\"M31271.2 1423.18 L31271.2 1423.18 L31350.3 1423.18 L31350.3 1423.18 L31271.2 1423.18 L31271.2 1423.18  Z\" fill=\"#009af9\" fill-rule=\"evenodd\" fill-opacity=\"1\"/>\n",
       "<polyline clip-path=\"url(#clip572)\" style=\"stroke:#000000; stroke-linecap:round; stroke-linejoin:round; stroke-width:4; stroke-opacity:1; fill:none\" points=\"31271.2,1423.18 31271.2,1423.18 31350.3,1423.18 31271.2,1423.18 \"/>\n",
       "<path clip-path=\"url(#clip572)\" d=\"M31350.3 1423.18 L31350.3 1423.18 L31429.5 1423.18 L31429.5 1423.18 L31350.3 1423.18 L31350.3 1423.18  Z\" fill=\"#009af9\" fill-rule=\"evenodd\" fill-opacity=\"1\"/>\n",
       "<polyline clip-path=\"url(#clip572)\" style=\"stroke:#000000; stroke-linecap:round; stroke-linejoin:round; stroke-width:4; stroke-opacity:1; fill:none\" points=\"31350.3,1423.18 31350.3,1423.18 31429.5,1423.18 31350.3,1423.18 \"/>\n",
       "<path clip-path=\"url(#clip572)\" d=\"M31429.5 1423.18 L31429.5 1423.18 L31508.6 1423.18 L31508.6 1423.18 L31429.5 1423.18 L31429.5 1423.18  Z\" fill=\"#009af9\" fill-rule=\"evenodd\" fill-opacity=\"1\"/>\n",
       "<polyline clip-path=\"url(#clip572)\" style=\"stroke:#000000; stroke-linecap:round; stroke-linejoin:round; stroke-width:4; stroke-opacity:1; fill:none\" points=\"31429.5,1423.18 31429.5,1423.18 31508.6,1423.18 31429.5,1423.18 \"/>\n",
       "<path clip-path=\"url(#clip572)\" d=\"M31508.6 1423.18 L31508.6 1423.18 L31587.8 1423.18 L31587.8 1423.18 L31508.6 1423.18 L31508.6 1423.18  Z\" fill=\"#009af9\" fill-rule=\"evenodd\" fill-opacity=\"1\"/>\n",
       "<polyline clip-path=\"url(#clip572)\" style=\"stroke:#000000; stroke-linecap:round; stroke-linejoin:round; stroke-width:4; stroke-opacity:1; fill:none\" points=\"31508.6,1423.18 31508.6,1423.18 31587.8,1423.18 31508.6,1423.18 \"/>\n",
       "<path clip-path=\"url(#clip572)\" d=\"M31587.8 1423.18 L31587.8 1423.18 L31667 1423.18 L31667 1423.18 L31587.8 1423.18 L31587.8 1423.18  Z\" fill=\"#009af9\" fill-rule=\"evenodd\" fill-opacity=\"1\"/>\n",
       "<polyline clip-path=\"url(#clip572)\" style=\"stroke:#000000; stroke-linecap:round; stroke-linejoin:round; stroke-width:4; stroke-opacity:1; fill:none\" points=\"31587.8,1423.18 31587.8,1423.18 31667,1423.18 31587.8,1423.18 \"/>\n",
       "<path clip-path=\"url(#clip572)\" d=\"M31667 1423.18 L31667 1423.18 L31746.1 1423.18 L31746.1 1423.18 L31667 1423.18 L31667 1423.18  Z\" fill=\"#009af9\" fill-rule=\"evenodd\" fill-opacity=\"1\"/>\n",
       "<polyline clip-path=\"url(#clip572)\" style=\"stroke:#000000; stroke-linecap:round; stroke-linejoin:round; stroke-width:4; stroke-opacity:1; fill:none\" points=\"31667,1423.18 31667,1423.18 31746.1,1423.18 31667,1423.18 \"/>\n",
       "<path clip-path=\"url(#clip572)\" d=\"M31746.1 1423.18 L31746.1 1423.18 L31825.3 1423.18 L31825.3 1423.18 L31746.1 1423.18 L31746.1 1423.18  Z\" fill=\"#009af9\" fill-rule=\"evenodd\" fill-opacity=\"1\"/>\n",
       "<polyline clip-path=\"url(#clip572)\" style=\"stroke:#000000; stroke-linecap:round; stroke-linejoin:round; stroke-width:4; stroke-opacity:1; fill:none\" points=\"31746.1,1423.18 31746.1,1423.18 31825.3,1423.18 31746.1,1423.18 \"/>\n",
       "<path clip-path=\"url(#clip572)\" d=\"M31825.3 1423.18 L31825.3 1423.18 L31904.4 1423.18 L31904.4 1423.18 L31825.3 1423.18 L31825.3 1423.18  Z\" fill=\"#009af9\" fill-rule=\"evenodd\" fill-opacity=\"1\"/>\n",
       "<polyline clip-path=\"url(#clip572)\" style=\"stroke:#000000; stroke-linecap:round; stroke-linejoin:round; stroke-width:4; stroke-opacity:1; fill:none\" points=\"31825.3,1423.18 31825.3,1423.18 31904.4,1423.18 31825.3,1423.18 \"/>\n",
       "<path clip-path=\"url(#clip572)\" d=\"M31904.4 1423.18 L31904.4 1423.18 L31983.6 1423.18 L31983.6 1423.18 L31904.4 1423.18 L31904.4 1423.18  Z\" fill=\"#009af9\" fill-rule=\"evenodd\" fill-opacity=\"1\"/>\n",
       "<polyline clip-path=\"url(#clip572)\" style=\"stroke:#000000; stroke-linecap:round; stroke-linejoin:round; stroke-width:4; stroke-opacity:1; fill:none\" points=\"31904.4,1423.18 31904.4,1423.18 31983.6,1423.18 31904.4,1423.18 \"/>\n",
       "<path clip-path=\"url(#clip572)\" d=\"M31983.6 1423.18 L31983.6 1423.18 L32062.7 1423.18 L32062.7 1423.18 L31983.6 1423.18 L31983.6 1423.18  Z\" fill=\"#009af9\" fill-rule=\"evenodd\" fill-opacity=\"1\"/>\n",
       "<polyline clip-path=\"url(#clip572)\" style=\"stroke:#000000; stroke-linecap:round; stroke-linejoin:round; stroke-width:4; stroke-opacity:1; fill:none\" points=\"31983.6,1423.18 31983.6,1423.18 32062.7,1423.18 31983.6,1423.18 \"/>\n",
       "<path clip-path=\"url(#clip572)\" d=\"M32062.7 1423.18 L32062.7 1423.18 L32141.9 1423.18 L32141.9 1423.18 L32062.7 1423.18 L32062.7 1423.18  Z\" fill=\"#009af9\" fill-rule=\"evenodd\" fill-opacity=\"1\"/>\n",
       "<polyline clip-path=\"url(#clip572)\" style=\"stroke:#000000; stroke-linecap:round; stroke-linejoin:round; stroke-width:4; stroke-opacity:1; fill:none\" points=\"32062.7,1423.18 32062.7,1423.18 32141.9,1423.18 32062.7,1423.18 \"/>\n",
       "<path clip-path=\"url(#clip572)\" d=\"M32141.9 1423.18 L32141.9 1423.18 L32221 1423.18 L32221 1423.18 L32141.9 1423.18 L32141.9 1423.18  Z\" fill=\"#009af9\" fill-rule=\"evenodd\" fill-opacity=\"1\"/>\n",
       "<polyline clip-path=\"url(#clip572)\" style=\"stroke:#000000; stroke-linecap:round; stroke-linejoin:round; stroke-width:4; stroke-opacity:1; fill:none\" points=\"32141.9,1423.18 32141.9,1423.18 32221,1423.18 32141.9,1423.18 \"/>\n",
       "<path clip-path=\"url(#clip572)\" d=\"M32221 1423.18 L32221 1423.18 L32300.2 1423.18 L32300.2 1423.18 L32221 1423.18 L32221 1423.18  Z\" fill=\"#009af9\" fill-rule=\"evenodd\" fill-opacity=\"1\"/>\n",
       "<polyline clip-path=\"url(#clip572)\" style=\"stroke:#000000; stroke-linecap:round; stroke-linejoin:round; stroke-width:4; stroke-opacity:1; fill:none\" points=\"32221,1423.18 32221,1423.18 32300.2,1423.18 32221,1423.18 \"/>\n",
       "<path clip-path=\"url(#clip572)\" d=\"M32300.2 1423.18 L32300.2 1423.18 L32379.4 1423.18 L32379.4 1423.18 L32300.2 1423.18 L32300.2 1423.18  Z\" fill=\"#009af9\" fill-rule=\"evenodd\" fill-opacity=\"1\"/>\n",
       "<polyline clip-path=\"url(#clip572)\" style=\"stroke:#000000; stroke-linecap:round; stroke-linejoin:round; stroke-width:4; stroke-opacity:1; fill:none\" points=\"32300.2,1423.18 32300.2,1423.18 32379.4,1423.18 32300.2,1423.18 \"/>\n",
       "<path clip-path=\"url(#clip572)\" d=\"M32379.4 1423.18 L32379.4 1423.18 L32458.5 1423.18 L32458.5 1423.18 L32379.4 1423.18 L32379.4 1423.18  Z\" fill=\"#009af9\" fill-rule=\"evenodd\" fill-opacity=\"1\"/>\n",
       "<polyline clip-path=\"url(#clip572)\" style=\"stroke:#000000; stroke-linecap:round; stroke-linejoin:round; stroke-width:4; stroke-opacity:1; fill:none\" points=\"32379.4,1423.18 32379.4,1423.18 32458.5,1423.18 32379.4,1423.18 \"/>\n",
       "<path clip-path=\"url(#clip572)\" d=\"M32458.5 1423.18 L32458.5 1423.18 L32537.7 1423.18 L32537.7 1423.18 L32458.5 1423.18 L32458.5 1423.18  Z\" fill=\"#009af9\" fill-rule=\"evenodd\" fill-opacity=\"1\"/>\n",
       "<polyline clip-path=\"url(#clip572)\" style=\"stroke:#000000; stroke-linecap:round; stroke-linejoin:round; stroke-width:4; stroke-opacity:1; fill:none\" points=\"32458.5,1423.18 32458.5,1423.18 32537.7,1423.18 32458.5,1423.18 \"/>\n",
       "<path clip-path=\"url(#clip572)\" d=\"M32537.7 1423.18 L32537.7 1423.18 L32616.8 1423.18 L32616.8 1423.18 L32537.7 1423.18 L32537.7 1423.18  Z\" fill=\"#009af9\" fill-rule=\"evenodd\" fill-opacity=\"1\"/>\n",
       "<polyline clip-path=\"url(#clip572)\" style=\"stroke:#000000; stroke-linecap:round; stroke-linejoin:round; stroke-width:4; stroke-opacity:1; fill:none\" points=\"32537.7,1423.18 32537.7,1423.18 32616.8,1423.18 32537.7,1423.18 \"/>\n",
       "<path clip-path=\"url(#clip572)\" d=\"M32616.8 1423.18 L32616.8 1423.18 L32696 1423.18 L32696 1423.18 L32616.8 1423.18 L32616.8 1423.18  Z\" fill=\"#009af9\" fill-rule=\"evenodd\" fill-opacity=\"1\"/>\n",
       "<polyline clip-path=\"url(#clip572)\" style=\"stroke:#000000; stroke-linecap:round; stroke-linejoin:round; stroke-width:4; stroke-opacity:1; fill:none\" points=\"32616.8,1423.18 32616.8,1423.18 32696,1423.18 32616.8,1423.18 \"/>\n",
       "<path clip-path=\"url(#clip572)\" d=\"M32696 1423.18 L32696 1423.18 L32775.1 1423.18 L32775.1 1423.18 L32696 1423.18 L32696 1423.18  Z\" fill=\"#009af9\" fill-rule=\"evenodd\" fill-opacity=\"1\"/>\n",
       "<polyline clip-path=\"url(#clip572)\" style=\"stroke:#000000; stroke-linecap:round; stroke-linejoin:round; stroke-width:4; stroke-opacity:1; fill:none\" points=\"32696,1423.18 32696,1423.18 32775.1,1423.18 32696,1423.18 \"/>\n",
       "<path clip-path=\"url(#clip572)\" d=\"M32775.1 1423.18 L32775.1 1423.18 L32854.3 1423.18 L32854.3 1423.18 L32775.1 1423.18 L32775.1 1423.18  Z\" fill=\"#009af9\" fill-rule=\"evenodd\" fill-opacity=\"1\"/>\n",
       "<polyline clip-path=\"url(#clip572)\" style=\"stroke:#000000; stroke-linecap:round; stroke-linejoin:round; stroke-width:4; stroke-opacity:1; fill:none\" points=\"32775.1,1423.18 32775.1,1423.18 32854.3,1423.18 32775.1,1423.18 \"/>\n",
       "<path clip-path=\"url(#clip572)\" d=\"M32854.3 1423.18 L32854.3 1423.18 L32933.4 1423.18 L32933.4 1423.18 L32854.3 1423.18 L32854.3 1423.18  Z\" fill=\"#009af9\" fill-rule=\"evenodd\" fill-opacity=\"1\"/>\n",
       "<polyline clip-path=\"url(#clip572)\" style=\"stroke:#000000; stroke-linecap:round; stroke-linejoin:round; stroke-width:4; stroke-opacity:1; fill:none\" points=\"32854.3,1423.18 32854.3,1423.18 32933.4,1423.18 32854.3,1423.18 \"/>\n",
       "<path clip-path=\"url(#clip572)\" d=\"M32933.4 1423.18 L32933.4 1423.18 L33012.6 1423.18 L33012.6 1423.18 L32933.4 1423.18 L32933.4 1423.18  Z\" fill=\"#009af9\" fill-rule=\"evenodd\" fill-opacity=\"1\"/>\n",
       "<polyline clip-path=\"url(#clip572)\" style=\"stroke:#000000; stroke-linecap:round; stroke-linejoin:round; stroke-width:4; stroke-opacity:1; fill:none\" points=\"32933.4,1423.18 32933.4,1423.18 33012.6,1423.18 32933.4,1423.18 \"/>\n",
       "<path clip-path=\"url(#clip572)\" d=\"M33012.6 1423.18 L33012.6 1423.18 L33091.8 1423.18 L33091.8 1423.18 L33012.6 1423.18 L33012.6 1423.18  Z\" fill=\"#009af9\" fill-rule=\"evenodd\" fill-opacity=\"1\"/>\n",
       "<polyline clip-path=\"url(#clip572)\" style=\"stroke:#000000; stroke-linecap:round; stroke-linejoin:round; stroke-width:4; stroke-opacity:1; fill:none\" points=\"33012.6,1423.18 33012.6,1423.18 33091.8,1423.18 33012.6,1423.18 \"/>\n",
       "<path clip-path=\"url(#clip572)\" d=\"M33091.8 1423.18 L33091.8 1423.18 L33170.9 1423.18 L33170.9 1423.18 L33091.8 1423.18 L33091.8 1423.18  Z\" fill=\"#009af9\" fill-rule=\"evenodd\" fill-opacity=\"1\"/>\n",
       "<polyline clip-path=\"url(#clip572)\" style=\"stroke:#000000; stroke-linecap:round; stroke-linejoin:round; stroke-width:4; stroke-opacity:1; fill:none\" points=\"33091.8,1423.18 33091.8,1423.18 33170.9,1423.18 33091.8,1423.18 \"/>\n",
       "<path clip-path=\"url(#clip572)\" d=\"M33170.9 1423.18 L33170.9 1423.18 L33250.1 1423.18 L33250.1 1423.18 L33170.9 1423.18 L33170.9 1423.18  Z\" fill=\"#009af9\" fill-rule=\"evenodd\" fill-opacity=\"1\"/>\n",
       "<polyline clip-path=\"url(#clip572)\" style=\"stroke:#000000; stroke-linecap:round; stroke-linejoin:round; stroke-width:4; stroke-opacity:1; fill:none\" points=\"33170.9,1423.18 33170.9,1423.18 33250.1,1423.18 33170.9,1423.18 \"/>\n",
       "<path clip-path=\"url(#clip572)\" d=\"M33250.1 1423.18 L33250.1 1423.18 L33329.2 1423.18 L33329.2 1423.18 L33250.1 1423.18 L33250.1 1423.18  Z\" fill=\"#009af9\" fill-rule=\"evenodd\" fill-opacity=\"1\"/>\n",
       "<polyline clip-path=\"url(#clip572)\" style=\"stroke:#000000; stroke-linecap:round; stroke-linejoin:round; stroke-width:4; stroke-opacity:1; fill:none\" points=\"33250.1,1423.18 33250.1,1423.18 33329.2,1423.18 33250.1,1423.18 \"/>\n",
       "<path clip-path=\"url(#clip572)\" d=\"M33329.2 1423.18 L33329.2 1423.18 L33408.4 1423.18 L33408.4 1423.18 L33329.2 1423.18 L33329.2 1423.18  Z\" fill=\"#009af9\" fill-rule=\"evenodd\" fill-opacity=\"1\"/>\n",
       "<polyline clip-path=\"url(#clip572)\" style=\"stroke:#000000; stroke-linecap:round; stroke-linejoin:round; stroke-width:4; stroke-opacity:1; fill:none\" points=\"33329.2,1423.18 33329.2,1423.18 33408.4,1423.18 33329.2,1423.18 \"/>\n",
       "<path clip-path=\"url(#clip572)\" d=\"M33408.4 1423.18 L33408.4 1423.18 L33487.5 1423.18 L33487.5 1423.18 L33408.4 1423.18 L33408.4 1423.18  Z\" fill=\"#009af9\" fill-rule=\"evenodd\" fill-opacity=\"1\"/>\n",
       "<polyline clip-path=\"url(#clip572)\" style=\"stroke:#000000; stroke-linecap:round; stroke-linejoin:round; stroke-width:4; stroke-opacity:1; fill:none\" points=\"33408.4,1423.18 33408.4,1423.18 33487.5,1423.18 33408.4,1423.18 \"/>\n",
       "<path clip-path=\"url(#clip572)\" d=\"M33487.5 1423.18 L33487.5 1423.18 L33566.7 1423.18 L33566.7 1423.18 L33487.5 1423.18 L33487.5 1423.18  Z\" fill=\"#009af9\" fill-rule=\"evenodd\" fill-opacity=\"1\"/>\n",
       "<polyline clip-path=\"url(#clip572)\" style=\"stroke:#000000; stroke-linecap:round; stroke-linejoin:round; stroke-width:4; stroke-opacity:1; fill:none\" points=\"33487.5,1423.18 33487.5,1423.18 33566.7,1423.18 33487.5,1423.18 \"/>\n",
       "<path clip-path=\"url(#clip572)\" d=\"M33566.7 1423.18 L33566.7 1423.18 L33645.8 1423.18 L33645.8 1423.18 L33566.7 1423.18 L33566.7 1423.18  Z\" fill=\"#009af9\" fill-rule=\"evenodd\" fill-opacity=\"1\"/>\n",
       "<polyline clip-path=\"url(#clip572)\" style=\"stroke:#000000; stroke-linecap:round; stroke-linejoin:round; stroke-width:4; stroke-opacity:1; fill:none\" points=\"33566.7,1423.18 33566.7,1423.18 33645.8,1423.18 33566.7,1423.18 \"/>\n",
       "<path clip-path=\"url(#clip572)\" d=\"M33645.8 1423.18 L33645.8 1423.18 L33725 1423.18 L33725 1423.18 L33645.8 1423.18 L33645.8 1423.18  Z\" fill=\"#009af9\" fill-rule=\"evenodd\" fill-opacity=\"1\"/>\n",
       "<polyline clip-path=\"url(#clip572)\" style=\"stroke:#000000; stroke-linecap:round; stroke-linejoin:round; stroke-width:4; stroke-opacity:1; fill:none\" points=\"33645.8,1423.18 33645.8,1423.18 33725,1423.18 33645.8,1423.18 \"/>\n",
       "<path clip-path=\"url(#clip572)\" d=\"M33725 1423.18 L33725 1423.18 L33804.2 1423.18 L33804.2 1423.18 L33725 1423.18 L33725 1423.18  Z\" fill=\"#009af9\" fill-rule=\"evenodd\" fill-opacity=\"1\"/>\n",
       "<polyline clip-path=\"url(#clip572)\" style=\"stroke:#000000; stroke-linecap:round; stroke-linejoin:round; stroke-width:4; stroke-opacity:1; fill:none\" points=\"33725,1423.18 33725,1423.18 33804.2,1423.18 33725,1423.18 \"/>\n",
       "<path clip-path=\"url(#clip572)\" d=\"M33804.2 1423.18 L33804.2 1423.18 L33883.3 1423.18 L33883.3 1423.18 L33804.2 1423.18 L33804.2 1423.18  Z\" fill=\"#009af9\" fill-rule=\"evenodd\" fill-opacity=\"1\"/>\n",
       "<polyline clip-path=\"url(#clip572)\" style=\"stroke:#000000; stroke-linecap:round; stroke-linejoin:round; stroke-width:4; stroke-opacity:1; fill:none\" points=\"33804.2,1423.18 33804.2,1423.18 33883.3,1423.18 33804.2,1423.18 \"/>\n",
       "<path clip-path=\"url(#clip572)\" d=\"M33883.3 1423.18 L33883.3 1423.18 L33962.5 1423.18 L33962.5 1423.18 L33883.3 1423.18 L33883.3 1423.18  Z\" fill=\"#009af9\" fill-rule=\"evenodd\" fill-opacity=\"1\"/>\n",
       "<polyline clip-path=\"url(#clip572)\" style=\"stroke:#000000; stroke-linecap:round; stroke-linejoin:round; stroke-width:4; stroke-opacity:1; fill:none\" points=\"33883.3,1423.18 33883.3,1423.18 33962.5,1423.18 33883.3,1423.18 \"/>\n",
       "<path clip-path=\"url(#clip572)\" d=\"M33962.5 1423.18 L33962.5 1423.18 L34041.6 1423.18 L34041.6 1423.18 L33962.5 1423.18 L33962.5 1423.18  Z\" fill=\"#009af9\" fill-rule=\"evenodd\" fill-opacity=\"1\"/>\n",
       "<polyline clip-path=\"url(#clip572)\" style=\"stroke:#000000; stroke-linecap:round; stroke-linejoin:round; stroke-width:4; stroke-opacity:1; fill:none\" points=\"33962.5,1423.18 33962.5,1423.18 34041.6,1423.18 33962.5,1423.18 \"/>\n",
       "<path clip-path=\"url(#clip572)\" d=\"M34041.6 1423.18 L34041.6 1423.18 L34120.8 1423.18 L34120.8 1423.18 L34041.6 1423.18 L34041.6 1423.18  Z\" fill=\"#009af9\" fill-rule=\"evenodd\" fill-opacity=\"1\"/>\n",
       "<polyline clip-path=\"url(#clip572)\" style=\"stroke:#000000; stroke-linecap:round; stroke-linejoin:round; stroke-width:4; stroke-opacity:1; fill:none\" points=\"34041.6,1423.18 34041.6,1423.18 34120.8,1423.18 34041.6,1423.18 \"/>\n",
       "<path clip-path=\"url(#clip572)\" d=\"M34120.8 1423.18 L34120.8 1423.18 L34199.9 1423.18 L34199.9 1423.18 L34120.8 1423.18 L34120.8 1423.18  Z\" fill=\"#009af9\" fill-rule=\"evenodd\" fill-opacity=\"1\"/>\n",
       "<polyline clip-path=\"url(#clip572)\" style=\"stroke:#000000; stroke-linecap:round; stroke-linejoin:round; stroke-width:4; stroke-opacity:1; fill:none\" points=\"34120.8,1423.18 34120.8,1423.18 34199.9,1423.18 34120.8,1423.18 \"/>\n",
       "<path clip-path=\"url(#clip572)\" d=\"M34199.9 1423.18 L34199.9 1423.18 L34279.1 1423.18 L34279.1 1423.18 L34199.9 1423.18 L34199.9 1423.18  Z\" fill=\"#009af9\" fill-rule=\"evenodd\" fill-opacity=\"1\"/>\n",
       "<polyline clip-path=\"url(#clip572)\" style=\"stroke:#000000; stroke-linecap:round; stroke-linejoin:round; stroke-width:4; stroke-opacity:1; fill:none\" points=\"34199.9,1423.18 34199.9,1423.18 34279.1,1423.18 34199.9,1423.18 \"/>\n",
       "<path clip-path=\"url(#clip572)\" d=\"M34279.1 1423.18 L34279.1 1423.18 L34358.2 1423.18 L34358.2 1423.18 L34279.1 1423.18 L34279.1 1423.18  Z\" fill=\"#009af9\" fill-rule=\"evenodd\" fill-opacity=\"1\"/>\n",
       "<polyline clip-path=\"url(#clip572)\" style=\"stroke:#000000; stroke-linecap:round; stroke-linejoin:round; stroke-width:4; stroke-opacity:1; fill:none\" points=\"34279.1,1423.18 34279.1,1423.18 34358.2,1423.18 34279.1,1423.18 \"/>\n",
       "<path clip-path=\"url(#clip572)\" d=\"M34358.2 1409.28 L34358.2 1423.18 L34437.4 1423.18 L34437.4 1409.28 L34358.2 1409.28 L34358.2 1409.28  Z\" fill=\"#009af9\" fill-rule=\"evenodd\" fill-opacity=\"1\"/>\n",
       "<polyline clip-path=\"url(#clip572)\" style=\"stroke:#000000; stroke-linecap:round; stroke-linejoin:round; stroke-width:4; stroke-opacity:1; fill:none\" points=\"34358.2,1409.28 34358.2,1423.18 34437.4,1423.18 34437.4,1409.28 34358.2,1409.28 \"/>\n",
       "<circle clip-path=\"url(#clip572)\" style=\"fill:#009af9; stroke:none; fill-opacity:0\" cx=\"281.823\" cy=\"47.2441\" r=\"2\"/>\n",
       "<circle clip-path=\"url(#clip572)\" style=\"fill:#009af9; stroke:none; fill-opacity:0\" cx=\"360.978\" cy=\"700.466\" r=\"2\"/>\n",
       "<circle clip-path=\"url(#clip572)\" style=\"fill:#009af9; stroke:none; fill-opacity:0\" cx=\"440.133\" cy=\"1047.92\" r=\"2\"/>\n",
       "<circle clip-path=\"url(#clip572)\" style=\"fill:#009af9; stroke:none; fill-opacity:0\" cx=\"519.289\" cy=\"1200.81\" r=\"2\"/>\n",
       "<circle clip-path=\"url(#clip572)\" style=\"fill:#009af9; stroke:none; fill-opacity:0\" cx=\"598.444\" cy=\"1284.2\" r=\"2\"/>\n",
       "<circle clip-path=\"url(#clip572)\" style=\"fill:#009af9; stroke:none; fill-opacity:0\" cx=\"677.6\" cy=\"1311.99\" r=\"2\"/>\n",
       "<circle clip-path=\"url(#clip572)\" style=\"fill:#009af9; stroke:none; fill-opacity:0\" cx=\"756.755\" cy=\"1395.38\" r=\"2\"/>\n",
       "<circle clip-path=\"url(#clip572)\" style=\"fill:#009af9; stroke:none; fill-opacity:0\" cx=\"835.911\" cy=\"1325.89\" r=\"2\"/>\n",
       "<circle clip-path=\"url(#clip572)\" style=\"fill:#009af9; stroke:none; fill-opacity:0\" cx=\"915.066\" cy=\"1367.59\" r=\"2\"/>\n",
       "<circle clip-path=\"url(#clip572)\" style=\"fill:#009af9; stroke:none; fill-opacity:0\" cx=\"994.222\" cy=\"1381.48\" r=\"2\"/>\n",
       "<circle clip-path=\"url(#clip572)\" style=\"fill:#009af9; stroke:none; fill-opacity:0\" cx=\"1073.38\" cy=\"1381.48\" r=\"2\"/>\n",
       "<circle clip-path=\"url(#clip572)\" style=\"fill:#009af9; stroke:none; fill-opacity:0\" cx=\"1152.53\" cy=\"1409.28\" r=\"2\"/>\n",
       "<circle clip-path=\"url(#clip572)\" style=\"fill:#009af9; stroke:none; fill-opacity:0\" cx=\"1231.69\" cy=\"1409.28\" r=\"2\"/>\n",
       "<circle clip-path=\"url(#clip572)\" style=\"fill:#009af9; stroke:none; fill-opacity:0\" cx=\"1310.84\" cy=\"1409.28\" r=\"2\"/>\n",
       "<circle clip-path=\"url(#clip572)\" style=\"fill:#009af9; stroke:none; fill-opacity:0\" cx=\"1390\" cy=\"1381.48\" r=\"2\"/>\n",
       "<circle clip-path=\"url(#clip572)\" style=\"fill:#009af9; stroke:none; fill-opacity:0\" cx=\"1469.15\" cy=\"1423.18\" r=\"2\"/>\n",
       "<circle clip-path=\"url(#clip572)\" style=\"fill:#009af9; stroke:none; fill-opacity:0\" cx=\"1548.31\" cy=\"1395.38\" r=\"2\"/>\n",
       "<circle clip-path=\"url(#clip572)\" style=\"fill:#009af9; stroke:none; fill-opacity:0\" cx=\"1627.47\" cy=\"1409.28\" r=\"2\"/>\n",
       "<circle clip-path=\"url(#clip572)\" style=\"fill:#009af9; stroke:none; fill-opacity:0\" cx=\"1706.62\" cy=\"1423.18\" r=\"2\"/>\n",
       "<circle clip-path=\"url(#clip572)\" style=\"fill:#009af9; stroke:none; fill-opacity:0\" cx=\"1785.78\" cy=\"1409.28\" r=\"2\"/>\n",
       "<circle clip-path=\"url(#clip572)\" style=\"fill:#009af9; stroke:none; fill-opacity:0\" cx=\"1864.93\" cy=\"1409.28\" r=\"2\"/>\n",
       "<circle clip-path=\"url(#clip572)\" style=\"fill:#009af9; stroke:none; fill-opacity:0\" cx=\"1944.09\" cy=\"1423.18\" r=\"2\"/>\n",
       "<circle clip-path=\"url(#clip572)\" style=\"fill:#009af9; stroke:none; fill-opacity:0\" cx=\"2023.24\" cy=\"1423.18\" r=\"2\"/>\n",
       "<circle clip-path=\"url(#clip572)\" style=\"fill:#009af9; stroke:none; fill-opacity:0\" cx=\"2102.4\" cy=\"1423.18\" r=\"2\"/>\n",
       "<circle clip-path=\"url(#clip572)\" style=\"fill:#009af9; stroke:none; fill-opacity:0\" cx=\"2181.55\" cy=\"1423.18\" r=\"2\"/>\n",
       "<circle clip-path=\"url(#clip572)\" style=\"fill:#009af9; stroke:none; fill-opacity:0\" cx=\"2260.71\" cy=\"1423.18\" r=\"2\"/>\n",
       "<circle clip-path=\"url(#clip572)\" style=\"fill:#009af9; stroke:none; fill-opacity:0\" cx=\"2339.86\" cy=\"1423.18\" r=\"2\"/>\n",
       "</svg>\n"
      ],
      "text/html": [
       "<?xml version=\"1.0\" encoding=\"utf-8\"?>\n",
       "<svg xmlns=\"http://www.w3.org/2000/svg\" xmlns:xlink=\"http://www.w3.org/1999/xlink\" width=\"600\" height=\"400\" viewBox=\"0 0 2400 1600\">\n",
       "<defs>\n",
       "  <clipPath id=\"clip620\">\n",
       "    <rect x=\"0\" y=\"0\" width=\"2400\" height=\"1600\"/>\n",
       "  </clipPath>\n",
       "</defs>\n",
       "<path clip-path=\"url(#clip620)\" d=\"M0 1600 L2400 1600 L2400 0 L0 0  Z\" fill=\"#ffffff\" fill-rule=\"evenodd\" fill-opacity=\"1\"/>\n",
       "<defs>\n",
       "  <clipPath id=\"clip621\">\n",
       "    <rect x=\"480\" y=\"0\" width=\"1681\" height=\"1600\"/>\n",
       "  </clipPath>\n",
       "</defs>\n",
       "<path clip-path=\"url(#clip620)\" d=\"M205.121 1423.18 L2352.76 1423.18 L2352.76 47.2441 L205.121 47.2441  Z\" fill=\"#ffffff\" fill-rule=\"evenodd\" fill-opacity=\"1\"/>\n",
       "<defs>\n",
       "  <clipPath id=\"clip622\">\n",
       "    <rect x=\"205\" y=\"47\" width=\"2149\" height=\"1377\"/>\n",
       "  </clipPath>\n",
       "</defs>\n",
       "<polyline clip-path=\"url(#clip622)\" style=\"stroke:#000000; stroke-linecap:round; stroke-linejoin:round; stroke-width:2; stroke-opacity:0.1; fill:none\" points=\"242.245,1423.18 242.245,47.2441 \"/>\n",
       "<polyline clip-path=\"url(#clip622)\" style=\"stroke:#000000; stroke-linecap:round; stroke-linejoin:round; stroke-width:2; stroke-opacity:0.1; fill:none\" points=\"638.022,1423.18 638.022,47.2441 \"/>\n",
       "<polyline clip-path=\"url(#clip622)\" style=\"stroke:#000000; stroke-linecap:round; stroke-linejoin:round; stroke-width:2; stroke-opacity:0.1; fill:none\" points=\"1033.8,1423.18 1033.8,47.2441 \"/>\n",
       "<polyline clip-path=\"url(#clip622)\" style=\"stroke:#000000; stroke-linecap:round; stroke-linejoin:round; stroke-width:2; stroke-opacity:0.1; fill:none\" points=\"1429.58,1423.18 1429.58,47.2441 \"/>\n",
       "<polyline clip-path=\"url(#clip622)\" style=\"stroke:#000000; stroke-linecap:round; stroke-linejoin:round; stroke-width:2; stroke-opacity:0.1; fill:none\" points=\"1825.35,1423.18 1825.35,47.2441 \"/>\n",
       "<polyline clip-path=\"url(#clip622)\" style=\"stroke:#000000; stroke-linecap:round; stroke-linejoin:round; stroke-width:2; stroke-opacity:0.1; fill:none\" points=\"2221.13,1423.18 2221.13,47.2441 \"/>\n",
       "<polyline clip-path=\"url(#clip622)\" style=\"stroke:#000000; stroke-linecap:round; stroke-linejoin:round; stroke-width:2; stroke-opacity:0.1; fill:none\" points=\"205.121,1423.18 2352.76,1423.18 \"/>\n",
       "<polyline clip-path=\"url(#clip622)\" style=\"stroke:#000000; stroke-linecap:round; stroke-linejoin:round; stroke-width:2; stroke-opacity:0.1; fill:none\" points=\"205.121,1145.21 2352.76,1145.21 \"/>\n",
       "<polyline clip-path=\"url(#clip622)\" style=\"stroke:#000000; stroke-linecap:round; stroke-linejoin:round; stroke-width:2; stroke-opacity:0.1; fill:none\" points=\"205.121,867.246 2352.76,867.246 \"/>\n",
       "<polyline clip-path=\"url(#clip622)\" style=\"stroke:#000000; stroke-linecap:round; stroke-linejoin:round; stroke-width:2; stroke-opacity:0.1; fill:none\" points=\"205.121,589.279 2352.76,589.279 \"/>\n",
       "<polyline clip-path=\"url(#clip622)\" style=\"stroke:#000000; stroke-linecap:round; stroke-linejoin:round; stroke-width:2; stroke-opacity:0.1; fill:none\" points=\"205.121,311.313 2352.76,311.313 \"/>\n",
       "<polyline clip-path=\"url(#clip620)\" style=\"stroke:#000000; stroke-linecap:round; stroke-linejoin:round; stroke-width:4; stroke-opacity:1; fill:none\" points=\"205.121,1423.18 2352.76,1423.18 \"/>\n",
       "<polyline clip-path=\"url(#clip620)\" style=\"stroke:#000000; stroke-linecap:round; stroke-linejoin:round; stroke-width:4; stroke-opacity:1; fill:none\" points=\"242.245,1423.18 242.245,1404.28 \"/>\n",
       "<polyline clip-path=\"url(#clip620)\" style=\"stroke:#000000; stroke-linecap:round; stroke-linejoin:round; stroke-width:4; stroke-opacity:1; fill:none\" points=\"638.022,1423.18 638.022,1404.28 \"/>\n",
       "<polyline clip-path=\"url(#clip620)\" style=\"stroke:#000000; stroke-linecap:round; stroke-linejoin:round; stroke-width:4; stroke-opacity:1; fill:none\" points=\"1033.8,1423.18 1033.8,1404.28 \"/>\n",
       "<polyline clip-path=\"url(#clip620)\" style=\"stroke:#000000; stroke-linecap:round; stroke-linejoin:round; stroke-width:4; stroke-opacity:1; fill:none\" points=\"1429.58,1423.18 1429.58,1404.28 \"/>\n",
       "<polyline clip-path=\"url(#clip620)\" style=\"stroke:#000000; stroke-linecap:round; stroke-linejoin:round; stroke-width:4; stroke-opacity:1; fill:none\" points=\"1825.35,1423.18 1825.35,1404.28 \"/>\n",
       "<polyline clip-path=\"url(#clip620)\" style=\"stroke:#000000; stroke-linecap:round; stroke-linejoin:round; stroke-width:4; stroke-opacity:1; fill:none\" points=\"2221.13,1423.18 2221.13,1404.28 \"/>\n",
       "<path clip-path=\"url(#clip620)\" d=\"M216.979 1481.64 L224.618 1481.64 L224.618 1455.28 L216.308 1456.95 L216.308 1452.69 L224.571 1451.02 L229.247 1451.02 L229.247 1481.64 L236.886 1481.64 L236.886 1485.58 L216.979 1485.58 L216.979 1481.64 Z\" fill=\"#000000\" fill-rule=\"nonzero\" fill-opacity=\"1\" /><path clip-path=\"url(#clip620)\" d=\"M256.33 1469.17 Q252.997 1469.17 251.076 1470.95 Q249.178 1472.73 249.178 1475.86 Q249.178 1478.98 251.076 1480.77 Q252.997 1482.55 256.33 1482.55 Q259.664 1482.55 261.585 1480.77 Q263.506 1478.96 263.506 1475.86 Q263.506 1472.73 261.585 1470.95 Q259.687 1469.17 256.33 1469.17 M251.655 1467.18 Q248.645 1466.44 246.955 1464.38 Q245.289 1462.32 245.289 1459.35 Q245.289 1455.21 248.229 1452.8 Q251.192 1450.39 256.33 1450.39 Q261.492 1450.39 264.432 1452.8 Q267.372 1455.21 267.372 1459.35 Q267.372 1462.32 265.682 1464.38 Q264.016 1466.44 261.029 1467.18 Q264.409 1467.96 266.284 1470.26 Q268.182 1472.55 268.182 1475.86 Q268.182 1480.88 265.104 1483.57 Q262.048 1486.25 256.33 1486.25 Q250.613 1486.25 247.534 1483.57 Q244.479 1480.88 244.479 1475.86 Q244.479 1472.55 246.377 1470.26 Q248.275 1467.96 251.655 1467.18 M249.942 1459.79 Q249.942 1462.48 251.608 1463.98 Q253.298 1465.49 256.33 1465.49 Q259.34 1465.49 261.029 1463.98 Q262.742 1462.48 262.742 1459.79 Q262.742 1457.11 261.029 1455.6 Q259.34 1454.1 256.33 1454.1 Q253.298 1454.1 251.608 1455.6 Q249.942 1457.11 249.942 1459.79 Z\" fill=\"#000000\" fill-rule=\"nonzero\" fill-opacity=\"1\" /><path clip-path=\"url(#clip620)\" d=\"M612.802 1481.64 L620.441 1481.64 L620.441 1455.28 L612.131 1456.95 L612.131 1452.69 L620.395 1451.02 L625.071 1451.02 L625.071 1481.64 L632.71 1481.64 L632.71 1485.58 L612.802 1485.58 L612.802 1481.64 Z\" fill=\"#000000\" fill-rule=\"nonzero\" fill-opacity=\"1\" /><path clip-path=\"url(#clip620)\" d=\"M642.293 1484.86 L642.293 1480.6 Q644.052 1481.44 645.858 1481.88 Q647.663 1482.32 649.399 1482.32 Q654.029 1482.32 656.459 1479.21 Q658.913 1476.09 659.26 1469.75 Q657.918 1471.74 655.858 1472.8 Q653.797 1473.87 651.297 1473.87 Q646.112 1473.87 643.08 1470.74 Q640.071 1467.59 640.071 1462.15 Q640.071 1456.83 643.219 1453.61 Q646.367 1450.39 651.598 1450.39 Q657.594 1450.39 660.742 1455 Q663.913 1459.58 663.913 1468.33 Q663.913 1476.51 660.024 1481.39 Q656.159 1486.25 649.608 1486.25 Q647.848 1486.25 646.043 1485.9 Q644.237 1485.56 642.293 1484.86 M651.598 1470.21 Q654.747 1470.21 656.575 1468.06 Q658.427 1465.9 658.427 1462.15 Q658.427 1458.43 656.575 1456.27 Q654.747 1454.1 651.598 1454.1 Q648.45 1454.1 646.598 1456.27 Q644.77 1458.43 644.77 1462.15 Q644.77 1465.9 646.598 1468.06 Q648.45 1470.21 651.598 1470.21 Z\" fill=\"#000000\" fill-rule=\"nonzero\" fill-opacity=\"1\" /><path clip-path=\"url(#clip620)\" d=\"M1012.57 1481.64 L1028.89 1481.64 L1028.89 1485.58 L1006.95 1485.58 L1006.95 1481.64 Q1009.61 1478.89 1014.19 1474.26 Q1018.8 1469.61 1019.98 1468.27 Q1022.23 1465.74 1023.1 1464.01 Q1024.01 1462.25 1024.01 1460.56 Q1024.01 1457.8 1022.06 1456.07 Q1020.14 1454.33 1017.04 1454.33 Q1014.84 1454.33 1012.39 1455.09 Q1009.96 1455.86 1007.18 1457.41 L1007.18 1452.69 Q1010 1451.55 1012.46 1450.97 Q1014.91 1450.39 1016.95 1450.39 Q1022.32 1450.39 1025.51 1453.08 Q1028.71 1455.77 1028.71 1460.26 Q1028.71 1462.39 1027.9 1464.31 Q1027.11 1466.2 1025 1468.8 Q1024.42 1469.47 1021.32 1472.69 Q1018.22 1475.88 1012.57 1481.64 Z\" fill=\"#000000\" fill-rule=\"nonzero\" fill-opacity=\"1\" /><path clip-path=\"url(#clip620)\" d=\"M1048.71 1454.1 Q1045.1 1454.1 1043.27 1457.66 Q1041.46 1461.2 1041.46 1468.33 Q1041.46 1475.44 1043.27 1479.01 Q1045.1 1482.55 1048.71 1482.55 Q1052.34 1482.55 1054.15 1479.01 Q1055.98 1475.44 1055.98 1468.33 Q1055.98 1461.2 1054.15 1457.66 Q1052.34 1454.1 1048.71 1454.1 M1048.71 1450.39 Q1054.52 1450.39 1057.57 1455 Q1060.65 1459.58 1060.65 1468.33 Q1060.65 1477.06 1057.57 1481.67 Q1054.52 1486.25 1048.71 1486.25 Q1042.9 1486.25 1039.82 1481.67 Q1036.76 1477.06 1036.76 1468.33 Q1036.76 1459.58 1039.82 1455 Q1042.9 1450.39 1048.71 1450.39 Z\" fill=\"#000000\" fill-rule=\"nonzero\" fill-opacity=\"1\" /><path clip-path=\"url(#clip620)\" d=\"M1408.96 1481.64 L1425.28 1481.64 L1425.28 1485.58 L1403.34 1485.58 L1403.34 1481.64 Q1406 1478.89 1410.58 1474.26 Q1415.19 1469.61 1416.37 1468.27 Q1418.62 1465.74 1419.5 1464.01 Q1420.4 1462.25 1420.4 1460.56 Q1420.4 1457.8 1418.45 1456.07 Q1416.53 1454.33 1413.43 1454.33 Q1411.23 1454.33 1408.78 1455.09 Q1406.35 1455.86 1403.57 1457.41 L1403.57 1452.69 Q1406.39 1451.55 1408.85 1450.97 Q1411.3 1450.39 1413.34 1450.39 Q1418.71 1450.39 1421.9 1453.08 Q1425.1 1455.77 1425.1 1460.26 Q1425.1 1462.39 1424.29 1464.31 Q1423.5 1466.2 1421.39 1468.8 Q1420.81 1469.47 1417.71 1472.69 Q1414.61 1475.88 1408.96 1481.64 Z\" fill=\"#000000\" fill-rule=\"nonzero\" fill-opacity=\"1\" /><path clip-path=\"url(#clip620)\" d=\"M1435.91 1481.64 L1443.55 1481.64 L1443.55 1455.28 L1435.24 1456.95 L1435.24 1452.69 L1443.5 1451.02 L1448.18 1451.02 L1448.18 1481.64 L1455.81 1481.64 L1455.81 1485.58 L1435.91 1485.58 L1435.91 1481.64 Z\" fill=\"#000000\" fill-rule=\"nonzero\" fill-opacity=\"1\" /><path clip-path=\"url(#clip620)\" d=\"M1804.93 1481.64 L1821.24 1481.64 L1821.24 1485.58 L1799.3 1485.58 L1799.3 1481.64 Q1801.96 1478.89 1806.55 1474.26 Q1811.15 1469.61 1812.33 1468.27 Q1814.58 1465.74 1815.46 1464.01 Q1816.36 1462.25 1816.36 1460.56 Q1816.36 1457.8 1814.42 1456.07 Q1812.49 1454.33 1809.39 1454.33 Q1807.19 1454.33 1804.74 1455.09 Q1802.31 1455.86 1799.53 1457.41 L1799.53 1452.69 Q1802.36 1451.55 1804.81 1450.97 Q1807.26 1450.39 1809.3 1450.39 Q1814.67 1450.39 1817.87 1453.08 Q1821.06 1455.77 1821.06 1460.26 Q1821.06 1462.39 1820.25 1464.31 Q1819.46 1466.2 1817.36 1468.8 Q1816.78 1469.47 1813.68 1472.69 Q1810.57 1475.88 1804.93 1481.64 Z\" fill=\"#000000\" fill-rule=\"nonzero\" fill-opacity=\"1\" /><path clip-path=\"url(#clip620)\" d=\"M1835.09 1481.64 L1851.41 1481.64 L1851.41 1485.58 L1829.46 1485.58 L1829.46 1481.64 Q1832.12 1478.89 1836.71 1474.26 Q1841.31 1469.61 1842.49 1468.27 Q1844.74 1465.74 1845.62 1464.01 Q1846.52 1462.25 1846.52 1460.56 Q1846.52 1457.8 1844.58 1456.07 Q1842.66 1454.33 1839.55 1454.33 Q1837.36 1454.33 1834.9 1455.09 Q1832.47 1455.86 1829.69 1457.41 L1829.69 1452.69 Q1832.52 1451.55 1834.97 1450.97 Q1837.43 1450.39 1839.46 1450.39 Q1844.83 1450.39 1848.03 1453.08 Q1851.22 1455.77 1851.22 1460.26 Q1851.22 1462.39 1850.41 1464.31 Q1849.62 1466.2 1847.52 1468.8 Q1846.94 1469.47 1843.84 1472.69 Q1840.74 1475.88 1835.09 1481.64 Z\" fill=\"#000000\" fill-rule=\"nonzero\" fill-opacity=\"1\" /><path clip-path=\"url(#clip620)\" d=\"M2200.23 1481.64 L2216.55 1481.64 L2216.55 1485.58 L2194.6 1485.58 L2194.6 1481.64 Q2197.27 1478.89 2201.85 1474.26 Q2206.45 1469.61 2207.64 1468.27 Q2209.88 1465.74 2210.76 1464.01 Q2211.66 1462.25 2211.66 1460.56 Q2211.66 1457.8 2209.72 1456.07 Q2207.8 1454.33 2204.7 1454.33 Q2202.5 1454.33 2200.04 1455.09 Q2197.61 1455.86 2194.83 1457.41 L2194.83 1452.69 Q2197.66 1451.55 2200.11 1450.97 Q2202.57 1450.39 2204.6 1450.39 Q2209.97 1450.39 2213.17 1453.08 Q2216.36 1455.77 2216.36 1460.26 Q2216.36 1462.39 2215.55 1464.31 Q2214.77 1466.2 2212.66 1468.8 Q2212.08 1469.47 2208.98 1472.69 Q2205.88 1475.88 2200.23 1481.64 Z\" fill=\"#000000\" fill-rule=\"nonzero\" fill-opacity=\"1\" /><path clip-path=\"url(#clip620)\" d=\"M2240.53 1466.95 Q2243.89 1467.66 2245.76 1469.93 Q2247.66 1472.2 2247.66 1475.53 Q2247.66 1480.65 2244.14 1483.45 Q2240.62 1486.25 2234.14 1486.25 Q2231.96 1486.25 2229.65 1485.81 Q2227.36 1485.39 2224.9 1484.54 L2224.9 1480.02 Q2226.85 1481.16 2229.16 1481.74 Q2231.48 1482.32 2234 1482.32 Q2238.4 1482.32 2240.69 1480.58 Q2243.01 1478.84 2243.01 1475.53 Q2243.01 1472.48 2240.85 1470.77 Q2238.72 1469.03 2234.9 1469.03 L2230.88 1469.03 L2230.88 1465.19 L2235.09 1465.19 Q2238.54 1465.19 2240.37 1463.82 Q2242.2 1462.43 2242.2 1459.84 Q2242.2 1457.18 2240.3 1455.77 Q2238.42 1454.33 2234.9 1454.33 Q2232.98 1454.33 2230.78 1454.75 Q2228.58 1455.16 2225.95 1456.04 L2225.95 1451.88 Q2228.61 1451.14 2230.92 1450.77 Q2233.26 1450.39 2235.32 1450.39 Q2240.64 1450.39 2243.75 1452.83 Q2246.85 1455.23 2246.85 1459.35 Q2246.85 1462.22 2245.2 1464.21 Q2243.56 1466.18 2240.53 1466.95 Z\" fill=\"#000000\" fill-rule=\"nonzero\" fill-opacity=\"1\" /><path clip-path=\"url(#clip620)\" d=\"M1110.28 1539.24 Q1112.48 1535.29 1115.53 1533.41 Q1118.59 1531.54 1122.72 1531.54 Q1128.29 1531.54 1131.32 1535.45 Q1134.34 1539.33 1134.34 1546.53 L1134.34 1568.04 L1128.45 1568.04 L1128.45 1546.72 Q1128.45 1541.59 1126.64 1539.11 Q1124.82 1536.63 1121.1 1536.63 Q1116.55 1536.63 1113.91 1539.65 Q1111.27 1542.68 1111.27 1547.9 L1111.27 1568.04 L1105.38 1568.04 L1105.38 1546.72 Q1105.38 1541.56 1103.56 1539.11 Q1101.75 1536.63 1097.96 1536.63 Q1093.47 1536.63 1090.83 1539.68 Q1088.19 1542.71 1088.19 1547.9 L1088.19 1568.04 L1082.3 1568.04 L1082.3 1532.4 L1088.19 1532.4 L1088.19 1537.93 Q1090.2 1534.66 1093 1533.1 Q1095.8 1531.54 1099.65 1531.54 Q1103.53 1531.54 1106.24 1533.51 Q1108.97 1535.48 1110.28 1539.24 Z\" fill=\"#000000\" fill-rule=\"nonzero\" fill-opacity=\"1\" /><path clip-path=\"url(#clip620)\" d=\"M1146.02 1532.4 L1151.88 1532.4 L1151.88 1568.04 L1146.02 1568.04 L1146.02 1532.4 M1146.02 1518.52 L1151.88 1518.52 L1151.88 1525.93 L1146.02 1525.93 L1146.02 1518.52 Z\" fill=\"#000000\" fill-rule=\"nonzero\" fill-opacity=\"1\" /><path clip-path=\"url(#clip620)\" d=\"M1164.13 1518.52 L1169.99 1518.52 L1169.99 1568.04 L1164.13 1568.04 L1164.13 1518.52 Z\" fill=\"#000000\" fill-rule=\"nonzero\" fill-opacity=\"1\" /><path clip-path=\"url(#clip620)\" d=\"M1182.24 1518.52 L1188.1 1518.52 L1188.1 1568.04 L1182.24 1568.04 L1182.24 1518.52 Z\" fill=\"#000000\" fill-rule=\"nonzero\" fill-opacity=\"1\" /><path clip-path=\"url(#clip620)\" d=\"M1200.35 1532.4 L1206.21 1532.4 L1206.21 1568.04 L1200.35 1568.04 L1200.35 1532.4 M1200.35 1518.52 L1206.21 1518.52 L1206.21 1525.93 L1200.35 1525.93 L1200.35 1518.52 Z\" fill=\"#000000\" fill-rule=\"nonzero\" fill-opacity=\"1\" /><path clip-path=\"url(#clip620)\" d=\"M1241.19 1533.45 L1241.19 1538.98 Q1238.71 1537.71 1236.03 1537.07 Q1233.36 1536.44 1230.5 1536.44 Q1226.13 1536.44 1223.94 1537.77 Q1221.77 1539.11 1221.77 1541.79 Q1221.77 1543.82 1223.33 1545 Q1224.89 1546.15 1229.6 1547.2 L1231.61 1547.64 Q1237.85 1548.98 1240.46 1551.43 Q1243.1 1553.85 1243.1 1558.21 Q1243.1 1563.17 1239.15 1566.07 Q1235.24 1568.97 1228.36 1568.97 Q1225.5 1568.97 1222.38 1568.39 Q1219.29 1567.85 1215.85 1566.74 L1215.85 1560.69 Q1219.1 1562.38 1222.25 1563.24 Q1225.4 1564.07 1228.49 1564.07 Q1232.63 1564.07 1234.86 1562.66 Q1237.08 1561.23 1237.08 1558.65 Q1237.08 1556.27 1235.46 1554.99 Q1233.87 1553.72 1228.43 1552.54 L1226.39 1552.07 Q1220.95 1550.92 1218.53 1548.56 Q1216.11 1546.18 1216.11 1542.04 Q1216.11 1537.01 1219.67 1534.27 Q1223.24 1531.54 1229.8 1531.54 Q1233.04 1531.54 1235.91 1532.01 Q1238.77 1532.49 1241.19 1533.45 Z\" fill=\"#000000\" fill-rule=\"nonzero\" fill-opacity=\"1\" /><path clip-path=\"url(#clip620)\" d=\"M1282.92 1548.76 L1282.92 1551.62 L1255.99 1551.62 Q1256.37 1557.67 1259.62 1560.85 Q1262.9 1564 1268.72 1564 Q1272.1 1564 1275.25 1563.17 Q1278.43 1562.35 1281.55 1560.69 L1281.55 1566.23 Q1278.4 1567.57 1275.09 1568.27 Q1271.78 1568.97 1268.37 1568.97 Q1259.84 1568.97 1254.84 1564 Q1249.88 1559.04 1249.88 1550.57 Q1249.88 1541.82 1254.59 1536.69 Q1259.33 1531.54 1267.35 1531.54 Q1274.55 1531.54 1278.72 1536.18 Q1282.92 1540.8 1282.92 1548.76 M1277.06 1547.04 Q1277 1542.23 1274.36 1539.37 Q1271.75 1536.5 1267.42 1536.5 Q1262.51 1536.5 1259.55 1539.27 Q1256.63 1542.04 1256.18 1547.07 L1277.06 1547.04 Z\" fill=\"#000000\" fill-rule=\"nonzero\" fill-opacity=\"1\" /><path clip-path=\"url(#clip620)\" d=\"M1318.18 1533.76 L1318.18 1539.24 Q1315.7 1537.87 1313.19 1537.2 Q1310.7 1536.5 1308.16 1536.5 Q1302.46 1536.5 1299.31 1540.13 Q1296.16 1543.73 1296.16 1550.25 Q1296.16 1556.78 1299.31 1560.4 Q1302.46 1564 1308.16 1564 Q1310.7 1564 1313.19 1563.33 Q1315.7 1562.63 1318.18 1561.26 L1318.18 1566.68 Q1315.73 1567.82 1313.09 1568.39 Q1310.48 1568.97 1307.52 1568.97 Q1299.47 1568.97 1294.73 1563.91 Q1289.98 1558.85 1289.98 1550.25 Q1289.98 1541.53 1294.76 1536.53 Q1299.56 1531.54 1307.9 1531.54 Q1310.61 1531.54 1313.19 1532.11 Q1315.76 1532.65 1318.18 1533.76 Z\" fill=\"#000000\" fill-rule=\"nonzero\" fill-opacity=\"1\" /><path clip-path=\"url(#clip620)\" d=\"M1342.18 1536.5 Q1337.47 1536.5 1334.73 1540.19 Q1332 1543.85 1332 1550.25 Q1332 1556.65 1334.7 1560.34 Q1337.44 1564 1342.18 1564 Q1346.86 1564 1349.6 1560.31 Q1352.34 1556.62 1352.34 1550.25 Q1352.34 1543.92 1349.6 1540.23 Q1346.86 1536.5 1342.18 1536.5 M1342.18 1531.54 Q1349.82 1531.54 1354.18 1536.5 Q1358.54 1541.47 1358.54 1550.25 Q1358.54 1559 1354.18 1564 Q1349.82 1568.97 1342.18 1568.97 Q1334.51 1568.97 1330.15 1564 Q1325.82 1559 1325.82 1550.25 Q1325.82 1541.47 1330.15 1536.5 Q1334.51 1531.54 1342.18 1531.54 Z\" fill=\"#000000\" fill-rule=\"nonzero\" fill-opacity=\"1\" /><path clip-path=\"url(#clip620)\" d=\"M1397.88 1546.53 L1397.88 1568.04 L1392.03 1568.04 L1392.03 1546.72 Q1392.03 1541.66 1390.05 1539.14 Q1388.08 1536.63 1384.13 1536.63 Q1379.39 1536.63 1376.65 1539.65 Q1373.91 1542.68 1373.91 1547.9 L1373.91 1568.04 L1368.03 1568.04 L1368.03 1532.4 L1373.91 1532.4 L1373.91 1537.93 Q1376.02 1534.72 1378.85 1533.13 Q1381.71 1531.54 1385.44 1531.54 Q1391.58 1531.54 1394.73 1535.36 Q1397.88 1539.14 1397.88 1546.53 Z\" fill=\"#000000\" fill-rule=\"nonzero\" fill-opacity=\"1\" /><path clip-path=\"url(#clip620)\" d=\"M1433.02 1537.81 L1433.02 1518.52 L1438.88 1518.52 L1438.88 1568.04 L1433.02 1568.04 L1433.02 1562.7 Q1431.17 1565.88 1428.34 1567.44 Q1425.54 1568.97 1421.59 1568.97 Q1415.13 1568.97 1411.06 1563.81 Q1407.02 1558.65 1407.02 1550.25 Q1407.02 1541.85 1411.06 1536.69 Q1415.13 1531.54 1421.59 1531.54 Q1425.54 1531.54 1428.34 1533.1 Q1431.17 1534.62 1433.02 1537.81 M1413.06 1550.25 Q1413.06 1556.71 1415.71 1560.4 Q1418.38 1564.07 1423.03 1564.07 Q1427.67 1564.07 1430.35 1560.4 Q1433.02 1556.71 1433.02 1550.25 Q1433.02 1543.79 1430.35 1540.13 Q1427.67 1536.44 1423.03 1536.44 Q1418.38 1536.44 1415.71 1540.13 Q1413.06 1543.79 1413.06 1550.25 Z\" fill=\"#000000\" fill-rule=\"nonzero\" fill-opacity=\"1\" /><path clip-path=\"url(#clip620)\" d=\"M1473.67 1533.45 L1473.67 1538.98 Q1471.18 1537.71 1468.51 1537.07 Q1465.84 1536.44 1462.97 1536.44 Q1458.61 1536.44 1456.41 1537.77 Q1454.25 1539.11 1454.25 1541.79 Q1454.25 1543.82 1455.81 1545 Q1457.37 1546.15 1462.08 1547.2 L1464.09 1547.64 Q1470.32 1548.98 1472.93 1551.43 Q1475.58 1553.85 1475.58 1558.21 Q1475.58 1563.17 1471.63 1566.07 Q1467.71 1568.97 1460.84 1568.97 Q1457.97 1568.97 1454.85 1568.39 Q1451.77 1567.85 1448.33 1566.74 L1448.33 1560.69 Q1451.58 1562.38 1454.73 1563.24 Q1457.88 1564.07 1460.97 1564.07 Q1465.1 1564.07 1467.33 1562.66 Q1469.56 1561.23 1469.56 1558.65 Q1469.56 1556.27 1467.94 1554.99 Q1466.34 1553.72 1460.9 1552.54 L1458.87 1552.07 Q1453.42 1550.92 1451 1548.56 Q1448.58 1546.18 1448.58 1542.04 Q1448.58 1537.01 1452.15 1534.27 Q1455.71 1531.54 1462.27 1531.54 Q1465.52 1531.54 1468.38 1532.01 Q1471.25 1532.49 1473.67 1533.45 Z\" fill=\"#000000\" fill-rule=\"nonzero\" fill-opacity=\"1\" /><polyline clip-path=\"url(#clip620)\" style=\"stroke:#000000; stroke-linecap:round; stroke-linejoin:round; stroke-width:4; stroke-opacity:1; fill:none\" points=\"205.121,1423.18 205.121,47.2441 \"/>\n",
       "<polyline clip-path=\"url(#clip620)\" style=\"stroke:#000000; stroke-linecap:round; stroke-linejoin:round; stroke-width:4; stroke-opacity:1; fill:none\" points=\"205.121,1423.18 224.019,1423.18 \"/>\n",
       "<polyline clip-path=\"url(#clip620)\" style=\"stroke:#000000; stroke-linecap:round; stroke-linejoin:round; stroke-width:4; stroke-opacity:1; fill:none\" points=\"205.121,1145.21 224.019,1145.21 \"/>\n",
       "<polyline clip-path=\"url(#clip620)\" style=\"stroke:#000000; stroke-linecap:round; stroke-linejoin:round; stroke-width:4; stroke-opacity:1; fill:none\" points=\"205.121,867.246 224.019,867.246 \"/>\n",
       "<polyline clip-path=\"url(#clip620)\" style=\"stroke:#000000; stroke-linecap:round; stroke-linejoin:round; stroke-width:4; stroke-opacity:1; fill:none\" points=\"205.121,589.279 224.019,589.279 \"/>\n",
       "<polyline clip-path=\"url(#clip620)\" style=\"stroke:#000000; stroke-linecap:round; stroke-linejoin:round; stroke-width:4; stroke-opacity:1; fill:none\" points=\"205.121,311.313 224.019,311.313 \"/>\n",
       "<path clip-path=\"url(#clip620)\" d=\"M157.177 1408.98 Q153.566 1408.98 151.737 1412.54 Q149.931 1416.08 149.931 1423.21 Q149.931 1430.32 151.737 1433.89 Q153.566 1437.43 157.177 1437.43 Q160.811 1437.43 162.616 1433.89 Q164.445 1430.32 164.445 1423.21 Q164.445 1416.08 162.616 1412.54 Q160.811 1408.98 157.177 1408.98 M157.177 1405.27 Q162.987 1405.27 166.042 1409.88 Q169.121 1414.46 169.121 1423.21 Q169.121 1431.94 166.042 1436.55 Q162.987 1441.13 157.177 1441.13 Q151.366 1441.13 148.288 1436.55 Q145.232 1431.94 145.232 1423.21 Q145.232 1414.46 148.288 1409.88 Q151.366 1405.27 157.177 1405.27 Z\" fill=\"#000000\" fill-rule=\"nonzero\" fill-opacity=\"1\" /><path clip-path=\"url(#clip620)\" d=\"M121.043 1158.56 L137.362 1158.56 L137.362 1162.49 L115.418 1162.49 L115.418 1158.56 Q118.08 1155.8 122.663 1151.17 Q127.269 1146.52 128.45 1145.18 Q130.695 1142.66 131.575 1140.92 Q132.478 1139.16 132.478 1137.47 Q132.478 1134.72 130.533 1132.98 Q128.612 1131.24 125.51 1131.24 Q123.311 1131.24 120.857 1132.01 Q118.427 1132.77 115.649 1134.32 L115.649 1129.6 Q118.473 1128.47 120.927 1127.89 Q123.38 1127.31 125.418 1127.31 Q130.788 1127.31 133.982 1129.99 Q137.177 1132.68 137.177 1137.17 Q137.177 1139.3 136.367 1141.22 Q135.579 1143.12 133.473 1145.71 Q132.894 1146.38 129.792 1149.6 Q126.691 1152.79 121.043 1158.56 Z\" fill=\"#000000\" fill-rule=\"nonzero\" fill-opacity=\"1\" /><path clip-path=\"url(#clip620)\" d=\"M157.177 1131.01 Q153.566 1131.01 151.737 1134.58 Q149.931 1138.12 149.931 1145.25 Q149.931 1152.35 151.737 1155.92 Q153.566 1159.46 157.177 1159.46 Q160.811 1159.46 162.616 1155.92 Q164.445 1152.35 164.445 1145.25 Q164.445 1138.12 162.616 1134.58 Q160.811 1131.01 157.177 1131.01 M157.177 1127.31 Q162.987 1127.31 166.042 1131.91 Q169.121 1136.5 169.121 1145.25 Q169.121 1153.97 166.042 1158.58 Q162.987 1163.16 157.177 1163.16 Q151.366 1163.16 148.288 1158.58 Q145.232 1153.97 145.232 1145.25 Q145.232 1136.5 148.288 1131.91 Q151.366 1127.31 157.177 1127.31 Z\" fill=\"#000000\" fill-rule=\"nonzero\" fill-opacity=\"1\" /><path clip-path=\"url(#clip620)\" d=\"M129.862 854.04 L118.056 872.489 L129.862 872.489 L129.862 854.04 M128.635 849.966 L134.515 849.966 L134.515 872.489 L139.445 872.489 L139.445 876.378 L134.515 876.378 L134.515 884.526 L129.862 884.526 L129.862 876.378 L114.26 876.378 L114.26 871.864 L128.635 849.966 Z\" fill=\"#000000\" fill-rule=\"nonzero\" fill-opacity=\"1\" /><path clip-path=\"url(#clip620)\" d=\"M157.177 853.045 Q153.566 853.045 151.737 856.61 Q149.931 860.151 149.931 867.281 Q149.931 874.387 151.737 877.952 Q153.566 881.494 157.177 881.494 Q160.811 881.494 162.616 877.952 Q164.445 874.387 164.445 867.281 Q164.445 860.151 162.616 856.61 Q160.811 853.045 157.177 853.045 M157.177 849.341 Q162.987 849.341 166.042 853.948 Q169.121 858.531 169.121 867.281 Q169.121 876.008 166.042 880.614 Q162.987 885.197 157.177 885.197 Q151.366 885.197 148.288 880.614 Q145.232 876.008 145.232 867.281 Q145.232 858.531 148.288 853.948 Q151.366 849.341 157.177 849.341 Z\" fill=\"#000000\" fill-rule=\"nonzero\" fill-opacity=\"1\" /><path clip-path=\"url(#clip620)\" d=\"M127.593 587.416 Q124.445 587.416 122.593 589.569 Q120.765 591.722 120.765 595.471 Q120.765 599.198 122.593 601.374 Q124.445 603.527 127.593 603.527 Q130.742 603.527 132.57 601.374 Q134.422 599.198 134.422 595.471 Q134.422 591.722 132.57 589.569 Q130.742 587.416 127.593 587.416 M136.876 572.763 L136.876 577.023 Q135.117 576.189 133.311 575.749 Q131.529 575.31 129.769 575.31 Q125.14 575.31 122.686 578.435 Q120.255 581.56 119.908 587.879 Q121.274 585.865 123.334 584.8 Q125.394 583.712 127.871 583.712 Q133.08 583.712 136.089 586.884 Q139.121 590.032 139.121 595.471 Q139.121 600.796 135.973 604.013 Q132.825 607.231 127.593 607.231 Q121.598 607.231 118.427 602.647 Q115.256 598.041 115.256 589.314 Q115.256 581.12 119.144 576.259 Q123.033 571.374 129.584 571.374 Q131.343 571.374 133.126 571.722 Q134.931 572.069 136.876 572.763 Z\" fill=\"#000000\" fill-rule=\"nonzero\" fill-opacity=\"1\" /><path clip-path=\"url(#clip620)\" d=\"M157.177 575.078 Q153.566 575.078 151.737 578.643 Q149.931 582.185 149.931 589.314 Q149.931 596.421 151.737 599.985 Q153.566 603.527 157.177 603.527 Q160.811 603.527 162.616 599.985 Q164.445 596.421 164.445 589.314 Q164.445 582.185 162.616 578.643 Q160.811 575.078 157.177 575.078 M157.177 571.374 Q162.987 571.374 166.042 575.981 Q169.121 580.564 169.121 589.314 Q169.121 598.041 166.042 602.647 Q162.987 607.231 157.177 607.231 Q151.366 607.231 148.288 602.647 Q145.232 598.041 145.232 589.314 Q145.232 580.564 148.288 575.981 Q151.366 571.374 157.177 571.374 Z\" fill=\"#000000\" fill-rule=\"nonzero\" fill-opacity=\"1\" /><path clip-path=\"url(#clip620)\" d=\"M127.015 312.181 Q123.681 312.181 121.76 313.963 Q119.862 315.745 119.862 318.87 Q119.862 321.995 121.76 323.778 Q123.681 325.56 127.015 325.56 Q130.348 325.56 132.269 323.778 Q134.191 321.972 134.191 318.87 Q134.191 315.745 132.269 313.963 Q130.371 312.181 127.015 312.181 M122.339 310.19 Q119.33 309.449 117.64 307.389 Q115.973 305.329 115.973 302.366 Q115.973 298.222 118.913 295.815 Q121.876 293.408 127.015 293.408 Q132.177 293.408 135.117 295.815 Q138.056 298.222 138.056 302.366 Q138.056 305.329 136.367 307.389 Q134.7 309.449 131.714 310.19 Q135.093 310.977 136.968 313.269 Q138.867 315.56 138.867 318.87 Q138.867 323.894 135.788 326.579 Q132.732 329.264 127.015 329.264 Q121.297 329.264 118.218 326.579 Q115.163 323.894 115.163 318.87 Q115.163 315.56 117.061 313.269 Q118.959 310.977 122.339 310.19 M120.626 302.806 Q120.626 305.491 122.293 306.995 Q123.982 308.5 127.015 308.5 Q130.024 308.5 131.714 306.995 Q133.427 305.491 133.427 302.806 Q133.427 300.121 131.714 298.616 Q130.024 297.111 127.015 297.111 Q123.982 297.111 122.293 298.616 Q120.626 300.121 120.626 302.806 Z\" fill=\"#000000\" fill-rule=\"nonzero\" fill-opacity=\"1\" /><path clip-path=\"url(#clip620)\" d=\"M157.177 297.111 Q153.566 297.111 151.737 300.676 Q149.931 304.218 149.931 311.347 Q149.931 318.454 151.737 322.019 Q153.566 325.56 157.177 325.56 Q160.811 325.56 162.616 322.019 Q164.445 318.454 164.445 311.347 Q164.445 304.218 162.616 300.676 Q160.811 297.111 157.177 297.111 M157.177 293.408 Q162.987 293.408 166.042 298.014 Q169.121 302.597 169.121 311.347 Q169.121 320.074 166.042 324.681 Q162.987 329.264 157.177 329.264 Q151.366 329.264 148.288 324.681 Q145.232 320.074 145.232 311.347 Q145.232 302.597 148.288 298.014 Q151.366 293.408 157.177 293.408 Z\" fill=\"#000000\" fill-rule=\"nonzero\" fill-opacity=\"1\" /><path clip-path=\"url(#clip620)\" d=\"M29.7248 796.386 L35.1993 796.386 Q33.8307 798.869 33.1623 801.383 Q32.4621 803.866 32.4621 806.412 Q32.4621 812.11 36.0905 815.261 Q39.6872 818.412 46.212 818.412 Q52.7369 818.412 56.3653 815.261 Q59.9619 812.11 59.9619 806.412 Q59.9619 803.866 59.2935 801.383 Q58.5933 798.869 57.2247 796.386 L62.6355 796.386 Q63.7814 798.837 64.3543 801.479 Q64.9272 804.089 64.9272 807.049 Q64.9272 815.102 59.8664 819.844 Q54.8057 824.586 46.212 824.586 Q37.491 824.586 32.4939 819.812 Q27.4968 815.006 27.4968 806.667 Q27.4968 803.962 28.0697 801.383 Q28.6108 798.805 29.7248 796.386 Z\" fill=\"#000000\" fill-rule=\"nonzero\" fill-opacity=\"1\" /><path clip-path=\"url(#clip620)\" d=\"M32.4621 772.388 Q32.4621 777.098 36.1542 779.836 Q39.8145 782.573 46.212 782.573 Q52.6095 782.573 56.3017 779.867 Q59.9619 777.13 59.9619 772.388 Q59.9619 767.709 56.2698 764.972 Q52.5777 762.234 46.212 762.234 Q39.8781 762.234 36.186 764.972 Q32.4621 767.709 32.4621 772.388 M27.4968 772.388 Q27.4968 764.749 32.4621 760.388 Q37.4273 756.028 46.212 756.028 Q54.9649 756.028 59.9619 760.388 Q64.9272 764.749 64.9272 772.388 Q64.9272 780.058 59.9619 784.419 Q54.9649 788.748 46.212 788.748 Q37.4273 788.748 32.4621 784.419 Q27.4968 780.058 27.4968 772.388 Z\" fill=\"#000000\" fill-rule=\"nonzero\" fill-opacity=\"1\" /><path clip-path=\"url(#clip620)\" d=\"M49.9359 746.925 L28.3562 746.925 L28.3562 741.068 L49.7131 741.068 Q54.7739 741.068 57.3202 739.095 Q59.8346 737.122 59.8346 733.175 Q59.8346 728.432 56.8109 725.695 Q53.7872 722.926 48.5673 722.926 L28.3562 722.926 L28.3562 717.07 L64.0042 717.07 L64.0042 722.926 L58.5296 722.926 Q61.7762 725.059 63.3676 727.891 Q64.9272 730.692 64.9272 734.416 Q64.9272 740.559 61.1078 743.742 Q57.2883 746.925 49.9359 746.925 M27.4968 732.188 L27.4968 732.188 Z\" fill=\"#000000\" fill-rule=\"nonzero\" fill-opacity=\"1\" /><path clip-path=\"url(#clip620)\" d=\"M42.4881 675.374 L64.0042 675.374 L64.0042 681.231 L42.679 681.231 Q37.6183 681.231 35.1038 683.204 Q32.5894 685.178 32.5894 689.124 Q32.5894 693.867 35.6131 696.604 Q38.6368 699.341 43.8567 699.341 L64.0042 699.341 L64.0042 705.229 L28.3562 705.229 L28.3562 699.341 L33.8944 699.341 Q30.6797 697.241 29.0883 694.408 Q27.4968 691.543 27.4968 687.819 Q27.4968 681.676 31.3163 678.525 Q35.1038 675.374 42.4881 675.374 Z\" fill=\"#000000\" fill-rule=\"nonzero\" fill-opacity=\"1\" /><path clip-path=\"url(#clip620)\" d=\"M18.2347 657.9 L28.3562 657.9 L28.3562 645.837 L32.9077 645.837 L32.9077 657.9 L52.2594 657.9 Q56.6199 657.9 57.8613 656.723 Q59.1026 655.513 59.1026 651.853 L59.1026 645.837 L64.0042 645.837 L64.0042 651.853 Q64.0042 658.633 61.4897 661.211 Q58.9434 663.789 52.2594 663.789 L32.9077 663.789 L32.9077 668.086 L28.3562 668.086 L28.3562 663.789 L18.2347 663.789 L18.2347 657.9 Z\" fill=\"#000000\" fill-rule=\"nonzero\" fill-opacity=\"1\" /><path clip-path=\"url(#clip622)\" d=\"M163.089 1200.81 L163.089 1423.18 L242.245 1423.18 L242.245 1200.81 L163.089 1200.81 L163.089 1200.81  Z\" fill=\"#009af9\" fill-rule=\"evenodd\" fill-opacity=\"1\"/>\n",
       "<polyline clip-path=\"url(#clip622)\" style=\"stroke:#000000; stroke-linecap:round; stroke-linejoin:round; stroke-width:4; stroke-opacity:1; fill:none\" points=\"163.089,1200.81 163.089,1423.18 242.245,1423.18 242.245,1200.81 163.089,1200.81 \"/>\n",
       "<path clip-path=\"url(#clip622)\" d=\"M242.245 47.2441 L242.245 1423.18 L321.4 1423.18 L321.4 47.2441 L242.245 47.2441 L242.245 47.2441  Z\" fill=\"#009af9\" fill-rule=\"evenodd\" fill-opacity=\"1\"/>\n",
       "<polyline clip-path=\"url(#clip622)\" style=\"stroke:#000000; stroke-linecap:round; stroke-linejoin:round; stroke-width:4; stroke-opacity:1; fill:none\" points=\"242.245,47.2441 242.245,1423.18 321.4,1423.18 321.4,47.2441 242.245,47.2441 \"/>\n",
       "<path clip-path=\"url(#clip622)\" d=\"M321.4 700.466 L321.4 1423.18 L400.556 1423.18 L400.556 700.466 L321.4 700.466 L321.4 700.466  Z\" fill=\"#009af9\" fill-rule=\"evenodd\" fill-opacity=\"1\"/>\n",
       "<polyline clip-path=\"url(#clip622)\" style=\"stroke:#000000; stroke-linecap:round; stroke-linejoin:round; stroke-width:4; stroke-opacity:1; fill:none\" points=\"321.4,700.466 321.4,1423.18 400.556,1423.18 400.556,700.466 321.4,700.466 \"/>\n",
       "<path clip-path=\"url(#clip622)\" d=\"M400.556 1047.92 L400.556 1423.18 L479.711 1423.18 L479.711 1047.92 L400.556 1047.92 L400.556 1047.92  Z\" fill=\"#009af9\" fill-rule=\"evenodd\" fill-opacity=\"1\"/>\n",
       "<polyline clip-path=\"url(#clip622)\" style=\"stroke:#000000; stroke-linecap:round; stroke-linejoin:round; stroke-width:4; stroke-opacity:1; fill:none\" points=\"400.556,1047.92 400.556,1423.18 479.711,1423.18 479.711,1047.92 400.556,1047.92 \"/>\n",
       "<path clip-path=\"url(#clip622)\" d=\"M479.711 1200.81 L479.711 1423.18 L558.867 1423.18 L558.867 1200.81 L479.711 1200.81 L479.711 1200.81  Z\" fill=\"#009af9\" fill-rule=\"evenodd\" fill-opacity=\"1\"/>\n",
       "<polyline clip-path=\"url(#clip622)\" style=\"stroke:#000000; stroke-linecap:round; stroke-linejoin:round; stroke-width:4; stroke-opacity:1; fill:none\" points=\"479.711,1200.81 479.711,1423.18 558.867,1423.18 558.867,1200.81 479.711,1200.81 \"/>\n",
       "<path clip-path=\"url(#clip622)\" d=\"M558.867 1284.2 L558.867 1423.18 L638.022 1423.18 L638.022 1284.2 L558.867 1284.2 L558.867 1284.2  Z\" fill=\"#009af9\" fill-rule=\"evenodd\" fill-opacity=\"1\"/>\n",
       "<polyline clip-path=\"url(#clip622)\" style=\"stroke:#000000; stroke-linecap:round; stroke-linejoin:round; stroke-width:4; stroke-opacity:1; fill:none\" points=\"558.867,1284.2 558.867,1423.18 638.022,1423.18 638.022,1284.2 558.867,1284.2 \"/>\n",
       "<path clip-path=\"url(#clip622)\" d=\"M638.022 1311.99 L638.022 1423.18 L717.178 1423.18 L717.178 1311.99 L638.022 1311.99 L638.022 1311.99  Z\" fill=\"#009af9\" fill-rule=\"evenodd\" fill-opacity=\"1\"/>\n",
       "<polyline clip-path=\"url(#clip622)\" style=\"stroke:#000000; stroke-linecap:round; stroke-linejoin:round; stroke-width:4; stroke-opacity:1; fill:none\" points=\"638.022,1311.99 638.022,1423.18 717.178,1423.18 717.178,1311.99 638.022,1311.99 \"/>\n",
       "<path clip-path=\"url(#clip622)\" d=\"M717.178 1395.38 L717.178 1423.18 L796.333 1423.18 L796.333 1395.38 L717.178 1395.38 L717.178 1395.38  Z\" fill=\"#009af9\" fill-rule=\"evenodd\" fill-opacity=\"1\"/>\n",
       "<polyline clip-path=\"url(#clip622)\" style=\"stroke:#000000; stroke-linecap:round; stroke-linejoin:round; stroke-width:4; stroke-opacity:1; fill:none\" points=\"717.178,1395.38 717.178,1423.18 796.333,1423.18 796.333,1395.38 717.178,1395.38 \"/>\n",
       "<path clip-path=\"url(#clip622)\" d=\"M796.333 1325.89 L796.333 1423.18 L875.488 1423.18 L875.488 1325.89 L796.333 1325.89 L796.333 1325.89  Z\" fill=\"#009af9\" fill-rule=\"evenodd\" fill-opacity=\"1\"/>\n",
       "<polyline clip-path=\"url(#clip622)\" style=\"stroke:#000000; stroke-linecap:round; stroke-linejoin:round; stroke-width:4; stroke-opacity:1; fill:none\" points=\"796.333,1325.89 796.333,1423.18 875.488,1423.18 875.488,1325.89 796.333,1325.89 \"/>\n",
       "<path clip-path=\"url(#clip622)\" d=\"M875.488 1367.59 L875.488 1423.18 L954.644 1423.18 L954.644 1367.59 L875.488 1367.59 L875.488 1367.59  Z\" fill=\"#009af9\" fill-rule=\"evenodd\" fill-opacity=\"1\"/>\n",
       "<polyline clip-path=\"url(#clip622)\" style=\"stroke:#000000; stroke-linecap:round; stroke-linejoin:round; stroke-width:4; stroke-opacity:1; fill:none\" points=\"875.488,1367.59 875.488,1423.18 954.644,1423.18 954.644,1367.59 875.488,1367.59 \"/>\n",
       "<path clip-path=\"url(#clip622)\" d=\"M954.644 1381.48 L954.644 1423.18 L1033.8 1423.18 L1033.8 1381.48 L954.644 1381.48 L954.644 1381.48  Z\" fill=\"#009af9\" fill-rule=\"evenodd\" fill-opacity=\"1\"/>\n",
       "<polyline clip-path=\"url(#clip622)\" style=\"stroke:#000000; stroke-linecap:round; stroke-linejoin:round; stroke-width:4; stroke-opacity:1; fill:none\" points=\"954.644,1381.48 954.644,1423.18 1033.8,1423.18 1033.8,1381.48 954.644,1381.48 \"/>\n",
       "<path clip-path=\"url(#clip622)\" d=\"M1033.8 1381.48 L1033.8 1423.18 L1112.95 1423.18 L1112.95 1381.48 L1033.8 1381.48 L1033.8 1381.48  Z\" fill=\"#009af9\" fill-rule=\"evenodd\" fill-opacity=\"1\"/>\n",
       "<polyline clip-path=\"url(#clip622)\" style=\"stroke:#000000; stroke-linecap:round; stroke-linejoin:round; stroke-width:4; stroke-opacity:1; fill:none\" points=\"1033.8,1381.48 1033.8,1423.18 1112.95,1423.18 1112.95,1381.48 1033.8,1381.48 \"/>\n",
       "<path clip-path=\"url(#clip622)\" d=\"M1112.95 1409.28 L1112.95 1423.18 L1192.11 1423.18 L1192.11 1409.28 L1112.95 1409.28 L1112.95 1409.28  Z\" fill=\"#009af9\" fill-rule=\"evenodd\" fill-opacity=\"1\"/>\n",
       "<polyline clip-path=\"url(#clip622)\" style=\"stroke:#000000; stroke-linecap:round; stroke-linejoin:round; stroke-width:4; stroke-opacity:1; fill:none\" points=\"1112.95,1409.28 1112.95,1423.18 1192.11,1423.18 1192.11,1409.28 1112.95,1409.28 \"/>\n",
       "<path clip-path=\"url(#clip622)\" d=\"M1192.11 1409.28 L1192.11 1423.18 L1271.27 1423.18 L1271.27 1409.28 L1192.11 1409.28 L1192.11 1409.28  Z\" fill=\"#009af9\" fill-rule=\"evenodd\" fill-opacity=\"1\"/>\n",
       "<polyline clip-path=\"url(#clip622)\" style=\"stroke:#000000; stroke-linecap:round; stroke-linejoin:round; stroke-width:4; stroke-opacity:1; fill:none\" points=\"1192.11,1409.28 1192.11,1423.18 1271.27,1423.18 1271.27,1409.28 1192.11,1409.28 \"/>\n",
       "<path clip-path=\"url(#clip622)\" d=\"M1271.27 1409.28 L1271.27 1423.18 L1350.42 1423.18 L1350.42 1409.28 L1271.27 1409.28 L1271.27 1409.28  Z\" fill=\"#009af9\" fill-rule=\"evenodd\" fill-opacity=\"1\"/>\n",
       "<polyline clip-path=\"url(#clip622)\" style=\"stroke:#000000; stroke-linecap:round; stroke-linejoin:round; stroke-width:4; stroke-opacity:1; fill:none\" points=\"1271.27,1409.28 1271.27,1423.18 1350.42,1423.18 1350.42,1409.28 1271.27,1409.28 \"/>\n",
       "<path clip-path=\"url(#clip622)\" d=\"M1350.42 1381.48 L1350.42 1423.18 L1429.58 1423.18 L1429.58 1381.48 L1350.42 1381.48 L1350.42 1381.48  Z\" fill=\"#009af9\" fill-rule=\"evenodd\" fill-opacity=\"1\"/>\n",
       "<polyline clip-path=\"url(#clip622)\" style=\"stroke:#000000; stroke-linecap:round; stroke-linejoin:round; stroke-width:4; stroke-opacity:1; fill:none\" points=\"1350.42,1381.48 1350.42,1423.18 1429.58,1423.18 1429.58,1381.48 1350.42,1381.48 \"/>\n",
       "<path clip-path=\"url(#clip622)\" d=\"M1429.58 1423.18 L1429.58 1423.18 L1508.73 1423.18 L1508.73 1423.18 L1429.58 1423.18 L1429.58 1423.18  Z\" fill=\"#009af9\" fill-rule=\"evenodd\" fill-opacity=\"1\"/>\n",
       "<polyline clip-path=\"url(#clip622)\" style=\"stroke:#000000; stroke-linecap:round; stroke-linejoin:round; stroke-width:4; stroke-opacity:1; fill:none\" points=\"1429.58,1423.18 1429.58,1423.18 1508.73,1423.18 1429.58,1423.18 \"/>\n",
       "<path clip-path=\"url(#clip622)\" d=\"M1508.73 1395.38 L1508.73 1423.18 L1587.89 1423.18 L1587.89 1395.38 L1508.73 1395.38 L1508.73 1395.38  Z\" fill=\"#009af9\" fill-rule=\"evenodd\" fill-opacity=\"1\"/>\n",
       "<polyline clip-path=\"url(#clip622)\" style=\"stroke:#000000; stroke-linecap:round; stroke-linejoin:round; stroke-width:4; stroke-opacity:1; fill:none\" points=\"1508.73,1395.38 1508.73,1423.18 1587.89,1423.18 1587.89,1395.38 1508.73,1395.38 \"/>\n",
       "<path clip-path=\"url(#clip622)\" d=\"M1587.89 1409.28 L1587.89 1423.18 L1667.04 1423.18 L1667.04 1409.28 L1587.89 1409.28 L1587.89 1409.28  Z\" fill=\"#009af9\" fill-rule=\"evenodd\" fill-opacity=\"1\"/>\n",
       "<polyline clip-path=\"url(#clip622)\" style=\"stroke:#000000; stroke-linecap:round; stroke-linejoin:round; stroke-width:4; stroke-opacity:1; fill:none\" points=\"1587.89,1409.28 1587.89,1423.18 1667.04,1423.18 1667.04,1409.28 1587.89,1409.28 \"/>\n",
       "<path clip-path=\"url(#clip622)\" d=\"M1667.04 1423.18 L1667.04 1423.18 L1746.2 1423.18 L1746.2 1423.18 L1667.04 1423.18 L1667.04 1423.18  Z\" fill=\"#009af9\" fill-rule=\"evenodd\" fill-opacity=\"1\"/>\n",
       "<polyline clip-path=\"url(#clip622)\" style=\"stroke:#000000; stroke-linecap:round; stroke-linejoin:round; stroke-width:4; stroke-opacity:1; fill:none\" points=\"1667.04,1423.18 1667.04,1423.18 1746.2,1423.18 1667.04,1423.18 \"/>\n",
       "<path clip-path=\"url(#clip622)\" d=\"M1746.2 1409.28 L1746.2 1423.18 L1825.35 1423.18 L1825.35 1409.28 L1746.2 1409.28 L1746.2 1409.28  Z\" fill=\"#009af9\" fill-rule=\"evenodd\" fill-opacity=\"1\"/>\n",
       "<polyline clip-path=\"url(#clip622)\" style=\"stroke:#000000; stroke-linecap:round; stroke-linejoin:round; stroke-width:4; stroke-opacity:1; fill:none\" points=\"1746.2,1409.28 1746.2,1423.18 1825.35,1423.18 1825.35,1409.28 1746.2,1409.28 \"/>\n",
       "<path clip-path=\"url(#clip622)\" d=\"M1825.35 1409.28 L1825.35 1423.18 L1904.51 1423.18 L1904.51 1409.28 L1825.35 1409.28 L1825.35 1409.28  Z\" fill=\"#009af9\" fill-rule=\"evenodd\" fill-opacity=\"1\"/>\n",
       "<polyline clip-path=\"url(#clip622)\" style=\"stroke:#000000; stroke-linecap:round; stroke-linejoin:round; stroke-width:4; stroke-opacity:1; fill:none\" points=\"1825.35,1409.28 1825.35,1423.18 1904.51,1423.18 1904.51,1409.28 1825.35,1409.28 \"/>\n",
       "<path clip-path=\"url(#clip622)\" d=\"M1904.51 1423.18 L1904.51 1423.18 L1983.66 1423.18 L1983.66 1423.18 L1904.51 1423.18 L1904.51 1423.18  Z\" fill=\"#009af9\" fill-rule=\"evenodd\" fill-opacity=\"1\"/>\n",
       "<polyline clip-path=\"url(#clip622)\" style=\"stroke:#000000; stroke-linecap:round; stroke-linejoin:round; stroke-width:4; stroke-opacity:1; fill:none\" points=\"1904.51,1423.18 1904.51,1423.18 1983.66,1423.18 1904.51,1423.18 \"/>\n",
       "<path clip-path=\"url(#clip622)\" d=\"M1983.66 1423.18 L1983.66 1423.18 L2062.82 1423.18 L2062.82 1423.18 L1983.66 1423.18 L1983.66 1423.18  Z\" fill=\"#009af9\" fill-rule=\"evenodd\" fill-opacity=\"1\"/>\n",
       "<polyline clip-path=\"url(#clip622)\" style=\"stroke:#000000; stroke-linecap:round; stroke-linejoin:round; stroke-width:4; stroke-opacity:1; fill:none\" points=\"1983.66,1423.18 1983.66,1423.18 2062.82,1423.18 1983.66,1423.18 \"/>\n",
       "<path clip-path=\"url(#clip622)\" d=\"M2062.82 1423.18 L2062.82 1423.18 L2141.98 1423.18 L2141.98 1423.18 L2062.82 1423.18 L2062.82 1423.18  Z\" fill=\"#009af9\" fill-rule=\"evenodd\" fill-opacity=\"1\"/>\n",
       "<polyline clip-path=\"url(#clip622)\" style=\"stroke:#000000; stroke-linecap:round; stroke-linejoin:round; stroke-width:4; stroke-opacity:1; fill:none\" points=\"2062.82,1423.18 2062.82,1423.18 2141.98,1423.18 2062.82,1423.18 \"/>\n",
       "<path clip-path=\"url(#clip622)\" d=\"M2141.98 1423.18 L2141.98 1423.18 L2221.13 1423.18 L2221.13 1423.18 L2141.98 1423.18 L2141.98 1423.18  Z\" fill=\"#009af9\" fill-rule=\"evenodd\" fill-opacity=\"1\"/>\n",
       "<polyline clip-path=\"url(#clip622)\" style=\"stroke:#000000; stroke-linecap:round; stroke-linejoin:round; stroke-width:4; stroke-opacity:1; fill:none\" points=\"2141.98,1423.18 2141.98,1423.18 2221.13,1423.18 2141.98,1423.18 \"/>\n",
       "<path clip-path=\"url(#clip622)\" d=\"M2221.13 1423.18 L2221.13 1423.18 L2300.29 1423.18 L2300.29 1423.18 L2221.13 1423.18 L2221.13 1423.18  Z\" fill=\"#009af9\" fill-rule=\"evenodd\" fill-opacity=\"1\"/>\n",
       "<polyline clip-path=\"url(#clip622)\" style=\"stroke:#000000; stroke-linecap:round; stroke-linejoin:round; stroke-width:4; stroke-opacity:1; fill:none\" points=\"2221.13,1423.18 2221.13,1423.18 2300.29,1423.18 2221.13,1423.18 \"/>\n",
       "<path clip-path=\"url(#clip622)\" d=\"M2300.29 1423.18 L2300.29 1423.18 L2379.44 1423.18 L2379.44 1423.18 L2300.29 1423.18 L2300.29 1423.18  Z\" fill=\"#009af9\" fill-rule=\"evenodd\" fill-opacity=\"1\"/>\n",
       "<polyline clip-path=\"url(#clip622)\" style=\"stroke:#000000; stroke-linecap:round; stroke-linejoin:round; stroke-width:4; stroke-opacity:1; fill:none\" points=\"2300.29,1423.18 2300.29,1423.18 2379.44,1423.18 2300.29,1423.18 \"/>\n",
       "<path clip-path=\"url(#clip622)\" d=\"M2379.44 1409.28 L2379.44 1423.18 L2458.6 1423.18 L2458.6 1409.28 L2379.44 1409.28 L2379.44 1409.28  Z\" fill=\"#009af9\" fill-rule=\"evenodd\" fill-opacity=\"1\"/>\n",
       "<polyline clip-path=\"url(#clip622)\" style=\"stroke:#000000; stroke-linecap:round; stroke-linejoin:round; stroke-width:4; stroke-opacity:1; fill:none\" points=\"2379.44,1409.28 2379.44,1423.18 2458.6,1423.18 2458.6,1409.28 2379.44,1409.28 \"/>\n",
       "<path clip-path=\"url(#clip622)\" d=\"M2458.6 1423.18 L2458.6 1423.18 L2537.75 1423.18 L2537.75 1423.18 L2458.6 1423.18 L2458.6 1423.18  Z\" fill=\"#009af9\" fill-rule=\"evenodd\" fill-opacity=\"1\"/>\n",
       "<polyline clip-path=\"url(#clip622)\" style=\"stroke:#000000; stroke-linecap:round; stroke-linejoin:round; stroke-width:4; stroke-opacity:1; fill:none\" points=\"2458.6,1423.18 2458.6,1423.18 2537.75,1423.18 2458.6,1423.18 \"/>\n",
       "<path clip-path=\"url(#clip622)\" d=\"M2537.75 1409.28 L2537.75 1423.18 L2616.91 1423.18 L2616.91 1409.28 L2537.75 1409.28 L2537.75 1409.28  Z\" fill=\"#009af9\" fill-rule=\"evenodd\" fill-opacity=\"1\"/>\n",
       "<polyline clip-path=\"url(#clip622)\" style=\"stroke:#000000; stroke-linecap:round; stroke-linejoin:round; stroke-width:4; stroke-opacity:1; fill:none\" points=\"2537.75,1409.28 2537.75,1423.18 2616.91,1423.18 2616.91,1409.28 2537.75,1409.28 \"/>\n",
       "<path clip-path=\"url(#clip622)\" d=\"M2616.91 1423.18 L2616.91 1423.18 L2696.06 1423.18 L2696.06 1423.18 L2616.91 1423.18 L2616.91 1423.18  Z\" fill=\"#009af9\" fill-rule=\"evenodd\" fill-opacity=\"1\"/>\n",
       "<polyline clip-path=\"url(#clip622)\" style=\"stroke:#000000; stroke-linecap:round; stroke-linejoin:round; stroke-width:4; stroke-opacity:1; fill:none\" points=\"2616.91,1423.18 2616.91,1423.18 2696.06,1423.18 2616.91,1423.18 \"/>\n",
       "<path clip-path=\"url(#clip622)\" d=\"M2696.06 1423.18 L2696.06 1423.18 L2775.22 1423.18 L2775.22 1423.18 L2696.06 1423.18 L2696.06 1423.18  Z\" fill=\"#009af9\" fill-rule=\"evenodd\" fill-opacity=\"1\"/>\n",
       "<polyline clip-path=\"url(#clip622)\" style=\"stroke:#000000; stroke-linecap:round; stroke-linejoin:round; stroke-width:4; stroke-opacity:1; fill:none\" points=\"2696.06,1423.18 2696.06,1423.18 2775.22,1423.18 2696.06,1423.18 \"/>\n",
       "<path clip-path=\"url(#clip622)\" d=\"M2775.22 1423.18 L2775.22 1423.18 L2854.37 1423.18 L2854.37 1423.18 L2775.22 1423.18 L2775.22 1423.18  Z\" fill=\"#009af9\" fill-rule=\"evenodd\" fill-opacity=\"1\"/>\n",
       "<polyline clip-path=\"url(#clip622)\" style=\"stroke:#000000; stroke-linecap:round; stroke-linejoin:round; stroke-width:4; stroke-opacity:1; fill:none\" points=\"2775.22,1423.18 2775.22,1423.18 2854.37,1423.18 2775.22,1423.18 \"/>\n",
       "<path clip-path=\"url(#clip622)\" d=\"M2854.37 1409.28 L2854.37 1423.18 L2933.53 1423.18 L2933.53 1409.28 L2854.37 1409.28 L2854.37 1409.28  Z\" fill=\"#009af9\" fill-rule=\"evenodd\" fill-opacity=\"1\"/>\n",
       "<polyline clip-path=\"url(#clip622)\" style=\"stroke:#000000; stroke-linecap:round; stroke-linejoin:round; stroke-width:4; stroke-opacity:1; fill:none\" points=\"2854.37,1409.28 2854.37,1423.18 2933.53,1423.18 2933.53,1409.28 2854.37,1409.28 \"/>\n",
       "<path clip-path=\"url(#clip622)\" d=\"M2933.53 1423.18 L2933.53 1423.18 L3012.69 1423.18 L3012.69 1423.18 L2933.53 1423.18 L2933.53 1423.18  Z\" fill=\"#009af9\" fill-rule=\"evenodd\" fill-opacity=\"1\"/>\n",
       "<polyline clip-path=\"url(#clip622)\" style=\"stroke:#000000; stroke-linecap:round; stroke-linejoin:round; stroke-width:4; stroke-opacity:1; fill:none\" points=\"2933.53,1423.18 2933.53,1423.18 3012.69,1423.18 2933.53,1423.18 \"/>\n",
       "<path clip-path=\"url(#clip622)\" d=\"M3012.69 1423.18 L3012.69 1423.18 L3091.84 1423.18 L3091.84 1423.18 L3012.69 1423.18 L3012.69 1423.18  Z\" fill=\"#009af9\" fill-rule=\"evenodd\" fill-opacity=\"1\"/>\n",
       "<polyline clip-path=\"url(#clip622)\" style=\"stroke:#000000; stroke-linecap:round; stroke-linejoin:round; stroke-width:4; stroke-opacity:1; fill:none\" points=\"3012.69,1423.18 3012.69,1423.18 3091.84,1423.18 3012.69,1423.18 \"/>\n",
       "<path clip-path=\"url(#clip622)\" d=\"M3091.84 1423.18 L3091.84 1423.18 L3171 1423.18 L3171 1423.18 L3091.84 1423.18 L3091.84 1423.18  Z\" fill=\"#009af9\" fill-rule=\"evenodd\" fill-opacity=\"1\"/>\n",
       "<polyline clip-path=\"url(#clip622)\" style=\"stroke:#000000; stroke-linecap:round; stroke-linejoin:round; stroke-width:4; stroke-opacity:1; fill:none\" points=\"3091.84,1423.18 3091.84,1423.18 3171,1423.18 3091.84,1423.18 \"/>\n",
       "<path clip-path=\"url(#clip622)\" d=\"M3171 1423.18 L3171 1423.18 L3250.15 1423.18 L3250.15 1423.18 L3171 1423.18 L3171 1423.18  Z\" fill=\"#009af9\" fill-rule=\"evenodd\" fill-opacity=\"1\"/>\n",
       "<polyline clip-path=\"url(#clip622)\" style=\"stroke:#000000; stroke-linecap:round; stroke-linejoin:round; stroke-width:4; stroke-opacity:1; fill:none\" points=\"3171,1423.18 3171,1423.18 3250.15,1423.18 3171,1423.18 \"/>\n",
       "<path clip-path=\"url(#clip622)\" d=\"M3250.15 1423.18 L3250.15 1423.18 L3329.31 1423.18 L3329.31 1423.18 L3250.15 1423.18 L3250.15 1423.18  Z\" fill=\"#009af9\" fill-rule=\"evenodd\" fill-opacity=\"1\"/>\n",
       "<polyline clip-path=\"url(#clip622)\" style=\"stroke:#000000; stroke-linecap:round; stroke-linejoin:round; stroke-width:4; stroke-opacity:1; fill:none\" points=\"3250.15,1423.18 3250.15,1423.18 3329.31,1423.18 3250.15,1423.18 \"/>\n",
       "<path clip-path=\"url(#clip622)\" d=\"M3329.31 1423.18 L3329.31 1423.18 L3408.46 1423.18 L3408.46 1423.18 L3329.31 1423.18 L3329.31 1423.18  Z\" fill=\"#009af9\" fill-rule=\"evenodd\" fill-opacity=\"1\"/>\n",
       "<polyline clip-path=\"url(#clip622)\" style=\"stroke:#000000; stroke-linecap:round; stroke-linejoin:round; stroke-width:4; stroke-opacity:1; fill:none\" points=\"3329.31,1423.18 3329.31,1423.18 3408.46,1423.18 3329.31,1423.18 \"/>\n",
       "<path clip-path=\"url(#clip622)\" d=\"M3408.46 1423.18 L3408.46 1423.18 L3487.62 1423.18 L3487.62 1423.18 L3408.46 1423.18 L3408.46 1423.18  Z\" fill=\"#009af9\" fill-rule=\"evenodd\" fill-opacity=\"1\"/>\n",
       "<polyline clip-path=\"url(#clip622)\" style=\"stroke:#000000; stroke-linecap:round; stroke-linejoin:round; stroke-width:4; stroke-opacity:1; fill:none\" points=\"3408.46,1423.18 3408.46,1423.18 3487.62,1423.18 3408.46,1423.18 \"/>\n",
       "<path clip-path=\"url(#clip622)\" d=\"M3487.62 1423.18 L3487.62 1423.18 L3566.77 1423.18 L3566.77 1423.18 L3487.62 1423.18 L3487.62 1423.18  Z\" fill=\"#009af9\" fill-rule=\"evenodd\" fill-opacity=\"1\"/>\n",
       "<polyline clip-path=\"url(#clip622)\" style=\"stroke:#000000; stroke-linecap:round; stroke-linejoin:round; stroke-width:4; stroke-opacity:1; fill:none\" points=\"3487.62,1423.18 3487.62,1423.18 3566.77,1423.18 3487.62,1423.18 \"/>\n",
       "<path clip-path=\"url(#clip622)\" d=\"M3566.77 1423.18 L3566.77 1423.18 L3645.93 1423.18 L3645.93 1423.18 L3566.77 1423.18 L3566.77 1423.18  Z\" fill=\"#009af9\" fill-rule=\"evenodd\" fill-opacity=\"1\"/>\n",
       "<polyline clip-path=\"url(#clip622)\" style=\"stroke:#000000; stroke-linecap:round; stroke-linejoin:round; stroke-width:4; stroke-opacity:1; fill:none\" points=\"3566.77,1423.18 3566.77,1423.18 3645.93,1423.18 3566.77,1423.18 \"/>\n",
       "<path clip-path=\"url(#clip622)\" d=\"M3645.93 1409.28 L3645.93 1423.18 L3725.08 1423.18 L3725.08 1409.28 L3645.93 1409.28 L3645.93 1409.28  Z\" fill=\"#009af9\" fill-rule=\"evenodd\" fill-opacity=\"1\"/>\n",
       "<polyline clip-path=\"url(#clip622)\" style=\"stroke:#000000; stroke-linecap:round; stroke-linejoin:round; stroke-width:4; stroke-opacity:1; fill:none\" points=\"3645.93,1409.28 3645.93,1423.18 3725.08,1423.18 3725.08,1409.28 3645.93,1409.28 \"/>\n",
       "<path clip-path=\"url(#clip622)\" d=\"M3725.08 1423.18 L3725.08 1423.18 L3804.24 1423.18 L3804.24 1423.18 L3725.08 1423.18 L3725.08 1423.18  Z\" fill=\"#009af9\" fill-rule=\"evenodd\" fill-opacity=\"1\"/>\n",
       "<polyline clip-path=\"url(#clip622)\" style=\"stroke:#000000; stroke-linecap:round; stroke-linejoin:round; stroke-width:4; stroke-opacity:1; fill:none\" points=\"3725.08,1423.18 3725.08,1423.18 3804.24,1423.18 3725.08,1423.18 \"/>\n",
       "<path clip-path=\"url(#clip622)\" d=\"M3804.24 1423.18 L3804.24 1423.18 L3883.4 1423.18 L3883.4 1423.18 L3804.24 1423.18 L3804.24 1423.18  Z\" fill=\"#009af9\" fill-rule=\"evenodd\" fill-opacity=\"1\"/>\n",
       "<polyline clip-path=\"url(#clip622)\" style=\"stroke:#000000; stroke-linecap:round; stroke-linejoin:round; stroke-width:4; stroke-opacity:1; fill:none\" points=\"3804.24,1423.18 3804.24,1423.18 3883.4,1423.18 3804.24,1423.18 \"/>\n",
       "<path clip-path=\"url(#clip622)\" d=\"M3883.4 1423.18 L3883.4 1423.18 L3962.55 1423.18 L3962.55 1423.18 L3883.4 1423.18 L3883.4 1423.18  Z\" fill=\"#009af9\" fill-rule=\"evenodd\" fill-opacity=\"1\"/>\n",
       "<polyline clip-path=\"url(#clip622)\" style=\"stroke:#000000; stroke-linecap:round; stroke-linejoin:round; stroke-width:4; stroke-opacity:1; fill:none\" points=\"3883.4,1423.18 3883.4,1423.18 3962.55,1423.18 3883.4,1423.18 \"/>\n",
       "<path clip-path=\"url(#clip622)\" d=\"M3962.55 1423.18 L3962.55 1423.18 L4041.71 1423.18 L4041.71 1423.18 L3962.55 1423.18 L3962.55 1423.18  Z\" fill=\"#009af9\" fill-rule=\"evenodd\" fill-opacity=\"1\"/>\n",
       "<polyline clip-path=\"url(#clip622)\" style=\"stroke:#000000; stroke-linecap:round; stroke-linejoin:round; stroke-width:4; stroke-opacity:1; fill:none\" points=\"3962.55,1423.18 3962.55,1423.18 4041.71,1423.18 3962.55,1423.18 \"/>\n",
       "<path clip-path=\"url(#clip622)\" d=\"M4041.71 1423.18 L4041.71 1423.18 L4120.86 1423.18 L4120.86 1423.18 L4041.71 1423.18 L4041.71 1423.18  Z\" fill=\"#009af9\" fill-rule=\"evenodd\" fill-opacity=\"1\"/>\n",
       "<polyline clip-path=\"url(#clip622)\" style=\"stroke:#000000; stroke-linecap:round; stroke-linejoin:round; stroke-width:4; stroke-opacity:1; fill:none\" points=\"4041.71,1423.18 4041.71,1423.18 4120.86,1423.18 4041.71,1423.18 \"/>\n",
       "<path clip-path=\"url(#clip622)\" d=\"M4120.86 1423.18 L4120.86 1423.18 L4200.02 1423.18 L4200.02 1423.18 L4120.86 1423.18 L4120.86 1423.18  Z\" fill=\"#009af9\" fill-rule=\"evenodd\" fill-opacity=\"1\"/>\n",
       "<polyline clip-path=\"url(#clip622)\" style=\"stroke:#000000; stroke-linecap:round; stroke-linejoin:round; stroke-width:4; stroke-opacity:1; fill:none\" points=\"4120.86,1423.18 4120.86,1423.18 4200.02,1423.18 4120.86,1423.18 \"/>\n",
       "<path clip-path=\"url(#clip622)\" d=\"M4200.02 1423.18 L4200.02 1423.18 L4279.17 1423.18 L4279.17 1423.18 L4200.02 1423.18 L4200.02 1423.18  Z\" fill=\"#009af9\" fill-rule=\"evenodd\" fill-opacity=\"1\"/>\n",
       "<polyline clip-path=\"url(#clip622)\" style=\"stroke:#000000; stroke-linecap:round; stroke-linejoin:round; stroke-width:4; stroke-opacity:1; fill:none\" points=\"4200.02,1423.18 4200.02,1423.18 4279.17,1423.18 4200.02,1423.18 \"/>\n",
       "<path clip-path=\"url(#clip622)\" d=\"M4279.17 1423.18 L4279.17 1423.18 L4358.33 1423.18 L4358.33 1423.18 L4279.17 1423.18 L4279.17 1423.18  Z\" fill=\"#009af9\" fill-rule=\"evenodd\" fill-opacity=\"1\"/>\n",
       "<polyline clip-path=\"url(#clip622)\" style=\"stroke:#000000; stroke-linecap:round; stroke-linejoin:round; stroke-width:4; stroke-opacity:1; fill:none\" points=\"4279.17,1423.18 4279.17,1423.18 4358.33,1423.18 4279.17,1423.18 \"/>\n",
       "<path clip-path=\"url(#clip622)\" d=\"M4358.33 1423.18 L4358.33 1423.18 L4437.48 1423.18 L4437.48 1423.18 L4358.33 1423.18 L4358.33 1423.18  Z\" fill=\"#009af9\" fill-rule=\"evenodd\" fill-opacity=\"1\"/>\n",
       "<polyline clip-path=\"url(#clip622)\" style=\"stroke:#000000; stroke-linecap:round; stroke-linejoin:round; stroke-width:4; stroke-opacity:1; fill:none\" points=\"4358.33,1423.18 4358.33,1423.18 4437.48,1423.18 4358.33,1423.18 \"/>\n",
       "<path clip-path=\"url(#clip622)\" d=\"M4437.48 1423.18 L4437.48 1423.18 L4516.64 1423.18 L4516.64 1423.18 L4437.48 1423.18 L4437.48 1423.18  Z\" fill=\"#009af9\" fill-rule=\"evenodd\" fill-opacity=\"1\"/>\n",
       "<polyline clip-path=\"url(#clip622)\" style=\"stroke:#000000; stroke-linecap:round; stroke-linejoin:round; stroke-width:4; stroke-opacity:1; fill:none\" points=\"4437.48,1423.18 4437.48,1423.18 4516.64,1423.18 4437.48,1423.18 \"/>\n",
       "<path clip-path=\"url(#clip622)\" d=\"M4516.64 1423.18 L4516.64 1423.18 L4595.79 1423.18 L4595.79 1423.18 L4516.64 1423.18 L4516.64 1423.18  Z\" fill=\"#009af9\" fill-rule=\"evenodd\" fill-opacity=\"1\"/>\n",
       "<polyline clip-path=\"url(#clip622)\" style=\"stroke:#000000; stroke-linecap:round; stroke-linejoin:round; stroke-width:4; stroke-opacity:1; fill:none\" points=\"4516.64,1423.18 4516.64,1423.18 4595.79,1423.18 4516.64,1423.18 \"/>\n",
       "<path clip-path=\"url(#clip622)\" d=\"M4595.79 1423.18 L4595.79 1423.18 L4674.95 1423.18 L4674.95 1423.18 L4595.79 1423.18 L4595.79 1423.18  Z\" fill=\"#009af9\" fill-rule=\"evenodd\" fill-opacity=\"1\"/>\n",
       "<polyline clip-path=\"url(#clip622)\" style=\"stroke:#000000; stroke-linecap:round; stroke-linejoin:round; stroke-width:4; stroke-opacity:1; fill:none\" points=\"4595.79,1423.18 4595.79,1423.18 4674.95,1423.18 4595.79,1423.18 \"/>\n",
       "<path clip-path=\"url(#clip622)\" d=\"M4674.95 1423.18 L4674.95 1423.18 L4754.1 1423.18 L4754.1 1423.18 L4674.95 1423.18 L4674.95 1423.18  Z\" fill=\"#009af9\" fill-rule=\"evenodd\" fill-opacity=\"1\"/>\n",
       "<polyline clip-path=\"url(#clip622)\" style=\"stroke:#000000; stroke-linecap:round; stroke-linejoin:round; stroke-width:4; stroke-opacity:1; fill:none\" points=\"4674.95,1423.18 4674.95,1423.18 4754.1,1423.18 4674.95,1423.18 \"/>\n",
       "<path clip-path=\"url(#clip622)\" d=\"M4754.1 1423.18 L4754.1 1423.18 L4833.26 1423.18 L4833.26 1423.18 L4754.1 1423.18 L4754.1 1423.18  Z\" fill=\"#009af9\" fill-rule=\"evenodd\" fill-opacity=\"1\"/>\n",
       "<polyline clip-path=\"url(#clip622)\" style=\"stroke:#000000; stroke-linecap:round; stroke-linejoin:round; stroke-width:4; stroke-opacity:1; fill:none\" points=\"4754.1,1423.18 4754.1,1423.18 4833.26,1423.18 4754.1,1423.18 \"/>\n",
       "<path clip-path=\"url(#clip622)\" d=\"M4833.26 1423.18 L4833.26 1423.18 L4912.42 1423.18 L4912.42 1423.18 L4833.26 1423.18 L4833.26 1423.18  Z\" fill=\"#009af9\" fill-rule=\"evenodd\" fill-opacity=\"1\"/>\n",
       "<polyline clip-path=\"url(#clip622)\" style=\"stroke:#000000; stroke-linecap:round; stroke-linejoin:round; stroke-width:4; stroke-opacity:1; fill:none\" points=\"4833.26,1423.18 4833.26,1423.18 4912.42,1423.18 4833.26,1423.18 \"/>\n",
       "<path clip-path=\"url(#clip622)\" d=\"M4912.42 1409.28 L4912.42 1423.18 L4991.57 1423.18 L4991.57 1409.28 L4912.42 1409.28 L4912.42 1409.28  Z\" fill=\"#009af9\" fill-rule=\"evenodd\" fill-opacity=\"1\"/>\n",
       "<polyline clip-path=\"url(#clip622)\" style=\"stroke:#000000; stroke-linecap:round; stroke-linejoin:round; stroke-width:4; stroke-opacity:1; fill:none\" points=\"4912.42,1409.28 4912.42,1423.18 4991.57,1423.18 4991.57,1409.28 4912.42,1409.28 \"/>\n",
       "<path clip-path=\"url(#clip622)\" d=\"M4991.57 1423.18 L4991.57 1423.18 L5070.73 1423.18 L5070.73 1423.18 L4991.57 1423.18 L4991.57 1423.18  Z\" fill=\"#009af9\" fill-rule=\"evenodd\" fill-opacity=\"1\"/>\n",
       "<polyline clip-path=\"url(#clip622)\" style=\"stroke:#000000; stroke-linecap:round; stroke-linejoin:round; stroke-width:4; stroke-opacity:1; fill:none\" points=\"4991.57,1423.18 4991.57,1423.18 5070.73,1423.18 4991.57,1423.18 \"/>\n",
       "<path clip-path=\"url(#clip622)\" d=\"M5070.73 1423.18 L5070.73 1423.18 L5149.88 1423.18 L5149.88 1423.18 L5070.73 1423.18 L5070.73 1423.18  Z\" fill=\"#009af9\" fill-rule=\"evenodd\" fill-opacity=\"1\"/>\n",
       "<polyline clip-path=\"url(#clip622)\" style=\"stroke:#000000; stroke-linecap:round; stroke-linejoin:round; stroke-width:4; stroke-opacity:1; fill:none\" points=\"5070.73,1423.18 5070.73,1423.18 5149.88,1423.18 5070.73,1423.18 \"/>\n",
       "<path clip-path=\"url(#clip622)\" d=\"M5149.88 1423.18 L5149.88 1423.18 L5229.04 1423.18 L5229.04 1423.18 L5149.88 1423.18 L5149.88 1423.18  Z\" fill=\"#009af9\" fill-rule=\"evenodd\" fill-opacity=\"1\"/>\n",
       "<polyline clip-path=\"url(#clip622)\" style=\"stroke:#000000; stroke-linecap:round; stroke-linejoin:round; stroke-width:4; stroke-opacity:1; fill:none\" points=\"5149.88,1423.18 5149.88,1423.18 5229.04,1423.18 5149.88,1423.18 \"/>\n",
       "<path clip-path=\"url(#clip622)\" d=\"M5229.04 1423.18 L5229.04 1423.18 L5308.19 1423.18 L5308.19 1423.18 L5229.04 1423.18 L5229.04 1423.18  Z\" fill=\"#009af9\" fill-rule=\"evenodd\" fill-opacity=\"1\"/>\n",
       "<polyline clip-path=\"url(#clip622)\" style=\"stroke:#000000; stroke-linecap:round; stroke-linejoin:round; stroke-width:4; stroke-opacity:1; fill:none\" points=\"5229.04,1423.18 5229.04,1423.18 5308.19,1423.18 5229.04,1423.18 \"/>\n",
       "<path clip-path=\"url(#clip622)\" d=\"M5308.19 1423.18 L5308.19 1423.18 L5387.35 1423.18 L5387.35 1423.18 L5308.19 1423.18 L5308.19 1423.18  Z\" fill=\"#009af9\" fill-rule=\"evenodd\" fill-opacity=\"1\"/>\n",
       "<polyline clip-path=\"url(#clip622)\" style=\"stroke:#000000; stroke-linecap:round; stroke-linejoin:round; stroke-width:4; stroke-opacity:1; fill:none\" points=\"5308.19,1423.18 5308.19,1423.18 5387.35,1423.18 5308.19,1423.18 \"/>\n",
       "<path clip-path=\"url(#clip622)\" d=\"M5387.35 1423.18 L5387.35 1423.18 L5466.5 1423.18 L5466.5 1423.18 L5387.35 1423.18 L5387.35 1423.18  Z\" fill=\"#009af9\" fill-rule=\"evenodd\" fill-opacity=\"1\"/>\n",
       "<polyline clip-path=\"url(#clip622)\" style=\"stroke:#000000; stroke-linecap:round; stroke-linejoin:round; stroke-width:4; stroke-opacity:1; fill:none\" points=\"5387.35,1423.18 5387.35,1423.18 5466.5,1423.18 5387.35,1423.18 \"/>\n",
       "<path clip-path=\"url(#clip622)\" d=\"M5466.5 1423.18 L5466.5 1423.18 L5545.66 1423.18 L5545.66 1423.18 L5466.5 1423.18 L5466.5 1423.18  Z\" fill=\"#009af9\" fill-rule=\"evenodd\" fill-opacity=\"1\"/>\n",
       "<polyline clip-path=\"url(#clip622)\" style=\"stroke:#000000; stroke-linecap:round; stroke-linejoin:round; stroke-width:4; stroke-opacity:1; fill:none\" points=\"5466.5,1423.18 5466.5,1423.18 5545.66,1423.18 5466.5,1423.18 \"/>\n",
       "<path clip-path=\"url(#clip622)\" d=\"M5545.66 1423.18 L5545.66 1423.18 L5624.81 1423.18 L5624.81 1423.18 L5545.66 1423.18 L5545.66 1423.18  Z\" fill=\"#009af9\" fill-rule=\"evenodd\" fill-opacity=\"1\"/>\n",
       "<polyline clip-path=\"url(#clip622)\" style=\"stroke:#000000; stroke-linecap:round; stroke-linejoin:round; stroke-width:4; stroke-opacity:1; fill:none\" points=\"5545.66,1423.18 5545.66,1423.18 5624.81,1423.18 5545.66,1423.18 \"/>\n",
       "<path clip-path=\"url(#clip622)\" d=\"M5624.81 1423.18 L5624.81 1423.18 L5703.97 1423.18 L5703.97 1423.18 L5624.81 1423.18 L5624.81 1423.18  Z\" fill=\"#009af9\" fill-rule=\"evenodd\" fill-opacity=\"1\"/>\n",
       "<polyline clip-path=\"url(#clip622)\" style=\"stroke:#000000; stroke-linecap:round; stroke-linejoin:round; stroke-width:4; stroke-opacity:1; fill:none\" points=\"5624.81,1423.18 5624.81,1423.18 5703.97,1423.18 5624.81,1423.18 \"/>\n",
       "<path clip-path=\"url(#clip622)\" d=\"M5703.97 1423.18 L5703.97 1423.18 L5783.13 1423.18 L5783.13 1423.18 L5703.97 1423.18 L5703.97 1423.18  Z\" fill=\"#009af9\" fill-rule=\"evenodd\" fill-opacity=\"1\"/>\n",
       "<polyline clip-path=\"url(#clip622)\" style=\"stroke:#000000; stroke-linecap:round; stroke-linejoin:round; stroke-width:4; stroke-opacity:1; fill:none\" points=\"5703.97,1423.18 5703.97,1423.18 5783.13,1423.18 5703.97,1423.18 \"/>\n",
       "<path clip-path=\"url(#clip622)\" d=\"M5783.13 1423.18 L5783.13 1423.18 L5862.28 1423.18 L5862.28 1423.18 L5783.13 1423.18 L5783.13 1423.18  Z\" fill=\"#009af9\" fill-rule=\"evenodd\" fill-opacity=\"1\"/>\n",
       "<polyline clip-path=\"url(#clip622)\" style=\"stroke:#000000; stroke-linecap:round; stroke-linejoin:round; stroke-width:4; stroke-opacity:1; fill:none\" points=\"5783.13,1423.18 5783.13,1423.18 5862.28,1423.18 5783.13,1423.18 \"/>\n",
       "<path clip-path=\"url(#clip622)\" d=\"M5862.28 1423.18 L5862.28 1423.18 L5941.44 1423.18 L5941.44 1423.18 L5862.28 1423.18 L5862.28 1423.18  Z\" fill=\"#009af9\" fill-rule=\"evenodd\" fill-opacity=\"1\"/>\n",
       "<polyline clip-path=\"url(#clip622)\" style=\"stroke:#000000; stroke-linecap:round; stroke-linejoin:round; stroke-width:4; stroke-opacity:1; fill:none\" points=\"5862.28,1423.18 5862.28,1423.18 5941.44,1423.18 5862.28,1423.18 \"/>\n",
       "<path clip-path=\"url(#clip622)\" d=\"M5941.44 1423.18 L5941.44 1423.18 L6020.59 1423.18 L6020.59 1423.18 L5941.44 1423.18 L5941.44 1423.18  Z\" fill=\"#009af9\" fill-rule=\"evenodd\" fill-opacity=\"1\"/>\n",
       "<polyline clip-path=\"url(#clip622)\" style=\"stroke:#000000; stroke-linecap:round; stroke-linejoin:round; stroke-width:4; stroke-opacity:1; fill:none\" points=\"5941.44,1423.18 5941.44,1423.18 6020.59,1423.18 5941.44,1423.18 \"/>\n",
       "<path clip-path=\"url(#clip622)\" d=\"M6020.59 1423.18 L6020.59 1423.18 L6099.75 1423.18 L6099.75 1423.18 L6020.59 1423.18 L6020.59 1423.18  Z\" fill=\"#009af9\" fill-rule=\"evenodd\" fill-opacity=\"1\"/>\n",
       "<polyline clip-path=\"url(#clip622)\" style=\"stroke:#000000; stroke-linecap:round; stroke-linejoin:round; stroke-width:4; stroke-opacity:1; fill:none\" points=\"6020.59,1423.18 6020.59,1423.18 6099.75,1423.18 6020.59,1423.18 \"/>\n",
       "<path clip-path=\"url(#clip622)\" d=\"M6099.75 1423.18 L6099.75 1423.18 L6178.9 1423.18 L6178.9 1423.18 L6099.75 1423.18 L6099.75 1423.18  Z\" fill=\"#009af9\" fill-rule=\"evenodd\" fill-opacity=\"1\"/>\n",
       "<polyline clip-path=\"url(#clip622)\" style=\"stroke:#000000; stroke-linecap:round; stroke-linejoin:round; stroke-width:4; stroke-opacity:1; fill:none\" points=\"6099.75,1423.18 6099.75,1423.18 6178.9,1423.18 6099.75,1423.18 \"/>\n",
       "<path clip-path=\"url(#clip622)\" d=\"M6178.9 1423.18 L6178.9 1423.18 L6258.06 1423.18 L6258.06 1423.18 L6178.9 1423.18 L6178.9 1423.18  Z\" fill=\"#009af9\" fill-rule=\"evenodd\" fill-opacity=\"1\"/>\n",
       "<polyline clip-path=\"url(#clip622)\" style=\"stroke:#000000; stroke-linecap:round; stroke-linejoin:round; stroke-width:4; stroke-opacity:1; fill:none\" points=\"6178.9,1423.18 6178.9,1423.18 6258.06,1423.18 6178.9,1423.18 \"/>\n",
       "<path clip-path=\"url(#clip622)\" d=\"M6258.06 1423.18 L6258.06 1423.18 L6337.21 1423.18 L6337.21 1423.18 L6258.06 1423.18 L6258.06 1423.18  Z\" fill=\"#009af9\" fill-rule=\"evenodd\" fill-opacity=\"1\"/>\n",
       "<polyline clip-path=\"url(#clip622)\" style=\"stroke:#000000; stroke-linecap:round; stroke-linejoin:round; stroke-width:4; stroke-opacity:1; fill:none\" points=\"6258.06,1423.18 6258.06,1423.18 6337.21,1423.18 6258.06,1423.18 \"/>\n",
       "<path clip-path=\"url(#clip622)\" d=\"M6337.21 1423.18 L6337.21 1423.18 L6416.37 1423.18 L6416.37 1423.18 L6337.21 1423.18 L6337.21 1423.18  Z\" fill=\"#009af9\" fill-rule=\"evenodd\" fill-opacity=\"1\"/>\n",
       "<polyline clip-path=\"url(#clip622)\" style=\"stroke:#000000; stroke-linecap:round; stroke-linejoin:round; stroke-width:4; stroke-opacity:1; fill:none\" points=\"6337.21,1423.18 6337.21,1423.18 6416.37,1423.18 6337.21,1423.18 \"/>\n",
       "<path clip-path=\"url(#clip622)\" d=\"M6416.37 1423.18 L6416.37 1423.18 L6495.52 1423.18 L6495.52 1423.18 L6416.37 1423.18 L6416.37 1423.18  Z\" fill=\"#009af9\" fill-rule=\"evenodd\" fill-opacity=\"1\"/>\n",
       "<polyline clip-path=\"url(#clip622)\" style=\"stroke:#000000; stroke-linecap:round; stroke-linejoin:round; stroke-width:4; stroke-opacity:1; fill:none\" points=\"6416.37,1423.18 6416.37,1423.18 6495.52,1423.18 6416.37,1423.18 \"/>\n",
       "<path clip-path=\"url(#clip622)\" d=\"M6495.52 1423.18 L6495.52 1423.18 L6574.68 1423.18 L6574.68 1423.18 L6495.52 1423.18 L6495.52 1423.18  Z\" fill=\"#009af9\" fill-rule=\"evenodd\" fill-opacity=\"1\"/>\n",
       "<polyline clip-path=\"url(#clip622)\" style=\"stroke:#000000; stroke-linecap:round; stroke-linejoin:round; stroke-width:4; stroke-opacity:1; fill:none\" points=\"6495.52,1423.18 6495.52,1423.18 6574.68,1423.18 6495.52,1423.18 \"/>\n",
       "<path clip-path=\"url(#clip622)\" d=\"M6574.68 1423.18 L6574.68 1423.18 L6653.84 1423.18 L6653.84 1423.18 L6574.68 1423.18 L6574.68 1423.18  Z\" fill=\"#009af9\" fill-rule=\"evenodd\" fill-opacity=\"1\"/>\n",
       "<polyline clip-path=\"url(#clip622)\" style=\"stroke:#000000; stroke-linecap:round; stroke-linejoin:round; stroke-width:4; stroke-opacity:1; fill:none\" points=\"6574.68,1423.18 6574.68,1423.18 6653.84,1423.18 6574.68,1423.18 \"/>\n",
       "<path clip-path=\"url(#clip622)\" d=\"M6653.84 1423.18 L6653.84 1423.18 L6732.99 1423.18 L6732.99 1423.18 L6653.84 1423.18 L6653.84 1423.18  Z\" fill=\"#009af9\" fill-rule=\"evenodd\" fill-opacity=\"1\"/>\n",
       "<polyline clip-path=\"url(#clip622)\" style=\"stroke:#000000; stroke-linecap:round; stroke-linejoin:round; stroke-width:4; stroke-opacity:1; fill:none\" points=\"6653.84,1423.18 6653.84,1423.18 6732.99,1423.18 6653.84,1423.18 \"/>\n",
       "<path clip-path=\"url(#clip622)\" d=\"M6732.99 1423.18 L6732.99 1423.18 L6812.15 1423.18 L6812.15 1423.18 L6732.99 1423.18 L6732.99 1423.18  Z\" fill=\"#009af9\" fill-rule=\"evenodd\" fill-opacity=\"1\"/>\n",
       "<polyline clip-path=\"url(#clip622)\" style=\"stroke:#000000; stroke-linecap:round; stroke-linejoin:round; stroke-width:4; stroke-opacity:1; fill:none\" points=\"6732.99,1423.18 6732.99,1423.18 6812.15,1423.18 6732.99,1423.18 \"/>\n",
       "<path clip-path=\"url(#clip622)\" d=\"M6812.15 1423.18 L6812.15 1423.18 L6891.3 1423.18 L6891.3 1423.18 L6812.15 1423.18 L6812.15 1423.18  Z\" fill=\"#009af9\" fill-rule=\"evenodd\" fill-opacity=\"1\"/>\n",
       "<polyline clip-path=\"url(#clip622)\" style=\"stroke:#000000; stroke-linecap:round; stroke-linejoin:round; stroke-width:4; stroke-opacity:1; fill:none\" points=\"6812.15,1423.18 6812.15,1423.18 6891.3,1423.18 6812.15,1423.18 \"/>\n",
       "<path clip-path=\"url(#clip622)\" d=\"M6891.3 1423.18 L6891.3 1423.18 L6970.46 1423.18 L6970.46 1423.18 L6891.3 1423.18 L6891.3 1423.18  Z\" fill=\"#009af9\" fill-rule=\"evenodd\" fill-opacity=\"1\"/>\n",
       "<polyline clip-path=\"url(#clip622)\" style=\"stroke:#000000; stroke-linecap:round; stroke-linejoin:round; stroke-width:4; stroke-opacity:1; fill:none\" points=\"6891.3,1423.18 6891.3,1423.18 6970.46,1423.18 6891.3,1423.18 \"/>\n",
       "<path clip-path=\"url(#clip622)\" d=\"M6970.46 1423.18 L6970.46 1423.18 L7049.61 1423.18 L7049.61 1423.18 L6970.46 1423.18 L6970.46 1423.18  Z\" fill=\"#009af9\" fill-rule=\"evenodd\" fill-opacity=\"1\"/>\n",
       "<polyline clip-path=\"url(#clip622)\" style=\"stroke:#000000; stroke-linecap:round; stroke-linejoin:round; stroke-width:4; stroke-opacity:1; fill:none\" points=\"6970.46,1423.18 6970.46,1423.18 7049.61,1423.18 6970.46,1423.18 \"/>\n",
       "<path clip-path=\"url(#clip622)\" d=\"M7049.61 1423.18 L7049.61 1423.18 L7128.77 1423.18 L7128.77 1423.18 L7049.61 1423.18 L7049.61 1423.18  Z\" fill=\"#009af9\" fill-rule=\"evenodd\" fill-opacity=\"1\"/>\n",
       "<polyline clip-path=\"url(#clip622)\" style=\"stroke:#000000; stroke-linecap:round; stroke-linejoin:round; stroke-width:4; stroke-opacity:1; fill:none\" points=\"7049.61,1423.18 7049.61,1423.18 7128.77,1423.18 7049.61,1423.18 \"/>\n",
       "<path clip-path=\"url(#clip622)\" d=\"M7128.77 1423.18 L7128.77 1423.18 L7207.92 1423.18 L7207.92 1423.18 L7128.77 1423.18 L7128.77 1423.18  Z\" fill=\"#009af9\" fill-rule=\"evenodd\" fill-opacity=\"1\"/>\n",
       "<polyline clip-path=\"url(#clip622)\" style=\"stroke:#000000; stroke-linecap:round; stroke-linejoin:round; stroke-width:4; stroke-opacity:1; fill:none\" points=\"7128.77,1423.18 7128.77,1423.18 7207.92,1423.18 7128.77,1423.18 \"/>\n",
       "<path clip-path=\"url(#clip622)\" d=\"M7207.92 1423.18 L7207.92 1423.18 L7287.08 1423.18 L7287.08 1423.18 L7207.92 1423.18 L7207.92 1423.18  Z\" fill=\"#009af9\" fill-rule=\"evenodd\" fill-opacity=\"1\"/>\n",
       "<polyline clip-path=\"url(#clip622)\" style=\"stroke:#000000; stroke-linecap:round; stroke-linejoin:round; stroke-width:4; stroke-opacity:1; fill:none\" points=\"7207.92,1423.18 7207.92,1423.18 7287.08,1423.18 7207.92,1423.18 \"/>\n",
       "<path clip-path=\"url(#clip622)\" d=\"M7287.08 1423.18 L7287.08 1423.18 L7366.23 1423.18 L7366.23 1423.18 L7287.08 1423.18 L7287.08 1423.18  Z\" fill=\"#009af9\" fill-rule=\"evenodd\" fill-opacity=\"1\"/>\n",
       "<polyline clip-path=\"url(#clip622)\" style=\"stroke:#000000; stroke-linecap:round; stroke-linejoin:round; stroke-width:4; stroke-opacity:1; fill:none\" points=\"7287.08,1423.18 7287.08,1423.18 7366.23,1423.18 7287.08,1423.18 \"/>\n",
       "<path clip-path=\"url(#clip622)\" d=\"M7366.23 1423.18 L7366.23 1423.18 L7445.39 1423.18 L7445.39 1423.18 L7366.23 1423.18 L7366.23 1423.18  Z\" fill=\"#009af9\" fill-rule=\"evenodd\" fill-opacity=\"1\"/>\n",
       "<polyline clip-path=\"url(#clip622)\" style=\"stroke:#000000; stroke-linecap:round; stroke-linejoin:round; stroke-width:4; stroke-opacity:1; fill:none\" points=\"7366.23,1423.18 7366.23,1423.18 7445.39,1423.18 7366.23,1423.18 \"/>\n",
       "<path clip-path=\"url(#clip622)\" d=\"M7445.39 1423.18 L7445.39 1423.18 L7524.55 1423.18 L7524.55 1423.18 L7445.39 1423.18 L7445.39 1423.18  Z\" fill=\"#009af9\" fill-rule=\"evenodd\" fill-opacity=\"1\"/>\n",
       "<polyline clip-path=\"url(#clip622)\" style=\"stroke:#000000; stroke-linecap:round; stroke-linejoin:round; stroke-width:4; stroke-opacity:1; fill:none\" points=\"7445.39,1423.18 7445.39,1423.18 7524.55,1423.18 7445.39,1423.18 \"/>\n",
       "<path clip-path=\"url(#clip622)\" d=\"M7524.55 1423.18 L7524.55 1423.18 L7603.7 1423.18 L7603.7 1423.18 L7524.55 1423.18 L7524.55 1423.18  Z\" fill=\"#009af9\" fill-rule=\"evenodd\" fill-opacity=\"1\"/>\n",
       "<polyline clip-path=\"url(#clip622)\" style=\"stroke:#000000; stroke-linecap:round; stroke-linejoin:round; stroke-width:4; stroke-opacity:1; fill:none\" points=\"7524.55,1423.18 7524.55,1423.18 7603.7,1423.18 7524.55,1423.18 \"/>\n",
       "<path clip-path=\"url(#clip622)\" d=\"M7603.7 1423.18 L7603.7 1423.18 L7682.86 1423.18 L7682.86 1423.18 L7603.7 1423.18 L7603.7 1423.18  Z\" fill=\"#009af9\" fill-rule=\"evenodd\" fill-opacity=\"1\"/>\n",
       "<polyline clip-path=\"url(#clip622)\" style=\"stroke:#000000; stroke-linecap:round; stroke-linejoin:round; stroke-width:4; stroke-opacity:1; fill:none\" points=\"7603.7,1423.18 7603.7,1423.18 7682.86,1423.18 7603.7,1423.18 \"/>\n",
       "<path clip-path=\"url(#clip622)\" d=\"M7682.86 1423.18 L7682.86 1423.18 L7762.01 1423.18 L7762.01 1423.18 L7682.86 1423.18 L7682.86 1423.18  Z\" fill=\"#009af9\" fill-rule=\"evenodd\" fill-opacity=\"1\"/>\n",
       "<polyline clip-path=\"url(#clip622)\" style=\"stroke:#000000; stroke-linecap:round; stroke-linejoin:round; stroke-width:4; stroke-opacity:1; fill:none\" points=\"7682.86,1423.18 7682.86,1423.18 7762.01,1423.18 7682.86,1423.18 \"/>\n",
       "<path clip-path=\"url(#clip622)\" d=\"M7762.01 1423.18 L7762.01 1423.18 L7841.17 1423.18 L7841.17 1423.18 L7762.01 1423.18 L7762.01 1423.18  Z\" fill=\"#009af9\" fill-rule=\"evenodd\" fill-opacity=\"1\"/>\n",
       "<polyline clip-path=\"url(#clip622)\" style=\"stroke:#000000; stroke-linecap:round; stroke-linejoin:round; stroke-width:4; stroke-opacity:1; fill:none\" points=\"7762.01,1423.18 7762.01,1423.18 7841.17,1423.18 7762.01,1423.18 \"/>\n",
       "<path clip-path=\"url(#clip622)\" d=\"M7841.17 1423.18 L7841.17 1423.18 L7920.32 1423.18 L7920.32 1423.18 L7841.17 1423.18 L7841.17 1423.18  Z\" fill=\"#009af9\" fill-rule=\"evenodd\" fill-opacity=\"1\"/>\n",
       "<polyline clip-path=\"url(#clip622)\" style=\"stroke:#000000; stroke-linecap:round; stroke-linejoin:round; stroke-width:4; stroke-opacity:1; fill:none\" points=\"7841.17,1423.18 7841.17,1423.18 7920.32,1423.18 7841.17,1423.18 \"/>\n",
       "<path clip-path=\"url(#clip622)\" d=\"M7920.32 1423.18 L7920.32 1423.18 L7999.48 1423.18 L7999.48 1423.18 L7920.32 1423.18 L7920.32 1423.18  Z\" fill=\"#009af9\" fill-rule=\"evenodd\" fill-opacity=\"1\"/>\n",
       "<polyline clip-path=\"url(#clip622)\" style=\"stroke:#000000; stroke-linecap:round; stroke-linejoin:round; stroke-width:4; stroke-opacity:1; fill:none\" points=\"7920.32,1423.18 7920.32,1423.18 7999.48,1423.18 7920.32,1423.18 \"/>\n",
       "<path clip-path=\"url(#clip622)\" d=\"M7999.48 1423.18 L7999.48 1423.18 L8078.63 1423.18 L8078.63 1423.18 L7999.48 1423.18 L7999.48 1423.18  Z\" fill=\"#009af9\" fill-rule=\"evenodd\" fill-opacity=\"1\"/>\n",
       "<polyline clip-path=\"url(#clip622)\" style=\"stroke:#000000; stroke-linecap:round; stroke-linejoin:round; stroke-width:4; stroke-opacity:1; fill:none\" points=\"7999.48,1423.18 7999.48,1423.18 8078.63,1423.18 7999.48,1423.18 \"/>\n",
       "<path clip-path=\"url(#clip622)\" d=\"M8078.63 1423.18 L8078.63 1423.18 L8157.79 1423.18 L8157.79 1423.18 L8078.63 1423.18 L8078.63 1423.18  Z\" fill=\"#009af9\" fill-rule=\"evenodd\" fill-opacity=\"1\"/>\n",
       "<polyline clip-path=\"url(#clip622)\" style=\"stroke:#000000; stroke-linecap:round; stroke-linejoin:round; stroke-width:4; stroke-opacity:1; fill:none\" points=\"8078.63,1423.18 8078.63,1423.18 8157.79,1423.18 8078.63,1423.18 \"/>\n",
       "<path clip-path=\"url(#clip622)\" d=\"M8157.79 1423.18 L8157.79 1423.18 L8236.94 1423.18 L8236.94 1423.18 L8157.79 1423.18 L8157.79 1423.18  Z\" fill=\"#009af9\" fill-rule=\"evenodd\" fill-opacity=\"1\"/>\n",
       "<polyline clip-path=\"url(#clip622)\" style=\"stroke:#000000; stroke-linecap:round; stroke-linejoin:round; stroke-width:4; stroke-opacity:1; fill:none\" points=\"8157.79,1423.18 8157.79,1423.18 8236.94,1423.18 8157.79,1423.18 \"/>\n",
       "<path clip-path=\"url(#clip622)\" d=\"M8236.94 1423.18 L8236.94 1423.18 L8316.1 1423.18 L8316.1 1423.18 L8236.94 1423.18 L8236.94 1423.18  Z\" fill=\"#009af9\" fill-rule=\"evenodd\" fill-opacity=\"1\"/>\n",
       "<polyline clip-path=\"url(#clip622)\" style=\"stroke:#000000; stroke-linecap:round; stroke-linejoin:round; stroke-width:4; stroke-opacity:1; fill:none\" points=\"8236.94,1423.18 8236.94,1423.18 8316.1,1423.18 8236.94,1423.18 \"/>\n",
       "<path clip-path=\"url(#clip622)\" d=\"M8316.1 1423.18 L8316.1 1423.18 L8395.26 1423.18 L8395.26 1423.18 L8316.1 1423.18 L8316.1 1423.18  Z\" fill=\"#009af9\" fill-rule=\"evenodd\" fill-opacity=\"1\"/>\n",
       "<polyline clip-path=\"url(#clip622)\" style=\"stroke:#000000; stroke-linecap:round; stroke-linejoin:round; stroke-width:4; stroke-opacity:1; fill:none\" points=\"8316.1,1423.18 8316.1,1423.18 8395.26,1423.18 8316.1,1423.18 \"/>\n",
       "<path clip-path=\"url(#clip622)\" d=\"M8395.26 1423.18 L8395.26 1423.18 L8474.41 1423.18 L8474.41 1423.18 L8395.26 1423.18 L8395.26 1423.18  Z\" fill=\"#009af9\" fill-rule=\"evenodd\" fill-opacity=\"1\"/>\n",
       "<polyline clip-path=\"url(#clip622)\" style=\"stroke:#000000; stroke-linecap:round; stroke-linejoin:round; stroke-width:4; stroke-opacity:1; fill:none\" points=\"8395.26,1423.18 8395.26,1423.18 8474.41,1423.18 8395.26,1423.18 \"/>\n",
       "<path clip-path=\"url(#clip622)\" d=\"M8474.41 1423.18 L8474.41 1423.18 L8553.57 1423.18 L8553.57 1423.18 L8474.41 1423.18 L8474.41 1423.18  Z\" fill=\"#009af9\" fill-rule=\"evenodd\" fill-opacity=\"1\"/>\n",
       "<polyline clip-path=\"url(#clip622)\" style=\"stroke:#000000; stroke-linecap:round; stroke-linejoin:round; stroke-width:4; stroke-opacity:1; fill:none\" points=\"8474.41,1423.18 8474.41,1423.18 8553.57,1423.18 8474.41,1423.18 \"/>\n",
       "<path clip-path=\"url(#clip622)\" d=\"M8553.57 1423.18 L8553.57 1423.18 L8632.72 1423.18 L8632.72 1423.18 L8553.57 1423.18 L8553.57 1423.18  Z\" fill=\"#009af9\" fill-rule=\"evenodd\" fill-opacity=\"1\"/>\n",
       "<polyline clip-path=\"url(#clip622)\" style=\"stroke:#000000; stroke-linecap:round; stroke-linejoin:round; stroke-width:4; stroke-opacity:1; fill:none\" points=\"8553.57,1423.18 8553.57,1423.18 8632.72,1423.18 8553.57,1423.18 \"/>\n",
       "<path clip-path=\"url(#clip622)\" d=\"M8632.72 1423.18 L8632.72 1423.18 L8711.88 1423.18 L8711.88 1423.18 L8632.72 1423.18 L8632.72 1423.18  Z\" fill=\"#009af9\" fill-rule=\"evenodd\" fill-opacity=\"1\"/>\n",
       "<polyline clip-path=\"url(#clip622)\" style=\"stroke:#000000; stroke-linecap:round; stroke-linejoin:round; stroke-width:4; stroke-opacity:1; fill:none\" points=\"8632.72,1423.18 8632.72,1423.18 8711.88,1423.18 8632.72,1423.18 \"/>\n",
       "<path clip-path=\"url(#clip622)\" d=\"M8711.88 1423.18 L8711.88 1423.18 L8791.03 1423.18 L8791.03 1423.18 L8711.88 1423.18 L8711.88 1423.18  Z\" fill=\"#009af9\" fill-rule=\"evenodd\" fill-opacity=\"1\"/>\n",
       "<polyline clip-path=\"url(#clip622)\" style=\"stroke:#000000; stroke-linecap:round; stroke-linejoin:round; stroke-width:4; stroke-opacity:1; fill:none\" points=\"8711.88,1423.18 8711.88,1423.18 8791.03,1423.18 8711.88,1423.18 \"/>\n",
       "<path clip-path=\"url(#clip622)\" d=\"M8791.03 1423.18 L8791.03 1423.18 L8870.19 1423.18 L8870.19 1423.18 L8791.03 1423.18 L8791.03 1423.18  Z\" fill=\"#009af9\" fill-rule=\"evenodd\" fill-opacity=\"1\"/>\n",
       "<polyline clip-path=\"url(#clip622)\" style=\"stroke:#000000; stroke-linecap:round; stroke-linejoin:round; stroke-width:4; stroke-opacity:1; fill:none\" points=\"8791.03,1423.18 8791.03,1423.18 8870.19,1423.18 8791.03,1423.18 \"/>\n",
       "<path clip-path=\"url(#clip622)\" d=\"M8870.19 1423.18 L8870.19 1423.18 L8949.34 1423.18 L8949.34 1423.18 L8870.19 1423.18 L8870.19 1423.18  Z\" fill=\"#009af9\" fill-rule=\"evenodd\" fill-opacity=\"1\"/>\n",
       "<polyline clip-path=\"url(#clip622)\" style=\"stroke:#000000; stroke-linecap:round; stroke-linejoin:round; stroke-width:4; stroke-opacity:1; fill:none\" points=\"8870.19,1423.18 8870.19,1423.18 8949.34,1423.18 8870.19,1423.18 \"/>\n",
       "<path clip-path=\"url(#clip622)\" d=\"M8949.34 1423.18 L8949.34 1423.18 L9028.5 1423.18 L9028.5 1423.18 L8949.34 1423.18 L8949.34 1423.18  Z\" fill=\"#009af9\" fill-rule=\"evenodd\" fill-opacity=\"1\"/>\n",
       "<polyline clip-path=\"url(#clip622)\" style=\"stroke:#000000; stroke-linecap:round; stroke-linejoin:round; stroke-width:4; stroke-opacity:1; fill:none\" points=\"8949.34,1423.18 8949.34,1423.18 9028.5,1423.18 8949.34,1423.18 \"/>\n",
       "<path clip-path=\"url(#clip622)\" d=\"M9028.5 1423.18 L9028.5 1423.18 L9107.65 1423.18 L9107.65 1423.18 L9028.5 1423.18 L9028.5 1423.18  Z\" fill=\"#009af9\" fill-rule=\"evenodd\" fill-opacity=\"1\"/>\n",
       "<polyline clip-path=\"url(#clip622)\" style=\"stroke:#000000; stroke-linecap:round; stroke-linejoin:round; stroke-width:4; stroke-opacity:1; fill:none\" points=\"9028.5,1423.18 9028.5,1423.18 9107.65,1423.18 9028.5,1423.18 \"/>\n",
       "<path clip-path=\"url(#clip622)\" d=\"M9107.65 1423.18 L9107.65 1423.18 L9186.81 1423.18 L9186.81 1423.18 L9107.65 1423.18 L9107.65 1423.18  Z\" fill=\"#009af9\" fill-rule=\"evenodd\" fill-opacity=\"1\"/>\n",
       "<polyline clip-path=\"url(#clip622)\" style=\"stroke:#000000; stroke-linecap:round; stroke-linejoin:round; stroke-width:4; stroke-opacity:1; fill:none\" points=\"9107.65,1423.18 9107.65,1423.18 9186.81,1423.18 9107.65,1423.18 \"/>\n",
       "<path clip-path=\"url(#clip622)\" d=\"M9186.81 1423.18 L9186.81 1423.18 L9265.96 1423.18 L9265.96 1423.18 L9186.81 1423.18 L9186.81 1423.18  Z\" fill=\"#009af9\" fill-rule=\"evenodd\" fill-opacity=\"1\"/>\n",
       "<polyline clip-path=\"url(#clip622)\" style=\"stroke:#000000; stroke-linecap:round; stroke-linejoin:round; stroke-width:4; stroke-opacity:1; fill:none\" points=\"9186.81,1423.18 9186.81,1423.18 9265.96,1423.18 9186.81,1423.18 \"/>\n",
       "<path clip-path=\"url(#clip622)\" d=\"M9265.96 1423.18 L9265.96 1423.18 L9345.12 1423.18 L9345.12 1423.18 L9265.96 1423.18 L9265.96 1423.18  Z\" fill=\"#009af9\" fill-rule=\"evenodd\" fill-opacity=\"1\"/>\n",
       "<polyline clip-path=\"url(#clip622)\" style=\"stroke:#000000; stroke-linecap:round; stroke-linejoin:round; stroke-width:4; stroke-opacity:1; fill:none\" points=\"9265.96,1423.18 9265.96,1423.18 9345.12,1423.18 9265.96,1423.18 \"/>\n",
       "<path clip-path=\"url(#clip622)\" d=\"M9345.12 1423.18 L9345.12 1423.18 L9424.28 1423.18 L9424.28 1423.18 L9345.12 1423.18 L9345.12 1423.18  Z\" fill=\"#009af9\" fill-rule=\"evenodd\" fill-opacity=\"1\"/>\n",
       "<polyline clip-path=\"url(#clip622)\" style=\"stroke:#000000; stroke-linecap:round; stroke-linejoin:round; stroke-width:4; stroke-opacity:1; fill:none\" points=\"9345.12,1423.18 9345.12,1423.18 9424.28,1423.18 9345.12,1423.18 \"/>\n",
       "<path clip-path=\"url(#clip622)\" d=\"M9424.28 1423.18 L9424.28 1423.18 L9503.43 1423.18 L9503.43 1423.18 L9424.28 1423.18 L9424.28 1423.18  Z\" fill=\"#009af9\" fill-rule=\"evenodd\" fill-opacity=\"1\"/>\n",
       "<polyline clip-path=\"url(#clip622)\" style=\"stroke:#000000; stroke-linecap:round; stroke-linejoin:round; stroke-width:4; stroke-opacity:1; fill:none\" points=\"9424.28,1423.18 9424.28,1423.18 9503.43,1423.18 9424.28,1423.18 \"/>\n",
       "<path clip-path=\"url(#clip622)\" d=\"M9503.43 1423.18 L9503.43 1423.18 L9582.59 1423.18 L9582.59 1423.18 L9503.43 1423.18 L9503.43 1423.18  Z\" fill=\"#009af9\" fill-rule=\"evenodd\" fill-opacity=\"1\"/>\n",
       "<polyline clip-path=\"url(#clip622)\" style=\"stroke:#000000; stroke-linecap:round; stroke-linejoin:round; stroke-width:4; stroke-opacity:1; fill:none\" points=\"9503.43,1423.18 9503.43,1423.18 9582.59,1423.18 9503.43,1423.18 \"/>\n",
       "<path clip-path=\"url(#clip622)\" d=\"M9582.59 1423.18 L9582.59 1423.18 L9661.74 1423.18 L9661.74 1423.18 L9582.59 1423.18 L9582.59 1423.18  Z\" fill=\"#009af9\" fill-rule=\"evenodd\" fill-opacity=\"1\"/>\n",
       "<polyline clip-path=\"url(#clip622)\" style=\"stroke:#000000; stroke-linecap:round; stroke-linejoin:round; stroke-width:4; stroke-opacity:1; fill:none\" points=\"9582.59,1423.18 9582.59,1423.18 9661.74,1423.18 9582.59,1423.18 \"/>\n",
       "<path clip-path=\"url(#clip622)\" d=\"M9661.74 1423.18 L9661.74 1423.18 L9740.9 1423.18 L9740.9 1423.18 L9661.74 1423.18 L9661.74 1423.18  Z\" fill=\"#009af9\" fill-rule=\"evenodd\" fill-opacity=\"1\"/>\n",
       "<polyline clip-path=\"url(#clip622)\" style=\"stroke:#000000; stroke-linecap:round; stroke-linejoin:round; stroke-width:4; stroke-opacity:1; fill:none\" points=\"9661.74,1423.18 9661.74,1423.18 9740.9,1423.18 9661.74,1423.18 \"/>\n",
       "<path clip-path=\"url(#clip622)\" d=\"M9740.9 1423.18 L9740.9 1423.18 L9820.05 1423.18 L9820.05 1423.18 L9740.9 1423.18 L9740.9 1423.18  Z\" fill=\"#009af9\" fill-rule=\"evenodd\" fill-opacity=\"1\"/>\n",
       "<polyline clip-path=\"url(#clip622)\" style=\"stroke:#000000; stroke-linecap:round; stroke-linejoin:round; stroke-width:4; stroke-opacity:1; fill:none\" points=\"9740.9,1423.18 9740.9,1423.18 9820.05,1423.18 9740.9,1423.18 \"/>\n",
       "<path clip-path=\"url(#clip622)\" d=\"M9820.05 1423.18 L9820.05 1423.18 L9899.21 1423.18 L9899.21 1423.18 L9820.05 1423.18 L9820.05 1423.18  Z\" fill=\"#009af9\" fill-rule=\"evenodd\" fill-opacity=\"1\"/>\n",
       "<polyline clip-path=\"url(#clip622)\" style=\"stroke:#000000; stroke-linecap:round; stroke-linejoin:round; stroke-width:4; stroke-opacity:1; fill:none\" points=\"9820.05,1423.18 9820.05,1423.18 9899.21,1423.18 9820.05,1423.18 \"/>\n",
       "<path clip-path=\"url(#clip622)\" d=\"M9899.21 1423.18 L9899.21 1423.18 L9978.36 1423.18 L9978.36 1423.18 L9899.21 1423.18 L9899.21 1423.18  Z\" fill=\"#009af9\" fill-rule=\"evenodd\" fill-opacity=\"1\"/>\n",
       "<polyline clip-path=\"url(#clip622)\" style=\"stroke:#000000; stroke-linecap:round; stroke-linejoin:round; stroke-width:4; stroke-opacity:1; fill:none\" points=\"9899.21,1423.18 9899.21,1423.18 9978.36,1423.18 9899.21,1423.18 \"/>\n",
       "<path clip-path=\"url(#clip622)\" d=\"M9978.36 1423.18 L9978.36 1423.18 L10057.5 1423.18 L10057.5 1423.18 L9978.36 1423.18 L9978.36 1423.18  Z\" fill=\"#009af9\" fill-rule=\"evenodd\" fill-opacity=\"1\"/>\n",
       "<polyline clip-path=\"url(#clip622)\" style=\"stroke:#000000; stroke-linecap:round; stroke-linejoin:round; stroke-width:4; stroke-opacity:1; fill:none\" points=\"9978.36,1423.18 9978.36,1423.18 10057.5,1423.18 9978.36,1423.18 \"/>\n",
       "<path clip-path=\"url(#clip622)\" d=\"M10057.5 1423.18 L10057.5 1423.18 L10136.7 1423.18 L10136.7 1423.18 L10057.5 1423.18 L10057.5 1423.18  Z\" fill=\"#009af9\" fill-rule=\"evenodd\" fill-opacity=\"1\"/>\n",
       "<polyline clip-path=\"url(#clip622)\" style=\"stroke:#000000; stroke-linecap:round; stroke-linejoin:round; stroke-width:4; stroke-opacity:1; fill:none\" points=\"10057.5,1423.18 10057.5,1423.18 10136.7,1423.18 10057.5,1423.18 \"/>\n",
       "<path clip-path=\"url(#clip622)\" d=\"M10136.7 1423.18 L10136.7 1423.18 L10215.8 1423.18 L10215.8 1423.18 L10136.7 1423.18 L10136.7 1423.18  Z\" fill=\"#009af9\" fill-rule=\"evenodd\" fill-opacity=\"1\"/>\n",
       "<polyline clip-path=\"url(#clip622)\" style=\"stroke:#000000; stroke-linecap:round; stroke-linejoin:round; stroke-width:4; stroke-opacity:1; fill:none\" points=\"10136.7,1423.18 10136.7,1423.18 10215.8,1423.18 10136.7,1423.18 \"/>\n",
       "<path clip-path=\"url(#clip622)\" d=\"M10215.8 1423.18 L10215.8 1423.18 L10295 1423.18 L10295 1423.18 L10215.8 1423.18 L10215.8 1423.18  Z\" fill=\"#009af9\" fill-rule=\"evenodd\" fill-opacity=\"1\"/>\n",
       "<polyline clip-path=\"url(#clip622)\" style=\"stroke:#000000; stroke-linecap:round; stroke-linejoin:round; stroke-width:4; stroke-opacity:1; fill:none\" points=\"10215.8,1423.18 10215.8,1423.18 10295,1423.18 10215.8,1423.18 \"/>\n",
       "<path clip-path=\"url(#clip622)\" d=\"M10295 1423.18 L10295 1423.18 L10374.1 1423.18 L10374.1 1423.18 L10295 1423.18 L10295 1423.18  Z\" fill=\"#009af9\" fill-rule=\"evenodd\" fill-opacity=\"1\"/>\n",
       "<polyline clip-path=\"url(#clip622)\" style=\"stroke:#000000; stroke-linecap:round; stroke-linejoin:round; stroke-width:4; stroke-opacity:1; fill:none\" points=\"10295,1423.18 10295,1423.18 10374.1,1423.18 10295,1423.18 \"/>\n",
       "<path clip-path=\"url(#clip622)\" d=\"M10374.1 1423.18 L10374.1 1423.18 L10453.3 1423.18 L10453.3 1423.18 L10374.1 1423.18 L10374.1 1423.18  Z\" fill=\"#009af9\" fill-rule=\"evenodd\" fill-opacity=\"1\"/>\n",
       "<polyline clip-path=\"url(#clip622)\" style=\"stroke:#000000; stroke-linecap:round; stroke-linejoin:round; stroke-width:4; stroke-opacity:1; fill:none\" points=\"10374.1,1423.18 10374.1,1423.18 10453.3,1423.18 10374.1,1423.18 \"/>\n",
       "<path clip-path=\"url(#clip622)\" d=\"M10453.3 1423.18 L10453.3 1423.18 L10532.5 1423.18 L10532.5 1423.18 L10453.3 1423.18 L10453.3 1423.18  Z\" fill=\"#009af9\" fill-rule=\"evenodd\" fill-opacity=\"1\"/>\n",
       "<polyline clip-path=\"url(#clip622)\" style=\"stroke:#000000; stroke-linecap:round; stroke-linejoin:round; stroke-width:4; stroke-opacity:1; fill:none\" points=\"10453.3,1423.18 10453.3,1423.18 10532.5,1423.18 10453.3,1423.18 \"/>\n",
       "<path clip-path=\"url(#clip622)\" d=\"M10532.5 1423.18 L10532.5 1423.18 L10611.6 1423.18 L10611.6 1423.18 L10532.5 1423.18 L10532.5 1423.18  Z\" fill=\"#009af9\" fill-rule=\"evenodd\" fill-opacity=\"1\"/>\n",
       "<polyline clip-path=\"url(#clip622)\" style=\"stroke:#000000; stroke-linecap:round; stroke-linejoin:round; stroke-width:4; stroke-opacity:1; fill:none\" points=\"10532.5,1423.18 10532.5,1423.18 10611.6,1423.18 10532.5,1423.18 \"/>\n",
       "<path clip-path=\"url(#clip622)\" d=\"M10611.6 1423.18 L10611.6 1423.18 L10690.8 1423.18 L10690.8 1423.18 L10611.6 1423.18 L10611.6 1423.18  Z\" fill=\"#009af9\" fill-rule=\"evenodd\" fill-opacity=\"1\"/>\n",
       "<polyline clip-path=\"url(#clip622)\" style=\"stroke:#000000; stroke-linecap:round; stroke-linejoin:round; stroke-width:4; stroke-opacity:1; fill:none\" points=\"10611.6,1423.18 10611.6,1423.18 10690.8,1423.18 10611.6,1423.18 \"/>\n",
       "<path clip-path=\"url(#clip622)\" d=\"M10690.8 1423.18 L10690.8 1423.18 L10769.9 1423.18 L10769.9 1423.18 L10690.8 1423.18 L10690.8 1423.18  Z\" fill=\"#009af9\" fill-rule=\"evenodd\" fill-opacity=\"1\"/>\n",
       "<polyline clip-path=\"url(#clip622)\" style=\"stroke:#000000; stroke-linecap:round; stroke-linejoin:round; stroke-width:4; stroke-opacity:1; fill:none\" points=\"10690.8,1423.18 10690.8,1423.18 10769.9,1423.18 10690.8,1423.18 \"/>\n",
       "<path clip-path=\"url(#clip622)\" d=\"M10769.9 1423.18 L10769.9 1423.18 L10849.1 1423.18 L10849.1 1423.18 L10769.9 1423.18 L10769.9 1423.18  Z\" fill=\"#009af9\" fill-rule=\"evenodd\" fill-opacity=\"1\"/>\n",
       "<polyline clip-path=\"url(#clip622)\" style=\"stroke:#000000; stroke-linecap:round; stroke-linejoin:round; stroke-width:4; stroke-opacity:1; fill:none\" points=\"10769.9,1423.18 10769.9,1423.18 10849.1,1423.18 10769.9,1423.18 \"/>\n",
       "<path clip-path=\"url(#clip622)\" d=\"M10849.1 1423.18 L10849.1 1423.18 L10928.2 1423.18 L10928.2 1423.18 L10849.1 1423.18 L10849.1 1423.18  Z\" fill=\"#009af9\" fill-rule=\"evenodd\" fill-opacity=\"1\"/>\n",
       "<polyline clip-path=\"url(#clip622)\" style=\"stroke:#000000; stroke-linecap:round; stroke-linejoin:round; stroke-width:4; stroke-opacity:1; fill:none\" points=\"10849.1,1423.18 10849.1,1423.18 10928.2,1423.18 10849.1,1423.18 \"/>\n",
       "<path clip-path=\"url(#clip622)\" d=\"M10928.2 1423.18 L10928.2 1423.18 L11007.4 1423.18 L11007.4 1423.18 L10928.2 1423.18 L10928.2 1423.18  Z\" fill=\"#009af9\" fill-rule=\"evenodd\" fill-opacity=\"1\"/>\n",
       "<polyline clip-path=\"url(#clip622)\" style=\"stroke:#000000; stroke-linecap:round; stroke-linejoin:round; stroke-width:4; stroke-opacity:1; fill:none\" points=\"10928.2,1423.18 10928.2,1423.18 11007.4,1423.18 10928.2,1423.18 \"/>\n",
       "<path clip-path=\"url(#clip622)\" d=\"M11007.4 1423.18 L11007.4 1423.18 L11086.5 1423.18 L11086.5 1423.18 L11007.4 1423.18 L11007.4 1423.18  Z\" fill=\"#009af9\" fill-rule=\"evenodd\" fill-opacity=\"1\"/>\n",
       "<polyline clip-path=\"url(#clip622)\" style=\"stroke:#000000; stroke-linecap:round; stroke-linejoin:round; stroke-width:4; stroke-opacity:1; fill:none\" points=\"11007.4,1423.18 11007.4,1423.18 11086.5,1423.18 11007.4,1423.18 \"/>\n",
       "<path clip-path=\"url(#clip622)\" d=\"M11086.5 1423.18 L11086.5 1423.18 L11165.7 1423.18 L11165.7 1423.18 L11086.5 1423.18 L11086.5 1423.18  Z\" fill=\"#009af9\" fill-rule=\"evenodd\" fill-opacity=\"1\"/>\n",
       "<polyline clip-path=\"url(#clip622)\" style=\"stroke:#000000; stroke-linecap:round; stroke-linejoin:round; stroke-width:4; stroke-opacity:1; fill:none\" points=\"11086.5,1423.18 11086.5,1423.18 11165.7,1423.18 11086.5,1423.18 \"/>\n",
       "<path clip-path=\"url(#clip622)\" d=\"M11165.7 1423.18 L11165.7 1423.18 L11244.9 1423.18 L11244.9 1423.18 L11165.7 1423.18 L11165.7 1423.18  Z\" fill=\"#009af9\" fill-rule=\"evenodd\" fill-opacity=\"1\"/>\n",
       "<polyline clip-path=\"url(#clip622)\" style=\"stroke:#000000; stroke-linecap:round; stroke-linejoin:round; stroke-width:4; stroke-opacity:1; fill:none\" points=\"11165.7,1423.18 11165.7,1423.18 11244.9,1423.18 11165.7,1423.18 \"/>\n",
       "<path clip-path=\"url(#clip622)\" d=\"M11244.9 1423.18 L11244.9 1423.18 L11324 1423.18 L11324 1423.18 L11244.9 1423.18 L11244.9 1423.18  Z\" fill=\"#009af9\" fill-rule=\"evenodd\" fill-opacity=\"1\"/>\n",
       "<polyline clip-path=\"url(#clip622)\" style=\"stroke:#000000; stroke-linecap:round; stroke-linejoin:round; stroke-width:4; stroke-opacity:1; fill:none\" points=\"11244.9,1423.18 11244.9,1423.18 11324,1423.18 11244.9,1423.18 \"/>\n",
       "<path clip-path=\"url(#clip622)\" d=\"M11324 1423.18 L11324 1423.18 L11403.2 1423.18 L11403.2 1423.18 L11324 1423.18 L11324 1423.18  Z\" fill=\"#009af9\" fill-rule=\"evenodd\" fill-opacity=\"1\"/>\n",
       "<polyline clip-path=\"url(#clip622)\" style=\"stroke:#000000; stroke-linecap:round; stroke-linejoin:round; stroke-width:4; stroke-opacity:1; fill:none\" points=\"11324,1423.18 11324,1423.18 11403.2,1423.18 11324,1423.18 \"/>\n",
       "<path clip-path=\"url(#clip622)\" d=\"M11403.2 1423.18 L11403.2 1423.18 L11482.3 1423.18 L11482.3 1423.18 L11403.2 1423.18 L11403.2 1423.18  Z\" fill=\"#009af9\" fill-rule=\"evenodd\" fill-opacity=\"1\"/>\n",
       "<polyline clip-path=\"url(#clip622)\" style=\"stroke:#000000; stroke-linecap:round; stroke-linejoin:round; stroke-width:4; stroke-opacity:1; fill:none\" points=\"11403.2,1423.18 11403.2,1423.18 11482.3,1423.18 11403.2,1423.18 \"/>\n",
       "<path clip-path=\"url(#clip622)\" d=\"M11482.3 1423.18 L11482.3 1423.18 L11561.5 1423.18 L11561.5 1423.18 L11482.3 1423.18 L11482.3 1423.18  Z\" fill=\"#009af9\" fill-rule=\"evenodd\" fill-opacity=\"1\"/>\n",
       "<polyline clip-path=\"url(#clip622)\" style=\"stroke:#000000; stroke-linecap:round; stroke-linejoin:round; stroke-width:4; stroke-opacity:1; fill:none\" points=\"11482.3,1423.18 11482.3,1423.18 11561.5,1423.18 11482.3,1423.18 \"/>\n",
       "<path clip-path=\"url(#clip622)\" d=\"M11561.5 1423.18 L11561.5 1423.18 L11640.6 1423.18 L11640.6 1423.18 L11561.5 1423.18 L11561.5 1423.18  Z\" fill=\"#009af9\" fill-rule=\"evenodd\" fill-opacity=\"1\"/>\n",
       "<polyline clip-path=\"url(#clip622)\" style=\"stroke:#000000; stroke-linecap:round; stroke-linejoin:round; stroke-width:4; stroke-opacity:1; fill:none\" points=\"11561.5,1423.18 11561.5,1423.18 11640.6,1423.18 11561.5,1423.18 \"/>\n",
       "<path clip-path=\"url(#clip622)\" d=\"M11640.6 1423.18 L11640.6 1423.18 L11719.8 1423.18 L11719.8 1423.18 L11640.6 1423.18 L11640.6 1423.18  Z\" fill=\"#009af9\" fill-rule=\"evenodd\" fill-opacity=\"1\"/>\n",
       "<polyline clip-path=\"url(#clip622)\" style=\"stroke:#000000; stroke-linecap:round; stroke-linejoin:round; stroke-width:4; stroke-opacity:1; fill:none\" points=\"11640.6,1423.18 11640.6,1423.18 11719.8,1423.18 11640.6,1423.18 \"/>\n",
       "<path clip-path=\"url(#clip622)\" d=\"M11719.8 1423.18 L11719.8 1423.18 L11798.9 1423.18 L11798.9 1423.18 L11719.8 1423.18 L11719.8 1423.18  Z\" fill=\"#009af9\" fill-rule=\"evenodd\" fill-opacity=\"1\"/>\n",
       "<polyline clip-path=\"url(#clip622)\" style=\"stroke:#000000; stroke-linecap:round; stroke-linejoin:round; stroke-width:4; stroke-opacity:1; fill:none\" points=\"11719.8,1423.18 11719.8,1423.18 11798.9,1423.18 11719.8,1423.18 \"/>\n",
       "<path clip-path=\"url(#clip622)\" d=\"M11798.9 1423.18 L11798.9 1423.18 L11878.1 1423.18 L11878.1 1423.18 L11798.9 1423.18 L11798.9 1423.18  Z\" fill=\"#009af9\" fill-rule=\"evenodd\" fill-opacity=\"1\"/>\n",
       "<polyline clip-path=\"url(#clip622)\" style=\"stroke:#000000; stroke-linecap:round; stroke-linejoin:round; stroke-width:4; stroke-opacity:1; fill:none\" points=\"11798.9,1423.18 11798.9,1423.18 11878.1,1423.18 11798.9,1423.18 \"/>\n",
       "<path clip-path=\"url(#clip622)\" d=\"M11878.1 1423.18 L11878.1 1423.18 L11957.2 1423.18 L11957.2 1423.18 L11878.1 1423.18 L11878.1 1423.18  Z\" fill=\"#009af9\" fill-rule=\"evenodd\" fill-opacity=\"1\"/>\n",
       "<polyline clip-path=\"url(#clip622)\" style=\"stroke:#000000; stroke-linecap:round; stroke-linejoin:round; stroke-width:4; stroke-opacity:1; fill:none\" points=\"11878.1,1423.18 11878.1,1423.18 11957.2,1423.18 11878.1,1423.18 \"/>\n",
       "<path clip-path=\"url(#clip622)\" d=\"M11957.2 1423.18 L11957.2 1423.18 L12036.4 1423.18 L12036.4 1423.18 L11957.2 1423.18 L11957.2 1423.18  Z\" fill=\"#009af9\" fill-rule=\"evenodd\" fill-opacity=\"1\"/>\n",
       "<polyline clip-path=\"url(#clip622)\" style=\"stroke:#000000; stroke-linecap:round; stroke-linejoin:round; stroke-width:4; stroke-opacity:1; fill:none\" points=\"11957.2,1423.18 11957.2,1423.18 12036.4,1423.18 11957.2,1423.18 \"/>\n",
       "<path clip-path=\"url(#clip622)\" d=\"M12036.4 1423.18 L12036.4 1423.18 L12115.6 1423.18 L12115.6 1423.18 L12036.4 1423.18 L12036.4 1423.18  Z\" fill=\"#009af9\" fill-rule=\"evenodd\" fill-opacity=\"1\"/>\n",
       "<polyline clip-path=\"url(#clip622)\" style=\"stroke:#000000; stroke-linecap:round; stroke-linejoin:round; stroke-width:4; stroke-opacity:1; fill:none\" points=\"12036.4,1423.18 12036.4,1423.18 12115.6,1423.18 12036.4,1423.18 \"/>\n",
       "<path clip-path=\"url(#clip622)\" d=\"M12115.6 1423.18 L12115.6 1423.18 L12194.7 1423.18 L12194.7 1423.18 L12115.6 1423.18 L12115.6 1423.18  Z\" fill=\"#009af9\" fill-rule=\"evenodd\" fill-opacity=\"1\"/>\n",
       "<polyline clip-path=\"url(#clip622)\" style=\"stroke:#000000; stroke-linecap:round; stroke-linejoin:round; stroke-width:4; stroke-opacity:1; fill:none\" points=\"12115.6,1423.18 12115.6,1423.18 12194.7,1423.18 12115.6,1423.18 \"/>\n",
       "<path clip-path=\"url(#clip622)\" d=\"M12194.7 1423.18 L12194.7 1423.18 L12273.9 1423.18 L12273.9 1423.18 L12194.7 1423.18 L12194.7 1423.18  Z\" fill=\"#009af9\" fill-rule=\"evenodd\" fill-opacity=\"1\"/>\n",
       "<polyline clip-path=\"url(#clip622)\" style=\"stroke:#000000; stroke-linecap:round; stroke-linejoin:round; stroke-width:4; stroke-opacity:1; fill:none\" points=\"12194.7,1423.18 12194.7,1423.18 12273.9,1423.18 12194.7,1423.18 \"/>\n",
       "<path clip-path=\"url(#clip622)\" d=\"M12273.9 1423.18 L12273.9 1423.18 L12353 1423.18 L12353 1423.18 L12273.9 1423.18 L12273.9 1423.18  Z\" fill=\"#009af9\" fill-rule=\"evenodd\" fill-opacity=\"1\"/>\n",
       "<polyline clip-path=\"url(#clip622)\" style=\"stroke:#000000; stroke-linecap:round; stroke-linejoin:round; stroke-width:4; stroke-opacity:1; fill:none\" points=\"12273.9,1423.18 12273.9,1423.18 12353,1423.18 12273.9,1423.18 \"/>\n",
       "<path clip-path=\"url(#clip622)\" d=\"M12353 1423.18 L12353 1423.18 L12432.2 1423.18 L12432.2 1423.18 L12353 1423.18 L12353 1423.18  Z\" fill=\"#009af9\" fill-rule=\"evenodd\" fill-opacity=\"1\"/>\n",
       "<polyline clip-path=\"url(#clip622)\" style=\"stroke:#000000; stroke-linecap:round; stroke-linejoin:round; stroke-width:4; stroke-opacity:1; fill:none\" points=\"12353,1423.18 12353,1423.18 12432.2,1423.18 12353,1423.18 \"/>\n",
       "<path clip-path=\"url(#clip622)\" d=\"M12432.2 1423.18 L12432.2 1423.18 L12511.3 1423.18 L12511.3 1423.18 L12432.2 1423.18 L12432.2 1423.18  Z\" fill=\"#009af9\" fill-rule=\"evenodd\" fill-opacity=\"1\"/>\n",
       "<polyline clip-path=\"url(#clip622)\" style=\"stroke:#000000; stroke-linecap:round; stroke-linejoin:round; stroke-width:4; stroke-opacity:1; fill:none\" points=\"12432.2,1423.18 12432.2,1423.18 12511.3,1423.18 12432.2,1423.18 \"/>\n",
       "<path clip-path=\"url(#clip622)\" d=\"M12511.3 1423.18 L12511.3 1423.18 L12590.5 1423.18 L12590.5 1423.18 L12511.3 1423.18 L12511.3 1423.18  Z\" fill=\"#009af9\" fill-rule=\"evenodd\" fill-opacity=\"1\"/>\n",
       "<polyline clip-path=\"url(#clip622)\" style=\"stroke:#000000; stroke-linecap:round; stroke-linejoin:round; stroke-width:4; stroke-opacity:1; fill:none\" points=\"12511.3,1423.18 12511.3,1423.18 12590.5,1423.18 12511.3,1423.18 \"/>\n",
       "<path clip-path=\"url(#clip622)\" d=\"M12590.5 1423.18 L12590.5 1423.18 L12669.6 1423.18 L12669.6 1423.18 L12590.5 1423.18 L12590.5 1423.18  Z\" fill=\"#009af9\" fill-rule=\"evenodd\" fill-opacity=\"1\"/>\n",
       "<polyline clip-path=\"url(#clip622)\" style=\"stroke:#000000; stroke-linecap:round; stroke-linejoin:round; stroke-width:4; stroke-opacity:1; fill:none\" points=\"12590.5,1423.18 12590.5,1423.18 12669.6,1423.18 12590.5,1423.18 \"/>\n",
       "<path clip-path=\"url(#clip622)\" d=\"M12669.6 1423.18 L12669.6 1423.18 L12748.8 1423.18 L12748.8 1423.18 L12669.6 1423.18 L12669.6 1423.18  Z\" fill=\"#009af9\" fill-rule=\"evenodd\" fill-opacity=\"1\"/>\n",
       "<polyline clip-path=\"url(#clip622)\" style=\"stroke:#000000; stroke-linecap:round; stroke-linejoin:round; stroke-width:4; stroke-opacity:1; fill:none\" points=\"12669.6,1423.18 12669.6,1423.18 12748.8,1423.18 12669.6,1423.18 \"/>\n",
       "<path clip-path=\"url(#clip622)\" d=\"M12748.8 1423.18 L12748.8 1423.18 L12828 1423.18 L12828 1423.18 L12748.8 1423.18 L12748.8 1423.18  Z\" fill=\"#009af9\" fill-rule=\"evenodd\" fill-opacity=\"1\"/>\n",
       "<polyline clip-path=\"url(#clip622)\" style=\"stroke:#000000; stroke-linecap:round; stroke-linejoin:round; stroke-width:4; stroke-opacity:1; fill:none\" points=\"12748.8,1423.18 12748.8,1423.18 12828,1423.18 12748.8,1423.18 \"/>\n",
       "<path clip-path=\"url(#clip622)\" d=\"M12828 1423.18 L12828 1423.18 L12907.1 1423.18 L12907.1 1423.18 L12828 1423.18 L12828 1423.18  Z\" fill=\"#009af9\" fill-rule=\"evenodd\" fill-opacity=\"1\"/>\n",
       "<polyline clip-path=\"url(#clip622)\" style=\"stroke:#000000; stroke-linecap:round; stroke-linejoin:round; stroke-width:4; stroke-opacity:1; fill:none\" points=\"12828,1423.18 12828,1423.18 12907.1,1423.18 12828,1423.18 \"/>\n",
       "<path clip-path=\"url(#clip622)\" d=\"M12907.1 1423.18 L12907.1 1423.18 L12986.3 1423.18 L12986.3 1423.18 L12907.1 1423.18 L12907.1 1423.18  Z\" fill=\"#009af9\" fill-rule=\"evenodd\" fill-opacity=\"1\"/>\n",
       "<polyline clip-path=\"url(#clip622)\" style=\"stroke:#000000; stroke-linecap:round; stroke-linejoin:round; stroke-width:4; stroke-opacity:1; fill:none\" points=\"12907.1,1423.18 12907.1,1423.18 12986.3,1423.18 12907.1,1423.18 \"/>\n",
       "<path clip-path=\"url(#clip622)\" d=\"M12986.3 1423.18 L12986.3 1423.18 L13065.4 1423.18 L13065.4 1423.18 L12986.3 1423.18 L12986.3 1423.18  Z\" fill=\"#009af9\" fill-rule=\"evenodd\" fill-opacity=\"1\"/>\n",
       "<polyline clip-path=\"url(#clip622)\" style=\"stroke:#000000; stroke-linecap:round; stroke-linejoin:round; stroke-width:4; stroke-opacity:1; fill:none\" points=\"12986.3,1423.18 12986.3,1423.18 13065.4,1423.18 12986.3,1423.18 \"/>\n",
       "<path clip-path=\"url(#clip622)\" d=\"M13065.4 1423.18 L13065.4 1423.18 L13144.6 1423.18 L13144.6 1423.18 L13065.4 1423.18 L13065.4 1423.18  Z\" fill=\"#009af9\" fill-rule=\"evenodd\" fill-opacity=\"1\"/>\n",
       "<polyline clip-path=\"url(#clip622)\" style=\"stroke:#000000; stroke-linecap:round; stroke-linejoin:round; stroke-width:4; stroke-opacity:1; fill:none\" points=\"13065.4,1423.18 13065.4,1423.18 13144.6,1423.18 13065.4,1423.18 \"/>\n",
       "<path clip-path=\"url(#clip622)\" d=\"M13144.6 1423.18 L13144.6 1423.18 L13223.7 1423.18 L13223.7 1423.18 L13144.6 1423.18 L13144.6 1423.18  Z\" fill=\"#009af9\" fill-rule=\"evenodd\" fill-opacity=\"1\"/>\n",
       "<polyline clip-path=\"url(#clip622)\" style=\"stroke:#000000; stroke-linecap:round; stroke-linejoin:round; stroke-width:4; stroke-opacity:1; fill:none\" points=\"13144.6,1423.18 13144.6,1423.18 13223.7,1423.18 13144.6,1423.18 \"/>\n",
       "<path clip-path=\"url(#clip622)\" d=\"M13223.7 1423.18 L13223.7 1423.18 L13302.9 1423.18 L13302.9 1423.18 L13223.7 1423.18 L13223.7 1423.18  Z\" fill=\"#009af9\" fill-rule=\"evenodd\" fill-opacity=\"1\"/>\n",
       "<polyline clip-path=\"url(#clip622)\" style=\"stroke:#000000; stroke-linecap:round; stroke-linejoin:round; stroke-width:4; stroke-opacity:1; fill:none\" points=\"13223.7,1423.18 13223.7,1423.18 13302.9,1423.18 13223.7,1423.18 \"/>\n",
       "<path clip-path=\"url(#clip622)\" d=\"M13302.9 1423.18 L13302.9 1423.18 L13382 1423.18 L13382 1423.18 L13302.9 1423.18 L13302.9 1423.18  Z\" fill=\"#009af9\" fill-rule=\"evenodd\" fill-opacity=\"1\"/>\n",
       "<polyline clip-path=\"url(#clip622)\" style=\"stroke:#000000; stroke-linecap:round; stroke-linejoin:round; stroke-width:4; stroke-opacity:1; fill:none\" points=\"13302.9,1423.18 13302.9,1423.18 13382,1423.18 13302.9,1423.18 \"/>\n",
       "<path clip-path=\"url(#clip622)\" d=\"M13382 1423.18 L13382 1423.18 L13461.2 1423.18 L13461.2 1423.18 L13382 1423.18 L13382 1423.18  Z\" fill=\"#009af9\" fill-rule=\"evenodd\" fill-opacity=\"1\"/>\n",
       "<polyline clip-path=\"url(#clip622)\" style=\"stroke:#000000; stroke-linecap:round; stroke-linejoin:round; stroke-width:4; stroke-opacity:1; fill:none\" points=\"13382,1423.18 13382,1423.18 13461.2,1423.18 13382,1423.18 \"/>\n",
       "<path clip-path=\"url(#clip622)\" d=\"M13461.2 1423.18 L13461.2 1423.18 L13540.4 1423.18 L13540.4 1423.18 L13461.2 1423.18 L13461.2 1423.18  Z\" fill=\"#009af9\" fill-rule=\"evenodd\" fill-opacity=\"1\"/>\n",
       "<polyline clip-path=\"url(#clip622)\" style=\"stroke:#000000; stroke-linecap:round; stroke-linejoin:round; stroke-width:4; stroke-opacity:1; fill:none\" points=\"13461.2,1423.18 13461.2,1423.18 13540.4,1423.18 13461.2,1423.18 \"/>\n",
       "<path clip-path=\"url(#clip622)\" d=\"M13540.4 1423.18 L13540.4 1423.18 L13619.5 1423.18 L13619.5 1423.18 L13540.4 1423.18 L13540.4 1423.18  Z\" fill=\"#009af9\" fill-rule=\"evenodd\" fill-opacity=\"1\"/>\n",
       "<polyline clip-path=\"url(#clip622)\" style=\"stroke:#000000; stroke-linecap:round; stroke-linejoin:round; stroke-width:4; stroke-opacity:1; fill:none\" points=\"13540.4,1423.18 13540.4,1423.18 13619.5,1423.18 13540.4,1423.18 \"/>\n",
       "<path clip-path=\"url(#clip622)\" d=\"M13619.5 1423.18 L13619.5 1423.18 L13698.7 1423.18 L13698.7 1423.18 L13619.5 1423.18 L13619.5 1423.18  Z\" fill=\"#009af9\" fill-rule=\"evenodd\" fill-opacity=\"1\"/>\n",
       "<polyline clip-path=\"url(#clip622)\" style=\"stroke:#000000; stroke-linecap:round; stroke-linejoin:round; stroke-width:4; stroke-opacity:1; fill:none\" points=\"13619.5,1423.18 13619.5,1423.18 13698.7,1423.18 13619.5,1423.18 \"/>\n",
       "<path clip-path=\"url(#clip622)\" d=\"M13698.7 1423.18 L13698.7 1423.18 L13777.8 1423.18 L13777.8 1423.18 L13698.7 1423.18 L13698.7 1423.18  Z\" fill=\"#009af9\" fill-rule=\"evenodd\" fill-opacity=\"1\"/>\n",
       "<polyline clip-path=\"url(#clip622)\" style=\"stroke:#000000; stroke-linecap:round; stroke-linejoin:round; stroke-width:4; stroke-opacity:1; fill:none\" points=\"13698.7,1423.18 13698.7,1423.18 13777.8,1423.18 13698.7,1423.18 \"/>\n",
       "<path clip-path=\"url(#clip622)\" d=\"M13777.8 1423.18 L13777.8 1423.18 L13857 1423.18 L13857 1423.18 L13777.8 1423.18 L13777.8 1423.18  Z\" fill=\"#009af9\" fill-rule=\"evenodd\" fill-opacity=\"1\"/>\n",
       "<polyline clip-path=\"url(#clip622)\" style=\"stroke:#000000; stroke-linecap:round; stroke-linejoin:round; stroke-width:4; stroke-opacity:1; fill:none\" points=\"13777.8,1423.18 13777.8,1423.18 13857,1423.18 13777.8,1423.18 \"/>\n",
       "<path clip-path=\"url(#clip622)\" d=\"M13857 1423.18 L13857 1423.18 L13936.1 1423.18 L13936.1 1423.18 L13857 1423.18 L13857 1423.18  Z\" fill=\"#009af9\" fill-rule=\"evenodd\" fill-opacity=\"1\"/>\n",
       "<polyline clip-path=\"url(#clip622)\" style=\"stroke:#000000; stroke-linecap:round; stroke-linejoin:round; stroke-width:4; stroke-opacity:1; fill:none\" points=\"13857,1423.18 13857,1423.18 13936.1,1423.18 13857,1423.18 \"/>\n",
       "<path clip-path=\"url(#clip622)\" d=\"M13936.1 1423.18 L13936.1 1423.18 L14015.3 1423.18 L14015.3 1423.18 L13936.1 1423.18 L13936.1 1423.18  Z\" fill=\"#009af9\" fill-rule=\"evenodd\" fill-opacity=\"1\"/>\n",
       "<polyline clip-path=\"url(#clip622)\" style=\"stroke:#000000; stroke-linecap:round; stroke-linejoin:round; stroke-width:4; stroke-opacity:1; fill:none\" points=\"13936.1,1423.18 13936.1,1423.18 14015.3,1423.18 13936.1,1423.18 \"/>\n",
       "<path clip-path=\"url(#clip622)\" d=\"M14015.3 1423.18 L14015.3 1423.18 L14094.4 1423.18 L14094.4 1423.18 L14015.3 1423.18 L14015.3 1423.18  Z\" fill=\"#009af9\" fill-rule=\"evenodd\" fill-opacity=\"1\"/>\n",
       "<polyline clip-path=\"url(#clip622)\" style=\"stroke:#000000; stroke-linecap:round; stroke-linejoin:round; stroke-width:4; stroke-opacity:1; fill:none\" points=\"14015.3,1423.18 14015.3,1423.18 14094.4,1423.18 14015.3,1423.18 \"/>\n",
       "<path clip-path=\"url(#clip622)\" d=\"M14094.4 1423.18 L14094.4 1423.18 L14173.6 1423.18 L14173.6 1423.18 L14094.4 1423.18 L14094.4 1423.18  Z\" fill=\"#009af9\" fill-rule=\"evenodd\" fill-opacity=\"1\"/>\n",
       "<polyline clip-path=\"url(#clip622)\" style=\"stroke:#000000; stroke-linecap:round; stroke-linejoin:round; stroke-width:4; stroke-opacity:1; fill:none\" points=\"14094.4,1423.18 14094.4,1423.18 14173.6,1423.18 14094.4,1423.18 \"/>\n",
       "<path clip-path=\"url(#clip622)\" d=\"M14173.6 1423.18 L14173.6 1423.18 L14252.8 1423.18 L14252.8 1423.18 L14173.6 1423.18 L14173.6 1423.18  Z\" fill=\"#009af9\" fill-rule=\"evenodd\" fill-opacity=\"1\"/>\n",
       "<polyline clip-path=\"url(#clip622)\" style=\"stroke:#000000; stroke-linecap:round; stroke-linejoin:round; stroke-width:4; stroke-opacity:1; fill:none\" points=\"14173.6,1423.18 14173.6,1423.18 14252.8,1423.18 14173.6,1423.18 \"/>\n",
       "<path clip-path=\"url(#clip622)\" d=\"M14252.8 1423.18 L14252.8 1423.18 L14331.9 1423.18 L14331.9 1423.18 L14252.8 1423.18 L14252.8 1423.18  Z\" fill=\"#009af9\" fill-rule=\"evenodd\" fill-opacity=\"1\"/>\n",
       "<polyline clip-path=\"url(#clip622)\" style=\"stroke:#000000; stroke-linecap:round; stroke-linejoin:round; stroke-width:4; stroke-opacity:1; fill:none\" points=\"14252.8,1423.18 14252.8,1423.18 14331.9,1423.18 14252.8,1423.18 \"/>\n",
       "<path clip-path=\"url(#clip622)\" d=\"M14331.9 1423.18 L14331.9 1423.18 L14411.1 1423.18 L14411.1 1423.18 L14331.9 1423.18 L14331.9 1423.18  Z\" fill=\"#009af9\" fill-rule=\"evenodd\" fill-opacity=\"1\"/>\n",
       "<polyline clip-path=\"url(#clip622)\" style=\"stroke:#000000; stroke-linecap:round; stroke-linejoin:round; stroke-width:4; stroke-opacity:1; fill:none\" points=\"14331.9,1423.18 14331.9,1423.18 14411.1,1423.18 14331.9,1423.18 \"/>\n",
       "<path clip-path=\"url(#clip622)\" d=\"M14411.1 1423.18 L14411.1 1423.18 L14490.2 1423.18 L14490.2 1423.18 L14411.1 1423.18 L14411.1 1423.18  Z\" fill=\"#009af9\" fill-rule=\"evenodd\" fill-opacity=\"1\"/>\n",
       "<polyline clip-path=\"url(#clip622)\" style=\"stroke:#000000; stroke-linecap:round; stroke-linejoin:round; stroke-width:4; stroke-opacity:1; fill:none\" points=\"14411.1,1423.18 14411.1,1423.18 14490.2,1423.18 14411.1,1423.18 \"/>\n",
       "<path clip-path=\"url(#clip622)\" d=\"M14490.2 1423.18 L14490.2 1423.18 L14569.4 1423.18 L14569.4 1423.18 L14490.2 1423.18 L14490.2 1423.18  Z\" fill=\"#009af9\" fill-rule=\"evenodd\" fill-opacity=\"1\"/>\n",
       "<polyline clip-path=\"url(#clip622)\" style=\"stroke:#000000; stroke-linecap:round; stroke-linejoin:round; stroke-width:4; stroke-opacity:1; fill:none\" points=\"14490.2,1423.18 14490.2,1423.18 14569.4,1423.18 14490.2,1423.18 \"/>\n",
       "<path clip-path=\"url(#clip622)\" d=\"M14569.4 1423.18 L14569.4 1423.18 L14648.5 1423.18 L14648.5 1423.18 L14569.4 1423.18 L14569.4 1423.18  Z\" fill=\"#009af9\" fill-rule=\"evenodd\" fill-opacity=\"1\"/>\n",
       "<polyline clip-path=\"url(#clip622)\" style=\"stroke:#000000; stroke-linecap:round; stroke-linejoin:round; stroke-width:4; stroke-opacity:1; fill:none\" points=\"14569.4,1423.18 14569.4,1423.18 14648.5,1423.18 14569.4,1423.18 \"/>\n",
       "<path clip-path=\"url(#clip622)\" d=\"M14648.5 1423.18 L14648.5 1423.18 L14727.7 1423.18 L14727.7 1423.18 L14648.5 1423.18 L14648.5 1423.18  Z\" fill=\"#009af9\" fill-rule=\"evenodd\" fill-opacity=\"1\"/>\n",
       "<polyline clip-path=\"url(#clip622)\" style=\"stroke:#000000; stroke-linecap:round; stroke-linejoin:round; stroke-width:4; stroke-opacity:1; fill:none\" points=\"14648.5,1423.18 14648.5,1423.18 14727.7,1423.18 14648.5,1423.18 \"/>\n",
       "<path clip-path=\"url(#clip622)\" d=\"M14727.7 1423.18 L14727.7 1423.18 L14806.8 1423.18 L14806.8 1423.18 L14727.7 1423.18 L14727.7 1423.18  Z\" fill=\"#009af9\" fill-rule=\"evenodd\" fill-opacity=\"1\"/>\n",
       "<polyline clip-path=\"url(#clip622)\" style=\"stroke:#000000; stroke-linecap:round; stroke-linejoin:round; stroke-width:4; stroke-opacity:1; fill:none\" points=\"14727.7,1423.18 14727.7,1423.18 14806.8,1423.18 14727.7,1423.18 \"/>\n",
       "<path clip-path=\"url(#clip622)\" d=\"M14806.8 1423.18 L14806.8 1423.18 L14886 1423.18 L14886 1423.18 L14806.8 1423.18 L14806.8 1423.18  Z\" fill=\"#009af9\" fill-rule=\"evenodd\" fill-opacity=\"1\"/>\n",
       "<polyline clip-path=\"url(#clip622)\" style=\"stroke:#000000; stroke-linecap:round; stroke-linejoin:round; stroke-width:4; stroke-opacity:1; fill:none\" points=\"14806.8,1423.18 14806.8,1423.18 14886,1423.18 14806.8,1423.18 \"/>\n",
       "<path clip-path=\"url(#clip622)\" d=\"M14886 1423.18 L14886 1423.18 L14965.2 1423.18 L14965.2 1423.18 L14886 1423.18 L14886 1423.18  Z\" fill=\"#009af9\" fill-rule=\"evenodd\" fill-opacity=\"1\"/>\n",
       "<polyline clip-path=\"url(#clip622)\" style=\"stroke:#000000; stroke-linecap:round; stroke-linejoin:round; stroke-width:4; stroke-opacity:1; fill:none\" points=\"14886,1423.18 14886,1423.18 14965.2,1423.18 14886,1423.18 \"/>\n",
       "<path clip-path=\"url(#clip622)\" d=\"M14965.2 1423.18 L14965.2 1423.18 L15044.3 1423.18 L15044.3 1423.18 L14965.2 1423.18 L14965.2 1423.18  Z\" fill=\"#009af9\" fill-rule=\"evenodd\" fill-opacity=\"1\"/>\n",
       "<polyline clip-path=\"url(#clip622)\" style=\"stroke:#000000; stroke-linecap:round; stroke-linejoin:round; stroke-width:4; stroke-opacity:1; fill:none\" points=\"14965.2,1423.18 14965.2,1423.18 15044.3,1423.18 14965.2,1423.18 \"/>\n",
       "<path clip-path=\"url(#clip622)\" d=\"M15044.3 1423.18 L15044.3 1423.18 L15123.5 1423.18 L15123.5 1423.18 L15044.3 1423.18 L15044.3 1423.18  Z\" fill=\"#009af9\" fill-rule=\"evenodd\" fill-opacity=\"1\"/>\n",
       "<polyline clip-path=\"url(#clip622)\" style=\"stroke:#000000; stroke-linecap:round; stroke-linejoin:round; stroke-width:4; stroke-opacity:1; fill:none\" points=\"15044.3,1423.18 15044.3,1423.18 15123.5,1423.18 15044.3,1423.18 \"/>\n",
       "<path clip-path=\"url(#clip622)\" d=\"M15123.5 1423.18 L15123.5 1423.18 L15202.6 1423.18 L15202.6 1423.18 L15123.5 1423.18 L15123.5 1423.18  Z\" fill=\"#009af9\" fill-rule=\"evenodd\" fill-opacity=\"1\"/>\n",
       "<polyline clip-path=\"url(#clip622)\" style=\"stroke:#000000; stroke-linecap:round; stroke-linejoin:round; stroke-width:4; stroke-opacity:1; fill:none\" points=\"15123.5,1423.18 15123.5,1423.18 15202.6,1423.18 15123.5,1423.18 \"/>\n",
       "<path clip-path=\"url(#clip622)\" d=\"M15202.6 1423.18 L15202.6 1423.18 L15281.8 1423.18 L15281.8 1423.18 L15202.6 1423.18 L15202.6 1423.18  Z\" fill=\"#009af9\" fill-rule=\"evenodd\" fill-opacity=\"1\"/>\n",
       "<polyline clip-path=\"url(#clip622)\" style=\"stroke:#000000; stroke-linecap:round; stroke-linejoin:round; stroke-width:4; stroke-opacity:1; fill:none\" points=\"15202.6,1423.18 15202.6,1423.18 15281.8,1423.18 15202.6,1423.18 \"/>\n",
       "<path clip-path=\"url(#clip622)\" d=\"M15281.8 1423.18 L15281.8 1423.18 L15360.9 1423.18 L15360.9 1423.18 L15281.8 1423.18 L15281.8 1423.18  Z\" fill=\"#009af9\" fill-rule=\"evenodd\" fill-opacity=\"1\"/>\n",
       "<polyline clip-path=\"url(#clip622)\" style=\"stroke:#000000; stroke-linecap:round; stroke-linejoin:round; stroke-width:4; stroke-opacity:1; fill:none\" points=\"15281.8,1423.18 15281.8,1423.18 15360.9,1423.18 15281.8,1423.18 \"/>\n",
       "<path clip-path=\"url(#clip622)\" d=\"M15360.9 1423.18 L15360.9 1423.18 L15440.1 1423.18 L15440.1 1423.18 L15360.9 1423.18 L15360.9 1423.18  Z\" fill=\"#009af9\" fill-rule=\"evenodd\" fill-opacity=\"1\"/>\n",
       "<polyline clip-path=\"url(#clip622)\" style=\"stroke:#000000; stroke-linecap:round; stroke-linejoin:round; stroke-width:4; stroke-opacity:1; fill:none\" points=\"15360.9,1423.18 15360.9,1423.18 15440.1,1423.18 15360.9,1423.18 \"/>\n",
       "<path clip-path=\"url(#clip622)\" d=\"M15440.1 1423.18 L15440.1 1423.18 L15519.2 1423.18 L15519.2 1423.18 L15440.1 1423.18 L15440.1 1423.18  Z\" fill=\"#009af9\" fill-rule=\"evenodd\" fill-opacity=\"1\"/>\n",
       "<polyline clip-path=\"url(#clip622)\" style=\"stroke:#000000; stroke-linecap:round; stroke-linejoin:round; stroke-width:4; stroke-opacity:1; fill:none\" points=\"15440.1,1423.18 15440.1,1423.18 15519.2,1423.18 15440.1,1423.18 \"/>\n",
       "<path clip-path=\"url(#clip622)\" d=\"M15519.2 1423.18 L15519.2 1423.18 L15598.4 1423.18 L15598.4 1423.18 L15519.2 1423.18 L15519.2 1423.18  Z\" fill=\"#009af9\" fill-rule=\"evenodd\" fill-opacity=\"1\"/>\n",
       "<polyline clip-path=\"url(#clip622)\" style=\"stroke:#000000; stroke-linecap:round; stroke-linejoin:round; stroke-width:4; stroke-opacity:1; fill:none\" points=\"15519.2,1423.18 15519.2,1423.18 15598.4,1423.18 15519.2,1423.18 \"/>\n",
       "<path clip-path=\"url(#clip622)\" d=\"M15598.4 1423.18 L15598.4 1423.18 L15677.6 1423.18 L15677.6 1423.18 L15598.4 1423.18 L15598.4 1423.18  Z\" fill=\"#009af9\" fill-rule=\"evenodd\" fill-opacity=\"1\"/>\n",
       "<polyline clip-path=\"url(#clip622)\" style=\"stroke:#000000; stroke-linecap:round; stroke-linejoin:round; stroke-width:4; stroke-opacity:1; fill:none\" points=\"15598.4,1423.18 15598.4,1423.18 15677.6,1423.18 15598.4,1423.18 \"/>\n",
       "<path clip-path=\"url(#clip622)\" d=\"M15677.6 1423.18 L15677.6 1423.18 L15756.7 1423.18 L15756.7 1423.18 L15677.6 1423.18 L15677.6 1423.18  Z\" fill=\"#009af9\" fill-rule=\"evenodd\" fill-opacity=\"1\"/>\n",
       "<polyline clip-path=\"url(#clip622)\" style=\"stroke:#000000; stroke-linecap:round; stroke-linejoin:round; stroke-width:4; stroke-opacity:1; fill:none\" points=\"15677.6,1423.18 15677.6,1423.18 15756.7,1423.18 15677.6,1423.18 \"/>\n",
       "<path clip-path=\"url(#clip622)\" d=\"M15756.7 1423.18 L15756.7 1423.18 L15835.9 1423.18 L15835.9 1423.18 L15756.7 1423.18 L15756.7 1423.18  Z\" fill=\"#009af9\" fill-rule=\"evenodd\" fill-opacity=\"1\"/>\n",
       "<polyline clip-path=\"url(#clip622)\" style=\"stroke:#000000; stroke-linecap:round; stroke-linejoin:round; stroke-width:4; stroke-opacity:1; fill:none\" points=\"15756.7,1423.18 15756.7,1423.18 15835.9,1423.18 15756.7,1423.18 \"/>\n",
       "<path clip-path=\"url(#clip622)\" d=\"M15835.9 1423.18 L15835.9 1423.18 L15915 1423.18 L15915 1423.18 L15835.9 1423.18 L15835.9 1423.18  Z\" fill=\"#009af9\" fill-rule=\"evenodd\" fill-opacity=\"1\"/>\n",
       "<polyline clip-path=\"url(#clip622)\" style=\"stroke:#000000; stroke-linecap:round; stroke-linejoin:round; stroke-width:4; stroke-opacity:1; fill:none\" points=\"15835.9,1423.18 15835.9,1423.18 15915,1423.18 15835.9,1423.18 \"/>\n",
       "<path clip-path=\"url(#clip622)\" d=\"M15915 1423.18 L15915 1423.18 L15994.2 1423.18 L15994.2 1423.18 L15915 1423.18 L15915 1423.18  Z\" fill=\"#009af9\" fill-rule=\"evenodd\" fill-opacity=\"1\"/>\n",
       "<polyline clip-path=\"url(#clip622)\" style=\"stroke:#000000; stroke-linecap:round; stroke-linejoin:round; stroke-width:4; stroke-opacity:1; fill:none\" points=\"15915,1423.18 15915,1423.18 15994.2,1423.18 15915,1423.18 \"/>\n",
       "<path clip-path=\"url(#clip622)\" d=\"M15994.2 1423.18 L15994.2 1423.18 L16073.3 1423.18 L16073.3 1423.18 L15994.2 1423.18 L15994.2 1423.18  Z\" fill=\"#009af9\" fill-rule=\"evenodd\" fill-opacity=\"1\"/>\n",
       "<polyline clip-path=\"url(#clip622)\" style=\"stroke:#000000; stroke-linecap:round; stroke-linejoin:round; stroke-width:4; stroke-opacity:1; fill:none\" points=\"15994.2,1423.18 15994.2,1423.18 16073.3,1423.18 15994.2,1423.18 \"/>\n",
       "<path clip-path=\"url(#clip622)\" d=\"M16073.3 1423.18 L16073.3 1423.18 L16152.5 1423.18 L16152.5 1423.18 L16073.3 1423.18 L16073.3 1423.18  Z\" fill=\"#009af9\" fill-rule=\"evenodd\" fill-opacity=\"1\"/>\n",
       "<polyline clip-path=\"url(#clip622)\" style=\"stroke:#000000; stroke-linecap:round; stroke-linejoin:round; stroke-width:4; stroke-opacity:1; fill:none\" points=\"16073.3,1423.18 16073.3,1423.18 16152.5,1423.18 16073.3,1423.18 \"/>\n",
       "<path clip-path=\"url(#clip622)\" d=\"M16152.5 1423.18 L16152.5 1423.18 L16231.6 1423.18 L16231.6 1423.18 L16152.5 1423.18 L16152.5 1423.18  Z\" fill=\"#009af9\" fill-rule=\"evenodd\" fill-opacity=\"1\"/>\n",
       "<polyline clip-path=\"url(#clip622)\" style=\"stroke:#000000; stroke-linecap:round; stroke-linejoin:round; stroke-width:4; stroke-opacity:1; fill:none\" points=\"16152.5,1423.18 16152.5,1423.18 16231.6,1423.18 16152.5,1423.18 \"/>\n",
       "<path clip-path=\"url(#clip622)\" d=\"M16231.6 1423.18 L16231.6 1423.18 L16310.8 1423.18 L16310.8 1423.18 L16231.6 1423.18 L16231.6 1423.18  Z\" fill=\"#009af9\" fill-rule=\"evenodd\" fill-opacity=\"1\"/>\n",
       "<polyline clip-path=\"url(#clip622)\" style=\"stroke:#000000; stroke-linecap:round; stroke-linejoin:round; stroke-width:4; stroke-opacity:1; fill:none\" points=\"16231.6,1423.18 16231.6,1423.18 16310.8,1423.18 16231.6,1423.18 \"/>\n",
       "<path clip-path=\"url(#clip622)\" d=\"M16310.8 1423.18 L16310.8 1423.18 L16390 1423.18 L16390 1423.18 L16310.8 1423.18 L16310.8 1423.18  Z\" fill=\"#009af9\" fill-rule=\"evenodd\" fill-opacity=\"1\"/>\n",
       "<polyline clip-path=\"url(#clip622)\" style=\"stroke:#000000; stroke-linecap:round; stroke-linejoin:round; stroke-width:4; stroke-opacity:1; fill:none\" points=\"16310.8,1423.18 16310.8,1423.18 16390,1423.18 16310.8,1423.18 \"/>\n",
       "<path clip-path=\"url(#clip622)\" d=\"M16390 1423.18 L16390 1423.18 L16469.1 1423.18 L16469.1 1423.18 L16390 1423.18 L16390 1423.18  Z\" fill=\"#009af9\" fill-rule=\"evenodd\" fill-opacity=\"1\"/>\n",
       "<polyline clip-path=\"url(#clip622)\" style=\"stroke:#000000; stroke-linecap:round; stroke-linejoin:round; stroke-width:4; stroke-opacity:1; fill:none\" points=\"16390,1423.18 16390,1423.18 16469.1,1423.18 16390,1423.18 \"/>\n",
       "<path clip-path=\"url(#clip622)\" d=\"M16469.1 1423.18 L16469.1 1423.18 L16548.3 1423.18 L16548.3 1423.18 L16469.1 1423.18 L16469.1 1423.18  Z\" fill=\"#009af9\" fill-rule=\"evenodd\" fill-opacity=\"1\"/>\n",
       "<polyline clip-path=\"url(#clip622)\" style=\"stroke:#000000; stroke-linecap:round; stroke-linejoin:round; stroke-width:4; stroke-opacity:1; fill:none\" points=\"16469.1,1423.18 16469.1,1423.18 16548.3,1423.18 16469.1,1423.18 \"/>\n",
       "<path clip-path=\"url(#clip622)\" d=\"M16548.3 1423.18 L16548.3 1423.18 L16627.4 1423.18 L16627.4 1423.18 L16548.3 1423.18 L16548.3 1423.18  Z\" fill=\"#009af9\" fill-rule=\"evenodd\" fill-opacity=\"1\"/>\n",
       "<polyline clip-path=\"url(#clip622)\" style=\"stroke:#000000; stroke-linecap:round; stroke-linejoin:round; stroke-width:4; stroke-opacity:1; fill:none\" points=\"16548.3,1423.18 16548.3,1423.18 16627.4,1423.18 16548.3,1423.18 \"/>\n",
       "<path clip-path=\"url(#clip622)\" d=\"M16627.4 1423.18 L16627.4 1423.18 L16706.6 1423.18 L16706.6 1423.18 L16627.4 1423.18 L16627.4 1423.18  Z\" fill=\"#009af9\" fill-rule=\"evenodd\" fill-opacity=\"1\"/>\n",
       "<polyline clip-path=\"url(#clip622)\" style=\"stroke:#000000; stroke-linecap:round; stroke-linejoin:round; stroke-width:4; stroke-opacity:1; fill:none\" points=\"16627.4,1423.18 16627.4,1423.18 16706.6,1423.18 16627.4,1423.18 \"/>\n",
       "<path clip-path=\"url(#clip622)\" d=\"M16706.6 1423.18 L16706.6 1423.18 L16785.7 1423.18 L16785.7 1423.18 L16706.6 1423.18 L16706.6 1423.18  Z\" fill=\"#009af9\" fill-rule=\"evenodd\" fill-opacity=\"1\"/>\n",
       "<polyline clip-path=\"url(#clip622)\" style=\"stroke:#000000; stroke-linecap:round; stroke-linejoin:round; stroke-width:4; stroke-opacity:1; fill:none\" points=\"16706.6,1423.18 16706.6,1423.18 16785.7,1423.18 16706.6,1423.18 \"/>\n",
       "<path clip-path=\"url(#clip622)\" d=\"M16785.7 1423.18 L16785.7 1423.18 L16864.9 1423.18 L16864.9 1423.18 L16785.7 1423.18 L16785.7 1423.18  Z\" fill=\"#009af9\" fill-rule=\"evenodd\" fill-opacity=\"1\"/>\n",
       "<polyline clip-path=\"url(#clip622)\" style=\"stroke:#000000; stroke-linecap:round; stroke-linejoin:round; stroke-width:4; stroke-opacity:1; fill:none\" points=\"16785.7,1423.18 16785.7,1423.18 16864.9,1423.18 16785.7,1423.18 \"/>\n",
       "<path clip-path=\"url(#clip622)\" d=\"M16864.9 1423.18 L16864.9 1423.18 L16944 1423.18 L16944 1423.18 L16864.9 1423.18 L16864.9 1423.18  Z\" fill=\"#009af9\" fill-rule=\"evenodd\" fill-opacity=\"1\"/>\n",
       "<polyline clip-path=\"url(#clip622)\" style=\"stroke:#000000; stroke-linecap:round; stroke-linejoin:round; stroke-width:4; stroke-opacity:1; fill:none\" points=\"16864.9,1423.18 16864.9,1423.18 16944,1423.18 16864.9,1423.18 \"/>\n",
       "<path clip-path=\"url(#clip622)\" d=\"M16944 1423.18 L16944 1423.18 L17023.2 1423.18 L17023.2 1423.18 L16944 1423.18 L16944 1423.18  Z\" fill=\"#009af9\" fill-rule=\"evenodd\" fill-opacity=\"1\"/>\n",
       "<polyline clip-path=\"url(#clip622)\" style=\"stroke:#000000; stroke-linecap:round; stroke-linejoin:round; stroke-width:4; stroke-opacity:1; fill:none\" points=\"16944,1423.18 16944,1423.18 17023.2,1423.18 16944,1423.18 \"/>\n",
       "<path clip-path=\"url(#clip622)\" d=\"M17023.2 1423.18 L17023.2 1423.18 L17102.4 1423.18 L17102.4 1423.18 L17023.2 1423.18 L17023.2 1423.18  Z\" fill=\"#009af9\" fill-rule=\"evenodd\" fill-opacity=\"1\"/>\n",
       "<polyline clip-path=\"url(#clip622)\" style=\"stroke:#000000; stroke-linecap:round; stroke-linejoin:round; stroke-width:4; stroke-opacity:1; fill:none\" points=\"17023.2,1423.18 17023.2,1423.18 17102.4,1423.18 17023.2,1423.18 \"/>\n",
       "<path clip-path=\"url(#clip622)\" d=\"M17102.4 1423.18 L17102.4 1423.18 L17181.5 1423.18 L17181.5 1423.18 L17102.4 1423.18 L17102.4 1423.18  Z\" fill=\"#009af9\" fill-rule=\"evenodd\" fill-opacity=\"1\"/>\n",
       "<polyline clip-path=\"url(#clip622)\" style=\"stroke:#000000; stroke-linecap:round; stroke-linejoin:round; stroke-width:4; stroke-opacity:1; fill:none\" points=\"17102.4,1423.18 17102.4,1423.18 17181.5,1423.18 17102.4,1423.18 \"/>\n",
       "<path clip-path=\"url(#clip622)\" d=\"M17181.5 1423.18 L17181.5 1423.18 L17260.7 1423.18 L17260.7 1423.18 L17181.5 1423.18 L17181.5 1423.18  Z\" fill=\"#009af9\" fill-rule=\"evenodd\" fill-opacity=\"1\"/>\n",
       "<polyline clip-path=\"url(#clip622)\" style=\"stroke:#000000; stroke-linecap:round; stroke-linejoin:round; stroke-width:4; stroke-opacity:1; fill:none\" points=\"17181.5,1423.18 17181.5,1423.18 17260.7,1423.18 17181.5,1423.18 \"/>\n",
       "<path clip-path=\"url(#clip622)\" d=\"M17260.7 1423.18 L17260.7 1423.18 L17339.8 1423.18 L17339.8 1423.18 L17260.7 1423.18 L17260.7 1423.18  Z\" fill=\"#009af9\" fill-rule=\"evenodd\" fill-opacity=\"1\"/>\n",
       "<polyline clip-path=\"url(#clip622)\" style=\"stroke:#000000; stroke-linecap:round; stroke-linejoin:round; stroke-width:4; stroke-opacity:1; fill:none\" points=\"17260.7,1423.18 17260.7,1423.18 17339.8,1423.18 17260.7,1423.18 \"/>\n",
       "<path clip-path=\"url(#clip622)\" d=\"M17339.8 1423.18 L17339.8 1423.18 L17419 1423.18 L17419 1423.18 L17339.8 1423.18 L17339.8 1423.18  Z\" fill=\"#009af9\" fill-rule=\"evenodd\" fill-opacity=\"1\"/>\n",
       "<polyline clip-path=\"url(#clip622)\" style=\"stroke:#000000; stroke-linecap:round; stroke-linejoin:round; stroke-width:4; stroke-opacity:1; fill:none\" points=\"17339.8,1423.18 17339.8,1423.18 17419,1423.18 17339.8,1423.18 \"/>\n",
       "<path clip-path=\"url(#clip622)\" d=\"M17419 1423.18 L17419 1423.18 L17498.1 1423.18 L17498.1 1423.18 L17419 1423.18 L17419 1423.18  Z\" fill=\"#009af9\" fill-rule=\"evenodd\" fill-opacity=\"1\"/>\n",
       "<polyline clip-path=\"url(#clip622)\" style=\"stroke:#000000; stroke-linecap:round; stroke-linejoin:round; stroke-width:4; stroke-opacity:1; fill:none\" points=\"17419,1423.18 17419,1423.18 17498.1,1423.18 17419,1423.18 \"/>\n",
       "<path clip-path=\"url(#clip622)\" d=\"M17498.1 1423.18 L17498.1 1423.18 L17577.3 1423.18 L17577.3 1423.18 L17498.1 1423.18 L17498.1 1423.18  Z\" fill=\"#009af9\" fill-rule=\"evenodd\" fill-opacity=\"1\"/>\n",
       "<polyline clip-path=\"url(#clip622)\" style=\"stroke:#000000; stroke-linecap:round; stroke-linejoin:round; stroke-width:4; stroke-opacity:1; fill:none\" points=\"17498.1,1423.18 17498.1,1423.18 17577.3,1423.18 17498.1,1423.18 \"/>\n",
       "<path clip-path=\"url(#clip622)\" d=\"M17577.3 1423.18 L17577.3 1423.18 L17656.4 1423.18 L17656.4 1423.18 L17577.3 1423.18 L17577.3 1423.18  Z\" fill=\"#009af9\" fill-rule=\"evenodd\" fill-opacity=\"1\"/>\n",
       "<polyline clip-path=\"url(#clip622)\" style=\"stroke:#000000; stroke-linecap:round; stroke-linejoin:round; stroke-width:4; stroke-opacity:1; fill:none\" points=\"17577.3,1423.18 17577.3,1423.18 17656.4,1423.18 17577.3,1423.18 \"/>\n",
       "<path clip-path=\"url(#clip622)\" d=\"M17656.4 1423.18 L17656.4 1423.18 L17735.6 1423.18 L17735.6 1423.18 L17656.4 1423.18 L17656.4 1423.18  Z\" fill=\"#009af9\" fill-rule=\"evenodd\" fill-opacity=\"1\"/>\n",
       "<polyline clip-path=\"url(#clip622)\" style=\"stroke:#000000; stroke-linecap:round; stroke-linejoin:round; stroke-width:4; stroke-opacity:1; fill:none\" points=\"17656.4,1423.18 17656.4,1423.18 17735.6,1423.18 17656.4,1423.18 \"/>\n",
       "<path clip-path=\"url(#clip622)\" d=\"M17735.6 1423.18 L17735.6 1423.18 L17814.8 1423.18 L17814.8 1423.18 L17735.6 1423.18 L17735.6 1423.18  Z\" fill=\"#009af9\" fill-rule=\"evenodd\" fill-opacity=\"1\"/>\n",
       "<polyline clip-path=\"url(#clip622)\" style=\"stroke:#000000; stroke-linecap:round; stroke-linejoin:round; stroke-width:4; stroke-opacity:1; fill:none\" points=\"17735.6,1423.18 17735.6,1423.18 17814.8,1423.18 17735.6,1423.18 \"/>\n",
       "<path clip-path=\"url(#clip622)\" d=\"M17814.8 1423.18 L17814.8 1423.18 L17893.9 1423.18 L17893.9 1423.18 L17814.8 1423.18 L17814.8 1423.18  Z\" fill=\"#009af9\" fill-rule=\"evenodd\" fill-opacity=\"1\"/>\n",
       "<polyline clip-path=\"url(#clip622)\" style=\"stroke:#000000; stroke-linecap:round; stroke-linejoin:round; stroke-width:4; stroke-opacity:1; fill:none\" points=\"17814.8,1423.18 17814.8,1423.18 17893.9,1423.18 17814.8,1423.18 \"/>\n",
       "<path clip-path=\"url(#clip622)\" d=\"M17893.9 1423.18 L17893.9 1423.18 L17973.1 1423.18 L17973.1 1423.18 L17893.9 1423.18 L17893.9 1423.18  Z\" fill=\"#009af9\" fill-rule=\"evenodd\" fill-opacity=\"1\"/>\n",
       "<polyline clip-path=\"url(#clip622)\" style=\"stroke:#000000; stroke-linecap:round; stroke-linejoin:round; stroke-width:4; stroke-opacity:1; fill:none\" points=\"17893.9,1423.18 17893.9,1423.18 17973.1,1423.18 17893.9,1423.18 \"/>\n",
       "<path clip-path=\"url(#clip622)\" d=\"M17973.1 1423.18 L17973.1 1423.18 L18052.2 1423.18 L18052.2 1423.18 L17973.1 1423.18 L17973.1 1423.18  Z\" fill=\"#009af9\" fill-rule=\"evenodd\" fill-opacity=\"1\"/>\n",
       "<polyline clip-path=\"url(#clip622)\" style=\"stroke:#000000; stroke-linecap:round; stroke-linejoin:round; stroke-width:4; stroke-opacity:1; fill:none\" points=\"17973.1,1423.18 17973.1,1423.18 18052.2,1423.18 17973.1,1423.18 \"/>\n",
       "<path clip-path=\"url(#clip622)\" d=\"M18052.2 1423.18 L18052.2 1423.18 L18131.4 1423.18 L18131.4 1423.18 L18052.2 1423.18 L18052.2 1423.18  Z\" fill=\"#009af9\" fill-rule=\"evenodd\" fill-opacity=\"1\"/>\n",
       "<polyline clip-path=\"url(#clip622)\" style=\"stroke:#000000; stroke-linecap:round; stroke-linejoin:round; stroke-width:4; stroke-opacity:1; fill:none\" points=\"18052.2,1423.18 18052.2,1423.18 18131.4,1423.18 18052.2,1423.18 \"/>\n",
       "<path clip-path=\"url(#clip622)\" d=\"M18131.4 1423.18 L18131.4 1423.18 L18210.5 1423.18 L18210.5 1423.18 L18131.4 1423.18 L18131.4 1423.18  Z\" fill=\"#009af9\" fill-rule=\"evenodd\" fill-opacity=\"1\"/>\n",
       "<polyline clip-path=\"url(#clip622)\" style=\"stroke:#000000; stroke-linecap:round; stroke-linejoin:round; stroke-width:4; stroke-opacity:1; fill:none\" points=\"18131.4,1423.18 18131.4,1423.18 18210.5,1423.18 18131.4,1423.18 \"/>\n",
       "<path clip-path=\"url(#clip622)\" d=\"M18210.5 1423.18 L18210.5 1423.18 L18289.7 1423.18 L18289.7 1423.18 L18210.5 1423.18 L18210.5 1423.18  Z\" fill=\"#009af9\" fill-rule=\"evenodd\" fill-opacity=\"1\"/>\n",
       "<polyline clip-path=\"url(#clip622)\" style=\"stroke:#000000; stroke-linecap:round; stroke-linejoin:round; stroke-width:4; stroke-opacity:1; fill:none\" points=\"18210.5,1423.18 18210.5,1423.18 18289.7,1423.18 18210.5,1423.18 \"/>\n",
       "<path clip-path=\"url(#clip622)\" d=\"M18289.7 1423.18 L18289.7 1423.18 L18368.8 1423.18 L18368.8 1423.18 L18289.7 1423.18 L18289.7 1423.18  Z\" fill=\"#009af9\" fill-rule=\"evenodd\" fill-opacity=\"1\"/>\n",
       "<polyline clip-path=\"url(#clip622)\" style=\"stroke:#000000; stroke-linecap:round; stroke-linejoin:round; stroke-width:4; stroke-opacity:1; fill:none\" points=\"18289.7,1423.18 18289.7,1423.18 18368.8,1423.18 18289.7,1423.18 \"/>\n",
       "<path clip-path=\"url(#clip622)\" d=\"M18368.8 1423.18 L18368.8 1423.18 L18448 1423.18 L18448 1423.18 L18368.8 1423.18 L18368.8 1423.18  Z\" fill=\"#009af9\" fill-rule=\"evenodd\" fill-opacity=\"1\"/>\n",
       "<polyline clip-path=\"url(#clip622)\" style=\"stroke:#000000; stroke-linecap:round; stroke-linejoin:round; stroke-width:4; stroke-opacity:1; fill:none\" points=\"18368.8,1423.18 18368.8,1423.18 18448,1423.18 18368.8,1423.18 \"/>\n",
       "<path clip-path=\"url(#clip622)\" d=\"M18448 1423.18 L18448 1423.18 L18527.2 1423.18 L18527.2 1423.18 L18448 1423.18 L18448 1423.18  Z\" fill=\"#009af9\" fill-rule=\"evenodd\" fill-opacity=\"1\"/>\n",
       "<polyline clip-path=\"url(#clip622)\" style=\"stroke:#000000; stroke-linecap:round; stroke-linejoin:round; stroke-width:4; stroke-opacity:1; fill:none\" points=\"18448,1423.18 18448,1423.18 18527.2,1423.18 18448,1423.18 \"/>\n",
       "<path clip-path=\"url(#clip622)\" d=\"M18527.2 1423.18 L18527.2 1423.18 L18606.3 1423.18 L18606.3 1423.18 L18527.2 1423.18 L18527.2 1423.18  Z\" fill=\"#009af9\" fill-rule=\"evenodd\" fill-opacity=\"1\"/>\n",
       "<polyline clip-path=\"url(#clip622)\" style=\"stroke:#000000; stroke-linecap:round; stroke-linejoin:round; stroke-width:4; stroke-opacity:1; fill:none\" points=\"18527.2,1423.18 18527.2,1423.18 18606.3,1423.18 18527.2,1423.18 \"/>\n",
       "<path clip-path=\"url(#clip622)\" d=\"M18606.3 1423.18 L18606.3 1423.18 L18685.5 1423.18 L18685.5 1423.18 L18606.3 1423.18 L18606.3 1423.18  Z\" fill=\"#009af9\" fill-rule=\"evenodd\" fill-opacity=\"1\"/>\n",
       "<polyline clip-path=\"url(#clip622)\" style=\"stroke:#000000; stroke-linecap:round; stroke-linejoin:round; stroke-width:4; stroke-opacity:1; fill:none\" points=\"18606.3,1423.18 18606.3,1423.18 18685.5,1423.18 18606.3,1423.18 \"/>\n",
       "<path clip-path=\"url(#clip622)\" d=\"M18685.5 1423.18 L18685.5 1423.18 L18764.6 1423.18 L18764.6 1423.18 L18685.5 1423.18 L18685.5 1423.18  Z\" fill=\"#009af9\" fill-rule=\"evenodd\" fill-opacity=\"1\"/>\n",
       "<polyline clip-path=\"url(#clip622)\" style=\"stroke:#000000; stroke-linecap:round; stroke-linejoin:round; stroke-width:4; stroke-opacity:1; fill:none\" points=\"18685.5,1423.18 18685.5,1423.18 18764.6,1423.18 18685.5,1423.18 \"/>\n",
       "<path clip-path=\"url(#clip622)\" d=\"M18764.6 1423.18 L18764.6 1423.18 L18843.8 1423.18 L18843.8 1423.18 L18764.6 1423.18 L18764.6 1423.18  Z\" fill=\"#009af9\" fill-rule=\"evenodd\" fill-opacity=\"1\"/>\n",
       "<polyline clip-path=\"url(#clip622)\" style=\"stroke:#000000; stroke-linecap:round; stroke-linejoin:round; stroke-width:4; stroke-opacity:1; fill:none\" points=\"18764.6,1423.18 18764.6,1423.18 18843.8,1423.18 18764.6,1423.18 \"/>\n",
       "<path clip-path=\"url(#clip622)\" d=\"M18843.8 1423.18 L18843.8 1423.18 L18922.9 1423.18 L18922.9 1423.18 L18843.8 1423.18 L18843.8 1423.18  Z\" fill=\"#009af9\" fill-rule=\"evenodd\" fill-opacity=\"1\"/>\n",
       "<polyline clip-path=\"url(#clip622)\" style=\"stroke:#000000; stroke-linecap:round; stroke-linejoin:round; stroke-width:4; stroke-opacity:1; fill:none\" points=\"18843.8,1423.18 18843.8,1423.18 18922.9,1423.18 18843.8,1423.18 \"/>\n",
       "<path clip-path=\"url(#clip622)\" d=\"M18922.9 1423.18 L18922.9 1423.18 L19002.1 1423.18 L19002.1 1423.18 L18922.9 1423.18 L18922.9 1423.18  Z\" fill=\"#009af9\" fill-rule=\"evenodd\" fill-opacity=\"1\"/>\n",
       "<polyline clip-path=\"url(#clip622)\" style=\"stroke:#000000; stroke-linecap:round; stroke-linejoin:round; stroke-width:4; stroke-opacity:1; fill:none\" points=\"18922.9,1423.18 18922.9,1423.18 19002.1,1423.18 18922.9,1423.18 \"/>\n",
       "<path clip-path=\"url(#clip622)\" d=\"M19002.1 1423.18 L19002.1 1423.18 L19081.2 1423.18 L19081.2 1423.18 L19002.1 1423.18 L19002.1 1423.18  Z\" fill=\"#009af9\" fill-rule=\"evenodd\" fill-opacity=\"1\"/>\n",
       "<polyline clip-path=\"url(#clip622)\" style=\"stroke:#000000; stroke-linecap:round; stroke-linejoin:round; stroke-width:4; stroke-opacity:1; fill:none\" points=\"19002.1,1423.18 19002.1,1423.18 19081.2,1423.18 19002.1,1423.18 \"/>\n",
       "<path clip-path=\"url(#clip622)\" d=\"M19081.2 1423.18 L19081.2 1423.18 L19160.4 1423.18 L19160.4 1423.18 L19081.2 1423.18 L19081.2 1423.18  Z\" fill=\"#009af9\" fill-rule=\"evenodd\" fill-opacity=\"1\"/>\n",
       "<polyline clip-path=\"url(#clip622)\" style=\"stroke:#000000; stroke-linecap:round; stroke-linejoin:round; stroke-width:4; stroke-opacity:1; fill:none\" points=\"19081.2,1423.18 19081.2,1423.18 19160.4,1423.18 19081.2,1423.18 \"/>\n",
       "<path clip-path=\"url(#clip622)\" d=\"M19160.4 1423.18 L19160.4 1423.18 L19239.6 1423.18 L19239.6 1423.18 L19160.4 1423.18 L19160.4 1423.18  Z\" fill=\"#009af9\" fill-rule=\"evenodd\" fill-opacity=\"1\"/>\n",
       "<polyline clip-path=\"url(#clip622)\" style=\"stroke:#000000; stroke-linecap:round; stroke-linejoin:round; stroke-width:4; stroke-opacity:1; fill:none\" points=\"19160.4,1423.18 19160.4,1423.18 19239.6,1423.18 19160.4,1423.18 \"/>\n",
       "<path clip-path=\"url(#clip622)\" d=\"M19239.6 1423.18 L19239.6 1423.18 L19318.7 1423.18 L19318.7 1423.18 L19239.6 1423.18 L19239.6 1423.18  Z\" fill=\"#009af9\" fill-rule=\"evenodd\" fill-opacity=\"1\"/>\n",
       "<polyline clip-path=\"url(#clip622)\" style=\"stroke:#000000; stroke-linecap:round; stroke-linejoin:round; stroke-width:4; stroke-opacity:1; fill:none\" points=\"19239.6,1423.18 19239.6,1423.18 19318.7,1423.18 19239.6,1423.18 \"/>\n",
       "<path clip-path=\"url(#clip622)\" d=\"M19318.7 1423.18 L19318.7 1423.18 L19397.9 1423.18 L19397.9 1423.18 L19318.7 1423.18 L19318.7 1423.18  Z\" fill=\"#009af9\" fill-rule=\"evenodd\" fill-opacity=\"1\"/>\n",
       "<polyline clip-path=\"url(#clip622)\" style=\"stroke:#000000; stroke-linecap:round; stroke-linejoin:round; stroke-width:4; stroke-opacity:1; fill:none\" points=\"19318.7,1423.18 19318.7,1423.18 19397.9,1423.18 19318.7,1423.18 \"/>\n",
       "<path clip-path=\"url(#clip622)\" d=\"M19397.9 1423.18 L19397.9 1423.18 L19477 1423.18 L19477 1423.18 L19397.9 1423.18 L19397.9 1423.18  Z\" fill=\"#009af9\" fill-rule=\"evenodd\" fill-opacity=\"1\"/>\n",
       "<polyline clip-path=\"url(#clip622)\" style=\"stroke:#000000; stroke-linecap:round; stroke-linejoin:round; stroke-width:4; stroke-opacity:1; fill:none\" points=\"19397.9,1423.18 19397.9,1423.18 19477,1423.18 19397.9,1423.18 \"/>\n",
       "<path clip-path=\"url(#clip622)\" d=\"M19477 1423.18 L19477 1423.18 L19556.2 1423.18 L19556.2 1423.18 L19477 1423.18 L19477 1423.18  Z\" fill=\"#009af9\" fill-rule=\"evenodd\" fill-opacity=\"1\"/>\n",
       "<polyline clip-path=\"url(#clip622)\" style=\"stroke:#000000; stroke-linecap:round; stroke-linejoin:round; stroke-width:4; stroke-opacity:1; fill:none\" points=\"19477,1423.18 19477,1423.18 19556.2,1423.18 19477,1423.18 \"/>\n",
       "<path clip-path=\"url(#clip622)\" d=\"M19556.2 1423.18 L19556.2 1423.18 L19635.3 1423.18 L19635.3 1423.18 L19556.2 1423.18 L19556.2 1423.18  Z\" fill=\"#009af9\" fill-rule=\"evenodd\" fill-opacity=\"1\"/>\n",
       "<polyline clip-path=\"url(#clip622)\" style=\"stroke:#000000; stroke-linecap:round; stroke-linejoin:round; stroke-width:4; stroke-opacity:1; fill:none\" points=\"19556.2,1423.18 19556.2,1423.18 19635.3,1423.18 19556.2,1423.18 \"/>\n",
       "<path clip-path=\"url(#clip622)\" d=\"M19635.3 1423.18 L19635.3 1423.18 L19714.5 1423.18 L19714.5 1423.18 L19635.3 1423.18 L19635.3 1423.18  Z\" fill=\"#009af9\" fill-rule=\"evenodd\" fill-opacity=\"1\"/>\n",
       "<polyline clip-path=\"url(#clip622)\" style=\"stroke:#000000; stroke-linecap:round; stroke-linejoin:round; stroke-width:4; stroke-opacity:1; fill:none\" points=\"19635.3,1423.18 19635.3,1423.18 19714.5,1423.18 19635.3,1423.18 \"/>\n",
       "<path clip-path=\"url(#clip622)\" d=\"M19714.5 1423.18 L19714.5 1423.18 L19793.6 1423.18 L19793.6 1423.18 L19714.5 1423.18 L19714.5 1423.18  Z\" fill=\"#009af9\" fill-rule=\"evenodd\" fill-opacity=\"1\"/>\n",
       "<polyline clip-path=\"url(#clip622)\" style=\"stroke:#000000; stroke-linecap:round; stroke-linejoin:round; stroke-width:4; stroke-opacity:1; fill:none\" points=\"19714.5,1423.18 19714.5,1423.18 19793.6,1423.18 19714.5,1423.18 \"/>\n",
       "<path clip-path=\"url(#clip622)\" d=\"M19793.6 1423.18 L19793.6 1423.18 L19872.8 1423.18 L19872.8 1423.18 L19793.6 1423.18 L19793.6 1423.18  Z\" fill=\"#009af9\" fill-rule=\"evenodd\" fill-opacity=\"1\"/>\n",
       "<polyline clip-path=\"url(#clip622)\" style=\"stroke:#000000; stroke-linecap:round; stroke-linejoin:round; stroke-width:4; stroke-opacity:1; fill:none\" points=\"19793.6,1423.18 19793.6,1423.18 19872.8,1423.18 19793.6,1423.18 \"/>\n",
       "<path clip-path=\"url(#clip622)\" d=\"M19872.8 1423.18 L19872.8 1423.18 L19951.9 1423.18 L19951.9 1423.18 L19872.8 1423.18 L19872.8 1423.18  Z\" fill=\"#009af9\" fill-rule=\"evenodd\" fill-opacity=\"1\"/>\n",
       "<polyline clip-path=\"url(#clip622)\" style=\"stroke:#000000; stroke-linecap:round; stroke-linejoin:round; stroke-width:4; stroke-opacity:1; fill:none\" points=\"19872.8,1423.18 19872.8,1423.18 19951.9,1423.18 19872.8,1423.18 \"/>\n",
       "<path clip-path=\"url(#clip622)\" d=\"M19951.9 1423.18 L19951.9 1423.18 L20031.1 1423.18 L20031.1 1423.18 L19951.9 1423.18 L19951.9 1423.18  Z\" fill=\"#009af9\" fill-rule=\"evenodd\" fill-opacity=\"1\"/>\n",
       "<polyline clip-path=\"url(#clip622)\" style=\"stroke:#000000; stroke-linecap:round; stroke-linejoin:round; stroke-width:4; stroke-opacity:1; fill:none\" points=\"19951.9,1423.18 19951.9,1423.18 20031.1,1423.18 19951.9,1423.18 \"/>\n",
       "<path clip-path=\"url(#clip622)\" d=\"M20031.1 1423.18 L20031.1 1423.18 L20110.3 1423.18 L20110.3 1423.18 L20031.1 1423.18 L20031.1 1423.18  Z\" fill=\"#009af9\" fill-rule=\"evenodd\" fill-opacity=\"1\"/>\n",
       "<polyline clip-path=\"url(#clip622)\" style=\"stroke:#000000; stroke-linecap:round; stroke-linejoin:round; stroke-width:4; stroke-opacity:1; fill:none\" points=\"20031.1,1423.18 20031.1,1423.18 20110.3,1423.18 20031.1,1423.18 \"/>\n",
       "<path clip-path=\"url(#clip622)\" d=\"M20110.3 1423.18 L20110.3 1423.18 L20189.4 1423.18 L20189.4 1423.18 L20110.3 1423.18 L20110.3 1423.18  Z\" fill=\"#009af9\" fill-rule=\"evenodd\" fill-opacity=\"1\"/>\n",
       "<polyline clip-path=\"url(#clip622)\" style=\"stroke:#000000; stroke-linecap:round; stroke-linejoin:round; stroke-width:4; stroke-opacity:1; fill:none\" points=\"20110.3,1423.18 20110.3,1423.18 20189.4,1423.18 20110.3,1423.18 \"/>\n",
       "<path clip-path=\"url(#clip622)\" d=\"M20189.4 1423.18 L20189.4 1423.18 L20268.6 1423.18 L20268.6 1423.18 L20189.4 1423.18 L20189.4 1423.18  Z\" fill=\"#009af9\" fill-rule=\"evenodd\" fill-opacity=\"1\"/>\n",
       "<polyline clip-path=\"url(#clip622)\" style=\"stroke:#000000; stroke-linecap:round; stroke-linejoin:round; stroke-width:4; stroke-opacity:1; fill:none\" points=\"20189.4,1423.18 20189.4,1423.18 20268.6,1423.18 20189.4,1423.18 \"/>\n",
       "<path clip-path=\"url(#clip622)\" d=\"M20268.6 1423.18 L20268.6 1423.18 L20347.7 1423.18 L20347.7 1423.18 L20268.6 1423.18 L20268.6 1423.18  Z\" fill=\"#009af9\" fill-rule=\"evenodd\" fill-opacity=\"1\"/>\n",
       "<polyline clip-path=\"url(#clip622)\" style=\"stroke:#000000; stroke-linecap:round; stroke-linejoin:round; stroke-width:4; stroke-opacity:1; fill:none\" points=\"20268.6,1423.18 20268.6,1423.18 20347.7,1423.18 20268.6,1423.18 \"/>\n",
       "<path clip-path=\"url(#clip622)\" d=\"M20347.7 1423.18 L20347.7 1423.18 L20426.9 1423.18 L20426.9 1423.18 L20347.7 1423.18 L20347.7 1423.18  Z\" fill=\"#009af9\" fill-rule=\"evenodd\" fill-opacity=\"1\"/>\n",
       "<polyline clip-path=\"url(#clip622)\" style=\"stroke:#000000; stroke-linecap:round; stroke-linejoin:round; stroke-width:4; stroke-opacity:1; fill:none\" points=\"20347.7,1423.18 20347.7,1423.18 20426.9,1423.18 20347.7,1423.18 \"/>\n",
       "<path clip-path=\"url(#clip622)\" d=\"M20426.9 1423.18 L20426.9 1423.18 L20506 1423.18 L20506 1423.18 L20426.9 1423.18 L20426.9 1423.18  Z\" fill=\"#009af9\" fill-rule=\"evenodd\" fill-opacity=\"1\"/>\n",
       "<polyline clip-path=\"url(#clip622)\" style=\"stroke:#000000; stroke-linecap:round; stroke-linejoin:round; stroke-width:4; stroke-opacity:1; fill:none\" points=\"20426.9,1423.18 20426.9,1423.18 20506,1423.18 20426.9,1423.18 \"/>\n",
       "<path clip-path=\"url(#clip622)\" d=\"M20506 1423.18 L20506 1423.18 L20585.2 1423.18 L20585.2 1423.18 L20506 1423.18 L20506 1423.18  Z\" fill=\"#009af9\" fill-rule=\"evenodd\" fill-opacity=\"1\"/>\n",
       "<polyline clip-path=\"url(#clip622)\" style=\"stroke:#000000; stroke-linecap:round; stroke-linejoin:round; stroke-width:4; stroke-opacity:1; fill:none\" points=\"20506,1423.18 20506,1423.18 20585.2,1423.18 20506,1423.18 \"/>\n",
       "<path clip-path=\"url(#clip622)\" d=\"M20585.2 1423.18 L20585.2 1423.18 L20664.3 1423.18 L20664.3 1423.18 L20585.2 1423.18 L20585.2 1423.18  Z\" fill=\"#009af9\" fill-rule=\"evenodd\" fill-opacity=\"1\"/>\n",
       "<polyline clip-path=\"url(#clip622)\" style=\"stroke:#000000; stroke-linecap:round; stroke-linejoin:round; stroke-width:4; stroke-opacity:1; fill:none\" points=\"20585.2,1423.18 20585.2,1423.18 20664.3,1423.18 20585.2,1423.18 \"/>\n",
       "<path clip-path=\"url(#clip622)\" d=\"M20664.3 1423.18 L20664.3 1423.18 L20743.5 1423.18 L20743.5 1423.18 L20664.3 1423.18 L20664.3 1423.18  Z\" fill=\"#009af9\" fill-rule=\"evenodd\" fill-opacity=\"1\"/>\n",
       "<polyline clip-path=\"url(#clip622)\" style=\"stroke:#000000; stroke-linecap:round; stroke-linejoin:round; stroke-width:4; stroke-opacity:1; fill:none\" points=\"20664.3,1423.18 20664.3,1423.18 20743.5,1423.18 20664.3,1423.18 \"/>\n",
       "<path clip-path=\"url(#clip622)\" d=\"M20743.5 1423.18 L20743.5 1423.18 L20822.7 1423.18 L20822.7 1423.18 L20743.5 1423.18 L20743.5 1423.18  Z\" fill=\"#009af9\" fill-rule=\"evenodd\" fill-opacity=\"1\"/>\n",
       "<polyline clip-path=\"url(#clip622)\" style=\"stroke:#000000; stroke-linecap:round; stroke-linejoin:round; stroke-width:4; stroke-opacity:1; fill:none\" points=\"20743.5,1423.18 20743.5,1423.18 20822.7,1423.18 20743.5,1423.18 \"/>\n",
       "<path clip-path=\"url(#clip622)\" d=\"M20822.7 1423.18 L20822.7 1423.18 L20901.8 1423.18 L20901.8 1423.18 L20822.7 1423.18 L20822.7 1423.18  Z\" fill=\"#009af9\" fill-rule=\"evenodd\" fill-opacity=\"1\"/>\n",
       "<polyline clip-path=\"url(#clip622)\" style=\"stroke:#000000; stroke-linecap:round; stroke-linejoin:round; stroke-width:4; stroke-opacity:1; fill:none\" points=\"20822.7,1423.18 20822.7,1423.18 20901.8,1423.18 20822.7,1423.18 \"/>\n",
       "<path clip-path=\"url(#clip622)\" d=\"M20901.8 1423.18 L20901.8 1423.18 L20981 1423.18 L20981 1423.18 L20901.8 1423.18 L20901.8 1423.18  Z\" fill=\"#009af9\" fill-rule=\"evenodd\" fill-opacity=\"1\"/>\n",
       "<polyline clip-path=\"url(#clip622)\" style=\"stroke:#000000; stroke-linecap:round; stroke-linejoin:round; stroke-width:4; stroke-opacity:1; fill:none\" points=\"20901.8,1423.18 20901.8,1423.18 20981,1423.18 20901.8,1423.18 \"/>\n",
       "<path clip-path=\"url(#clip622)\" d=\"M20981 1423.18 L20981 1423.18 L21060.1 1423.18 L21060.1 1423.18 L20981 1423.18 L20981 1423.18  Z\" fill=\"#009af9\" fill-rule=\"evenodd\" fill-opacity=\"1\"/>\n",
       "<polyline clip-path=\"url(#clip622)\" style=\"stroke:#000000; stroke-linecap:round; stroke-linejoin:round; stroke-width:4; stroke-opacity:1; fill:none\" points=\"20981,1423.18 20981,1423.18 21060.1,1423.18 20981,1423.18 \"/>\n",
       "<path clip-path=\"url(#clip622)\" d=\"M21060.1 1423.18 L21060.1 1423.18 L21139.3 1423.18 L21139.3 1423.18 L21060.1 1423.18 L21060.1 1423.18  Z\" fill=\"#009af9\" fill-rule=\"evenodd\" fill-opacity=\"1\"/>\n",
       "<polyline clip-path=\"url(#clip622)\" style=\"stroke:#000000; stroke-linecap:round; stroke-linejoin:round; stroke-width:4; stroke-opacity:1; fill:none\" points=\"21060.1,1423.18 21060.1,1423.18 21139.3,1423.18 21060.1,1423.18 \"/>\n",
       "<path clip-path=\"url(#clip622)\" d=\"M21139.3 1423.18 L21139.3 1423.18 L21218.4 1423.18 L21218.4 1423.18 L21139.3 1423.18 L21139.3 1423.18  Z\" fill=\"#009af9\" fill-rule=\"evenodd\" fill-opacity=\"1\"/>\n",
       "<polyline clip-path=\"url(#clip622)\" style=\"stroke:#000000; stroke-linecap:round; stroke-linejoin:round; stroke-width:4; stroke-opacity:1; fill:none\" points=\"21139.3,1423.18 21139.3,1423.18 21218.4,1423.18 21139.3,1423.18 \"/>\n",
       "<path clip-path=\"url(#clip622)\" d=\"M21218.4 1423.18 L21218.4 1423.18 L21297.6 1423.18 L21297.6 1423.18 L21218.4 1423.18 L21218.4 1423.18  Z\" fill=\"#009af9\" fill-rule=\"evenodd\" fill-opacity=\"1\"/>\n",
       "<polyline clip-path=\"url(#clip622)\" style=\"stroke:#000000; stroke-linecap:round; stroke-linejoin:round; stroke-width:4; stroke-opacity:1; fill:none\" points=\"21218.4,1423.18 21218.4,1423.18 21297.6,1423.18 21218.4,1423.18 \"/>\n",
       "<path clip-path=\"url(#clip622)\" d=\"M21297.6 1423.18 L21297.6 1423.18 L21376.7 1423.18 L21376.7 1423.18 L21297.6 1423.18 L21297.6 1423.18  Z\" fill=\"#009af9\" fill-rule=\"evenodd\" fill-opacity=\"1\"/>\n",
       "<polyline clip-path=\"url(#clip622)\" style=\"stroke:#000000; stroke-linecap:round; stroke-linejoin:round; stroke-width:4; stroke-opacity:1; fill:none\" points=\"21297.6,1423.18 21297.6,1423.18 21376.7,1423.18 21297.6,1423.18 \"/>\n",
       "<path clip-path=\"url(#clip622)\" d=\"M21376.7 1423.18 L21376.7 1423.18 L21455.9 1423.18 L21455.9 1423.18 L21376.7 1423.18 L21376.7 1423.18  Z\" fill=\"#009af9\" fill-rule=\"evenodd\" fill-opacity=\"1\"/>\n",
       "<polyline clip-path=\"url(#clip622)\" style=\"stroke:#000000; stroke-linecap:round; stroke-linejoin:round; stroke-width:4; stroke-opacity:1; fill:none\" points=\"21376.7,1423.18 21376.7,1423.18 21455.9,1423.18 21376.7,1423.18 \"/>\n",
       "<path clip-path=\"url(#clip622)\" d=\"M21455.9 1423.18 L21455.9 1423.18 L21535.1 1423.18 L21535.1 1423.18 L21455.9 1423.18 L21455.9 1423.18  Z\" fill=\"#009af9\" fill-rule=\"evenodd\" fill-opacity=\"1\"/>\n",
       "<polyline clip-path=\"url(#clip622)\" style=\"stroke:#000000; stroke-linecap:round; stroke-linejoin:round; stroke-width:4; stroke-opacity:1; fill:none\" points=\"21455.9,1423.18 21455.9,1423.18 21535.1,1423.18 21455.9,1423.18 \"/>\n",
       "<path clip-path=\"url(#clip622)\" d=\"M21535.1 1423.18 L21535.1 1423.18 L21614.2 1423.18 L21614.2 1423.18 L21535.1 1423.18 L21535.1 1423.18  Z\" fill=\"#009af9\" fill-rule=\"evenodd\" fill-opacity=\"1\"/>\n",
       "<polyline clip-path=\"url(#clip622)\" style=\"stroke:#000000; stroke-linecap:round; stroke-linejoin:round; stroke-width:4; stroke-opacity:1; fill:none\" points=\"21535.1,1423.18 21535.1,1423.18 21614.2,1423.18 21535.1,1423.18 \"/>\n",
       "<path clip-path=\"url(#clip622)\" d=\"M21614.2 1423.18 L21614.2 1423.18 L21693.4 1423.18 L21693.4 1423.18 L21614.2 1423.18 L21614.2 1423.18  Z\" fill=\"#009af9\" fill-rule=\"evenodd\" fill-opacity=\"1\"/>\n",
       "<polyline clip-path=\"url(#clip622)\" style=\"stroke:#000000; stroke-linecap:round; stroke-linejoin:round; stroke-width:4; stroke-opacity:1; fill:none\" points=\"21614.2,1423.18 21614.2,1423.18 21693.4,1423.18 21614.2,1423.18 \"/>\n",
       "<path clip-path=\"url(#clip622)\" d=\"M21693.4 1423.18 L21693.4 1423.18 L21772.5 1423.18 L21772.5 1423.18 L21693.4 1423.18 L21693.4 1423.18  Z\" fill=\"#009af9\" fill-rule=\"evenodd\" fill-opacity=\"1\"/>\n",
       "<polyline clip-path=\"url(#clip622)\" style=\"stroke:#000000; stroke-linecap:round; stroke-linejoin:round; stroke-width:4; stroke-opacity:1; fill:none\" points=\"21693.4,1423.18 21693.4,1423.18 21772.5,1423.18 21693.4,1423.18 \"/>\n",
       "<path clip-path=\"url(#clip622)\" d=\"M21772.5 1423.18 L21772.5 1423.18 L21851.7 1423.18 L21851.7 1423.18 L21772.5 1423.18 L21772.5 1423.18  Z\" fill=\"#009af9\" fill-rule=\"evenodd\" fill-opacity=\"1\"/>\n",
       "<polyline clip-path=\"url(#clip622)\" style=\"stroke:#000000; stroke-linecap:round; stroke-linejoin:round; stroke-width:4; stroke-opacity:1; fill:none\" points=\"21772.5,1423.18 21772.5,1423.18 21851.7,1423.18 21772.5,1423.18 \"/>\n",
       "<path clip-path=\"url(#clip622)\" d=\"M21851.7 1423.18 L21851.7 1423.18 L21930.8 1423.18 L21930.8 1423.18 L21851.7 1423.18 L21851.7 1423.18  Z\" fill=\"#009af9\" fill-rule=\"evenodd\" fill-opacity=\"1\"/>\n",
       "<polyline clip-path=\"url(#clip622)\" style=\"stroke:#000000; stroke-linecap:round; stroke-linejoin:round; stroke-width:4; stroke-opacity:1; fill:none\" points=\"21851.7,1423.18 21851.7,1423.18 21930.8,1423.18 21851.7,1423.18 \"/>\n",
       "<path clip-path=\"url(#clip622)\" d=\"M21930.8 1423.18 L21930.8 1423.18 L22010 1423.18 L22010 1423.18 L21930.8 1423.18 L21930.8 1423.18  Z\" fill=\"#009af9\" fill-rule=\"evenodd\" fill-opacity=\"1\"/>\n",
       "<polyline clip-path=\"url(#clip622)\" style=\"stroke:#000000; stroke-linecap:round; stroke-linejoin:round; stroke-width:4; stroke-opacity:1; fill:none\" points=\"21930.8,1423.18 21930.8,1423.18 22010,1423.18 21930.8,1423.18 \"/>\n",
       "<path clip-path=\"url(#clip622)\" d=\"M22010 1423.18 L22010 1423.18 L22089.1 1423.18 L22089.1 1423.18 L22010 1423.18 L22010 1423.18  Z\" fill=\"#009af9\" fill-rule=\"evenodd\" fill-opacity=\"1\"/>\n",
       "<polyline clip-path=\"url(#clip622)\" style=\"stroke:#000000; stroke-linecap:round; stroke-linejoin:round; stroke-width:4; stroke-opacity:1; fill:none\" points=\"22010,1423.18 22010,1423.18 22089.1,1423.18 22010,1423.18 \"/>\n",
       "<path clip-path=\"url(#clip622)\" d=\"M22089.1 1423.18 L22089.1 1423.18 L22168.3 1423.18 L22168.3 1423.18 L22089.1 1423.18 L22089.1 1423.18  Z\" fill=\"#009af9\" fill-rule=\"evenodd\" fill-opacity=\"1\"/>\n",
       "<polyline clip-path=\"url(#clip622)\" style=\"stroke:#000000; stroke-linecap:round; stroke-linejoin:round; stroke-width:4; stroke-opacity:1; fill:none\" points=\"22089.1,1423.18 22089.1,1423.18 22168.3,1423.18 22089.1,1423.18 \"/>\n",
       "<path clip-path=\"url(#clip622)\" d=\"M22168.3 1423.18 L22168.3 1423.18 L22247.5 1423.18 L22247.5 1423.18 L22168.3 1423.18 L22168.3 1423.18  Z\" fill=\"#009af9\" fill-rule=\"evenodd\" fill-opacity=\"1\"/>\n",
       "<polyline clip-path=\"url(#clip622)\" style=\"stroke:#000000; stroke-linecap:round; stroke-linejoin:round; stroke-width:4; stroke-opacity:1; fill:none\" points=\"22168.3,1423.18 22168.3,1423.18 22247.5,1423.18 22168.3,1423.18 \"/>\n",
       "<path clip-path=\"url(#clip622)\" d=\"M22247.5 1423.18 L22247.5 1423.18 L22326.6 1423.18 L22326.6 1423.18 L22247.5 1423.18 L22247.5 1423.18  Z\" fill=\"#009af9\" fill-rule=\"evenodd\" fill-opacity=\"1\"/>\n",
       "<polyline clip-path=\"url(#clip622)\" style=\"stroke:#000000; stroke-linecap:round; stroke-linejoin:round; stroke-width:4; stroke-opacity:1; fill:none\" points=\"22247.5,1423.18 22247.5,1423.18 22326.6,1423.18 22247.5,1423.18 \"/>\n",
       "<path clip-path=\"url(#clip622)\" d=\"M22326.6 1423.18 L22326.6 1423.18 L22405.8 1423.18 L22405.8 1423.18 L22326.6 1423.18 L22326.6 1423.18  Z\" fill=\"#009af9\" fill-rule=\"evenodd\" fill-opacity=\"1\"/>\n",
       "<polyline clip-path=\"url(#clip622)\" style=\"stroke:#000000; stroke-linecap:round; stroke-linejoin:round; stroke-width:4; stroke-opacity:1; fill:none\" points=\"22326.6,1423.18 22326.6,1423.18 22405.8,1423.18 22326.6,1423.18 \"/>\n",
       "<path clip-path=\"url(#clip622)\" d=\"M22405.8 1423.18 L22405.8 1423.18 L22484.9 1423.18 L22484.9 1423.18 L22405.8 1423.18 L22405.8 1423.18  Z\" fill=\"#009af9\" fill-rule=\"evenodd\" fill-opacity=\"1\"/>\n",
       "<polyline clip-path=\"url(#clip622)\" style=\"stroke:#000000; stroke-linecap:round; stroke-linejoin:round; stroke-width:4; stroke-opacity:1; fill:none\" points=\"22405.8,1423.18 22405.8,1423.18 22484.9,1423.18 22405.8,1423.18 \"/>\n",
       "<path clip-path=\"url(#clip622)\" d=\"M22484.9 1423.18 L22484.9 1423.18 L22564.1 1423.18 L22564.1 1423.18 L22484.9 1423.18 L22484.9 1423.18  Z\" fill=\"#009af9\" fill-rule=\"evenodd\" fill-opacity=\"1\"/>\n",
       "<polyline clip-path=\"url(#clip622)\" style=\"stroke:#000000; stroke-linecap:round; stroke-linejoin:round; stroke-width:4; stroke-opacity:1; fill:none\" points=\"22484.9,1423.18 22484.9,1423.18 22564.1,1423.18 22484.9,1423.18 \"/>\n",
       "<path clip-path=\"url(#clip622)\" d=\"M22564.1 1423.18 L22564.1 1423.18 L22643.2 1423.18 L22643.2 1423.18 L22564.1 1423.18 L22564.1 1423.18  Z\" fill=\"#009af9\" fill-rule=\"evenodd\" fill-opacity=\"1\"/>\n",
       "<polyline clip-path=\"url(#clip622)\" style=\"stroke:#000000; stroke-linecap:round; stroke-linejoin:round; stroke-width:4; stroke-opacity:1; fill:none\" points=\"22564.1,1423.18 22564.1,1423.18 22643.2,1423.18 22564.1,1423.18 \"/>\n",
       "<path clip-path=\"url(#clip622)\" d=\"M22643.2 1423.18 L22643.2 1423.18 L22722.4 1423.18 L22722.4 1423.18 L22643.2 1423.18 L22643.2 1423.18  Z\" fill=\"#009af9\" fill-rule=\"evenodd\" fill-opacity=\"1\"/>\n",
       "<polyline clip-path=\"url(#clip622)\" style=\"stroke:#000000; stroke-linecap:round; stroke-linejoin:round; stroke-width:4; stroke-opacity:1; fill:none\" points=\"22643.2,1423.18 22643.2,1423.18 22722.4,1423.18 22643.2,1423.18 \"/>\n",
       "<path clip-path=\"url(#clip622)\" d=\"M22722.4 1423.18 L22722.4 1423.18 L22801.5 1423.18 L22801.5 1423.18 L22722.4 1423.18 L22722.4 1423.18  Z\" fill=\"#009af9\" fill-rule=\"evenodd\" fill-opacity=\"1\"/>\n",
       "<polyline clip-path=\"url(#clip622)\" style=\"stroke:#000000; stroke-linecap:round; stroke-linejoin:round; stroke-width:4; stroke-opacity:1; fill:none\" points=\"22722.4,1423.18 22722.4,1423.18 22801.5,1423.18 22722.4,1423.18 \"/>\n",
       "<path clip-path=\"url(#clip622)\" d=\"M22801.5 1423.18 L22801.5 1423.18 L22880.7 1423.18 L22880.7 1423.18 L22801.5 1423.18 L22801.5 1423.18  Z\" fill=\"#009af9\" fill-rule=\"evenodd\" fill-opacity=\"1\"/>\n",
       "<polyline clip-path=\"url(#clip622)\" style=\"stroke:#000000; stroke-linecap:round; stroke-linejoin:round; stroke-width:4; stroke-opacity:1; fill:none\" points=\"22801.5,1423.18 22801.5,1423.18 22880.7,1423.18 22801.5,1423.18 \"/>\n",
       "<path clip-path=\"url(#clip622)\" d=\"M22880.7 1423.18 L22880.7 1423.18 L22959.9 1423.18 L22959.9 1423.18 L22880.7 1423.18 L22880.7 1423.18  Z\" fill=\"#009af9\" fill-rule=\"evenodd\" fill-opacity=\"1\"/>\n",
       "<polyline clip-path=\"url(#clip622)\" style=\"stroke:#000000; stroke-linecap:round; stroke-linejoin:round; stroke-width:4; stroke-opacity:1; fill:none\" points=\"22880.7,1423.18 22880.7,1423.18 22959.9,1423.18 22880.7,1423.18 \"/>\n",
       "<path clip-path=\"url(#clip622)\" d=\"M22959.9 1423.18 L22959.9 1423.18 L23039 1423.18 L23039 1423.18 L22959.9 1423.18 L22959.9 1423.18  Z\" fill=\"#009af9\" fill-rule=\"evenodd\" fill-opacity=\"1\"/>\n",
       "<polyline clip-path=\"url(#clip622)\" style=\"stroke:#000000; stroke-linecap:round; stroke-linejoin:round; stroke-width:4; stroke-opacity:1; fill:none\" points=\"22959.9,1423.18 22959.9,1423.18 23039,1423.18 22959.9,1423.18 \"/>\n",
       "<path clip-path=\"url(#clip622)\" d=\"M23039 1423.18 L23039 1423.18 L23118.2 1423.18 L23118.2 1423.18 L23039 1423.18 L23039 1423.18  Z\" fill=\"#009af9\" fill-rule=\"evenodd\" fill-opacity=\"1\"/>\n",
       "<polyline clip-path=\"url(#clip622)\" style=\"stroke:#000000; stroke-linecap:round; stroke-linejoin:round; stroke-width:4; stroke-opacity:1; fill:none\" points=\"23039,1423.18 23039,1423.18 23118.2,1423.18 23039,1423.18 \"/>\n",
       "<path clip-path=\"url(#clip622)\" d=\"M23118.2 1423.18 L23118.2 1423.18 L23197.3 1423.18 L23197.3 1423.18 L23118.2 1423.18 L23118.2 1423.18  Z\" fill=\"#009af9\" fill-rule=\"evenodd\" fill-opacity=\"1\"/>\n",
       "<polyline clip-path=\"url(#clip622)\" style=\"stroke:#000000; stroke-linecap:round; stroke-linejoin:round; stroke-width:4; stroke-opacity:1; fill:none\" points=\"23118.2,1423.18 23118.2,1423.18 23197.3,1423.18 23118.2,1423.18 \"/>\n",
       "<path clip-path=\"url(#clip622)\" d=\"M23197.3 1423.18 L23197.3 1423.18 L23276.5 1423.18 L23276.5 1423.18 L23197.3 1423.18 L23197.3 1423.18  Z\" fill=\"#009af9\" fill-rule=\"evenodd\" fill-opacity=\"1\"/>\n",
       "<polyline clip-path=\"url(#clip622)\" style=\"stroke:#000000; stroke-linecap:round; stroke-linejoin:round; stroke-width:4; stroke-opacity:1; fill:none\" points=\"23197.3,1423.18 23197.3,1423.18 23276.5,1423.18 23197.3,1423.18 \"/>\n",
       "<path clip-path=\"url(#clip622)\" d=\"M23276.5 1423.18 L23276.5 1423.18 L23355.6 1423.18 L23355.6 1423.18 L23276.5 1423.18 L23276.5 1423.18  Z\" fill=\"#009af9\" fill-rule=\"evenodd\" fill-opacity=\"1\"/>\n",
       "<polyline clip-path=\"url(#clip622)\" style=\"stroke:#000000; stroke-linecap:round; stroke-linejoin:round; stroke-width:4; stroke-opacity:1; fill:none\" points=\"23276.5,1423.18 23276.5,1423.18 23355.6,1423.18 23276.5,1423.18 \"/>\n",
       "<path clip-path=\"url(#clip622)\" d=\"M23355.6 1423.18 L23355.6 1423.18 L23434.8 1423.18 L23434.8 1423.18 L23355.6 1423.18 L23355.6 1423.18  Z\" fill=\"#009af9\" fill-rule=\"evenodd\" fill-opacity=\"1\"/>\n",
       "<polyline clip-path=\"url(#clip622)\" style=\"stroke:#000000; stroke-linecap:round; stroke-linejoin:round; stroke-width:4; stroke-opacity:1; fill:none\" points=\"23355.6,1423.18 23355.6,1423.18 23434.8,1423.18 23355.6,1423.18 \"/>\n",
       "<path clip-path=\"url(#clip622)\" d=\"M23434.8 1423.18 L23434.8 1423.18 L23513.9 1423.18 L23513.9 1423.18 L23434.8 1423.18 L23434.8 1423.18  Z\" fill=\"#009af9\" fill-rule=\"evenodd\" fill-opacity=\"1\"/>\n",
       "<polyline clip-path=\"url(#clip622)\" style=\"stroke:#000000; stroke-linecap:round; stroke-linejoin:round; stroke-width:4; stroke-opacity:1; fill:none\" points=\"23434.8,1423.18 23434.8,1423.18 23513.9,1423.18 23434.8,1423.18 \"/>\n",
       "<path clip-path=\"url(#clip622)\" d=\"M23513.9 1423.18 L23513.9 1423.18 L23593.1 1423.18 L23593.1 1423.18 L23513.9 1423.18 L23513.9 1423.18  Z\" fill=\"#009af9\" fill-rule=\"evenodd\" fill-opacity=\"1\"/>\n",
       "<polyline clip-path=\"url(#clip622)\" style=\"stroke:#000000; stroke-linecap:round; stroke-linejoin:round; stroke-width:4; stroke-opacity:1; fill:none\" points=\"23513.9,1423.18 23513.9,1423.18 23593.1,1423.18 23513.9,1423.18 \"/>\n",
       "<path clip-path=\"url(#clip622)\" d=\"M23593.1 1423.18 L23593.1 1423.18 L23672.3 1423.18 L23672.3 1423.18 L23593.1 1423.18 L23593.1 1423.18  Z\" fill=\"#009af9\" fill-rule=\"evenodd\" fill-opacity=\"1\"/>\n",
       "<polyline clip-path=\"url(#clip622)\" style=\"stroke:#000000; stroke-linecap:round; stroke-linejoin:round; stroke-width:4; stroke-opacity:1; fill:none\" points=\"23593.1,1423.18 23593.1,1423.18 23672.3,1423.18 23593.1,1423.18 \"/>\n",
       "<path clip-path=\"url(#clip622)\" d=\"M23672.3 1423.18 L23672.3 1423.18 L23751.4 1423.18 L23751.4 1423.18 L23672.3 1423.18 L23672.3 1423.18  Z\" fill=\"#009af9\" fill-rule=\"evenodd\" fill-opacity=\"1\"/>\n",
       "<polyline clip-path=\"url(#clip622)\" style=\"stroke:#000000; stroke-linecap:round; stroke-linejoin:round; stroke-width:4; stroke-opacity:1; fill:none\" points=\"23672.3,1423.18 23672.3,1423.18 23751.4,1423.18 23672.3,1423.18 \"/>\n",
       "<path clip-path=\"url(#clip622)\" d=\"M23751.4 1423.18 L23751.4 1423.18 L23830.6 1423.18 L23830.6 1423.18 L23751.4 1423.18 L23751.4 1423.18  Z\" fill=\"#009af9\" fill-rule=\"evenodd\" fill-opacity=\"1\"/>\n",
       "<polyline clip-path=\"url(#clip622)\" style=\"stroke:#000000; stroke-linecap:round; stroke-linejoin:round; stroke-width:4; stroke-opacity:1; fill:none\" points=\"23751.4,1423.18 23751.4,1423.18 23830.6,1423.18 23751.4,1423.18 \"/>\n",
       "<path clip-path=\"url(#clip622)\" d=\"M23830.6 1423.18 L23830.6 1423.18 L23909.7 1423.18 L23909.7 1423.18 L23830.6 1423.18 L23830.6 1423.18  Z\" fill=\"#009af9\" fill-rule=\"evenodd\" fill-opacity=\"1\"/>\n",
       "<polyline clip-path=\"url(#clip622)\" style=\"stroke:#000000; stroke-linecap:round; stroke-linejoin:round; stroke-width:4; stroke-opacity:1; fill:none\" points=\"23830.6,1423.18 23830.6,1423.18 23909.7,1423.18 23830.6,1423.18 \"/>\n",
       "<path clip-path=\"url(#clip622)\" d=\"M23909.7 1423.18 L23909.7 1423.18 L23988.9 1423.18 L23988.9 1423.18 L23909.7 1423.18 L23909.7 1423.18  Z\" fill=\"#009af9\" fill-rule=\"evenodd\" fill-opacity=\"1\"/>\n",
       "<polyline clip-path=\"url(#clip622)\" style=\"stroke:#000000; stroke-linecap:round; stroke-linejoin:round; stroke-width:4; stroke-opacity:1; fill:none\" points=\"23909.7,1423.18 23909.7,1423.18 23988.9,1423.18 23909.7,1423.18 \"/>\n",
       "<path clip-path=\"url(#clip622)\" d=\"M23988.9 1423.18 L23988.9 1423.18 L24068 1423.18 L24068 1423.18 L23988.9 1423.18 L23988.9 1423.18  Z\" fill=\"#009af9\" fill-rule=\"evenodd\" fill-opacity=\"1\"/>\n",
       "<polyline clip-path=\"url(#clip622)\" style=\"stroke:#000000; stroke-linecap:round; stroke-linejoin:round; stroke-width:4; stroke-opacity:1; fill:none\" points=\"23988.9,1423.18 23988.9,1423.18 24068,1423.18 23988.9,1423.18 \"/>\n",
       "<path clip-path=\"url(#clip622)\" d=\"M24068 1423.18 L24068 1423.18 L24147.2 1423.18 L24147.2 1423.18 L24068 1423.18 L24068 1423.18  Z\" fill=\"#009af9\" fill-rule=\"evenodd\" fill-opacity=\"1\"/>\n",
       "<polyline clip-path=\"url(#clip622)\" style=\"stroke:#000000; stroke-linecap:round; stroke-linejoin:round; stroke-width:4; stroke-opacity:1; fill:none\" points=\"24068,1423.18 24068,1423.18 24147.2,1423.18 24068,1423.18 \"/>\n",
       "<path clip-path=\"url(#clip622)\" d=\"M24147.2 1423.18 L24147.2 1423.18 L24226.3 1423.18 L24226.3 1423.18 L24147.2 1423.18 L24147.2 1423.18  Z\" fill=\"#009af9\" fill-rule=\"evenodd\" fill-opacity=\"1\"/>\n",
       "<polyline clip-path=\"url(#clip622)\" style=\"stroke:#000000; stroke-linecap:round; stroke-linejoin:round; stroke-width:4; stroke-opacity:1; fill:none\" points=\"24147.2,1423.18 24147.2,1423.18 24226.3,1423.18 24147.2,1423.18 \"/>\n",
       "<path clip-path=\"url(#clip622)\" d=\"M24226.3 1423.18 L24226.3 1423.18 L24305.5 1423.18 L24305.5 1423.18 L24226.3 1423.18 L24226.3 1423.18  Z\" fill=\"#009af9\" fill-rule=\"evenodd\" fill-opacity=\"1\"/>\n",
       "<polyline clip-path=\"url(#clip622)\" style=\"stroke:#000000; stroke-linecap:round; stroke-linejoin:round; stroke-width:4; stroke-opacity:1; fill:none\" points=\"24226.3,1423.18 24226.3,1423.18 24305.5,1423.18 24226.3,1423.18 \"/>\n",
       "<path clip-path=\"url(#clip622)\" d=\"M24305.5 1423.18 L24305.5 1423.18 L24384.7 1423.18 L24384.7 1423.18 L24305.5 1423.18 L24305.5 1423.18  Z\" fill=\"#009af9\" fill-rule=\"evenodd\" fill-opacity=\"1\"/>\n",
       "<polyline clip-path=\"url(#clip622)\" style=\"stroke:#000000; stroke-linecap:round; stroke-linejoin:round; stroke-width:4; stroke-opacity:1; fill:none\" points=\"24305.5,1423.18 24305.5,1423.18 24384.7,1423.18 24305.5,1423.18 \"/>\n",
       "<path clip-path=\"url(#clip622)\" d=\"M24384.7 1423.18 L24384.7 1423.18 L24463.8 1423.18 L24463.8 1423.18 L24384.7 1423.18 L24384.7 1423.18  Z\" fill=\"#009af9\" fill-rule=\"evenodd\" fill-opacity=\"1\"/>\n",
       "<polyline clip-path=\"url(#clip622)\" style=\"stroke:#000000; stroke-linecap:round; stroke-linejoin:round; stroke-width:4; stroke-opacity:1; fill:none\" points=\"24384.7,1423.18 24384.7,1423.18 24463.8,1423.18 24384.7,1423.18 \"/>\n",
       "<path clip-path=\"url(#clip622)\" d=\"M24463.8 1423.18 L24463.8 1423.18 L24543 1423.18 L24543 1423.18 L24463.8 1423.18 L24463.8 1423.18  Z\" fill=\"#009af9\" fill-rule=\"evenodd\" fill-opacity=\"1\"/>\n",
       "<polyline clip-path=\"url(#clip622)\" style=\"stroke:#000000; stroke-linecap:round; stroke-linejoin:round; stroke-width:4; stroke-opacity:1; fill:none\" points=\"24463.8,1423.18 24463.8,1423.18 24543,1423.18 24463.8,1423.18 \"/>\n",
       "<path clip-path=\"url(#clip622)\" d=\"M24543 1423.18 L24543 1423.18 L24622.1 1423.18 L24622.1 1423.18 L24543 1423.18 L24543 1423.18  Z\" fill=\"#009af9\" fill-rule=\"evenodd\" fill-opacity=\"1\"/>\n",
       "<polyline clip-path=\"url(#clip622)\" style=\"stroke:#000000; stroke-linecap:round; stroke-linejoin:round; stroke-width:4; stroke-opacity:1; fill:none\" points=\"24543,1423.18 24543,1423.18 24622.1,1423.18 24543,1423.18 \"/>\n",
       "<path clip-path=\"url(#clip622)\" d=\"M24622.1 1423.18 L24622.1 1423.18 L24701.3 1423.18 L24701.3 1423.18 L24622.1 1423.18 L24622.1 1423.18  Z\" fill=\"#009af9\" fill-rule=\"evenodd\" fill-opacity=\"1\"/>\n",
       "<polyline clip-path=\"url(#clip622)\" style=\"stroke:#000000; stroke-linecap:round; stroke-linejoin:round; stroke-width:4; stroke-opacity:1; fill:none\" points=\"24622.1,1423.18 24622.1,1423.18 24701.3,1423.18 24622.1,1423.18 \"/>\n",
       "<path clip-path=\"url(#clip622)\" d=\"M24701.3 1423.18 L24701.3 1423.18 L24780.4 1423.18 L24780.4 1423.18 L24701.3 1423.18 L24701.3 1423.18  Z\" fill=\"#009af9\" fill-rule=\"evenodd\" fill-opacity=\"1\"/>\n",
       "<polyline clip-path=\"url(#clip622)\" style=\"stroke:#000000; stroke-linecap:round; stroke-linejoin:round; stroke-width:4; stroke-opacity:1; fill:none\" points=\"24701.3,1423.18 24701.3,1423.18 24780.4,1423.18 24701.3,1423.18 \"/>\n",
       "<path clip-path=\"url(#clip622)\" d=\"M24780.4 1423.18 L24780.4 1423.18 L24859.6 1423.18 L24859.6 1423.18 L24780.4 1423.18 L24780.4 1423.18  Z\" fill=\"#009af9\" fill-rule=\"evenodd\" fill-opacity=\"1\"/>\n",
       "<polyline clip-path=\"url(#clip622)\" style=\"stroke:#000000; stroke-linecap:round; stroke-linejoin:round; stroke-width:4; stroke-opacity:1; fill:none\" points=\"24780.4,1423.18 24780.4,1423.18 24859.6,1423.18 24780.4,1423.18 \"/>\n",
       "<path clip-path=\"url(#clip622)\" d=\"M24859.6 1423.18 L24859.6 1423.18 L24938.7 1423.18 L24938.7 1423.18 L24859.6 1423.18 L24859.6 1423.18  Z\" fill=\"#009af9\" fill-rule=\"evenodd\" fill-opacity=\"1\"/>\n",
       "<polyline clip-path=\"url(#clip622)\" style=\"stroke:#000000; stroke-linecap:round; stroke-linejoin:round; stroke-width:4; stroke-opacity:1; fill:none\" points=\"24859.6,1423.18 24859.6,1423.18 24938.7,1423.18 24859.6,1423.18 \"/>\n",
       "<path clip-path=\"url(#clip622)\" d=\"M24938.7 1423.18 L24938.7 1423.18 L25017.9 1423.18 L25017.9 1423.18 L24938.7 1423.18 L24938.7 1423.18  Z\" fill=\"#009af9\" fill-rule=\"evenodd\" fill-opacity=\"1\"/>\n",
       "<polyline clip-path=\"url(#clip622)\" style=\"stroke:#000000; stroke-linecap:round; stroke-linejoin:round; stroke-width:4; stroke-opacity:1; fill:none\" points=\"24938.7,1423.18 24938.7,1423.18 25017.9,1423.18 24938.7,1423.18 \"/>\n",
       "<path clip-path=\"url(#clip622)\" d=\"M25017.9 1423.18 L25017.9 1423.18 L25097.1 1423.18 L25097.1 1423.18 L25017.9 1423.18 L25017.9 1423.18  Z\" fill=\"#009af9\" fill-rule=\"evenodd\" fill-opacity=\"1\"/>\n",
       "<polyline clip-path=\"url(#clip622)\" style=\"stroke:#000000; stroke-linecap:round; stroke-linejoin:round; stroke-width:4; stroke-opacity:1; fill:none\" points=\"25017.9,1423.18 25017.9,1423.18 25097.1,1423.18 25017.9,1423.18 \"/>\n",
       "<path clip-path=\"url(#clip622)\" d=\"M25097.1 1423.18 L25097.1 1423.18 L25176.2 1423.18 L25176.2 1423.18 L25097.1 1423.18 L25097.1 1423.18  Z\" fill=\"#009af9\" fill-rule=\"evenodd\" fill-opacity=\"1\"/>\n",
       "<polyline clip-path=\"url(#clip622)\" style=\"stroke:#000000; stroke-linecap:round; stroke-linejoin:round; stroke-width:4; stroke-opacity:1; fill:none\" points=\"25097.1,1423.18 25097.1,1423.18 25176.2,1423.18 25097.1,1423.18 \"/>\n",
       "<path clip-path=\"url(#clip622)\" d=\"M25176.2 1423.18 L25176.2 1423.18 L25255.4 1423.18 L25255.4 1423.18 L25176.2 1423.18 L25176.2 1423.18  Z\" fill=\"#009af9\" fill-rule=\"evenodd\" fill-opacity=\"1\"/>\n",
       "<polyline clip-path=\"url(#clip622)\" style=\"stroke:#000000; stroke-linecap:round; stroke-linejoin:round; stroke-width:4; stroke-opacity:1; fill:none\" points=\"25176.2,1423.18 25176.2,1423.18 25255.4,1423.18 25176.2,1423.18 \"/>\n",
       "<path clip-path=\"url(#clip622)\" d=\"M25255.4 1423.18 L25255.4 1423.18 L25334.5 1423.18 L25334.5 1423.18 L25255.4 1423.18 L25255.4 1423.18  Z\" fill=\"#009af9\" fill-rule=\"evenodd\" fill-opacity=\"1\"/>\n",
       "<polyline clip-path=\"url(#clip622)\" style=\"stroke:#000000; stroke-linecap:round; stroke-linejoin:round; stroke-width:4; stroke-opacity:1; fill:none\" points=\"25255.4,1423.18 25255.4,1423.18 25334.5,1423.18 25255.4,1423.18 \"/>\n",
       "<path clip-path=\"url(#clip622)\" d=\"M25334.5 1423.18 L25334.5 1423.18 L25413.7 1423.18 L25413.7 1423.18 L25334.5 1423.18 L25334.5 1423.18  Z\" fill=\"#009af9\" fill-rule=\"evenodd\" fill-opacity=\"1\"/>\n",
       "<polyline clip-path=\"url(#clip622)\" style=\"stroke:#000000; stroke-linecap:round; stroke-linejoin:round; stroke-width:4; stroke-opacity:1; fill:none\" points=\"25334.5,1423.18 25334.5,1423.18 25413.7,1423.18 25334.5,1423.18 \"/>\n",
       "<path clip-path=\"url(#clip622)\" d=\"M25413.7 1423.18 L25413.7 1423.18 L25492.8 1423.18 L25492.8 1423.18 L25413.7 1423.18 L25413.7 1423.18  Z\" fill=\"#009af9\" fill-rule=\"evenodd\" fill-opacity=\"1\"/>\n",
       "<polyline clip-path=\"url(#clip622)\" style=\"stroke:#000000; stroke-linecap:round; stroke-linejoin:round; stroke-width:4; stroke-opacity:1; fill:none\" points=\"25413.7,1423.18 25413.7,1423.18 25492.8,1423.18 25413.7,1423.18 \"/>\n",
       "<path clip-path=\"url(#clip622)\" d=\"M25492.8 1423.18 L25492.8 1423.18 L25572 1423.18 L25572 1423.18 L25492.8 1423.18 L25492.8 1423.18  Z\" fill=\"#009af9\" fill-rule=\"evenodd\" fill-opacity=\"1\"/>\n",
       "<polyline clip-path=\"url(#clip622)\" style=\"stroke:#000000; stroke-linecap:round; stroke-linejoin:round; stroke-width:4; stroke-opacity:1; fill:none\" points=\"25492.8,1423.18 25492.8,1423.18 25572,1423.18 25492.8,1423.18 \"/>\n",
       "<path clip-path=\"url(#clip622)\" d=\"M25572 1423.18 L25572 1423.18 L25651.1 1423.18 L25651.1 1423.18 L25572 1423.18 L25572 1423.18  Z\" fill=\"#009af9\" fill-rule=\"evenodd\" fill-opacity=\"1\"/>\n",
       "<polyline clip-path=\"url(#clip622)\" style=\"stroke:#000000; stroke-linecap:round; stroke-linejoin:round; stroke-width:4; stroke-opacity:1; fill:none\" points=\"25572,1423.18 25572,1423.18 25651.1,1423.18 25572,1423.18 \"/>\n",
       "<path clip-path=\"url(#clip622)\" d=\"M25651.1 1423.18 L25651.1 1423.18 L25730.3 1423.18 L25730.3 1423.18 L25651.1 1423.18 L25651.1 1423.18  Z\" fill=\"#009af9\" fill-rule=\"evenodd\" fill-opacity=\"1\"/>\n",
       "<polyline clip-path=\"url(#clip622)\" style=\"stroke:#000000; stroke-linecap:round; stroke-linejoin:round; stroke-width:4; stroke-opacity:1; fill:none\" points=\"25651.1,1423.18 25651.1,1423.18 25730.3,1423.18 25651.1,1423.18 \"/>\n",
       "<path clip-path=\"url(#clip622)\" d=\"M25730.3 1423.18 L25730.3 1423.18 L25809.5 1423.18 L25809.5 1423.18 L25730.3 1423.18 L25730.3 1423.18  Z\" fill=\"#009af9\" fill-rule=\"evenodd\" fill-opacity=\"1\"/>\n",
       "<polyline clip-path=\"url(#clip622)\" style=\"stroke:#000000; stroke-linecap:round; stroke-linejoin:round; stroke-width:4; stroke-opacity:1; fill:none\" points=\"25730.3,1423.18 25730.3,1423.18 25809.5,1423.18 25730.3,1423.18 \"/>\n",
       "<path clip-path=\"url(#clip622)\" d=\"M25809.5 1423.18 L25809.5 1423.18 L25888.6 1423.18 L25888.6 1423.18 L25809.5 1423.18 L25809.5 1423.18  Z\" fill=\"#009af9\" fill-rule=\"evenodd\" fill-opacity=\"1\"/>\n",
       "<polyline clip-path=\"url(#clip622)\" style=\"stroke:#000000; stroke-linecap:round; stroke-linejoin:round; stroke-width:4; stroke-opacity:1; fill:none\" points=\"25809.5,1423.18 25809.5,1423.18 25888.6,1423.18 25809.5,1423.18 \"/>\n",
       "<path clip-path=\"url(#clip622)\" d=\"M25888.6 1423.18 L25888.6 1423.18 L25967.8 1423.18 L25967.8 1423.18 L25888.6 1423.18 L25888.6 1423.18  Z\" fill=\"#009af9\" fill-rule=\"evenodd\" fill-opacity=\"1\"/>\n",
       "<polyline clip-path=\"url(#clip622)\" style=\"stroke:#000000; stroke-linecap:round; stroke-linejoin:round; stroke-width:4; stroke-opacity:1; fill:none\" points=\"25888.6,1423.18 25888.6,1423.18 25967.8,1423.18 25888.6,1423.18 \"/>\n",
       "<path clip-path=\"url(#clip622)\" d=\"M25967.8 1423.18 L25967.8 1423.18 L26046.9 1423.18 L26046.9 1423.18 L25967.8 1423.18 L25967.8 1423.18  Z\" fill=\"#009af9\" fill-rule=\"evenodd\" fill-opacity=\"1\"/>\n",
       "<polyline clip-path=\"url(#clip622)\" style=\"stroke:#000000; stroke-linecap:round; stroke-linejoin:round; stroke-width:4; stroke-opacity:1; fill:none\" points=\"25967.8,1423.18 25967.8,1423.18 26046.9,1423.18 25967.8,1423.18 \"/>\n",
       "<path clip-path=\"url(#clip622)\" d=\"M26046.9 1423.18 L26046.9 1423.18 L26126.1 1423.18 L26126.1 1423.18 L26046.9 1423.18 L26046.9 1423.18  Z\" fill=\"#009af9\" fill-rule=\"evenodd\" fill-opacity=\"1\"/>\n",
       "<polyline clip-path=\"url(#clip622)\" style=\"stroke:#000000; stroke-linecap:round; stroke-linejoin:round; stroke-width:4; stroke-opacity:1; fill:none\" points=\"26046.9,1423.18 26046.9,1423.18 26126.1,1423.18 26046.9,1423.18 \"/>\n",
       "<path clip-path=\"url(#clip622)\" d=\"M26126.1 1423.18 L26126.1 1423.18 L26205.2 1423.18 L26205.2 1423.18 L26126.1 1423.18 L26126.1 1423.18  Z\" fill=\"#009af9\" fill-rule=\"evenodd\" fill-opacity=\"1\"/>\n",
       "<polyline clip-path=\"url(#clip622)\" style=\"stroke:#000000; stroke-linecap:round; stroke-linejoin:round; stroke-width:4; stroke-opacity:1; fill:none\" points=\"26126.1,1423.18 26126.1,1423.18 26205.2,1423.18 26126.1,1423.18 \"/>\n",
       "<path clip-path=\"url(#clip622)\" d=\"M26205.2 1423.18 L26205.2 1423.18 L26284.4 1423.18 L26284.4 1423.18 L26205.2 1423.18 L26205.2 1423.18  Z\" fill=\"#009af9\" fill-rule=\"evenodd\" fill-opacity=\"1\"/>\n",
       "<polyline clip-path=\"url(#clip622)\" style=\"stroke:#000000; stroke-linecap:round; stroke-linejoin:round; stroke-width:4; stroke-opacity:1; fill:none\" points=\"26205.2,1423.18 26205.2,1423.18 26284.4,1423.18 26205.2,1423.18 \"/>\n",
       "<path clip-path=\"url(#clip622)\" d=\"M26284.4 1423.18 L26284.4 1423.18 L26363.5 1423.18 L26363.5 1423.18 L26284.4 1423.18 L26284.4 1423.18  Z\" fill=\"#009af9\" fill-rule=\"evenodd\" fill-opacity=\"1\"/>\n",
       "<polyline clip-path=\"url(#clip622)\" style=\"stroke:#000000; stroke-linecap:round; stroke-linejoin:round; stroke-width:4; stroke-opacity:1; fill:none\" points=\"26284.4,1423.18 26284.4,1423.18 26363.5,1423.18 26284.4,1423.18 \"/>\n",
       "<path clip-path=\"url(#clip622)\" d=\"M26363.5 1423.18 L26363.5 1423.18 L26442.7 1423.18 L26442.7 1423.18 L26363.5 1423.18 L26363.5 1423.18  Z\" fill=\"#009af9\" fill-rule=\"evenodd\" fill-opacity=\"1\"/>\n",
       "<polyline clip-path=\"url(#clip622)\" style=\"stroke:#000000; stroke-linecap:round; stroke-linejoin:round; stroke-width:4; stroke-opacity:1; fill:none\" points=\"26363.5,1423.18 26363.5,1423.18 26442.7,1423.18 26363.5,1423.18 \"/>\n",
       "<path clip-path=\"url(#clip622)\" d=\"M26442.7 1423.18 L26442.7 1423.18 L26521.9 1423.18 L26521.9 1423.18 L26442.7 1423.18 L26442.7 1423.18  Z\" fill=\"#009af9\" fill-rule=\"evenodd\" fill-opacity=\"1\"/>\n",
       "<polyline clip-path=\"url(#clip622)\" style=\"stroke:#000000; stroke-linecap:round; stroke-linejoin:round; stroke-width:4; stroke-opacity:1; fill:none\" points=\"26442.7,1423.18 26442.7,1423.18 26521.9,1423.18 26442.7,1423.18 \"/>\n",
       "<path clip-path=\"url(#clip622)\" d=\"M26521.9 1423.18 L26521.9 1423.18 L26601 1423.18 L26601 1423.18 L26521.9 1423.18 L26521.9 1423.18  Z\" fill=\"#009af9\" fill-rule=\"evenodd\" fill-opacity=\"1\"/>\n",
       "<polyline clip-path=\"url(#clip622)\" style=\"stroke:#000000; stroke-linecap:round; stroke-linejoin:round; stroke-width:4; stroke-opacity:1; fill:none\" points=\"26521.9,1423.18 26521.9,1423.18 26601,1423.18 26521.9,1423.18 \"/>\n",
       "<path clip-path=\"url(#clip622)\" d=\"M26601 1423.18 L26601 1423.18 L26680.2 1423.18 L26680.2 1423.18 L26601 1423.18 L26601 1423.18  Z\" fill=\"#009af9\" fill-rule=\"evenodd\" fill-opacity=\"1\"/>\n",
       "<polyline clip-path=\"url(#clip622)\" style=\"stroke:#000000; stroke-linecap:round; stroke-linejoin:round; stroke-width:4; stroke-opacity:1; fill:none\" points=\"26601,1423.18 26601,1423.18 26680.2,1423.18 26601,1423.18 \"/>\n",
       "<path clip-path=\"url(#clip622)\" d=\"M26680.2 1423.18 L26680.2 1423.18 L26759.3 1423.18 L26759.3 1423.18 L26680.2 1423.18 L26680.2 1423.18  Z\" fill=\"#009af9\" fill-rule=\"evenodd\" fill-opacity=\"1\"/>\n",
       "<polyline clip-path=\"url(#clip622)\" style=\"stroke:#000000; stroke-linecap:round; stroke-linejoin:round; stroke-width:4; stroke-opacity:1; fill:none\" points=\"26680.2,1423.18 26680.2,1423.18 26759.3,1423.18 26680.2,1423.18 \"/>\n",
       "<path clip-path=\"url(#clip622)\" d=\"M26759.3 1423.18 L26759.3 1423.18 L26838.5 1423.18 L26838.5 1423.18 L26759.3 1423.18 L26759.3 1423.18  Z\" fill=\"#009af9\" fill-rule=\"evenodd\" fill-opacity=\"1\"/>\n",
       "<polyline clip-path=\"url(#clip622)\" style=\"stroke:#000000; stroke-linecap:round; stroke-linejoin:round; stroke-width:4; stroke-opacity:1; fill:none\" points=\"26759.3,1423.18 26759.3,1423.18 26838.5,1423.18 26759.3,1423.18 \"/>\n",
       "<path clip-path=\"url(#clip622)\" d=\"M26838.5 1423.18 L26838.5 1423.18 L26917.6 1423.18 L26917.6 1423.18 L26838.5 1423.18 L26838.5 1423.18  Z\" fill=\"#009af9\" fill-rule=\"evenodd\" fill-opacity=\"1\"/>\n",
       "<polyline clip-path=\"url(#clip622)\" style=\"stroke:#000000; stroke-linecap:round; stroke-linejoin:round; stroke-width:4; stroke-opacity:1; fill:none\" points=\"26838.5,1423.18 26838.5,1423.18 26917.6,1423.18 26838.5,1423.18 \"/>\n",
       "<path clip-path=\"url(#clip622)\" d=\"M26917.6 1423.18 L26917.6 1423.18 L26996.8 1423.18 L26996.8 1423.18 L26917.6 1423.18 L26917.6 1423.18  Z\" fill=\"#009af9\" fill-rule=\"evenodd\" fill-opacity=\"1\"/>\n",
       "<polyline clip-path=\"url(#clip622)\" style=\"stroke:#000000; stroke-linecap:round; stroke-linejoin:round; stroke-width:4; stroke-opacity:1; fill:none\" points=\"26917.6,1423.18 26917.6,1423.18 26996.8,1423.18 26917.6,1423.18 \"/>\n",
       "<path clip-path=\"url(#clip622)\" d=\"M26996.8 1423.18 L26996.8 1423.18 L27075.9 1423.18 L27075.9 1423.18 L26996.8 1423.18 L26996.8 1423.18  Z\" fill=\"#009af9\" fill-rule=\"evenodd\" fill-opacity=\"1\"/>\n",
       "<polyline clip-path=\"url(#clip622)\" style=\"stroke:#000000; stroke-linecap:round; stroke-linejoin:round; stroke-width:4; stroke-opacity:1; fill:none\" points=\"26996.8,1423.18 26996.8,1423.18 27075.9,1423.18 26996.8,1423.18 \"/>\n",
       "<path clip-path=\"url(#clip622)\" d=\"M27075.9 1423.18 L27075.9 1423.18 L27155.1 1423.18 L27155.1 1423.18 L27075.9 1423.18 L27075.9 1423.18  Z\" fill=\"#009af9\" fill-rule=\"evenodd\" fill-opacity=\"1\"/>\n",
       "<polyline clip-path=\"url(#clip622)\" style=\"stroke:#000000; stroke-linecap:round; stroke-linejoin:round; stroke-width:4; stroke-opacity:1; fill:none\" points=\"27075.9,1423.18 27075.9,1423.18 27155.1,1423.18 27075.9,1423.18 \"/>\n",
       "<path clip-path=\"url(#clip622)\" d=\"M27155.1 1423.18 L27155.1 1423.18 L27234.2 1423.18 L27234.2 1423.18 L27155.1 1423.18 L27155.1 1423.18  Z\" fill=\"#009af9\" fill-rule=\"evenodd\" fill-opacity=\"1\"/>\n",
       "<polyline clip-path=\"url(#clip622)\" style=\"stroke:#000000; stroke-linecap:round; stroke-linejoin:round; stroke-width:4; stroke-opacity:1; fill:none\" points=\"27155.1,1423.18 27155.1,1423.18 27234.2,1423.18 27155.1,1423.18 \"/>\n",
       "<path clip-path=\"url(#clip622)\" d=\"M27234.2 1423.18 L27234.2 1423.18 L27313.4 1423.18 L27313.4 1423.18 L27234.2 1423.18 L27234.2 1423.18  Z\" fill=\"#009af9\" fill-rule=\"evenodd\" fill-opacity=\"1\"/>\n",
       "<polyline clip-path=\"url(#clip622)\" style=\"stroke:#000000; stroke-linecap:round; stroke-linejoin:round; stroke-width:4; stroke-opacity:1; fill:none\" points=\"27234.2,1423.18 27234.2,1423.18 27313.4,1423.18 27234.2,1423.18 \"/>\n",
       "<path clip-path=\"url(#clip622)\" d=\"M27313.4 1423.18 L27313.4 1423.18 L27392.6 1423.18 L27392.6 1423.18 L27313.4 1423.18 L27313.4 1423.18  Z\" fill=\"#009af9\" fill-rule=\"evenodd\" fill-opacity=\"1\"/>\n",
       "<polyline clip-path=\"url(#clip622)\" style=\"stroke:#000000; stroke-linecap:round; stroke-linejoin:round; stroke-width:4; stroke-opacity:1; fill:none\" points=\"27313.4,1423.18 27313.4,1423.18 27392.6,1423.18 27313.4,1423.18 \"/>\n",
       "<path clip-path=\"url(#clip622)\" d=\"M27392.6 1423.18 L27392.6 1423.18 L27471.7 1423.18 L27471.7 1423.18 L27392.6 1423.18 L27392.6 1423.18  Z\" fill=\"#009af9\" fill-rule=\"evenodd\" fill-opacity=\"1\"/>\n",
       "<polyline clip-path=\"url(#clip622)\" style=\"stroke:#000000; stroke-linecap:round; stroke-linejoin:round; stroke-width:4; stroke-opacity:1; fill:none\" points=\"27392.6,1423.18 27392.6,1423.18 27471.7,1423.18 27392.6,1423.18 \"/>\n",
       "<path clip-path=\"url(#clip622)\" d=\"M27471.7 1423.18 L27471.7 1423.18 L27550.9 1423.18 L27550.9 1423.18 L27471.7 1423.18 L27471.7 1423.18  Z\" fill=\"#009af9\" fill-rule=\"evenodd\" fill-opacity=\"1\"/>\n",
       "<polyline clip-path=\"url(#clip622)\" style=\"stroke:#000000; stroke-linecap:round; stroke-linejoin:round; stroke-width:4; stroke-opacity:1; fill:none\" points=\"27471.7,1423.18 27471.7,1423.18 27550.9,1423.18 27471.7,1423.18 \"/>\n",
       "<path clip-path=\"url(#clip622)\" d=\"M27550.9 1423.18 L27550.9 1423.18 L27630 1423.18 L27630 1423.18 L27550.9 1423.18 L27550.9 1423.18  Z\" fill=\"#009af9\" fill-rule=\"evenodd\" fill-opacity=\"1\"/>\n",
       "<polyline clip-path=\"url(#clip622)\" style=\"stroke:#000000; stroke-linecap:round; stroke-linejoin:round; stroke-width:4; stroke-opacity:1; fill:none\" points=\"27550.9,1423.18 27550.9,1423.18 27630,1423.18 27550.9,1423.18 \"/>\n",
       "<path clip-path=\"url(#clip622)\" d=\"M27630 1423.18 L27630 1423.18 L27709.2 1423.18 L27709.2 1423.18 L27630 1423.18 L27630 1423.18  Z\" fill=\"#009af9\" fill-rule=\"evenodd\" fill-opacity=\"1\"/>\n",
       "<polyline clip-path=\"url(#clip622)\" style=\"stroke:#000000; stroke-linecap:round; stroke-linejoin:round; stroke-width:4; stroke-opacity:1; fill:none\" points=\"27630,1423.18 27630,1423.18 27709.2,1423.18 27630,1423.18 \"/>\n",
       "<path clip-path=\"url(#clip622)\" d=\"M27709.2 1423.18 L27709.2 1423.18 L27788.3 1423.18 L27788.3 1423.18 L27709.2 1423.18 L27709.2 1423.18  Z\" fill=\"#009af9\" fill-rule=\"evenodd\" fill-opacity=\"1\"/>\n",
       "<polyline clip-path=\"url(#clip622)\" style=\"stroke:#000000; stroke-linecap:round; stroke-linejoin:round; stroke-width:4; stroke-opacity:1; fill:none\" points=\"27709.2,1423.18 27709.2,1423.18 27788.3,1423.18 27709.2,1423.18 \"/>\n",
       "<path clip-path=\"url(#clip622)\" d=\"M27788.3 1423.18 L27788.3 1423.18 L27867.5 1423.18 L27867.5 1423.18 L27788.3 1423.18 L27788.3 1423.18  Z\" fill=\"#009af9\" fill-rule=\"evenodd\" fill-opacity=\"1\"/>\n",
       "<polyline clip-path=\"url(#clip622)\" style=\"stroke:#000000; stroke-linecap:round; stroke-linejoin:round; stroke-width:4; stroke-opacity:1; fill:none\" points=\"27788.3,1423.18 27788.3,1423.18 27867.5,1423.18 27788.3,1423.18 \"/>\n",
       "<path clip-path=\"url(#clip622)\" d=\"M27867.5 1423.18 L27867.5 1423.18 L27946.6 1423.18 L27946.6 1423.18 L27867.5 1423.18 L27867.5 1423.18  Z\" fill=\"#009af9\" fill-rule=\"evenodd\" fill-opacity=\"1\"/>\n",
       "<polyline clip-path=\"url(#clip622)\" style=\"stroke:#000000; stroke-linecap:round; stroke-linejoin:round; stroke-width:4; stroke-opacity:1; fill:none\" points=\"27867.5,1423.18 27867.5,1423.18 27946.6,1423.18 27867.5,1423.18 \"/>\n",
       "<path clip-path=\"url(#clip622)\" d=\"M27946.6 1423.18 L27946.6 1423.18 L28025.8 1423.18 L28025.8 1423.18 L27946.6 1423.18 L27946.6 1423.18  Z\" fill=\"#009af9\" fill-rule=\"evenodd\" fill-opacity=\"1\"/>\n",
       "<polyline clip-path=\"url(#clip622)\" style=\"stroke:#000000; stroke-linecap:round; stroke-linejoin:round; stroke-width:4; stroke-opacity:1; fill:none\" points=\"27946.6,1423.18 27946.6,1423.18 28025.8,1423.18 27946.6,1423.18 \"/>\n",
       "<path clip-path=\"url(#clip622)\" d=\"M28025.8 1423.18 L28025.8 1423.18 L28105 1423.18 L28105 1423.18 L28025.8 1423.18 L28025.8 1423.18  Z\" fill=\"#009af9\" fill-rule=\"evenodd\" fill-opacity=\"1\"/>\n",
       "<polyline clip-path=\"url(#clip622)\" style=\"stroke:#000000; stroke-linecap:round; stroke-linejoin:round; stroke-width:4; stroke-opacity:1; fill:none\" points=\"28025.8,1423.18 28025.8,1423.18 28105,1423.18 28025.8,1423.18 \"/>\n",
       "<path clip-path=\"url(#clip622)\" d=\"M28105 1423.18 L28105 1423.18 L28184.1 1423.18 L28184.1 1423.18 L28105 1423.18 L28105 1423.18  Z\" fill=\"#009af9\" fill-rule=\"evenodd\" fill-opacity=\"1\"/>\n",
       "<polyline clip-path=\"url(#clip622)\" style=\"stroke:#000000; stroke-linecap:round; stroke-linejoin:round; stroke-width:4; stroke-opacity:1; fill:none\" points=\"28105,1423.18 28105,1423.18 28184.1,1423.18 28105,1423.18 \"/>\n",
       "<path clip-path=\"url(#clip622)\" d=\"M28184.1 1423.18 L28184.1 1423.18 L28263.3 1423.18 L28263.3 1423.18 L28184.1 1423.18 L28184.1 1423.18  Z\" fill=\"#009af9\" fill-rule=\"evenodd\" fill-opacity=\"1\"/>\n",
       "<polyline clip-path=\"url(#clip622)\" style=\"stroke:#000000; stroke-linecap:round; stroke-linejoin:round; stroke-width:4; stroke-opacity:1; fill:none\" points=\"28184.1,1423.18 28184.1,1423.18 28263.3,1423.18 28184.1,1423.18 \"/>\n",
       "<path clip-path=\"url(#clip622)\" d=\"M28263.3 1423.18 L28263.3 1423.18 L28342.4 1423.18 L28342.4 1423.18 L28263.3 1423.18 L28263.3 1423.18  Z\" fill=\"#009af9\" fill-rule=\"evenodd\" fill-opacity=\"1\"/>\n",
       "<polyline clip-path=\"url(#clip622)\" style=\"stroke:#000000; stroke-linecap:round; stroke-linejoin:round; stroke-width:4; stroke-opacity:1; fill:none\" points=\"28263.3,1423.18 28263.3,1423.18 28342.4,1423.18 28263.3,1423.18 \"/>\n",
       "<path clip-path=\"url(#clip622)\" d=\"M28342.4 1423.18 L28342.4 1423.18 L28421.6 1423.18 L28421.6 1423.18 L28342.4 1423.18 L28342.4 1423.18  Z\" fill=\"#009af9\" fill-rule=\"evenodd\" fill-opacity=\"1\"/>\n",
       "<polyline clip-path=\"url(#clip622)\" style=\"stroke:#000000; stroke-linecap:round; stroke-linejoin:round; stroke-width:4; stroke-opacity:1; fill:none\" points=\"28342.4,1423.18 28342.4,1423.18 28421.6,1423.18 28342.4,1423.18 \"/>\n",
       "<path clip-path=\"url(#clip622)\" d=\"M28421.6 1423.18 L28421.6 1423.18 L28500.7 1423.18 L28500.7 1423.18 L28421.6 1423.18 L28421.6 1423.18  Z\" fill=\"#009af9\" fill-rule=\"evenodd\" fill-opacity=\"1\"/>\n",
       "<polyline clip-path=\"url(#clip622)\" style=\"stroke:#000000; stroke-linecap:round; stroke-linejoin:round; stroke-width:4; stroke-opacity:1; fill:none\" points=\"28421.6,1423.18 28421.6,1423.18 28500.7,1423.18 28421.6,1423.18 \"/>\n",
       "<path clip-path=\"url(#clip622)\" d=\"M28500.7 1423.18 L28500.7 1423.18 L28579.9 1423.18 L28579.9 1423.18 L28500.7 1423.18 L28500.7 1423.18  Z\" fill=\"#009af9\" fill-rule=\"evenodd\" fill-opacity=\"1\"/>\n",
       "<polyline clip-path=\"url(#clip622)\" style=\"stroke:#000000; stroke-linecap:round; stroke-linejoin:round; stroke-width:4; stroke-opacity:1; fill:none\" points=\"28500.7,1423.18 28500.7,1423.18 28579.9,1423.18 28500.7,1423.18 \"/>\n",
       "<path clip-path=\"url(#clip622)\" d=\"M28579.9 1423.18 L28579.9 1423.18 L28659 1423.18 L28659 1423.18 L28579.9 1423.18 L28579.9 1423.18  Z\" fill=\"#009af9\" fill-rule=\"evenodd\" fill-opacity=\"1\"/>\n",
       "<polyline clip-path=\"url(#clip622)\" style=\"stroke:#000000; stroke-linecap:round; stroke-linejoin:round; stroke-width:4; stroke-opacity:1; fill:none\" points=\"28579.9,1423.18 28579.9,1423.18 28659,1423.18 28579.9,1423.18 \"/>\n",
       "<path clip-path=\"url(#clip622)\" d=\"M28659 1423.18 L28659 1423.18 L28738.2 1423.18 L28738.2 1423.18 L28659 1423.18 L28659 1423.18  Z\" fill=\"#009af9\" fill-rule=\"evenodd\" fill-opacity=\"1\"/>\n",
       "<polyline clip-path=\"url(#clip622)\" style=\"stroke:#000000; stroke-linecap:round; stroke-linejoin:round; stroke-width:4; stroke-opacity:1; fill:none\" points=\"28659,1423.18 28659,1423.18 28738.2,1423.18 28659,1423.18 \"/>\n",
       "<path clip-path=\"url(#clip622)\" d=\"M28738.2 1423.18 L28738.2 1423.18 L28817.4 1423.18 L28817.4 1423.18 L28738.2 1423.18 L28738.2 1423.18  Z\" fill=\"#009af9\" fill-rule=\"evenodd\" fill-opacity=\"1\"/>\n",
       "<polyline clip-path=\"url(#clip622)\" style=\"stroke:#000000; stroke-linecap:round; stroke-linejoin:round; stroke-width:4; stroke-opacity:1; fill:none\" points=\"28738.2,1423.18 28738.2,1423.18 28817.4,1423.18 28738.2,1423.18 \"/>\n",
       "<path clip-path=\"url(#clip622)\" d=\"M28817.4 1423.18 L28817.4 1423.18 L28896.5 1423.18 L28896.5 1423.18 L28817.4 1423.18 L28817.4 1423.18  Z\" fill=\"#009af9\" fill-rule=\"evenodd\" fill-opacity=\"1\"/>\n",
       "<polyline clip-path=\"url(#clip622)\" style=\"stroke:#000000; stroke-linecap:round; stroke-linejoin:round; stroke-width:4; stroke-opacity:1; fill:none\" points=\"28817.4,1423.18 28817.4,1423.18 28896.5,1423.18 28817.4,1423.18 \"/>\n",
       "<path clip-path=\"url(#clip622)\" d=\"M28896.5 1423.18 L28896.5 1423.18 L28975.7 1423.18 L28975.7 1423.18 L28896.5 1423.18 L28896.5 1423.18  Z\" fill=\"#009af9\" fill-rule=\"evenodd\" fill-opacity=\"1\"/>\n",
       "<polyline clip-path=\"url(#clip622)\" style=\"stroke:#000000; stroke-linecap:round; stroke-linejoin:round; stroke-width:4; stroke-opacity:1; fill:none\" points=\"28896.5,1423.18 28896.5,1423.18 28975.7,1423.18 28896.5,1423.18 \"/>\n",
       "<path clip-path=\"url(#clip622)\" d=\"M28975.7 1423.18 L28975.7 1423.18 L29054.8 1423.18 L29054.8 1423.18 L28975.7 1423.18 L28975.7 1423.18  Z\" fill=\"#009af9\" fill-rule=\"evenodd\" fill-opacity=\"1\"/>\n",
       "<polyline clip-path=\"url(#clip622)\" style=\"stroke:#000000; stroke-linecap:round; stroke-linejoin:round; stroke-width:4; stroke-opacity:1; fill:none\" points=\"28975.7,1423.18 28975.7,1423.18 29054.8,1423.18 28975.7,1423.18 \"/>\n",
       "<path clip-path=\"url(#clip622)\" d=\"M29054.8 1423.18 L29054.8 1423.18 L29134 1423.18 L29134 1423.18 L29054.8 1423.18 L29054.8 1423.18  Z\" fill=\"#009af9\" fill-rule=\"evenodd\" fill-opacity=\"1\"/>\n",
       "<polyline clip-path=\"url(#clip622)\" style=\"stroke:#000000; stroke-linecap:round; stroke-linejoin:round; stroke-width:4; stroke-opacity:1; fill:none\" points=\"29054.8,1423.18 29054.8,1423.18 29134,1423.18 29054.8,1423.18 \"/>\n",
       "<path clip-path=\"url(#clip622)\" d=\"M29134 1423.18 L29134 1423.18 L29213.1 1423.18 L29213.1 1423.18 L29134 1423.18 L29134 1423.18  Z\" fill=\"#009af9\" fill-rule=\"evenodd\" fill-opacity=\"1\"/>\n",
       "<polyline clip-path=\"url(#clip622)\" style=\"stroke:#000000; stroke-linecap:round; stroke-linejoin:round; stroke-width:4; stroke-opacity:1; fill:none\" points=\"29134,1423.18 29134,1423.18 29213.1,1423.18 29134,1423.18 \"/>\n",
       "<path clip-path=\"url(#clip622)\" d=\"M29213.1 1423.18 L29213.1 1423.18 L29292.3 1423.18 L29292.3 1423.18 L29213.1 1423.18 L29213.1 1423.18  Z\" fill=\"#009af9\" fill-rule=\"evenodd\" fill-opacity=\"1\"/>\n",
       "<polyline clip-path=\"url(#clip622)\" style=\"stroke:#000000; stroke-linecap:round; stroke-linejoin:round; stroke-width:4; stroke-opacity:1; fill:none\" points=\"29213.1,1423.18 29213.1,1423.18 29292.3,1423.18 29213.1,1423.18 \"/>\n",
       "<path clip-path=\"url(#clip622)\" d=\"M29292.3 1423.18 L29292.3 1423.18 L29371.4 1423.18 L29371.4 1423.18 L29292.3 1423.18 L29292.3 1423.18  Z\" fill=\"#009af9\" fill-rule=\"evenodd\" fill-opacity=\"1\"/>\n",
       "<polyline clip-path=\"url(#clip622)\" style=\"stroke:#000000; stroke-linecap:round; stroke-linejoin:round; stroke-width:4; stroke-opacity:1; fill:none\" points=\"29292.3,1423.18 29292.3,1423.18 29371.4,1423.18 29292.3,1423.18 \"/>\n",
       "<path clip-path=\"url(#clip622)\" d=\"M29371.4 1423.18 L29371.4 1423.18 L29450.6 1423.18 L29450.6 1423.18 L29371.4 1423.18 L29371.4 1423.18  Z\" fill=\"#009af9\" fill-rule=\"evenodd\" fill-opacity=\"1\"/>\n",
       "<polyline clip-path=\"url(#clip622)\" style=\"stroke:#000000; stroke-linecap:round; stroke-linejoin:round; stroke-width:4; stroke-opacity:1; fill:none\" points=\"29371.4,1423.18 29371.4,1423.18 29450.6,1423.18 29371.4,1423.18 \"/>\n",
       "<path clip-path=\"url(#clip622)\" d=\"M29450.6 1423.18 L29450.6 1423.18 L29529.8 1423.18 L29529.8 1423.18 L29450.6 1423.18 L29450.6 1423.18  Z\" fill=\"#009af9\" fill-rule=\"evenodd\" fill-opacity=\"1\"/>\n",
       "<polyline clip-path=\"url(#clip622)\" style=\"stroke:#000000; stroke-linecap:round; stroke-linejoin:round; stroke-width:4; stroke-opacity:1; fill:none\" points=\"29450.6,1423.18 29450.6,1423.18 29529.8,1423.18 29450.6,1423.18 \"/>\n",
       "<path clip-path=\"url(#clip622)\" d=\"M29529.8 1423.18 L29529.8 1423.18 L29608.9 1423.18 L29608.9 1423.18 L29529.8 1423.18 L29529.8 1423.18  Z\" fill=\"#009af9\" fill-rule=\"evenodd\" fill-opacity=\"1\"/>\n",
       "<polyline clip-path=\"url(#clip622)\" style=\"stroke:#000000; stroke-linecap:round; stroke-linejoin:round; stroke-width:4; stroke-opacity:1; fill:none\" points=\"29529.8,1423.18 29529.8,1423.18 29608.9,1423.18 29529.8,1423.18 \"/>\n",
       "<path clip-path=\"url(#clip622)\" d=\"M29608.9 1423.18 L29608.9 1423.18 L29688.1 1423.18 L29688.1 1423.18 L29608.9 1423.18 L29608.9 1423.18  Z\" fill=\"#009af9\" fill-rule=\"evenodd\" fill-opacity=\"1\"/>\n",
       "<polyline clip-path=\"url(#clip622)\" style=\"stroke:#000000; stroke-linecap:round; stroke-linejoin:round; stroke-width:4; stroke-opacity:1; fill:none\" points=\"29608.9,1423.18 29608.9,1423.18 29688.1,1423.18 29608.9,1423.18 \"/>\n",
       "<path clip-path=\"url(#clip622)\" d=\"M29688.1 1423.18 L29688.1 1423.18 L29767.2 1423.18 L29767.2 1423.18 L29688.1 1423.18 L29688.1 1423.18  Z\" fill=\"#009af9\" fill-rule=\"evenodd\" fill-opacity=\"1\"/>\n",
       "<polyline clip-path=\"url(#clip622)\" style=\"stroke:#000000; stroke-linecap:round; stroke-linejoin:round; stroke-width:4; stroke-opacity:1; fill:none\" points=\"29688.1,1423.18 29688.1,1423.18 29767.2,1423.18 29688.1,1423.18 \"/>\n",
       "<path clip-path=\"url(#clip622)\" d=\"M29767.2 1423.18 L29767.2 1423.18 L29846.4 1423.18 L29846.4 1423.18 L29767.2 1423.18 L29767.2 1423.18  Z\" fill=\"#009af9\" fill-rule=\"evenodd\" fill-opacity=\"1\"/>\n",
       "<polyline clip-path=\"url(#clip622)\" style=\"stroke:#000000; stroke-linecap:round; stroke-linejoin:round; stroke-width:4; stroke-opacity:1; fill:none\" points=\"29767.2,1423.18 29767.2,1423.18 29846.4,1423.18 29767.2,1423.18 \"/>\n",
       "<path clip-path=\"url(#clip622)\" d=\"M29846.4 1423.18 L29846.4 1423.18 L29925.5 1423.18 L29925.5 1423.18 L29846.4 1423.18 L29846.4 1423.18  Z\" fill=\"#009af9\" fill-rule=\"evenodd\" fill-opacity=\"1\"/>\n",
       "<polyline clip-path=\"url(#clip622)\" style=\"stroke:#000000; stroke-linecap:round; stroke-linejoin:round; stroke-width:4; stroke-opacity:1; fill:none\" points=\"29846.4,1423.18 29846.4,1423.18 29925.5,1423.18 29846.4,1423.18 \"/>\n",
       "<path clip-path=\"url(#clip622)\" d=\"M29925.5 1423.18 L29925.5 1423.18 L30004.7 1423.18 L30004.7 1423.18 L29925.5 1423.18 L29925.5 1423.18  Z\" fill=\"#009af9\" fill-rule=\"evenodd\" fill-opacity=\"1\"/>\n",
       "<polyline clip-path=\"url(#clip622)\" style=\"stroke:#000000; stroke-linecap:round; stroke-linejoin:round; stroke-width:4; stroke-opacity:1; fill:none\" points=\"29925.5,1423.18 29925.5,1423.18 30004.7,1423.18 29925.5,1423.18 \"/>\n",
       "<path clip-path=\"url(#clip622)\" d=\"M30004.7 1423.18 L30004.7 1423.18 L30083.8 1423.18 L30083.8 1423.18 L30004.7 1423.18 L30004.7 1423.18  Z\" fill=\"#009af9\" fill-rule=\"evenodd\" fill-opacity=\"1\"/>\n",
       "<polyline clip-path=\"url(#clip622)\" style=\"stroke:#000000; stroke-linecap:round; stroke-linejoin:round; stroke-width:4; stroke-opacity:1; fill:none\" points=\"30004.7,1423.18 30004.7,1423.18 30083.8,1423.18 30004.7,1423.18 \"/>\n",
       "<path clip-path=\"url(#clip622)\" d=\"M30083.8 1423.18 L30083.8 1423.18 L30163 1423.18 L30163 1423.18 L30083.8 1423.18 L30083.8 1423.18  Z\" fill=\"#009af9\" fill-rule=\"evenodd\" fill-opacity=\"1\"/>\n",
       "<polyline clip-path=\"url(#clip622)\" style=\"stroke:#000000; stroke-linecap:round; stroke-linejoin:round; stroke-width:4; stroke-opacity:1; fill:none\" points=\"30083.8,1423.18 30083.8,1423.18 30163,1423.18 30083.8,1423.18 \"/>\n",
       "<path clip-path=\"url(#clip622)\" d=\"M30163 1423.18 L30163 1423.18 L30242.2 1423.18 L30242.2 1423.18 L30163 1423.18 L30163 1423.18  Z\" fill=\"#009af9\" fill-rule=\"evenodd\" fill-opacity=\"1\"/>\n",
       "<polyline clip-path=\"url(#clip622)\" style=\"stroke:#000000; stroke-linecap:round; stroke-linejoin:round; stroke-width:4; stroke-opacity:1; fill:none\" points=\"30163,1423.18 30163,1423.18 30242.2,1423.18 30163,1423.18 \"/>\n",
       "<path clip-path=\"url(#clip622)\" d=\"M30242.2 1423.18 L30242.2 1423.18 L30321.3 1423.18 L30321.3 1423.18 L30242.2 1423.18 L30242.2 1423.18  Z\" fill=\"#009af9\" fill-rule=\"evenodd\" fill-opacity=\"1\"/>\n",
       "<polyline clip-path=\"url(#clip622)\" style=\"stroke:#000000; stroke-linecap:round; stroke-linejoin:round; stroke-width:4; stroke-opacity:1; fill:none\" points=\"30242.2,1423.18 30242.2,1423.18 30321.3,1423.18 30242.2,1423.18 \"/>\n",
       "<path clip-path=\"url(#clip622)\" d=\"M30321.3 1423.18 L30321.3 1423.18 L30400.5 1423.18 L30400.5 1423.18 L30321.3 1423.18 L30321.3 1423.18  Z\" fill=\"#009af9\" fill-rule=\"evenodd\" fill-opacity=\"1\"/>\n",
       "<polyline clip-path=\"url(#clip622)\" style=\"stroke:#000000; stroke-linecap:round; stroke-linejoin:round; stroke-width:4; stroke-opacity:1; fill:none\" points=\"30321.3,1423.18 30321.3,1423.18 30400.5,1423.18 30321.3,1423.18 \"/>\n",
       "<path clip-path=\"url(#clip622)\" d=\"M30400.5 1423.18 L30400.5 1423.18 L30479.6 1423.18 L30479.6 1423.18 L30400.5 1423.18 L30400.5 1423.18  Z\" fill=\"#009af9\" fill-rule=\"evenodd\" fill-opacity=\"1\"/>\n",
       "<polyline clip-path=\"url(#clip622)\" style=\"stroke:#000000; stroke-linecap:round; stroke-linejoin:round; stroke-width:4; stroke-opacity:1; fill:none\" points=\"30400.5,1423.18 30400.5,1423.18 30479.6,1423.18 30400.5,1423.18 \"/>\n",
       "<path clip-path=\"url(#clip622)\" d=\"M30479.6 1423.18 L30479.6 1423.18 L30558.8 1423.18 L30558.8 1423.18 L30479.6 1423.18 L30479.6 1423.18  Z\" fill=\"#009af9\" fill-rule=\"evenodd\" fill-opacity=\"1\"/>\n",
       "<polyline clip-path=\"url(#clip622)\" style=\"stroke:#000000; stroke-linecap:round; stroke-linejoin:round; stroke-width:4; stroke-opacity:1; fill:none\" points=\"30479.6,1423.18 30479.6,1423.18 30558.8,1423.18 30479.6,1423.18 \"/>\n",
       "<path clip-path=\"url(#clip622)\" d=\"M30558.8 1423.18 L30558.8 1423.18 L30637.9 1423.18 L30637.9 1423.18 L30558.8 1423.18 L30558.8 1423.18  Z\" fill=\"#009af9\" fill-rule=\"evenodd\" fill-opacity=\"1\"/>\n",
       "<polyline clip-path=\"url(#clip622)\" style=\"stroke:#000000; stroke-linecap:round; stroke-linejoin:round; stroke-width:4; stroke-opacity:1; fill:none\" points=\"30558.8,1423.18 30558.8,1423.18 30637.9,1423.18 30558.8,1423.18 \"/>\n",
       "<path clip-path=\"url(#clip622)\" d=\"M30637.9 1423.18 L30637.9 1423.18 L30717.1 1423.18 L30717.1 1423.18 L30637.9 1423.18 L30637.9 1423.18  Z\" fill=\"#009af9\" fill-rule=\"evenodd\" fill-opacity=\"1\"/>\n",
       "<polyline clip-path=\"url(#clip622)\" style=\"stroke:#000000; stroke-linecap:round; stroke-linejoin:round; stroke-width:4; stroke-opacity:1; fill:none\" points=\"30637.9,1423.18 30637.9,1423.18 30717.1,1423.18 30637.9,1423.18 \"/>\n",
       "<path clip-path=\"url(#clip622)\" d=\"M30717.1 1423.18 L30717.1 1423.18 L30796.2 1423.18 L30796.2 1423.18 L30717.1 1423.18 L30717.1 1423.18  Z\" fill=\"#009af9\" fill-rule=\"evenodd\" fill-opacity=\"1\"/>\n",
       "<polyline clip-path=\"url(#clip622)\" style=\"stroke:#000000; stroke-linecap:round; stroke-linejoin:round; stroke-width:4; stroke-opacity:1; fill:none\" points=\"30717.1,1423.18 30717.1,1423.18 30796.2,1423.18 30717.1,1423.18 \"/>\n",
       "<path clip-path=\"url(#clip622)\" d=\"M30796.2 1423.18 L30796.2 1423.18 L30875.4 1423.18 L30875.4 1423.18 L30796.2 1423.18 L30796.2 1423.18  Z\" fill=\"#009af9\" fill-rule=\"evenodd\" fill-opacity=\"1\"/>\n",
       "<polyline clip-path=\"url(#clip622)\" style=\"stroke:#000000; stroke-linecap:round; stroke-linejoin:round; stroke-width:4; stroke-opacity:1; fill:none\" points=\"30796.2,1423.18 30796.2,1423.18 30875.4,1423.18 30796.2,1423.18 \"/>\n",
       "<path clip-path=\"url(#clip622)\" d=\"M30875.4 1423.18 L30875.4 1423.18 L30954.6 1423.18 L30954.6 1423.18 L30875.4 1423.18 L30875.4 1423.18  Z\" fill=\"#009af9\" fill-rule=\"evenodd\" fill-opacity=\"1\"/>\n",
       "<polyline clip-path=\"url(#clip622)\" style=\"stroke:#000000; stroke-linecap:round; stroke-linejoin:round; stroke-width:4; stroke-opacity:1; fill:none\" points=\"30875.4,1423.18 30875.4,1423.18 30954.6,1423.18 30875.4,1423.18 \"/>\n",
       "<path clip-path=\"url(#clip622)\" d=\"M30954.6 1423.18 L30954.6 1423.18 L31033.7 1423.18 L31033.7 1423.18 L30954.6 1423.18 L30954.6 1423.18  Z\" fill=\"#009af9\" fill-rule=\"evenodd\" fill-opacity=\"1\"/>\n",
       "<polyline clip-path=\"url(#clip622)\" style=\"stroke:#000000; stroke-linecap:round; stroke-linejoin:round; stroke-width:4; stroke-opacity:1; fill:none\" points=\"30954.6,1423.18 30954.6,1423.18 31033.7,1423.18 30954.6,1423.18 \"/>\n",
       "<path clip-path=\"url(#clip622)\" d=\"M31033.7 1423.18 L31033.7 1423.18 L31112.9 1423.18 L31112.9 1423.18 L31033.7 1423.18 L31033.7 1423.18  Z\" fill=\"#009af9\" fill-rule=\"evenodd\" fill-opacity=\"1\"/>\n",
       "<polyline clip-path=\"url(#clip622)\" style=\"stroke:#000000; stroke-linecap:round; stroke-linejoin:round; stroke-width:4; stroke-opacity:1; fill:none\" points=\"31033.7,1423.18 31033.7,1423.18 31112.9,1423.18 31033.7,1423.18 \"/>\n",
       "<path clip-path=\"url(#clip622)\" d=\"M31112.9 1423.18 L31112.9 1423.18 L31192 1423.18 L31192 1423.18 L31112.9 1423.18 L31112.9 1423.18  Z\" fill=\"#009af9\" fill-rule=\"evenodd\" fill-opacity=\"1\"/>\n",
       "<polyline clip-path=\"url(#clip622)\" style=\"stroke:#000000; stroke-linecap:round; stroke-linejoin:round; stroke-width:4; stroke-opacity:1; fill:none\" points=\"31112.9,1423.18 31112.9,1423.18 31192,1423.18 31112.9,1423.18 \"/>\n",
       "<path clip-path=\"url(#clip622)\" d=\"M31192 1423.18 L31192 1423.18 L31271.2 1423.18 L31271.2 1423.18 L31192 1423.18 L31192 1423.18  Z\" fill=\"#009af9\" fill-rule=\"evenodd\" fill-opacity=\"1\"/>\n",
       "<polyline clip-path=\"url(#clip622)\" style=\"stroke:#000000; stroke-linecap:round; stroke-linejoin:round; stroke-width:4; stroke-opacity:1; fill:none\" points=\"31192,1423.18 31192,1423.18 31271.2,1423.18 31192,1423.18 \"/>\n",
       "<path clip-path=\"url(#clip622)\" d=\"M31271.2 1423.18 L31271.2 1423.18 L31350.3 1423.18 L31350.3 1423.18 L31271.2 1423.18 L31271.2 1423.18  Z\" fill=\"#009af9\" fill-rule=\"evenodd\" fill-opacity=\"1\"/>\n",
       "<polyline clip-path=\"url(#clip622)\" style=\"stroke:#000000; stroke-linecap:round; stroke-linejoin:round; stroke-width:4; stroke-opacity:1; fill:none\" points=\"31271.2,1423.18 31271.2,1423.18 31350.3,1423.18 31271.2,1423.18 \"/>\n",
       "<path clip-path=\"url(#clip622)\" d=\"M31350.3 1423.18 L31350.3 1423.18 L31429.5 1423.18 L31429.5 1423.18 L31350.3 1423.18 L31350.3 1423.18  Z\" fill=\"#009af9\" fill-rule=\"evenodd\" fill-opacity=\"1\"/>\n",
       "<polyline clip-path=\"url(#clip622)\" style=\"stroke:#000000; stroke-linecap:round; stroke-linejoin:round; stroke-width:4; stroke-opacity:1; fill:none\" points=\"31350.3,1423.18 31350.3,1423.18 31429.5,1423.18 31350.3,1423.18 \"/>\n",
       "<path clip-path=\"url(#clip622)\" d=\"M31429.5 1423.18 L31429.5 1423.18 L31508.6 1423.18 L31508.6 1423.18 L31429.5 1423.18 L31429.5 1423.18  Z\" fill=\"#009af9\" fill-rule=\"evenodd\" fill-opacity=\"1\"/>\n",
       "<polyline clip-path=\"url(#clip622)\" style=\"stroke:#000000; stroke-linecap:round; stroke-linejoin:round; stroke-width:4; stroke-opacity:1; fill:none\" points=\"31429.5,1423.18 31429.5,1423.18 31508.6,1423.18 31429.5,1423.18 \"/>\n",
       "<path clip-path=\"url(#clip622)\" d=\"M31508.6 1423.18 L31508.6 1423.18 L31587.8 1423.18 L31587.8 1423.18 L31508.6 1423.18 L31508.6 1423.18  Z\" fill=\"#009af9\" fill-rule=\"evenodd\" fill-opacity=\"1\"/>\n",
       "<polyline clip-path=\"url(#clip622)\" style=\"stroke:#000000; stroke-linecap:round; stroke-linejoin:round; stroke-width:4; stroke-opacity:1; fill:none\" points=\"31508.6,1423.18 31508.6,1423.18 31587.8,1423.18 31508.6,1423.18 \"/>\n",
       "<path clip-path=\"url(#clip622)\" d=\"M31587.8 1423.18 L31587.8 1423.18 L31667 1423.18 L31667 1423.18 L31587.8 1423.18 L31587.8 1423.18  Z\" fill=\"#009af9\" fill-rule=\"evenodd\" fill-opacity=\"1\"/>\n",
       "<polyline clip-path=\"url(#clip622)\" style=\"stroke:#000000; stroke-linecap:round; stroke-linejoin:round; stroke-width:4; stroke-opacity:1; fill:none\" points=\"31587.8,1423.18 31587.8,1423.18 31667,1423.18 31587.8,1423.18 \"/>\n",
       "<path clip-path=\"url(#clip622)\" d=\"M31667 1423.18 L31667 1423.18 L31746.1 1423.18 L31746.1 1423.18 L31667 1423.18 L31667 1423.18  Z\" fill=\"#009af9\" fill-rule=\"evenodd\" fill-opacity=\"1\"/>\n",
       "<polyline clip-path=\"url(#clip622)\" style=\"stroke:#000000; stroke-linecap:round; stroke-linejoin:round; stroke-width:4; stroke-opacity:1; fill:none\" points=\"31667,1423.18 31667,1423.18 31746.1,1423.18 31667,1423.18 \"/>\n",
       "<path clip-path=\"url(#clip622)\" d=\"M31746.1 1423.18 L31746.1 1423.18 L31825.3 1423.18 L31825.3 1423.18 L31746.1 1423.18 L31746.1 1423.18  Z\" fill=\"#009af9\" fill-rule=\"evenodd\" fill-opacity=\"1\"/>\n",
       "<polyline clip-path=\"url(#clip622)\" style=\"stroke:#000000; stroke-linecap:round; stroke-linejoin:round; stroke-width:4; stroke-opacity:1; fill:none\" points=\"31746.1,1423.18 31746.1,1423.18 31825.3,1423.18 31746.1,1423.18 \"/>\n",
       "<path clip-path=\"url(#clip622)\" d=\"M31825.3 1423.18 L31825.3 1423.18 L31904.4 1423.18 L31904.4 1423.18 L31825.3 1423.18 L31825.3 1423.18  Z\" fill=\"#009af9\" fill-rule=\"evenodd\" fill-opacity=\"1\"/>\n",
       "<polyline clip-path=\"url(#clip622)\" style=\"stroke:#000000; stroke-linecap:round; stroke-linejoin:round; stroke-width:4; stroke-opacity:1; fill:none\" points=\"31825.3,1423.18 31825.3,1423.18 31904.4,1423.18 31825.3,1423.18 \"/>\n",
       "<path clip-path=\"url(#clip622)\" d=\"M31904.4 1423.18 L31904.4 1423.18 L31983.6 1423.18 L31983.6 1423.18 L31904.4 1423.18 L31904.4 1423.18  Z\" fill=\"#009af9\" fill-rule=\"evenodd\" fill-opacity=\"1\"/>\n",
       "<polyline clip-path=\"url(#clip622)\" style=\"stroke:#000000; stroke-linecap:round; stroke-linejoin:round; stroke-width:4; stroke-opacity:1; fill:none\" points=\"31904.4,1423.18 31904.4,1423.18 31983.6,1423.18 31904.4,1423.18 \"/>\n",
       "<path clip-path=\"url(#clip622)\" d=\"M31983.6 1423.18 L31983.6 1423.18 L32062.7 1423.18 L32062.7 1423.18 L31983.6 1423.18 L31983.6 1423.18  Z\" fill=\"#009af9\" fill-rule=\"evenodd\" fill-opacity=\"1\"/>\n",
       "<polyline clip-path=\"url(#clip622)\" style=\"stroke:#000000; stroke-linecap:round; stroke-linejoin:round; stroke-width:4; stroke-opacity:1; fill:none\" points=\"31983.6,1423.18 31983.6,1423.18 32062.7,1423.18 31983.6,1423.18 \"/>\n",
       "<path clip-path=\"url(#clip622)\" d=\"M32062.7 1423.18 L32062.7 1423.18 L32141.9 1423.18 L32141.9 1423.18 L32062.7 1423.18 L32062.7 1423.18  Z\" fill=\"#009af9\" fill-rule=\"evenodd\" fill-opacity=\"1\"/>\n",
       "<polyline clip-path=\"url(#clip622)\" style=\"stroke:#000000; stroke-linecap:round; stroke-linejoin:round; stroke-width:4; stroke-opacity:1; fill:none\" points=\"32062.7,1423.18 32062.7,1423.18 32141.9,1423.18 32062.7,1423.18 \"/>\n",
       "<path clip-path=\"url(#clip622)\" d=\"M32141.9 1423.18 L32141.9 1423.18 L32221 1423.18 L32221 1423.18 L32141.9 1423.18 L32141.9 1423.18  Z\" fill=\"#009af9\" fill-rule=\"evenodd\" fill-opacity=\"1\"/>\n",
       "<polyline clip-path=\"url(#clip622)\" style=\"stroke:#000000; stroke-linecap:round; stroke-linejoin:round; stroke-width:4; stroke-opacity:1; fill:none\" points=\"32141.9,1423.18 32141.9,1423.18 32221,1423.18 32141.9,1423.18 \"/>\n",
       "<path clip-path=\"url(#clip622)\" d=\"M32221 1423.18 L32221 1423.18 L32300.2 1423.18 L32300.2 1423.18 L32221 1423.18 L32221 1423.18  Z\" fill=\"#009af9\" fill-rule=\"evenodd\" fill-opacity=\"1\"/>\n",
       "<polyline clip-path=\"url(#clip622)\" style=\"stroke:#000000; stroke-linecap:round; stroke-linejoin:round; stroke-width:4; stroke-opacity:1; fill:none\" points=\"32221,1423.18 32221,1423.18 32300.2,1423.18 32221,1423.18 \"/>\n",
       "<path clip-path=\"url(#clip622)\" d=\"M32300.2 1423.18 L32300.2 1423.18 L32379.4 1423.18 L32379.4 1423.18 L32300.2 1423.18 L32300.2 1423.18  Z\" fill=\"#009af9\" fill-rule=\"evenodd\" fill-opacity=\"1\"/>\n",
       "<polyline clip-path=\"url(#clip622)\" style=\"stroke:#000000; stroke-linecap:round; stroke-linejoin:round; stroke-width:4; stroke-opacity:1; fill:none\" points=\"32300.2,1423.18 32300.2,1423.18 32379.4,1423.18 32300.2,1423.18 \"/>\n",
       "<path clip-path=\"url(#clip622)\" d=\"M32379.4 1423.18 L32379.4 1423.18 L32458.5 1423.18 L32458.5 1423.18 L32379.4 1423.18 L32379.4 1423.18  Z\" fill=\"#009af9\" fill-rule=\"evenodd\" fill-opacity=\"1\"/>\n",
       "<polyline clip-path=\"url(#clip622)\" style=\"stroke:#000000; stroke-linecap:round; stroke-linejoin:round; stroke-width:4; stroke-opacity:1; fill:none\" points=\"32379.4,1423.18 32379.4,1423.18 32458.5,1423.18 32379.4,1423.18 \"/>\n",
       "<path clip-path=\"url(#clip622)\" d=\"M32458.5 1423.18 L32458.5 1423.18 L32537.7 1423.18 L32537.7 1423.18 L32458.5 1423.18 L32458.5 1423.18  Z\" fill=\"#009af9\" fill-rule=\"evenodd\" fill-opacity=\"1\"/>\n",
       "<polyline clip-path=\"url(#clip622)\" style=\"stroke:#000000; stroke-linecap:round; stroke-linejoin:round; stroke-width:4; stroke-opacity:1; fill:none\" points=\"32458.5,1423.18 32458.5,1423.18 32537.7,1423.18 32458.5,1423.18 \"/>\n",
       "<path clip-path=\"url(#clip622)\" d=\"M32537.7 1423.18 L32537.7 1423.18 L32616.8 1423.18 L32616.8 1423.18 L32537.7 1423.18 L32537.7 1423.18  Z\" fill=\"#009af9\" fill-rule=\"evenodd\" fill-opacity=\"1\"/>\n",
       "<polyline clip-path=\"url(#clip622)\" style=\"stroke:#000000; stroke-linecap:round; stroke-linejoin:round; stroke-width:4; stroke-opacity:1; fill:none\" points=\"32537.7,1423.18 32537.7,1423.18 32616.8,1423.18 32537.7,1423.18 \"/>\n",
       "<path clip-path=\"url(#clip622)\" d=\"M32616.8 1423.18 L32616.8 1423.18 L32696 1423.18 L32696 1423.18 L32616.8 1423.18 L32616.8 1423.18  Z\" fill=\"#009af9\" fill-rule=\"evenodd\" fill-opacity=\"1\"/>\n",
       "<polyline clip-path=\"url(#clip622)\" style=\"stroke:#000000; stroke-linecap:round; stroke-linejoin:round; stroke-width:4; stroke-opacity:1; fill:none\" points=\"32616.8,1423.18 32616.8,1423.18 32696,1423.18 32616.8,1423.18 \"/>\n",
       "<path clip-path=\"url(#clip622)\" d=\"M32696 1423.18 L32696 1423.18 L32775.1 1423.18 L32775.1 1423.18 L32696 1423.18 L32696 1423.18  Z\" fill=\"#009af9\" fill-rule=\"evenodd\" fill-opacity=\"1\"/>\n",
       "<polyline clip-path=\"url(#clip622)\" style=\"stroke:#000000; stroke-linecap:round; stroke-linejoin:round; stroke-width:4; stroke-opacity:1; fill:none\" points=\"32696,1423.18 32696,1423.18 32775.1,1423.18 32696,1423.18 \"/>\n",
       "<path clip-path=\"url(#clip622)\" d=\"M32775.1 1423.18 L32775.1 1423.18 L32854.3 1423.18 L32854.3 1423.18 L32775.1 1423.18 L32775.1 1423.18  Z\" fill=\"#009af9\" fill-rule=\"evenodd\" fill-opacity=\"1\"/>\n",
       "<polyline clip-path=\"url(#clip622)\" style=\"stroke:#000000; stroke-linecap:round; stroke-linejoin:round; stroke-width:4; stroke-opacity:1; fill:none\" points=\"32775.1,1423.18 32775.1,1423.18 32854.3,1423.18 32775.1,1423.18 \"/>\n",
       "<path clip-path=\"url(#clip622)\" d=\"M32854.3 1423.18 L32854.3 1423.18 L32933.4 1423.18 L32933.4 1423.18 L32854.3 1423.18 L32854.3 1423.18  Z\" fill=\"#009af9\" fill-rule=\"evenodd\" fill-opacity=\"1\"/>\n",
       "<polyline clip-path=\"url(#clip622)\" style=\"stroke:#000000; stroke-linecap:round; stroke-linejoin:round; stroke-width:4; stroke-opacity:1; fill:none\" points=\"32854.3,1423.18 32854.3,1423.18 32933.4,1423.18 32854.3,1423.18 \"/>\n",
       "<path clip-path=\"url(#clip622)\" d=\"M32933.4 1423.18 L32933.4 1423.18 L33012.6 1423.18 L33012.6 1423.18 L32933.4 1423.18 L32933.4 1423.18  Z\" fill=\"#009af9\" fill-rule=\"evenodd\" fill-opacity=\"1\"/>\n",
       "<polyline clip-path=\"url(#clip622)\" style=\"stroke:#000000; stroke-linecap:round; stroke-linejoin:round; stroke-width:4; stroke-opacity:1; fill:none\" points=\"32933.4,1423.18 32933.4,1423.18 33012.6,1423.18 32933.4,1423.18 \"/>\n",
       "<path clip-path=\"url(#clip622)\" d=\"M33012.6 1423.18 L33012.6 1423.18 L33091.8 1423.18 L33091.8 1423.18 L33012.6 1423.18 L33012.6 1423.18  Z\" fill=\"#009af9\" fill-rule=\"evenodd\" fill-opacity=\"1\"/>\n",
       "<polyline clip-path=\"url(#clip622)\" style=\"stroke:#000000; stroke-linecap:round; stroke-linejoin:round; stroke-width:4; stroke-opacity:1; fill:none\" points=\"33012.6,1423.18 33012.6,1423.18 33091.8,1423.18 33012.6,1423.18 \"/>\n",
       "<path clip-path=\"url(#clip622)\" d=\"M33091.8 1423.18 L33091.8 1423.18 L33170.9 1423.18 L33170.9 1423.18 L33091.8 1423.18 L33091.8 1423.18  Z\" fill=\"#009af9\" fill-rule=\"evenodd\" fill-opacity=\"1\"/>\n",
       "<polyline clip-path=\"url(#clip622)\" style=\"stroke:#000000; stroke-linecap:round; stroke-linejoin:round; stroke-width:4; stroke-opacity:1; fill:none\" points=\"33091.8,1423.18 33091.8,1423.18 33170.9,1423.18 33091.8,1423.18 \"/>\n",
       "<path clip-path=\"url(#clip622)\" d=\"M33170.9 1423.18 L33170.9 1423.18 L33250.1 1423.18 L33250.1 1423.18 L33170.9 1423.18 L33170.9 1423.18  Z\" fill=\"#009af9\" fill-rule=\"evenodd\" fill-opacity=\"1\"/>\n",
       "<polyline clip-path=\"url(#clip622)\" style=\"stroke:#000000; stroke-linecap:round; stroke-linejoin:round; stroke-width:4; stroke-opacity:1; fill:none\" points=\"33170.9,1423.18 33170.9,1423.18 33250.1,1423.18 33170.9,1423.18 \"/>\n",
       "<path clip-path=\"url(#clip622)\" d=\"M33250.1 1423.18 L33250.1 1423.18 L33329.2 1423.18 L33329.2 1423.18 L33250.1 1423.18 L33250.1 1423.18  Z\" fill=\"#009af9\" fill-rule=\"evenodd\" fill-opacity=\"1\"/>\n",
       "<polyline clip-path=\"url(#clip622)\" style=\"stroke:#000000; stroke-linecap:round; stroke-linejoin:round; stroke-width:4; stroke-opacity:1; fill:none\" points=\"33250.1,1423.18 33250.1,1423.18 33329.2,1423.18 33250.1,1423.18 \"/>\n",
       "<path clip-path=\"url(#clip622)\" d=\"M33329.2 1423.18 L33329.2 1423.18 L33408.4 1423.18 L33408.4 1423.18 L33329.2 1423.18 L33329.2 1423.18  Z\" fill=\"#009af9\" fill-rule=\"evenodd\" fill-opacity=\"1\"/>\n",
       "<polyline clip-path=\"url(#clip622)\" style=\"stroke:#000000; stroke-linecap:round; stroke-linejoin:round; stroke-width:4; stroke-opacity:1; fill:none\" points=\"33329.2,1423.18 33329.2,1423.18 33408.4,1423.18 33329.2,1423.18 \"/>\n",
       "<path clip-path=\"url(#clip622)\" d=\"M33408.4 1423.18 L33408.4 1423.18 L33487.5 1423.18 L33487.5 1423.18 L33408.4 1423.18 L33408.4 1423.18  Z\" fill=\"#009af9\" fill-rule=\"evenodd\" fill-opacity=\"1\"/>\n",
       "<polyline clip-path=\"url(#clip622)\" style=\"stroke:#000000; stroke-linecap:round; stroke-linejoin:round; stroke-width:4; stroke-opacity:1; fill:none\" points=\"33408.4,1423.18 33408.4,1423.18 33487.5,1423.18 33408.4,1423.18 \"/>\n",
       "<path clip-path=\"url(#clip622)\" d=\"M33487.5 1423.18 L33487.5 1423.18 L33566.7 1423.18 L33566.7 1423.18 L33487.5 1423.18 L33487.5 1423.18  Z\" fill=\"#009af9\" fill-rule=\"evenodd\" fill-opacity=\"1\"/>\n",
       "<polyline clip-path=\"url(#clip622)\" style=\"stroke:#000000; stroke-linecap:round; stroke-linejoin:round; stroke-width:4; stroke-opacity:1; fill:none\" points=\"33487.5,1423.18 33487.5,1423.18 33566.7,1423.18 33487.5,1423.18 \"/>\n",
       "<path clip-path=\"url(#clip622)\" d=\"M33566.7 1423.18 L33566.7 1423.18 L33645.8 1423.18 L33645.8 1423.18 L33566.7 1423.18 L33566.7 1423.18  Z\" fill=\"#009af9\" fill-rule=\"evenodd\" fill-opacity=\"1\"/>\n",
       "<polyline clip-path=\"url(#clip622)\" style=\"stroke:#000000; stroke-linecap:round; stroke-linejoin:round; stroke-width:4; stroke-opacity:1; fill:none\" points=\"33566.7,1423.18 33566.7,1423.18 33645.8,1423.18 33566.7,1423.18 \"/>\n",
       "<path clip-path=\"url(#clip622)\" d=\"M33645.8 1423.18 L33645.8 1423.18 L33725 1423.18 L33725 1423.18 L33645.8 1423.18 L33645.8 1423.18  Z\" fill=\"#009af9\" fill-rule=\"evenodd\" fill-opacity=\"1\"/>\n",
       "<polyline clip-path=\"url(#clip622)\" style=\"stroke:#000000; stroke-linecap:round; stroke-linejoin:round; stroke-width:4; stroke-opacity:1; fill:none\" points=\"33645.8,1423.18 33645.8,1423.18 33725,1423.18 33645.8,1423.18 \"/>\n",
       "<path clip-path=\"url(#clip622)\" d=\"M33725 1423.18 L33725 1423.18 L33804.2 1423.18 L33804.2 1423.18 L33725 1423.18 L33725 1423.18  Z\" fill=\"#009af9\" fill-rule=\"evenodd\" fill-opacity=\"1\"/>\n",
       "<polyline clip-path=\"url(#clip622)\" style=\"stroke:#000000; stroke-linecap:round; stroke-linejoin:round; stroke-width:4; stroke-opacity:1; fill:none\" points=\"33725,1423.18 33725,1423.18 33804.2,1423.18 33725,1423.18 \"/>\n",
       "<path clip-path=\"url(#clip622)\" d=\"M33804.2 1423.18 L33804.2 1423.18 L33883.3 1423.18 L33883.3 1423.18 L33804.2 1423.18 L33804.2 1423.18  Z\" fill=\"#009af9\" fill-rule=\"evenodd\" fill-opacity=\"1\"/>\n",
       "<polyline clip-path=\"url(#clip622)\" style=\"stroke:#000000; stroke-linecap:round; stroke-linejoin:round; stroke-width:4; stroke-opacity:1; fill:none\" points=\"33804.2,1423.18 33804.2,1423.18 33883.3,1423.18 33804.2,1423.18 \"/>\n",
       "<path clip-path=\"url(#clip622)\" d=\"M33883.3 1423.18 L33883.3 1423.18 L33962.5 1423.18 L33962.5 1423.18 L33883.3 1423.18 L33883.3 1423.18  Z\" fill=\"#009af9\" fill-rule=\"evenodd\" fill-opacity=\"1\"/>\n",
       "<polyline clip-path=\"url(#clip622)\" style=\"stroke:#000000; stroke-linecap:round; stroke-linejoin:round; stroke-width:4; stroke-opacity:1; fill:none\" points=\"33883.3,1423.18 33883.3,1423.18 33962.5,1423.18 33883.3,1423.18 \"/>\n",
       "<path clip-path=\"url(#clip622)\" d=\"M33962.5 1423.18 L33962.5 1423.18 L34041.6 1423.18 L34041.6 1423.18 L33962.5 1423.18 L33962.5 1423.18  Z\" fill=\"#009af9\" fill-rule=\"evenodd\" fill-opacity=\"1\"/>\n",
       "<polyline clip-path=\"url(#clip622)\" style=\"stroke:#000000; stroke-linecap:round; stroke-linejoin:round; stroke-width:4; stroke-opacity:1; fill:none\" points=\"33962.5,1423.18 33962.5,1423.18 34041.6,1423.18 33962.5,1423.18 \"/>\n",
       "<path clip-path=\"url(#clip622)\" d=\"M34041.6 1423.18 L34041.6 1423.18 L34120.8 1423.18 L34120.8 1423.18 L34041.6 1423.18 L34041.6 1423.18  Z\" fill=\"#009af9\" fill-rule=\"evenodd\" fill-opacity=\"1\"/>\n",
       "<polyline clip-path=\"url(#clip622)\" style=\"stroke:#000000; stroke-linecap:round; stroke-linejoin:round; stroke-width:4; stroke-opacity:1; fill:none\" points=\"34041.6,1423.18 34041.6,1423.18 34120.8,1423.18 34041.6,1423.18 \"/>\n",
       "<path clip-path=\"url(#clip622)\" d=\"M34120.8 1423.18 L34120.8 1423.18 L34199.9 1423.18 L34199.9 1423.18 L34120.8 1423.18 L34120.8 1423.18  Z\" fill=\"#009af9\" fill-rule=\"evenodd\" fill-opacity=\"1\"/>\n",
       "<polyline clip-path=\"url(#clip622)\" style=\"stroke:#000000; stroke-linecap:round; stroke-linejoin:round; stroke-width:4; stroke-opacity:1; fill:none\" points=\"34120.8,1423.18 34120.8,1423.18 34199.9,1423.18 34120.8,1423.18 \"/>\n",
       "<path clip-path=\"url(#clip622)\" d=\"M34199.9 1423.18 L34199.9 1423.18 L34279.1 1423.18 L34279.1 1423.18 L34199.9 1423.18 L34199.9 1423.18  Z\" fill=\"#009af9\" fill-rule=\"evenodd\" fill-opacity=\"1\"/>\n",
       "<polyline clip-path=\"url(#clip622)\" style=\"stroke:#000000; stroke-linecap:round; stroke-linejoin:round; stroke-width:4; stroke-opacity:1; fill:none\" points=\"34199.9,1423.18 34199.9,1423.18 34279.1,1423.18 34199.9,1423.18 \"/>\n",
       "<path clip-path=\"url(#clip622)\" d=\"M34279.1 1423.18 L34279.1 1423.18 L34358.2 1423.18 L34358.2 1423.18 L34279.1 1423.18 L34279.1 1423.18  Z\" fill=\"#009af9\" fill-rule=\"evenodd\" fill-opacity=\"1\"/>\n",
       "<polyline clip-path=\"url(#clip622)\" style=\"stroke:#000000; stroke-linecap:round; stroke-linejoin:round; stroke-width:4; stroke-opacity:1; fill:none\" points=\"34279.1,1423.18 34279.1,1423.18 34358.2,1423.18 34279.1,1423.18 \"/>\n",
       "<path clip-path=\"url(#clip622)\" d=\"M34358.2 1409.28 L34358.2 1423.18 L34437.4 1423.18 L34437.4 1409.28 L34358.2 1409.28 L34358.2 1409.28  Z\" fill=\"#009af9\" fill-rule=\"evenodd\" fill-opacity=\"1\"/>\n",
       "<polyline clip-path=\"url(#clip622)\" style=\"stroke:#000000; stroke-linecap:round; stroke-linejoin:round; stroke-width:4; stroke-opacity:1; fill:none\" points=\"34358.2,1409.28 34358.2,1423.18 34437.4,1423.18 34437.4,1409.28 34358.2,1409.28 \"/>\n",
       "<circle clip-path=\"url(#clip622)\" style=\"fill:#009af9; stroke:none; fill-opacity:0\" cx=\"281.823\" cy=\"47.2441\" r=\"2\"/>\n",
       "<circle clip-path=\"url(#clip622)\" style=\"fill:#009af9; stroke:none; fill-opacity:0\" cx=\"360.978\" cy=\"700.466\" r=\"2\"/>\n",
       "<circle clip-path=\"url(#clip622)\" style=\"fill:#009af9; stroke:none; fill-opacity:0\" cx=\"440.133\" cy=\"1047.92\" r=\"2\"/>\n",
       "<circle clip-path=\"url(#clip622)\" style=\"fill:#009af9; stroke:none; fill-opacity:0\" cx=\"519.289\" cy=\"1200.81\" r=\"2\"/>\n",
       "<circle clip-path=\"url(#clip622)\" style=\"fill:#009af9; stroke:none; fill-opacity:0\" cx=\"598.444\" cy=\"1284.2\" r=\"2\"/>\n",
       "<circle clip-path=\"url(#clip622)\" style=\"fill:#009af9; stroke:none; fill-opacity:0\" cx=\"677.6\" cy=\"1311.99\" r=\"2\"/>\n",
       "<circle clip-path=\"url(#clip622)\" style=\"fill:#009af9; stroke:none; fill-opacity:0\" cx=\"756.755\" cy=\"1395.38\" r=\"2\"/>\n",
       "<circle clip-path=\"url(#clip622)\" style=\"fill:#009af9; stroke:none; fill-opacity:0\" cx=\"835.911\" cy=\"1325.89\" r=\"2\"/>\n",
       "<circle clip-path=\"url(#clip622)\" style=\"fill:#009af9; stroke:none; fill-opacity:0\" cx=\"915.066\" cy=\"1367.59\" r=\"2\"/>\n",
       "<circle clip-path=\"url(#clip622)\" style=\"fill:#009af9; stroke:none; fill-opacity:0\" cx=\"994.222\" cy=\"1381.48\" r=\"2\"/>\n",
       "<circle clip-path=\"url(#clip622)\" style=\"fill:#009af9; stroke:none; fill-opacity:0\" cx=\"1073.38\" cy=\"1381.48\" r=\"2\"/>\n",
       "<circle clip-path=\"url(#clip622)\" style=\"fill:#009af9; stroke:none; fill-opacity:0\" cx=\"1152.53\" cy=\"1409.28\" r=\"2\"/>\n",
       "<circle clip-path=\"url(#clip622)\" style=\"fill:#009af9; stroke:none; fill-opacity:0\" cx=\"1231.69\" cy=\"1409.28\" r=\"2\"/>\n",
       "<circle clip-path=\"url(#clip622)\" style=\"fill:#009af9; stroke:none; fill-opacity:0\" cx=\"1310.84\" cy=\"1409.28\" r=\"2\"/>\n",
       "<circle clip-path=\"url(#clip622)\" style=\"fill:#009af9; stroke:none; fill-opacity:0\" cx=\"1390\" cy=\"1381.48\" r=\"2\"/>\n",
       "<circle clip-path=\"url(#clip622)\" style=\"fill:#009af9; stroke:none; fill-opacity:0\" cx=\"1469.15\" cy=\"1423.18\" r=\"2\"/>\n",
       "<circle clip-path=\"url(#clip622)\" style=\"fill:#009af9; stroke:none; fill-opacity:0\" cx=\"1548.31\" cy=\"1395.38\" r=\"2\"/>\n",
       "<circle clip-path=\"url(#clip622)\" style=\"fill:#009af9; stroke:none; fill-opacity:0\" cx=\"1627.47\" cy=\"1409.28\" r=\"2\"/>\n",
       "<circle clip-path=\"url(#clip622)\" style=\"fill:#009af9; stroke:none; fill-opacity:0\" cx=\"1706.62\" cy=\"1423.18\" r=\"2\"/>\n",
       "<circle clip-path=\"url(#clip622)\" style=\"fill:#009af9; stroke:none; fill-opacity:0\" cx=\"1785.78\" cy=\"1409.28\" r=\"2\"/>\n",
       "<circle clip-path=\"url(#clip622)\" style=\"fill:#009af9; stroke:none; fill-opacity:0\" cx=\"1864.93\" cy=\"1409.28\" r=\"2\"/>\n",
       "<circle clip-path=\"url(#clip622)\" style=\"fill:#009af9; stroke:none; fill-opacity:0\" cx=\"1944.09\" cy=\"1423.18\" r=\"2\"/>\n",
       "<circle clip-path=\"url(#clip622)\" style=\"fill:#009af9; stroke:none; fill-opacity:0\" cx=\"2023.24\" cy=\"1423.18\" r=\"2\"/>\n",
       "<circle clip-path=\"url(#clip622)\" style=\"fill:#009af9; stroke:none; fill-opacity:0\" cx=\"2102.4\" cy=\"1423.18\" r=\"2\"/>\n",
       "<circle clip-path=\"url(#clip622)\" style=\"fill:#009af9; stroke:none; fill-opacity:0\" cx=\"2181.55\" cy=\"1423.18\" r=\"2\"/>\n",
       "<circle clip-path=\"url(#clip622)\" style=\"fill:#009af9; stroke:none; fill-opacity:0\" cx=\"2260.71\" cy=\"1423.18\" r=\"2\"/>\n",
       "<circle clip-path=\"url(#clip622)\" style=\"fill:#009af9; stroke:none; fill-opacity:0\" cx=\"2339.86\" cy=\"1423.18\" r=\"2\"/>\n",
       "</svg>\n"
      ]
     },
     "metadata": {},
     "output_type": "display_data"
    }
   ],
   "source": [
    "histogram(t, bins=500,\n",
    "    xlim=(m - 0.01, m + σ),\n",
    "    xlabel=\"milliseconds\", ylabel=\"count\", label=\"\")"
   ]
  },
  {
   "cell_type": "markdown",
   "metadata": {},
   "source": [
    "- **`histogram(t, bins=500)`** — строим **гистограмму распределения времени выполнения**.\n",
    "- **`bins=500`** — используем **500 столбцов**, чтобы получить **детализированный график**.\n",
    "- **`xlim=(m - 0.01, m + σ)`** — ограничиваем диапазон оси **X**, чтобы сосредоточиться на значимых значениях:\n",
    "  - `m - 0.01` (немного левее минимума, чтобы видеть начало распределения).\n",
    "  - `m + σ` (чтобы охватить часть значений, изменяющихся в пределах стандартного отклонения).\n",
    "- **`xlabel=\"milliseconds\"`** — подпись для оси X (время выполнения в мс).\n",
    "- **`ylabel=\"count\"`** — подпись для оси Y (сколько раз было зафиксировано каждое время выполнения).\n",
    "- **`label=\"\"`** — убираем легенду (здесь она не нужна).  "
   ]
  },
  {
   "cell_type": "markdown",
   "metadata": {},
   "source": [
    "##### **📌 Что показывает полученный график?**\n",
    "\n",
    "🔹 **Если график узкий** → значит, время выполнения **стабильное**, мало колебаний.\n",
    "\n",
    "🔹 **Если график широкий** → значит, **разброс значений большой**, возможны случайные задержки. \n",
    "\n",
    "🔹 **Если есть два пика** → возможно, какие-то измерения выполнялись в разных условиях (например, часть измерений запустилась на загруженной системе).  \n"
   ]
  },
  {
   "cell_type": "markdown",
   "metadata": {},
   "source": [
    "##### **📌 Подведём итоги:**\n",
    "\n",
    "- Теперь у нас есть **визуальное представление** о скорости выполнения C-функции `c_sum(a)`.  \n",
    "\n",
    "- Мы научились сравнить время работы Julia vs. C более точно.\n",
    "  \n",
    "- Если C оказался медленнее, нужно включить SIMD и OpenMP (как мы обсуждали в нашем курсе по C).\n",
    "  \n",
    "- Julia может быть быстрее, если её встроенные функции оптимизированы лучше.\n",
    "  \n"
   ]
  },
  {
   "cell_type": "markdown",
   "metadata": {},
   "source": [
    "<br>\n",
    "\n",
    "#### **🚀 Включаем `-ffast-math` для ускорения вычислений в C**  \n",
    "\n",
    "В этом разделе мы **повторно компилируем C-код**, но теперь добавляем **флаг `-ffast-math`**, который позволяет компилятору **выполнять агрессивные оптимизации для вычислений с плавающей запятой**.  <br>\n",
    "\n",
    "\n",
    "##### **🔹 1. Создаём временный файл для новой библиотеки**"
   ]
  },
  {
   "cell_type": "code",
   "execution_count": 86,
   "metadata": {},
   "outputs": [
    {
     "name": "stderr",
     "output_type": "stream",
     "text": [
      "WARNING: redefinition of constant Main.Clib_fastmath. This may fail, cause incorrect answers, or produce other errors.\n"
     ]
    },
    {
     "data": {
      "text/plain": [
       "\"C:\\\\Users\\\\SIERGE~1\\\\AppData\\\\Local\\\\Temp\\\\jl_yvsfgrSVKf\""
      ]
     },
     "metadata": {},
     "output_type": "display_data"
    }
   ],
   "source": [
    "const Clib_fastmath = tempname()   # Создаём временный файл для библиотеки"
   ]
  },
  {
   "cell_type": "markdown",
   "metadata": {},
   "source": [
    "- `tempname()` создаёт уникальное временное имя файла, в котором будет храниться **динамическая библиотека** (`.so` / `.dll`).  \n",
    "  \n",
    "- Теперь мы будем **компилировать новую C-функцию с `-ffast-math`**.  "
   ]
  },
  {
   "cell_type": "markdown",
   "metadata": {},
   "source": [
    "##### **🔹 2. Компиляция C-кода с `-ffast-math`**"
   ]
  },
  {
   "cell_type": "code",
   "execution_count": 87,
   "metadata": {},
   "outputs": [],
   "source": [
    "open(`gcc -fPIC -O3 -msse3 -xc -shared -ffast-math -o $(Clib_fastmath * \".\" * Libdl.dlext) -`, \"w\") do f\n",
    "    print(f, C_code) \n",
    "end"
   ]
  },
  {
   "cell_type": "markdown",
   "metadata": {},
   "source": [
    "**Что изменилось по сравнению с прошлой компиляцией?**  \n",
    "\n",
    "- **Добавлен флаг `-ffast-math`** → включает **оптимизации для вычислений с `double`**.  \n",
    "  \n",
    "- Это позволяет **ускорить арифметику**, но **может привести к незначительным отклонениям** из-за изменения порядка вычислений.  \n",
    "  "
   ]
  },
  {
   "cell_type": "markdown",
   "metadata": {},
   "source": [
    "##### **🔹 3. Создаём Julia-функцию для вызова новой C-функции**"
   ]
  },
  {
   "cell_type": "code",
   "execution_count": 88,
   "metadata": {},
   "outputs": [
    {
     "data": {
      "text/plain": [
       "c_sum_fastmath (generic function with 1 method)"
      ]
     },
     "metadata": {},
     "output_type": "display_data"
    }
   ],
   "source": [
    "c_sum_fastmath(X::Array{Float64}) = ccall((\"c_sum\", Clib_fastmath), Float64, (Csize_t, Ptr{Float64}), length(X), X)"
   ]
  },
  {
   "cell_type": "markdown",
   "metadata": {},
   "source": [
    "- Определяем **новую Julia-функцию `c_sum_fastmath`**, которая **вызывает оптимизированную C-функцию**.  \n",
    "- Код идентичен `c_sum`, но теперь вызывается версия с **`-ffast-math`**. "
   ]
  },
  {
   "cell_type": "markdown",
   "metadata": {},
   "source": [
    "##### **🔹 4. Бенчмаркинг новой функции**"
   ]
  },
  {
   "cell_type": "code",
   "execution_count": 89,
   "metadata": {},
   "outputs": [
    {
     "data": {
      "text/plain": [
       "BenchmarkTools.Trial: 560 samples with 1 evaluation per sample.\n",
       " Range \u001b[90m(\u001b[39m\u001b[36m\u001b[1mmin\u001b[22m\u001b[39m … \u001b[35mmax\u001b[39m\u001b[90m):  \u001b[39m\u001b[36m\u001b[1m8.583 ms\u001b[22m\u001b[39m … \u001b[35m  9.765 ms\u001b[39m  \u001b[90m┊\u001b[39m GC \u001b[90m(\u001b[39mmin … max\u001b[90m): \u001b[39m0.00% … 0.00%\n",
       " Time  \u001b[90m(\u001b[39m\u001b[34m\u001b[1mmedian\u001b[22m\u001b[39m\u001b[90m):     \u001b[39m\u001b[34m\u001b[1m8.868 ms               \u001b[22m\u001b[39m\u001b[90m┊\u001b[39m GC \u001b[90m(\u001b[39mmedian\u001b[90m):    \u001b[39m0.00%\n",
       " Time  \u001b[90m(\u001b[39m\u001b[32m\u001b[1mmean\u001b[22m\u001b[39m ± \u001b[32mσ\u001b[39m\u001b[90m):   \u001b[39m\u001b[32m\u001b[1m8.923 ms\u001b[22m\u001b[39m ± \u001b[32m172.683 μs\u001b[39m  \u001b[90m┊\u001b[39m GC \u001b[90m(\u001b[39mmean ± σ\u001b[90m):  \u001b[39m0.00% ± 0.00%\n",
       "\n",
       "  \u001b[39m \u001b[39m \u001b[39m \u001b[39m \u001b[39m \u001b[39m \u001b[39m \u001b[39m \u001b[39m \u001b[39m \u001b[39m \u001b[39m \u001b[39m▃\u001b[39m█\u001b[39m▃\u001b[39m \u001b[39m \u001b[39m \u001b[39m \u001b[39m \u001b[39m \u001b[34m \u001b[39m\u001b[39m \u001b[39m \u001b[39m \u001b[39m \u001b[32m \u001b[39m\u001b[39m \u001b[39m \u001b[39m \u001b[39m \u001b[39m \u001b[39m \u001b[39m \u001b[39m \u001b[39m \u001b[39m \u001b[39m \u001b[39m \u001b[39m \u001b[39m \u001b[39m \u001b[39m \u001b[39m \u001b[39m \u001b[39m \u001b[39m \u001b[39m \u001b[39m \u001b[39m \u001b[39m \u001b[39m \u001b[39m \u001b[39m \u001b[39m \u001b[39m \u001b[39m \u001b[39m \u001b[39m \u001b[39m \u001b[39m \n",
       "  \u001b[39m▂\u001b[39m▁\u001b[39m▁\u001b[39m▁\u001b[39m▁\u001b[39m▁\u001b[39m▁\u001b[39m▁\u001b[39m▁\u001b[39m▁\u001b[39m▁\u001b[39m▆\u001b[39m█\u001b[39m█\u001b[39m█\u001b[39m▇\u001b[39m▅\u001b[39m▄\u001b[39m▄\u001b[39m▆\u001b[39m▅\u001b[34m▅\u001b[39m\u001b[39m▄\u001b[39m▃\u001b[39m▅\u001b[39m▅\u001b[32m▃\u001b[39m\u001b[39m▃\u001b[39m▄\u001b[39m▃\u001b[39m▃\u001b[39m▄\u001b[39m▃\u001b[39m▄\u001b[39m▄\u001b[39m▄\u001b[39m▆\u001b[39m▅\u001b[39m▄\u001b[39m▄\u001b[39m▄\u001b[39m▄\u001b[39m▃\u001b[39m▄\u001b[39m▃\u001b[39m▃\u001b[39m▃\u001b[39m▃\u001b[39m▃\u001b[39m▃\u001b[39m▂\u001b[39m▂\u001b[39m▃\u001b[39m▃\u001b[39m▂\u001b[39m▂\u001b[39m▂\u001b[39m▂\u001b[39m▂\u001b[39m \u001b[39m▃\n",
       "  8.58 ms\u001b[90m         Histogram: frequency by time\u001b[39m        9.37 ms \u001b[0m\u001b[1m<\u001b[22m\n",
       "\n",
       " Memory estimate\u001b[90m: \u001b[39m\u001b[33m0 bytes\u001b[39m, allocs estimate\u001b[90m: \u001b[39m\u001b[33m0\u001b[39m."
      ]
     },
     "metadata": {},
     "output_type": "display_data"
    }
   ],
   "source": [
    "c_fastmath_bench = @benchmark $c_sum_fastmath($a)"
   ]
  },
  {
   "cell_type": "markdown",
   "metadata": {},
   "source": [
    "- Используем **`@benchmark`** для измерения производительности новой `c_sum_fastmath`.  \n",
    "  \n",
    "- `$a` → используем **$** для предотвращения оптимизаций компилятора Julia. \n",
    "  "
   ]
  },
  {
   "cell_type": "markdown",
   "metadata": {},
   "source": [
    "### **🔹 5. Сохраняем результаты**"
   ]
  },
  {
   "cell_type": "code",
   "execution_count": 90,
   "metadata": {},
   "outputs": [
    {
     "data": {
      "text/plain": [
       "8.5829"
      ]
     },
     "metadata": {},
     "output_type": "display_data"
    }
   ],
   "source": [
    "d[\"C -ffast-math\"] = minimum(c_fastmath_bench.times) / 1e6  # Переводим время в миллисекунды"
   ]
  },
  {
   "cell_type": "markdown",
   "metadata": {},
   "source": [
    "- **Сохраняем минимальное время выполнения** в **словарь `d`**, чтобы потом сравнивать с другими вариантами.  \n",
    "  \n",
    "- **`minimum(c_fastmath_bench.times) / 1e6`** → конвертируем время из наносекунд в миллисекунды.  \n",
    "  "
   ]
  },
  {
   "cell_type": "markdown",
   "metadata": {},
   "source": [
    "##### **📌 Теперь у нас есть: **\n",
    "\n",
    "- Обычная `c_sum(a)` **(C без `-ffast-math`)**.\n",
    "    \n",
    "- Оптимизированная `c_sum_fastmath(a)` **(C с `-ffast-math`)**.  \n",
    "\n",
    "Далее  в качестве домашнего задания можeте сами **сравнить, насколько `-ffast-math` реально ускоряет вычисления** и проверить, сохраняется ли точность! 🚀🔥"
   ]
  },
  {
   "cell_type": "code",
   "execution_count": null,
   "metadata": {},
   "outputs": [],
   "source": [
    "# сравнить, насколько `-ffast-math` реально ускоряет вычисления** и проверить, сохраняется ли точность\n",
    "\n"
   ]
  },
  {
   "cell_type": "markdown",
   "metadata": {},
   "source": [
    "\n",
    "---\n",
    "\n",
    "<br>\n",
    "\n",
    "#### **🔹 Python**\n",
    "\n",
    "\n",
    "#### **📌 Подключаем и тестируем `sum()` из Python в Julia с `PyCall`**  \n",
    "\n",
    "Теперь мы **используем Python в Julia** для тестирования скорости его встроенной функции `sum()`.  \n",
    "\n",
    "\n",
    "##### **🔹 1. Устанавливаем и подключаем пакет `PyCall.jl`**\n",
    "\n",
    "**PyCall.jl** — это пакет Julia, который позволяет вызывать Python-код прямо из Julia.\n",
    "\n",
    "Он позволяет нам:\n",
    "\n",
    "- использовать Python-библиотеки (например, NumPy, Pandas, TensorFlow) в Julia, \n",
    "  \n",
    "- запускать Python-код без необходимости выходить из Julia,\n",
    "  \n",
    "- совмещать производительность Julia с экосистемой Python."
   ]
  },
  {
   "cell_type": "markdown",
   "metadata": {},
   "source": [
    "На всякий случай удаляем старые версии и чистим кеш пакетов:"
   ]
  },
  {
   "cell_type": "code",
   "execution_count": 3,
   "metadata": {},
   "outputs": [
    {
     "name": "stderr",
     "output_type": "stream",
     "text": [
      "\u001b[32m\u001b[1m    Updating\u001b[22m\u001b[39m `C:\\Users\\Siergej Sobolewski\\Kursy Cartesian School\\Julia\\Introduction-to-Julia-main\\Introduction-to-Julia-main\\Project.toml`\n",
      "  \u001b[90m[438e738f] \u001b[39m\u001b[91m- PyCall v1.96.4\u001b[39m\n",
      "\u001b[32m\u001b[1m    Updating\u001b[22m\u001b[39m `C:\\Users\\Siergej Sobolewski\\Kursy Cartesian School\\Julia\\Introduction-to-Julia-main\\Introduction-to-Julia-main\\Manifest.toml`\n",
      "  \u001b[90m[8f4d0f93] \u001b[39m\u001b[91m- Conda v1.10.2\u001b[39m\n",
      "  \u001b[90m[438e738f] \u001b[39m\u001b[91m- PyCall v1.96.4\u001b[39m\n",
      "  \u001b[90m[81def892] \u001b[39m\u001b[91m- VersionParsing v1.3.0\u001b[39m\n"
     ]
    },
    {
     "ename": "Pkg.Types.PkgError",
     "evalue": "The following package names could not be resolved:\n * Conda (not found in project or manifest)\n\u001b[36m   Suggestions:\u001b[39m \u001b[0m\u001b[1mC\u001b[22m\u001b[0m\u001b[1mo\u001b[22mmpat",
     "output_type": "error",
     "traceback": [
      "The following package names could not be resolved:\n",
      " * Conda (not found in project or manifest)\n",
      "\u001b[36m   Suggestions:\u001b[39m \u001b[0m\u001b[1mC\u001b[22m\u001b[0m\u001b[1mo\u001b[22mmpat\n",
      "\n",
      "Stacktrace:\n",
      " [1] pkgerror(msg::String)\n",
      "   @ Pkg.Types C:\\Users\\Siergej Sobolewski\\AppData\\Local\\Programs\\Julia-1.11.3\\share\\julia\\stdlib\\v1.11\\Pkg\\src\\Types.jl:68\n",
      " [2] ensure_resolved(ctx::Pkg.Types.Context, manifest::Pkg.Types.Manifest, pkgs::Vector{Pkg.Types.PackageSpec}; registry::Bool)\n",
      "   @ Pkg.Types C:\\Users\\Siergej Sobolewski\\AppData\\Local\\Programs\\Julia-1.11.3\\share\\julia\\stdlib\\v1.11\\Pkg\\src\\Types.jl:1040\n",
      " [3] ensure_resolved\n",
      "   @ C:\\Users\\Siergej Sobolewski\\AppData\\Local\\Programs\\Julia-1.11.3\\share\\julia\\stdlib\\v1.11\\Pkg\\src\\Types.jl:991 [inlined]\n",
      " [4] rm(ctx::Pkg.Types.Context, pkgs::Vector{Pkg.Types.PackageSpec}; mode::Pkg.Types.PackageMode, all_pkgs::Bool, kwargs::@Kwargs{io::IOContext{IO}})\n",
      "   @ Pkg.API C:\\Users\\Siergej Sobolewski\\AppData\\Local\\Programs\\Julia-1.11.3\\share\\julia\\stdlib\\v1.11\\Pkg\\src\\API.jl:338\n",
      " [5] rm(pkgs::Vector{Pkg.Types.PackageSpec}; io::IOContext{IO}, kwargs::@Kwargs{})\n",
      "   @ Pkg.API C:\\Users\\Siergej Sobolewski\\AppData\\Local\\Programs\\Julia-1.11.3\\share\\julia\\stdlib\\v1.11\\Pkg\\src\\API.jl:159\n",
      " [6] rm(pkgs::Vector{Pkg.Types.PackageSpec})\n",
      "   @ Pkg.API C:\\Users\\Siergej Sobolewski\\AppData\\Local\\Programs\\Julia-1.11.3\\share\\julia\\stdlib\\v1.11\\Pkg\\src\\API.jl:148\n",
      " [7] rm\n",
      "   @ C:\\Users\\Siergej Sobolewski\\AppData\\Local\\Programs\\Julia-1.11.3\\share\\julia\\stdlib\\v1.11\\Pkg\\src\\API.jl:147 [inlined]\n",
      " [8] rm(pkg::String)\n",
      "   @ Pkg.API C:\\Users\\Siergej Sobolewski\\AppData\\Local\\Programs\\Julia-1.11.3\\share\\julia\\stdlib\\v1.11\\Pkg\\src\\API.jl:146\n",
      " [9] top-level scope\n",
      "   @ c:\\Users\\Siergej Sobolewski\\Kursy Cartesian School\\Julia\\Introduction-to-Julia-main\\Introduction-to-Julia-main\\jl_notebook_cell_df34fa98e69747e1a8f8a730347b8e2f_Y131sZmlsZQ==.jl:3"
     ]
    }
   ],
   "source": [
    "using Pkg\n",
    "Pkg.rm(\"PyCall\")  # Удаляем PyCall\n",
    "Pkg.rm(\"Conda\")   # Удаляем Conda (если есть)\n",
    "Pkg.gc()          # Чистим кеш пакетов"
   ]
  },
  {
   "cell_type": "markdown",
   "metadata": {},
   "source": [
    " Устанавливаем пакет PyCall:"
   ]
  },
  {
   "cell_type": "code",
   "execution_count": null,
   "metadata": {},
   "outputs": [
    {
     "name": "stderr",
     "output_type": "stream",
     "text": [
      "\u001b[32m\u001b[1m   Resolving\u001b[22m\u001b[39m package versions...\n",
      "\u001b[32m\u001b[1m    Updating\u001b[22m\u001b[39m `C:\\Users\\Siergej Sobolewski\\Kursy Cartesian School\\Julia\\Introduction-to-Julia-main\\Introduction-to-Julia-main\\Project.toml`\n",
      "  \u001b[90m[438e738f] \u001b[39m\u001b[92m+ PyCall v1.96.4\u001b[39m\n",
      "\u001b[32m\u001b[1m    Updating\u001b[22m\u001b[39m `C:\\Users\\Siergej Sobolewski\\Kursy Cartesian School\\Julia\\Introduction-to-Julia-main\\Introduction-to-Julia-main\\Manifest.toml`\n",
      "  \u001b[90m[8f4d0f93] \u001b[39m\u001b[92m+ Conda v1.10.2\u001b[39m\n",
      "  \u001b[90m[438e738f] \u001b[39m\u001b[92m+ PyCall v1.96.4\u001b[39m\n",
      "  \u001b[90m[81def892] \u001b[39m\u001b[92m+ VersionParsing v1.3.0\u001b[39m\n",
      "\u001b[92m\u001b[1mPrecompiling\u001b[22m\u001b[39m project...\n",
      "         \u001b[91m  ✗ \u001b[39mPyCall\n",
      "  0 dependencies successfully precompiled in 26 seconds. 198 already precompiled.\n",
      "\n",
      "The following 1 direct dependency failed to precompile:\n",
      "\n",
      "PyCall \n",
      "\n",
      "Failed to precompile PyCall [438e738f-606a-5dbb-bf0a-cddfbfd45ab0] to \"C:\\\\Users\\\\Siergej Sobolewski\\\\.julia\\\\compiled\\\\v1.11\\\\PyCall\\\\jl_1E9E.tmp\".\n",
      "\u001b[91m\u001b[1mERROR: \u001b[22m\u001b[39mLoadError: PyCall not properly installed. Please run Pkg.build(\"PyCall\")\n",
      "Stacktrace:\n",
      " [1] \u001b[0m\u001b[1merror\u001b[22m\u001b[0m\u001b[1m(\u001b[22m\u001b[90ms\u001b[39m::\u001b[0mString\u001b[0m\u001b[1m)\u001b[22m\n",
      "\u001b[90m   @\u001b[39m \u001b[90mBase\u001b[39m \u001b[90m.\\\u001b[39m\u001b[90m\u001b[4merror.jl:35\u001b[24m\u001b[39m\n",
      " [2] top-level scope\n",
      "\u001b[90m   @\u001b[39m \u001b[90mC:\\Users\\Siergej Sobolewski\\.julia\\packages\\PyCall\\1gn3u\\src\\\u001b[39m\u001b[90m\u001b[4mstartup.jl:44\u001b[24m\u001b[39m\n",
      " [3] \u001b[0m\u001b[1minclude\u001b[22m\u001b[0m\u001b[1m(\u001b[22m\u001b[90mmod\u001b[39m::\u001b[0mModule, \u001b[90m_path\u001b[39m::\u001b[0mString\u001b[0m\u001b[1m)\u001b[22m\n",
      "\u001b[90m   @\u001b[39m \u001b[90mBase\u001b[39m \u001b[90m.\\\u001b[39m\u001b[90m\u001b[4mBase.jl:557\u001b[24m\u001b[39m\n",
      " [4] \u001b[0m\u001b[1minclude\u001b[22m\u001b[0m\u001b[1m(\u001b[22m\u001b[90mx\u001b[39m::\u001b[0mString\u001b[0m\u001b[1m)\u001b[22m\n",
      "\u001b[90m   @\u001b[39m \u001b[35mPyCall\u001b[39m \u001b[90mC:\\Users\\Siergej Sobolewski\\.julia\\packages\\PyCall\\1gn3u\\src\\\u001b[39m\u001b[90m\u001b[4mPyCall.jl:1\u001b[24m\u001b[39m\n",
      " [5] top-level scope\n",
      "\u001b[90m   @\u001b[39m \u001b[90mC:\\Users\\Siergej Sobolewski\\.julia\\packages\\PyCall\\1gn3u\\src\\\u001b[39m\u001b[90m\u001b[4mPyCall.jl:38\u001b[24m\u001b[39m\n",
      " [6] \u001b[0m\u001b[1minclude\u001b[22m\n",
      "\u001b[90m   @\u001b[39m \u001b[90m.\\\u001b[39m\u001b[90m\u001b[4mBase.jl:557\u001b[24m\u001b[39m\u001b[90m [inlined]\u001b[39m\n",
      " [7] \u001b[0m\u001b[1minclude_package_for_output\u001b[22m\u001b[0m\u001b[1m(\u001b[22m\u001b[90mpkg\u001b[39m::\u001b[0mBase.PkgId, \u001b[90minput\u001b[39m::\u001b[0mString, \u001b[90mdepot_path\u001b[39m::\u001b[0mVector\u001b[90m{String}\u001b[39m, \u001b[90mdl_load_path\u001b[39m::\u001b[0mVector\u001b[90m{String}\u001b[39m, \u001b[90mload_path\u001b[39m::\u001b[0mVector\u001b[90m{String}\u001b[39m, \u001b[90mconcrete_deps\u001b[39m::\u001b[0mVector\u001b[90m{Pair{Base.PkgId, UInt128}}\u001b[39m, \u001b[90msource\u001b[39m::\u001b[0mNothing\u001b[0m\u001b[1m)\u001b[22m\n",
      "\u001b[90m   @\u001b[39m \u001b[90mBase\u001b[39m \u001b[90m.\\\u001b[39m\u001b[90m\u001b[4mloading.jl:2881\u001b[24m\u001b[39m\n",
      " [8] top-level scope\n",
      "\u001b[90m   @\u001b[39m \u001b[90m\u001b[4mstdin:6\u001b[24m\u001b[39m\n",
      "in expression starting at C:\\Users\\Siergej Sobolewski\\.julia\\packages\\PyCall\\1gn3u\\src\\startup.jl:41\n",
      "in expression starting at C:\\Users\\Siergej Sobolewski\\.julia\\packages\\PyCall\\1gn3u\\src\\PyCall.jl:1\n",
      "in expression starting at stdin:\u001b[91m\u001b[1mERROR: \u001b[22m\u001b[39mLoadError: PyCall not properly installed. Please run Pkg.build(\"PyCall\")\n",
      "Stacktrace:\n",
      " [1] \u001b[0m\u001b[1merror\u001b[22m\u001b[0m\u001b[1m(\u001b[22m\u001b[90ms\u001b[39m::\u001b[0mString\u001b[0m\u001b[1m)\u001b[22m\n",
      "\u001b[90m   @\u001b[39m \u001b[90mBase\u001b[39m \u001b[90m.\\\u001b[39m\u001b[90m\u001b[4merror.jl:35\u001b[24m\u001b[39m\n",
      " [2] top-level scope\n",
      "\u001b[90m   @\u001b[39m \u001b[90mC:\\Users\\Siergej Sobolewski\\.julia\\packages\\PyCall\\1gn3u\\src\\\u001b[39m\u001b[90m\u001b[4mstartup.jl:44\u001b[24m\u001b[39m\n",
      " [3] \u001b[0m\u001b[1minclude\u001b[22m\u001b[0m\u001b[1m(\u001b[22m\u001b[90mmod\u001b[39m::\u001b[0mModule, \u001b[90m_path\u001b[39m::\u001b[0mString\u001b[0m\u001b[1m)\u001b[22m\n",
      "\u001b[90m   @\u001b[39m \u001b[90mBase\u001b[39m \u001b[90m.\\\u001b[39m\u001b[90m\u001b[4mBase.jl:557\u001b[24m\u001b[39m\n",
      " [4] \u001b[0m\u001b[1minclude\u001b[22m\u001b[0m\u001b[1m(\u001b[22m\u001b[90mx\u001b[39m::\u001b[0mString\u001b[0m\u001b[1m)\u001b[22m\n",
      "\u001b[90m   @\u001b[39m \u001b[35mPyCall\u001b[39m \u001b[90mC:\\Users\\Siergej Sobolewski\\.julia\\packages\\PyCall\\1gn3u\\src\\\u001b[39m\u001b[90m\u001b[4mPyCall.jl:1\u001b[24m\u001b[39m\n",
      " [5] top-level scope\n",
      "\u001b[90m   @\u001b[39m \u001b[90mC:\\Users\\Siergej Sobolewski\\.julia\\packages\\PyCall\\1gn3u\\src\\\u001b[39m\u001b[90m\u001b[4mPyCall.jl:38\u001b[24m\u001b[39m\n",
      " [6] \u001b[0m\u001b[1minclude\u001b[22m\n",
      "\u001b[90m   @\u001b[39m \u001b[90m.\\\u001b[39m\u001b[90m\u001b[4mBase.jl:557\u001b[24m\u001b[39m\u001b[90m [inlined]\u001b[39m\n",
      " [7] \u001b[0m\u001b[1minclude_package_for_output\u001b[22m\u001b[0m\u001b[1m(\u001b[22m\u001b[90mpkg\u001b[39m::\u001b[0mBase.PkgId, \u001b[90minput\u001b[39m::\u001b[0mString, \u001b[90mdepot_path\u001b[39m::\u001b[0mVector\u001b[90m{String}\u001b[39m, \u001b[90mdl_load_path\u001b[39m::\u001b[0mVector\u001b[90m{String}\u001b[39m, \u001b[90mload_path\u001b[39m::\u001b[0mVector\u001b[90m{String}\u001b[39m, \u001b[90mconcrete_deps\u001b[39m::\u001b[0mVector\u001b[90m{Pair{Base.PkgId, UInt128}}\u001b[39m, \u001b[90msource\u001b[39m::\u001b[0mString\u001b[0m\u001b[1m)\u001b[22m\n",
      "\u001b[90m   @\u001b[39m \u001b[90mBase\u001b[39m \u001b[90m.\\\u001b[39m\u001b[90m\u001b[4mloading.jl:2881\u001b[24m\u001b[39m\n",
      " [8] top-level scope\n",
      "\u001b[90m   @\u001b[39m \u001b[90m\u001b[4mstdin:6\u001b[24m\u001b[39m\n",
      "in expression starting at C:\\Users\\Siergej Sobolewski\\.julia\\packages\\PyCall\\1gn3u\\src\\startup.jl:41\n",
      "in expression starting at C:\\Users\\Siergej Sobolewski\\.julia\\packages\\PyCall\\1gn3u\\src\\PyCall.jl:1\n",
      "in expression starting at stdin:6\n"
     ]
    },
    {
     "ename": "ErrorException",
     "evalue": "Failed to precompile PyCall [438e738f-606a-5dbb-bf0a-cddfbfd45ab0] to \"C:\\\\Users\\\\Siergej Sobolewski\\\\.julia\\\\compiled\\\\v1.11\\\\PyCall\\\\jl_2E50.tmp\".",
     "output_type": "error",
     "traceback": [
      "Failed to precompile PyCall [438e738f-606a-5dbb-bf0a-cddfbfd45ab0] to \"C:\\\\Users\\\\Siergej Sobolewski\\\\.julia\\\\compiled\\\\v1.11\\\\PyCall\\\\jl_2E50.tmp\".\n",
      "\n",
      "Stacktrace:\n",
      "  [1] error(s::String)\n",
      "    @ Base .\\error.jl:35\n",
      "  [2] compilecache(pkg::Base.PkgId, path::String, internal_stderr::IO, internal_stdout::IO, keep_loaded_modules::Bool; flags::Cmd, cacheflags::Base.CacheFlags, reasons::Dict{String, Int64}, loadable_exts::Nothing)\n",
      "    @ Base .\\loading.jl:3174\n",
      "  [3] (::Base.var\"#1110#1111\"{Base.PkgId})()\n",
      "    @ Base .\\loading.jl:2579\n",
      "  [4] mkpidlock(f::Base.var\"#1110#1111\"{Base.PkgId}, at::String, pid::Int32; kwopts::@Kwargs{stale_age::Int64, wait::Bool})\n",
      "    @ FileWatching.Pidfile C:\\Users\\Siergej Sobolewski\\AppData\\Local\\Programs\\Julia-1.11.3\\share\\julia\\stdlib\\v1.11\\FileWatching\\src\\pidfile.jl:95\n",
      "  [5] #mkpidlock#6\n",
      "    @ C:\\Users\\Siergej Sobolewski\\AppData\\Local\\Programs\\Julia-1.11.3\\share\\julia\\stdlib\\v1.11\\FileWatching\\src\\pidfile.jl:90 [inlined]\n",
      "  [6] trymkpidlock(::Function, ::Vararg{Any}; kwargs::@Kwargs{stale_age::Int64})\n",
      "    @ FileWatching.Pidfile C:\\Users\\Siergej Sobolewski\\AppData\\Local\\Programs\\Julia-1.11.3\\share\\julia\\stdlib\\v1.11\\FileWatching\\src\\pidfile.jl:116\n",
      "  [7] #invokelatest#2\n",
      "    @ .\\essentials.jl:1057 [inlined]\n",
      "  [8] invokelatest\n",
      "    @ .\\essentials.jl:1052 [inlined]\n",
      "  [9] maybe_cachefile_lock(f::Base.var\"#1110#1111\"{Base.PkgId}, pkg::Base.PkgId, srcpath::String; stale_age::Int64)\n",
      "    @ Base .\\loading.jl:3698\n",
      " [10] maybe_cachefile_lock\n",
      "    @ .\\loading.jl:3695 [inlined]\n",
      " [11] _require(pkg::Base.PkgId, env::String)\n",
      "    @ Base .\\loading.jl:2565\n",
      " [12] __require_prelocked(uuidkey::Base.PkgId, env::String)\n",
      "    @ Base .\\loading.jl:2388\n",
      " [13] #invoke_in_world#3\n",
      "    @ .\\essentials.jl:1089 [inlined]\n",
      " [14] invoke_in_world\n",
      "    @ .\\essentials.jl:1086 [inlined]\n",
      " [15] _require_prelocked(uuidkey::Base.PkgId, env::String)\n",
      "    @ Base .\\loading.jl:2375\n",
      " [16] macro expansion\n",
      "    @ .\\loading.jl:2314 [inlined]\n",
      " [17] macro expansion\n",
      "    @ .\\lock.jl:273 [inlined]\n",
      " [18] __require(into::Module, mod::Symbol)\n",
      "    @ Base .\\loading.jl:2271\n",
      " [19] #invoke_in_world#3\n",
      "    @ .\\essentials.jl:1089 [inlined]\n",
      " [20] invoke_in_world\n",
      "    @ .\\essentials.jl:1086 [inlined]\n",
      " [21] require(into::Module, mod::Symbol)\n",
      "    @ Base .\\loading.jl:2260\n",
      " [22] eval\n",
      "    @ .\\boot.jl:430 [inlined]\n",
      " [23] include_string(mapexpr::typeof(REPL.softscope), mod::Module, code::String, filename::String)\n",
      "    @ Base .\\loading.jl:2734\n",
      " [24] #invokelatest#2\n",
      "    @ .\\essentials.jl:1055 [inlined]\n",
      " [25] invokelatest\n",
      "    @ .\\essentials.jl:1052 [inlined]\n",
      " [26] (::VSCodeServer.var\"#217#218\"{VSCodeServer.NotebookRunCellArguments, String})()\n",
      "    @ VSCodeServer c:\\Users\\Siergej Sobolewski\\.vscode\\extensions\\julialang.language-julia-1.127.2\\scripts\\packages\\VSCodeServer\\src\\serve_notebook.jl:24\n",
      " [27] withpath(f::VSCodeServer.var\"#217#218\"{VSCodeServer.NotebookRunCellArguments, String}, path::String)\n",
      "    @ VSCodeServer c:\\Users\\Siergej Sobolewski\\.vscode\\extensions\\julialang.language-julia-1.127.2\\scripts\\packages\\VSCodeServer\\src\\repl.jl:276\n",
      " [28] notebook_runcell_request(conn::VSCodeServer.JSONRPC.JSONRPCEndpoint{Base.PipeEndpoint, Base.PipeEndpoint}, params::VSCodeServer.NotebookRunCellArguments)\n",
      "    @ VSCodeServer c:\\Users\\Siergej Sobolewski\\.vscode\\extensions\\julialang.language-julia-1.127.2\\scripts\\packages\\VSCodeServer\\src\\serve_notebook.jl:13\n",
      " [29] dispatch_msg(x::VSCodeServer.JSONRPC.JSONRPCEndpoint{Base.PipeEndpoint, Base.PipeEndpoint}, dispatcher::VSCodeServer.JSONRPC.MsgDispatcher, msg::Dict{String, Any})\n",
      "    @ VSCodeServer.JSONRPC c:\\Users\\Siergej Sobolewski\\.vscode\\extensions\\julialang.language-julia-1.127.2\\scripts\\packages\\JSONRPC\\src\\typed.jl:67\n",
      " [30] serve_notebook(pipename::String, debugger_pipename::String, outputchannel_logger::Base.CoreLogging.SimpleLogger; error_handler::var\"#5#10\"{String})\n",
      "    @ VSCodeServer c:\\Users\\Siergej Sobolewski\\.vscode\\extensions\\julialang.language-julia-1.127.2\\scripts\\packages\\VSCodeServer\\src\\serve_notebook.jl:147\n",
      " [31] top-level scope\n",
      "    @ c:\\Users\\Siergej Sobolewski\\.vscode\\extensions\\julialang.language-julia-1.127.2\\scripts\\notebook\\notebook.jl:35"
     ]
    }
   ],
   "source": [
    "using Pkg\n",
    "Pkg.add(\"PyCall\")  # Устанавливаем пакет PyCall\n",
    "using PyCall       # Подключаем PyCall для работы с Python"
   ]
  },
  {
   "cell_type": "markdown",
   "metadata": {},
   "source": [
    "- `PyCall.jl` позволяет **вызвать Python-код прямо из Julia**.\n",
    "  \n",
    "- Этот пакет **автоматически скачает и настроит Python**, если он ещё не установлен."
   ]
  },
  {
   "cell_type": "markdown",
   "metadata": {},
   "source": [
    "##### **🔹 2. Получаем встроенную функцию `sum()` из Python**"
   ]
  },
  {
   "cell_type": "code",
   "execution_count": 2,
   "metadata": {},
   "outputs": [
    {
     "ename": "UndefVarError",
     "evalue": "UndefVarError: `pybuiltin` not defined in `Main`\nSuggestion: check for spelling errors or missing imports.",
     "output_type": "error",
     "traceback": [
      "UndefVarError: `pybuiltin` not defined in `Main`\n",
      "Suggestion: check for spelling errors or missing imports.\n",
      "\n",
      "Stacktrace:\n",
      " [1] top-level scope\n",
      "   @ c:\\Users\\Siergej Sobolewski\\Kursy Cartesian School\\Julia\\Introduction-to-Julia-main\\Introduction-to-Julia-main\\jl_notebook_cell_df34fa98e69747e1a8f8a730347b8e2f_Y221sZmlsZQ==.jl:1"
     ]
    }
   ],
   "source": [
    "pysum = pybuiltin(\"sum\")  # Получаем встроенную функцию sum() из Python"
   ]
  },
  {
   "cell_type": "markdown",
   "metadata": {},
   "source": [
    "- `pybuiltin(\"sum\")` загружает **стандартную Python-функцию `sum()`** и делает её доступной в Julia.\n",
    "  \n",
    "- Теперь `pysum(a)` будет работать так же, как `sum(a)` в Python."
   ]
  },
  {
   "cell_type": "markdown",
   "metadata": {},
   "source": [
    "##### **🔹 3. Проверяем, правильно ли работает `pysum(a)`**\n",
    "\n",
    "Этот вызов **выполняет Python-код** и возвращает результат:"
   ]
  },
  {
   "cell_type": "code",
   "execution_count": 3,
   "metadata": {},
   "outputs": [
    {
     "ename": "UndefVarError",
     "evalue": "UndefVarError: `pysum` not defined in `Main`\nSuggestion: check for spelling errors or missing imports.",
     "output_type": "error",
     "traceback": [
      "UndefVarError: `pysum` not defined in `Main`\n",
      "Suggestion: check for spelling errors or missing imports.\n",
      "\n",
      "Stacktrace:\n",
      " [1] top-level scope\n",
      "   @ c:\\Users\\Siergej Sobolewski\\Kursy Cartesian School\\Julia\\Introduction-to-Julia-main\\Introduction-to-Julia-main\\jl_notebook_cell_df34fa98e69747e1a8f8a730347b8e2f_Y224sZmlsZQ==.jl:1"
     ]
    }
   ],
   "source": [
    "pysum(a)  # Вычисляем сумму с помощью Python"
   ]
  },
  {
   "cell_type": "markdown",
   "metadata": {},
   "source": [
    "##### **🔹 4. Зачем `pysum(a) ≈ sum(a)`?**"
   ]
  },
  {
   "cell_type": "code",
   "execution_count": null,
   "metadata": {},
   "outputs": [],
   "source": [
    "pysum(a) ≈ sum(a)  # Проверяем, одинаковый ли результат в Python и Julia"
   ]
  },
  {
   "cell_type": "markdown",
   "metadata": {},
   "source": [
    "- `≈` (isapprox) → **проверяет приближённое равенство** с учётом возможных погрешностей округления.\n",
    "  \n",
    "- В Python `sum(a)` может **использовать другой порядок сложения**, что может приводить к микроскопическим расхождениям.\n",
    "  \n",
    "- **Этот тест нужен, чтобы убедиться, что Python и Julia вычисляют сумму одинаково** (в пределах допустимой погрешности)."
   ]
  },
  {
   "cell_type": "markdown",
   "metadata": {},
   "source": [
    "##### **🔹 5. Бенчмаркинг `sum()` из Python**"
   ]
  },
  {
   "cell_type": "code",
   "execution_count": 4,
   "metadata": {},
   "outputs": [
    {
     "ename": "LoadError",
     "evalue": "LoadError: UndefVarError: `@benchmark` not defined in `Main`\nSuggestion: check for spelling errors or missing imports.\nin expression starting at c:\\Users\\Siergej Sobolewski\\Kursy Cartesian School\\Julia\\Introduction-to-Julia-main\\Introduction-to-Julia-main\\jl_notebook_cell_df34fa98e69747e1a8f8a730347b8e2f_Y232sZmlsZQ==.jl:1",
     "output_type": "error",
     "traceback": [
      "LoadError: UndefVarError: `@benchmark` not defined in `Main`\n",
      "Suggestion: check for spelling errors or missing imports.\n",
      "in expression starting at c:\\Users\\Siergej Sobolewski\\Kursy Cartesian School\\Julia\\Introduction-to-Julia-main\\Introduction-to-Julia-main\\jl_notebook_cell_df34fa98e69747e1a8f8a730347b8e2f_Y232sZmlsZQ==.jl:1\n"
     ]
    }
   ],
   "source": [
    "py_list_bench = @benchmark $pysum($a)"
   ]
  },
  {
   "cell_type": "markdown",
   "metadata": {},
   "source": [
    "- **Запускаем бенчмарк** встроенной Python-функции `sum(a)`.\n",
    "- `$a` передаёт массив без оптимизаций компилятора Julia."
   ]
  },
  {
   "cell_type": "markdown",
   "metadata": {},
   "source": [
    "##### **🔹 6. Сохраняем результаты**"
   ]
  },
  {
   "cell_type": "code",
   "execution_count": 6,
   "metadata": {},
   "outputs": [
    {
     "ename": "UndefVarError",
     "evalue": "UndefVarError: `py_list_bench` not defined in `Main`\nSuggestion: check for spelling errors or missing imports.",
     "output_type": "error",
     "traceback": [
      "UndefVarError: `py_list_bench` not defined in `Main`\n",
      "Suggestion: check for spelling errors or missing imports.\n",
      "\n",
      "Stacktrace:\n",
      " [1] top-level scope\n",
      "   @ c:\\Users\\Siergej Sobolewski\\Kursy Cartesian School\\Julia\\Introduction-to-Julia-main\\Introduction-to-Julia-main\\jl_notebook_cell_df34fa98e69747e1a8f8a730347b8e2f_Y235sZmlsZQ==.jl:1"
     ]
    }
   ],
   "source": [
    "d[\"Python built-in\"] = minimum(py_list_bench.times) / 1e6  # Время в миллисекундах"
   ]
  },
  {
   "cell_type": "markdown",
   "metadata": {},
   "source": [
    "- `minimum(py_list_bench.times)` → находим **самое быстрое время выполнения**.\n",
    "  \n",
    "- `/ 1e6` → переводим из **наносекунд в миллисекунды**.\n",
    "  \n",
    "- **Сохраняем результат в словарь `d`** для дальнейшего сравнения."
   ]
  },
  {
   "cell_type": "markdown",
   "metadata": {},
   "source": [
    "\n",
    "##### **🔹 7. Выводим результаты**"
   ]
  },
  {
   "cell_type": "code",
   "execution_count": 5,
   "metadata": {},
   "outputs": [
    {
     "ename": "UndefVarError",
     "evalue": "UndefVarError: `d` not defined in `Main`\nSuggestion: check for spelling errors or missing imports.",
     "output_type": "error",
     "traceback": [
      "UndefVarError: `d` not defined in `Main`\n",
      "Suggestion: check for spelling errors or missing imports.\n"
     ]
    }
   ],
   "source": [
    "d"
   ]
  },
  {
   "cell_type": "markdown",
   "metadata": {},
   "source": [
    "- Покажет **все замеренные времена выполнения** разных реализаций `sum()` (C, Julia, Python и т. д.)."
   ]
  },
  {
   "cell_type": "markdown",
   "metadata": {},
   "source": [
    "##### **📌 Теперь мы:**\n",
    "\n",
    "✅ Подключили Python и встроенную функцию `sum()`. \n",
    "\n",
    "✅ Проверили, даёт ли Python **тот же результат, что и Julia**.  \n",
    "\n",
    "✅ Замерили **скорость выполнения `sum()` в Python**.\n",
    "\n",
    "✅ Добавили результаты в общий список для сравнения.  \n",
    "\n",
    "**📊 В следующем шаге можно сравнить Python с пакетом NumPy и Julia, чтобы увидеть, насколько он медленнее или быстрее!** 🚀"
   ]
  },
  {
   "cell_type": "markdown",
   "metadata": {},
   "source": [
    "<br>\n",
    "\n",
    "---\n",
    "\n",
    "<br>\n",
    "\n",
    "\n",
    "#### **📌 Подключаем `NumPy` в Julia и тестируем его производительность**  \n",
    "\n",
    "Теперь мы подключим **библиотеку `NumPy`** в Julia с помощью **`PyCall.jl`** и проверим, насколько быстро она выполняет суммирование массива.  \n"
   ]
  },
  {
   "cell_type": "markdown",
   "metadata": {},
   "source": [
    "#### **🔹 1. Устанавливаем `NumPy` в Julia через `Conda`**\n",
    "\n",
    "Если у вас нет `Conda.jl`, установите его:  "
   ]
  },
  {
   "cell_type": "code",
   "execution_count": 12,
   "metadata": {},
   "outputs": [
    {
     "name": "stderr",
     "output_type": "stream",
     "text": [
      "\u001b[32m\u001b[1m   Resolving\u001b[22m\u001b[39m package versions...\n",
      "\u001b[32m\u001b[1m  No Changes\u001b[22m\u001b[39m to `C:\\Users\\Siergej Sobolewski\\Kursy Cartesian School\\Julia\\Introduction-to-Julia-main\\Introduction-to-Julia-main\\Project.toml`\n",
      "\u001b[32m\u001b[1m  No Changes\u001b[22m\u001b[39m to `C:\\Users\\Siergej Sobolewski\\Kursy Cartesian School\\Julia\\Introduction-to-Julia-main\\Introduction-to-Julia-main\\Manifest.toml`\n",
      "\u001b[92m\u001b[1mPrecompiling\u001b[22m\u001b[39m project...\n",
      "         \u001b[91m  ✗ \u001b[39mPyCall\n",
      "  0 dependencies successfully precompiled in 4 seconds. 198 already precompiled.\n",
      "\n",
      "The following 1 direct dependency failed to precompile:\n",
      "\n",
      "PyCall \n",
      "\n",
      "Failed to precompile PyCall [438e738f-606a-5dbb-bf0a-cddfbfd45ab0] to \"C:\\\\Users\\\\Siergej Sobolewski\\\\.julia\\\\compiled\\\\v1.11\\\\PyCall\\\\jl_7768.tmp\".\n",
      "\u001b[91m\u001b[1mERROR: \u001b[22m\u001b[39mLoadError: PyCall not properly installed. Please run Pkg.build(\"PyCall\")\n",
      "Stacktrace:\n",
      " [1] \u001b[0m\u001b[1merror\u001b[22m\u001b[0m\u001b[1m(\u001b[22m\u001b[90ms\u001b[39m::\u001b[0mString\u001b[0m\u001b[1m)\u001b[22m\n",
      "\u001b[90m   @\u001b[39m \u001b[90mBase\u001b[39m \u001b[90m.\\\u001b[39m\u001b[90m\u001b[4merror.jl:35\u001b[24m\u001b[39m\n",
      " [2] top-level scope\n",
      "\u001b[90m   @\u001b[39m \u001b[90mC:\\Users\\Siergej Sobolewski\\.julia\\packages\\PyCall\\1gn3u\\src\\\u001b[39m\u001b[90m\u001b[4mstartup.jl:44\u001b[24m\u001b[39m\n",
      " [3] \u001b[0m\u001b[1minclude\u001b[22m\u001b[0m\u001b[1m(\u001b[22m\u001b[90mmod\u001b[39m::\u001b[0mModule, \u001b[90m_path\u001b[39m::\u001b[0mString\u001b[0m\u001b[1m)\u001b[22m\n",
      "\u001b[90m   @\u001b[39m \u001b[90mBase\u001b[39m \u001b[90m.\\\u001b[39m\u001b[90m\u001b[4mBase.jl:557\u001b[24m\u001b[39m\n",
      " [4] \u001b[0m\u001b[1minclude\u001b[22m\u001b[0m\u001b[1m(\u001b[22m\u001b[90mx\u001b[39m::\u001b[0mString\u001b[0m\u001b[1m)\u001b[22m\n",
      "\u001b[90m   @\u001b[39m \u001b[35mPyCall\u001b[39m \u001b[90mC:\\Users\\Siergej Sobolewski\\.julia\\packages\\PyCall\\1gn3u\\src\\\u001b[39m\u001b[90m\u001b[4mPyCall.jl:1\u001b[24m\u001b[39m\n",
      " [5] top-level scope\n",
      "\u001b[90m   @\u001b[39m \u001b[90mC:\\Users\\Siergej Sobolewski\\.julia\\packages\\PyCall\\1gn3u\\src\\\u001b[39m\u001b[90m\u001b[4mPyCall.jl:38\u001b[24m\u001b[39m\n",
      " [6] \u001b[0m\u001b[1minclude\u001b[22m\n",
      "\u001b[90m   @\u001b[39m \u001b[90m.\\\u001b[39m\u001b[90m\u001b[4mBase.jl:557\u001b[24m\u001b[39m\u001b[90m [inlined]\u001b[39m\n",
      " [7] \u001b[0m\u001b[1minclude_package_for_output\u001b[22m\u001b[0m\u001b[1m(\u001b[22m\u001b[90mpkg\u001b[39m::\u001b[0mBase.PkgId, \u001b[90minput\u001b[39m::\u001b[0mString, \u001b[90mdepot_path\u001b[39m::\u001b[0mVector\u001b[90m{String}\u001b[39m, \u001b[90mdl_load_path\u001b[39m::\u001b[0mVector\u001b[90m{String}\u001b[39m, \u001b[90mload_path\u001b[39m::\u001b[0mVector\u001b[90m{String}\u001b[39m, \u001b[90mconcrete_deps\u001b[39m::\u001b[0mVector\u001b[90m{Pair{Base.PkgId, UInt128}}\u001b[39m, \u001b[90msource\u001b[39m::\u001b[0mNothing\u001b[0m\u001b[1m)\u001b[22m\n",
      "\u001b[90m   @\u001b[39m \u001b[90mBase\u001b[39m \u001b[90m.\\\u001b[39m\u001b[90m\u001b[4mloading.jl:2881\u001b[24m\u001b[39m\n",
      " [8] top-level scope\n",
      "\u001b[90m   @\u001b[39m \u001b[90m\u001b[4mstdin:6\u001b[24m\u001b[39m\n",
      "in expression starting at C:\\Users\\Siergej Sobolewski\\.julia\\packages\\PyCall\\1gn3u\\src\\startup.jl:41\n",
      "in expression starting at C:\\Users\\Siergej Sobolewski\\.julia\\packages\\PyCall\\1gn3u\\src\\PyCall.jl:1\n",
      "in expression starting at stdin:"
     ]
    }
   ],
   "source": [
    "using Pkg\n",
    "Pkg.add(\"Conda\")  # Устанавливаем пакет Conda"
   ]
  },
  {
   "cell_type": "markdown",
   "metadata": {},
   "source": [
    "**📌 Затем подключаем Conda и устанавливаем `NumPy`**: \n",
    "\n",
    "Если `NumPy` уже установлен в вашем системном Python, этот шаг можно пропустить."
   ]
  },
  {
   "cell_type": "code",
   "execution_count": 13,
   "metadata": {},
   "outputs": [
    {
     "ename": "ErrorException",
     "evalue": "Conda.jl cannot be installed to its default location C:\\Users\\Siergej Sobolewski\\.julia\\conda\\3\\x86_64\nas Miniconda does not support the installation to a directory with a space or a\nnon-ASCII character on Windows. The work-around is to install Miniconda to a\nuser-writable directory by setting the CONDA_JL_HOME environment variable. For\nexample on Windows:\n\nENV[\"CONDA_JL_HOME\"] = raw\"C:\\Conda-Julia\\3\"\nusing Pkg\nPkg.build(\"Conda\")\n\nThe Julia session need to be restarted. More information is available at\nhttps://github.com/JuliaPy/Conda.jl.\n",
     "output_type": "error",
     "traceback": [
      "Conda.jl cannot be installed to its default location C:\\Users\\Siergej Sobolewski\\.julia\\conda\\3\\x86_64\n",
      "as Miniconda does not support the installation to a directory with a space or a\n",
      "non-ASCII character on Windows. The work-around is to install Miniconda to a\n",
      "user-writable directory by setting the CONDA_JL_HOME environment variable. For\n",
      "example on Windows:\n",
      "\n",
      "ENV[\"CONDA_JL_HOME\"] = raw\"C:\\Conda-Julia\\3\"\n",
      "using Pkg\n",
      "Pkg.build(\"Conda\")\n",
      "\n",
      "The Julia session need to be restarted. More information is available at\n",
      "https://github.com/JuliaPy/Conda.jl.\n",
      "\n",
      "\n",
      "Stacktrace:\n",
      " [1] error(s::String)\n",
      "   @ Base .\\error.jl:35\n",
      " [2] _install_conda(env::String, force::Bool)\n",
      "   @ Conda C:\\Users\\Siergej Sobolewski\\.julia\\packages\\Conda\\zReqD\\src\\Conda.jl:274\n",
      " [3] _install_conda(env::String)\n",
      "   @ Conda C:\\Users\\Siergej Sobolewski\\.julia\\packages\\Conda\\zReqD\\src\\Conda.jl:270\n",
      " [4] runconda(args::Cmd, env::String)\n",
      "   @ Conda C:\\Users\\Siergej Sobolewski\\.julia\\packages\\Conda\\zReqD\\src\\Conda.jl:180\n",
      " [5] add(pkg::String, env::String; channel::String, satisfied_skip_solve::Bool, args::Cmd)\n",
      "   @ Conda C:\\Users\\Siergej Sobolewski\\.julia\\packages\\Conda\\zReqD\\src\\Conda.jl:343\n",
      " [6] add\n",
      "   @ C:\\Users\\Siergej Sobolewski\\.julia\\packages\\Conda\\zReqD\\src\\Conda.jl:326 [inlined]\n",
      " [7] add(pkg::String)\n",
      "   @ Conda C:\\Users\\Siergej Sobolewski\\.julia\\packages\\Conda\\zReqD\\src\\Conda.jl:326\n",
      " [8] top-level scope\n",
      "   @ c:\\Users\\Siergej Sobolewski\\Kursy Cartesian School\\Julia\\Introduction-to-Julia-main\\Introduction-to-Julia-main\\jl_notebook_cell_df34fa98e69747e1a8f8a730347b8e2f_Y252sZmlsZQ==.jl:2"
     ]
    }
   ],
   "source": [
    "using Conda\n",
    "Conda.add(\"numpy\")  # Устанавливаем NumPy через Conda"
   ]
  },
  {
   "cell_type": "markdown",
   "metadata": {},
   "source": [
    "#### **🔹 2. Подключаем `NumPy` через `PyCall`**"
   ]
  },
  {
   "cell_type": "code",
   "execution_count": 14,
   "metadata": {},
   "outputs": [
    {
     "ename": "UndefVarError",
     "evalue": "UndefVarError: `pyimport` not defined in `Main`\nSuggestion: check for spelling errors or missing imports.",
     "output_type": "error",
     "traceback": [
      "UndefVarError: `pyimport` not defined in `Main`\n",
      "Suggestion: check for spelling errors or missing imports.\n",
      "\n",
      "Stacktrace:\n",
      " [1] top-level scope\n",
      "   @ c:\\Users\\Siergej Sobolewski\\Kursy Cartesian School\\Julia\\Introduction-to-Julia-main\\Introduction-to-Julia-main\\jl_notebook_cell_df34fa98e69747e1a8f8a730347b8e2f_Y254sZmlsZQ==.jl:1"
     ]
    }
   ],
   "source": [
    "numpy_sum = pyimport(\"numpy\")[\"sum\"]  # Получаем функцию sum() из NumPy"
   ]
  },
  {
   "cell_type": "markdown",
   "metadata": {},
   "source": [
    "- `pyimport(\"numpy\")` — загружаем **библиотеку `NumPy`** через `PyCall`.  \n",
    "  \n",
    "- `[\"sum\"]` — получаем **функцию `sum()` из `NumPy`**, которая умеет работать с векторизацией и SIMD."
   ]
  },
  {
   "cell_type": "markdown",
   "metadata": {},
   "source": [
    "#### **🔹 3. Проверяем корректность вычислений**\n",
    "\n",
    "Теперь можно вызывать `numpy_sum(a)`, аналогично `numpy.sum(a)` в Python."
   ]
  },
  {
   "cell_type": "code",
   "execution_count": null,
   "metadata": {},
   "outputs": [],
   "source": [
    "numpy_sum(a)  \n",
    "numpy_sum(a) ≈ sum(a)  # Проверяем, совпадают ли результаты Julia и NumPy"
   ]
  },
  {
   "cell_type": "markdown",
   "metadata": {},
   "source": [
    "- `≈` (isapprox) проверяет **приближённое равенство**, потому что `NumPy` и Julia могут складывать элементы **в разном порядке**, вызывая небольшие ошибки округления.\n"
   ]
  },
  {
   "cell_type": "markdown",
   "metadata": {},
   "source": [
    "\n",
    "#### **🔹 4. Бенчмаркинг `numpy.sum(a)`**\n",
    "\n",
    "Теперь **измеряем скорость работы `numpy.sum(a)`**:"
   ]
  },
  {
   "cell_type": "code",
   "execution_count": null,
   "metadata": {},
   "outputs": [],
   "source": [
    "using BenchmarkTools\n",
    "py_numpy_bench = @benchmark $numpy_sum($a)"
   ]
  },
  {
   "cell_type": "markdown",
   "metadata": {},
   "source": [
    "- **`@benchmark`** запускает функцию **много раз** и измеряет точное время выполнения.  \n",
    "  \n",
    "- **`$a`** передаёт массив внутрь `@benchmark`, чтобы избежать компиляторских оптимизаций."
   ]
  },
  {
   "cell_type": "markdown",
   "metadata": {},
   "source": [
    "#### **🔹 5. Сохраняем результаты**"
   ]
  },
  {
   "cell_type": "code",
   "execution_count": null,
   "metadata": {},
   "outputs": [],
   "source": [
    "d[\"Python numpy\"] = minimum(py_numpy_bench.times) / 1e6  # Время в миллисекундах\n",
    "d"
   ]
  },
  {
   "cell_type": "markdown",
   "metadata": {},
   "source": [
    "- **Берём минимальное время выполнения** (в наносекундах) и **переводим его в миллисекунды** (`/ 1e6`). \n",
    "   \n",
    "- **Добавляем результат в словарь `d`** для дальнейшего сравнения с C, Julia и обычным `sum(a)` в Python."
   ]
  },
  {
   "cell_type": "markdown",
   "metadata": {},
   "source": [
    "#### **📊 Теперь у нас есть:**\n",
    "\n",
    "- Бенчмарки для **`sum()` в C, Julia и Python**.  \n",
    "  \n",
    "- Замер **скорости `numpy.sum(a)`** (он использует SIMD, но только когда может).  \n",
    "  \n",
    "- Сравнение результатов **по времени выполнения**.\n",
    "\n",
    "<br>\n",
    "\n",
    "---\n"
   ]
  },
  {
   "cell_type": "markdown",
   "metadata": {},
   "source": [
    "<br>\n",
    "\n",
    "#### **📌 Реализация ручного суммирования в Python из Julia**  \n",
    "\n",
    "В этой части урока мы **напишем собственную функцию `sum()` в Python** внутри Julia и сравним её производительность с другими методами.\n",
    "\n",
    "<br>\n",
    "\n",
    "#### **🔹 1. Определяем Python-функцию `py_sum` в Julia**"
   ]
  },
  {
   "cell_type": "code",
   "execution_count": 15,
   "metadata": {},
   "outputs": [
    {
     "ename": "LoadError",
     "evalue": "LoadError: UndefVarError: `@py_str` not defined in `Main`\nSuggestion: check for spelling errors or missing imports.\nin expression starting at c:\\Users\\Siergej Sobolewski\\Kursy Cartesian School\\Julia\\Introduction-to-Julia-main\\Introduction-to-Julia-main\\jl_notebook_cell_df34fa98e69747e1a8f8a730347b8e2f_Y305sZmlsZQ==.jl:1",
     "output_type": "error",
     "traceback": [
      "LoadError: UndefVarError: `@py_str` not defined in `Main`\n",
      "Suggestion: check for spelling errors or missing imports.\n",
      "in expression starting at c:\\Users\\Siergej Sobolewski\\Kursy Cartesian School\\Julia\\Introduction-to-Julia-main\\Introduction-to-Julia-main\\jl_notebook_cell_df34fa98e69747e1a8f8a730347b8e2f_Y305sZmlsZQ==.jl:1\n"
     ]
    }
   ],
   "source": [
    "py\"\"\"\n",
    "def py_sum(A):\n",
    "    s = 0.0\n",
    "    for a in A:\n",
    "        s += a\n",
    "    return s\n",
    "\"\"\""
   ]
  },
  {
   "cell_type": "markdown",
   "metadata": {},
   "source": [
    "- **`py\"\"\" ... \"\"\"`** — это **многострочный код на Python**, который Julia выполняет через `PyCall`.  \n",
    "  \n",
    "- Определяем **функцию `py_sum(A)`**, которая:\n",
    "  \n",
    "  1. Инициализирует `s = 0.0`\n",
    "   \n",
    "  2. Проходит по всем элементам массива `A`\n",
    "   \n",
    "  3. Складывает элементы в `s`\n",
    "   \n",
    "  4. Возвращает сумму  \n",
    "   \n",
    "\n",
    "Теперь эта функция **доступна в Python и может быть вызвана из Julia**."
   ]
  },
  {
   "cell_type": "markdown",
   "metadata": {},
   "source": [
    "#### **🔹 2. Делаем вызов Python-функции из Julia**"
   ]
  },
  {
   "cell_type": "code",
   "execution_count": null,
   "metadata": {},
   "outputs": [],
   "source": [
    "sum_py = py\"py_sum\""
   ]
  },
  {
   "cell_type": "markdown",
   "metadata": {},
   "source": [
    "- **`py\"py_sum\"`** загружает определённую нами Python-функцию `py_sum` и сохраняет её в Julia-переменной `sum_py`. \n",
    "   \n",
    "- Теперь `sum_py(a)` работает так же, как `py_sum(a)` в Python."
   ]
  },
  {
   "cell_type": "markdown",
   "metadata": {},
   "source": [
    "#### **🔹 3. Проверяем корректность вычислений**"
   ]
  },
  {
   "cell_type": "code",
   "execution_count": null,
   "metadata": {},
   "outputs": [],
   "source": [
    "sum_py(a)  \n",
    "sum_py(a) ≈ sum(a)  # Проверяем, даёт ли Python-функция тот же результат, что и встроенная Julia sum()"
   ]
  },
  {
   "cell_type": "markdown",
   "metadata": {},
   "source": [
    "- **`≈` (isapprox)** проверяет приближённое равенство, так как **разный порядок сложения может вызвать небольшие ошибки округления**."
   ]
  },
  {
   "cell_type": "markdown",
   "metadata": {},
   "source": [
    "#### **🔹 4. Бенчмаркинг ручного `sum_py(a)`**"
   ]
  },
  {
   "cell_type": "code",
   "execution_count": null,
   "metadata": {},
   "outputs": [],
   "source": [
    "using BenchmarkTools\n",
    "py_hand = @benchmark $sum_py($a)"
   ]
  },
  {
   "cell_type": "markdown",
   "metadata": {},
   "source": [
    "- **`@benchmark`** многократно вызывает `sum_py(a)` и измеряет время выполнения.  \n",
    "  \n",
    "- **`$a`** → передаёт массив в `@benchmark` без компиляторских оптимизаций.\n"
   ]
  },
  {
   "cell_type": "markdown",
   "metadata": {},
   "source": [
    "#### **🔹 5. Сохраняем результаты**"
   ]
  },
  {
   "cell_type": "code",
   "execution_count": null,
   "metadata": {},
   "outputs": [],
   "source": [
    "d[\"Python hand-written\"] = minimum(py_hand.times) / 1e6  # Время в миллисекундах\n",
    "d"
   ]
  },
  {
   "cell_type": "markdown",
   "metadata": {},
   "source": [
    "- **Берём минимальное время выполнения** (в наносекундах) и **переводим в миллисекунды** (`/ 1e6`). \n",
    "   \n",
    "- **Добавляем в `d`** для дальнейшего сравнения с C, Julia и `numpy.sum(a)`.  "
   ]
  },
  {
   "cell_type": "markdown",
   "metadata": {},
   "source": [
    "##### **📊 Теперь у нас имеется:**\n",
    "\n",
    "✅ Собственная Python-функция `sum_py(a)`, написанная вручную\n",
    "\n",
    "✅ Сравнение точности вычислений с `sum(a)` в Julia\n",
    "\n",
    "✅ Измерение скорости выполнения Python-версии\n",
    "\n",
    "✅ Добавление результатов в таблицу для финального сравнения\n",
    "\n",
    "<br>\n",
    "\n",
    "---\n",
    "\n",
    "<br>\n"
   ]
  },
  {
   "cell_type": "markdown",
   "metadata": {},
   "source": [
    "#### **📌 Тестируем встроенную функцию `sum()` в Julia (Built-In)**  \n",
    "\n",
    "В этом разделе **измеряем производительность встроенной функции `sum()` в Julia** и сравниваем её с реализациями на C и Python.\n",
    "\n",
    "<br>\n",
    "\n",
    "#### **🔹 1. Проверяем, где определена `sum(a)`**"
   ]
  },
  {
   "cell_type": "code",
   "execution_count": null,
   "metadata": {},
   "outputs": [],
   "source": [
    "@which sum(a) # Посмотрим, какая именно функция sum() используется"
   ]
  },
  {
   "cell_type": "markdown",
   "metadata": {},
   "source": [
    "- **`@which sum(a)`** показывает, **где определена функция `sum()`** и какая реализация используется.\n",
    "  \n",
    "- Мы увидим, что **она написана в чистой Julia, а не в C**, но **оптимизирована с помощью векторизации и многопоточности**."
   ]
  },
  {
   "cell_type": "markdown",
   "metadata": {},
   "source": [
    "#### **🔹 2. Бенчмаркинг встроенной `sum(a)`**"
   ]
  },
  {
   "cell_type": "code",
   "execution_count": null,
   "metadata": {},
   "outputs": [],
   "source": [
    "using BenchmarkTools\n",
    "j_bench = @benchmark sum($a)"
   ]
  },
  {
   "cell_type": "markdown",
   "metadata": {},
   "source": [
    "- **Запускаем `@benchmark`** для точного измерения скорости `sum(a)`.\n",
    "  \n",
    "- **`$a`** передаёт массив так, чтобы компилятор не мог его заранее оптимизировать."
   ]
  },
  {
   "cell_type": "markdown",
   "metadata": {},
   "source": [
    "\n",
    "#### **🔹 3. Сохраняем результаты**"
   ]
  },
  {
   "cell_type": "code",
   "execution_count": null,
   "metadata": {},
   "outputs": [],
   "source": [
    "d[\"Julia built-in\"] = minimum(j_bench.times) / 1e6  # Время в миллисекундах\n",
    "d"
   ]
  },
  {
   "cell_type": "markdown",
   "metadata": {},
   "source": [
    "- **Берём минимальное время выполнения** (`minimum(j_bench.times)`) и **переводим в миллисекунды** (`/ 1e6`). \n",
    "   \n",
    "- **Добавляем результат в `d`** для дальнейшего сравнения с C, Python и `numpy.sum(a)`.  "
   ]
  },
  {
   "cell_type": "markdown",
   "metadata": {},
   "source": [
    "##### **📊 В результате имеем:**\n",
    " \n",
    "✅ Бенчмарк встроенной `sum(a)` в Julia  \n",
    "\n",
    "✅ Сравнение с ручными реализациями в C и Python\n",
    "\n",
    "✅ Точные измерения скорости выполнения \n",
    "\n",
    "<br>\n",
    "\n",
    "---\n",
    "\n",
    "<br>"
   ]
  },
  {
   "cell_type": "markdown",
   "metadata": {},
   "source": [
    "### **📌 Реализация и тестирование `sum()` вручную в Julia**  \n",
    "\n",
    "В этом разделе мы **напишем собственную реализацию `sum()` в Julia** и сравним её скорость с встроенной функцией.\n",
    "\n",
    "\n",
    "\n",
    "#### **🔹 1. Определяем свою функцию `mysum()`**\n",
    "\n",
    "**Эта реализация аналогична C-версии и Python-версии (`py_sum`)**, но написана на Julia."
   ]
  },
  {
   "cell_type": "code",
   "execution_count": null,
   "metadata": {},
   "outputs": [],
   "source": [
    "function mysum(A)\n",
    "    s = 0.0  # Можно использовать s = zero(eltype(A)) для универсальности\n",
    "    for a in A\n",
    "        s += a\n",
    "    end\n",
    "    s\n",
    "end"
   ]
  },
  {
   "cell_type": "markdown",
   "metadata": {},
   "source": [
    "- `s = 0.0` → инициализируем сумму (`zero(eltype(A))` делает код более универсальным).  \n",
    "  \n",
    "- `for a in A` → проходим по всем элементам массива `A`.  \n",
    "  \n",
    "- `s += a` → суммируем элементы.  \n",
    "  \n",
    "- `return s` (необязательно писать явно в Julia). \n",
    "  "
   ]
  },
  {
   "cell_type": "markdown",
   "metadata": {},
   "source": [
    "#### **🔹 2. Бенчмаркинг `mysum(a)`**"
   ]
  },
  {
   "cell_type": "code",
   "execution_count": null,
   "metadata": {},
   "outputs": [],
   "source": [
    "using BenchmarkTools\n",
    "j_bench_hand = @benchmark mysum($a)"
   ]
  },
  {
   "cell_type": "markdown",
   "metadata": {},
   "source": [
    "- **Измеряем скорость выполнения `mysum(a)`**.\n",
    "  \n",
    "- **`$a`** → предотвращает компиляторские оптимизации в `@benchmark`.\n",
    "  "
   ]
  },
  {
   "cell_type": "markdown",
   "metadata": {},
   "source": [
    "#### **🔹 3. Сохраняем результаты**"
   ]
  },
  {
   "cell_type": "code",
   "execution_count": null,
   "metadata": {},
   "outputs": [],
   "source": [
    "d[\"Julia hand-written\"] = minimum(j_bench_hand.times) / 1e6  # Время в миллисекундах\n",
    "d"
   ]
  },
  {
   "cell_type": "markdown",
   "metadata": {},
   "source": [
    "- **Берём минимальное время выполнения** (`minimum(j_bench_hand.times)`) и **переводим в миллисекунды** (`/ 1e6`).  \n",
    "  \n",
    "- **Добавляем результат в `d`** для финального сравнения с C, Python и встроенной `sum(a)`.  "
   ]
  },
  {
   "cell_type": "markdown",
   "metadata": {},
   "source": [
    "##### **📊 Итог**\n",
    " \n",
    "✅ Ручная реализация `sum()` в Julia \n",
    "\n",
    "✅ Тестирование её скорости с `BenchmarkTools.jl`\n",
    "\n",
    "✅ Добавление результатов в таблицу для сравнения с C и Python\n",
    "\n",
    "<br>\n",
    "\n",
    "---\n",
    "\n",
    "<br>"
   ]
  },
  {
   "cell_type": "markdown",
   "metadata": {},
   "source": [
    "#### **📌 Оптимизированная версия `sum()` в Julia с SIMD**  \n",
    "\n",
    "В этом разделе мы **ускорим ручную реализацию `sum()`** с помощью **SIMD-векторизации** (Single Instruction, Multiple Data) и сравним её с другими методами.\n",
    "\n",
    "<br>\n",
    "\n",
    "#### **🔹 1. Определяем `mysum_simd()` с использованием SIMD**"
   ]
  },
  {
   "cell_type": "code",
   "execution_count": null,
   "metadata": {},
   "outputs": [],
   "source": [
    "function mysum_simd(A)\n",
    "    s = 0.0  # Можно использовать zero(eltype(A)) для универсальности\n",
    "    @simd for a in A\n",
    "        s += a\n",
    "    end\n",
    "    s\n",
    "end"
   ]
  },
  {
   "cell_type": "markdown",
   "metadata": {},
   "source": [
    "🔹 **Что делает этот код?**  \n",
    "\n",
    "- **SIMD-векторизация (`@simd`)**  \n",
    "  \n",
    "  - `@simd` позволяет компилятору **использовать векторные инструкции процессора** для обработки нескольких элементов одновременно.\n",
    "    \n",
    "  - Это даёт **ускорение на современных процессорах**, особенно при работе с большими массивами.  \n",
    "  \n",
    "- Та же логика, что и в `mysum(a)`, но теперь **компилятор может автоматически распараллелить сложение.  \n",
    "  \n",
    "📌 Этот метод аналогичен `numpy.sum(a)`, который тоже использует **SIMD**!"
   ]
  },
  {
   "cell_type": "markdown",
   "metadata": {},
   "source": [
    "#### **🔹 2. Бенчмаркинг `mysum_simd(a)`**"
   ]
  },
  {
   "cell_type": "code",
   "execution_count": null,
   "metadata": {},
   "outputs": [],
   "source": [
    "using BenchmarkTools\n",
    "j_bench_hand_simd = @benchmark mysum_simd($a)"
   ]
  },
  {
   "cell_type": "markdown",
   "metadata": {},
   "source": [
    "- **Измеряем скорость выполнения `mysum_simd(a)`**.\n",
    "  \n",
    "- **`$a`** предотвращает компиляторские оптимизации, обеспечивая более точные результаты."
   ]
  },
  {
   "cell_type": "markdown",
   "metadata": {},
   "source": [
    "#### **🔹 3. Проверяем результат вычисления**"
   ]
  },
  {
   "cell_type": "code",
   "execution_count": null,
   "metadata": {},
   "outputs": [],
   "source": [
    "mysum_simd(a)  # Проверяем, правильно ли работает функция"
   ]
  },
  {
   "cell_type": "markdown",
   "metadata": {},
   "source": [
    "- Результат должен совпадать с `sum(a)`, но работать быстрее!"
   ]
  },
  {
   "cell_type": "markdown",
   "metadata": {},
   "source": [
    "#### **🔹 4. Сохраняем результаты**"
   ]
  },
  {
   "cell_type": "code",
   "execution_count": null,
   "metadata": {},
   "outputs": [],
   "source": [
    "d[\"Julia hand-written simd\"] = minimum(j_bench_hand_simd.times) / 1e6  # Время в миллисекундах\n",
    "d"
   ]
  },
  {
   "cell_type": "markdown",
   "metadata": {},
   "source": [
    "- **Берём минимальное время выполнения** (`minimum(j_bench_hand_simd.times)`) и **переводим в миллисекунды** (`/ 1e6`). \n",
    "   \n",
    "- **Добавляем результат в `d`** для дальнейшего анализа.  "
   ]
  },
  {
   "cell_type": "markdown",
   "metadata": {},
   "source": [
    "##### **📊 Получили:**\n",
    "  \n",
    "✅ **SIMD** -оптимизированная `sum()` в Julia\n",
    "\n",
    "✅ Быстрее, чем обычный `mysum(a)`, благодаря **векторизации**  \n",
    "\n",
    "✅ Добавлена в список для сравнения с C, Python и `numpy.sum(a)`  \n",
    "\n",
    "🔥 **Далее — анализируем результаты и сравниваем все версии! 🚀**\n",
    "\n",
    "<br>\n",
    "\n",
    "---\n",
    "\n",
    "<br>"
   ]
  },
  {
   "cell_type": "markdown",
   "metadata": {},
   "source": [
    "### **3️⃣ Итоговое сравнение производительности различных реализаций `sum()`**  \n",
    "\n",
    "Теперь мы **подводим итоги** и выводим **отсортированный список всех тестов**.\n",
    "\n",
    "<br>\n",
    "\n",
    "##### **🔹 1. Код для вывода итоговой таблицы**"
   ]
  },
  {
   "cell_type": "code",
   "execution_count": null,
   "metadata": {},
   "outputs": [],
   "source": [
    "for (key, value) in sort(collect(d), by=last)\n",
    "    println(rpad(key, 25, \".\"), lpad(round(value; digits=1), 6, \".\"))\n",
    "end"
   ]
  },
  {
   "cell_type": "markdown",
   "metadata": {},
   "source": [
    "- `collect(d)` — превращает словарь `d` в список пар `(ключ, значение)`. \n",
    "   \n",
    "- `sort(..., by=last)` — сортирует результаты **по времени выполнения (по значениям)**.  \n",
    "  \n",
    "- `rpad(key, 25, \".\")` — **выравнивает названия тестов по левому краю**, заполняя пробелы точками `.`, чтобы было красиво.  \n",
    "  \n",
    "- `lpad(round(value; digits=1), 6, \".\")` — **выравнивает значения по правому краю**, округляя их до **одного знака после запятой**. \n",
    "   "
   ]
  },
  {
   "cell_type": "markdown",
   "metadata": {},
   "source": [
    "##### **🔹 2. Итоговые результаты**\n",
    "\n",
    "```plaintext\n",
    "C -ffast-math...............1.8\n",
    "Julia built-in..............1.9\n",
    "Python numpy................1.9\n",
    "Julia hand-written simd.....2.4\n",
    "C...........................9.4\n",
    "Julia hand-written..........9.4\n",
    "Python built-in...........875.8\n",
    "Python hand-written......1011.9\n",
    "```"
   ]
  },
  {
   "cell_type": "markdown",
   "metadata": {},
   "source": [
    "\n",
    "📊 **Анализируем результаты:**  \n",
    "\n",
    "1. **Самые быстрые версии** (≈ 1.8 - 2.4 мс):  \n",
    "   ✅ `C -ffast-math` (1.8 мс) → **лучший результат** благодаря агрессивным оптимизациям компилятора.\n",
    "\n",
    "   ✅ `Julia built-in` (1.9 мс) → **практически так же быстро**, как C с `-ffast-math`!  \n",
    "\n",
    "   ✅ `numpy.sum(a)` (1.9 мс) → **использует векторизацию и сопоставим с Julia**.  \n",
    "\n",
    "   ✅ `Julia hand-written SIMD` (2.4 мс) → **немного медленнее, но всё равно быстрее обычного C**.  \n",
    "\n",
    "\n",
    "2. **Средний уровень (≈ 9.4 мс):**  \n",
    "   - `C (обычный)` (9.4 мс) → **медленнее, чем Julia, потому что не использует векторизацию**.  \n",
    "  \n",
    "   - `Julia hand-written` (9.4 мс) → **без SIMD работает так же, как C**.  \n",
    "  \n",
    "\n",
    "3. **Самые медленные (Python, 875 - 1011 мс):**  \n",
    "   ❌ `Python built-in` (875.8 мс) → **встроенный `sum()` в Python очень медленный, так как работает без векторизации**. \n",
    " \n",
    "   ❌ `Python hand-written` (1011.9 мс) → **самый медленный вариант** — чистый `for`-цикл в Python.  \n"
   ]
  },
  {
   "cell_type": "markdown",
   "metadata": {},
   "source": [
    "#### **🚀 Выводы:**\n",
    "\n",
    "✅ **Julia встроенная `sum()` (1.9 мс) работает практически так же быстро, как C с `-ffast-math` (1.8 мс).**  \n",
    "\n",
    "✅ **Python `numpy.sum()` (1.9 мс) тоже показывает отличные результаты благодаря векторизации.**  \n",
    "\n",
    "✅ **SIMD в Julia (`mysum_simd`) ускоряет вычисления, но всё ещё медленнее встроенной `sum()`.**  \n",
    "\n",
    "✅ **Обычные `for`-циклы (C, Python, Julia) медленнее, чем векторизированные методы.**  \n",
    "\n",
    "❌ **Ручная реализация `sum()` в Python (`for`-цикл) в 500+ раз медленнее C и Julia.**  \n",
    "\n",
    "**📌 Вывод: Используйте `sum()` в Julia или `numpy.sum()` в Python для максимальной скорости!** 🚀🔥"
   ]
  }
 ],
 "metadata": {
  "anaconda-cloud": {},
  "kernelspec": {
   "display_name": "Julia 1.11.3",
   "language": "julia",
   "name": "julia-1.11"
  },
  "language_info": {
   "file_extension": ".jl",
   "mimetype": "application/julia",
   "name": "julia",
   "version": "1.11.3"
  },
  "toc": {
   "colors": {
    "hover_highlight": "#DAA520",
    "running_highlight": "#FF0000",
    "selected_highlight": "#FFD700"
   },
   "moveMenuLeft": true,
   "nav_menu": {
    "height": "212px",
    "width": "252px"
   },
   "navigate_menu": true,
   "number_sections": true,
   "sideBar": true,
   "threshold": "2",
   "toc_cell": false,
   "toc_section_display": "block",
   "toc_window_display": false
  }
 },
 "nbformat": 4,
 "nbformat_minor": 4
}
